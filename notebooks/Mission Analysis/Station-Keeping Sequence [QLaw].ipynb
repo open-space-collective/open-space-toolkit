{
 "cells": [
  {
   "cell_type": "code",
   "execution_count": null,
   "id": "c8c8d4ea-ef33-495c-ab1f-b7f1d8ebb6dd",
   "metadata": {},
   "outputs": [],
   "source": [
    "import plotly.express as px\n",
    "import pandas as pd\n",
    "import numpy as np\n",
    "\n",
    "from ostk.core.filesystem import Directory\n",
    "\n",
    "from ostk.mathematics.geometry.d3.objects import Cuboid\n",
    "from ostk.mathematics.geometry.d3.objects import Composite\n",
    "from ostk.mathematics.geometry.d3.objects import Point\n",
    "\n",
    "from ostk.physics import Environment\n",
    "from ostk.physics.coordinate import Frame\n",
    "from ostk.physics.environment.atmospheric import Earth as EarthAtmosphericModel\n",
    "from ostk.physics.environment.gravitational import Earth as EarthGravitationalModel\n",
    "from ostk.physics.environment.magnetic import Earth as EarthMagneticModel\n",
    "from ostk.physics.environment.objects.celestial_bodies import Earth, Moon, Sun\n",
    "from ostk.physics.time import DateTime, Duration, Instant, Scale, Time\n",
    "from ostk.physics.units import Mass, Length\n",
    "\n",
    "from ostk.astrodynamics.trajectory.state import NumericalSolver\n",
    "from ostk.astrodynamics.event_condition import RealCondition\n",
    "from ostk.astrodynamics.trajectory.orbit.models.brouwerLyddaneMean import (\n",
    "    BrouwerLyddaneMeanShort\n",
    ")\n",
    "from ostk.astrodynamics.trajectory import StateBuilder\n",
    "from ostk.astrodynamics.trajectory.state import CoordinatesBroker, CoordinatesSubset\n",
    "from ostk.astrodynamics.trajectory.state.coordinates_subset import CartesianPosition, CartesianVelocity\n",
    "from ostk.astrodynamics.trajectory.orbit.models.kepler import COE\n",
    "from ostk.astrodynamics.trajectory import Orbit, Sequence\n",
    "from ostk.astrodynamics import Dynamics\n",
    "from ostk.astrodynamics.dynamics import Thruster\n",
    "from ostk.astrodynamics.event_condition import LogicalCondition\n",
    "from ostk.astrodynamics.flight.system import SatelliteSystem, PropulsionSystem\n",
    "from ostk.astrodynamics.guidance_law import QLaw"
   ]
  },
  {
   "cell_type": "markdown",
   "id": "2f4df396-1dc4-483e-955a-05f10d9543e2",
   "metadata": {},
   "source": [
    "## User inputs"
   ]
  },
  {
   "cell_type": "code",
   "execution_count": null,
   "id": "6545f83d-de84-4012-8d6d-5946bf82b913",
   "metadata": {},
   "outputs": [],
   "source": [
    "earth = Earth.from_models(\n",
    "    EarthGravitationalModel(EarthGravitationalModel.Type.EGM96, Directory.undefined(), 20, 20),\n",
    "    EarthMagneticModel(EarthMagneticModel.Type.Undefined),\n",
    "    EarthAtmosphericModel(EarthAtmosphericModel.Type.NRLMSISE00),\n",
    ")\n",
    "\n",
    "environment = Environment(Instant.J2000(), [earth, Sun.default(), Moon.default()])"
   ]
  },
  {
   "cell_type": "code",
   "execution_count": null,
   "id": "eaa896ce-5b02-4d63-921b-c8f6b6492b8f",
   "metadata": {},
   "outputs": [],
   "source": [
    "instant = Instant.date_time(DateTime(2023,1,1), Scale.UTC)\n",
    "orbit = Orbit.sun_synchronous(instant, Length.kilometers(580.0), Time.midnight(), Earth.default())\n",
    "initial_state = orbit.get_state_at(instant)"
   ]
  },
  {
   "cell_type": "code",
   "execution_count": null,
   "id": "e26a8318-b59b-4527-b519-ab383772c0c1",
   "metadata": {},
   "outputs": [],
   "source": [
    "mass = Mass.kilograms(214.6)\n",
    "wet_mass = Mass.kilograms(14.3)\n",
    "propulsion_system = PropulsionSystem(thrust_si_unit=0.0141, specific_impulse_si_unit=1004.7)"
   ]
  },
  {
   "cell_type": "markdown",
   "id": "13c7130d-971a-4ac5-bd34-dcd4fe139f7d",
   "metadata": {},
   "source": [
    "## Setup environment, initial state and Satellite System"
   ]
  },
  {
   "cell_type": "code",
   "execution_count": null,
   "id": "6150b8eb-b12a-492f-bc83-65522efe3ecb",
   "metadata": {},
   "outputs": [],
   "source": [
    "satellite_geometry = Composite(Cuboid(\n",
    "    Point(0.0, 0.0, 0.0), np.eye(3).tolist(), [1.0, 0.0, 0.0]\n",
    "))\n",
    "satellite_system = SatelliteSystem(mass, satellite_geometry, np.eye(3), 2.0, 2.2, propulsion_system)"
   ]
  },
  {
   "cell_type": "code",
   "execution_count": null,
   "id": "3b9fdb60-7edf-4e8d-9eaa-af4d5b6f77b4",
   "metadata": {},
   "outputs": [],
   "source": [
    "coordinates_broker = CoordinatesBroker(\n",
    "    [\n",
    "        CartesianPosition.default(),\n",
    "        CartesianVelocity.default(),\n",
    "        CoordinatesSubset.mass(),\n",
    "        CoordinatesSubset.surface_area(),\n",
    "        CoordinatesSubset.drag_coefficient(),\n",
    "    ]\n",
    ")\n",
    "\n",
    "state_builder = StateBuilder(\n",
    "    frame=Frame.GCRF(),\n",
    "    coordinates_subsets=[\n",
    "        CartesianPosition.default(),\n",
    "        CartesianVelocity.default(),\n",
    "        CoordinatesSubset.mass(),\n",
    "        CoordinatesSubset.surface_area(),\n",
    "        CoordinatesSubset.drag_coefficient(),\n",
    "    ],\n",
    ")\n",
    "\n",
    "coordinates = [\n",
    "    *initial_state.get_coordinates().tolist(),\n",
    "    mass.in_kilograms() + wet_mass.in_kilograms(),\n",
    "    satellite_system.get_cross_sectional_surface_area(),\n",
    "    satellite_system.get_drag_coefficient()\n",
    "]\n",
    "\n",
    "initial_state = state_builder.build(initial_state.get_instant(), coordinates)"
   ]
  },
  {
   "cell_type": "code",
   "execution_count": null,
   "id": "c6988e73-9fc7-4c10-83d9-6f2a4c061f48",
   "metadata": {},
   "outputs": [],
   "source": [
    "dynamics = Dynamics.from_environment(environment)\n",
    "numerical_solver = NumericalSolver.default_conditional()"
   ]
  },
  {
   "cell_type": "markdown",
   "id": "b66360d9-cf9c-45a8-bc24-c6b4da3c71e6",
   "metadata": {},
   "source": [
    "### Sequence"
   ]
  },
  {
   "cell_type": "code",
   "execution_count": null,
   "id": "34cd2637-8d60-4b49-a1e1-bc844685f358",
   "metadata": {},
   "outputs": [],
   "source": [
    "initial_coe = orbit.access_kepler_model().get_classical_orbital_elements()\n",
    "target_coe = COE(\n",
    "    initial_coe.get_semi_major_axis() + Length.kilometers(3.0),\n",
    "    initial_coe.get_eccentricity(),\n",
    "    initial_coe.get_inclination(),\n",
    "    initial_coe.get_raan(),\n",
    "    initial_coe.get_aop(),\n",
    "    initial_coe.get_true_anomaly()\n",
    ")\n",
    "q_law = QLaw(\n",
    "    target_coe,\n",
    "    EarthGravitationalModel.EGM2008.gravitational_parameter,\n",
    "    QLaw.Parameters(\n",
    "        element_weights={\n",
    "            COE.Element.SemiMajorAxis: (1.0, 50.0),\n",
    "            COE.Element.Eccentricity: (1.0, 1e-4),\n",
    "        }\n",
    "    )\n",
    ")"
   ]
  },
  {
   "cell_type": "code",
   "execution_count": null,
   "id": "cc046f7e-c81f-4b58-9f04-4660e0a59de2",
   "metadata": {},
   "outputs": [],
   "source": [
    "sequence = Sequence(\n",
    "    numerical_solver=numerical_solver,\n",
    "    dynamics=dynamics,\n",
    "    maximum_propagation_duration=Duration.days(30.0),\n",
    "    verbosity=0\n",
    ")\n",
    "\n",
    "evaluator = lambda state: BrouwerLyddaneMeanShort.cartesian((state.get_position(), state.get_velocity()), EarthGravitationalModel.EGM2008.gravitational_parameter).get_semi_major_axis().in_meters()\n",
    "\n",
    "# burn till at 500.0\n",
    "sma_condition = RealCondition(\n",
    "    name=\"Mean SMA crossing - thrust\",\n",
    "    criterion=RealCondition.Criterion.StrictlyPositive,\n",
    "    evaluator=evaluator,\n",
    "    target_value=evaluator(initial_state) + 3000.0,\n",
    ")\n",
    "duration_condition = RealCondition.duration_condition(\n",
    "    criterion=RealCondition.Criterion.StrictlyPositive,\n",
    "    duration=initial_coe.get_orbital_period(EarthGravitationalModel.EGM2008.gravitational_parameter)/2.0\n",
    ")\n",
    "\n",
    "event_condition = LogicalCondition(\n",
    "    \"maneuver condition\",\n",
    "    LogicalCondition.Type.Or,\n",
    "    [sma_condition, duration_condition]\n",
    ")\n",
    "sequence.add_maneuver_segment(\n",
    "    event_condition,\n",
    "    Thruster(satellite_system, q_law)\n",
    ")\n",
    "\n",
    "# coast for 20.0 minutes\n",
    "coast_condition = RealCondition.duration_condition(\n",
    "    criterion=RealCondition.Criterion.StrictlyPositive,\n",
    "    duration=Duration.minutes(20.0),\n",
    ")\n",
    "sequence.add_coast_segment(coast_condition)"
   ]
  },
  {
   "cell_type": "code",
   "execution_count": null,
   "id": "f0e6f524-17f0-4d9f-8647-5c1ea596195b",
   "metadata": {},
   "outputs": [],
   "source": [
    "sol = sequence.solve_to_condition(initial_state, sma_condition)\n",
    "states = sol.get_states()"
   ]
  },
  {
   "cell_type": "code",
   "execution_count": null,
   "id": "0c49aab4-01f9-409e-8760-562394e849c6",
   "metadata": {},
   "outputs": [],
   "source": [
    "data = []\n",
    "for state in states:\n",
    "    blmshort = BrouwerLyddaneMeanShort.cartesian((state.get_position(), state.get_velocity()), earth.get_gravitational_parameter())\n",
    "    data.append(\n",
    "        {\n",
    "            \"altitude\": float(blmshort.get_semi_major_axis().in_kilometers() - earth.get_equatorial_radius().in_kilometers()),\n",
    "            \"mass\": float(state.get_coordinates()[6]),\n",
    "            \"eccentricity\": float(blmshort.get_eccentricity()),\n",
    "            \"periapsis\": float(blmshort.get_periapsis_radius()),\n",
    "            \"apoapsis\": float(blmshort.get_apoapsis_radius()),\n",
    "            \"time\": state.get_instant().get_date_time(Scale.UTC),\n",
    "            \"x\": state.get_coordinates()[0],\n",
    "            \"y\": state.get_coordinates()[1],\n",
    "            \"z\": state.get_coordinates()[2]\n",
    "        }\n",
    "    )\n",
    "df = pd.DataFrame(data)"
   ]
  },
  {
   "cell_type": "code",
   "execution_count": null,
   "id": "f660f04c-3884-4700-83fc-6ab7a34bfd94",
   "metadata": {
    "scrolled": true
   },
   "outputs": [],
   "source": [
    "fig = px.scatter(df, x=\"time\", y=\"altitude\", color=\"mass\", title=f\"Altitude [km] (initial, target) ({float(evaluator(initial_state) - earth.get_equatorial_radius().in_meters()) / 1000.0:.4f}, {float(sma_condition.get_target().value - earth.get_equatorial_radius().in_meters()) / 1000.0:.4f})\")\n",
    "for segment_solution in sol.segment_solutions:\n",
    "    time = segment_solution.states[-1].get_instant().get_date_time(Scale.UTC)\n",
    "    fig.add_vline(\n",
    "        x=time.isoformat()\n",
    "    )\n",
    "fig.show()"
   ]
  },
  {
   "cell_type": "code",
   "execution_count": null,
   "id": "622b66f7-8f56-47cc-bcb9-636ec19a101a",
   "metadata": {},
   "outputs": [],
   "source": [
    "fig = px.scatter(df, x=\"time\", y=\"eccentricity\", color=\"mass\", title=f\"Eccentricity\")\n",
    "for segment_solution in sol.segment_solutions:\n",
    "    time = segment_solution.states[-1].get_instant().get_date_time(Scale.UTC)\n",
    "    fig.add_vline(\n",
    "        x=time.isoformat()\n",
    "    )\n",
    "fig.show()"
   ]
  },
  {
   "cell_type": "code",
   "execution_count": null,
   "id": "ce28002c-9433-4fc4-8efe-5df8eee63db0",
   "metadata": {},
   "outputs": [],
   "source": [
    "px.scatter(df, x=\"periapsis\", y=\"apoapsis\", color=\"eccentricity\", title=\"Apoapsis vs Periapsis\")"
   ]
  }
 ],
 "metadata": {
  "kernelspec": {
   "display_name": "Python 3 (ipykernel)",
   "language": "python",
   "name": "python3"
  },
  "language_info": {
   "codemirror_mode": {
    "name": "ipython",
    "version": 3
   },
   "file_extension": ".py",
   "mimetype": "text/x-python",
   "name": "python",
   "nbconvert_exporter": "python",
   "pygments_lexer": "ipython3",
   "version": "3.11.3"
  }
 },
 "nbformat": 4,
 "nbformat_minor": 5
}
