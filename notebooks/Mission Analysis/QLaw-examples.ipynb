{
 "cells": [
  {
   "cell_type": "code",
   "execution_count": null,
   "id": "c8c8d4ea-ef33-495c-ab1f-b7f1d8ebb6dd",
   "metadata": {},
   "outputs": [],
   "source": [
    "import plotly.express as px\n",
    "import pandas as pd\n",
    "import numpy as np\n",
    "\n",
    "from ostk.mathematics.geometry.d3.objects import Cuboid\n",
    "from ostk.mathematics.geometry.d3.objects import Composite\n",
    "from ostk.mathematics.geometry.d3.objects import Point\n",
    "\n",
    "from ostk.physics import Environment\n",
    "from ostk.physics.coordinate import Frame\n",
    "from ostk.physics.environment.atmospheric import Earth as EarthAtmosphericModel\n",
    "from ostk.physics.environment.gravitational import Earth as EarthGravitationalModel\n",
    "from ostk.physics.environment.magnetic import Earth as EarthMagneticModel\n",
    "from ostk.physics.environment.objects.celestial_bodies import Earth\n",
    "from ostk.physics.time import DateTime, Duration, Instant, Scale, Time\n",
    "from ostk.physics.units import Mass, Length, Angle\n",
    "\n",
    "from ostk.astrodynamics.trajectory.state import NumericalSolver\n",
    "from ostk.astrodynamics.trajectory import StateBuilder, Propagator\n",
    "from ostk.astrodynamics.trajectory.state import CoordinatesSubset\n",
    "from ostk.astrodynamics.trajectory.state.coordinates_subset import CartesianPosition, CartesianVelocity\n",
    "from ostk.astrodynamics.trajectory import Orbit\n",
    "from ostk.astrodynamics import Dynamics\n",
    "from ostk.astrodynamics.dynamics import Thruster\n",
    "from ostk.astrodynamics.flight.system import SatelliteSystem, PropulsionSystem\n",
    "from ostk.astrodynamics.guidance_law import QLaw\n",
    "from ostk.astrodynamics.solvers import FiniteDifferenceSolver\n",
    "from ostk.astrodynamics.trajectory.orbit.models.kepler import COE"
   ]
  },
  {
   "cell_type": "markdown",
   "id": "2f4df396-1dc4-483e-955a-05f10d9543e2",
   "metadata": {},
   "source": [
    "## User inputs"
   ]
  },
  {
   "cell_type": "code",
   "execution_count": null,
   "id": "6545f83d-de84-4012-8d6d-5946bf82b913",
   "metadata": {},
   "outputs": [],
   "source": [
    "earth = Earth.from_models(\n",
    "    EarthGravitationalModel(EarthGravitationalModel.Type.Spherical),\n",
    "    EarthMagneticModel(EarthMagneticModel.Type.Undefined),\n",
    "    EarthAtmosphericModel(EarthAtmosphericModel.Type.Undefined),\n",
    ")\n",
    "\n",
    "environment = Environment(Instant.J2000(), [earth])"
   ]
  },
  {
   "cell_type": "code",
   "execution_count": null,
   "id": "e26a8318-b59b-4527-b519-ab383772c0c1",
   "metadata": {},
   "outputs": [],
   "source": [
    "mass = Mass.kilograms(200.0)\n",
    "wet_mass = Mass.kilograms(14.0)\n",
    "propulsion_system = PropulsionSystem(thrust_si_unit=14.3e-3, specific_impulse_si_unit=1016.0)"
   ]
  },
  {
   "cell_type": "markdown",
   "id": "13c7130d-971a-4ac5-bd34-dcd4fe139f7d",
   "metadata": {},
   "source": [
    "## Setup environment, initial state and Satellite System"
   ]
  },
  {
   "cell_type": "code",
   "execution_count": null,
   "id": "6150b8eb-b12a-492f-bc83-65522efe3ecb",
   "metadata": {},
   "outputs": [],
   "source": [
    "satellite_geometry = Composite(Cuboid(\n",
    "    Point(0.0, 0.0, 0.0), np.eye(3).tolist(), [1.0, 0.0, 0.0]\n",
    "))\n",
    "satellite_system = SatelliteSystem(mass, satellite_geometry, np.eye(3), 2.0, 2.2, propulsion_system)"
   ]
  },
  {
   "cell_type": "code",
   "execution_count": null,
   "id": "dc7f2306-44f8-444e-8dee-beb4eed16b97",
   "metadata": {},
   "outputs": [],
   "source": [
    "instant = Instant.date_time(DateTime(2024,10,1,0,0,0), Scale.UTC)\n",
    "orbit = Orbit.sun_synchronous(instant, Length.kilometers(585.0), Time(11, 0, 0), Earth.default())\n",
    "initial_state = orbit.get_state_at(instant)\n",
    "coe = COE.cartesian((initial_state.get_position(), initial_state.get_velocity()), EarthGravitationalModel.EGM2008.gravitational_parameter)"
   ]
  },
  {
   "cell_type": "code",
   "execution_count": null,
   "id": "3b9fdb60-7edf-4e8d-9eaa-af4d5b6f77b4",
   "metadata": {},
   "outputs": [],
   "source": [
    "state_builder = StateBuilder(\n",
    "    frame=Frame.GCRF(),\n",
    "    coordinates_subsets=[\n",
    "        CartesianPosition.default(),\n",
    "        CartesianVelocity.default(),\n",
    "        CoordinatesSubset.mass()\n",
    "    ],\n",
    ")\n",
    "\n",
    "coordinates = [\n",
    "    *initial_state.get_coordinates().tolist(),\n",
    "    mass.in_kilograms() + wet_mass.in_kilograms(),\n",
    "]\n",
    "\n",
    "propagation_state = state_builder.build(initial_state.get_instant(), coordinates)"
   ]
  },
  {
   "cell_type": "code",
   "execution_count": null,
   "id": "5ac926cc-faaa-40a1-80cc-a0f9bf08c570",
   "metadata": {},
   "outputs": [],
   "source": [
    "numerical_solver = NumericalSolver(NumericalSolver.LogType.NoLog, NumericalSolver.StepperType.RungeKutta4, 2.0, 1e-12, 1e-12)"
   ]
  },
  {
   "cell_type": "markdown",
   "id": "b66360d9-cf9c-45a8-bc24-c6b4da3c71e6",
   "metadata": {},
   "source": [
    "## SMA targeting"
   ]
  },
  {
   "cell_type": "code",
   "execution_count": null,
   "id": "92f27afc-a40f-400f-9cbf-42a29711655a",
   "metadata": {},
   "outputs": [],
   "source": [
    "# Increasing the COE target SMA as it's osculating\n",
    "target_coe = COE(\n",
    "    coe.get_semi_major_axis() + Length.kilometers(5.0),\n",
    "    coe.get_eccentricity(),\n",
    "    coe.get_inclination(),\n",
    "    coe.get_raan(),\n",
    "    coe.get_aop(),\n",
    "    coe.get_true_anomaly()\n",
    ")\n",
    "\n",
    "guidance_law = QLaw(\n",
    "    target_coe,\n",
    "    EarthGravitationalModel.EGM2008.gravitational_parameter,\n",
    "    QLaw.Parameters(\n",
    "        element_weights={COE.Element.SemiMajorAxis: (1.0, 50.0)},\n",
    "        m=3,\n",
    "        n=4,\n",
    "        r=2,\n",
    "        b=0.01,\n",
    "        k=100,\n",
    "        periapsis_weight=0.0,\n",
    "        minimum_periapsis_radius=Length.kilometers(6578.0),\n",
    "    ),\n",
    "    QLaw.GradientStrategy.Analytical\n",
    ")"
   ]
  },
  {
   "cell_type": "code",
   "execution_count": null,
   "id": "1cc204e3-1b4b-4b58-b93d-98e43549adc0",
   "metadata": {},
   "outputs": [],
   "source": [
    "dynamics = Dynamics.from_environment(environment) + [\n",
    "    Thruster(\n",
    "        satellite_system=satellite_system,\n",
    "        guidance_law=guidance_law,\n",
    "    )\n",
    "]\n",
    "propagator = Propagator(numerical_solver, dynamics)"
   ]
  },
  {
   "cell_type": "code",
   "execution_count": null,
   "id": "67e34a2c-8003-406a-bc7d-4812ee70a359",
   "metadata": {},
   "outputs": [],
   "source": [
    "end_state = propagator.calculate_state_at(propagation_state, propagation_state.get_instant() + Duration.hours(12.0))"
   ]
  },
  {
   "cell_type": "code",
   "execution_count": null,
   "id": "0c49aab4-01f9-409e-8760-562394e849c6",
   "metadata": {},
   "outputs": [],
   "source": [
    "data = []\n",
    "for state in propagator.access_numerical_solver().get_observed_states():\n",
    "    blmshort = COE.cartesian((state.get_position(), state.get_velocity()), earth.get_gravitational_parameter())\n",
    "    data.append(\n",
    "        {\n",
    "            \"mass\": float(state.get_coordinates()[6]),\n",
    "            \"semi-major axis\": float(blmshort.get_semi_major_axis().in_kilometers()),\n",
    "            \"time\": state.get_instant().get_date_time(Scale.UTC)\n",
    "        }\n",
    "    )\n",
    "\n",
    "df = pd.DataFrame(data)"
   ]
  },
  {
   "cell_type": "code",
   "execution_count": null,
   "id": "f660f04c-3884-4700-83fc-6ab7a34bfd94",
   "metadata": {
    "scrolled": true
   },
   "outputs": [],
   "source": [
    "fig = px.scatter(df, x=\"time\", y=\"semi-major axis\", color=\"mass\", title=f\"Semi-Major Axis (initial, target): ({float(coe.get_semi_major_axis().in_kilometers()):.2f}, {float(target_coe.get_semi_major_axis().in_kilometers()):.2f})\")\n",
    "fig.show()"
   ]
  },
  {
   "cell_type": "markdown",
   "id": "4cbd4b38-75c1-43e9-af6c-6d769d46f851",
   "metadata": {},
   "source": [
    "### Eccentricity targeting"
   ]
  },
  {
   "cell_type": "code",
   "execution_count": null,
   "id": "a7b1b595-9ec1-4a52-ac3f-fa6d71cdd7f1",
   "metadata": {},
   "outputs": [],
   "source": [
    "# Increasing the COE target SMA as it's osculating\n",
    "target_coe = COE(\n",
    "    coe.get_semi_major_axis(),\n",
    "    coe.get_eccentricity() + 1e-3,\n",
    "    coe.get_inclination(),\n",
    "    coe.get_raan(),\n",
    "    coe.get_aop(),\n",
    "    coe.get_true_anomaly()\n",
    ")\n",
    "guidance_law = QLaw(\n",
    "    target_coe,\n",
    "    EarthGravitationalModel.EGM2008.gravitational_parameter,\n",
    "    QLaw.Parameters(\n",
    "        element_weights={COE.Element.Eccentricity: (1.0, 1e-5)},\n",
    "        m=3,\n",
    "        n=4,\n",
    "        r=2,\n",
    "        k=100,\n",
    "        periapsis_weight=0.0,\n",
    "        minimum_periapsis_radius=Length.kilometers(6575.0),\n",
    "        b=0.01,\n",
    "    ),\n",
    "    QLaw.GradientStrategy.Analytical\n",
    ")"
   ]
  },
  {
   "cell_type": "code",
   "execution_count": null,
   "id": "b3c5a75f-8c58-4394-b950-3fe7f8d5d73b",
   "metadata": {},
   "outputs": [],
   "source": [
    "dynamics = Dynamics.from_environment(environment) + [\n",
    "    Thruster(\n",
    "        satellite_system=satellite_system,\n",
    "        guidance_law=guidance_law,\n",
    "    )\n",
    "]\n",
    "propagator = Propagator(numerical_solver, dynamics)"
   ]
  },
  {
   "cell_type": "code",
   "execution_count": null,
   "id": "e4629f75-625a-45ed-b0b9-88d532c57fc5",
   "metadata": {},
   "outputs": [],
   "source": [
    "end_state = propagator.calculate_state_at(propagation_state, propagation_state.get_instant() + Duration.days(1.0))"
   ]
  },
  {
   "cell_type": "code",
   "execution_count": null,
   "id": "3d75d63b-1344-4e43-928b-a21879c6a154",
   "metadata": {},
   "outputs": [],
   "source": [
    "data = []\n",
    "for state in propagator.access_numerical_solver().get_observed_states():\n",
    "    blmshort = COE.cartesian((state.get_position(), state.get_velocity()), earth.get_gravitational_parameter())\n",
    "    data.append(\n",
    "        {\n",
    "            \"mass\": float(state.get_coordinates()[6]),\n",
    "            \"eccentricity\": float(blmshort.get_eccentricity()),\n",
    "            \"time\": state.get_instant().get_date_time(Scale.UTC)\n",
    "        }\n",
    "    )\n",
    "\n",
    "df = pd.DataFrame(data)"
   ]
  },
  {
   "cell_type": "code",
   "execution_count": null,
   "id": "91eb7016-ebec-4c8a-99b2-b8a956604c3b",
   "metadata": {},
   "outputs": [],
   "source": [
    "fig = px.scatter(df, x=\"time\", y=\"eccentricity\", color=\"mass\", title=f\"Eccentricity (initial, target): ({float(coe.get_eccentricity()):.3f}, {float(target_coe.get_eccentricity()):.3f})\")\n",
    "fig.show()"
   ]
  },
  {
   "cell_type": "markdown",
   "id": "f2375236-2460-4426-84e6-88beabb13ab5",
   "metadata": {},
   "source": [
    "### Inclination targeting"
   ]
  },
  {
   "cell_type": "code",
   "execution_count": null,
   "id": "434c24bb-ebfc-4837-8e8a-f9fabe41b3ad",
   "metadata": {},
   "outputs": [],
   "source": [
    "# Increasing the COE target SMA as it's osculating\n",
    "target_coe = COE(\n",
    "    coe.get_semi_major_axis(),\n",
    "    coe.get_eccentricity(),\n",
    "    coe.get_inclination() + Angle.degrees(5e-2),\n",
    "    coe.get_raan(),\n",
    "    coe.get_aop(),\n",
    "    coe.get_true_anomaly()\n",
    ")\n",
    "guidance_law = QLaw(\n",
    "    target_coe,\n",
    "    EarthGravitationalModel.EGM2008.gravitational_parameter,\n",
    "    QLaw.Parameters(\n",
    "        element_weights={COE.Element.Inclination: (1.0, 1e-5)},\n",
    "        m=3,\n",
    "        n=4,\n",
    "        r=2,\n",
    "        k=100,\n",
    "        periapsis_weight=0.0,\n",
    "        minimum_periapsis_radius=Length.kilometers(6575.0),\n",
    "        b=0.01,\n",
    "    ),\n",
    "    QLaw.GradientStrategy.Analytical\n",
    ")"
   ]
  },
  {
   "cell_type": "code",
   "execution_count": null,
   "id": "c70736d3-1a97-4718-8af3-047ccb985a24",
   "metadata": {},
   "outputs": [],
   "source": [
    "dynamics = Dynamics.from_environment(environment) + [\n",
    "    Thruster(\n",
    "        satellite_system=satellite_system,\n",
    "        guidance_law=guidance_law,\n",
    "    )\n",
    "]\n",
    "propagator = Propagator(numerical_solver, dynamics)"
   ]
  },
  {
   "cell_type": "code",
   "execution_count": null,
   "id": "6a55d4d7-9e36-4dd5-a6d5-750adaf7eae3",
   "metadata": {},
   "outputs": [],
   "source": [
    "end_state = propagator.calculate_state_at(propagation_state, propagation_state.get_instant() + Duration.days(2.0))"
   ]
  },
  {
   "cell_type": "code",
   "execution_count": null,
   "id": "ba0e1a46-c40e-4fe6-8fda-69a3e39e4441",
   "metadata": {},
   "outputs": [],
   "source": [
    "data = []\n",
    "for state in propagator.access_numerical_solver().get_observed_states():\n",
    "    blmshort = COE.cartesian((state.get_position(), state.get_velocity()), earth.get_gravitational_parameter())\n",
    "    data.append(\n",
    "        {\n",
    "            \"mass\": float(state.get_coordinates()[6]),\n",
    "            \"inclination\": float(blmshort.get_inclination().in_degrees()),\n",
    "            \"time\": state.get_instant().get_date_time(Scale.UTC)\n",
    "        }\n",
    "    )\n",
    "\n",
    "df = pd.DataFrame(data)"
   ]
  },
  {
   "cell_type": "code",
   "execution_count": null,
   "id": "8180d392-aa73-4408-85fd-434e18757587",
   "metadata": {},
   "outputs": [],
   "source": [
    "fig = px.scatter(df, x=\"time\", y=\"inclination\", color=\"mass\", title=f\"Inclination (initial, target): ({float(coe.get_inclination().in_degrees()):.4f}, {float(target_coe.get_inclination().in_degrees()):.4f})\")\n",
    "fig.show()"
   ]
  },
  {
   "cell_type": "markdown",
   "id": "56fef3b4-48e6-4724-9df4-e1ae9ffce781",
   "metadata": {},
   "source": [
    "### Right Ascension of Ascending Node targeting"
   ]
  },
  {
   "cell_type": "code",
   "execution_count": null,
   "id": "4b50247c-b814-49f0-90a8-23bebfbaa726",
   "metadata": {},
   "outputs": [],
   "source": [
    "# Increasing the COE target SMA as it's osculating\n",
    "target_coe = COE(\n",
    "    coe.get_semi_major_axis(),\n",
    "    coe.get_eccentricity(),\n",
    "    coe.get_inclination(),\n",
    "    coe.get_raan() - Angle.degrees(1e-1),\n",
    "    coe.get_aop(),\n",
    "    coe.get_true_anomaly()\n",
    ")\n",
    "guidance_law = QLaw(\n",
    "    target_coe,\n",
    "    EarthGravitationalModel.EGM2008.gravitational_parameter,\n",
    "    QLaw.Parameters(\n",
    "        element_weights={COE.Element.Raan: (1.0, 1e-6)},\n",
    "        m=3,\n",
    "        n=4,\n",
    "        r=2,\n",
    "        k=100,\n",
    "        minimum_periapsis_radius=Length.kilometers(6575.0),\n",
    "        b=0.01,\n",
    "    ),\n",
    "    QLaw.GradientStrategy.Analytical\n",
    ")"
   ]
  },
  {
   "cell_type": "code",
   "execution_count": null,
   "id": "da03293c-4319-476e-a8b6-dd28802f9310",
   "metadata": {},
   "outputs": [],
   "source": [
    "dynamics = Dynamics.from_environment(environment) + [\n",
    "    Thruster(\n",
    "        satellite_system=satellite_system,\n",
    "        guidance_law=guidance_law,\n",
    "    )\n",
    "]\n",
    "propagator = Propagator(numerical_solver, dynamics)"
   ]
  },
  {
   "cell_type": "code",
   "execution_count": null,
   "id": "78c8cd41-4ac2-4d74-9eba-6a1ac4c3ca37",
   "metadata": {},
   "outputs": [],
   "source": [
    "end_state = propagator.calculate_state_at(propagation_state, propagation_state.get_instant() + Duration.days(4.0))"
   ]
  },
  {
   "cell_type": "code",
   "execution_count": null,
   "id": "5ff166ef-8bde-48e3-aa51-565dea0be3cf",
   "metadata": {},
   "outputs": [],
   "source": [
    "data = []\n",
    "for state in propagator.access_numerical_solver().get_observed_states():\n",
    "    blmshort = COE.cartesian((state.get_position(), state.get_velocity()), earth.get_gravitational_parameter())\n",
    "    data.append(\n",
    "        {\n",
    "            \"mass\": float(state.get_coordinates()[6]),\n",
    "            \"right ascension of ascending node\": float(blmshort.get_raan().in_degrees()),\n",
    "            \"time\": state.get_instant().get_date_time(Scale.UTC)\n",
    "        }\n",
    "    )\n",
    "\n",
    "df = pd.DataFrame(data)"
   ]
  },
  {
   "cell_type": "code",
   "execution_count": null,
   "id": "73de8819-0277-4e8b-9d91-dee662e1a677",
   "metadata": {},
   "outputs": [],
   "source": [
    "fig = px.scatter(df, x=\"time\", y=\"right ascension of ascending node\", color=\"mass\", title=f\"RAAN (initial, target): ({float(coe.get_raan().in_degrees()):.4f}, {float(target_coe.get_raan().in_degrees()):.4f})\")\n",
    "fig.show()"
   ]
  },
  {
   "cell_type": "markdown",
   "id": "91f8ffc8-f84b-4d69-be39-6b49fc441f87",
   "metadata": {},
   "source": [
    "## Multiple targets"
   ]
  },
  {
   "cell_type": "markdown",
   "id": "cffe387c-8195-49db-aa3f-8e6c6554025b",
   "metadata": {},
   "source": [
    "### SMA + Ecc"
   ]
  },
  {
   "cell_type": "code",
   "execution_count": null,
   "id": "d71d9ded-5995-45a9-a3f5-9f6f55989b63",
   "metadata": {},
   "outputs": [],
   "source": [
    "# Increasing the COE target SMA as it's osculating\n",
    "target_coe = COE(\n",
    "    coe.get_semi_major_axis() + Length.kilometers(5.0),\n",
    "    coe.get_eccentricity() + 0.001,\n",
    "    coe.get_inclination(),\n",
    "    coe.get_raan(),\n",
    "    coe.get_aop(),\n",
    "    coe.get_true_anomaly()\n",
    ")\n",
    "guidance_law = QLaw(\n",
    "    target_coe,\n",
    "    EarthGravitationalModel.EGM2008.gravitational_parameter,\n",
    "    QLawParameters(\n",
    "        element_weights={COE.Element.SemiMajorAxis: (1.0, 50.0), COE.Element.Eccentricity: (1.0, 1e-4)},\n",
    "        m=3,\n",
    "        n=4,\n",
    "        r=2,\n",
    "        k=100,\n",
    "        minimum_periapsis_radius=Length.kilometers(6575.0),\n",
    "        b=0.01,\n",
    "    ),\n",
    "    FiniteDifferenceSolver.default()\n",
    ")\n",
    "\n",
    "dynamics = Dynamics.from_environment(environment) + [\n",
    "    Thruster(\n",
    "        satellite_system=satellite_system,\n",
    "        guidance_law=guidance_law,\n",
    "    )\n",
    "]\n",
    "propagator = Propagator(numerical_solver, dynamics)"
   ]
  },
  {
   "cell_type": "code",
   "execution_count": null,
   "id": "9830c864-d458-4cc6-9e80-03869592eb69",
   "metadata": {},
   "outputs": [],
   "source": [
    "end_state = propagator.calculate_state_at(propagation_state, propagation_state.get_instant() + Duration.hours(5.0))"
   ]
  },
  {
   "cell_type": "code",
   "execution_count": null,
   "id": "9a536611-3980-43e2-9488-134581f95bb7",
   "metadata": {},
   "outputs": [],
   "source": [
    "data = []\n",
    "for state in propagator.access_numerical_solver().get_observed_states():\n",
    "    blmshort = COE.cartesian((state.get_position(), state.get_velocity()), earth.get_gravitational_parameter())\n",
    "    data.append(\n",
    "        {\n",
    "            \"mass\": float(state.get_coordinates()[6]),\n",
    "            \"semi-major axis\": float(blmshort.get_semi_major_axis().in_kilometers()),\n",
    "            \"eccentricity\": float(blmshort.get_eccentricity()),\n",
    "            \"time\": state.get_instant().get_date_time(Scale.UTC)\n",
    "        }\n",
    "    )\n",
    "\n",
    "df = pd.DataFrame(data)"
   ]
  },
  {
   "cell_type": "code",
   "execution_count": null,
   "id": "7a48f3e8-e174-4d03-8462-84546bc9c51f",
   "metadata": {},
   "outputs": [],
   "source": [
    "fig = px.scatter(df, x=\"time\", y=\"semi-major axis\", color=\"mass\", title=f\"SMA target: {target_coe.get_semi_major_axis().in_kilometers()}\")\n",
    "fig.show()"
   ]
  },
  {
   "cell_type": "code",
   "execution_count": null,
   "id": "e1070a01-631f-458d-8972-9284cbd267f6",
   "metadata": {},
   "outputs": [],
   "source": [
    "fig = px.scatter(df, x=\"time\", y=\"eccentricity\", color=\"mass\", title=f\"Eccentricity target: {target_coe.get_eccentricity()}\")\n",
    "fig.show()"
   ]
  },
  {
   "cell_type": "markdown",
   "id": "aac51c5a-a904-4113-a9d3-550a4acbc6d8",
   "metadata": {},
   "source": [
    "### Semi Major Axis + Inclination"
   ]
  },
  {
   "cell_type": "code",
   "execution_count": null,
   "id": "fedbc637-7535-4fe5-87cd-d67069d3db41",
   "metadata": {},
   "outputs": [],
   "source": [
    "# Increasing the COE target SMA as it's osculating\n",
    "target_coe = COE(\n",
    "    coe.get_semi_major_axis() + Length.kilometers(5.0),\n",
    "    coe.get_eccentricity(),\n",
    "    coe.get_inclination() + Angle.degrees(1e-1),\n",
    "    coe.get_raan(),\n",
    "    coe.get_aop(),\n",
    "    coe.get_true_anomaly()\n",
    ")\n",
    "guidance_law = QLaw(\n",
    "    target_coe,\n",
    "    EarthGravitationalModel.EGM2008.gravitational_parameter,\n",
    "    QLawParameters(\n",
    "        element_weights={COE.Element.SemiMajorAxis: (1.0, 50.0), COE.Element.Inclination: (1.0, 1e-5)},\n",
    "        m=3,\n",
    "        n=4,\n",
    "        r=2,\n",
    "        k=100,\n",
    "        minimum_periapsis_radius=Length.kilometers(6575.0),\n",
    "        b=0.01,\n",
    "    ),\n",
    "    FiniteDifferenceSolver.default()\n",
    ")\n",
    "\n",
    "dynamics = Dynamics.from_environment(environment) + [\n",
    "    Thruster(\n",
    "        satellite_system=satellite_system,\n",
    "        guidance_law=guidance_law,\n",
    "    )\n",
    "]\n",
    "propagator = Propagator(numerical_solver, dynamics)"
   ]
  },
  {
   "cell_type": "code",
   "execution_count": null,
   "id": "d99bdb94-56f9-4e51-8a72-1cae5da63b75",
   "metadata": {},
   "outputs": [],
   "source": [
    "end_state = propagator.calculate_state_at(propagation_state, propagation_state.get_instant() + Duration.hours(10.0))"
   ]
  },
  {
   "cell_type": "code",
   "execution_count": null,
   "id": "fae5a281-9596-4b89-b6ef-1e0136ad3845",
   "metadata": {},
   "outputs": [],
   "source": [
    "data = []\n",
    "for state in propagator.access_numerical_solver().get_observed_states():\n",
    "    blmshort = COE.cartesian((state.get_position(), state.get_velocity()), earth.get_gravitational_parameter())\n",
    "    data.append(\n",
    "        {\n",
    "            \"mass\": float(state.get_coordinates()[6]),\n",
    "            \"semi-major axis\": float(blmshort.get_semi_major_axis().in_kilometers()),\n",
    "            \"inclination\": float(blmshort.get_inclination().in_degrees()),\n",
    "            \"time\": state.get_instant().get_date_time(Scale.UTC)\n",
    "        }\n",
    "    )\n",
    "\n",
    "df = pd.DataFrame(data)"
   ]
  },
  {
   "cell_type": "code",
   "execution_count": null,
   "id": "f9af5898-2dc1-448e-b4a4-1a41eefe4930",
   "metadata": {},
   "outputs": [],
   "source": [
    "fig = px.scatter(df, x=\"time\", y=\"semi-major axis\", color=\"mass\", title=f\"SMA target: {target_coe.get_semi_major_axis().in_kilometers()}\")\n",
    "fig.show()"
   ]
  },
  {
   "cell_type": "code",
   "execution_count": null,
   "id": "172c645d-3f04-4352-ad51-9f3fbda7213a",
   "metadata": {},
   "outputs": [],
   "source": [
    "fig = px.scatter(df, x=\"time\", y=\"inclination\", color=\"mass\", title=f\"Inclination target: {target_coe.get_inclination().in_degrees()}\")\n",
    "fig.show()"
   ]
  },
  {
   "cell_type": "markdown",
   "id": "41e36e3e-802b-46dc-b727-a26596236ed8",
   "metadata": {},
   "source": [
    "### SMA + Ecc + Inclination"
   ]
  },
  {
   "cell_type": "code",
   "execution_count": null,
   "id": "885d9292-1f8e-4537-aa73-accef1dd4b5f",
   "metadata": {},
   "outputs": [],
   "source": [
    "target_coe = COE(\n",
    "    coe.get_semi_major_axis() + Length.kilometers(5.0),\n",
    "    coe.get_eccentricity() + 0.001,\n",
    "    coe.get_inclination() + Angle.degrees(1e-1),\n",
    "    coe.get_raan(),\n",
    "    coe.get_aop(),\n",
    "    coe.get_true_anomaly()\n",
    ")\n",
    "guidance_law = QLaw(\n",
    "    target_coe,\n",
    "    EarthGravitationalModel.EGM2008.gravitational_parameter,\n",
    "    QLawParameters(\n",
    "        element_weights={COE.Element.SemiMajorAxis: (1.0, 50.0), COE.Element.Eccentricity: (1.0, 1e-5), COE.Element.Inclination: (1.0, 1e-5)},\n",
    "        m=3,\n",
    "        n=4,\n",
    "        r=2,\n",
    "        k=100,\n",
    "        minimum_periapsis_radius=Length.kilometers(6575.0),\n",
    "        b=0.01,\n",
    "    ),\n",
    "    FiniteDifferenceSolver.default(),\n",
    ")\n",
    "\n",
    "dynamics = Dynamics.from_environment(environment) + [\n",
    "    Thruster(\n",
    "        satellite_system=satellite_system,\n",
    "        guidance_law=guidance_law,\n",
    "    )\n",
    "]\n",
    "propagator = Propagator(numerical_solver, dynamics)"
   ]
  },
  {
   "cell_type": "code",
   "execution_count": null,
   "id": "db2be6b8-7a88-461c-a520-a9ac19716ade",
   "metadata": {},
   "outputs": [],
   "source": [
    "end_state = propagator.calculate_state_at(propagation_state, propagation_state.get_instant() + Duration.hours(10.0))"
   ]
  },
  {
   "cell_type": "code",
   "execution_count": null,
   "id": "98b9c11d-24d1-4516-b674-3e9f85376f62",
   "metadata": {},
   "outputs": [],
   "source": [
    "data = []\n",
    "for state in propagator.access_numerical_solver().get_observed_states():\n",
    "    blmshort = COE.cartesian((state.get_position(), state.get_velocity()), earth.get_gravitational_parameter())\n",
    "    data.append(\n",
    "        {\n",
    "            \"mass\": float(state.get_coordinates()[6]),\n",
    "            \"semi-major axis\": float(blmshort.get_semi_major_axis().in_kilometers()),\n",
    "            \"eccentricity\": float(blmshort.get_eccentricity()),\n",
    "            \"inclination\": float(blmshort.get_inclination().in_degrees()),\n",
    "            \"time\": state.get_instant().get_date_time(Scale.UTC)\n",
    "        }\n",
    "    )\n",
    "\n",
    "df = pd.DataFrame(data)"
   ]
  },
  {
   "cell_type": "code",
   "execution_count": null,
   "id": "278c1c7f-418c-423e-bc8a-90fb10f6adad",
   "metadata": {},
   "outputs": [],
   "source": [
    "fig = px.scatter(df, x=\"time\", y=\"semi-major axis\", color=\"mass\", title=f\"SMA target: {target_coe.get_semi_major_axis().in_kilometers()}\")\n",
    "fig.show()"
   ]
  },
  {
   "cell_type": "code",
   "execution_count": null,
   "id": "d5ae63e8-bc9b-4c2f-9b0e-c4fb9c6c67eb",
   "metadata": {},
   "outputs": [],
   "source": [
    "fig = px.scatter(df, x=\"time\", y=\"eccentricity\", color=\"mass\", title=f\"Eccentricity target: {target_coe.get_eccentricity()}\")\n",
    "fig.show()"
   ]
  },
  {
   "cell_type": "code",
   "execution_count": null,
   "id": "9532454a-ad16-4438-89d4-b4236ad5f173",
   "metadata": {},
   "outputs": [],
   "source": [
    "fig = px.scatter(df, x=\"time\", y=\"inclination\", color=\"mass\", title=f\"Inclination target: {target_coe.get_inclination().in_degrees()}\")\n",
    "fig.show()"
   ]
  },
  {
   "cell_type": "markdown",
   "id": "5d547106-057c-4826-87b4-12841fad5482",
   "metadata": {},
   "source": [
    "### SMA + Ecc + Inc + Raan targeting"
   ]
  },
  {
   "cell_type": "code",
   "execution_count": null,
   "id": "545f0e54-7bec-4501-8c77-8276984baccd",
   "metadata": {},
   "outputs": [],
   "source": [
    "target_coe = COE(\n",
    "    coe.get_semi_major_axis() + Length.kilometers(5.0),\n",
    "    coe.get_eccentricity() + 0.001,\n",
    "    coe.get_inclination() + Angle.degrees(1e-1),\n",
    "    coe.get_raan() - Angle.degrees(1.0),\n",
    "    coe.get_aop(),\n",
    "    coe.get_true_anomaly()\n",
    ")\n",
    "guidance_law = QLaw(\n",
    "    target_coe,\n",
    "    EarthGravitationalModel.EGM2008.gravitational_parameter,\n",
    "    QLawParameters(\n",
    "        element_weights={\n",
    "            COE.Element.SemiMajorAxis: (1.0, 50.0),\n",
    "            COE.Element.Eccentricity: (1.0, 1e-5),\n",
    "            COE.Element.Inclination: (1.0, 1e-5),\n",
    "            COE.Element.Raan: (1.0, 1e-5)\n",
    "        },\n",
    "        m=3,\n",
    "        n=4,\n",
    "        r=2,\n",
    "        k=100,\n",
    "        minimum_periapsis_radius=Length.kilometers(6575.0),\n",
    "        b=0.01,\n",
    "    ),\n",
    "    FiniteDifferenceSolver.default()\n",
    ")\n",
    "\n",
    "dynamics = Dynamics.from_environment(environment) + [\n",
    "    Thruster(\n",
    "        satellite_system=satellite_system,\n",
    "        guidance_law=guidance_law,\n",
    "    )\n",
    "]\n",
    "propagator = Propagator(numerical_solver, dynamics)"
   ]
  },
  {
   "cell_type": "code",
   "execution_count": null,
   "id": "4a638e4b-1301-4f95-92e3-c0348638b1e6",
   "metadata": {},
   "outputs": [],
   "source": [
    "end_state = propagator.calculate_state_at(propagation_state, propagation_state.get_instant() + Duration.hours(20.0))"
   ]
  },
  {
   "cell_type": "code",
   "execution_count": null,
   "id": "1075945d-76d1-4f20-8826-44f4cbef7b1f",
   "metadata": {},
   "outputs": [],
   "source": [
    "data = []\n",
    "for state in propagator.access_numerical_solver().get_observed_states():\n",
    "    blmshort = COE.cartesian((state.get_position(), state.get_velocity()), earth.get_gravitational_parameter())\n",
    "    data.append(\n",
    "        {\n",
    "            \"mass\": float(state.get_coordinates()[6]),\n",
    "            \"semi-major axis\": float(blmshort.get_semi_major_axis().in_kilometers()),\n",
    "            \"eccentricity\": float(blmshort.get_eccentricity()),\n",
    "            \"inclination\": float(blmshort.get_inclination().in_degrees()),\n",
    "            \"right ascension of ascending node\": float(blmshort.get_raan().in_degrees()),\n",
    "            \"time\": state.get_instant().get_date_time(Scale.UTC)\n",
    "        }\n",
    "    )\n",
    "\n",
    "df = pd.DataFrame(data)"
   ]
  },
  {
   "cell_type": "code",
   "execution_count": null,
   "id": "fe12228b-4c11-4105-b00f-8c0eb3329c47",
   "metadata": {},
   "outputs": [],
   "source": [
    "fig = px.scatter(df, x=\"time\", y=\"semi-major axis\", color=\"mass\", title=f\"SMA target: {target_coe.get_semi_major_axis().in_kilometers()}\")\n",
    "fig.show()"
   ]
  },
  {
   "cell_type": "code",
   "execution_count": null,
   "id": "8c631b6e-e133-4607-aba2-40a17fa6da6e",
   "metadata": {},
   "outputs": [],
   "source": [
    "fig = px.scatter(df, x=\"time\", y=\"eccentricity\", color=\"mass\", title=f\"Eccentricity target: {target_coe.get_eccentricity()}\")\n",
    "fig.show()"
   ]
  },
  {
   "cell_type": "code",
   "execution_count": null,
   "id": "4f455004-d2ba-40c9-ab20-ec8ea1872597",
   "metadata": {},
   "outputs": [],
   "source": [
    "fig = px.scatter(df, x=\"time\", y=\"inclination\", color=\"mass\", title=f\"Inclination target: {target_coe.get_inclination().in_degrees()}\")\n",
    "fig.show()"
   ]
  },
  {
   "cell_type": "code",
   "execution_count": null,
   "id": "da7ed249-3733-42fb-80b0-0b1c0c63d196",
   "metadata": {},
   "outputs": [],
   "source": [
    "fig = px.scatter(df, x=\"time\", y=\"right ascension of ascending node\", color=\"mass\", title=f\"RAAN target: {target_coe.get_raan().in_degrees()}\")\n",
    "fig.show()"
   ]
  },
  {
   "cell_type": "code",
   "execution_count": null,
   "id": "33fa072b-81f8-4c84-b1fc-efce31f8f676",
   "metadata": {},
   "outputs": [],
   "source": []
  }
 ],
 "metadata": {
  "kernelspec": {
   "display_name": "Python 3 (ipykernel)",
   "language": "python",
   "name": "python3"
  },
  "language_info": {
   "codemirror_mode": {
    "name": "ipython",
    "version": 3
   },
   "file_extension": ".py",
   "mimetype": "text/x-python",
   "name": "python",
   "nbconvert_exporter": "python",
   "pygments_lexer": "ipython3",
   "version": "3.11.3"
  }
 },
 "nbformat": 4,
 "nbformat_minor": 5
}
