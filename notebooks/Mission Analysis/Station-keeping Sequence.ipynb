{
 "cells": [
  {
   "cell_type": "markdown",
   "id": "f3e47633-cb59-42f7-96b7-9c2f8d857cf9",
   "metadata": {},
   "source": [
    "# Station-keeping Sequence"
   ]
  },
  {
   "cell_type": "code",
   "execution_count": null,
   "id": "c8c8d4ea-ef33-495c-ab1f-b7f1d8ebb6dd",
   "metadata": {},
   "outputs": [],
   "source": [
    "import plotly.express as px\n",
    "import pandas as pd\n",
    "import numpy as np\n",
    "\n",
    "from ostk.core.filesystem import Directory\n",
    "\n",
    "from ostk.mathematics.geometry.d3.objects import Cuboid\n",
    "from ostk.mathematics.geometry.d3.objects import Composite\n",
    "from ostk.mathematics.geometry.d3.objects import Point\n",
    "\n",
    "from ostk.physics import Environment\n",
    "from ostk.physics.coordinate import Frame\n",
    "from ostk.physics.environment.atmospheric import Earth as EarthAtmosphericModel\n",
    "from ostk.physics.environment.gravitational import Earth as EarthGravitationalModel\n",
    "from ostk.physics.environment.magnetic import Earth as EarthMagneticModel\n",
    "from ostk.physics.environment.objects.celestial_bodies import Earth, Moon, Sun\n",
    "from ostk.physics.time import DateTime, Duration, Instant, Scale, Time, Interval\n",
    "from ostk.physics.units import Mass, Length\n",
    "\n",
    "from ostk.astrodynamics.trajectory.state import NumericalSolver\n",
    "from ostk.astrodynamics.event_condition import RealCondition\n",
    "from ostk.astrodynamics.trajectory.orbit.models.brouwerLyddaneMean import (\n",
    "    BrouwerLyddaneMeanShort\n",
    ")\n",
    "from ostk.astrodynamics.trajectory import StateBuilder\n",
    "from ostk.astrodynamics.trajectory.state import CoordinatesBroker, CoordinatesSubset\n",
    "from ostk.astrodynamics.trajectory.state.coordinates_subset import CartesianPosition, CartesianVelocity\n",
    "from ostk.astrodynamics.trajectory import Orbit, State, Sequence\n",
    "from ostk.astrodynamics import Dynamics\n",
    "from ostk.astrodynamics.flight.system import SatelliteSystem, PropulsionSystem\n",
    "from ostk.astrodynamics.dynamics.thruster import ConstantThrust\n",
    "from ostk.astrodynamics.trajectory.orbit.models import Tabulated"
   ]
  },
  {
   "cell_type": "markdown",
   "id": "2f4df396-1dc4-483e-955a-05f10d9543e2",
   "metadata": {},
   "source": [
    "## User inputs"
   ]
  },
  {
   "cell_type": "markdown",
   "id": "e82c9ec6-c706-4da4-bf33-7037334e8e49",
   "metadata": {},
   "source": [
    "Setup environment"
   ]
  },
  {
   "cell_type": "code",
   "execution_count": null,
   "id": "6545f83d-de84-4012-8d6d-5946bf82b913",
   "metadata": {},
   "outputs": [],
   "source": [
    "earth = Earth.from_models(\n",
    "    EarthGravitationalModel(EarthGravitationalModel.Type.EGM96, Directory.undefined(), 20, 20),\n",
    "    EarthMagneticModel(EarthMagneticModel.Type.Undefined),\n",
    "    EarthAtmosphericModel(EarthAtmosphericModel.Type.Exponential),\n",
    ")\n",
    "\n",
    "environment = Environment(Instant.J2000(), [earth])"
   ]
  },
  {
   "cell_type": "markdown",
   "id": "6b574cf0-9550-4da9-8dce-17d689383ddf",
   "metadata": {},
   "source": [
    "Initial state"
   ]
  },
  {
   "cell_type": "code",
   "execution_count": null,
   "id": "eaa896ce-5b02-4d63-921b-c8f6b6492b8f",
   "metadata": {},
   "outputs": [],
   "source": [
    "instant = Instant.date_time(DateTime(2023,1,1), Scale.UTC)\n",
    "initial_state = Orbit.sun_synchronous(instant, Length.kilometers(505.0), Time.midnight(), Earth.default()).get_state_at(instant)"
   ]
  },
  {
   "cell_type": "code",
   "execution_count": null,
   "id": "e26a8318-b59b-4527-b519-ab383772c0c1",
   "metadata": {},
   "outputs": [],
   "source": [
    "dry_mass = Mass.kilograms(100.0)\n",
    "wet_mass = Mass.kilograms(10.0)\n",
    "\n",
    "propulsion_system = PropulsionSystem(thrust_si_unit=1e-1, specific_impulse_si_unit=3000.0)"
   ]
  },
  {
   "cell_type": "markdown",
   "id": "13c7130d-971a-4ac5-bd34-dcd4fe139f7d",
   "metadata": {},
   "source": [
    "## Setup Dynamics, initial state and Satellite System"
   ]
  },
  {
   "cell_type": "code",
   "execution_count": null,
   "id": "6150b8eb-b12a-492f-bc83-65522efe3ecb",
   "metadata": {},
   "outputs": [],
   "source": [
    "satellite_geometry = Composite(Cuboid(\n",
    "    Point(0.0, 0.0, 0.0), np.eye(3).tolist(), [1.0, 0.0, 0.0]\n",
    "))\n",
    "\n",
    "satellite_system = SatelliteSystem(dry_mass, satellite_geometry, np.eye(3), 500.0, 2.2, propulsion_system)"
   ]
  },
  {
   "cell_type": "code",
   "execution_count": null,
   "id": "3b9fdb60-7edf-4e8d-9eaa-af4d5b6f77b4",
   "metadata": {},
   "outputs": [],
   "source": [
    "state_builder = StateBuilder(\n",
    "    frame=Frame.GCRF(),\n",
    "    coordinates_subsets=[\n",
    "        CartesianPosition.default(),\n",
    "        CartesianVelocity.default(),\n",
    "        CoordinatesSubset.mass(),\n",
    "        CoordinatesSubset.surface_area(),\n",
    "        CoordinatesSubset.drag_coefficient(),\n",
    "    ],\n",
    ")\n",
    "\n",
    "coordinates = [\n",
    "    *initial_state.get_coordinates().tolist(),\n",
    "    dry_mass.in_kilograms() + wet_mass.in_kilograms(),\n",
    "    satellite_system.get_cross_sectional_surface_area(),\n",
    "    satellite_system.get_drag_coefficient()\n",
    "]\n",
    "\n",
    "state = state_builder.build(initial_state.get_instant(), coordinates)"
   ]
  },
  {
   "cell_type": "code",
   "execution_count": null,
   "id": "c6988e73-9fc7-4c10-83d9-6f2a4c061f48",
   "metadata": {},
   "outputs": [],
   "source": [
    "dynamics = Dynamics.from_environment(environment)\n",
    "numerical_solver = NumericalSolver.default_conditional()"
   ]
  },
  {
   "cell_type": "markdown",
   "id": "b66360d9-cf9c-45a8-bc24-c6b4da3c71e6",
   "metadata": {},
   "source": [
    "### Sequence"
   ]
  },
  {
   "cell_type": "code",
   "execution_count": null,
   "id": "cc046f7e-c81f-4b58-9f04-4660e0a59de2",
   "metadata": {},
   "outputs": [],
   "source": [
    "sequence = Sequence(\n",
    "    repetition_count=2,\n",
    "    numerical_solver=numerical_solver,\n",
    "    dynamics=dynamics,\n",
    "    maximum_propagation_duration=Duration.days(30.0),\n",
    "    verbosity=5\n",
    ")\n",
    "\n",
    "evaluator = lambda state: BrouwerLyddaneMeanShort.cartesian((state.get_position(), state.get_velocity()), EarthGravitationalModel.EGM2008.gravitational_parameter).get_semi_major_axis().in_meters()\n",
    "\n",
    "# coast till under 495.0\n",
    "coast_condition = RealCondition(\n",
    "    name=\"Mean SMA crossing - coast\",\n",
    "    criterion=RealCondition.Criterion.StrictlyNegative,\n",
    "    evaluator=evaluator,\n",
    "    target=EarthGravitationalModel.EGM2008.equatorial_radius.in_meters() + 495.0e3,\n",
    ")\n",
    "sequence.add_coast_segment(coast_condition)\n",
    "\n",
    "# burn till at 500.0\n",
    "thrust_condition = RealCondition(\n",
    "    name=\"Mean SMA crossing - thrust\",\n",
    "    criterion=RealCondition.Criterion.StrictlyPositive,\n",
    "    evaluator=evaluator,\n",
    "    target=EarthGravitationalModel.EGM2008.equatorial_radius.in_meters() + 500.0e3,\n",
    ")\n",
    "sequence.add_maneuver_segment(\n",
    "    event_condition=thrust_condition,\n",
    "    thruster_dynamics=ConstantThrust.intrack(satellite_system),\n",
    ")"
   ]
  },
  {
   "cell_type": "code",
   "execution_count": null,
   "id": "f0e6f524-17f0-4d9f-8647-5c1ea596195b",
   "metadata": {},
   "outputs": [],
   "source": [
    "sol = sequence.solve(state)\n",
    "states = sol.get_states()"
   ]
  },
  {
   "cell_type": "code",
   "execution_count": null,
   "id": "42304f06-e309-4648-a9d5-b33390baf1c0",
   "metadata": {},
   "outputs": [],
   "source": [
    "model = Tabulated(states, 0, Tabulated.InterpolationType.BarycentricRational)"
   ]
  },
  {
   "cell_type": "code",
   "execution_count": null,
   "id": "a974bcc0-a5c0-461b-b93e-67e9e681c506",
   "metadata": {},
   "outputs": [],
   "source": [
    "orbit = Orbit(model, environment.access_celestial_object_with_name(\"Earth\"))"
   ]
  },
  {
   "cell_type": "code",
   "execution_count": null,
   "id": "b6641d94-c31c-43ff-9191-db2ac26584b0",
   "metadata": {},
   "outputs": [],
   "source": [
    "interval = Interval.closed(states[0].get_instant(), states[-1].get_instant())\n",
    "interpolated_states = orbit.get_states_at(interval.generate_grid(Duration.seconds(20.0)))"
   ]
  },
  {
   "cell_type": "code",
   "execution_count": null,
   "id": "0c49aab4-01f9-409e-8760-562394e849c6",
   "metadata": {},
   "outputs": [],
   "source": [
    "data = []\n",
    "for state in interpolated_states:\n",
    "    blmshort = BrouwerLyddaneMeanShort.cartesian((state.get_position(), state.get_velocity()), earth.get_gravitational_parameter())\n",
    "    data.append(\n",
    "        {\n",
    "            \"altitude\": float(blmshort.get_semi_major_axis().in_kilometers() - earth.get_equatorial_radius().in_kilometers()),\n",
    "            \"mass\": float(state.get_coordinates()[6]),\n",
    "            \"time\": state.get_instant().get_date_time(Scale.UTC)\n",
    "        }\n",
    "    )\n",
    "    "
   ]
  },
  {
   "cell_type": "code",
   "execution_count": null,
   "id": "a570b73e-a36e-4269-ae12-471eab1418af",
   "metadata": {},
   "outputs": [],
   "source": [
    "df = pd.DataFrame(data)"
   ]
  },
  {
   "cell_type": "code",
   "execution_count": null,
   "id": "f660f04c-3884-4700-83fc-6ab7a34bfd94",
   "metadata": {},
   "outputs": [],
   "source": [
    "fig = px.scatter(df, x=\"time\", y=\"altitude\", color=\"mass\")\n",
    "for segment_solution in sol.segment_solutions:\n",
    "    time = segment_solution.states[-1].get_instant().get_date_time(Scale.UTC)\n",
    "    fig.add_vline(\n",
    "        x=time.isoformat()\n",
    "    )\n",
    "fig.show()"
   ]
  },
  {
   "cell_type": "code",
   "execution_count": null,
   "id": "c09c9190-ae80-4a18-a983-72b3fbd1392a",
   "metadata": {},
   "outputs": [],
   "source": [
    "fig2 = px.line(df, x=\"time\", y=\"mass\")\n",
    "for segment_solution in sol.segment_solutions:\n",
    "    time = segment_solution.states[-1].get_instant().get_date_time(Scale.UTC)\n",
    "    fig2.add_vline(\n",
    "        x=time.isoformat()\n",
    "    )\n",
    "fig2.show()"
   ]
  }
 ],
 "metadata": {
  "kernelspec": {
   "display_name": "Python 3 (ipykernel)",
   "language": "python",
   "name": "python3"
  },
  "language_info": {
   "codemirror_mode": {
    "name": "ipython",
    "version": 3
   },
   "file_extension": ".py",
   "mimetype": "text/x-python",
   "name": "python",
   "nbconvert_exporter": "python",
   "pygments_lexer": "ipython3",
   "version": "3.11.6"
  }
 },
 "nbformat": 4,
 "nbformat_minor": 5
}
