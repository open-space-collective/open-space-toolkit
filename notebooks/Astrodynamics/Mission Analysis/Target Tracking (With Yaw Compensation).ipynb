{
 "cells": [
  {
   "cell_type": "markdown",
   "metadata": {},
   "source": [
    "# Target Tracking (With Yaw Compensation)"
   ]
  },
  {
   "cell_type": "markdown",
   "metadata": {},
   "source": [
    "This tutorial demonstrates how to generate a target tracking profile, aligning with the target velocity direction"
   ]
  },
  {
   "cell_type": "markdown",
   "metadata": {},
   "source": [
    "## Setup"
   ]
  },
  {
   "cell_type": "code",
   "execution_count": 18,
   "metadata": {},
   "outputs": [],
   "source": [
    "import os\n",
    "import math\n",
    "import cesiumpy\n",
    "\n",
    "import numpy as np\n",
    "\n",
    "import pandas as pd\n",
    "\n",
    "import plotly.express as px\n",
    "\n",
    "from ostk.mathematics.object import RealInterval\n",
    "from ostk.mathematics.geometry import Angle as MathAngle\n",
    "from ostk.mathematics.geometry.d3.transformation.rotation import Quaternion\n",
    "from ostk.mathematics.geometry.d3.transformation.rotation import EulerAngle\n",
    "\n",
    "from ostk.physics import Environment\n",
    "from ostk.physics.unit import Length\n",
    "from ostk.physics.unit import Angle\n",
    "from ostk.physics.time import Scale\n",
    "from ostk.physics.time import Instant\n",
    "from ostk.physics.time import Duration\n",
    "from ostk.physics.time import Interval\n",
    "from ostk.physics.time import DateTime\n",
    "from ostk.physics.time import Time\n",
    "from ostk.physics.coordinate import Frame\n",
    "from ostk.physics.coordinate import Position\n",
    "from ostk.physics.coordinate import Transform\n",
    "from ostk.physics.coordinate.spherical import LLA\n",
    "from ostk.physics.coordinate.frame.provider import Dynamic as DynamicFrameProvider\n",
    "\n",
    "from ostk.astrodynamics import Trajectory\n",
    "from ostk.astrodynamics.trajectory import Orbit\n",
    "from ostk.astrodynamics.flight import Profile\n",
    "from ostk.astrodynamics.access import Generator as AccessGenerator\n",
    "from ostk.astrodynamics.access import AccessTarget\n",
    "from ostk.astrodynamics.access import VisibilityCriterion\n",
    "from ostk.astrodynamics.viewer import Viewer\n",
    "from ostk.astrodynamics.viewer import ConicSensor"
   ]
  },
  {
   "cell_type": "markdown",
   "metadata": {},
   "source": [
    "---"
   ]
  },
  {
   "cell_type": "markdown",
   "metadata": {},
   "source": [
    "## Computation"
   ]
  },
  {
   "cell_type": "markdown",
   "metadata": {},
   "source": [
    "Initialize an environment:"
   ]
  },
  {
   "cell_type": "code",
   "execution_count": 19,
   "metadata": {},
   "outputs": [],
   "source": [
    "environment = Environment.default(True)\n",
    "earth = environment.access_celestial_object_with_name(\"Earth\")"
   ]
  },
  {
   "cell_type": "markdown",
   "metadata": {},
   "source": [
    "Construct an orbit:"
   ]
  },
  {
   "cell_type": "code",
   "execution_count": 20,
   "metadata": {},
   "outputs": [],
   "source": [
    "orbit = Orbit.sun_synchronous(\n",
    "    epoch=Instant.date_time(DateTime(2024, 1, 1, 0, 0, 0), Scale.UTC),\n",
    "    altitude=Length.kilometers(550.0),\n",
    "    local_time_at_descending_node=Time(14, 30, 0),\n",
    "    celestial_object=earth,\n",
    ")"
   ]
  },
  {
   "cell_type": "markdown",
   "metadata": {},
   "source": [
    "Define an interval of interest:"
   ]
  },
  {
   "cell_type": "code",
   "execution_count": 21,
   "metadata": {},
   "outputs": [],
   "source": [
    "interval = Interval.closed(\n",
    "    start_instant=Instant.date_time(DateTime(2024, 2, 9, 0, 0, 0), Scale.UTC),\n",
    "    end_instant=Instant.date_time(DateTime(2024, 2, 10, 0, 0, 0), Scale.UTC),\n",
    ")"
   ]
  },
  {
   "cell_type": "markdown",
   "metadata": {},
   "source": [
    "Define the coordinates of the target to track:"
   ]
  },
  {
   "cell_type": "code",
   "execution_count": 22,
   "metadata": {},
   "outputs": [],
   "source": [
    "start_lla = LLA(\n",
    "    latitude=Angle.degrees(0.0),\n",
    "    longitude=Angle.degrees(0.0),\n",
    "    altitude=Length.meters(0.0),\n",
    ")\n",
    "end_lla = LLA(\n",
    "    latitude=Angle.degrees(0.5),\n",
    "    longitude=Angle.degrees(0.1),\n",
    "    altitude=Length.meters(0.0),\n",
    ")\n",
    "mid_lla = start_lla.calculate_intermediate_to(end_lla, 0.5)"
   ]
  },
  {
   "cell_type": "markdown",
   "metadata": {},
   "source": [
    "Find one access during which the satellite is over the target:"
   ]
  },
  {
   "cell_type": "code",
   "execution_count": 23,
   "metadata": {},
   "outputs": [],
   "source": [
    "visibility_criterion = VisibilityCriterion.from_aer_interval(\n",
    "    azimuth_interval=RealInterval.closed(0.0, 360.0),\n",
    "    elevation_interval=RealInterval.closed(60.0, 90.0),\n",
    "    range_interval=RealInterval.closed(0.0, 10000e3),\n",
    ")\n",
    "access_target = AccessTarget.from_lla(\n",
    "    visibility_criterion=visibility_criterion,\n",
    "    lla=mid_lla,\n",
    "    celestial=earth,\n",
    ")\n",
    "access_generator = AccessGenerator(\n",
    "    environment=environment,\n",
    ")\n",
    "\n",
    "accesses = access_generator.compute_accesses(\n",
    "    interval=interval,\n",
    "    access_target=access_target,\n",
    "    to_trajectory=orbit,\n",
    ")\n",
    "\n",
    "access = accesses[0]"
   ]
  },
  {
   "cell_type": "code",
   "execution_count": 24,
   "metadata": {},
   "outputs": [],
   "source": [
    "instants = access.get_interval().generate_grid(Duration.seconds(1.0))"
   ]
  },
  {
   "cell_type": "markdown",
   "metadata": {},
   "source": [
    "Construct a Vehicle Velocity, Local Horizontal (VVLH) frame from the orbit:"
   ]
  },
  {
   "cell_type": "code",
   "execution_count": 25,
   "metadata": {},
   "outputs": [],
   "source": [
    "vvlh_frame = orbit.get_orbital_frame(Orbit.FrameType.VVLH)"
   ]
  },
  {
   "cell_type": "markdown",
   "metadata": {},
   "source": [
    "Generate a flight profile:"
   ]
  },
  {
   "cell_type": "code",
   "execution_count": 26,
   "metadata": {},
   "outputs": [],
   "source": [
    "line_scan_trajectory = Trajectory.ground_strip(\n",
    "    start_lla=start_lla,\n",
    "    end_lla=end_lla,\n",
    "    instants=instants,\n",
    ")"
   ]
  },
  {
   "cell_type": "code",
   "execution_count": 27,
   "metadata": {},
   "outputs": [],
   "source": [
    "uncompensated_profile = Profile.custom_pointing(\n",
    "    orbit=orbit,\n",
    "    alignment_target=Profile.TrajectoryTarget.target_position(\n",
    "        trajectory=line_scan_trajectory,\n",
    "        axis=Profile.Axis.Z,\n",
    "    ),\n",
    "    clocking_target=Profile.Target(\n",
    "        type=Profile.TargetType.VelocityECI,\n",
    "        axis=Profile.Axis.X,\n",
    "    ),\n",
    ")"
   ]
  },
  {
   "cell_type": "code",
   "execution_count": 28,
   "metadata": {},
   "outputs": [],
   "source": [
    "yaw_compensated_profile = Profile.custom_pointing(\n",
    "    orbit=orbit,\n",
    "    alignment_target=Profile.TrajectoryTarget.target_position(\n",
    "        trajectory=line_scan_trajectory,\n",
    "        axis=Profile.Axis.Z,\n",
    "    ),\n",
    "    clocking_target=Profile.TrajectoryTarget.target_velocity(\n",
    "        trajectory=line_scan_trajectory,\n",
    "        axis=Profile.Axis.X,\n",
    "    ),\n",
    ")"
   ]
  },
  {
   "cell_type": "markdown",
   "metadata": {},
   "source": [
    "Visualize the scene in 3D:"
   ]
  },
  {
   "cell_type": "code",
   "execution_count": null,
   "metadata": {},
   "outputs": [],
   "source": [
    "# Get a token from https://cesium.com/learn/ion/cesium-ion-access-tokens/\n",
    "viewer = Viewer(\n",
    "    interval=access.get_interval(),\n",
    "    cesium_token=os.environ.get(\"CESIUM_TOKEN\"),\n",
    ")\n",
    "\n",
    "viewer.add_profile(\n",
    "    profile=yaw_compensated_profile,\n",
    "    step=Duration.seconds(10.0),\n",
    "    show_orbital_track=True,\n",
    "    cesium_asset_id=669199,\n",
    "    sensors=[\n",
    "        ConicSensor(\n",
    "            \"Boresight\",\n",
    "            [0.0, 0.0, 1.0],\n",
    "            cesiumpy.color.RED.with_alpha(0.5),\n",
    "            Angle.degrees(0.5),\n",
    "            Length.meters(6913000.0),\n",
    "        )\n",
    "    ],\n",
    ")\n",
    "\n",
    "viewer.add_line(\n",
    "    positions=[Position.from_lla(lla) for lla in LLA.linspace(start_lla, end_lla, 100)]\n",
    ")"
   ]
  },
  {
   "cell_type": "code",
   "execution_count": 17,
   "metadata": {},
   "outputs": [],
   "source": [
    "with open(\"render.html\", \"w\") as f:\n",
    "    f.write(viewer.render())"
   ]
  },
  {
   "cell_type": "markdown",
   "metadata": {},
   "source": [
    "---"
   ]
  }
 ],
 "metadata": {
  "kernelspec": {
   "display_name": "Python 3 (ipykernel)",
   "language": "python",
   "name": "python3"
  },
  "language_info": {
   "codemirror_mode": {
    "name": "ipython",
    "version": 3
   },
   "file_extension": ".py",
   "mimetype": "text/x-python",
   "name": "python",
   "nbconvert_exporter": "python",
   "pygments_lexer": "ipython3",
   "version": "3.11.6"
  }
 },
 "nbformat": 4,
 "nbformat_minor": 4
}
