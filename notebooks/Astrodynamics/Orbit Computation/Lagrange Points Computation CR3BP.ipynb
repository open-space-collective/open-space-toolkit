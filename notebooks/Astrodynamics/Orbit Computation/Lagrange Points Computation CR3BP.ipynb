{
 "cells": [
  {
   "cell_type": "markdown",
   "metadata": {},
   "source": [
    "# Lagrane Points Computation using CR3BP"
   ]
  },
  {
   "cell_type": "markdown",
   "metadata": {},
   "source": [
    "This tutorial illustrates the computation of the five lagrange points (equilibrium solutions) of the **Earth-Moon** system modeled through the Circular Restricted Three Body Problem (CR3BP).\n",
    "\n",
    "The location of the points are computed with respect to the barycenter of the primiaries in a rotating reference frame."
   ]
  },
  {
   "cell_type": "markdown",
   "metadata": {},
   "source": [
    "## Setup"
   ]
  },
  {
   "cell_type": "code",
   "execution_count": 1,
   "metadata": {},
   "outputs": [],
   "source": [
    "import numpy as np\n",
    "import pandas as pd\n",
    "import matplotlib.pyplot as plt\n",
    "import plotly.express as px\n",
    "\n",
    "from ostk.physics.environment.objects.celestial_bodies import Earth, Moon\n",
    "from ostk.physics.environment.gravitational import Earth as EarthGravitationalModel\n",
    "from ostk.physics.environment.gravitational import Sun as SunGravitationalModel\n",
    "from ostk.physics.environment.gravitational import Moon as MoonGravitationalModel\n",
    "from ostk.physics.environment.atmospheric import Earth as EarthAtmosphericModel\n",
    "from ostk.physics.environment.magnetic import Earth as EarthMagneticModel\n",
    "from ostk.physics.time import Instant, Duration, Interval, Scale, DateTime\n",
    "from ostk.physics.coordinate import Frame\n",
    "from ostk.physics.units import Derived, Length, Time\n",
    "\n",
    "from ostk.astrodynamics.trajectory.state import NumericalSolver\n",
    "from ostk.astrodynamics.trajectory import Propagator, State\n",
    "from ostk.astrodynamics.trajectory.state import CoordinatesSubset, CoordinatesBroker\n",
    "from ostk.astrodynamics.trajectory.state.coordinates_subset import CartesianPosition, CartesianVelocity\n",
    "from ostk.astrodynamics.trajectory.orbit.models.kepler import COE\n",
    "from ostk.astrodynamics import Dynamics\n",
    "from ostk.astrodynamics.dynamics import CentralBodyGravity, PositionDerivative"
   ]
  },
  {
   "cell_type": "markdown",
   "metadata": {},
   "source": [
    "### Initialize and compute the mass ratio ($\\mu$) and distance between the primaries (l<sup>*</sup>)\n",
    "\n",
    "For primary 1: Earth (m<sub>1</sub>) and primary 2: Moon (m<sub>2</sub>) :-\n",
    "\n",
    "1. $\\mu = \\frac{m_2}{m_1+m_2}$\n",
    "2. l<sup>*</sup> = absolute average distance between the primaries"
   ]
  },
  {
   "cell_type": "code",
   "execution_count": 2,
   "metadata": {},
   "outputs": [
    {
     "name": "stdout",
     "output_type": "stream",
     "text": [
      "0.012150583925358626\n"
     ]
    }
   ],
   "source": [
    "# Obtain GM value of p1 and p2\n",
    "earth_grav_param = EarthGravitationalModel.spherical.gravitational_parameter\n",
    "p1_grav_param_val = earth_grav_param.in_unit(Derived.Unit.gravitational_parameter(Length.Unit.Meter, Time.Unit.Second))\n",
    "moon_grav_param = MoonGravitationalModel.spherical.gravitational_parameter\n",
    "p2_grav_param_val = moon_grav_param.in_unit(Derived.Unit.gravitational_parameter(Length.Unit.Meter, Time.Unit.Second))\n",
    "\n",
    "# Compute mu\n",
    "mu = (p2_grav_param_val)/(p1_grav_param_val+p2_grav_param_val)\n",
    "print(mu)"
   ]
  },
  {
   "cell_type": "code",
   "execution_count": 3,
   "metadata": {},
   "outputs": [
    {
     "name": "stdout",
     "output_type": "stream",
     "text": [
      "385393.4224798973\n"
     ]
    }
   ],
   "source": [
    "# Calculate the average distance between p1 and p2 (over a lunar cycle ~ 28 days)\n",
    "p1 = Earth.default()\n",
    "p2 = Moon.default()\n",
    "\n",
    "# Define a common frame\n",
    "frame = Frame.ITRF()\n",
    "\n",
    "def get_p1p2_dist_at_epoch(p1, p2, day):\n",
    "\n",
    "    instant = Instant.J2000() + Duration.days(float(day))\n",
    "\n",
    "    # Get the position of p1 and p2 in the common frame and time\n",
    "    p1_position = p1.get_position_in(frame, instant).get_coordinates()\n",
    "    p2_position = p2.get_position_in(frame, instant).get_coordinates()\n",
    "\n",
    "    # Calculate the distance between the two positions\n",
    "    distance = np.linalg.norm(p1_position - p2_position)\n",
    "    return distance\n",
    "\n",
    "# Distances over a lunar cycle\n",
    "distances = [get_p1p2_dist_at_epoch(p1, p2, day) for day in range(28)]\n",
    "\n",
    "# Average distance in km\n",
    "lstar = np.average(np.array(distances)/1000.0)\n",
    "print(lstar)"
   ]
  },
  {
   "cell_type": "markdown",
   "metadata": {},
   "source": [
    "### Location of the primaries with respect to their barycenter\n",
    "\n",
    "$\\bar{x}_{P_1} = (-\\mu,0,0)$ \n",
    "\n",
    "$\\bar{x}_{P_2} = (1-\\mu,0,0)$"
   ]
  },
  {
   "cell_type": "code",
   "execution_count": 4,
   "metadata": {},
   "outputs": [
    {
     "name": "stdout",
     "output_type": "stream",
     "text": [
      "P1 location wrt barycenter: [-4682.7551241231859 0.0 0.0] km\n",
      "P2 location wrt barycenter: [380710.66735577409 0.0 0.0] km\n"
     ]
    }
   ],
   "source": [
    "pos_p1 = np.array([-1 * mu, 0, 0]) * lstar # unit: km, value < radius of the Earth\n",
    "pos_p2 = np.array([1 - 1 * mu, 0, 0]) * lstar # unit: km\n",
    "print(f'P1 location wrt barycenter: {pos_p1} km')\n",
    "print(f'P2 location wrt barycenter: {pos_p2} km')"
   ]
  },
  {
   "cell_type": "markdown",
   "metadata": {},
   "source": [
    "### Computation of triangular Lagrange points (L<sub>4</sub> and L<sub>5</sub>)\n",
    "Triangular Lagrange points form equilateral triangles with the two primaries and are only dependent on the $\\mu$ value of the system.\n",
    "\n",
    "Location w.r.t the barycenter: $\\bar{x}_{L_{4,5}} = (\\frac{1}{2}-\\mu,\\pm\\frac{\\sqrt{3}}{2},0)$"
   ]
  },
  {
   "cell_type": "code",
   "execution_count": 5,
   "metadata": {},
   "outputs": [],
   "source": [
    "pos_l4 = np.array([0.5 - mu, 3**0.5 / 2, 0])\n",
    "pos_l5 = np.array([0.5 - mu, -3**0.5 / 2, 0])"
   ]
  },
  {
   "cell_type": "markdown",
   "metadata": {},
   "source": [
    "### Computation of collinear Lagrange points (L<sub>1</sub>, L<sub>2</sub> and L<sub>3</sub>)\n",
    "Collinear Lagrange points are the equlibrium solutions of CR3BP EOMS that are computed through the roots of the polynmial derived by subsituting, $y=z=\\dot{x}=\\dot{y}=\\dot{z}=\\ddot{x}=\\ddot{y}=\\ddot{z}=0$, to the EOMs. "
   ]
  },
  {
   "cell_type": "code",
   "execution_count": 6,
   "metadata": {},
   "outputs": [
    {
     "name": "stdout",
     "output_type": "stream",
     "text": [
      "L1: [322541.58784054      0.              0.        ] km\n",
      "L2: [445392.30254327      0.              0.        ] km\n",
      "L3: [-387344.53260508       0.               0.        ] km\n",
      "L4: [188013.95611583 333760.49431902      0.        ] km\n",
      "L5: [ 188013.95611583 -333760.49431902       0.        ] km\n"
     ]
    }
   ],
   "source": [
    "# Store location of the lagrange points w.r.t the barycenter:\n",
    "lag_loc = np.zeros((5, 3))\n",
    "# 5th degree polynomial of L1, L2 and L3\n",
    "f_lib = np.array(\n",
    "    [\n",
    "        [1, mu - 3, 3 - 2 * mu, - 1 * mu, 2 * mu, - 1 * mu],\n",
    "        [1, 3 - mu, 3 - 2 * mu, - 1 * mu, -2 * mu, - 1 * mu],\n",
    "        [1, 2 + mu, 1 + 2 * mu, mu - 1, 2 * mu - 2, -1 + mu],\n",
    "    ]\n",
    ")\n",
    "\n",
    "def get_real_root(poly):\n",
    "    roots = np.roots(poly)\n",
    "    for root in roots:\n",
    "        if np.isreal(root):\n",
    "            return np.real(root)\n",
    "\n",
    "lag_loc[0, 0] = 1 -1 * mu - get_real_root(f_lib[0,:])\n",
    "lag_loc[1, 0] = 1 -1 * mu + get_real_root(f_lib[1,:])\n",
    "lag_loc[2, 0] = -1 * mu - get_real_root(f_lib[2,:])\n",
    "\n",
    "# Store location of L4 and L5 in lag_loc\n",
    "lag_loc[3,:] = pos_l4\n",
    "lag_loc[4,:] = pos_l5\n",
    "\n",
    "# Change units from non-dimensional to km, w.r.t barycenter\n",
    "lag_loc = lag_loc * lstar\n",
    "for i in range(1,6):\n",
    "    print(f\"L{i}: {lag_loc[i-1,:]} km\")"
   ]
  },
  {
   "cell_type": "code",
   "execution_count": 7,
   "metadata": {},
   "outputs": [
    {
     "data": {
      "text/plain": [
       "(-428981.37436249666,\n",
       " 487029.1443006847,\n",
       " -367136.54375092173,\n",
       " 367136.54375092173)"
      ]
     },
     "execution_count": 7,
     "metadata": {},
     "output_type": "execute_result"
    },
    {
     "data": {
      "image/png": "[encoded data removed]",
      "text/plain": [
       "<Figure size 640x480 with 1 Axes>"
      ]
     },
     "metadata": {},
     "output_type": "display_data"
    }
   ],
   "source": [
    "fig = plt.figure()\n",
    "ax = plt.gca()\n",
    "plt.scatter(pos_p1[0],0,color='blue')\n",
    "plt.scatter(pos_p2[0],0,color='grey')\n",
    "plt.scatter(lag_loc[:,0],lag_loc[:,1],s=10,color='red')\n",
    "plt.text(pos_p2[0],1e+4/1.2,'$P_2$')\n",
    "plt.text(pos_p1[0],1e+4,'$P_1$')\n",
    "for i in range(5):\n",
    "    plt.text(lag_loc[i,0],lag_loc[i,1]-1e+4*1.2,'$L_'+str(i+1)+'$')\n",
    "plt.xlabel('x [km]')\n",
    "plt.ylabel('y [km]')\n",
    "plt.title(\"Earth-Moon system: 5 Lagrange points (CR3BP)\")\n",
    "plt.grid()\n",
    "plt.axis(\"equal\")"
   ]
  }
 ],
 "metadata": {
  "kernelspec": {
   "display_name": "loft",
   "language": "python",
   "name": "python3"
  },
  "language_info": {
   "codemirror_mode": {
    "name": "ipython",
    "version": 3
   },
   "file_extension": ".py",
   "mimetype": "text/x-python",
   "name": "python",
   "nbconvert_exporter": "python",
   "pygments_lexer": "ipython3",
   "version": "3.11.7"
  }
 },
 "nbformat": 4,
 "nbformat_minor": 2
}
