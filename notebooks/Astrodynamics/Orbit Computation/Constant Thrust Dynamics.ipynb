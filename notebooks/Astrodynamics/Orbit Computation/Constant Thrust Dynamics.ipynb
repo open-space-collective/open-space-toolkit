{
 "cells": [
  {
   "cell_type": "markdown",
   "id": "d58ec7d4-9f6a-4681-9db2-efa80ad7931a",
   "metadata": {},
   "source": [
    "# Constant Thrust Dynamics"
   ]
  },
  {
   "cell_type": "markdown",
   "id": "a937df35-5b6c-4b85-a297-a53a8830e1cd",
   "metadata": {},
   "source": [
    "In this notebook, we will:\n",
    "\n",
    "1. **Create a new Coordinate Subset** so that we can make Mass a part of the State.\n",
    "2. **Create a custom dynamics class** that will be used in the propagator along with two-body dynamics."
   ]
  },
  {
   "cell_type": "code",
   "execution_count": 13,
   "id": "84763b24-1afd-4072-86f1-cee12089f50a",
   "metadata": {},
   "outputs": [],
   "source": [
    "import numpy as np\n",
    "import pandas as pd\n",
    "import plotly.express as px\n",
    "\n",
    "from ostk.physics.environment.objects.celestial_bodies import Earth\n",
    "from ostk.physics.environment.gravitational import Earth as EarthGravitationalModel\n",
    "from ostk.physics.environment.atmospheric import Earth as EarthAtmosphericModel\n",
    "from ostk.physics.environment.magnetic import Earth as EarthMagneticModel\n",
    "from ostk.physics.time import Instant\n",
    "from ostk.physics.time import Duration\n",
    "from ostk.physics.time import Interval\n",
    "from ostk.physics.time import Scale\n",
    "from ostk.physics.coordinate import Frame\n",
    "\n",
    "from ostk.astrodynamics import Dynamics\n",
    "from ostk.astrodynamics.trajectory import LocalOrbitalFrameFactory\n",
    "from ostk.astrodynamics.trajectory import Propagator\n",
    "from ostk.astrodynamics.trajectory import State\n",
    "from ostk.astrodynamics.trajectory.state import NumericalSolver\n",
    "from ostk.astrodynamics.trajectory.state import CoordinatesSubset\n",
    "from ostk.astrodynamics.trajectory.state.coordinates_subset import CartesianPosition\n",
    "from ostk.astrodynamics.trajectory.state.coordinates_subset import CartesianVelocity\n",
    "from ostk.astrodynamics.trajectory.orbit.models.kepler import COE\n",
    "from ostk.astrodynamics.dynamics import CentralBodyGravity\n",
    "from ostk.astrodynamics.dynamics import PositionDerivative"
   ]
  },
  {
   "cell_type": "markdown",
   "id": "1a607010-8478-4b76-aff9-c414025ae857",
   "metadata": {},
   "source": [
    "1. Let's start by first creating the coordinate subsets for Position, Velocity and Mass"
   ]
  },
  {
   "cell_type": "code",
   "execution_count": 14,
   "id": "5d569954-db82-48d4-bbbe-562a7bdeb9b7",
   "metadata": {},
   "outputs": [],
   "source": [
    "cartesian_position = CartesianPosition.default()\n",
    "cartesian_velocity = CartesianVelocity.default()\n",
    "mass_subset = CoordinatesSubset.mass()"
   ]
  },
  {
   "cell_type": "markdown",
   "id": "55f68ab8-9023-4301-9c7b-668f7703665c",
   "metadata": {},
   "source": [
    "2. Now we can create a Thruster Dynamics class that does a constant burn in the velocity direction\n",
    "The dynamics child must have 4 methods defined:\n",
    "- `is_defined` &rarr; used to verify that the class has been instantiated correctly\n",
    "- `compute_contribution` &rarr; computes the contribution to the state derivative\n",
    "- `get_read_coordinates_subsets` &rarr; defines the order expected for the state variable `x`\n",
    "- `get_write_coordinates_subsets` &rarr; defines the order expected in the outputted contribution within `compute_contribution`"
   ]
  },
  {
   "cell_type": "code",
   "execution_count": 15,
   "id": "c6a23c05-4b6b-40d5-b469-6164d5723d1b",
   "metadata": {},
   "outputs": [],
   "source": [
    "class ThrusterDynamics(Dynamics):\n",
    "    def __init__(self, isp, thrust):\n",
    "        self._isp = isp\n",
    "        self._thrust = thrust\n",
    "        super().__init__(\"thruster\")\n",
    "\n",
    "    @property\n",
    "    def mass_flow_rate(self):\n",
    "        return self._thrust / (self._isp * 9.805)\n",
    "\n",
    "    def is_defined(self):\n",
    "        return self._isp is not None and self._thrust is not None\n",
    "\n",
    "    def get_read_coordinates_subsets(self):\n",
    "        return [\n",
    "            CartesianPosition.default(),\n",
    "            CartesianVelocity.default(),\n",
    "            CoordinatesSubset.mass(),\n",
    "        ]\n",
    "\n",
    "    def get_write_coordinates_subsets(self):\n",
    "        return [CartesianVelocity.default(), CoordinatesSubset.mass()]\n",
    "\n",
    "    def compute_contribution(self, instant, x, frame):\n",
    "        mass = x[6]\n",
    "\n",
    "        # calculate acceleration in VNC\n",
    "        acceleration_vnc = np.array([1, 0, 0]) * self._thrust / mass\n",
    "\n",
    "        # convert to GCRF\n",
    "        local_orbital_frame = LocalOrbitalFrameFactory.VNC(Frame.GCRF()).generate_frame(\n",
    "            instant, x[:3], x[3:6]\n",
    "        )\n",
    "        q_GCRF_to_VNC = local_orbital_frame.get_transform_to(\n",
    "            Frame.GCRF(), instant\n",
    "        ).get_orientation()\n",
    "        q_GCRF_to_VNC.normalize()\n",
    "\n",
    "        acceleration_gcrf = q_GCRF_to_VNC.rotate_vector(acceleration_vnc)\n",
    "\n",
    "        # return acceleration + mass derivative in the order defined in get_write_coordinates_subsets\n",
    "        return np.array(\n",
    "            [\n",
    "                acceleration_gcrf[0],\n",
    "                acceleration_gcrf[1],\n",
    "                acceleration_gcrf[2],\n",
    "                -self.mass_flow_rate,\n",
    "            ]\n",
    "        )"
   ]
  },
  {
   "cell_type": "markdown",
   "id": "396c37b2-7171-4949-9a37-bae4b5eac686",
   "metadata": {},
   "source": [
    "Setup dynamics:\n",
    "- Central body spherical gravity\n",
    "- Thruster"
   ]
  },
  {
   "cell_type": "code",
   "execution_count": 16,
   "id": "d856203f-a96e-49d5-b90e-24f073b256f8",
   "metadata": {},
   "outputs": [],
   "source": [
    "earth = Earth.from_models(\n",
    "    EarthGravitationalModel(EarthGravitationalModel.Type.Spherical),\n",
    "    EarthMagneticModel(EarthMagneticModel.Type.Undefined),\n",
    "    EarthAtmosphericModel(EarthAtmosphericModel.Type.Undefined),\n",
    ")\n",
    "central_body_gravity = CentralBodyGravity(earth)"
   ]
  },
  {
   "cell_type": "code",
   "execution_count": 17,
   "id": "fb05fc07-2a41-44e7-aa2c-96fdaae86fad",
   "metadata": {},
   "outputs": [],
   "source": [
    "thruster_dynamics = ThrusterDynamics(1800.0, 60e-3)"
   ]
  },
  {
   "cell_type": "code",
   "execution_count": 18,
   "id": "04fb95e2-251f-4290-b49a-602cfc31bcf6",
   "metadata": {},
   "outputs": [],
   "source": [
    "propagator = Propagator(\n",
    "    NumericalSolver.default(),\n",
    "    [central_body_gravity, thruster_dynamics, PositionDerivative()],\n",
    ")"
   ]
  },
  {
   "cell_type": "markdown",
   "id": "9a488287-a9c0-406c-84f4-f67f401ef4a6",
   "metadata": {},
   "source": [
    "Setup the initial state and propagation interval"
   ]
  },
  {
   "cell_type": "code",
   "execution_count": 19,
   "id": "90831f33-feaf-4626-8890-c778c4ab7bd6",
   "metadata": {},
   "outputs": [],
   "source": [
    "state = State(\n",
    "    Instant.J2000(),\n",
    "    [7000000.0, 0.0, 0.0, 0.0, 5335.865450622126, 5335.865450622126, 100.0],\n",
    "    Frame.GCRF(),\n",
    "    [cartesian_position, cartesian_velocity, mass_subset],\n",
    ")"
   ]
  },
  {
   "cell_type": "code",
   "execution_count": 20,
   "id": "e132a5eb-2ddb-4741-923b-6e7e5d9ddd0b",
   "metadata": {},
   "outputs": [],
   "source": [
    "instants = Interval.closed(\n",
    "    state.get_instant(), state.get_instant() + Duration.minutes(15.0)\n",
    ").generate_grid(Duration.seconds(20.0))"
   ]
  },
  {
   "cell_type": "markdown",
   "id": "831f636e-ad4a-4ec8-9469-d64c4b45410a",
   "metadata": {},
   "source": [
    "Propagate and plot!"
   ]
  },
  {
   "cell_type": "code",
   "execution_count": 21,
   "id": "c74eb33a-c3bd-440b-abdd-6c507174c354",
   "metadata": {},
   "outputs": [],
   "source": [
    "states = propagator.calculate_states_at(state, instants)"
   ]
  },
  {
   "cell_type": "code",
   "execution_count": 22,
   "id": "bae93b94-c001-4abe-bf1c-5420a355594c",
   "metadata": {},
   "outputs": [],
   "source": [
    "data = []\n",
    "for state in states:\n",
    "    coe = COE.cartesian(\n",
    "        (state.get_position(), state.get_velocity()),\n",
    "        earth.get_gravitational_parameter(),\n",
    "    )\n",
    "    data.append(\n",
    "        {\n",
    "            \"time\": str(state.get_instant().get_date_time(Scale.UTC)),\n",
    "            \"altitude (km)\": float(\n",
    "                coe.get_semi_major_axis().in_kilometers()\n",
    "                - earth.get_equatorial_radius().in_kilometers()\n",
    "            ),\n",
    "            \"mass (kg)\": float(state.get_coordinates()[-1]),\n",
    "        }\n",
    "    )"
   ]
  },
  {
   "cell_type": "code",
   "execution_count": 23,
   "id": "7b583fe4-e7f3-426b-b66d-74d11fd8ef26",
   "metadata": {},
   "outputs": [
    {
     "data": {
      "image/svg+xml": [
       "<svg class=\"main-svg\" xmlns=\"http://www.w3.org/2000/svg\" xmlns:xlink=\"http://www.w3.org/1999/xlink\" width=\"1200\" height=\"600\" style=\"\" viewBox=\"0 0 1200 600\"><rect x=\"0\" y=\"0\" width=\"1200\" height=\"600\" style=\"fill: rgb(255, 255, 255); fill-opacity: 1;\"/><defs id=\"defs-8453fc\"><g class=\"clips\"><clipPath id=\"clip8453fcxyplot\" class=\"plotclip\"><rect width=\"994\" height=\"420\"/></clipPath><clipPath class=\"axesclip\" id=\"clip8453fcx\"><rect x=\"80\" y=\"0\" width=\"994\" height=\"600\"/></clipPath><clipPath class=\"axesclip\" id=\"clip8453fcy\"><rect x=\"0\" y=\"100\" width=\"1200\" height=\"420\"/></clipPath><clipPath class=\"axesclip\" id=\"clip8453fcxy\"><rect x=\"80\" y=\"100\" width=\"994\" height=\"420\"/></clipPath></g><g class=\"gradients\"><linearGradient x1=\"0\" x2=\"0\" y1=\"1\" y2=\"0\" id=\"g8453fc-cbcoloraxis\"><stop offset=\"0%\" stop-color=\"rgb(13, 8, 135)\" stop-opacity=\"1\"/><stop offset=\"11.111111%\" stop-color=\"rgb(70, 3, 159)\" stop-opacity=\"1\"/><stop offset=\"22.222222%\" stop-color=\"rgb(114, 1, 168)\" stop-opacity=\"1\"/><stop offset=\"33.333333%\" stop-color=\"rgb(156, 23, 158)\" stop-opacity=\"1\"/><stop offset=\"44.444444%\" stop-color=\"rgb(189, 55, 134)\" stop-opacity=\"1\"/><stop offset=\"55.555556%\" stop-color=\"rgb(216, 87, 107)\" stop-opacity=\"1\"/><stop offset=\"66.666667%\" stop-color=\"rgb(237, 121, 83)\" stop-opacity=\"1\"/><stop offset=\"77.777778%\" stop-color=\"rgb(251, 159, 58)\" stop-opacity=\"1\"/><stop offset=\"88.888889%\" stop-color=\"rgb(253, 202, 38)\" stop-opacity=\"1\"/><stop offset=\"100%\" stop-color=\"rgb(240, 249, 33)\" stop-opacity=\"1\"/></linearGradient></g><g class=\"patterns\"/></defs><g class=\"bglayer\"><rect class=\"bg\" x=\"80\" y=\"100\" width=\"994\" height=\"420\" style=\"fill: rgb(229, 236, 246); fill-opacity: 1; stroke-width: 0;\"/></g><g class=\"layer-below\"><g class=\"imagelayer\"/><g class=\"shapelayer\"/></g><g class=\"cartesianlayer\"><g class=\"subplot xy\"><g class=\"layer-subplot\"><g class=\"shapelayer\"/><g class=\"imagelayer\"/></g><g class=\"minor-gridlayer\"><g class=\"x\"/><g class=\"y\"/></g><g class=\"gridlayer\"><g class=\"x\"><path class=\"xgrid crisp\" transform=\"translate(196.70999999999998,0)\" d=\"M0,100v420\" style=\"stroke: rgb(255, 255, 255); stroke-opacity: 1; stroke-width: 1px;\"/><path class=\"xgrid crisp\" transform=\"translate(314.99,0)\" d=\"M0,100v420\" style=\"stroke: rgb(255, 255, 255); stroke-opacity: 1; stroke-width: 1px;\"/><path class=\"xgrid crisp\" transform=\"translate(433.27,0)\" d=\"M0,100v420\" style=\"stroke: rgb(255, 255, 255); stroke-opacity: 1; stroke-width: 1px;\"/><path class=\"xgrid crisp\" transform=\"translate(551.55,0)\" d=\"M0,100v420\" style=\"stroke: rgb(255, 255, 255); stroke-opacity: 1; stroke-width: 1px;\"/><path class=\"xgrid crisp\" transform=\"translate(669.83,0)\" d=\"M0,100v420\" style=\"stroke: rgb(255, 255, 255); stroke-opacity: 1; stroke-width: 1px;\"/><path class=\"xgrid crisp\" transform=\"translate(788.11,0)\" d=\"M0,100v420\" style=\"stroke: rgb(255, 255, 255); stroke-opacity: 1; stroke-width: 1px;\"/><path class=\"xgrid crisp\" transform=\"translate(906.39,0)\" d=\"M0,100v420\" style=\"stroke: rgb(255, 255, 255); stroke-opacity: 1; stroke-width: 1px;\"/><path class=\"xgrid crisp\" transform=\"translate(1024.67,0)\" d=\"M0,100v420\" style=\"stroke: rgb(255, 255, 255); stroke-opacity: 1; stroke-width: 1px;\"/></g><g class=\"y\"><path class=\"ygrid crisp\" transform=\"translate(0,518.54)\" d=\"M80,0h994\" style=\"stroke: rgb(255, 255, 255); stroke-opacity: 1; stroke-width: 1px;\"/><path class=\"ygrid crisp\" transform=\"translate(0,444.59)\" d=\"M80,0h994\" style=\"stroke: rgb(255, 255, 255); stroke-opacity: 1; stroke-width: 1px;\"/><path class=\"ygrid crisp\" transform=\"translate(0,370.65)\" d=\"M80,0h994\" style=\"stroke: rgb(255, 255, 255); stroke-opacity: 1; stroke-width: 1px;\"/><path class=\"ygrid crisp\" transform=\"translate(0,296.7)\" d=\"M80,0h994\" style=\"stroke: rgb(255, 255, 255); stroke-opacity: 1; stroke-width: 1px;\"/><path class=\"ygrid crisp\" transform=\"translate(0,222.75)\" d=\"M80,0h994\" style=\"stroke: rgb(255, 255, 255); stroke-opacity: 1; stroke-width: 1px;\"/><path class=\"ygrid crisp\" transform=\"translate(0,148.8)\" d=\"M80,0h994\" style=\"stroke: rgb(255, 255, 255); stroke-opacity: 1; stroke-width: 1px;\"/></g></g><g class=\"zerolinelayer\"/><path class=\"xlines-below\"/><path class=\"ylines-below\"/><g class=\"overlines-below\"/><g class=\"xaxislayer-below\"/><g class=\"yaxislayer-below\"/><g class=\"overaxes-below\"/><g class=\"plot\" transform=\"translate(80,100)\" clip-path=\"url(#clip8453fcxyplot)\"><g class=\"scatterlayer mlayer\"><g class=\"trace scatter traceaf3efd\" style=\"stroke-miterlimit: 2; opacity: 1;\"><g class=\"fills\"/><g class=\"errorbars\"/><g class=\"lines\"/><g class=\"points\"><path class=\"point\" transform=\"translate(53.45,395.25)\" d=\"M3,0A3,3 0 1,1 0,-3A3,3 0 0,1 3,0Z\" style=\"opacity: 1; stroke-width: 0px; fill: rgb(240, 249, 33); fill-opacity: 1;\"/><path class=\"point\" transform=\"translate(73.16,387.02)\" d=\"M3,0A3,3 0 1,1 0,-3A3,3 0 0,1 3,0Z\" style=\"opacity: 1; stroke-width: 0px; fill: rgb(243, 240, 34); fill-opacity: 1;\"/><path class=\"point\" transform=\"translate(92.88,378.79)\" d=\"M3,0A3,3 0 1,1 0,-3A3,3 0 0,1 3,0Z\" style=\"opacity: 1; stroke-width: 0px; fill: rgb(245, 230, 35); fill-opacity: 1;\"/><path class=\"point\" transform=\"translate(112.59,370.55)\" d=\"M3,0A3,3 0 1,1 0,-3A3,3 0 0,1 3,0Z\" style=\"opacity: 1; stroke-width: 0px; fill: rgb(248, 221, 36); fill-opacity: 1;\"/><path class=\"point\" transform=\"translate(132.3,362.32)\" d=\"M3,0A3,3 0 1,1 0,-3A3,3 0 0,1 3,0Z\" style=\"opacity: 1; stroke-width: 0px; fill: rgb(250, 211, 37); fill-opacity: 1;\"/><path class=\"point\" transform=\"translate(152.02,354.09)\" d=\"M3,0A3,3 0 1,1 0,-3A3,3 0 0,1 3,0Z\" style=\"opacity: 1; stroke-width: 0px; fill: rgb(253, 202, 38); fill-opacity: 1;\"/><path class=\"point\" transform=\"translate(171.73,345.86)\" d=\"M3,0A3,3 0 1,1 0,-3A3,3 0 0,1 3,0Z\" style=\"opacity: 1; stroke-width: 0px; fill: rgb(253, 193, 42); fill-opacity: 1;\"/><path class=\"point\" transform=\"translate(191.44,337.63)\" d=\"M3,0A3,3 0 1,1 0,-3A3,3 0 0,1 3,0Z\" style=\"opacity: 1; stroke-width: 0px; fill: rgb(252, 185, 46); fill-opacity: 1;\"/><path class=\"point\" transform=\"translate(211.16,329.39)\" d=\"M3,0A3,3 0 1,1 0,-3A3,3 0 0,1 3,0Z\" style=\"opacity: 1; stroke-width: 0px; fill: rgb(252, 176, 50); fill-opacity: 1;\"/><path class=\"point\" transform=\"translate(230.87,321.16)\" d=\"M3,0A3,3 0 1,1 0,-3A3,3 0 0,1 3,0Z\" style=\"opacity: 1; stroke-width: 0px; fill: rgb(251, 168, 54); fill-opacity: 1;\"/><path class=\"point\" transform=\"translate(250.58,312.93)\" d=\"M3,0A3,3 0 1,1 0,-3A3,3 0 0,1 3,0Z\" style=\"opacity: 1; stroke-width: 0px; fill: rgb(251, 159, 58); fill-opacity: 1;\"/><path class=\"point\" transform=\"translate(270.3,304.7)\" d=\"M3,0A3,3 0 1,1 0,-3A3,3 0 0,1 3,0Z\" style=\"opacity: 1; stroke-width: 0px; fill: rgb(248, 151, 63); fill-opacity: 1;\"/><path class=\"point\" transform=\"translate(290.01,296.46)\" d=\"M3,0A3,3 0 1,1 0,-3A3,3 0 0,1 3,0Z\" style=\"opacity: 1; stroke-width: 0px; fill: rgb(245, 144, 68); fill-opacity: 1;\"/><path class=\"point\" transform=\"translate(309.72,288.23)\" d=\"M3,0A3,3 0 1,1 0,-3A3,3 0 0,1 3,0Z\" style=\"opacity: 1; stroke-width: 0px; fill: rgb(243, 136, 73); fill-opacity: 1;\"/><path class=\"point\" transform=\"translate(329.44,280)\" d=\"M3,0A3,3 0 1,1 0,-3A3,3 0 0,1 3,0Z\" style=\"opacity: 1; stroke-width: 0px; fill: rgb(240, 129, 78); fill-opacity: 1;\"/><path class=\"point\" transform=\"translate(349.15,271.77)\" d=\"M3,0A3,3 0 1,1 0,-3A3,3 0 0,1 3,0Z\" style=\"opacity: 1; stroke-width: 0px; fill: rgb(237, 121, 83); fill-opacity: 1;\"/><path class=\"point\" transform=\"translate(368.86,263.53)\" d=\"M3,0A3,3 0 1,1 0,-3A3,3 0 0,1 3,0Z\" style=\"opacity: 1; stroke-width: 0px; fill: rgb(233, 114, 88); fill-opacity: 1;\"/><path class=\"point\" transform=\"translate(388.58,255.3)\" d=\"M3,0A3,3 0 1,1 0,-3A3,3 0 0,1 3,0Z\" style=\"opacity: 1; stroke-width: 0px; fill: rgb(229, 107, 93); fill-opacity: 1;\"/><path class=\"point\" transform=\"translate(408.29,247.07)\" d=\"M3,0A3,3 0 1,1 0,-3A3,3 0 0,1 3,0Z\" style=\"opacity: 1; stroke-width: 0px; fill: rgb(224, 101, 97); fill-opacity: 1;\"/><path class=\"point\" transform=\"translate(428,238.83)\" d=\"M3,0A3,3 0 1,1 0,-3A3,3 0 0,1 3,0Z\" style=\"opacity: 1; stroke-width: 0px; fill: rgb(220, 94, 102); fill-opacity: 1;\"/><path class=\"point\" transform=\"translate(447.72,230.6)\" d=\"M3,0A3,3 0 1,1 0,-3A3,3 0 0,1 3,0Z\" style=\"opacity: 1; stroke-width: 0px; fill: rgb(216, 87, 107); fill-opacity: 1;\"/><path class=\"point\" transform=\"translate(467.43,222.37)\" d=\"M3,0A3,3 0 1,1 0,-3A3,3 0 0,1 3,0Z\" style=\"opacity: 1; stroke-width: 0px; fill: rgb(211, 81, 112); fill-opacity: 1;\"/><path class=\"point\" transform=\"translate(487.14,214.13)\" d=\"M3,0A3,3 0 1,1 0,-3A3,3 0 0,1 3,0Z\" style=\"opacity: 1; stroke-width: 0px; fill: rgb(205, 74, 118); fill-opacity: 1;\"/><path class=\"point\" transform=\"translate(506.86,205.9)\" d=\"M3,0A3,3 0 1,1 0,-3A3,3 0 0,1 3,0Z\" style=\"opacity: 1; stroke-width: 0px; fill: rgb(200, 68, 123); fill-opacity: 1;\"/><path class=\"point\" transform=\"translate(526.57,197.67)\" d=\"M3,0A3,3 0 1,1 0,-3A3,3 0 0,1 3,0Z\" style=\"opacity: 1; stroke-width: 0px; fill: rgb(194, 61, 129); fill-opacity: 1;\"/><path class=\"point\" transform=\"translate(546.28,189.43)\" d=\"M3,0A3,3 0 1,1 0,-3A3,3 0 0,1 3,0Z\" style=\"opacity: 1; stroke-width: 0px; fill: rgb(189, 55, 134); fill-opacity: 1;\"/><path class=\"point\" transform=\"translate(566,181.2)\" d=\"M3,0A3,3 0 1,1 0,-3A3,3 0 0,1 3,0Z\" style=\"opacity: 1; stroke-width: 0px; fill: rgb(182, 49, 139); fill-opacity: 1;\"/><path class=\"point\" transform=\"translate(585.71,172.97)\" d=\"M3,0A3,3 0 1,1 0,-3A3,3 0 0,1 3,0Z\" style=\"opacity: 1; stroke-width: 0px; fill: rgb(176, 42, 144); fill-opacity: 1;\"/><path class=\"point\" transform=\"translate(605.42,164.73)\" d=\"M3,0A3,3 0 1,1 0,-3A3,3 0 0,1 3,0Z\" style=\"opacity: 1; stroke-width: 0px; fill: rgb(169, 36, 148); fill-opacity: 1;\"/><path class=\"point\" transform=\"translate(625.14,156.5)\" d=\"M3,0A3,3 0 1,1 0,-3A3,3 0 0,1 3,0Z\" style=\"opacity: 1; stroke-width: 0px; fill: rgb(163, 29, 153); fill-opacity: 1;\"/><path class=\"point\" transform=\"translate(644.85,148.27)\" d=\"M3,0A3,3 0 1,1 0,-3A3,3 0 0,1 3,0Z\" style=\"opacity: 1; stroke-width: 0px; fill: rgb(156, 23, 158); fill-opacity: 1;\"/><path class=\"point\" transform=\"translate(664.56,140.03)\" d=\"M3,0A3,3 0 1,1 0,-3A3,3 0 0,1 3,0Z\" style=\"opacity: 1; stroke-width: 0px; fill: rgb(148, 19, 160); fill-opacity: 1;\"/><path class=\"point\" transform=\"translate(684.28,131.8)\" d=\"M3,0A3,3 0 1,1 0,-3A3,3 0 0,1 3,0Z\" style=\"opacity: 1; stroke-width: 0px; fill: rgb(139, 14, 162); fill-opacity: 1;\"/><path class=\"point\" transform=\"translate(703.99,123.56)\" d=\"M3,0A3,3 0 1,1 0,-3A3,3 0 0,1 3,0Z\" style=\"opacity: 1; stroke-width: 0px; fill: rgb(131, 10, 164); fill-opacity: 1;\"/><path class=\"point\" transform=\"translate(723.7,115.33)\" d=\"M3,0A3,3 0 1,1 0,-3A3,3 0 0,1 3,0Z\" style=\"opacity: 1; stroke-width: 0px; fill: rgb(122, 5, 166); fill-opacity: 1;\"/><path class=\"point\" transform=\"translate(743.42,107.09)\" d=\"M3,0A3,3 0 1,1 0,-3A3,3 0 0,1 3,0Z\" style=\"opacity: 1; stroke-width: 0px; fill: rgb(114, 1, 168); fill-opacity: 1;\"/><path class=\"point\" transform=\"translate(763.13,98.86)\" d=\"M3,0A3,3 0 1,1 0,-3A3,3 0 0,1 3,0Z\" style=\"opacity: 1; stroke-width: 0px; fill: rgb(105, 1, 166); fill-opacity: 1;\"/><path class=\"point\" transform=\"translate(782.84,90.63)\" d=\"M3,0A3,3 0 1,1 0,-3A3,3 0 0,1 3,0Z\" style=\"opacity: 1; stroke-width: 0px; fill: rgb(96, 2, 164); fill-opacity: 1;\"/><path class=\"point\" transform=\"translate(802.56,82.39)\" d=\"M3,0A3,3 0 1,1 0,-3A3,3 0 0,1 3,0Z\" style=\"opacity: 1; stroke-width: 0px; fill: rgb(88, 2, 163); fill-opacity: 1;\"/><path class=\"point\" transform=\"translate(822.27,74.16)\" d=\"M3,0A3,3 0 1,1 0,-3A3,3 0 0,1 3,0Z\" style=\"opacity: 1; stroke-width: 0px; fill: rgb(79, 3, 161); fill-opacity: 1;\"/><path class=\"point\" transform=\"translate(841.98,65.92)\" d=\"M3,0A3,3 0 1,1 0,-3A3,3 0 0,1 3,0Z\" style=\"opacity: 1; stroke-width: 0px; fill: rgb(70, 3, 159); fill-opacity: 1;\"/><path class=\"point\" transform=\"translate(861.7,57.69)\" d=\"M3,0A3,3 0 1,1 0,-3A3,3 0 0,1 3,0Z\" style=\"opacity: 1; stroke-width: 0px; fill: rgb(59, 4, 154); fill-opacity: 1;\"/><path class=\"point\" transform=\"translate(881.41,49.45)\" d=\"M3,0A3,3 0 1,1 0,-3A3,3 0 0,1 3,0Z\" style=\"opacity: 1; stroke-width: 0px; fill: rgb(47, 5, 149); fill-opacity: 1;\"/><path class=\"point\" transform=\"translate(901.12,41.22)\" d=\"M3,0A3,3 0 1,1 0,-3A3,3 0 0,1 3,0Z\" style=\"opacity: 1; stroke-width: 0px; fill: rgb(36, 6, 145); fill-opacity: 1;\"/><path class=\"point\" transform=\"translate(920.84,32.98)\" d=\"M3,0A3,3 0 1,1 0,-3A3,3 0 0,1 3,0Z\" style=\"opacity: 1; stroke-width: 0px; fill: rgb(24, 7, 140); fill-opacity: 1;\"/><path class=\"point\" transform=\"translate(940.55,24.75)\" d=\"M3,0A3,3 0 1,1 0,-3A3,3 0 0,1 3,0Z\" style=\"opacity: 1; stroke-width: 0px; fill: rgb(13, 8, 135); fill-opacity: 1;\"/></g><g class=\"text\"/></g></g></g><g class=\"overplot\"/><path class=\"xlines-above crisp\" d=\"M0,0\" style=\"fill: none;\"/><path class=\"ylines-above crisp\" d=\"M0,0\" style=\"fill: none;\"/><g class=\"overlines-above\"/><g class=\"xaxislayer-above\"><g class=\"xtick\"><text text-anchor=\"middle\" x=\"0\" y=\"533\" transform=\"translate(196.70999999999998,0)\" style=\"font-family: 'Open Sans', verdana, arial, sans-serif; font-size: 12px; fill: rgb(42, 63, 95); fill-opacity: 1; white-space: pre; opacity: 1;\"><tspan class=\"line\" dy=\"0em\" x=\"0\" y=\"533\">12:00</tspan><tspan class=\"line\" dy=\"1.3em\" x=\"0\" y=\"533\">Jan 1, 2000</tspan></text></g><g class=\"xtick\"><text text-anchor=\"middle\" x=\"0\" y=\"533\" style=\"font-family: 'Open Sans', verdana, arial, sans-serif; font-size: 12px; fill: rgb(42, 63, 95); fill-opacity: 1; white-space: pre; opacity: 1;\" transform=\"translate(314.99,0)\">12:02</text></g><g class=\"xtick\"><text text-anchor=\"middle\" x=\"0\" y=\"533\" style=\"font-family: 'Open Sans', verdana, arial, sans-serif; font-size: 12px; fill: rgb(42, 63, 95); fill-opacity: 1; white-space: pre; opacity: 1;\" transform=\"translate(433.27,0)\">12:04</text></g><g class=\"xtick\"><text text-anchor=\"middle\" x=\"0\" y=\"533\" style=\"font-family: 'Open Sans', verdana, arial, sans-serif; font-size: 12px; fill: rgb(42, 63, 95); fill-opacity: 1; white-space: pre; opacity: 1;\" transform=\"translate(551.55,0)\">12:06</text></g><g class=\"xtick\"><text text-anchor=\"middle\" x=\"0\" y=\"533\" style=\"font-family: 'Open Sans', verdana, arial, sans-serif; font-size: 12px; fill: rgb(42, 63, 95); fill-opacity: 1; white-space: pre; opacity: 1;\" transform=\"translate(669.83,0)\">12:08</text></g><g class=\"xtick\"><text text-anchor=\"middle\" x=\"0\" y=\"533\" style=\"font-family: 'Open Sans', verdana, arial, sans-serif; font-size: 12px; fill: rgb(42, 63, 95); fill-opacity: 1; white-space: pre; opacity: 1;\" transform=\"translate(788.11,0)\">12:10</text></g><g class=\"xtick\"><text text-anchor=\"middle\" x=\"0\" y=\"533\" style=\"font-family: 'Open Sans', verdana, arial, sans-serif; font-size: 12px; fill: rgb(42, 63, 95); fill-opacity: 1; white-space: pre; opacity: 1;\" transform=\"translate(906.39,0)\">12:12</text></g><g class=\"xtick\"><text text-anchor=\"middle\" x=\"0\" y=\"533\" style=\"font-family: 'Open Sans', verdana, arial, sans-serif; font-size: 12px; fill: rgb(42, 63, 95); fill-opacity: 1; white-space: pre; opacity: 1;\" transform=\"translate(1024.67,0)\">12:14</text></g></g><g class=\"yaxislayer-above\"><g class=\"ytick\"><text text-anchor=\"end\" x=\"79\" y=\"4.199999999999999\" transform=\"translate(0,518.54)\" style=\"font-family: 'Open Sans', verdana, arial, sans-serif; font-size: 12px; fill: rgb(42, 63, 95); fill-opacity: 1; white-space: pre; opacity: 1;\">621.8</text></g><g class=\"ytick\"><text text-anchor=\"end\" x=\"79\" y=\"4.199999999999999\" style=\"font-family: 'Open Sans', verdana, arial, sans-serif; font-size: 12px; fill: rgb(42, 63, 95); fill-opacity: 1; white-space: pre; opacity: 1;\" transform=\"translate(0,444.59)\">622</text></g><g class=\"ytick\"><text text-anchor=\"end\" x=\"79\" y=\"4.199999999999999\" style=\"font-family: 'Open Sans', verdana, arial, sans-serif; font-size: 12px; fill: rgb(42, 63, 95); fill-opacity: 1; white-space: pre; opacity: 1;\" transform=\"translate(0,370.65)\">622.2</text></g><g class=\"ytick\"><text text-anchor=\"end\" x=\"79\" y=\"4.199999999999999\" style=\"font-family: 'Open Sans', verdana, arial, sans-serif; font-size: 12px; fill: rgb(42, 63, 95); fill-opacity: 1; white-space: pre; opacity: 1;\" transform=\"translate(0,296.7)\">622.4</text></g><g class=\"ytick\"><text text-anchor=\"end\" x=\"79\" y=\"4.199999999999999\" style=\"font-family: 'Open Sans', verdana, arial, sans-serif; font-size: 12px; fill: rgb(42, 63, 95); fill-opacity: 1; white-space: pre; opacity: 1;\" transform=\"translate(0,222.75)\">622.6</text></g><g class=\"ytick\"><text text-anchor=\"end\" x=\"79\" y=\"4.199999999999999\" style=\"font-family: 'Open Sans', verdana, arial, sans-serif; font-size: 12px; fill: rgb(42, 63, 95); fill-opacity: 1; white-space: pre; opacity: 1;\" transform=\"translate(0,148.8)\">622.8</text></g></g><g class=\"overaxes-above\"/></g></g><g class=\"polarlayer\"/><g class=\"smithlayer\"/><g class=\"ternarylayer\"/><g class=\"geolayer\"/><g class=\"funnelarealayer\"/><g class=\"pielayer\"/><g class=\"iciclelayer\"/><g class=\"treemaplayer\"/><g class=\"sunburstlayer\"/><g class=\"glimages\"/><defs id=\"topdefs-8453fc\"><g class=\"clips\"/></defs><g class=\"layer-above\"><g class=\"imagelayer\"/><g class=\"shapelayer\"/></g><g class=\"infolayer\"><g class=\"cbcoloraxis colorbar\" transform=\"translate(80,100)\"><rect class=\"cbbg\" x=\"1014\" y=\"0\" width=\"93.71875\" height=\"420\" style=\"fill: rgb(0, 0, 0); fill-opacity: 0; stroke: rgb(68, 68, 68); stroke-opacity: 1; stroke-width: 0;\"/><g class=\"cbfills\" transform=\"translate(0,31)\"><rect class=\"cbfill gradient_filled\" style=\"fill: url('#g8453fc-cbcoloraxis');\" x=\"1024\" y=\"0\" width=\"30\" height=\"379\"/></g><g class=\"cblines\" transform=\"translate(0,31)\"/><g class=\"cbaxis crisp\" transform=\"translate(0,-100)\"><g class=\"ycbcoloraxistick\"><text text-anchor=\"start\" x=\"1056.9\" y=\"4.199999999999999\" transform=\"translate(0,502.61)\" style=\"font-family: 'Open Sans', verdana, arial, sans-serif; font-size: 12px; fill: rgb(42, 63, 95); fill-opacity: 1; white-space: pre; opacity: 1;\">99.997</text></g><g class=\"ycbcoloraxistick\"><text text-anchor=\"start\" x=\"1056.9\" y=\"4.199999999999999\" style=\"font-family: 'Open Sans', verdana, arial, sans-serif; font-size: 12px; fill: rgb(42, 63, 95); fill-opacity: 1; white-space: pre; opacity: 1;\" transform=\"translate(0,440.6700000000001)\">99.9975</text></g><g class=\"ycbcoloraxistick\"><text text-anchor=\"start\" x=\"1056.9\" y=\"4.199999999999999\" style=\"font-family: 'Open Sans', verdana, arial, sans-serif; font-size: 12px; fill: rgb(42, 63, 95); fill-opacity: 1; white-space: pre; opacity: 1;\" transform=\"translate(0,378.74)\">99.998</text></g><g class=\"ycbcoloraxistick\"><text text-anchor=\"start\" x=\"1056.9\" y=\"4.199999999999999\" style=\"font-family: 'Open Sans', verdana, arial, sans-serif; font-size: 12px; fill: rgb(42, 63, 95); fill-opacity: 1; white-space: pre; opacity: 1;\" transform=\"translate(0,316.80000000000007)\">99.9985</text></g><g class=\"ycbcoloraxistick\"><text text-anchor=\"start\" x=\"1056.9\" y=\"4.199999999999999\" style=\"font-family: 'Open Sans', verdana, arial, sans-serif; font-size: 12px; fill: rgb(42, 63, 95); fill-opacity: 1; white-space: pre; opacity: 1;\" transform=\"translate(0,254.87000000000003)\">99.999</text></g><g class=\"ycbcoloraxistick\"><text text-anchor=\"start\" x=\"1056.9\" y=\"4.199999999999999\" style=\"font-family: 'Open Sans', verdana, arial, sans-serif; font-size: 12px; fill: rgb(42, 63, 95); fill-opacity: 1; white-space: pre; opacity: 1;\" transform=\"translate(0,192.93000000000004)\">99.9995</text></g><g class=\"ycbcoloraxistick\"><text text-anchor=\"start\" x=\"1056.9\" y=\"4.199999999999999\" style=\"font-family: 'Open Sans', verdana, arial, sans-serif; font-size: 12px; fill: rgb(42, 63, 95); fill-opacity: 1; white-space: pre; opacity: 1;\" transform=\"translate(0,131.00000000000003)\">100</text></g></g><g class=\"cbtitleunshift\" transform=\"translate(-80,-100)\"><g class=\"cbtitle\" transform=\"\"><text class=\"ycbcoloraxistitle\" x=\"1103.88\" y=\"123.5\" text-anchor=\"start\" style=\"font-family: 'Open Sans', verdana, arial, sans-serif; font-size: 14px; fill: rgb(42, 63, 95); opacity: 1; font-weight: normal; white-space: pre;\">mass (kg)</text></g></g><rect class=\"cboutline\" x=\"1024\" y=\"31\" width=\"30\" height=\"379\" style=\"stroke: rgb(68, 68, 68); stroke-opacity: 1; fill: none; stroke-width: 0;\"/></g><g class=\"g-gtitle\"><text class=\"gtitle\" x=\"60\" y=\"50\" text-anchor=\"start\" dy=\"0em\" style=\"font-family: 'Open Sans', verdana, arial, sans-serif; font-size: 17px; fill: rgb(42, 63, 95); opacity: 1; font-weight: normal; white-space: pre;\">2 body + In-track constant thrust maneuver</text></g><g class=\"g-xtitle\"><text class=\"xtitle\" x=\"577\" y=\"575.909375\" text-anchor=\"middle\" style=\"font-family: 'Open Sans', verdana, arial, sans-serif; font-size: 14px; fill: rgb(42, 63, 95); opacity: 1; font-weight: normal; white-space: pre;\">time</text></g><g class=\"g-ytitle\"><text class=\"ytitle\" transform=\"rotate(-90,24.668750000000003,310)\" x=\"24.668750000000003\" y=\"310\" text-anchor=\"middle\" style=\"font-family: 'Open Sans', verdana, arial, sans-serif; font-size: 14px; fill: rgb(42, 63, 95); opacity: 1; font-weight: normal; white-space: pre;\">altitude (km)</text></g></g></svg>"
      ]
     },
     "metadata": {},
     "output_type": "display_data"
    }
   ],
   "source": [
    "df = pd.DataFrame(data)\n",
    "figure = px.scatter(\n",
    "    data,\n",
    "    x=\"time\",\n",
    "    y=\"altitude (km)\",\n",
    "    color=\"mass (kg)\",\n",
    "    title=\"2 body + In-track constant thrust maneuver\",\n",
    "    height=600,\n",
    "    width=1200,\n",
    ")\n",
    "figure.show(\"svg\")"
   ]
  },
  {
   "cell_type": "markdown",
   "id": "bae26f81-8dcb-454a-9129-803c3f881543",
   "metadata": {},
   "source": [
    "---"
   ]
  }
 ],
 "metadata": {
  "kernelspec": {
   "display_name": "Python 3 (ipykernel)",
   "language": "python",
   "name": "python3"
  },
  "language_info": {
   "codemirror_mode": {
    "name": "ipython",
    "version": 3
   },
   "file_extension": ".py",
   "mimetype": "text/x-python",
   "name": "python",
   "nbconvert_exporter": "python",
   "pygments_lexer": "ipython3",
   "version": "3.11.6"
  }
 },
 "nbformat": 4,
 "nbformat_minor": 5
}
