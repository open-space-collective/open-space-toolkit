{
    "cells": [
        {
            "cell_type": "markdown",
            "id": "260b01cf-af50-4a65-8388-06917b48aab8",
            "metadata": {},
            "source": [
                "### Visualize Satellite Trajectory (Cesium)"
            ]
        },
        {
            "cell_type": "code",
            "execution_count": 2,
            "id": "d804ee69-a904-4767-a98a-12c31a465b2c",
            "metadata": {},
            "outputs": [
                {
                    "name": "stdout",
                    "output_type": "stream",
                    "text": [
                        "Collecting cesiumpy\n",
                        "  Cloning https://github.com/open-space-collective/cesiumpy.git to /tmp/pip-install-5mv25b95/cesiumpy_f3d9a4e417b848c6b6bdb04198f81902\n",
                        "  Running command git clone --filter=blob:none --quiet https://github.com/open-space-collective/cesiumpy.git /tmp/pip-install-5mv25b95/cesiumpy_f3d9a4e417b848c6b6bdb04198f81902\n",
                        "  Resolved https://github.com/open-space-collective/cesiumpy.git to commit d72945ab0816cd459c5083c817fa94c0b563c46a\n",
                        "  Running command git submodule update --init --recursive -q\n",
                        "  Preparing metadata (setup.py) ... \u001b[?25ldone\n",
                        "\u001b[?25hRequirement already satisfied: six in /opt/conda/lib/python3.10/site-packages (from cesiumpy) (1.16.0)\n",
                        "Requirement already satisfied: traitlets in /opt/conda/lib/python3.10/site-packages (from cesiumpy) (5.9.0)\n",
                        "Requirement already satisfied: geopy>=1.11.0 in /opt/conda/lib/python3.10/site-packages (from cesiumpy) (2.4.1)\n",
                        "Requirement already satisfied: geographiclib<3,>=1.52 in /opt/conda/lib/python3.10/site-packages (from geopy>=1.11.0->cesiumpy) (2.0)\n",
                        "\n",
                        "\u001b[1m[\u001b[0m\u001b[34;49mnotice\u001b[0m\u001b[1;39;49m]\u001b[0m\u001b[39;49m A new release of pip is available: \u001b[0m\u001b[31;49m23.3.1\u001b[0m\u001b[39;49m -> \u001b[0m\u001b[32;49m24.0\u001b[0m\n",
                        "\u001b[1m[\u001b[0m\u001b[34;49mnotice\u001b[0m\u001b[1;39;49m]\u001b[0m\u001b[39;49m To update, run: \u001b[0m\u001b[32;49mpip install --upgrade pip\u001b[0m\n"
                    ]
                }
            ],
            "source": [
                "import sys\n",
                "\n",
                "!{sys.executable} -m pip install git+https://github.com/open-space-collective/cesiumpy.git#egg=cesiumpy"
            ]
        },
        {
            "cell_type": "code",
            "execution_count": 3,
            "id": "a2734ee4-5d74-4f5c-b615-597d0dee26c2",
            "metadata": {},
            "outputs": [],
            "source": [
                "import os\n",
                "\n",
                "from ostk.physics import Environment\n",
                "from ostk.physics.unit import Length\n",
                "from ostk.physics.unit import Angle\n",
                "from ostk.physics.time import Instant\n",
                "from ostk.physics.time import Interval\n",
                "from ostk.physics.time import Duration\n",
                "from ostk.physics.time import DateTime\n",
                "from ostk.physics.time import Time\n",
                "from ostk.physics.time import Scale\n",
                "from ostk.physics.unit import Length\n",
                "\n",
                "from ostk.astrodynamics.trajectory import Orbit\n",
                "from ostk.astrodynamics.flight import Profile\n",
                "from ostk.astrodynamics.viewer import Viewer\n",
                "from ostk.astrodynamics.viewer import ConicSensor"
            ]
        },
        {
            "cell_type": "code",
            "execution_count": 4,
            "id": "ebe3537c-c5cb-4a36-b6f7-2bdeb285597c",
            "metadata": {},
            "outputs": [],
            "source": [
                "environment = Environment.default()"
            ]
        },
        {
            "cell_type": "code",
            "execution_count": 5,
            "id": "a2f9f6c7-83d0-4b8c-b273-7025cc10e9f3",
            "metadata": {},
            "outputs": [],
            "source": [
                "orbit = Orbit.sun_synchronous(\n",
                "    epoch=Instant.date_time(DateTime(2023, 1, 1, 0, 0, 0), Scale.UTC),\n",
                "    altitude=Length.kilometers(500.0),\n",
                "    local_time_at_descending_node=Time(14, 0, 0),\n",
                "    celestial_object=environment.access_celestial_object_with_name(\"Earth\"),\n",
                ")"
            ]
        },
        {
            "cell_type": "code",
            "execution_count": 7,
            "id": "ed194065-f81d-4a86-8470-1c86278709de",
            "metadata": {},
            "outputs": [],
            "source": [
                "interval = Interval.closed(\n",
                "    start_instant=Instant.date_time(DateTime(2023, 1, 1, 0, 0, 0), Scale.UTC),\n",
                "    end_instant=Instant.date_time(DateTime(2023, 1, 1, 3, 0, 0), Scale.UTC),\n",
                ")"
            ]
        },
        {
            "cell_type": "code",
            "execution_count": null,
            "id": "aa7256cc",
            "metadata": {},
            "outputs": [],
            "source": [
                "viewer = Viewer(\n",
                "    interval=interval,\n",
                "    cesium_token=os.environ.get(\"CESIUM_TOKEN\"),  # Get a token from https://cesium.com/learn/ion/cesium-ion-access-tokens/\n",
                "    zoom_to_entity=False,\n",
                "    track_entity=False,\n",
                ")\n",
                "viewer.add_orbit(\n",
                "    orbit=orbit,\n",
                "    step=Duration.seconds(5.0),\n",
                "    show_orbital_track=True,\n",
                ")"
            ]
        },
        {
            "cell_type": "markdown",
            "id": "c8e46c31",
            "metadata": {},
            "source": [
                "If you have a known attitude profile and cesium asset id, you can visualize a more detailed satellite trajectory, including attitude."
            ]
        },
        {
            "cell_type": "code",
            "execution_count": 6,
            "id": "82a79278-fd35-4468-a6b4-a9f69ebdf9c3",
            "metadata": {},
            "outputs": [],
            "source": [
                "profile = Profile.local_orbital_frame_pointing(\n",
                "    orbit=orbit,\n",
                "    orbital_frame_type=Orbit.FrameType.VVLH,\n",
                ")"
            ]
        },
        {
            "cell_type": "code",
            "execution_count": 18,
            "id": "b69434f8-10ad-48dc-824c-5da081203f6f",
            "metadata": {},
            "outputs": [],
            "source": [
                "viewer = Viewer(\n",
                "    interval=interval,\n",
                "    cesium_token=os.environ.get(\"CESIUM_TOKEN\"),  # Get a token from https://cesium.com/learn/ion/cesium-ion-access-tokens/\n",
                ")\n",
                "viewer.add_profile(\n",
                "    profile=profile,\n",
                "    step=Duration.seconds(5.0),\n",
                "    show_orbital_track=True,\n",
                "    cesium_asset_id=669199,\n",
                "    sensors=[\n",
                "        ConicSensor(\n",
                "            name=\"Payload\",\n",
                "            direction=(0.0, 0.0, 1.0),\n",
                "            half_angle=Angle.degrees(8.0),\n",
                "            length=Length.meters(1.0),\n",
                "            color=\"red\",\n",
                "        )\n",
                "    ],\n",
                ")"
            ]
        },
        {
            "cell_type": "code",
            "execution_count": 19,
            "id": "6466e462-a178-472a-bfd2-4625f40f1bcc",
            "metadata": {},
            "outputs": [],
            "source": [
                "viewer"
            ]
        },
        {
            "cell_type": "markdown",
            "id": "de018151",
            "metadata": {},
            "source": [
                "---"
            ]
        }
    ],
    "metadata": {
        "kernelspec": {
            "display_name": "Python 3 (ipykernel)",
            "language": "python",
            "name": "python3"
        },
        "language_info": {
            "codemirror_mode": {
                "name": "ipython",
                "version": 3
            },
            "file_extension": ".py",
            "mimetype": "text/x-python",
            "name": "python",
            "nbconvert_exporter": "python",
            "pygments_lexer": "ipython3",
            "version": "3.10.9"
        }
    },
    "nbformat": 4,
    "nbformat_minor": 5
}
