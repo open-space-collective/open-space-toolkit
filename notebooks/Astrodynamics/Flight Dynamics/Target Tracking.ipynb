{
 "cells": [
  {
   "cell_type": "markdown",
   "metadata": {},
   "source": [
    "# Target Tracking"
   ]
  },
  {
   "cell_type": "markdown",
   "metadata": {},
   "source": [
    "This tutorial demonstrates how to generate a target tracking profile, and generate Yaw-Pitch-Roll (YPR) angles."
   ]
  },
  {
   "cell_type": "markdown",
   "metadata": {},
   "source": [
    "## Setup"
   ]
  },
  {
   "cell_type": "code",
   "execution_count": 1,
   "metadata": {},
   "outputs": [],
   "source": [
    "import os\n",
    "import math\n",
    "\n",
    "import numpy as np\n",
    "\n",
    "import pandas as pd\n",
    "\n",
    "import plotly.express as px\n",
    "\n",
    "from ostk.mathematics.object import RealInterval\n",
    "from ostk.mathematics.geometry import Angle as MathAngle\n",
    "from ostk.mathematics.geometry.d3.transformation.rotation import Quaternion\n",
    "from ostk.mathematics.geometry.d3.transformation.rotation import EulerAngle\n",
    "\n",
    "from ostk.physics import Environment\n",
    "from ostk.physics.unit import Length\n",
    "from ostk.physics.unit import Angle\n",
    "from ostk.physics.time import Scale\n",
    "from ostk.physics.time import Instant\n",
    "from ostk.physics.time import Duration\n",
    "from ostk.physics.time import Interval\n",
    "from ostk.physics.time import DateTime\n",
    "from ostk.physics.time import Time\n",
    "from ostk.physics.coordinate import Position\n",
    "from ostk.physics.coordinate import Frame\n",
    "from ostk.physics.coordinate import Transform\n",
    "from ostk.physics.coordinate.spherical import LLA\n",
    "from ostk.physics.coordinate.frame.provider import Dynamic as DynamicFrameProvider\n",
    "\n",
    "from ostk.astrodynamics import Trajectory\n",
    "from ostk.astrodynamics.trajectory import Orbit\n",
    "from ostk.astrodynamics.flight import Profile\n",
    "from ostk.astrodynamics.flight.profile.model import Transform as FlightProfileTransform\n",
    "from ostk.astrodynamics.access import Generator as AccessGenerator\n",
    "from ostk.astrodynamics.viewer import Viewer"
   ]
  },
  {
   "cell_type": "markdown",
   "metadata": {},
   "source": [
    "---"
   ]
  },
  {
   "cell_type": "markdown",
   "metadata": {},
   "source": [
    "## Computation"
   ]
  },
  {
   "cell_type": "markdown",
   "metadata": {},
   "source": [
    "Initialize an environment:"
   ]
  },
  {
   "cell_type": "code",
   "execution_count": 2,
   "metadata": {},
   "outputs": [],
   "source": [
    "environment = Environment.default()\n",
    "earth = environment.access_celestial_object_with_name(\"Earth\")"
   ]
  },
  {
   "cell_type": "markdown",
   "metadata": {},
   "source": [
    "Construct an orbit:"
   ]
  },
  {
   "cell_type": "code",
   "execution_count": 3,
   "metadata": {},
   "outputs": [],
   "source": [
    "orbit = Orbit.sun_synchronous(\n",
    "    epoch=Instant.date_time(DateTime(2024, 1, 1, 0, 0, 0), Scale.UTC),\n",
    "    altitude=Length.kilometers(550.0),\n",
    "    local_time_at_descending_node=Time(14, 30, 0),\n",
    "    celestial_object=earth,\n",
    ")"
   ]
  },
  {
   "cell_type": "markdown",
   "metadata": {},
   "source": [
    "Define an interval of interest:"
   ]
  },
  {
   "cell_type": "code",
   "execution_count": 4,
   "metadata": {},
   "outputs": [],
   "source": [
    "interval = Interval.closed(\n",
    "    start_instant=Instant.date_time(DateTime(2024, 1, 1, 0, 0, 0), Scale.UTC),\n",
    "    end_instant=Instant.date_time(DateTime(2024, 1, 3, 0, 0, 0), Scale.UTC),\n",
    ")"
   ]
  },
  {
   "cell_type": "markdown",
   "metadata": {},
   "source": [
    "Define the coordinates of the target to track:"
   ]
  },
  {
   "cell_type": "code",
   "execution_count": 5,
   "metadata": {},
   "outputs": [],
   "source": [
    "target_lla = LLA(\n",
    "    latitude=Angle.degrees(0.0),\n",
    "    longitude=Angle.degrees(0.0),\n",
    "    altitude=Length.meters(10.0),\n",
    ")\n",
    "\n",
    "target_position = Position.meters(\n",
    "    target_lla.to_cartesian(\n",
    "        ellipsoid_equatorial_radius=earth.get_equatorial_radius(),\n",
    "        ellipsoid_flattening=earth.get_flattening(),\n",
    "    ),\n",
    "    Frame.ITRF(),\n",
    ")"
   ]
  },
  {
   "cell_type": "markdown",
   "metadata": {},
   "source": [
    "Find one access during which the satellite is over the target:"
   ]
  },
  {
   "cell_type": "code",
   "execution_count": 6,
   "metadata": {},
   "outputs": [],
   "source": [
    "access_generator = AccessGenerator.aer_ranges(\n",
    "    azimuth_range=RealInterval.closed(0.0, 360.0),\n",
    "    elevation_range=RealInterval.closed(20.0, 90.0),\n",
    "    range_range=RealInterval.closed(0.0, 10000e3),\n",
    "    environment=environment,\n",
    ")\n",
    "\n",
    "accesses = access_generator.compute_accesses(\n",
    "    interval=interval,\n",
    "    from_trajectory=Trajectory.position(target_position),\n",
    "    to_trajectory=orbit,\n",
    ")\n",
    "\n",
    "access = accesses[0]"
   ]
  },
  {
   "cell_type": "markdown",
   "metadata": {},
   "source": [
    "Construct a Vehicle Velocity, Local Horizontal (VVLH) frame from the orbit:"
   ]
  },
  {
   "cell_type": "code",
   "execution_count": 7,
   "metadata": {},
   "outputs": [],
   "source": [
    "vvlh_frame = orbit.get_orbital_frame(Orbit.FrameType.VVLH)"
   ]
  },
  {
   "cell_type": "markdown",
   "metadata": {},
   "source": [
    "Generate a flight profile:"
   ]
  },
  {
   "cell_type": "code",
   "execution_count": 31,
   "metadata": {},
   "outputs": [],
   "source": [
    "def calculate_attitude(satellite_state, target_position):\n",
    "    # Satellite position in GCRF\n",
    "    satellite_r_GCRF = (\n",
    "        satellite_state.in_frame(Frame.GCRF()).get_position().get_coordinates()\n",
    "    )\n",
    "\n",
    "    # Target position in GCRF\n",
    "    target_r_GCRF = target_position.in_frame(\n",
    "        Frame.GCRF(),\n",
    "        satellite_state.get_instant(),\n",
    "    ).get_coordinates()\n",
    "\n",
    "    # Satellite to Target direction vector in GCRF\n",
    "    u_GCRF = target_r_GCRF - satellite_r_GCRF\n",
    "    u_GCRF = u_GCRF / np.linalg.norm(u_GCRF)\n",
    "\n",
    "    # VVLH quaternion in GCRF\n",
    "    q_VVLH_GCRF = (\n",
    "        Frame.GCRF()\n",
    "        .get_transform_to(vvlh_frame, satellite_state.get_instant())\n",
    "        .get_orientation()\n",
    "    )\n",
    "\n",
    "    # Satellite to Target direction vector in VVLH\n",
    "    u_VVLH = q_VVLH_GCRF * u_GCRF\n",
    "\n",
    "    # Projection of the Satellite to Target direction vector in VVLH on the XZ plane\n",
    "    u_VVLH_xz = np.array([u_VVLH[0], 0.0, u_VVLH[2]])\n",
    "    u_VVLH_xz = u_VVLH_xz / np.linalg.norm(u_VVLH_xz)\n",
    "\n",
    "    # Satellite attitude quaternion in VVLH\n",
    "    q_B_VVLH = Quaternion.euler_angle(\n",
    "        euler_angle=EulerAngle.zyx(\n",
    "            phi=MathAngle.zero(),\n",
    "            theta=MathAngle.radians(math.atan2(u_VVLH_xz[0], u_VVLH_xz[2])),\n",
    "            psi=MathAngle.between(u_VVLH, u_VVLH_xz),\n",
    "        ),\n",
    "    )\n",
    "\n",
    "    q_B_GCRF = (q_B_VVLH * q_VVLH_GCRF).to_normalized()\n",
    "\n",
    "    return q_B_GCRF\n",
    "\n",
    "\n",
    "def body_frame_transform_generator(instant):\n",
    "    state = orbit.get_state_at(instant).in_frame(Frame.GCRF())\n",
    "\n",
    "    q_B_GCRF = calculate_attitude(\n",
    "        satellite_state=state,\n",
    "        target_position=target_position,\n",
    "    )\n",
    "\n",
    "    return Transform.active(\n",
    "        instant,\n",
    "        -state.get_position().get_coordinates(),\n",
    "        np.array((0.0, 0.0, 0.0)),\n",
    "        q_B_GCRF,\n",
    "        np.array((0.0, 0.0, 0.0)),\n",
    "    )\n",
    "\n",
    "\n",
    "profile = Profile(\n",
    "    model=FlightProfileTransform(\n",
    "        DynamicFrameProvider(body_frame_transform_generator),\n",
    "        Frame.GCRF(),\n",
    "    ),\n",
    ")"
   ]
  },
  {
   "cell_type": "markdown",
   "metadata": {},
   "source": [
    "Calculate and plot the Yaw-Pitch-Roll (YPR) angles in the VVLH frame during the access:"
   ]
  },
  {
   "cell_type": "code",
   "execution_count": 55,
   "metadata": {},
   "outputs": [
    {
     "data": {
      "application/vnd.plotly.v1+json": {
       "config": {
        "plotlyServerURL": "https://plot.ly"
       },
       "data": [
        {
         "hovertemplate": "variable=Yaw [deg]<br>Timestamp=%{x}<br>value=%{y}<extra></extra>",
         "legendgroup": "Yaw [deg]",
         "line": {
          "color": "#636efa",
          "dash": "solid"
         },
         "marker": {
          "symbol": "circle"
         },
         "mode": "lines",
         "name": "Yaw [deg]",
         "orientation": "v",
         "showlegend": true,
         "type": "scatter",
         "x": [
          "2024-01-01T15:08:42.062269",
          "2024-01-01T15:08:43.062269",
          "2024-01-01T15:08:44.062269",
          "2024-01-01T15:08:45.062269",
          "2024-01-01T15:08:46.062269",
          "2024-01-01T15:08:47.062269",
          "2024-01-01T15:08:48.062269",
          "2024-01-01T15:08:49.062269",
          "2024-01-01T15:08:50.062269",
          "2024-01-01T15:08:51.062269",
          "2024-01-01T15:08:52.062269",
          "2024-01-01T15:08:53.062269",
          "2024-01-01T15:08:54.062269",
          "2024-01-01T15:08:55.062269",
          "2024-01-01T15:08:56.062269",
          "2024-01-01T15:08:57.062269",
          "2024-01-01T15:08:58.062269",
          "2024-01-01T15:08:59.062269",
          "2024-01-01T15:09:00.062269",
          "2024-01-01T15:09:01.062269",
          "2024-01-01T15:09:02.062269",
          "2024-01-01T15:09:03.062269",
          "2024-01-01T15:09:04.062269",
          "2024-01-01T15:09:05.062269",
          "2024-01-01T15:09:06.062269",
          "2024-01-01T15:09:07.062269",
          "2024-01-01T15:09:08.062269",
          "2024-01-01T15:09:09.062269",
          "2024-01-01T15:09:10.062269",
          "2024-01-01T15:09:11.062269",
          "2024-01-01T15:09:12.062269",
          "2024-01-01T15:09:13.062269",
          "2024-01-01T15:09:14.062269",
          "2024-01-01T15:09:15.062269",
          "2024-01-01T15:09:16.062269",
          "2024-01-01T15:09:17.062269",
          "2024-01-01T15:09:18.062269",
          "2024-01-01T15:09:19.062269",
          "2024-01-01T15:09:20.062269",
          "2024-01-01T15:09:21.062269",
          "2024-01-01T15:09:22.062269",
          "2024-01-01T15:09:23.062269",
          "2024-01-01T15:09:24.062269",
          "2024-01-01T15:09:25.062269",
          "2024-01-01T15:09:26.062269",
          "2024-01-01T15:09:27.062269",
          "2024-01-01T15:09:28.062269",
          "2024-01-01T15:09:29.062269",
          "2024-01-01T15:09:30.062269",
          "2024-01-01T15:09:31.062269",
          "2024-01-01T15:09:32.062269",
          "2024-01-01T15:09:33.062269",
          "2024-01-01T15:09:34.062269",
          "2024-01-01T15:09:35.062269",
          "2024-01-01T15:09:36.062269",
          "2024-01-01T15:09:37.062269",
          "2024-01-01T15:09:38.062269",
          "2024-01-01T15:09:39.062269",
          "2024-01-01T15:09:40.062269",
          "2024-01-01T15:09:41.062269",
          "2024-01-01T15:09:42.062269",
          "2024-01-01T15:09:43.062269",
          "2024-01-01T15:09:44.062269",
          "2024-01-01T15:09:45.062269",
          "2024-01-01T15:09:46.062269",
          "2024-01-01T15:09:47.062269",
          "2024-01-01T15:09:48.062269",
          "2024-01-01T15:09:49.062269",
          "2024-01-01T15:09:50.062269",
          "2024-01-01T15:09:51.062269",
          "2024-01-01T15:09:52.062269",
          "2024-01-01T15:09:53.062269",
          "2024-01-01T15:09:54.062269",
          "2024-01-01T15:09:55.062269",
          "2024-01-01T15:09:56.062269",
          "2024-01-01T15:09:57.062269",
          "2024-01-01T15:09:58.062269",
          "2024-01-01T15:09:59.062269",
          "2024-01-01T15:09:59.522054"
         ],
         "xaxis": "x",
         "y": [
          0,
          1.7869235120229218e-15,
          0,
          0,
          0,
          0,
          0,
          0,
          1.7366949550643798e-15,
          6.920045328221049e-15,
          0,
          1.717036426208561e-15,
          0,
          5.1137999588714615e-15,
          8.49294682954146e-15,
          3.385440251562142e-15,
          0,
          0,
          1.1731877854072747e-14,
          8.35350269184767e-15,
          0,
          5.8120815732565354e-15,
          3.3115499088251687e-15,
          1.2383348899837545e-14,
          1.1526279251459276e-14,
          0,
          0,
          8.170416295113054e-16,
          0,
          0,
          0,
          2.4295843931852554e-15,
          5.657965811508176e-15,
          0,
          4.8322899560866325e-15,
          1.366909398803678e-14,
          0,
          1.6033941564700893e-15,
          0,
          0,
          3.994108337400899e-15,
          1.5960898912228134e-15,
          0,
          0,
          0,
          5.968910209809046e-16,
          2.6849382904996153e-15,
          0,
          0,
          0,
          1.8388783102437903e-15,
          2.684254146472543e-15,
          1.3624145190561883e-14,
          8.754881412863646e-15,
          1.7917148038874316e-15,
          9.561940592484959e-15,
          0,
          3.990611803048858e-15,
          0,
          0,
          2.802585275838754e-15,
          0,
          4.014636468920147e-16,
          1.1258145183761887e-14,
          8.054660457622063e-16,
          8.068650611385686e-16,
          1.6166990999202611e-15,
          0,
          0,
          1.2199621689646207e-14,
          0,
          0,
          1.146609415245136e-14,
          0,
          1.6464097848793989e-15,
          0,
          4.966279732726909e-15,
          0,
          1.1636731529473894e-14
         ],
         "yaxis": "y"
        },
        {
         "hovertemplate": "variable=Pitch [deg]<br>Timestamp=%{x}<br>value=%{y}<extra></extra>",
         "legendgroup": "Pitch [deg]",
         "line": {
          "color": "#EF553B",
          "dash": "solid"
         },
         "marker": {
          "symbol": "circle"
         },
         "mode": "lines",
         "name": "Pitch [deg]",
         "orientation": "v",
         "showlegend": true,
         "type": "scatter",
         "x": [
          "2024-01-01T15:08:42.062269",
          "2024-01-01T15:08:43.062269",
          "2024-01-01T15:08:44.062269",
          "2024-01-01T15:08:45.062269",
          "2024-01-01T15:08:46.062269",
          "2024-01-01T15:08:47.062269",
          "2024-01-01T15:08:48.062269",
          "2024-01-01T15:08:49.062269",
          "2024-01-01T15:08:50.062269",
          "2024-01-01T15:08:51.062269",
          "2024-01-01T15:08:52.062269",
          "2024-01-01T15:08:53.062269",
          "2024-01-01T15:08:54.062269",
          "2024-01-01T15:08:55.062269",
          "2024-01-01T15:08:56.062269",
          "2024-01-01T15:08:57.062269",
          "2024-01-01T15:08:58.062269",
          "2024-01-01T15:08:59.062269",
          "2024-01-01T15:09:00.062269",
          "2024-01-01T15:09:01.062269",
          "2024-01-01T15:09:02.062269",
          "2024-01-01T15:09:03.062269",
          "2024-01-01T15:09:04.062269",
          "2024-01-01T15:09:05.062269",
          "2024-01-01T15:09:06.062269",
          "2024-01-01T15:09:07.062269",
          "2024-01-01T15:09:08.062269",
          "2024-01-01T15:09:09.062269",
          "2024-01-01T15:09:10.062269",
          "2024-01-01T15:09:11.062269",
          "2024-01-01T15:09:12.062269",
          "2024-01-01T15:09:13.062269",
          "2024-01-01T15:09:14.062269",
          "2024-01-01T15:09:15.062269",
          "2024-01-01T15:09:16.062269",
          "2024-01-01T15:09:17.062269",
          "2024-01-01T15:09:18.062269",
          "2024-01-01T15:09:19.062269",
          "2024-01-01T15:09:20.062269",
          "2024-01-01T15:09:21.062269",
          "2024-01-01T15:09:22.062269",
          "2024-01-01T15:09:23.062269",
          "2024-01-01T15:09:24.062269",
          "2024-01-01T15:09:25.062269",
          "2024-01-01T15:09:26.062269",
          "2024-01-01T15:09:27.062269",
          "2024-01-01T15:09:28.062269",
          "2024-01-01T15:09:29.062269",
          "2024-01-01T15:09:30.062269",
          "2024-01-01T15:09:31.062269",
          "2024-01-01T15:09:32.062269",
          "2024-01-01T15:09:33.062269",
          "2024-01-01T15:09:34.062269",
          "2024-01-01T15:09:35.062269",
          "2024-01-01T15:09:36.062269",
          "2024-01-01T15:09:37.062269",
          "2024-01-01T15:09:38.062269",
          "2024-01-01T15:09:39.062269",
          "2024-01-01T15:09:40.062269",
          "2024-01-01T15:09:41.062269",
          "2024-01-01T15:09:42.062269",
          "2024-01-01T15:09:43.062269",
          "2024-01-01T15:09:44.062269",
          "2024-01-01T15:09:45.062269",
          "2024-01-01T15:09:46.062269",
          "2024-01-01T15:09:47.062269",
          "2024-01-01T15:09:48.062269",
          "2024-01-01T15:09:49.062269",
          "2024-01-01T15:09:50.062269",
          "2024-01-01T15:09:51.062269",
          "2024-01-01T15:09:52.062269",
          "2024-01-01T15:09:53.062269",
          "2024-01-01T15:09:54.062269",
          "2024-01-01T15:09:55.062269",
          "2024-01-01T15:09:56.062269",
          "2024-01-01T15:09:57.062269",
          "2024-01-01T15:09:58.062269",
          "2024-01-01T15:09:59.062269",
          "2024-01-01T15:09:59.522054"
         ],
         "xaxis": "x",
         "y": [
          27.60484921670671,
          27.13270067440036,
          26.655808299179725,
          26.174185776964787,
          25.687849789312427,
          25.196821282708598,
          24.701123818339216,
          24.2007848359537,
          23.695835456408773,
          23.186310572126697,
          22.67224893343589,
          22.153692938774956,
          21.630689877464942,
          21.103290250864145,
          20.57154900379677,
          20.035525290838073,
          19.495282527122463,
          18.95088843139445,
          18.40241477327749,
          17.849938550565383,
          17.293540278144285,
          16.733305148033875,
          16.169322738182608,
          15.60168699925354,
          15.03049623047146,
          14.455853044400854,
          13.877864042055155,
          13.296640868733183,
          12.712298470220075,
          12.124956127707527,
          11.534737083852091,
          10.941768436376128,
          10.346181019637756,
          9.748109008972124,
          9.147690841938717,
          8.54506746643051,
          7.940383243411287,
          7.33378550389182,
          6.725424362879596,
          6.115452523484322,
          5.5040250717327055,
          4.891299017338423,
          4.277434056318305,
          3.662590861121324,
          3.046931835156527,
          2.430620623614061,
          1.8138218677097666,
          1.1967009551820256,
          0.5794235440244871,
          -0.03784379292174003,
          -0.6549351764029232,
          -1.2716847704379752,
          -1.8879272636007798,
          -2.5034981210920595,
          -3.1182338338495996,
          -3.7319721637728493,
          -4.3445525797050655,
          -4.955815706068281,
          -5.5656047357849205,
          -6.173764857655293,
          -6.780143668485696,
          -7.3845913771989355,
          -7.986960999585071,
          -8.587108711770762,
          -9.18489334593177,
          -9.78017757771606,
          -10.372827391978424,
          -10.962712396117228,
          -11.549705948996678,
          -12.133685277967631,
          -12.714531724684347,
          -13.292130270413672,
          -13.866370474135927,
          -14.437145965827794,
          -15.004354648298643,
          -15.567898742503067,
          -16.12768482146921,
          -16.683623833052337,
          -16.937922161122735
         ],
         "yaxis": "y"
        },
        {
         "hovertemplate": "variable=Roll [deg]<br>Timestamp=%{x}<br>value=%{y}<extra></extra>",
         "legendgroup": "Roll [deg]",
         "line": {
          "color": "#00cc96",
          "dash": "solid"
         },
         "marker": {
          "symbol": "circle"
         },
         "mode": "lines",
         "name": "Roll [deg]",
         "orientation": "v",
         "showlegend": true,
         "type": "scatter",
         "x": [
          "2024-01-01T15:08:42.062269",
          "2024-01-01T15:08:43.062269",
          "2024-01-01T15:08:44.062269",
          "2024-01-01T15:08:45.062269",
          "2024-01-01T15:08:46.062269",
          "2024-01-01T15:08:47.062269",
          "2024-01-01T15:08:48.062269",
          "2024-01-01T15:08:49.062269",
          "2024-01-01T15:08:50.062269",
          "2024-01-01T15:08:51.062269",
          "2024-01-01T15:08:52.062269",
          "2024-01-01T15:08:53.062269",
          "2024-01-01T15:08:54.062269",
          "2024-01-01T15:08:55.062269",
          "2024-01-01T15:08:56.062269",
          "2024-01-01T15:08:57.062269",
          "2024-01-01T15:08:58.062269",
          "2024-01-01T15:08:59.062269",
          "2024-01-01T15:09:00.062269",
          "2024-01-01T15:09:01.062269",
          "2024-01-01T15:09:02.062269",
          "2024-01-01T15:09:03.062269",
          "2024-01-01T15:09:04.062269",
          "2024-01-01T15:09:05.062269",
          "2024-01-01T15:09:06.062269",
          "2024-01-01T15:09:07.062269",
          "2024-01-01T15:09:08.062269",
          "2024-01-01T15:09:09.062269",
          "2024-01-01T15:09:10.062269",
          "2024-01-01T15:09:11.062269",
          "2024-01-01T15:09:12.062269",
          "2024-01-01T15:09:13.062269",
          "2024-01-01T15:09:14.062269",
          "2024-01-01T15:09:15.062269",
          "2024-01-01T15:09:16.062269",
          "2024-01-01T15:09:17.062269",
          "2024-01-01T15:09:18.062269",
          "2024-01-01T15:09:19.062269",
          "2024-01-01T15:09:20.062269",
          "2024-01-01T15:09:21.062269",
          "2024-01-01T15:09:22.062269",
          "2024-01-01T15:09:23.062269",
          "2024-01-01T15:09:24.062269",
          "2024-01-01T15:09:25.062269",
          "2024-01-01T15:09:26.062269",
          "2024-01-01T15:09:27.062269",
          "2024-01-01T15:09:28.062269",
          "2024-01-01T15:09:29.062269",
          "2024-01-01T15:09:30.062269",
          "2024-01-01T15:09:31.062269",
          "2024-01-01T15:09:32.062269",
          "2024-01-01T15:09:33.062269",
          "2024-01-01T15:09:34.062269",
          "2024-01-01T15:09:35.062269",
          "2024-01-01T15:09:36.062269",
          "2024-01-01T15:09:37.062269",
          "2024-01-01T15:09:38.062269",
          "2024-01-01T15:09:39.062269",
          "2024-01-01T15:09:40.062269",
          "2024-01-01T15:09:41.062269",
          "2024-01-01T15:09:42.062269",
          "2024-01-01T15:09:43.062269",
          "2024-01-01T15:09:44.062269",
          "2024-01-01T15:09:45.062269",
          "2024-01-01T15:09:46.062269",
          "2024-01-01T15:09:47.062269",
          "2024-01-01T15:09:48.062269",
          "2024-01-01T15:09:49.062269",
          "2024-01-01T15:09:50.062269",
          "2024-01-01T15:09:51.062269",
          "2024-01-01T15:09:52.062269",
          "2024-01-01T15:09:53.062269",
          "2024-01-01T15:09:54.062269",
          "2024-01-01T15:09:55.062269",
          "2024-01-01T15:09:56.062269",
          "2024-01-01T15:09:57.062269",
          "2024-01-01T15:09:58.062269",
          "2024-01-01T15:09:59.062269",
          "2024-01-01T15:09:59.522054"
         ],
         "xaxis": "x",
         "y": [
          55.52519677677979,
          55.66258557455062,
          55.798225822226534,
          55.93207019367193,
          56.06407170613433,
          56.19418216994819,
          56.32235462131286,
          56.44854176992716,
          56.57269644391176,
          56.694771636470726,
          56.81472055392233,
          56.93249704432402,
          57.04805412836327,
          57.161346334440545,
          57.27232822673417,
          57.380954840863545,
          57.48718173861787,
          57.590965063519754,
          57.69226195857741,
          57.79102917440777,
          57.887225303238665,
          57.98080938274069,
          58.071741317798086,
          58.15998193815776,
          58.24549305602483,
          58.32823752325418,
          58.408179630258495,
          58.485283791334965,
          58.55951665960922,
          58.630845805842455,
          58.699240115988275,
          58.76466984290775,
          58.82710665656726,
          58.88652401886649,
          58.942895922483025,
          58.99619890010762,
          59.04641075464369,
          59.09351092753979,
          59.13748053601333,
          59.17830240754868,
          59.21596111149735,
          59.25044329834295,
          59.28173648090269,
          59.309830925732015,
          59.334718424114854,
          59.35639262003492,
          59.37484902221266,
          59.39008501257324,
          59.40210015037136,
          59.410894975239174,
          59.41647280443468,
          59.418838525666665,
          59.417998888299955,
          59.413962490237665,
          59.40673976135938,
          59.39634294349239,
          59.38278635628283,
          59.36608521256549,
          59.3462573271166,
          59.32332192375333,
          59.29729988988608,
          59.26821373806116,
          59.23608756486591,
          59.20094729084176,
          59.162819480266435,
          59.12173299581197,
          59.077717812969645,
          59.030805252551744,
          58.98102792753978,
          58.928419688571495,
          58.87301584851783,
          58.814852004219915,
          58.753965661684646,
          58.69039505578573,
          58.624179372231616,
          58.555358688654806,
          58.4839739155965,
          58.410066737508124,
          58.375250413548635
         ],
         "yaxis": "y"
        }
       ],
       "layout": {
        "autosize": true,
        "legend": {
         "title": {
          "text": "variable"
         },
         "tracegroupgap": 0
        },
        "template": {
         "data": {
          "bar": [
           {
            "error_x": {
             "color": "#2a3f5f"
            },
            "error_y": {
             "color": "#2a3f5f"
            },
            "marker": {
             "line": {
              "color": "#E5ECF6",
              "width": 0.5
             },
             "pattern": {
              "fillmode": "overlay",
              "size": 10,
              "solidity": 0.2
             }
            },
            "type": "bar"
           }
          ],
          "barpolar": [
           {
            "marker": {
             "line": {
              "color": "#E5ECF6",
              "width": 0.5
             },
             "pattern": {
              "fillmode": "overlay",
              "size": 10,
              "solidity": 0.2
             }
            },
            "type": "barpolar"
           }
          ],
          "carpet": [
           {
            "aaxis": {
             "endlinecolor": "#2a3f5f",
             "gridcolor": "white",
             "linecolor": "white",
             "minorgridcolor": "white",
             "startlinecolor": "#2a3f5f"
            },
            "baxis": {
             "endlinecolor": "#2a3f5f",
             "gridcolor": "white",
             "linecolor": "white",
             "minorgridcolor": "white",
             "startlinecolor": "#2a3f5f"
            },
            "type": "carpet"
           }
          ],
          "choropleth": [
           {
            "colorbar": {
             "outlinewidth": 0,
             "ticks": ""
            },
            "type": "choropleth"
           }
          ],
          "contour": [
           {
            "colorbar": {
             "outlinewidth": 0,
             "ticks": ""
            },
            "colorscale": [
             [
              0,
              "#0d0887"
             ],
             [
              0.1111111111111111,
              "#46039f"
             ],
             [
              0.2222222222222222,
              "#7201a8"
             ],
             [
              0.3333333333333333,
              "#9c179e"
             ],
             [
              0.4444444444444444,
              "#bd3786"
             ],
             [
              0.5555555555555556,
              "#d8576b"
             ],
             [
              0.6666666666666666,
              "#ed7953"
             ],
             [
              0.7777777777777778,
              "#fb9f3a"
             ],
             [
              0.8888888888888888,
              "#fdca26"
             ],
             [
              1,
              "#f0f921"
             ]
            ],
            "type": "contour"
           }
          ],
          "contourcarpet": [
           {
            "colorbar": {
             "outlinewidth": 0,
             "ticks": ""
            },
            "type": "contourcarpet"
           }
          ],
          "heatmap": [
           {
            "colorbar": {
             "outlinewidth": 0,
             "ticks": ""
            },
            "colorscale": [
             [
              0,
              "#0d0887"
             ],
             [
              0.1111111111111111,
              "#46039f"
             ],
             [
              0.2222222222222222,
              "#7201a8"
             ],
             [
              0.3333333333333333,
              "#9c179e"
             ],
             [
              0.4444444444444444,
              "#bd3786"
             ],
             [
              0.5555555555555556,
              "#d8576b"
             ],
             [
              0.6666666666666666,
              "#ed7953"
             ],
             [
              0.7777777777777778,
              "#fb9f3a"
             ],
             [
              0.8888888888888888,
              "#fdca26"
             ],
             [
              1,
              "#f0f921"
             ]
            ],
            "type": "heatmap"
           }
          ],
          "heatmapgl": [
           {
            "colorbar": {
             "outlinewidth": 0,
             "ticks": ""
            },
            "colorscale": [
             [
              0,
              "#0d0887"
             ],
             [
              0.1111111111111111,
              "#46039f"
             ],
             [
              0.2222222222222222,
              "#7201a8"
             ],
             [
              0.3333333333333333,
              "#9c179e"
             ],
             [
              0.4444444444444444,
              "#bd3786"
             ],
             [
              0.5555555555555556,
              "#d8576b"
             ],
             [
              0.6666666666666666,
              "#ed7953"
             ],
             [
              0.7777777777777778,
              "#fb9f3a"
             ],
             [
              0.8888888888888888,
              "#fdca26"
             ],
             [
              1,
              "#f0f921"
             ]
            ],
            "type": "heatmapgl"
           }
          ],
          "histogram": [
           {
            "marker": {
             "pattern": {
              "fillmode": "overlay",
              "size": 10,
              "solidity": 0.2
             }
            },
            "type": "histogram"
           }
          ],
          "histogram2d": [
           {
            "colorbar": {
             "outlinewidth": 0,
             "ticks": ""
            },
            "colorscale": [
             [
              0,
              "#0d0887"
             ],
             [
              0.1111111111111111,
              "#46039f"
             ],
             [
              0.2222222222222222,
              "#7201a8"
             ],
             [
              0.3333333333333333,
              "#9c179e"
             ],
             [
              0.4444444444444444,
              "#bd3786"
             ],
             [
              0.5555555555555556,
              "#d8576b"
             ],
             [
              0.6666666666666666,
              "#ed7953"
             ],
             [
              0.7777777777777778,
              "#fb9f3a"
             ],
             [
              0.8888888888888888,
              "#fdca26"
             ],
             [
              1,
              "#f0f921"
             ]
            ],
            "type": "histogram2d"
           }
          ],
          "histogram2dcontour": [
           {
            "colorbar": {
             "outlinewidth": 0,
             "ticks": ""
            },
            "colorscale": [
             [
              0,
              "#0d0887"
             ],
             [
              0.1111111111111111,
              "#46039f"
             ],
             [
              0.2222222222222222,
              "#7201a8"
             ],
             [
              0.3333333333333333,
              "#9c179e"
             ],
             [
              0.4444444444444444,
              "#bd3786"
             ],
             [
              0.5555555555555556,
              "#d8576b"
             ],
             [
              0.6666666666666666,
              "#ed7953"
             ],
             [
              0.7777777777777778,
              "#fb9f3a"
             ],
             [
              0.8888888888888888,
              "#fdca26"
             ],
             [
              1,
              "#f0f921"
             ]
            ],
            "type": "histogram2dcontour"
           }
          ],
          "mesh3d": [
           {
            "colorbar": {
             "outlinewidth": 0,
             "ticks": ""
            },
            "type": "mesh3d"
           }
          ],
          "parcoords": [
           {
            "line": {
             "colorbar": {
              "outlinewidth": 0,
              "ticks": ""
             }
            },
            "type": "parcoords"
           }
          ],
          "pie": [
           {
            "automargin": true,
            "type": "pie"
           }
          ],
          "scatter": [
           {
            "fillpattern": {
             "fillmode": "overlay",
             "size": 10,
             "solidity": 0.2
            },
            "type": "scatter"
           }
          ],
          "scatter3d": [
           {
            "line": {
             "colorbar": {
              "outlinewidth": 0,
              "ticks": ""
             }
            },
            "marker": {
             "colorbar": {
              "outlinewidth": 0,
              "ticks": ""
             }
            },
            "type": "scatter3d"
           }
          ],
          "scattercarpet": [
           {
            "marker": {
             "colorbar": {
              "outlinewidth": 0,
              "ticks": ""
             }
            },
            "type": "scattercarpet"
           }
          ],
          "scattergeo": [
           {
            "marker": {
             "colorbar": {
              "outlinewidth": 0,
              "ticks": ""
             }
            },
            "type": "scattergeo"
           }
          ],
          "scattergl": [
           {
            "marker": {
             "colorbar": {
              "outlinewidth": 0,
              "ticks": ""
             }
            },
            "type": "scattergl"
           }
          ],
          "scattermapbox": [
           {
            "marker": {
             "colorbar": {
              "outlinewidth": 0,
              "ticks": ""
             }
            },
            "type": "scattermapbox"
           }
          ],
          "scatterpolar": [
           {
            "marker": {
             "colorbar": {
              "outlinewidth": 0,
              "ticks": ""
             }
            },
            "type": "scatterpolar"
           }
          ],
          "scatterpolargl": [
           {
            "marker": {
             "colorbar": {
              "outlinewidth": 0,
              "ticks": ""
             }
            },
            "type": "scatterpolargl"
           }
          ],
          "scatterternary": [
           {
            "marker": {
             "colorbar": {
              "outlinewidth": 0,
              "ticks": ""
             }
            },
            "type": "scatterternary"
           }
          ],
          "surface": [
           {
            "colorbar": {
             "outlinewidth": 0,
             "ticks": ""
            },
            "colorscale": [
             [
              0,
              "#0d0887"
             ],
             [
              0.1111111111111111,
              "#46039f"
             ],
             [
              0.2222222222222222,
              "#7201a8"
             ],
             [
              0.3333333333333333,
              "#9c179e"
             ],
             [
              0.4444444444444444,
              "#bd3786"
             ],
             [
              0.5555555555555556,
              "#d8576b"
             ],
             [
              0.6666666666666666,
              "#ed7953"
             ],
             [
              0.7777777777777778,
              "#fb9f3a"
             ],
             [
              0.8888888888888888,
              "#fdca26"
             ],
             [
              1,
              "#f0f921"
             ]
            ],
            "type": "surface"
           }
          ],
          "table": [
           {
            "cells": {
             "fill": {
              "color": "#EBF0F8"
             },
             "line": {
              "color": "white"
             }
            },
            "header": {
             "fill": {
              "color": "#C8D4E3"
             },
             "line": {
              "color": "white"
             }
            },
            "type": "table"
           }
          ]
         },
         "layout": {
          "annotationdefaults": {
           "arrowcolor": "#2a3f5f",
           "arrowhead": 0,
           "arrowwidth": 1
          },
          "autotypenumbers": "strict",
          "coloraxis": {
           "colorbar": {
            "outlinewidth": 0,
            "ticks": ""
           }
          },
          "colorscale": {
           "diverging": [
            [
             0,
             "#8e0152"
            ],
            [
             0.1,
             "#c51b7d"
            ],
            [
             0.2,
             "#de77ae"
            ],
            [
             0.3,
             "#f1b6da"
            ],
            [
             0.4,
             "#fde0ef"
            ],
            [
             0.5,
             "#f7f7f7"
            ],
            [
             0.6,
             "#e6f5d0"
            ],
            [
             0.7,
             "#b8e186"
            ],
            [
             0.8,
             "#7fbc41"
            ],
            [
             0.9,
             "#4d9221"
            ],
            [
             1,
             "#276419"
            ]
           ],
           "sequential": [
            [
             0,
             "#0d0887"
            ],
            [
             0.1111111111111111,
             "#46039f"
            ],
            [
             0.2222222222222222,
             "#7201a8"
            ],
            [
             0.3333333333333333,
             "#9c179e"
            ],
            [
             0.4444444444444444,
             "#bd3786"
            ],
            [
             0.5555555555555556,
             "#d8576b"
            ],
            [
             0.6666666666666666,
             "#ed7953"
            ],
            [
             0.7777777777777778,
             "#fb9f3a"
            ],
            [
             0.8888888888888888,
             "#fdca26"
            ],
            [
             1,
             "#f0f921"
            ]
           ],
           "sequentialminus": [
            [
             0,
             "#0d0887"
            ],
            [
             0.1111111111111111,
             "#46039f"
            ],
            [
             0.2222222222222222,
             "#7201a8"
            ],
            [
             0.3333333333333333,
             "#9c179e"
            ],
            [
             0.4444444444444444,
             "#bd3786"
            ],
            [
             0.5555555555555556,
             "#d8576b"
            ],
            [
             0.6666666666666666,
             "#ed7953"
            ],
            [
             0.7777777777777778,
             "#fb9f3a"
            ],
            [
             0.8888888888888888,
             "#fdca26"
            ],
            [
             1,
             "#f0f921"
            ]
           ]
          },
          "colorway": [
           "#636efa",
           "#EF553B",
           "#00cc96",
           "#ab63fa",
           "#FFA15A",
           "#19d3f3",
           "#FF6692",
           "#B6E880",
           "#FF97FF",
           "#FECB52"
          ],
          "font": {
           "color": "#2a3f5f"
          },
          "geo": {
           "bgcolor": "white",
           "lakecolor": "white",
           "landcolor": "#E5ECF6",
           "showlakes": true,
           "showland": true,
           "subunitcolor": "white"
          },
          "hoverlabel": {
           "align": "left"
          },
          "hovermode": "closest",
          "mapbox": {
           "style": "light"
          },
          "paper_bgcolor": "white",
          "plot_bgcolor": "#E5ECF6",
          "polar": {
           "angularaxis": {
            "gridcolor": "white",
            "linecolor": "white",
            "ticks": ""
           },
           "bgcolor": "#E5ECF6",
           "radialaxis": {
            "gridcolor": "white",
            "linecolor": "white",
            "ticks": ""
           }
          },
          "scene": {
           "xaxis": {
            "backgroundcolor": "#E5ECF6",
            "gridcolor": "white",
            "gridwidth": 2,
            "linecolor": "white",
            "showbackground": true,
            "ticks": "",
            "zerolinecolor": "white"
           },
           "yaxis": {
            "backgroundcolor": "#E5ECF6",
            "gridcolor": "white",
            "gridwidth": 2,
            "linecolor": "white",
            "showbackground": true,
            "ticks": "",
            "zerolinecolor": "white"
           },
           "zaxis": {
            "backgroundcolor": "#E5ECF6",
            "gridcolor": "white",
            "gridwidth": 2,
            "linecolor": "white",
            "showbackground": true,
            "ticks": "",
            "zerolinecolor": "white"
           }
          },
          "shapedefaults": {
           "line": {
            "color": "#2a3f5f"
           }
          },
          "ternary": {
           "aaxis": {
            "gridcolor": "white",
            "linecolor": "white",
            "ticks": ""
           },
           "baxis": {
            "gridcolor": "white",
            "linecolor": "white",
            "ticks": ""
           },
           "bgcolor": "#E5ECF6",
           "caxis": {
            "gridcolor": "white",
            "linecolor": "white",
            "ticks": ""
           }
          },
          "title": {
           "x": 0.05
          },
          "xaxis": {
           "automargin": true,
           "gridcolor": "white",
           "linecolor": "white",
           "ticks": "",
           "title": {
            "standoff": 15
           },
           "zerolinecolor": "white",
           "zerolinewidth": 2
          },
          "yaxis": {
           "automargin": true,
           "gridcolor": "white",
           "linecolor": "white",
           "ticks": "",
           "title": {
            "standoff": 15
           },
           "zerolinecolor": "white",
           "zerolinewidth": 2
          }
         }
        },
        "title": {
         "text": "Yaw-Pitch-Roll Evolution"
        },
        "xaxis": {
         "anchor": "y",
         "autorange": true,
         "domain": [
          0,
          1
         ],
         "range": [
          "2024-01-01 15:08:42.0623",
          "2024-01-01 15:09:59.5221"
         ],
         "title": {
          "text": "Timestamp"
         },
         "type": "date"
        },
        "yaxis": {
         "anchor": "x",
         "autorange": true,
         "domain": [
          0,
          1
         ],
         "range": [
          -21.179964421499925,
          63.660880786043855
         ],
         "title": {
          "text": "value"
         },
         "type": "linear"
        }
       }
      },
      "image/png": "[encoded data removed]",
      "text/html": [
       "<div>                            <div id=\"125f0a6f-2801-4c0c-92df-c96fc84c5175\" class=\"plotly-graph-div\" style=\"height:525px; width:100%;\"></div>            <script type=\"text/javascript\">                require([\"plotly\"], function(Plotly) {                    window.PLOTLYENV=window.PLOTLYENV || {};                                    if (document.getElementById(\"125f0a6f-2801-4c0c-92df-c96fc84c5175\")) {                    Plotly.newPlot(                        \"125f0a6f-2801-4c0c-92df-c96fc84c5175\",                        [{\"hovertemplate\":\"variable=Yaw [deg]\\u003cbr\\u003eTimestamp=%{x}\\u003cbr\\u003evalue=%{y}\\u003cextra\\u003e\\u003c\\u002fextra\\u003e\",\"legendgroup\":\"Yaw [deg]\",\"line\":{\"color\":\"#636efa\",\"dash\":\"solid\"},\"marker\":{\"symbol\":\"circle\"},\"mode\":\"lines\",\"name\":\"Yaw [deg]\",\"orientation\":\"v\",\"showlegend\":true,\"x\":[\"2024-01-01T15:08:42.062269\",\"2024-01-01T15:08:43.062269\",\"2024-01-01T15:08:44.062269\",\"2024-01-01T15:08:45.062269\",\"2024-01-01T15:08:46.062269\",\"2024-01-01T15:08:47.062269\",\"2024-01-01T15:08:48.062269\",\"2024-01-01T15:08:49.062269\",\"2024-01-01T15:08:50.062269\",\"2024-01-01T15:08:51.062269\",\"2024-01-01T15:08:52.062269\",\"2024-01-01T15:08:53.062269\",\"2024-01-01T15:08:54.062269\",\"2024-01-01T15:08:55.062269\",\"2024-01-01T15:08:56.062269\",\"2024-01-01T15:08:57.062269\",\"2024-01-01T15:08:58.062269\",\"2024-01-01T15:08:59.062269\",\"2024-01-01T15:09:00.062269\",\"2024-01-01T15:09:01.062269\",\"2024-01-01T15:09:02.062269\",\"2024-01-01T15:09:03.062269\",\"2024-01-01T15:09:04.062269\",\"2024-01-01T15:09:05.062269\",\"2024-01-01T15:09:06.062269\",\"2024-01-01T15:09:07.062269\",\"2024-01-01T15:09:08.062269\",\"2024-01-01T15:09:09.062269\",\"2024-01-01T15:09:10.062269\",\"2024-01-01T15:09:11.062269\",\"2024-01-01T15:09:12.062269\",\"2024-01-01T15:09:13.062269\",\"2024-01-01T15:09:14.062269\",\"2024-01-01T15:09:15.062269\",\"2024-01-01T15:09:16.062269\",\"2024-01-01T15:09:17.062269\",\"2024-01-01T15:09:18.062269\",\"2024-01-01T15:09:19.062269\",\"2024-01-01T15:09:20.062269\",\"2024-01-01T15:09:21.062269\",\"2024-01-01T15:09:22.062269\",\"2024-01-01T15:09:23.062269\",\"2024-01-01T15:09:24.062269\",\"2024-01-01T15:09:25.062269\",\"2024-01-01T15:09:26.062269\",\"2024-01-01T15:09:27.062269\",\"2024-01-01T15:09:28.062269\",\"2024-01-01T15:09:29.062269\",\"2024-01-01T15:09:30.062269\",\"2024-01-01T15:09:31.062269\",\"2024-01-01T15:09:32.062269\",\"2024-01-01T15:09:33.062269\",\"2024-01-01T15:09:34.062269\",\"2024-01-01T15:09:35.062269\",\"2024-01-01T15:09:36.062269\",\"2024-01-01T15:09:37.062269\",\"2024-01-01T15:09:38.062269\",\"2024-01-01T15:09:39.062269\",\"2024-01-01T15:09:40.062269\",\"2024-01-01T15:09:41.062269\",\"2024-01-01T15:09:42.062269\",\"2024-01-01T15:09:43.062269\",\"2024-01-01T15:09:44.062269\",\"2024-01-01T15:09:45.062269\",\"2024-01-01T15:09:46.062269\",\"2024-01-01T15:09:47.062269\",\"2024-01-01T15:09:48.062269\",\"2024-01-01T15:09:49.062269\",\"2024-01-01T15:09:50.062269\",\"2024-01-01T15:09:51.062269\",\"2024-01-01T15:09:52.062269\",\"2024-01-01T15:09:53.062269\",\"2024-01-01T15:09:54.062269\",\"2024-01-01T15:09:55.062269\",\"2024-01-01T15:09:56.062269\",\"2024-01-01T15:09:57.062269\",\"2024-01-01T15:09:58.062269\",\"2024-01-01T15:09:59.062269\",\"2024-01-01T15:09:59.522054\"],\"xaxis\":\"x\",\"y\":[0.0,1.7869235120229218e-15,0.0,0.0,0.0,0.0,0.0,0.0,1.7366949550643798e-15,6.920045328221049e-15,0.0,1.717036426208561e-15,0.0,5.1137999588714615e-15,8.49294682954146e-15,3.385440251562142e-15,0.0,0.0,1.1731877854072747e-14,8.35350269184767e-15,0.0,5.8120815732565354e-15,3.3115499088251687e-15,1.2383348899837545e-14,1.1526279251459276e-14,0.0,0.0,8.170416295113054e-16,0.0,0.0,0.0,2.4295843931852554e-15,5.657965811508176e-15,0.0,4.8322899560866325e-15,1.366909398803678e-14,0.0,1.6033941564700893e-15,0.0,0.0,3.994108337400899e-15,1.5960898912228134e-15,0.0,0.0,0.0,5.968910209809046e-16,2.6849382904996153e-15,0.0,0.0,0.0,1.8388783102437903e-15,2.684254146472543e-15,1.3624145190561883e-14,8.754881412863646e-15,1.7917148038874316e-15,9.561940592484959e-15,0.0,3.990611803048858e-15,0.0,0.0,2.802585275838754e-15,0.0,4.014636468920147e-16,1.1258145183761887e-14,8.054660457622063e-16,8.068650611385686e-16,1.6166990999202611e-15,0.0,0.0,1.2199621689646207e-14,0.0,0.0,1.146609415245136e-14,0.0,1.6464097848793989e-15,0.0,4.966279732726909e-15,0.0,1.1636731529473894e-14],\"yaxis\":\"y\",\"type\":\"scatter\"},{\"hovertemplate\":\"variable=Pitch [deg]\\u003cbr\\u003eTimestamp=%{x}\\u003cbr\\u003evalue=%{y}\\u003cextra\\u003e\\u003c\\u002fextra\\u003e\",\"legendgroup\":\"Pitch [deg]\",\"line\":{\"color\":\"#EF553B\",\"dash\":\"solid\"},\"marker\":{\"symbol\":\"circle\"},\"mode\":\"lines\",\"name\":\"Pitch [deg]\",\"orientation\":\"v\",\"showlegend\":true,\"x\":[\"2024-01-01T15:08:42.062269\",\"2024-01-01T15:08:43.062269\",\"2024-01-01T15:08:44.062269\",\"2024-01-01T15:08:45.062269\",\"2024-01-01T15:08:46.062269\",\"2024-01-01T15:08:47.062269\",\"2024-01-01T15:08:48.062269\",\"2024-01-01T15:08:49.062269\",\"2024-01-01T15:08:50.062269\",\"2024-01-01T15:08:51.062269\",\"2024-01-01T15:08:52.062269\",\"2024-01-01T15:08:53.062269\",\"2024-01-01T15:08:54.062269\",\"2024-01-01T15:08:55.062269\",\"2024-01-01T15:08:56.062269\",\"2024-01-01T15:08:57.062269\",\"2024-01-01T15:08:58.062269\",\"2024-01-01T15:08:59.062269\",\"2024-01-01T15:09:00.062269\",\"2024-01-01T15:09:01.062269\",\"2024-01-01T15:09:02.062269\",\"2024-01-01T15:09:03.062269\",\"2024-01-01T15:09:04.062269\",\"2024-01-01T15:09:05.062269\",\"2024-01-01T15:09:06.062269\",\"2024-01-01T15:09:07.062269\",\"2024-01-01T15:09:08.062269\",\"2024-01-01T15:09:09.062269\",\"2024-01-01T15:09:10.062269\",\"2024-01-01T15:09:11.062269\",\"2024-01-01T15:09:12.062269\",\"2024-01-01T15:09:13.062269\",\"2024-01-01T15:09:14.062269\",\"2024-01-01T15:09:15.062269\",\"2024-01-01T15:09:16.062269\",\"2024-01-01T15:09:17.062269\",\"2024-01-01T15:09:18.062269\",\"2024-01-01T15:09:19.062269\",\"2024-01-01T15:09:20.062269\",\"2024-01-01T15:09:21.062269\",\"2024-01-01T15:09:22.062269\",\"2024-01-01T15:09:23.062269\",\"2024-01-01T15:09:24.062269\",\"2024-01-01T15:09:25.062269\",\"2024-01-01T15:09:26.062269\",\"2024-01-01T15:09:27.062269\",\"2024-01-01T15:09:28.062269\",\"2024-01-01T15:09:29.062269\",\"2024-01-01T15:09:30.062269\",\"2024-01-01T15:09:31.062269\",\"2024-01-01T15:09:32.062269\",\"2024-01-01T15:09:33.062269\",\"2024-01-01T15:09:34.062269\",\"2024-01-01T15:09:35.062269\",\"2024-01-01T15:09:36.062269\",\"2024-01-01T15:09:37.062269\",\"2024-01-01T15:09:38.062269\",\"2024-01-01T15:09:39.062269\",\"2024-01-01T15:09:40.062269\",\"2024-01-01T15:09:41.062269\",\"2024-01-01T15:09:42.062269\",\"2024-01-01T15:09:43.062269\",\"2024-01-01T15:09:44.062269\",\"2024-01-01T15:09:45.062269\",\"2024-01-01T15:09:46.062269\",\"2024-01-01T15:09:47.062269\",\"2024-01-01T15:09:48.062269\",\"2024-01-01T15:09:49.062269\",\"2024-01-01T15:09:50.062269\",\"2024-01-01T15:09:51.062269\",\"2024-01-01T15:09:52.062269\",\"2024-01-01T15:09:53.062269\",\"2024-01-01T15:09:54.062269\",\"2024-01-01T15:09:55.062269\",\"2024-01-01T15:09:56.062269\",\"2024-01-01T15:09:57.062269\",\"2024-01-01T15:09:58.062269\",\"2024-01-01T15:09:59.062269\",\"2024-01-01T15:09:59.522054\"],\"xaxis\":\"x\",\"y\":[27.60484921670671,27.13270067440036,26.655808299179725,26.174185776964787,25.687849789312427,25.196821282708598,24.701123818339216,24.2007848359537,23.695835456408773,23.186310572126697,22.67224893343589,22.153692938774956,21.630689877464942,21.103290250864145,20.57154900379677,20.035525290838073,19.495282527122463,18.95088843139445,18.40241477327749,17.849938550565383,17.293540278144285,16.733305148033875,16.169322738182608,15.60168699925354,15.03049623047146,14.455853044400854,13.877864042055155,13.296640868733183,12.712298470220075,12.124956127707527,11.534737083852091,10.941768436376128,10.346181019637756,9.748109008972124,9.147690841938717,8.54506746643051,7.940383243411287,7.33378550389182,6.725424362879596,6.115452523484322,5.5040250717327055,4.891299017338423,4.277434056318305,3.662590861121324,3.046931835156527,2.430620623614061,1.8138218677097666,1.1967009551820256,0.5794235440244871,-0.03784379292174003,-0.6549351764029232,-1.2716847704379752,-1.8879272636007798,-2.5034981210920595,-3.1182338338495996,-3.7319721637728493,-4.3445525797050655,-4.955815706068281,-5.5656047357849205,-6.173764857655293,-6.780143668485696,-7.3845913771989355,-7.986960999585071,-8.587108711770762,-9.18489334593177,-9.78017757771606,-10.372827391978424,-10.962712396117228,-11.549705948996678,-12.133685277967631,-12.714531724684347,-13.292130270413672,-13.866370474135927,-14.437145965827794,-15.004354648298643,-15.567898742503067,-16.12768482146921,-16.683623833052337,-16.937922161122735],\"yaxis\":\"y\",\"type\":\"scatter\"},{\"hovertemplate\":\"variable=Roll [deg]\\u003cbr\\u003eTimestamp=%{x}\\u003cbr\\u003evalue=%{y}\\u003cextra\\u003e\\u003c\\u002fextra\\u003e\",\"legendgroup\":\"Roll [deg]\",\"line\":{\"color\":\"#00cc96\",\"dash\":\"solid\"},\"marker\":{\"symbol\":\"circle\"},\"mode\":\"lines\",\"name\":\"Roll [deg]\",\"orientation\":\"v\",\"showlegend\":true,\"x\":[\"2024-01-01T15:08:42.062269\",\"2024-01-01T15:08:43.062269\",\"2024-01-01T15:08:44.062269\",\"2024-01-01T15:08:45.062269\",\"2024-01-01T15:08:46.062269\",\"2024-01-01T15:08:47.062269\",\"2024-01-01T15:08:48.062269\",\"2024-01-01T15:08:49.062269\",\"2024-01-01T15:08:50.062269\",\"2024-01-01T15:08:51.062269\",\"2024-01-01T15:08:52.062269\",\"2024-01-01T15:08:53.062269\",\"2024-01-01T15:08:54.062269\",\"2024-01-01T15:08:55.062269\",\"2024-01-01T15:08:56.062269\",\"2024-01-01T15:08:57.062269\",\"2024-01-01T15:08:58.062269\",\"2024-01-01T15:08:59.062269\",\"2024-01-01T15:09:00.062269\",\"2024-01-01T15:09:01.062269\",\"2024-01-01T15:09:02.062269\",\"2024-01-01T15:09:03.062269\",\"2024-01-01T15:09:04.062269\",\"2024-01-01T15:09:05.062269\",\"2024-01-01T15:09:06.062269\",\"2024-01-01T15:09:07.062269\",\"2024-01-01T15:09:08.062269\",\"2024-01-01T15:09:09.062269\",\"2024-01-01T15:09:10.062269\",\"2024-01-01T15:09:11.062269\",\"2024-01-01T15:09:12.062269\",\"2024-01-01T15:09:13.062269\",\"2024-01-01T15:09:14.062269\",\"2024-01-01T15:09:15.062269\",\"2024-01-01T15:09:16.062269\",\"2024-01-01T15:09:17.062269\",\"2024-01-01T15:09:18.062269\",\"2024-01-01T15:09:19.062269\",\"2024-01-01T15:09:20.062269\",\"2024-01-01T15:09:21.062269\",\"2024-01-01T15:09:22.062269\",\"2024-01-01T15:09:23.062269\",\"2024-01-01T15:09:24.062269\",\"2024-01-01T15:09:25.062269\",\"2024-01-01T15:09:26.062269\",\"2024-01-01T15:09:27.062269\",\"2024-01-01T15:09:28.062269\",\"2024-01-01T15:09:29.062269\",\"2024-01-01T15:09:30.062269\",\"2024-01-01T15:09:31.062269\",\"2024-01-01T15:09:32.062269\",\"2024-01-01T15:09:33.062269\",\"2024-01-01T15:09:34.062269\",\"2024-01-01T15:09:35.062269\",\"2024-01-01T15:09:36.062269\",\"2024-01-01T15:09:37.062269\",\"2024-01-01T15:09:38.062269\",\"2024-01-01T15:09:39.062269\",\"2024-01-01T15:09:40.062269\",\"2024-01-01T15:09:41.062269\",\"2024-01-01T15:09:42.062269\",\"2024-01-01T15:09:43.062269\",\"2024-01-01T15:09:44.062269\",\"2024-01-01T15:09:45.062269\",\"2024-01-01T15:09:46.062269\",\"2024-01-01T15:09:47.062269\",\"2024-01-01T15:09:48.062269\",\"2024-01-01T15:09:49.062269\",\"2024-01-01T15:09:50.062269\",\"2024-01-01T15:09:51.062269\",\"2024-01-01T15:09:52.062269\",\"2024-01-01T15:09:53.062269\",\"2024-01-01T15:09:54.062269\",\"2024-01-01T15:09:55.062269\",\"2024-01-01T15:09:56.062269\",\"2024-01-01T15:09:57.062269\",\"2024-01-01T15:09:58.062269\",\"2024-01-01T15:09:59.062269\",\"2024-01-01T15:09:59.522054\"],\"xaxis\":\"x\",\"y\":[55.52519677677979,55.66258557455062,55.798225822226534,55.93207019367193,56.06407170613433,56.19418216994819,56.32235462131286,56.44854176992716,56.57269644391176,56.694771636470726,56.81472055392233,56.93249704432402,57.04805412836327,57.161346334440545,57.27232822673417,57.380954840863545,57.48718173861787,57.590965063519754,57.69226195857741,57.79102917440777,57.887225303238665,57.98080938274069,58.071741317798086,58.15998193815776,58.24549305602483,58.32823752325418,58.408179630258495,58.485283791334965,58.55951665960922,58.630845805842455,58.699240115988275,58.76466984290775,58.82710665656726,58.88652401886649,58.942895922483025,58.99619890010762,59.04641075464369,59.09351092753979,59.13748053601333,59.17830240754868,59.21596111149735,59.25044329834295,59.28173648090269,59.309830925732015,59.334718424114854,59.35639262003492,59.37484902221266,59.39008501257324,59.40210015037136,59.410894975239174,59.41647280443468,59.418838525666665,59.417998888299955,59.413962490237665,59.40673976135938,59.39634294349239,59.38278635628283,59.36608521256549,59.3462573271166,59.32332192375333,59.29729988988608,59.26821373806116,59.23608756486591,59.20094729084176,59.162819480266435,59.12173299581197,59.077717812969645,59.030805252551744,58.98102792753978,58.928419688571495,58.87301584851783,58.814852004219915,58.753965661684646,58.69039505578573,58.624179372231616,58.555358688654806,58.4839739155965,58.410066737508124,58.375250413548635],\"yaxis\":\"y\",\"type\":\"scatter\"}],                        {\"template\":{\"data\":{\"histogram2dcontour\":[{\"type\":\"histogram2dcontour\",\"colorbar\":{\"outlinewidth\":0,\"ticks\":\"\"},\"colorscale\":[[0.0,\"#0d0887\"],[0.1111111111111111,\"#46039f\"],[0.2222222222222222,\"#7201a8\"],[0.3333333333333333,\"#9c179e\"],[0.4444444444444444,\"#bd3786\"],[0.5555555555555556,\"#d8576b\"],[0.6666666666666666,\"#ed7953\"],[0.7777777777777778,\"#fb9f3a\"],[0.8888888888888888,\"#fdca26\"],[1.0,\"#f0f921\"]]}],\"choropleth\":[{\"type\":\"choropleth\",\"colorbar\":{\"outlinewidth\":0,\"ticks\":\"\"}}],\"histogram2d\":[{\"type\":\"histogram2d\",\"colorbar\":{\"outlinewidth\":0,\"ticks\":\"\"},\"colorscale\":[[0.0,\"#0d0887\"],[0.1111111111111111,\"#46039f\"],[0.2222222222222222,\"#7201a8\"],[0.3333333333333333,\"#9c179e\"],[0.4444444444444444,\"#bd3786\"],[0.5555555555555556,\"#d8576b\"],[0.6666666666666666,\"#ed7953\"],[0.7777777777777778,\"#fb9f3a\"],[0.8888888888888888,\"#fdca26\"],[1.0,\"#f0f921\"]]}],\"heatmap\":[{\"type\":\"heatmap\",\"colorbar\":{\"outlinewidth\":0,\"ticks\":\"\"},\"colorscale\":[[0.0,\"#0d0887\"],[0.1111111111111111,\"#46039f\"],[0.2222222222222222,\"#7201a8\"],[0.3333333333333333,\"#9c179e\"],[0.4444444444444444,\"#bd3786\"],[0.5555555555555556,\"#d8576b\"],[0.6666666666666666,\"#ed7953\"],[0.7777777777777778,\"#fb9f3a\"],[0.8888888888888888,\"#fdca26\"],[1.0,\"#f0f921\"]]}],\"heatmapgl\":[{\"type\":\"heatmapgl\",\"colorbar\":{\"outlinewidth\":0,\"ticks\":\"\"},\"colorscale\":[[0.0,\"#0d0887\"],[0.1111111111111111,\"#46039f\"],[0.2222222222222222,\"#7201a8\"],[0.3333333333333333,\"#9c179e\"],[0.4444444444444444,\"#bd3786\"],[0.5555555555555556,\"#d8576b\"],[0.6666666666666666,\"#ed7953\"],[0.7777777777777778,\"#fb9f3a\"],[0.8888888888888888,\"#fdca26\"],[1.0,\"#f0f921\"]]}],\"contourcarpet\":[{\"type\":\"contourcarpet\",\"colorbar\":{\"outlinewidth\":0,\"ticks\":\"\"}}],\"contour\":[{\"type\":\"contour\",\"colorbar\":{\"outlinewidth\":0,\"ticks\":\"\"},\"colorscale\":[[0.0,\"#0d0887\"],[0.1111111111111111,\"#46039f\"],[0.2222222222222222,\"#7201a8\"],[0.3333333333333333,\"#9c179e\"],[0.4444444444444444,\"#bd3786\"],[0.5555555555555556,\"#d8576b\"],[0.6666666666666666,\"#ed7953\"],[0.7777777777777778,\"#fb9f3a\"],[0.8888888888888888,\"#fdca26\"],[1.0,\"#f0f921\"]]}],\"surface\":[{\"type\":\"surface\",\"colorbar\":{\"outlinewidth\":0,\"ticks\":\"\"},\"colorscale\":[[0.0,\"#0d0887\"],[0.1111111111111111,\"#46039f\"],[0.2222222222222222,\"#7201a8\"],[0.3333333333333333,\"#9c179e\"],[0.4444444444444444,\"#bd3786\"],[0.5555555555555556,\"#d8576b\"],[0.6666666666666666,\"#ed7953\"],[0.7777777777777778,\"#fb9f3a\"],[0.8888888888888888,\"#fdca26\"],[1.0,\"#f0f921\"]]}],\"mesh3d\":[{\"type\":\"mesh3d\",\"colorbar\":{\"outlinewidth\":0,\"ticks\":\"\"}}],\"scatter\":[{\"fillpattern\":{\"fillmode\":\"overlay\",\"size\":10,\"solidity\":0.2},\"type\":\"scatter\"}],\"parcoords\":[{\"type\":\"parcoords\",\"line\":{\"colorbar\":{\"outlinewidth\":0,\"ticks\":\"\"}}}],\"scatterpolargl\":[{\"type\":\"scatterpolargl\",\"marker\":{\"colorbar\":{\"outlinewidth\":0,\"ticks\":\"\"}}}],\"bar\":[{\"error_x\":{\"color\":\"#2a3f5f\"},\"error_y\":{\"color\":\"#2a3f5f\"},\"marker\":{\"line\":{\"color\":\"#E5ECF6\",\"width\":0.5},\"pattern\":{\"fillmode\":\"overlay\",\"size\":10,\"solidity\":0.2}},\"type\":\"bar\"}],\"scattergeo\":[{\"type\":\"scattergeo\",\"marker\":{\"colorbar\":{\"outlinewidth\":0,\"ticks\":\"\"}}}],\"scatterpolar\":[{\"type\":\"scatterpolar\",\"marker\":{\"colorbar\":{\"outlinewidth\":0,\"ticks\":\"\"}}}],\"histogram\":[{\"marker\":{\"pattern\":{\"fillmode\":\"overlay\",\"size\":10,\"solidity\":0.2}},\"type\":\"histogram\"}],\"scattergl\":[{\"type\":\"scattergl\",\"marker\":{\"colorbar\":{\"outlinewidth\":0,\"ticks\":\"\"}}}],\"scatter3d\":[{\"type\":\"scatter3d\",\"line\":{\"colorbar\":{\"outlinewidth\":0,\"ticks\":\"\"}},\"marker\":{\"colorbar\":{\"outlinewidth\":0,\"ticks\":\"\"}}}],\"scattermapbox\":[{\"type\":\"scattermapbox\",\"marker\":{\"colorbar\":{\"outlinewidth\":0,\"ticks\":\"\"}}}],\"scatterternary\":[{\"type\":\"scatterternary\",\"marker\":{\"colorbar\":{\"outlinewidth\":0,\"ticks\":\"\"}}}],\"scattercarpet\":[{\"type\":\"scattercarpet\",\"marker\":{\"colorbar\":{\"outlinewidth\":0,\"ticks\":\"\"}}}],\"carpet\":[{\"aaxis\":{\"endlinecolor\":\"#2a3f5f\",\"gridcolor\":\"white\",\"linecolor\":\"white\",\"minorgridcolor\":\"white\",\"startlinecolor\":\"#2a3f5f\"},\"baxis\":{\"endlinecolor\":\"#2a3f5f\",\"gridcolor\":\"white\",\"linecolor\":\"white\",\"minorgridcolor\":\"white\",\"startlinecolor\":\"#2a3f5f\"},\"type\":\"carpet\"}],\"table\":[{\"cells\":{\"fill\":{\"color\":\"#EBF0F8\"},\"line\":{\"color\":\"white\"}},\"header\":{\"fill\":{\"color\":\"#C8D4E3\"},\"line\":{\"color\":\"white\"}},\"type\":\"table\"}],\"barpolar\":[{\"marker\":{\"line\":{\"color\":\"#E5ECF6\",\"width\":0.5},\"pattern\":{\"fillmode\":\"overlay\",\"size\":10,\"solidity\":0.2}},\"type\":\"barpolar\"}],\"pie\":[{\"automargin\":true,\"type\":\"pie\"}]},\"layout\":{\"autotypenumbers\":\"strict\",\"colorway\":[\"#636efa\",\"#EF553B\",\"#00cc96\",\"#ab63fa\",\"#FFA15A\",\"#19d3f3\",\"#FF6692\",\"#B6E880\",\"#FF97FF\",\"#FECB52\"],\"font\":{\"color\":\"#2a3f5f\"},\"hovermode\":\"closest\",\"hoverlabel\":{\"align\":\"left\"},\"paper_bgcolor\":\"white\",\"plot_bgcolor\":\"#E5ECF6\",\"polar\":{\"bgcolor\":\"#E5ECF6\",\"angularaxis\":{\"gridcolor\":\"white\",\"linecolor\":\"white\",\"ticks\":\"\"},\"radialaxis\":{\"gridcolor\":\"white\",\"linecolor\":\"white\",\"ticks\":\"\"}},\"ternary\":{\"bgcolor\":\"#E5ECF6\",\"aaxis\":{\"gridcolor\":\"white\",\"linecolor\":\"white\",\"ticks\":\"\"},\"baxis\":{\"gridcolor\":\"white\",\"linecolor\":\"white\",\"ticks\":\"\"},\"caxis\":{\"gridcolor\":\"white\",\"linecolor\":\"white\",\"ticks\":\"\"}},\"coloraxis\":{\"colorbar\":{\"outlinewidth\":0,\"ticks\":\"\"}},\"colorscale\":{\"sequential\":[[0.0,\"#0d0887\"],[0.1111111111111111,\"#46039f\"],[0.2222222222222222,\"#7201a8\"],[0.3333333333333333,\"#9c179e\"],[0.4444444444444444,\"#bd3786\"],[0.5555555555555556,\"#d8576b\"],[0.6666666666666666,\"#ed7953\"],[0.7777777777777778,\"#fb9f3a\"],[0.8888888888888888,\"#fdca26\"],[1.0,\"#f0f921\"]],\"sequentialminus\":[[0.0,\"#0d0887\"],[0.1111111111111111,\"#46039f\"],[0.2222222222222222,\"#7201a8\"],[0.3333333333333333,\"#9c179e\"],[0.4444444444444444,\"#bd3786\"],[0.5555555555555556,\"#d8576b\"],[0.6666666666666666,\"#ed7953\"],[0.7777777777777778,\"#fb9f3a\"],[0.8888888888888888,\"#fdca26\"],[1.0,\"#f0f921\"]],\"diverging\":[[0,\"#8e0152\"],[0.1,\"#c51b7d\"],[0.2,\"#de77ae\"],[0.3,\"#f1b6da\"],[0.4,\"#fde0ef\"],[0.5,\"#f7f7f7\"],[0.6,\"#e6f5d0\"],[0.7,\"#b8e186\"],[0.8,\"#7fbc41\"],[0.9,\"#4d9221\"],[1,\"#276419\"]]},\"xaxis\":{\"gridcolor\":\"white\",\"linecolor\":\"white\",\"ticks\":\"\",\"title\":{\"standoff\":15},\"zerolinecolor\":\"white\",\"automargin\":true,\"zerolinewidth\":2},\"yaxis\":{\"gridcolor\":\"white\",\"linecolor\":\"white\",\"ticks\":\"\",\"title\":{\"standoff\":15},\"zerolinecolor\":\"white\",\"automargin\":true,\"zerolinewidth\":2},\"scene\":{\"xaxis\":{\"backgroundcolor\":\"#E5ECF6\",\"gridcolor\":\"white\",\"linecolor\":\"white\",\"showbackground\":true,\"ticks\":\"\",\"zerolinecolor\":\"white\",\"gridwidth\":2},\"yaxis\":{\"backgroundcolor\":\"#E5ECF6\",\"gridcolor\":\"white\",\"linecolor\":\"white\",\"showbackground\":true,\"ticks\":\"\",\"zerolinecolor\":\"white\",\"gridwidth\":2},\"zaxis\":{\"backgroundcolor\":\"#E5ECF6\",\"gridcolor\":\"white\",\"linecolor\":\"white\",\"showbackground\":true,\"ticks\":\"\",\"zerolinecolor\":\"white\",\"gridwidth\":2}},\"shapedefaults\":{\"line\":{\"color\":\"#2a3f5f\"}},\"annotationdefaults\":{\"arrowcolor\":\"#2a3f5f\",\"arrowhead\":0,\"arrowwidth\":1},\"geo\":{\"bgcolor\":\"white\",\"landcolor\":\"#E5ECF6\",\"subunitcolor\":\"white\",\"showland\":true,\"showlakes\":true,\"lakecolor\":\"white\"},\"title\":{\"x\":0.05},\"mapbox\":{\"style\":\"light\"}}},\"xaxis\":{\"anchor\":\"y\",\"domain\":[0.0,1.0],\"title\":{\"text\":\"Timestamp\"}},\"yaxis\":{\"anchor\":\"x\",\"domain\":[0.0,1.0],\"title\":{\"text\":\"value\"}},\"legend\":{\"title\":{\"text\":\"variable\"},\"tracegroupgap\":0},\"title\":{\"text\":\"Yaw-Pitch-Roll Evolution\"}},                        {\"responsive\": true}                    ).then(function(){\n",
       "                            \n",
       "var gd = document.getElementById('125f0a6f-2801-4c0c-92df-c96fc84c5175');\n",
       "var x = new MutationObserver(function (mutations, observer) {{\n",
       "        var display = window.getComputedStyle(gd).display;\n",
       "        if (!display || display === 'none') {{\n",
       "            console.log([gd, 'removed!']);\n",
       "            Plotly.purge(gd);\n",
       "            observer.disconnect();\n",
       "        }}\n",
       "}});\n",
       "\n",
       "// Listen for the removal of the full notebook cells\n",
       "var notebookContainer = gd.closest('#notebook-container');\n",
       "if (notebookContainer) {{\n",
       "    x.observe(notebookContainer, {childList: true});\n",
       "}}\n",
       "\n",
       "// Listen for the clearing of the current output cell\n",
       "var outputEl = gd.closest('.output');\n",
       "if (outputEl) {{\n",
       "    x.observe(outputEl, {childList: true});\n",
       "}}\n",
       "\n",
       "                        })                };                });            </script>        </div>"
      ]
     },
     "metadata": {},
     "output_type": "display_data"
    }
   ],
   "source": [
    "def reduce_angle(angle):\n",
    "    # Reduce angle to be within the range 0 to 2*pi\n",
    "    reduced_angle = float(angle.in_radians()) % (2 * math.pi)\n",
    "\n",
    "    # If angle is negative, add 2*pi to make it positive\n",
    "    if reduced_angle < 0:\n",
    "        reduced_angle += 2 * math.pi\n",
    "\n",
    "    return Angle.radians(reduced_angle)\n",
    "\n",
    "\n",
    "def calculate_ypr(state):\n",
    "    state_vvlh = state.in_frame(vvlh_frame)\n",
    "\n",
    "    q_B_VVLH = state_vvlh.get_attitude()\n",
    "\n",
    "    ypr = EulerAngle.quaternion(q_B_VVLH, EulerAngle.AxisSequence.ZYX)\n",
    "\n",
    "    phi = ypr.phi\n",
    "    theta = ypr.theta\n",
    "    psi = ypr.psi\n",
    "\n",
    "    if phi.in_radians() > MathAngle.half_pi().in_radians():\n",
    "        phi = reduce_angle(phi + MathAngle.pi())\n",
    "        theta = reduce_angle(MathAngle.pi() - theta)\n",
    "        psi = reduce_angle(psi + MathAngle.pi())\n",
    "\n",
    "    if theta.in_radians() > MathAngle.pi().in_radians():\n",
    "        theta = theta - Angle.two_pi()\n",
    "\n",
    "    satellite_lla = LLA.cartesian(\n",
    "        cartesian_coordinates=state.in_frame(Frame.ITRF())\n",
    "        .get_position()\n",
    "        .get_coordinates(),\n",
    "        ellipsoid_equatorial_radius=earth.get_equatorial_radius(),\n",
    "        ellipsoid_flattening=earth.get_flattening(),\n",
    "    )\n",
    "\n",
    "    return (\n",
    "        state.get_instant().get_date_time(Scale.UTC),\n",
    "        float(satellite_lla.get_longitude().in_degrees()),\n",
    "        float(satellite_lla.get_latitude().in_degrees()),\n",
    "        float(satellite_lla.get_altitude().in_meters()),\n",
    "        float(phi.in_degrees()),\n",
    "        float(theta.in_degrees()),\n",
    "        float(psi.in_degrees()),\n",
    "    )\n",
    "\n",
    "\n",
    "yprs = pd.DataFrame(\n",
    "    data=[\n",
    "        calculate_ypr(state)\n",
    "        for state in profile.get_states_at(\n",
    "            instants=access.get_interval().generate_grid(Duration.seconds(1.0)),\n",
    "        )\n",
    "    ],\n",
    "    columns=[\n",
    "        \"Timestamp\",\n",
    "        \"Longitude [deg]\",\n",
    "        \"Latitude [deg]\",\n",
    "        \"Altitude [m]\",\n",
    "        \"Yaw [deg]\",\n",
    "        \"Pitch [deg]\",\n",
    "        \"Roll [deg]\",\n",
    "    ],\n",
    ")\n",
    "\n",
    "yprs.set_index(\"Timestamp\", inplace=True)\n",
    "\n",
    "px.line(\n",
    "    yprs[[\"Yaw [deg]\", \"Pitch [deg]\", \"Roll [deg]\"]],\n",
    "    title=\"Yaw-Pitch-Roll Evolution\",\n",
    ")"
   ]
  },
  {
   "cell_type": "markdown",
   "metadata": {},
   "source": [
    "Visualize the scene in 3D:"
   ]
  },
  {
   "cell_type": "code",
   "execution_count": 56,
   "metadata": {},
   "outputs": [],
   "source": [
    "# Get a token from https://cesium.com/learn/ion/cesium-ion-access-tokens/\n",
    "viewer = Viewer(\n",
    "    interval=access.get_interval(),\n",
    "    cesium_token=os.environ.get(\"CESIUM_TOKEN\"),\n",
    ")\n",
    "\n",
    "viewer.add_profile(\n",
    "    profile=profile,\n",
    "    step=Duration.seconds(10.0),\n",
    "    show_orbital_track=True,\n",
    "    cesium_asset_id=1359555,\n",
    ")"
   ]
  },
  {
   "cell_type": "code",
   "execution_count": 57,
   "metadata": {},
   "outputs": [],
   "source": [
    "with open(\"render.html\", \"w\") as f:\n",
    "    f.write(viewer.render())"
   ]
  },
  {
   "cell_type": "markdown",
   "metadata": {},
   "source": [
    "---"
   ]
  }
 ],
 "metadata": {
  "kernelspec": {
   "display_name": "Python 3 (ipykernel)",
   "language": "python",
   "name": "python3"
  },
  "language_info": {
   "codemirror_mode": {
    "name": "ipython",
    "version": 3
   },
   "file_extension": ".py",
   "mimetype": "text/x-python",
   "name": "python",
   "nbconvert_exporter": "python",
   "pygments_lexer": "ipython3",
   "version": "3.10.9"
  }
 },
 "nbformat": 4,
 "nbformat_minor": 4
}
