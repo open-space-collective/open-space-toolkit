{
 "cells": [
  {
   "cell_type": "markdown",
   "id": "e534d30d-d327-4a12-b8b3-20dcbdd55ec1",
   "metadata": {},
   "source": [
    "# Orbit Determination\n",
    "In this notebook, we solve a simple orbit determination problem of estimating an orbit to some sample GNSS data."
   ]
  },
  {
   "cell_type": "code",
   "execution_count": 2,
   "id": "a91e25a9-3e9c-4978-a137-5a966dc7b8c2",
   "metadata": {},
   "outputs": [
    {
     "ename": "ModuleNotFoundError",
     "evalue": "No module named 'ostk.astrodynamics.estimator'",
     "output_type": "error",
     "traceback": [
      "\u001b[0;31m---------------------------------------------------------------------------\u001b[0m",
      "\u001b[0;31mModuleNotFoundError\u001b[0m                       Traceback (most recent call last)",
      "Cell \u001b[0;32mIn[2], line 8\u001b[0m\n\u001b[1;32m      5\u001b[0m \u001b[38;5;28;01mfrom\u001b[39;00m \u001b[38;5;21;01mostk\u001b[39;00m\u001b[38;5;21;01m.\u001b[39;00m\u001b[38;5;21;01mphysics\u001b[39;00m\u001b[38;5;21;01m.\u001b[39;00m\u001b[38;5;21;01menvironment\u001b[39;00m\u001b[38;5;21;01m.\u001b[39;00m\u001b[38;5;21;01mobject\u001b[39;00m\u001b[38;5;21;01m.\u001b[39;00m\u001b[38;5;21;01mcelestial\u001b[39;00m \u001b[38;5;28;01mimport\u001b[39;00m Moon\n\u001b[1;32m      6\u001b[0m \u001b[38;5;28;01mfrom\u001b[39;00m \u001b[38;5;21;01mostk\u001b[39;00m\u001b[38;5;21;01m.\u001b[39;00m\u001b[38;5;21;01mphysics\u001b[39;00m\u001b[38;5;21;01m.\u001b[39;00m\u001b[38;5;21;01menvironment\u001b[39;00m\u001b[38;5;21;01m.\u001b[39;00m\u001b[38;5;21;01mobject\u001b[39;00m\u001b[38;5;21;01m.\u001b[39;00m\u001b[38;5;21;01mcelestial\u001b[39;00m \u001b[38;5;28;01mimport\u001b[39;00m Sun\n\u001b[0;32m----> 8\u001b[0m \u001b[38;5;28;01mfrom\u001b[39;00m \u001b[38;5;21;01mostk\u001b[39;00m\u001b[38;5;21;01m.\u001b[39;00m\u001b[38;5;21;01mastrodynamics\u001b[39;00m\u001b[38;5;21;01m.\u001b[39;00m\u001b[38;5;21;01mestimator\u001b[39;00m \u001b[38;5;28;01mimport\u001b[39;00m ODLeastSquaresSolver\n\u001b[1;32m      9\u001b[0m \u001b[38;5;28;01mfrom\u001b[39;00m \u001b[38;5;21;01mostk\u001b[39;00m\u001b[38;5;21;01m.\u001b[39;00m\u001b[38;5;21;01mastrodynamics\u001b[39;00m\u001b[38;5;21;01m.\u001b[39;00m\u001b[38;5;21;01mestimator\u001b[39;00m \u001b[38;5;28;01mimport\u001b[39;00m LeastSquaresSolver\n",
      "\u001b[0;31mModuleNotFoundError\u001b[0m: No module named 'ostk.astrodynamics.estimator'"
     ]
    }
   ],
   "source": [
    "import pandas as pd\n",
    "\n",
    "from ostk.physics import Environment\n",
    "from ostk.physics.environment.object.celestial import Earth\n",
    "from ostk.physics.environment.object.celestial import Moon\n",
    "from ostk.physics.environment.object.celestial import Sun\n",
    "\n",
    "from ostk.astrodynamics.estimator import ODLeastSquaresSolver\n",
    "from ostk.astrodynamics.estimator import LeastSquaresSolver"
   ]
  },
  {
   "cell_type": "markdown",
   "id": "83516064-b986-452a-8fe5-db9cd89f1d33",
   "metadata": {},
   "source": [
    "## Setup environment"
   ]
  },
  {
   "cell_type": "code",
   "execution_count": 3,
   "id": "cb0e7f9c-5efb-4897-a3ce-f8c5309bbce5",
   "metadata": {},
   "outputs": [],
   "source": [
    "environment: Environment = Environment(\n",
    "    central_celestial_object=Earth.EGM96(10, 10),\n",
    "    objects=[Moon.default(), Sun.default()]\n",
    ")"
   ]
  },
  {
   "cell_type": "code",
   "execution_count": 4,
   "id": "3cc2f232-ea9a-46b5-a3fd-4c300d978620",
   "metadata": {},
   "outputs": [
    {
     "ename": "NameError",
     "evalue": "name 'ODLeastSquaresSolver' is not defined",
     "output_type": "error",
     "traceback": [
      "\u001b[0;31m---------------------------------------------------------------------------\u001b[0m",
      "\u001b[0;31mNameError\u001b[0m                                 Traceback (most recent call last)",
      "Cell \u001b[0;32mIn[4], line 1\u001b[0m\n\u001b[0;32m----> 1\u001b[0m od_least_squares_solver \u001b[38;5;241m=\u001b[39m \u001b[43mODLeastSquaresSolver\u001b[49m(\n\u001b[1;32m      2\u001b[0m     environment\u001b[38;5;241m=\u001b[39menvironment,\n\u001b[1;32m      3\u001b[0m     numerical_solver\u001b[38;5;241m=\u001b[39mNumericalSolver\u001b[38;5;241m.\u001b[39mdefault(),\n\u001b[1;32m      4\u001b[0m     solver\u001b[38;5;241m=\u001b[39mLeastSquaresSolver\u001b[38;5;241m.\u001b[39mdefault(),\n\u001b[1;32m      5\u001b[0m )\n",
      "\u001b[0;31mNameError\u001b[0m: name 'ODLeastSquaresSolver' is not defined"
     ]
    }
   ],
   "source": [
    "od_least_squares_solver: ODLeastSquaresSolver = ODLeastSquaresSolver(\n",
    "    environment=environment,\n",
    "    numerical_solver=NumericalSolver.default(),\n",
    "    solver=LeastSquaresSolver.default(),\n",
    ")"
   ]
  },
  {
   "cell_type": "markdown",
   "id": "3be2c9c7-2420-4341-831b-88f0359929b4",
   "metadata": {},
   "source": [
    "## Load sample data"
   ]
  },
  {
   "cell_type": "code",
   "execution_count": 5,
   "id": "643141f2-6347-4450-aaa1-2ff033ae92d8",
   "metadata": {},
   "outputs": [],
   "source": [
    "gnss_data = pd.DataFrame(\n",
    "  [\n",
    "    {\n",
    "      \"Timestamp\": \"2022-09-10T00:00:00.537\",\n",
    "      \"r_ITRF_x\": -1016988.4,\n",
    "      \"v_ITRF_x\": -6440.7055664062,\n",
    "      \"v_ITRF_z\": -1946.8566894531,\n",
    "      \"r_ITRF_y\": -1698967.28,\n",
    "      \"v_ITRF_y\": -3691.6062011719,\n",
    "      \"r_ITRF_z\": 6597796.2199999997\n",
    "    },\n",
    "    {\n",
    "      \"Timestamp\": \"2022-09-10T00:01:00.537\",\n",
    "      \"r_ITRF_x\": -1401893.8,\n",
    "      \"v_ITRF_x\": -6384.5068359375,\n",
    "      \"v_ITRF_z\": -2423.8815917969,\n",
    "      \"r_ITRF_y\": -1914926.0600000001,\n",
    "      \"v_ITRF_y\": -3504.4743652344,\n",
    "      \"r_ITRF_z\": 6466623.4699999997\n",
    "    },\n",
    "    {\n",
    "      \"Timestamp\": \"2022-09-10T00:02:00.537\",\n",
    "      \"r_ITRF_x\": -1782540.96,\n",
    "      \"v_ITRF_x\": -6298.8227539062,\n",
    "      \"v_ITRF_z\": -2890.572265625,\n",
    "      \"r_ITRF_y\": -2119207.3999999999,\n",
    "      \"v_ITRF_y\": -3302.5617675781,\n",
    "      \"r_ITRF_z\": 6307130.9400000004\n",
    "    },\n",
    "    {\n",
    "      \"Timestamp\": \"2022-09-10T00:04:59.537\",\n",
    "      \"r_ITRF_x\": -2875526.4500000002,\n",
    "      \"v_ITRF_x\": -5870.8212890625,\n",
    "      \"v_ITRF_z\": -4200.7197265625,\n",
    "      \"r_ITRF_y\": -2651245.2000000002,\n",
    "      \"v_ITRF_y\": -2624.5534667969,\n",
    "      \"r_ITRF_z\": 5670406.9900000002\n",
    "    },\n",
    "    {\n",
    "      \"Timestamp\": \"2022-09-10T00:05:00.537\",\n",
    "      \"r_ITRF_x\": -2881395.6899999999,\n",
    "      \"v_ITRF_x\": -5867.7138671875,\n",
    "      \"v_ITRF_z\": -4207.5874023438,\n",
    "      \"r_ITRF_y\": -2653867.7200000002,\n",
    "      \"v_ITRF_y\": -2620.478515625,\n",
    "      \"r_ITRF_z\": 5666202.8399999999\n",
    "    },\n",
    "    {\n",
    "      \"Timestamp\": \"2022-09-10T00:06:00.537\",\n",
    "      \"r_ITRF_x\": -3227593.21,\n",
    "      \"v_ITRF_x\": -5667.6708984375,\n",
    "      \"v_ITRF_z\": -4612.5078125,\n",
    "      \"r_ITRF_y\": -2803680.5899999999,\n",
    "      \"v_ITRF_y\": -2371.7475585938,\n",
    "      \"r_ITRF_z\": 5401503.0199999996\n",
    "    },\n",
    "    {\n",
    "      \"Timestamp\": \"2022-09-10T00:07:00.537\",\n",
    "      \"r_ITRF_x\": -3560975.0099999998,\n",
    "      \"v_ITRF_x\": -5440.666015625,\n",
    "      \"v_ITRF_z\": -4997.3012695312,\n",
    "      \"r_ITRF_y\": -2938306.2599999998,\n",
    "      \"v_ITRF_y\": -2114.4851074219,\n",
    "      \"r_ITRF_z\": 5113105.0499999998\n",
    "    },\n",
    "    {\n",
    "      \"Timestamp\": \"2022-09-10T00:11:18.537\",\n",
    "      \"r_ITRF_x\": -4811601.4199999999,\n",
    "      \"v_ITRF_x\": -4181.2783203125,\n",
    "      \"v_ITRF_z\": -6383.759765625,\n",
    "      \"r_ITRF_y\": -3334481.5099999998,\n",
    "      \"v_ITRF_y\": -943.7043457031,\n",
    "      \"r_ITRF_z\": 3634961.1600000001\n",
    "    },\n",
    "    {\n",
    "      \"Timestamp\": \"2022-09-10T00:12:00.537\",\n",
    "      \"r_ITRF_x\": -4982122.6600000001,\n",
    "      \"v_ITRF_x\": -3937.1262207031,\n",
    "      \"v_ITRF_z\": -6563.2080078125,\n",
    "      \"r_ITRF_y\": -3370012.2599999998,\n",
    "      \"v_ITRF_y\": -748.1647949219,\n",
    "      \"r_ITRF_z\": 3363025.0299999998\n",
    "    },\n",
    "    {\n",
    "      \"Timestamp\": \"2022-09-10T00:13:00.537\",\n",
    "      \"r_ITRF_x\": -5207480.3899999997,\n",
    "      \"v_ITRF_x\": -3571.6452636719,\n",
    "      \"v_ITRF_z\": -6795.056640625,\n",
    "      \"r_ITRF_y\": -3406514.5600000001,\n",
    "      \"v_ITRF_y\": -468.665222168,\n",
    "      \"r_ITRF_z\": 2962129.3199999998\n",
    "    },\n",
    "    {\n",
    "      \"Timestamp\": \"2022-09-10T00:14:33.537\",\n",
    "      \"r_ITRF_x\": -5511988.8300000001,\n",
    "      \"v_ITRF_x\": -2970.1599121094,\n",
    "      \"v_ITRF_z\": -7095.07421875,\n",
    "      \"r_ITRF_y\": -3430052.2799999998,\n",
    "      \"v_ITRF_y\": -38.3974189758,\n",
    "      \"r_ITRF_z\": 2315670.1800000002\n",
    "    }\n",
    "  ]\n",
    ")"
   ]
  },
  {
   "cell_type": "code",
   "execution_count": null,
   "id": "17c0c0bc-14dc-4726-9d3a-2a1fc3509ae9",
   "metadata": {},
   "outputs": [],
   "source": [
    "observations: list[State] = generate_states_from_dataframe(gnss_data, reference_frame=Frame.ITRF())"
   ]
  },
  {
   "cell_type": "code",
   "execution_count": null,
   "id": "0f23bf1b-5325-443e-8f75-09330bbd743f",
   "metadata": {},
   "outputs": [],
   "source": [
    "initial_guess_state: State = reference_states[0]"
   ]
  },
  {
   "cell_type": "code",
   "execution_count": null,
   "id": "673d1ff2-99c0-463b-abde-2c13f3e082c8",
   "metadata": {},
   "outputs": [],
   "source": [
    "analysis: ODLeastSquaresSolver.Analysis = od_least_squares_solver.estimate_state(\n",
    "    initial_guess_state=initial_guess_state,\n",
    "    observations=observations\n",
    ")"
   ]
  },
  {
   "cell_type": "code",
   "execution_count": null,
   "id": "4aefff77-b35f-4cc9-86a2-ac21bc5886a4",
   "metadata": {},
   "outputs": [],
   "source": [
    "print(analysis.determined_state)\n",
    "print(f\"Converged with [{analysis.solver_analysis.termination_criteria}] in [{analysis.solver_analysis.iteration_count}] iterations with an RMS error of [{analysis.solver_analysis.rms_error}]\")"
   ]
  },
  {
   "cell_type": "code",
   "execution_count": null,
   "id": "6aaa432a-9753-4114-a788-49b5711e7d6e",
   "metadata": {},
   "outputs": [],
   "source": [
    "residuals = analysis.solver_analysis.compute_residuals(observations)\n",
    "\n",
    "data = []\n",
    "for residual in residuals:\n",
    "    data.append(\n",
    "        {\n",
    "            \"timestamp\": coerce_to_datetime(residual.get_instant()),\n",
    "            \"dr [m]\": np.linalg.norm(residual.get_position().get_coordinates()),\n",
    "        }\n",
    "    )"
   ]
  },
  {
   "cell_type": "code",
   "execution_count": null,
   "id": "0c6798a2-d926-46b9-af49-baf1b6206249",
   "metadata": {},
   "outputs": [],
   "source": [
    "px.scatter(data, x=\"timestamp\", y=\"dr [m]\", title=\"Definitive position residuals\")"
   ]
  }
 ],
 "metadata": {
  "kernelspec": {
   "display_name": "Python 3 (ipykernel)",
   "language": "python",
   "name": "python3"
  },
  "language_info": {
   "codemirror_mode": {
    "name": "ipython",
    "version": 3
   },
   "file_extension": ".py",
   "mimetype": "text/x-python",
   "name": "python",
   "nbconvert_exporter": "python",
   "pygments_lexer": "ipython3",
   "version": "3.11.3"
  }
 },
 "nbformat": 4,
 "nbformat_minor": 5
}
