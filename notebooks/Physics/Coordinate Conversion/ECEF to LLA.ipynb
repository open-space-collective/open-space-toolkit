{
 "cells": [
  {
   "cell_type": "markdown",
   "id": "1df2d753-3542-4a06-b700-632d59a4541a",
   "metadata": {},
   "source": [
    "# ECEF to LLA Converter"
   ]
  },
  {
   "cell_type": "markdown",
   "id": "fd4e313a-958e-44da-bec6-c9fa131646f2",
   "metadata": {},
   "source": [
    "Convert **Earth-Centered, Earth-Fixed (ECEF)** coordinates to **Latitude, Longitude and Altitude (LLA)** coordinates.\n",
    "\n",
    "*Note: Geodetic latitude (WGS84) is used here.*"
   ]
  },
  {
   "cell_type": "code",
   "execution_count": 1,
   "id": "c956dfdc-4353-4397-9599-13c19bf3851c",
   "metadata": {},
   "outputs": [],
   "source": [
    "from ostk.physics.coordinate.spherical import LLA\n",
    "from ostk.physics import Environment"
   ]
  },
  {
   "cell_type": "markdown",
   "id": "40e49199-ee09-4eeb-bb8a-4e5a028b669d",
   "metadata": {},
   "source": [
    "---"
   ]
  },
  {
   "cell_type": "code",
   "execution_count": 2,
   "id": "945dcc92-0e6a-43cb-b509-263b1e276f3a",
   "metadata": {},
   "outputs": [],
   "source": [
    "environment = Environment.default()\n",
    "earth = environment.access_celestial_object_with_name(\"Earth\")"
   ]
  },
  {
   "cell_type": "code",
   "execution_count": 3,
   "id": "9ac7e14f-27ad-4d22-83c0-49853679e703",
   "metadata": {},
   "outputs": [],
   "source": [
    "x_ECEF = (2340841.98864643, -1351485.7522754, 5757737.03072958)"
   ]
  },
  {
   "cell_type": "code",
   "execution_count": 4,
   "id": "3af1bb65-1836-4c95-b8ce-979cef1b7bf2",
   "metadata": {},
   "outputs": [],
   "source": [
    "lla = LLA.cartesian(x_ECEF, earth.get_equatorial_radius(), earth.get_flattening())"
   ]
  },
  {
   "cell_type": "code",
   "execution_count": 5,
   "id": "2adae585-5552-4acf-94bf-e093239c0d17",
   "metadata": {},
   "outputs": [
    {
     "name": "stdout",
     "output_type": "stream",
     "text": [
      "-- LLA ---------------------------------------------------------------------------------------------\n",
      "    Latitude:                                65.000000000000014 [deg]                 \n",
      "    Longitude:                               -30.000000000000092 [deg]                \n",
      "    Altitude:                                30.000000001098108 [m]                   \n",
      "----------------------------------------------------------------------------------------------------\n",
      "\n"
     ]
    }
   ],
   "source": [
    "print(lla)"
   ]
  },
  {
   "cell_type": "markdown",
   "id": "7ce5c980-97d3-44d2-805a-f0765ab264a9",
   "metadata": {},
   "source": [
    "---"
   ]
  }
 ],
 "metadata": {
  "kernelspec": {
   "display_name": "Python 3 (ipykernel)",
   "language": "python",
   "name": "python3"
  },
  "language_info": {
   "codemirror_mode": {
    "name": "ipython",
    "version": 3
   },
   "file_extension": ".py",
   "mimetype": "text/x-python",
   "name": "python",
   "nbconvert_exporter": "python",
   "pygments_lexer": "ipython3",
   "version": "3.11.6"
  }
 },
 "nbformat": 4,
 "nbformat_minor": 5
}
