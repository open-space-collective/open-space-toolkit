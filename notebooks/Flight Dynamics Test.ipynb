{
 "cells": [
  {
   "cell_type": "markdown",
   "id": "0bb1a591-5329-42b4-9f7d-ce6d7b969146",
   "metadata": {},
   "source": [
    "## Flight Dynamics Features Initial Testing"
   ]
  },
  {
   "cell_type": "markdown",
   "id": "0426ffb9-d3c7-472f-8d26-b9fdc69fbfe4",
   "metadata": {},
   "source": [
    "This is meant to test out various OSTk functionality and allow Antoine to get familiar with its capabilities"
   ]
  },
  {
   "cell_type": "code",
   "execution_count": 1,
   "id": "b02a2c47-02c9-4b8c-9403-21dc9788a0f2",
   "metadata": {},
   "outputs": [],
   "source": [
    "# imports\n",
    "import numpy as np\n",
    "import pandas as pd\n",
    "\n",
    "import plotly.graph_objs as go\n",
    "\n",
    "from ostk.physics.units import Length\n",
    "from ostk.physics.units import Angle\n",
    "from ostk.physics.time import Scale\n",
    "from ostk.physics.time import Instant\n",
    "from ostk.physics.time import Duration\n",
    "from ostk.physics.time import Interval\n",
    "from ostk.physics.time import DateTime\n",
    "from ostk.physics.coordinate.spherical import LLA\n",
    "from ostk.physics.coordinate import Frame\n",
    "from ostk.physics import Environment\n",
    "from ostk.physics.environment.objects.celestial_bodies import Earth\n",
    "\n",
    "from ostk.astrodynamics import Trajectory\n",
    "from ostk.astrodynamics.trajectory import Orbit\n",
    "from ostk.astrodynamics.trajectory.orbit.models import Kepler\n",
    "from ostk.astrodynamics.trajectory.orbit.models.kepler import COE\n",
    "from ostk.astrodynamics.trajectory.orbit.models import SGP4\n",
    "from ostk.astrodynamics.trajectory.orbit.models.sgp4 import TLE\n"
   ]
  },
  {
   "cell_type": "markdown",
   "id": "d0a2f2fa-96d0-4042-a123-7327d3d4f1bd",
   "metadata": {},
   "source": [
    "## Astrodynamics components testing"
   ]
  },
  {
   "cell_type": "code",
   "execution_count": null,
   "id": "89cb89d5-97cc-46d6-97a1-d9e26bbe04ba",
   "metadata": {},
   "outputs": [],
   "source": []
  }
 ],
 "metadata": {
  "kernelspec": {
   "display_name": "Python 3 (ipykernel)",
   "language": "python",
   "name": "python3"
  },
  "language_info": {
   "codemirror_mode": {
    "name": "ipython",
    "version": 3
   },
   "file_extension": ".py",
   "mimetype": "text/x-python",
   "name": "python",
   "nbconvert_exporter": "python",
   "pygments_lexer": "ipython3",
   "version": "3.9.12"
  }
 },
 "nbformat": 4,
 "nbformat_minor": 5
}
