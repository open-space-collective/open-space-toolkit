{
 "cells": [
  {
   "cell_type": "markdown",
   "metadata": {},
   "source": [
    "# Area Coverage"
   ]
  },
  {
   "cell_type": "markdown",
   "metadata": {},
   "source": [
    "This tutorial demonstrates how to model sensor geometries, obtain the nadir sensor projections on the Earth's surface and compute intersections to cover a polygonal area of interest"
   ]
  },
  {
   "cell_type": "markdown",
   "metadata": {},
   "source": [
    "# Setup"
   ]
  },
  {
   "cell_type": "code",
   "execution_count": 1,
   "metadata": {},
   "outputs": [],
   "source": [
    "import numpy as np\n",
    "import pandas as pd\n",
    "\n",
    "import plotly.graph_objs as go\n",
    "\n",
    "from ostk.mathematics.geometry.d2 import Object\n",
    "from ostk.mathematics.geometry.d2.objects import Point as Point2d\n",
    "from ostk.mathematics.geometry.d2.objects import LineString as LineString2d\n",
    "from ostk.mathematics.geometry.d2.objects import Polygon as Polygon2d\n",
    "from ostk.mathematics.geometry.d3.objects import Point as Point3d\n",
    "from ostk.mathematics.geometry.d3.objects import Polygon as Polygon3d\n",
    "from ostk.mathematics.geometry.d3.objects import Ellipsoid\n",
    "from ostk.mathematics.geometry.d3.objects import Pyramid\n",
    "from ostk.mathematics.geometry.d3.objects import Cone\n",
    "from ostk.mathematics.geometry.d3.transformations.rotations import Quaternion\n",
    "from ostk.mathematics.geometry.d3.transformations.rotations import RotationVector\n",
    "from ostk.mathematics.geometry.d3.transformations.rotations import RotationMatrix\n",
    "from ostk.mathematics.geometry import Angle as MathAngle\n",
    "\n",
    "from ostk.physics.units import Length\n",
    "from ostk.physics.units import Angle\n",
    "from ostk.physics.time import Scale\n",
    "from ostk.physics.time import Instant\n",
    "from ostk.physics.time import Duration\n",
    "from ostk.physics.time import Interval\n",
    "from ostk.physics.time import DateTime\n",
    "from ostk.physics.coordinate.spherical import LLA\n",
    "from ostk.physics.coordinate.spherical import AER\n",
    "from ostk.physics.coordinate import Position\n",
    "from ostk.physics.coordinate import Velocity\n",
    "from ostk.physics.coordinate import Frame\n",
    "from ostk.physics.coordinate import Transform\n",
    "from ostk.physics.coordinate.frame.providers import Dynamic as DynamicFrameProvider\n",
    "from ostk.physics import Environment\n",
    "from ostk.physics.environment.object import Geometry\n",
    "from ostk.physics.environment.objects import Celestial\n",
    "from ostk.physics.environment.objects.celestial_bodies import Earth\n",
    "\n",
    "from ostk.astrodynamics import Trajectory\n",
    "from ostk.astrodynamics.trajectory import State\n",
    "from ostk.astrodynamics.trajectory import Orbit\n",
    "from ostk.astrodynamics.trajectory.orbit.models import Kepler\n",
    "from ostk.astrodynamics.trajectory.orbit.models.kepler import COE\n",
    "from ostk.astrodynamics.trajectory.orbit.models import SGP4\n",
    "from ostk.astrodynamics.trajectory.orbit.models.sgp4 import TLE\n",
    "from ostk.astrodynamics import Access"
   ]
  },
  {
   "cell_type": "markdown",
   "metadata": {},
   "source": [
    "---"
   ]
  },
  {
   "cell_type": "markdown",
   "metadata": {},
   "source": [
    "## Computation"
   ]
  },
  {
   "cell_type": "markdown",
   "metadata": {},
   "source": [
    "### Environment"
   ]
  },
  {
   "cell_type": "markdown",
   "metadata": {},
   "source": [
    "We first set up a simple scene, with the Earth only (the default `Environment` will suffice here):"
   ]
  },
  {
   "cell_type": "code",
   "execution_count": 2,
   "metadata": {},
   "outputs": [],
   "source": [
    "environment = Environment.default()"
   ]
  },
  {
   "cell_type": "markdown",
   "metadata": {},
   "source": [
    "Then, we access the `Earth` object (managed by the `Environment`):"
   ]
  },
  {
   "cell_type": "code",
   "execution_count": 3,
   "metadata": {},
   "outputs": [],
   "source": [
    "earth = environment.access_celestial_object_with_name(\"Earth\")"
   ]
  },
  {
   "cell_type": "markdown",
   "metadata": {},
   "source": [
    "Once the `Earth` has been obtained, we can also get its geometry (an `Ellipsoid`, defined in `ITRF` in this case):"
   ]
  },
  {
   "cell_type": "code",
   "execution_count": 4,
   "metadata": {},
   "outputs": [],
   "source": [
    "earth_geometry = earth.get_geometry_in(Frame.ITRF(), environment.get_instant())"
   ]
  },
  {
   "cell_type": "markdown",
   "metadata": {},
   "source": [
    "### Satellite"
   ]
  },
  {
   "cell_type": "markdown",
   "metadata": {},
   "source": [
    "Let's define the orbit of a satellite in LEO. In this example, we're modeling the orbit using a TLE."
   ]
  },
  {
   "cell_type": "code",
   "execution_count": 5,
   "metadata": {},
   "outputs": [],
   "source": [
    "tle = TLE(\n",
    "    \"1 39419U 13066D   18260.77424112  .00000022  00000-0  72885-5 0  9996\",\n",
    "    \"2 39419  97.6300 326.6556 0013847 175.2842 184.8495 14.93888428262811\"\n",
    ")"
   ]
  },
  {
   "cell_type": "code",
   "execution_count": 6,
   "metadata": {},
   "outputs": [],
   "source": [
    "sgp4_model = SGP4(tle)"
   ]
  },
  {
   "cell_type": "markdown",
   "metadata": {},
   "source": [
    "We then obtain the satellite orbit (which is a trajectory):"
   ]
  },
  {
   "cell_type": "code",
   "execution_count": 7,
   "metadata": {},
   "outputs": [],
   "source": [
    "satellite_orbit = Orbit(sgp4_model, earth)"
   ]
  },
  {
   "cell_type": "code",
   "execution_count": 8,
   "metadata": {},
   "outputs": [],
   "source": [
    "start_instant = tle.get_epoch() + Duration.hours(7.0) ;\n",
    "end_instant = start_instant + Duration.hours(2.0) ;\n",
    "\n",
    "interval = Interval.closed(start_instant, end_instant) ;"
   ]
  },
  {
   "cell_type": "markdown",
   "metadata": {},
   "source": [
    "We select an arbitrary step duration, convenient for the following display"
   ]
  },
  {
   "cell_type": "code",
   "execution_count": 9,
   "metadata": {},
   "outputs": [],
   "source": [
    "step = Duration.seconds(100.0)"
   ]
  },
  {
   "cell_type": "code",
   "execution_count": 10,
   "metadata": {},
   "outputs": [],
   "source": [
    "instants = interval.generate_grid(step)"
   ]
  },
  {
   "cell_type": "code",
   "execution_count": 11,
   "metadata": {},
   "outputs": [],
   "source": [
    "states = [satellite_orbit.get_state_at(instant) for instant in instants]"
   ]
  },
  {
   "cell_type": "code",
   "execution_count": 12,
   "metadata": {},
   "outputs": [],
   "source": [
    "states_lla = [LLA.cartesian(state.in_frame(Frame.ITRF()).get_position().get_coordinates(), earth.get_equatorial_radius(), earth.get_flattening()) for state in states]"
   ]
  },
  {
   "cell_type": "code",
   "execution_count": 13,
   "metadata": {},
   "outputs": [],
   "source": [
    "states_line_string = LineString2d([Point2d(state_lla.get_longitude().in_degrees(), state_lla.get_latitude().in_degrees()) for state_lla in states_lla])"
   ]
  },
  {
   "cell_type": "code",
   "execution_count": 14,
   "metadata": {},
   "outputs": [],
   "source": [
    "ground_track_df = pd.DataFrame([[float(state_lla.get_longitude().in_degrees()), float(state_lla.get_latitude().in_degrees())] for state_lla in states_lla], columns=['Longitude', 'Latitude']) ;"
   ]
  },
  {
   "cell_type": "code",
   "execution_count": 15,
   "metadata": {},
   "outputs": [
    {
     "data": {
      "text/html": [
       "<div>\n",
       "<style scoped>\n",
       "    .dataframe tbody tr th:only-of-type {\n",
       "        vertical-align: middle;\n",
       "    }\n",
       "\n",
       "    .dataframe tbody tr th {\n",
       "        vertical-align: top;\n",
       "    }\n",
       "\n",
       "    .dataframe thead th {\n",
       "        text-align: right;\n",
       "    }\n",
       "</style>\n",
       "<table border=\"1\" class=\"dataframe\">\n",
       "  <thead>\n",
       "    <tr style=\"text-align: right;\">\n",
       "      <th></th>\n",
       "      <th>Longitude</th>\n",
       "      <th>Latitude</th>\n",
       "    </tr>\n",
       "  </thead>\n",
       "  <tbody>\n",
       "    <tr>\n",
       "      <th>0</th>\n",
       "      <td>136.034969</td>\n",
       "      <td>51.823142</td>\n",
       "    </tr>\n",
       "    <tr>\n",
       "      <th>1</th>\n",
       "      <td>133.713053</td>\n",
       "      <td>45.712842</td>\n",
       "    </tr>\n",
       "    <tr>\n",
       "      <th>2</th>\n",
       "      <td>131.766703</td>\n",
       "      <td>39.568573</td>\n",
       "    </tr>\n",
       "    <tr>\n",
       "      <th>3</th>\n",
       "      <td>130.068987</td>\n",
       "      <td>33.399306</td>\n",
       "    </tr>\n",
       "    <tr>\n",
       "      <th>4</th>\n",
       "      <td>128.540605</td>\n",
       "      <td>27.211158</td>\n",
       "    </tr>\n",
       "  </tbody>\n",
       "</table>\n",
       "</div>"
      ],
      "text/plain": [
       "    Longitude   Latitude\n",
       "0  136.034969  51.823142\n",
       "1  133.713053  45.712842\n",
       "2  131.766703  39.568573\n",
       "3  130.068987  33.399306\n",
       "4  128.540605  27.211158"
      ]
     },
     "execution_count": 15,
     "metadata": {},
     "output_type": "execute_result"
    }
   ],
   "source": [
    "ground_track_df.head()"
   ]
  },
  {
   "cell_type": "markdown",
   "metadata": {
    "tags": []
   },
   "source": [
    "## Area Target"
   ]
  },
  {
   "cell_type": "markdown",
   "metadata": {},
   "source": [
    "Let's define a target `Polygon2d` (Longitude, Latitude) representing an area of interest (covering part of Europe):"
   ]
  },
  {
   "cell_type": "code",
   "execution_count": 16,
   "metadata": {},
   "outputs": [],
   "source": [
    "target_coordinates = [\n",
    "    [\n",
    "      8.26171875,\n",
    "      53.64463782485651\n",
    "    ],\n",
    "    [\n",
    "      5.625,\n",
    "      53.225768435790194\n",
    "    ],\n",
    "    [\n",
    "      5.09765625,\n",
    "      52.3755991766591\n",
    "    ],\n",
    "    [\n",
    "      3.33984375,\n",
    "      51.17934297928927\n",
    "    ],\n",
    "    [\n",
    "      1.7578125,\n",
    "      50.736455137010665\n",
    "    ],\n",
    "    [\n",
    "      0.3515625,\n",
    "      49.38237278700955\n",
    "    ],\n",
    "    [\n",
    "      -0.87890625,\n",
    "      49.26780455063753\n",
    "    ],\n",
    "    [\n",
    "      -4.5703125,\n",
    "      48.3416461723746\n",
    "    ],\n",
    "    [\n",
    "      -0.52734375,\n",
    "      46.437856895024204\n",
    "    ],\n",
    "    [\n",
    "      -1.23046875,\n",
    "      44.465151013519616\n",
    "    ],\n",
    "    [\n",
    "      -1.9335937499999998,\n",
    "      43.197167282501276\n",
    "    ],\n",
    "    [\n",
    "      3.33984375,\n",
    "      42.4234565179383\n",
    "    ],\n",
    "    [\n",
    "      3.33984375,\n",
    "      43.58039085560784\n",
    "    ],\n",
    "    [\n",
    "      6.328125,\n",
    "      42.94033923363181\n",
    "    ],\n",
    "    [\n",
    "      7.55859375,\n",
    "      43.70759350405294\n",
    "    ],\n",
    "    [\n",
    "      10.1953125,\n",
    "      44.08758502824516\n",
    "    ],\n",
    "    [\n",
    "      11.6015625,\n",
    "      42.032974332441405\n",
    "    ],\n",
    "    [\n",
    "      14.765625,\n",
    "      40.58058466412761\n",
    "    ],\n",
    "    [\n",
    "      15.99609375,\n",
    "      37.996162679728116\n",
    "    ],\n",
    "    [\n",
    "      18.28125,\n",
    "      40.17887331434696\n",
    "    ],\n",
    "    [\n",
    "      11.953125,\n",
    "      44.33956524809713\n",
    "    ],\n",
    "    [\n",
    "      13.18359375,\n",
    "      45.9511496866914\n",
    "    ],\n",
    "    [\n",
    "      17.578125,\n",
    "      42.94033923363181\n",
    "    ],\n",
    "    [\n",
    "      22.32421875,\n",
    "      37.020098201368114\n",
    "    ],\n",
    "    [\n",
    "      23.203125,\n",
    "      40.44694705960048\n",
    "    ],\n",
    "    [\n",
    "      25.839843749999996,\n",
    "      40.44694705960048\n",
    "    ],\n",
    "    [\n",
    "      27.24609375,\n",
    "      41.11246878918088\n",
    "    ],\n",
    "    [\n",
    "      28.30078125,\n",
    "      43.32517767999296\n",
    "    ],\n",
    "    [\n",
    "      30.234375,\n",
    "      46.92025531537451\n",
    "    ],\n",
    "    [\n",
    "      35.68359375,\n",
    "      46.6795944656402\n",
    "    ],\n",
    "    [\n",
    "      38.3203125,\n",
    "      47.27922900257082\n",
    "    ],\n",
    "    [\n",
    "      39.90234375,\n",
    "      49.61070993807422\n",
    "    ],\n",
    "    [\n",
    "      35.859375,\n",
    "      50.84757295365389\n",
    "    ],\n",
    "    [\n",
    "      33.92578125,\n",
    "      52.3755991766591\n",
    "    ],\n",
    "    [\n",
    "      31.9921875,\n",
    "      52.26815737376817\n",
    "    ],\n",
    "    [\n",
    "      31.46484375,\n",
    "      53.85252660044951\n",
    "    ],\n",
    "    [\n",
    "      30.234375,\n",
    "      55.87531083569679\n",
    "    ],\n",
    "    [\n",
    "      28.30078125,\n",
    "      56.17002298293205\n",
    "    ],\n",
    "    [\n",
    "      27.59765625,\n",
    "      59.085738569819505\n",
    "    ],\n",
    "    [\n",
    "      24.78515625,\n",
    "      59.17592824927136\n",
    "    ],\n",
    "    [\n",
    "      22.67578125,\n",
    "      59.17592824927136\n",
    "    ],\n",
    "    [\n",
    "      24.08203125,\n",
    "      57.98480801923985\n",
    "    ],\n",
    "    [\n",
    "      24.2578125,\n",
    "      57.231502991478926\n",
    "    ],\n",
    "    [\n",
    "      22.148437499999996,\n",
    "      57.70414723434193\n",
    "    ],\n",
    "    [\n",
    "      21.26953125,\n",
    "      57.136239319177434\n",
    "    ],\n",
    "    [\n",
    "      21.09375,\n",
    "      55.87531083569679\n",
    "    ],\n",
    "    [\n",
    "      20.214843749999996,\n",
    "      54.57206165565852\n",
    "    ],\n",
    "    [\n",
    "      17.75390625,\n",
    "      54.87660665410869\n",
    "    ],\n",
    "    [\n",
    "      14.94140625,\n",
    "      53.9560855309879\n",
    "    ],\n",
    "    [\n",
    "      12.65625,\n",
    "      54.36775852406841\n",
    "    ],\n",
    "    [\n",
    "      10.1953125,\n",
    "      54.36775852406841\n",
    "    ],\n",
    "    [\n",
    "      10.01953125,\n",
    "      57.231502991478926\n",
    "    ],\n",
    "    [\n",
    "      8.0859375,\n",
    "      57.136239319177434\n",
    "    ],\n",
    "    [\n",
    "      8.26171875,\n",
    "      53.64463782485651\n",
    "    ]\n",
    "]"
   ]
  },
  {
   "cell_type": "markdown",
   "metadata": {},
   "source": [
    "or the continental US for instance:"
   ]
  },
  {
   "cell_type": "code",
   "execution_count": 17,
   "metadata": {},
   "outputs": [],
   "source": [
    "target_coordinates = [\n",
    "    [\n",
    "      -124.541015625,\n",
    "      48.28319289548349\n",
    "    ],\n",
    "    [\n",
    "      -123.837890625,\n",
    "      44.902577996288876\n",
    "    ],\n",
    "    [\n",
    "      -124.45312499999999,\n",
    "      42.61779143282346\n",
    "    ],\n",
    "    [\n",
    "      -124.365234375,\n",
    "      40.38002840251183\n",
    "    ],\n",
    "    [\n",
    "      -121.11328124999999,\n",
    "      35.02999636902566\n",
    "    ],\n",
    "    [\n",
    "      -118.037109375,\n",
    "      33.94335994657882\n",
    "    ],\n",
    "    [\n",
    "      -117.24609374999999,\n",
    "      32.54681317351514\n",
    "    ],\n",
    "    [\n",
    "      -114.43359375,\n",
    "      32.84267363195431\n",
    "    ],\n",
    "    [\n",
    "      -111.005859375,\n",
    "      31.353636941500987\n",
    "    ],\n",
    "    [\n",
    "      -108.6328125,\n",
    "      31.203404950917395\n",
    "    ],\n",
    "    [\n",
    "      -108.28125,\n",
    "      32.02670629333614\n",
    "    ],\n",
    "    [\n",
    "      -106.5234375,\n",
    "      31.57853542647338\n",
    "    ],\n",
    "    [\n",
    "      -103.095703125,\n",
    "      28.76765910569123\n",
    "    ],\n",
    "    [\n",
    "      -102.3046875,\n",
    "      29.6880527498568\n",
    "    ],\n",
    "    [\n",
    "      -101.162109375,\n",
    "      29.6880527498568\n",
    "    ],\n",
    "    [\n",
    "      -97.646484375,\n",
    "      25.799891182088334\n",
    "    ],\n",
    "    [\n",
    "      -96.6796875,\n",
    "      28.76765910569123\n",
    "    ],\n",
    "    [\n",
    "      -94.482421875,\n",
    "      29.611670115197377\n",
    "    ],\n",
    "    [\n",
    "      -92.900390625,\n",
    "      29.84064389983441\n",
    "    ],\n",
    "    [\n",
    "      -90.087890625,\n",
    "      29.305561325527698\n",
    "    ],\n",
    "    [\n",
    "      -90,\n",
    "      30.14512718337613\n",
    "    ],\n",
    "    [\n",
    "      -88.06640625,\n",
    "      30.44867367928756\n",
    "    ],\n",
    "    [\n",
    "      -85.69335937499999,\n",
    "      30.29701788337205\n",
    "    ],\n",
    "    [\n",
    "      -84.90234375,\n",
    "      29.6880527498568\n",
    "    ],\n",
    "    [\n",
    "      -84.287109375,\n",
    "      30.14512718337613\n",
    "    ],\n",
    "    [\n",
    "      -82.96875,\n",
    "      29.305561325527698\n",
    "    ],\n",
    "    [\n",
    "      -80.947265625,\n",
    "      25.085598897064752\n",
    "    ],\n",
    "    [\n",
    "      -80.244140625,\n",
    "      25.48295117535531\n",
    "    ],\n",
    "    [\n",
    "      -81.474609375,\n",
    "      30.826780904779774\n",
    "    ],\n",
    "    [\n",
    "      -76.11328125,\n",
    "      35.67514743608467\n",
    "    ],\n",
    "    [\n",
    "      -73.564453125,\n",
    "      40.84706035607122\n",
    "    ],\n",
    "    [\n",
    "      -70.3125,\n",
    "      41.64007838467894\n",
    "    ],\n",
    "    [\n",
    "      -70.3125,\n",
    "      43.197167282501276\n",
    "    ],\n",
    "    [\n",
    "      -65.21484375,\n",
    "      45.583289756006316\n",
    "    ],\n",
    "    [\n",
    "      -68.5546875,\n",
    "      47.517200697839414\n",
    "    ],\n",
    "    [\n",
    "      -70.57617187499999,\n",
    "      45.460130637921004\n",
    "    ],\n",
    "    [\n",
    "      -74.70703125,\n",
    "      44.84029065139799\n",
    "    ],\n",
    "    [\n",
    "      -76.904296875,\n",
    "      43.51668853502906\n",
    "    ],\n",
    "    [\n",
    "      -79.189453125,\n",
    "      43.197167282501276\n",
    "    ],\n",
    "    [\n",
    "      -81.650390625,\n",
    "      41.83682786072714\n",
    "    ],\n",
    "    [\n",
    "      -83.408203125,\n",
    "      41.902277040963696\n",
    "    ],\n",
    "    [\n",
    "      -81.73828125,\n",
    "      44.402391829093915\n",
    "    ],\n",
    "    [\n",
    "      -83.232421875,\n",
    "      46.01222384063236\n",
    "    ],\n",
    "    [\n",
    "      -88.154296875,\n",
    "      48.28319289548349\n",
    "    ],\n",
    "    [\n",
    "      -90.87890625,\n",
    "      48.22467264956519\n",
    "    ],\n",
    "    [\n",
    "      -94.833984375,\n",
    "      49.095452162534826\n",
    "    ],\n",
    "    [\n",
    "      -123.3984375,\n",
    "      49.095452162534826\n",
    "    ],\n",
    "    [\n",
    "      -124.541015625,\n",
    "      48.28319289548349\n",
    "    ]\n",
    "]"
   ]
  },
  {
   "cell_type": "markdown",
   "metadata": {},
   "source": [
    "We create the `Polygon2d` using those coordinates"
   ]
  },
  {
   "cell_type": "code",
   "execution_count": 18,
   "metadata": {},
   "outputs": [],
   "source": [
    "target_geometry = Polygon2d([Point2d(float(point_coordinates[0]), float(point_coordinates[1])) for point_coordinates in target_coordinates])"
   ]
  },
  {
   "cell_type": "markdown",
   "metadata": {},
   "source": [
    "### Sensor"
   ]
  },
  {
   "cell_type": "markdown",
   "metadata": {},
   "source": [
    "We define our orbital frame:"
   ]
  },
  {
   "cell_type": "code",
   "execution_count": 19,
   "metadata": {},
   "outputs": [],
   "source": [
    "orbital_frame = satellite_orbit.get_orbital_frame(Orbit.FrameType.VVLH)"
   ]
  },
  {
   "cell_type": "code",
   "execution_count": 20,
   "metadata": {},
   "outputs": [],
   "source": [
    "def calculate_attitude (state):\n",
    "\n",
    "    q_ORB_GCRF = Frame.GCRF().get_transform_to(orbital_frame, state.get_instant()).get_orientation()\n",
    "    \n",
    "    q_B_ORB = Quaternion.unit()\n",
    "    q_B_ORB = Quaternion.rotation_vector(RotationVector.x(MathAngle.degrees(0.0))) # Keep 0 degrees Rotation Angle\n",
    "    \n",
    "    q_B_GCRF = (q_B_ORB * q_ORB_GCRF).to_normalized()\n",
    "    \n",
    "    return q_B_GCRF"
   ]
  },
  {
   "cell_type": "code",
   "execution_count": 21,
   "metadata": {},
   "outputs": [],
   "source": [
    "def body_frame_transform_generator (instant):\n",
    "    \n",
    "    state = satellite_orbit.get_state_at(instant)\n",
    "    \n",
    "    q_B_GCRF = calculate_attitude(state)\n",
    "    \n",
    "    return Transform.passive(instant, -state.get_position().get_coordinates(), np.array((0.0, 0.0, 0.0)), q_B_GCRF, np.array((0.0, 0.0, 0.0)))\n",
    "\n",
    "body_frame_provider = DynamicFrameProvider(body_frame_transform_generator)\n",
    "\n",
    "if Frame.exists(\"Body\"):\n",
    "\n",
    "    Frame.destruct(\"Body\")\n",
    "\n",
    "body_frame = Frame.construct(\"Body\", False, Frame.GCRF(), body_frame_provider)"
   ]
  },
  {
   "cell_type": "code",
   "execution_count": 22,
   "metadata": {},
   "outputs": [],
   "source": [
    "def calculate_intersection (state, sensor_geometry):\n",
    "\n",
    "    nadir_target = state.in_frame(Frame.ITRF()).get_position()\n",
    "    nadir_target_lla = LLA.cartesian(nadir_target.get_coordinates(), earth.get_equatorial_radius(), earth.get_flattening())\n",
    "\n",
    "    ned_frame = earth.get_frame_at(nadir_target_lla, Celestial.FrameType.NED)\n",
    "    \n",
    "    nadir_position_NED = nadir_target.in_frame(ned_frame, state.get_instant())\n",
    "    satellite_position_NED = state.get_position().in_frame(ned_frame, state.get_instant())\n",
    "\n",
    "    aer = AER.from_position_to_position(nadir_position_NED, satellite_position_NED)\n",
    "    \n",
    "    observer_geometry_ITRF = sensor_geometry.in_frame(Frame.ITRF(), state.get_instant())\n",
    "    \n",
    "    intersection_ITRF = observer_geometry_ITRF.intersection_with(earth_geometry)\n",
    "    \n",
    "    if not intersection_ITRF.is_defined():\n",
    "    \n",
    "        return None\n",
    "    \n",
    "    intersection_points = [Point2d(lla.get_longitude().in_degrees(), lla.get_latitude().in_degrees()) for lla in [LLA.cartesian(point_ITRF.as_vector(), earth.get_equatorial_radius(), earth.get_flattening()) for point_ITRF in intersection_ITRF.access_composite().access_object_at(0).as_line_string()]]\n",
    "    \n",
    "    if len(intersection_points) < 3:\n",
    "        \n",
    "        return None\n",
    "\n",
    "    intersection_polygon = Polygon2d(intersection_points)\n",
    "    \n",
    "    return intersection_ITRF"
   ]
  },
  {
   "cell_type": "markdown",
   "metadata": {},
   "source": [
    "Let's define a pyramidal geometry:"
   ]
  },
  {
   "cell_type": "code",
   "execution_count": 23,
   "metadata": {},
   "outputs": [],
   "source": [
    "apex_B = Point3d(0.0, 0.0, 0.0)\n",
    "base_B = Polygon3d(Polygon2d([Point2d(-0.5, -0.5), Point2d(+0.5, -0.5), Point2d(+0.5, +0.5), Point2d(-0.5, +0.5)]), apex_B + np.array((0.0, 0.0, 1.0)), np.array((1.0, 0.0, 0.0)), np.array((0.0, 1.0, 0.0)))\n",
    "\n",
    "pyramid_B = Pyramid(base_B, apex_B)"
   ]
  },
  {
   "cell_type": "markdown",
   "metadata": {},
   "source": [
    "We could also use a conical geometry:"
   ]
  },
  {
   "cell_type": "code",
   "execution_count": 24,
   "metadata": {},
   "outputs": [],
   "source": [
    "cone_B = Cone(apex_B, np.array((0.0, 0.0, 1.0)), MathAngle.degrees(40.0))"
   ]
  },
  {
   "cell_type": "markdown",
   "metadata": {},
   "source": [
    "The satellite body frame and the geometry allow us to define a complete sensor geometry"
   ]
  },
  {
   "cell_type": "code",
   "execution_count": 25,
   "metadata": {},
   "outputs": [],
   "source": [
    "sensor_geometry = Geometry(pyramid_B, body_frame)"
   ]
  },
  {
   "cell_type": "markdown",
   "metadata": {},
   "source": [
    "Assuming nadir pointing over the full course of the orbit, we obtain the intersections between the sensor geometry and the Earth's surface for all instants"
   ]
  },
  {
   "cell_type": "code",
   "execution_count": 26,
   "metadata": {},
   "outputs": [],
   "source": [
    "intersections_ITRF = [calculate_intersection(state, sensor_geometry) for state in states]"
   ]
  },
  {
   "cell_type": "code",
   "execution_count": 27,
   "metadata": {},
   "outputs": [],
   "source": [
    "intersections_ITRF = [intersection_ITRF for intersection_ITRF in intersections_ITRF if intersection_ITRF is not None]"
   ]
  },
  {
   "cell_type": "code",
   "execution_count": 28,
   "metadata": {},
   "outputs": [],
   "source": [
    "intersections_LLs = [[Point2d(lla.get_longitude().in_degrees(), lla.get_latitude().in_degrees()) for lla in [LLA.cartesian(point_ITRF.as_vector(), earth.get_equatorial_radius(), earth.get_flattening()) for point_ITRF in intersection_ITRF.access_composite().access_object_at(0).as_line_string()]] for intersection_ITRF in intersections_ITRF]"
   ]
  },
  {
   "cell_type": "markdown",
   "metadata": {},
   "source": [
    "Those intersections represent the nadir sensor projections, that we store in a list of pandas dataframes"
   ]
  },
  {
   "cell_type": "code",
   "execution_count": 29,
   "metadata": {},
   "outputs": [],
   "source": [
    "intersection_dfs = [pd.DataFrame([[float(intersection_point.x()), float(intersection_point.y())] for intersection_point in intersection_LLs], columns=['Longitude', 'Latitude']) for intersection_LLs in intersections_LLs] ;"
   ]
  },
  {
   "cell_type": "code",
   "execution_count": 30,
   "metadata": {},
   "outputs": [
    {
     "data": {
      "text/html": [
       "<div>\n",
       "<style scoped>\n",
       "    .dataframe tbody tr th:only-of-type {\n",
       "        vertical-align: middle;\n",
       "    }\n",
       "\n",
       "    .dataframe tbody tr th {\n",
       "        vertical-align: top;\n",
       "    }\n",
       "\n",
       "    .dataframe thead th {\n",
       "        text-align: right;\n",
       "    }\n",
       "</style>\n",
       "<table border=\"1\" class=\"dataframe\">\n",
       "  <thead>\n",
       "    <tr style=\"text-align: right;\">\n",
       "      <th></th>\n",
       "      <th>Longitude</th>\n",
       "      <th>Latitude</th>\n",
       "    </tr>\n",
       "  </thead>\n",
       "  <tbody>\n",
       "    <tr>\n",
       "      <th>0</th>\n",
       "      <td>141.486732</td>\n",
       "      <td>53.784290</td>\n",
       "    </tr>\n",
       "    <tr>\n",
       "      <th>1</th>\n",
       "      <td>140.400471</td>\n",
       "      <td>53.956463</td>\n",
       "    </tr>\n",
       "    <tr>\n",
       "      <th>2</th>\n",
       "      <td>139.388655</td>\n",
       "      <td>54.110781</td>\n",
       "    </tr>\n",
       "    <tr>\n",
       "      <th>3</th>\n",
       "      <td>138.424067</td>\n",
       "      <td>54.252497</td>\n",
       "    </tr>\n",
       "    <tr>\n",
       "      <th>4</th>\n",
       "      <td>137.484347</td>\n",
       "      <td>54.385526</td>\n",
       "    </tr>\n",
       "  </tbody>\n",
       "</table>\n",
       "</div>"
      ],
      "text/plain": [
       "    Longitude   Latitude\n",
       "0  141.486732  53.784290\n",
       "1  140.400471  53.956463\n",
       "2  139.388655  54.110781\n",
       "3  138.424067  54.252497\n",
       "4  137.484347  54.385526"
      ]
     },
     "execution_count": 30,
     "metadata": {},
     "output_type": "execute_result"
    }
   ],
   "source": [
    "intersection_dfs[0].head()"
   ]
  },
  {
   "cell_type": "markdown",
   "metadata": {},
   "source": [
    "---"
   ]
  },
  {
   "cell_type": "markdown",
   "metadata": {},
   "source": [
    "### Target Intersection"
   ]
  },
  {
   "cell_type": "markdown",
   "metadata": {},
   "source": [
    "We first construct the `Polygon2d` representing the Sensor projections computed above"
   ]
  },
  {
   "cell_type": "code",
   "execution_count": 31,
   "metadata": {},
   "outputs": [],
   "source": [
    "intersections_polygons_2d = [Polygon2d(coordinates) for coordinates in intersections_LLs]"
   ]
  },
  {
   "cell_type": "markdown",
   "metadata": {},
   "source": [
    "Let's compute the intersection regions between the Sensor projections and the area of interest (our target). The output of this operations will be a set of Geometries (mainly `Polygon2d` as well) representing the portions of the area of interest covered by our sensor (assuming nadir pointing)"
   ]
  },
  {
   "cell_type": "code",
   "execution_count": 32,
   "metadata": {},
   "outputs": [
    {
     "ename": "RuntimeError",
     "evalue": "",
     "output_type": "error",
     "traceback": [
      "\u001b[0;31m---------------------------------------------------------------------------\u001b[0m",
      "\u001b[0;31mRuntimeError\u001b[0m                              Traceback (most recent call last)",
      "Cell \u001b[0;32mIn[32], line 1\u001b[0m\n\u001b[0;32m----> 1\u001b[0m intersections_with_target_polygons \u001b[38;5;241m=\u001b[39m \u001b[43m[\u001b[49m\u001b[43msensor_projection\u001b[49m\u001b[38;5;241;43m.\u001b[39;49m\u001b[43mintersection_with\u001b[49m\u001b[43m(\u001b[49m\u001b[43mtarget_geometry\u001b[49m\u001b[43m)\u001b[49m\u001b[43m \u001b[49m\u001b[38;5;28;43;01mif\u001b[39;49;00m\u001b[43m \u001b[49m\u001b[43msensor_projection\u001b[49m\u001b[38;5;241;43m.\u001b[39;49m\u001b[43mintersects\u001b[49m\u001b[43m(\u001b[49m\u001b[43mtarget_geometry\u001b[49m\u001b[43m)\u001b[49m\u001b[43m \u001b[49m\u001b[38;5;28;43;01melse\u001b[39;49;00m\u001b[43m \u001b[49m\u001b[38;5;28;43;01mNone\u001b[39;49;00m\u001b[43m \u001b[49m\u001b[38;5;28;43;01mfor\u001b[39;49;00m\u001b[43m \u001b[49m\u001b[43msensor_projection\u001b[49m\u001b[43m \u001b[49m\u001b[38;5;129;43;01min\u001b[39;49;00m\u001b[43m \u001b[49m\u001b[43mintersections_polygons_2d\u001b[49m\u001b[43m]\u001b[49m\n",
      "Cell \u001b[0;32mIn[32], line 1\u001b[0m, in \u001b[0;36m<listcomp>\u001b[0;34m(.0)\u001b[0m\n\u001b[0;32m----> 1\u001b[0m intersections_with_target_polygons \u001b[38;5;241m=\u001b[39m [\u001b[43msensor_projection\u001b[49m\u001b[38;5;241;43m.\u001b[39;49m\u001b[43mintersection_with\u001b[49m\u001b[43m(\u001b[49m\u001b[43mtarget_geometry\u001b[49m\u001b[43m)\u001b[49m \u001b[38;5;28;01mif\u001b[39;00m sensor_projection\u001b[38;5;241m.\u001b[39mintersects(target_geometry) \u001b[38;5;28;01melse\u001b[39;00m \u001b[38;5;28;01mNone\u001b[39;00m \u001b[38;5;28;01mfor\u001b[39;00m sensor_projection \u001b[38;5;129;01min\u001b[39;00m intersections_polygons_2d]\n",
      "\u001b[0;31mRuntimeError\u001b[0m: "
     ]
    }
   ],
   "source": [
    "intersections_with_target_polygons = [sensor_projection.intersection_with(target_geometry) if sensor_projection.intersects(target_geometry) else None for sensor_projection in intersections_polygons_2d]"
   ]
  },
  {
   "cell_type": "markdown",
   "metadata": {},
   "source": [
    "Let's convert those intersection geometries in Longitude, Latitude coordinates"
   ]
  },
  {
   "cell_type": "code",
   "execution_count": null,
   "metadata": {},
   "outputs": [],
   "source": [
    "intersections_with_target_lls = []\n",
    "\n",
    "for target_intersection in intersections_with_target_polygons:\n",
    "    \n",
    "    if target_intersection:\n",
    "        \n",
    "        composite = target_intersection.access_composite()\n",
    "\n",
    "        object_count = composite.get_object_count()\n",
    "        \n",
    "        polygons_lls = []\n",
    "        \n",
    "        for i in range(object_count):\n",
    "            \n",
    "            polygon = composite.access_object_at(i)\n",
    "            \n",
    "            intersections_with_target_lls.append(polygon.get_vertices())"
   ]
  },
  {
   "cell_type": "markdown",
   "metadata": {},
   "source": [
    "Finally we create the dataframe to store those intersections"
   ]
  },
  {
   "cell_type": "code",
   "execution_count": null,
   "metadata": {},
   "outputs": [],
   "source": [
    "target_intersection_dfs = [pd.DataFrame([[float(intersection_point.x()), float(intersection_point.y())] for intersection_point in intersection_LLs], columns=['Longitude', 'Latitude']) for intersection_LLs in intersections_with_target_lls] ;"
   ]
  },
  {
   "cell_type": "markdown",
   "metadata": {},
   "source": [
    "## Visualization"
   ]
  },
  {
   "cell_type": "markdown",
   "metadata": {},
   "source": [
    "2D plot:"
   ]
  },
  {
   "cell_type": "code",
   "execution_count": null,
   "metadata": {},
   "outputs": [],
   "source": [
    "data = []\n",
    "\n",
    "# Satellite Ground Track\n",
    "\n",
    "data.append(\n",
    "    go.Scattergeo(\n",
    "        lon = ground_track_df['Longitude'],\n",
    "        lat = ground_track_df['Latitude'],\n",
    "        mode = 'lines',\n",
    "        line = dict(\n",
    "            width = 1,\n",
    "            color = 'rgba(255, 0, 0, 0.5)',\n",
    "        )\n",
    "    )\n",
    ")\n",
    "\n",
    "# Area Target Geometry\n",
    "\n",
    "data.append(\n",
    "    go.Scattergeo(\n",
    "        lon = [coordinate[0] for coordinate in target_coordinates],\n",
    "        lat = [coordinate[1] for coordinate in target_coordinates],\n",
    "        mode = 'lines',\n",
    "        line = dict(\n",
    "            width = 2,\n",
    "            color = 'rgba(0, 200, 200, 1.0)',\n",
    "        )\n",
    "    )\n",
    ")\n",
    "\n",
    "# Satellite Sensor Projections\n",
    "\n",
    "for intersection_df in intersection_dfs:\n",
    "\n",
    "    data.append(\n",
    "        go.Scattergeo(\n",
    "            lon = intersection_df['Longitude'],\n",
    "            lat = intersection_df['Latitude'],\n",
    "            mode = 'lines',\n",
    "            line = dict(\n",
    "                width = 1,\n",
    "                color = 'rgba(0, 0, 255, 0.4)',\n",
    "            )\n",
    "        )\n",
    "    )\n",
    "    \n",
    "# Satellite Sensor Projections Intersection with Area of Interest\n",
    "    \n",
    "for intersection_df in target_intersection_dfs:\n",
    "\n",
    "    data.append(\n",
    "        go.Scattergeo(\n",
    "            lon = intersection_df['Longitude'],\n",
    "            lat = intersection_df['Latitude'],\n",
    "            mode = 'lines',\n",
    "            line = dict(\n",
    "                width = 1,\n",
    "                color = 'rgba(0, 255, 0, 0.8)',\n",
    "            )\n",
    "        )\n",
    "    )\n",
    "    \n",
    "figure = go.Figure(\n",
    "    data = data,\n",
    "    layout = go.Layout(\n",
    "        title = None,\n",
    "        showlegend = False,\n",
    "        height=1000,\n",
    "        geo = go.layout.Geo(\n",
    "            showland = True,\n",
    "            landcolor = 'rgb(243, 243, 243)',\n",
    "            countrycolor = 'rgb(204, 204, 204)',\n",
    "            lonaxis = dict( \n",
    "                showgrid = True,\n",
    "                gridcolor = 'rgb(102, 102, 102)',\n",
    "                gridwidth = 0.1\n",
    "            ),\n",
    "            lataxis = dict( \n",
    "                showgrid = True,\n",
    "                gridcolor = 'rgb(102, 102, 102)',\n",
    "                gridwidth = 0.1\n",
    "            )\n",
    "        )\n",
    "    )\n",
    ")\n",
    "\n",
    "figure.show()"
   ]
  },
  {
   "cell_type": "markdown",
   "metadata": {},
   "source": [
    "3D plot:"
   ]
  },
  {
   "cell_type": "code",
   "execution_count": null,
   "metadata": {},
   "outputs": [],
   "source": [
    "data = []\n",
    "\n",
    "# Satellite Ground Track\n",
    "\n",
    "data.append(\n",
    "    go.Scattergeo(\n",
    "        lon = ground_track_df['Longitude'],\n",
    "        lat = ground_track_df['Latitude'],\n",
    "        mode = 'lines',\n",
    "        line = dict(\n",
    "            width = 1,\n",
    "            color = 'rgba(255, 0, 0, 0.5)',\n",
    "        )\n",
    "    )\n",
    ")\n",
    "\n",
    "# Area Target Geometry\n",
    "\n",
    "data.append(\n",
    "    go.Scattergeo(\n",
    "        lon = [coordinate[0] for coordinate in target_coordinates],\n",
    "        lat = [coordinate[1] for coordinate in target_coordinates],\n",
    "        mode = 'lines',\n",
    "        line = dict(\n",
    "            width = 2,\n",
    "            color = 'rgba(0, 200, 200, 1.0)',\n",
    "        )\n",
    "    )\n",
    ")\n",
    "\n",
    "# Satellite Sensor Projections\n",
    "\n",
    "for intersection_df in intersection_dfs:\n",
    "\n",
    "    data.append(\n",
    "        go.Scattergeo(\n",
    "            lon = intersection_df['Longitude'],\n",
    "            lat = intersection_df['Latitude'],\n",
    "            mode = 'lines',\n",
    "            line = dict(\n",
    "                width = 1,\n",
    "                color = 'rgba(0, 0, 255, 0.4)',\n",
    "            )\n",
    "        )\n",
    "    )\n",
    "    \n",
    "# Satellite Sensor Projections Intersection with Area of Interest\n",
    "    \n",
    "for intersection_df in target_intersection_dfs:\n",
    "\n",
    "    data.append(\n",
    "        go.Scattergeo(\n",
    "            lon = intersection_df['Longitude'],\n",
    "            lat = intersection_df['Latitude'],\n",
    "            mode = 'lines',\n",
    "            line = dict(\n",
    "                width = 1,\n",
    "                color = 'rgba(0, 255, 0, 0.6)',\n",
    "            )\n",
    "        )\n",
    "    )\n",
    "    \n",
    "figure = go.Figure(\n",
    "    data = data,\n",
    "    layout = go.Layout(\n",
    "        title = None,\n",
    "        showlegend = False,\n",
    "        height = 1000,\n",
    "        geo = go.layout.Geo(\n",
    "            showland = True,\n",
    "            showlakes = True,\n",
    "            showcountries = False,\n",
    "            showocean = True,\n",
    "            countrywidth = 0.0,\n",
    "            landcolor = 'rgb(100, 100, 100)',\n",
    "            lakecolor = 'rgb(240, 240, 240)',\n",
    "            oceancolor = 'rgb(240, 240, 240)',\n",
    "            projection = dict( \n",
    "                type = 'orthographic',\n",
    "                rotation = dict(\n",
    "                    lon = 0,\n",
    "                    lat = 0,\n",
    "                    roll = 0\n",
    "                )            \n",
    "            ),\n",
    "            lonaxis = dict( \n",
    "                showgrid = True,\n",
    "                gridcolor = 'rgb(102, 102, 102)',\n",
    "                gridwidth = 0.5\n",
    "            ),\n",
    "            lataxis = dict( \n",
    "                showgrid = True,\n",
    "                gridcolor = 'rgb(102, 102, 102)',\n",
    "                gridwidth = 0.5\n",
    "            )\n",
    "        )\n",
    "    )\n",
    ")\n",
    "\n",
    "figure.show()"
   ]
  },
  {
   "cell_type": "markdown",
   "metadata": {},
   "source": [
    "---"
   ]
  }
 ],
 "metadata": {
  "kernelspec": {
   "display_name": "Python 3 (ipykernel)",
   "language": "python",
   "name": "python3"
  },
  "language_info": {
   "codemirror_mode": {
    "name": "ipython",
    "version": 3
   },
   "file_extension": ".py",
   "mimetype": "text/x-python",
   "name": "python",
   "nbconvert_exporter": "python",
   "pygments_lexer": "ipython3",
   "version": "3.11.3"
  }
 },
 "nbformat": 4,
 "nbformat_minor": 4
}
