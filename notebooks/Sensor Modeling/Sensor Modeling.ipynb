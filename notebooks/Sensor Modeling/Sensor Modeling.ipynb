{
 "cells": [
  {
   "cell_type": "markdown",
   "metadata": {},
   "source": [
    "# Sensor Modeling"
   ]
  },
  {
   "cell_type": "markdown",
   "metadata": {},
   "source": [
    "This tutorial demonstrates how to model sensor geometries."
   ]
  },
  {
   "cell_type": "markdown",
   "metadata": {},
   "source": [
    "# Setup"
   ]
  },
  {
   "cell_type": "code",
   "execution_count": 5,
   "metadata": {},
   "outputs": [],
   "source": [
    "import numpy as np\n",
    "import pandas as pd\n",
    "\n",
    "import plotly.graph_objs as go\n",
    "\n",
    "from ostk.mathematics.geometry.d2 import Object\n",
    "from ostk.mathematics.geometry.d2.objects import Point as Point2d\n",
    "from ostk.mathematics.geometry.d2.objects import LineString as LineString2d\n",
    "from ostk.mathematics.geometry.d2.objects import Polygon as Polygon2d\n",
    "from ostk.mathematics.geometry.d3.objects import Point as Point3d\n",
    "from ostk.mathematics.geometry.d3.objects import Polygon as Polygon3d\n",
    "from ostk.mathematics.geometry.d3.objects import Ellipsoid\n",
    "from ostk.mathematics.geometry.d3.objects import Pyramid\n",
    "from ostk.mathematics.geometry.d3.objects import Cone\n",
    "from ostk.mathematics.geometry.d3.transformations.rotations import Quaternion\n",
    "from ostk.mathematics.geometry.d3.transformations.rotations import RotationVector\n",
    "from ostk.mathematics.geometry.d3.transformations.rotations import RotationMatrix\n",
    "\n",
    "from ostk.physics.units import Length\n",
    "from ostk.physics.units import Angle\n",
    "from ostk.physics.time import Scale\n",
    "from ostk.physics.time import Instant\n",
    "from ostk.physics.time import Duration\n",
    "from ostk.physics.time import Interval\n",
    "from ostk.physics.time import DateTime\n",
    "from ostk.physics.coordinate.spherical import LLA\n",
    "from ostk.physics.coordinate.spherical import AER\n",
    "from ostk.physics.coordinate import Position\n",
    "from ostk.physics.coordinate import Velocity\n",
    "from ostk.physics.coordinate import Frame\n",
    "from ostk.physics.coordinate import Transform\n",
    "from ostk.physics.coordinate.frame.providers import Dynamic as DynamicFrameProvider\n",
    "from ostk.physics import Environment\n",
    "from ostk.physics.environment.object import Geometry\n",
    "from ostk.physics.environment.objects import Celestial\n",
    "from ostk.physics.environment.objects.celestial_bodies import Earth\n",
    "\n",
    "from ostk.astrodynamics import Trajectory\n",
    "from ostk.astrodynamics.trajectory import State\n",
    "from ostk.astrodynamics.trajectory import Orbit\n",
    "from ostk.astrodynamics.trajectory.orbit.models import Kepler\n",
    "from ostk.astrodynamics.trajectory.orbit.models.kepler import COE\n",
    "from ostk.astrodynamics.trajectory.orbit.models import SGP4\n",
    "from ostk.astrodynamics.trajectory.orbit.models.sgp4 import TLE\n",
    "from ostk.astrodynamics import Access"
   ]
  },
  {
   "cell_type": "markdown",
   "metadata": {},
   "source": [
    "---"
   ]
  },
  {
   "cell_type": "markdown",
   "metadata": {},
   "source": [
    "## Computation"
   ]
  },
  {
   "cell_type": "markdown",
   "metadata": {},
   "source": [
    "### Environment"
   ]
  },
  {
   "cell_type": "code",
   "execution_count": 6,
   "metadata": {},
   "outputs": [],
   "source": [
    "environment = Environment.default()"
   ]
  },
  {
   "cell_type": "code",
   "execution_count": 7,
   "metadata": {},
   "outputs": [],
   "source": [
    "earth = environment.access_celestial_object_with_name(\"Earth\")"
   ]
  },
  {
   "cell_type": "code",
   "execution_count": 8,
   "metadata": {},
   "outputs": [],
   "source": [
    "earth_geometry = earth.get_geometry_in(Frame.ITRF(), environment.get_instant())"
   ]
  },
  {
   "cell_type": "markdown",
   "metadata": {},
   "source": [
    "### Satellite"
   ]
  },
  {
   "cell_type": "markdown",
   "metadata": {},
   "source": [
    "Let's define the orbit of a satellite in LEO. In this example, we're modeling the orbit using SGP4."
   ]
  },
  {
   "cell_type": "code",
   "execution_count": 9,
   "metadata": {},
   "outputs": [],
   "source": [
    "a = Length.kilometers(7000.0)\n",
    "e = 0.0\n",
    "i = Angle.degrees(45.0)\n",
    "raan = Angle.degrees(0.0)\n",
    "aop = Angle.degrees(0.0)\n",
    "nu = Angle.degrees(0.0)\n",
    "\n",
    "coe = COE(a, e, i, raan, aop, nu)"
   ]
  },
  {
   "cell_type": "code",
   "execution_count": 10,
   "metadata": {},
   "outputs": [],
   "source": [
    "epoch = Instant.date_time(DateTime(2018, 9, 5, 0, 0, 0), Scale.UTC)\n",
    "\n",
    "keplerian_model = Kepler(coe, epoch, earth, Kepler.PerturbationType.No, True) # True = COE expressed in ITRF frame"
   ]
  },
  {
   "cell_type": "code",
   "execution_count": 11,
   "metadata": {},
   "outputs": [
    {
     "data": {
      "text/plain": [
       "-- Classical Orbital Elements ----------------------------------------------------------------------\n",
       "    Semi-major axis:                         6999999.9999999972 [m]                   \n",
       "    Eccentricity:                            2.6250607414312717e-16                   \n",
       "    Inclination:                             44.972897836604517 [deg]                 \n",
       "    Right ascension of the ascending node:   343.91390293099067 [deg]                 \n",
       "    Argument of periapsis:                   0.0 [deg]                                \n",
       "    True anomaly:                            359.86030748978823 [deg]                 \n",
       "----------------------------------------------------------------------------------------------------"
      ]
     },
     "execution_count": 11,
     "metadata": {},
     "output_type": "execute_result"
    }
   ],
   "source": [
    "keplerian_model.get_classical_orbital_elements()"
   ]
  },
  {
   "cell_type": "markdown",
   "metadata": {},
   "source": [
    "We then obtain the satellite orbit (which is a trajectory):"
   ]
  },
  {
   "cell_type": "code",
   "execution_count": 12,
   "metadata": {},
   "outputs": [],
   "source": [
    "satellite_orbit = Orbit(keplerian_model, earth)"
   ]
  },
  {
   "cell_type": "code",
   "execution_count": 13,
   "metadata": {},
   "outputs": [],
   "source": [
    "start_instant = Instant.date_time(DateTime(2018, 9, 5, 0, 0, 0), Scale.UTC) ;\n",
    "end_instant = start_instant + coe.get_orbital_period(earth.get_gravitational_parameter()) ;\n",
    "\n",
    "interval = Interval.closed(start_instant, end_instant) ;"
   ]
  },
  {
   "cell_type": "code",
   "execution_count": 14,
   "metadata": {},
   "outputs": [],
   "source": [
    "step = Duration.seconds(300.0)"
   ]
  },
  {
   "cell_type": "code",
   "execution_count": 15,
   "metadata": {},
   "outputs": [],
   "source": [
    "instants = interval.generate_grid(step)"
   ]
  },
  {
   "cell_type": "code",
   "execution_count": 16,
   "metadata": {},
   "outputs": [],
   "source": [
    "states = [satellite_orbit.get_state_at(instant) for instant in instants]"
   ]
  },
  {
   "cell_type": "code",
   "execution_count": 17,
   "metadata": {},
   "outputs": [],
   "source": [
    "states_lla = [LLA.cartesian(state.in_frame(Frame.ITRF()).get_position().get_coordinates(), earth.get_equatorial_radius(), earth.get_flattening()) for state in states]"
   ]
  },
  {
   "cell_type": "code",
   "execution_count": 18,
   "metadata": {},
   "outputs": [],
   "source": [
    "states_line_string = LineString2d([Point2d(state_lla.get_longitude().in_degrees(), state_lla.get_latitude().in_degrees()) for state_lla in states_lla])"
   ]
  },
  {
   "cell_type": "code",
   "execution_count": 19,
   "metadata": {},
   "outputs": [],
   "source": [
    "ground_track_df = pd.DataFrame([[float(state_lla.get_longitude().in_degrees()), float(state_lla.get_latitude().in_degrees())] for state_lla in states_lla], columns=['Longitude', 'Latitude']) ;"
   ]
  },
  {
   "cell_type": "code",
   "execution_count": 20,
   "metadata": {},
   "outputs": [
    {
     "data": {
      "text/html": [
       "<div>\n",
       "<style scoped>\n",
       "    .dataframe tbody tr th:only-of-type {\n",
       "        vertical-align: middle;\n",
       "    }\n",
       "\n",
       "    .dataframe tbody tr th {\n",
       "        vertical-align: top;\n",
       "    }\n",
       "\n",
       "    .dataframe thead th {\n",
       "        text-align: right;\n",
       "    }\n",
       "</style>\n",
       "<table border=\"1\" class=\"dataframe\">\n",
       "  <thead>\n",
       "    <tr style=\"text-align: right;\">\n",
       "      <th></th>\n",
       "      <th>Longitude</th>\n",
       "      <th>Latitude</th>\n",
       "    </tr>\n",
       "  </thead>\n",
       "  <tbody>\n",
       "    <tr>\n",
       "      <th>0</th>\n",
       "      <td>3.356969e-12</td>\n",
       "      <td>3.376763e-12</td>\n",
       "    </tr>\n",
       "    <tr>\n",
       "      <th>1</th>\n",
       "      <td>1.207971e+01</td>\n",
       "      <td>1.306305e+01</td>\n",
       "    </tr>\n",
       "    <tr>\n",
       "      <th>2</th>\n",
       "      <td>2.559488e+01</td>\n",
       "      <td>2.535757e+01</td>\n",
       "    </tr>\n",
       "    <tr>\n",
       "      <th>3</th>\n",
       "      <td>4.214941e+01</td>\n",
       "      <td>3.585366e+01</td>\n",
       "    </tr>\n",
       "    <tr>\n",
       "      <th>4</th>\n",
       "      <td>6.306843e+01</td>\n",
       "      <td>4.302728e+01</td>\n",
       "    </tr>\n",
       "  </tbody>\n",
       "</table>\n",
       "</div>"
      ],
      "text/plain": [
       "      Longitude      Latitude\n",
       "0  3.356969e-12  3.376763e-12\n",
       "1  1.207971e+01  1.306305e+01\n",
       "2  2.559488e+01  2.535757e+01\n",
       "3  4.214941e+01  3.585366e+01\n",
       "4  6.306843e+01  4.302728e+01"
      ]
     },
     "execution_count": 20,
     "metadata": {},
     "output_type": "execute_result"
    }
   ],
   "source": [
    "ground_track_df.head()"
   ]
  },
  {
   "cell_type": "markdown",
   "metadata": {},
   "source": [
    "## Target"
   ]
  },
  {
   "cell_type": "code",
   "execution_count": 21,
   "metadata": {},
   "outputs": [],
   "source": [
    "latitude = Angle.degrees(0.0)\n",
    "longitude = Angle.degrees(0.0)\n",
    "altitude = Length.meters(10.0)"
   ]
  },
  {
   "cell_type": "code",
   "execution_count": 22,
   "metadata": {},
   "outputs": [],
   "source": [
    "target_lla = LLA(latitude, longitude, altitude)"
   ]
  },
  {
   "cell_type": "code",
   "execution_count": 23,
   "metadata": {},
   "outputs": [],
   "source": [
    "target_position = Position.meters(target_lla.to_cartesian(earth.get_equatorial_radius(), earth.get_flattening()), Frame.ITRF())"
   ]
  },
  {
   "cell_type": "markdown",
   "metadata": {},
   "source": [
    "### Sensor"
   ]
  },
  {
   "cell_type": "code",
   "execution_count": 24,
   "metadata": {},
   "outputs": [],
   "source": [
    "orbital_frame = satellite_orbit.get_orbital_frame(Orbit.FrameType.NED)\n",
    "orbital_frame = satellite_orbit.get_orbital_frame(Orbit.FrameType.VVLH)"
   ]
  },
  {
   "cell_type": "code",
   "execution_count": 25,
   "metadata": {},
   "outputs": [],
   "source": [
    "alt_states = [orbital_frame.get_origin_in(Frame.GCRF(), instant) for instant in instants]"
   ]
  },
  {
   "cell_type": "code",
   "execution_count": 26,
   "metadata": {},
   "outputs": [],
   "source": [
    "alt_states_lla = [\n",
    "    LLA.cartesian(\n",
    "        orbital_frame.get_origin_in(Frame.ITRF(), instant).get_coordinates(),\n",
    "        earth.get_equatorial_radius(), earth.get_flattening()\n",
    "    )\n",
    "    for instant in instants\n",
    "]"
   ]
  },
  {
   "cell_type": "code",
   "execution_count": 27,
   "metadata": {},
   "outputs": [],
   "source": [
    "alt_ground_track_df = pd.DataFrame([[float(state_lla.get_longitude().in_degrees()), float(state_lla.get_latitude().in_degrees())] for state_lla in alt_states_lla], columns=['Longitude', 'Latitude']) ;"
   ]
  },
  {
   "cell_type": "code",
   "execution_count": 28,
   "metadata": {},
   "outputs": [],
   "source": [
    "ground_track_df = alt_ground_track_df"
   ]
  },
  {
   "cell_type": "code",
   "execution_count": 29,
   "metadata": {},
   "outputs": [],
   "source": [
    "axes = [np.transpose(orbital_frame.get_axes_in(Frame.GCRF(), instant).x()) for instant in instants]"
   ]
  },
  {
   "cell_type": "code",
   "execution_count": 30,
   "metadata": {},
   "outputs": [],
   "source": [
    "def calculate_attitude (state, target):\n",
    "\n",
    "    q_ORB_GCRF = Frame.GCRF().get_transform_to(orbital_frame, state.get_instant()).get_orientation()\n",
    "    \n",
    "    q_B_ORB = Quaternion.unit()\n",
    "    q_B_ORB = Quaternion.rotation_vector(RotationVector.x(Angle.degrees(0.0)))\n",
    "    \n",
    "    q_B_GCRF = (q_B_ORB * q_ORB_GCRF).to_normalized()\n",
    "    \n",
    "    return q_B_GCRF"
   ]
  },
  {
   "cell_type": "code",
   "execution_count": 31,
   "metadata": {},
   "outputs": [],
   "source": [
    "def body_frame_transform_generator (instant):\n",
    "    \n",
    "    state = satellite_orbit.get_state_at(instant)\n",
    "    \n",
    "    q_B_GCRF = calculate_attitude(state, target_position)\n",
    "    \n",
    "    return Transform.passive(instant, -state.get_position().get_coordinates(), np.array((0.0, 0.0, 0.0)), q_B_GCRF, np.array((0.0, 0.0, 0.0)))\n",
    "\n",
    "body_frame_provider = DynamicFrameProvider(body_frame_transform_generator)\n",
    "\n",
    "if Frame.exists(\"Body\"):\n",
    "\n",
    "    Frame.destruct(\"Body\")\n",
    "\n",
    "body_frame = Frame.construct(\"Body\", False, Frame.GCRF(), body_frame_provider)"
   ]
  },
  {
   "cell_type": "code",
   "execution_count": 32,
   "metadata": {},
   "outputs": [],
   "source": [
    "def calculate_intersection (target, state, sensor_geometry):\n",
    "\n",
    "    target_lla = LLA.cartesian(target.get_coordinates(), earth.get_equatorial_radius(), earth.get_flattening())\n",
    "\n",
    "    ned_frame = earth.get_frame_at(target_lla, Celestial.FrameType.NED)\n",
    "    \n",
    "    target_position_NED = target.in_frame(ned_frame, state.get_instant())\n",
    "    satellite_position_NED = state.get_position().in_frame(ned_frame, state.get_instant())\n",
    "\n",
    "    aer = AER.from_position_to_position(target_position_NED, satellite_position_NED)\n",
    "    \n",
    "    observer_geometry_ITRF = sensor_geometry.in_frame(Frame.ITRF(), state.get_instant())\n",
    "    \n",
    "    intersection_ITRF = observer_geometry_ITRF.intersection_with(earth_geometry)\n",
    "    \n",
    "    if not intersection_ITRF.is_defined():\n",
    "    \n",
    "        return None\n",
    "    \n",
    "    intersection_points = [Point2d(lla.get_longitude().in_degrees(), lla.get_latitude().in_degrees()) for lla in [LLA.cartesian(point_ITRF.as_vector(), earth.get_equatorial_radius(), earth.get_flattening()) for point_ITRF in intersection_ITRF.access_composite().access_object_at(0).as_line_string()]]\n",
    "    \n",
    "    if len(intersection_points) < 3:\n",
    "        \n",
    "        return None\n",
    "\n",
    "    intersection_polygon = Polygon2d(intersection_points)\n",
    "    \n",
    "    return intersection_ITRF"
   ]
  },
  {
   "cell_type": "code",
   "execution_count": 33,
   "metadata": {},
   "outputs": [],
   "source": [
    "apex_B = Point3d(0.0, 0.0, 0.0)\n",
    "base_B = Polygon3d(Polygon2d([Point2d(-1.0, -1.0), Point2d(+1.0, -1.0), Point2d(+1.0, +1.0), Point2d(-1.0, +1.0)]), apex_B + np.array((0.0, 0.0, 1.0)), np.array((1.0, 0.0, 0.0)), np.array((0.0, 1.0, 0.0)))\n",
    "\n",
    "pyramid_B = Pyramid(base_B, apex_B)"
   ]
  },
  {
   "cell_type": "code",
   "execution_count": 34,
   "metadata": {},
   "outputs": [
    {
     "ename": "TypeError",
     "evalue": "__init__(): incompatible constructor arguments. The following argument types are supported:\n    1. ostk.mathematics.geometry.d3.objects.Cone(apex: ostk.mathematics.geometry.d3.objects.Point, axis: numpy.ndarray[numpy.float64[3, 1]], angle: ostk::math::geom::Angle)\n\nInvoked with: -- Point -------------------------------------------------------------------------------------------\n    X:                                       0.0                                      \n    Y:                                       0.0                                      \n    Z:                                       0.0                                      \n----------------------------------------------------------------------------------------------------\n, array([0., 0., 1.]), 40.0 [deg]",
     "output_type": "error",
     "traceback": [
      "\u001b[0;31m---------------------------------------------------------------------------\u001b[0m",
      "\u001b[0;31mTypeError\u001b[0m                                 Traceback (most recent call last)",
      "Cell \u001b[0;32mIn[34], line 1\u001b[0m\n\u001b[0;32m----> 1\u001b[0m cone_B \u001b[38;5;241m=\u001b[39m \u001b[43mCone\u001b[49m\u001b[43m(\u001b[49m\u001b[43mapex_B\u001b[49m\u001b[43m,\u001b[49m\u001b[43m \u001b[49m\u001b[43mnp\u001b[49m\u001b[38;5;241;43m.\u001b[39;49m\u001b[43marray\u001b[49m\u001b[43m(\u001b[49m\u001b[43m(\u001b[49m\u001b[38;5;241;43m0.0\u001b[39;49m\u001b[43m,\u001b[49m\u001b[43m \u001b[49m\u001b[38;5;241;43m0.0\u001b[39;49m\u001b[43m,\u001b[49m\u001b[43m \u001b[49m\u001b[38;5;241;43m1.0\u001b[39;49m\u001b[43m)\u001b[49m\u001b[43m)\u001b[49m\u001b[43m,\u001b[49m\u001b[43m \u001b[49m\u001b[43mAngle\u001b[49m\u001b[38;5;241;43m.\u001b[39;49m\u001b[43mdegrees\u001b[49m\u001b[43m(\u001b[49m\u001b[38;5;241;43m40.0\u001b[39;49m\u001b[43m)\u001b[49m\u001b[43m)\u001b[49m\n",
      "\u001b[0;31mTypeError\u001b[0m: __init__(): incompatible constructor arguments. The following argument types are supported:\n    1. ostk.mathematics.geometry.d3.objects.Cone(apex: ostk.mathematics.geometry.d3.objects.Point, axis: numpy.ndarray[numpy.float64[3, 1]], angle: ostk::math::geom::Angle)\n\nInvoked with: -- Point -------------------------------------------------------------------------------------------\n    X:                                       0.0                                      \n    Y:                                       0.0                                      \n    Z:                                       0.0                                      \n----------------------------------------------------------------------------------------------------\n, array([0., 0., 1.]), 40.0 [deg]"
     ]
    }
   ],
   "source": [
    "cone_B = Cone(apex_B, np.array((0.0, 0.0, 1.0)), Angle.degrees(40.0))"
   ]
  },
  {
   "cell_type": "code",
   "execution_count": null,
   "metadata": {},
   "outputs": [],
   "source": [
    "sensor_geometry = Geometry(pyramid_B, body_frame)"
   ]
  },
  {
   "cell_type": "code",
   "execution_count": null,
   "metadata": {},
   "outputs": [],
   "source": [
    "intersections_ITRF = [calculate_intersection(target_position, state, sensor_geometry) for state in states]"
   ]
  },
  {
   "cell_type": "code",
   "execution_count": null,
   "metadata": {},
   "outputs": [],
   "source": [
    "intersections_ITRF = [intersection_ITRF for intersection_ITRF in intersections_ITRF if intersection_ITRF is not None]"
   ]
  },
  {
   "cell_type": "code",
   "execution_count": null,
   "metadata": {},
   "outputs": [],
   "source": [
    "intersections_LLs = [[Point2d(lla.get_longitude().in_degrees(), lla.get_latitude().in_degrees()) for lla in [LLA.cartesian(point_ITRF.as_vector(), earth.get_equatorial_radius(), earth.get_flattening()) for point_ITRF in intersection_ITRF.access_composite().access_object_at(0).as_line_string()]] for intersection_ITRF in intersections_ITRF]"
   ]
  },
  {
   "cell_type": "code",
   "execution_count": null,
   "metadata": {},
   "outputs": [],
   "source": [
    "intersection_dfs = [pd.DataFrame([[float(intersection_point.x()), float(intersection_point.y())] for intersection_point in intersection_LLs], columns=['Longitude', 'Latitude']) for intersection_LLs in intersections_LLs] ;"
   ]
  },
  {
   "cell_type": "code",
   "execution_count": null,
   "metadata": {},
   "outputs": [],
   "source": [
    "intersection_dfs[0].head()"
   ]
  },
  {
   "cell_type": "markdown",
   "metadata": {},
   "source": [
    "---"
   ]
  },
  {
   "cell_type": "markdown",
   "metadata": {},
   "source": [
    "## Visualization"
   ]
  },
  {
   "cell_type": "markdown",
   "metadata": {},
   "source": [
    "2D plot:"
   ]
  },
  {
   "cell_type": "code",
   "execution_count": null,
   "metadata": {},
   "outputs": [],
   "source": [
    "data = []\n",
    "\n",
    "data.append(\n",
    "    go.Scattergeo(\n",
    "        lon = ground_track_df['Longitude'],\n",
    "        lat = ground_track_df['Latitude'],\n",
    "        mode = 'lines',\n",
    "        line = dict(\n",
    "            width = 1,\n",
    "            color = 'rgba(255, 0, 0, 0.5)',\n",
    "        )\n",
    "    )\n",
    ")\n",
    "\n",
    "for intersection_df in intersection_dfs:\n",
    "\n",
    "    data.append(\n",
    "        go.Scattergeo(\n",
    "            lon = intersection_df['Longitude'],\n",
    "            lat = intersection_df['Latitude'],\n",
    "            mode = 'lines',\n",
    "            line = dict(\n",
    "                width = 1,\n",
    "                color = 'rgba(0, 0, 255, 0.5)',\n",
    "            )\n",
    "        )\n",
    "    )\n",
    "    \n",
    "figure = go.Figure(\n",
    "    data = data,\n",
    "    layout = go.Layout(\n",
    "        title = None,\n",
    "        showlegend = False,\n",
    "        height=1000,\n",
    "        geo = go.layout.Geo(\n",
    "            showland = True,\n",
    "            landcolor = 'rgb(243, 243, 243)',\n",
    "            countrycolor = 'rgb(204, 204, 204)',\n",
    "            lonaxis = dict( \n",
    "                showgrid = True,\n",
    "                gridcolor = 'rgb(102, 102, 102)',\n",
    "                gridwidth = 0.1\n",
    "            ),\n",
    "            lataxis = dict( \n",
    "                showgrid = True,\n",
    "                gridcolor = 'rgb(102, 102, 102)',\n",
    "                gridwidth = 0.1\n",
    "            )\n",
    "        )\n",
    "    )\n",
    ")\n",
    "\n",
    "figure.show()"
   ]
  },
  {
   "cell_type": "markdown",
   "metadata": {},
   "source": [
    "3D plot:"
   ]
  },
  {
   "cell_type": "code",
   "execution_count": null,
   "metadata": {
    "jupyter": {
     "source_hidden": true
    }
   },
   "outputs": [],
   "source": [
    "data = []\n",
    "\n",
    "data.append(\n",
    "    go.Scattergeo(\n",
    "        lon = ground_track_df['Longitude'],\n",
    "        lat = ground_track_df['Latitude'],\n",
    "        mode = 'lines',\n",
    "        line = dict(\n",
    "            width = 1,\n",
    "            color = 'rgba(255, 0, 0, 0.5)'\n",
    "        )\n",
    "    )\n",
    ")\n",
    "\n",
    "for intersection_df in intersection_dfs:\n",
    "    \n",
    "    data.append(\n",
    "        go.Scattergeo(\n",
    "            lon = intersection_df['Longitude'],\n",
    "            lat = intersection_df['Latitude'],\n",
    "            mode = 'lines',\n",
    "            line = dict(\n",
    "                width = 2,\n",
    "                color = 'rgba(0, 0, 255, 0.5)',\n",
    "            )\n",
    "        )\n",
    "    )\n",
    "    \n",
    "figure = go.Figure(\n",
    "    data = data,\n",
    "    layout = go.Layout(\n",
    "        title = None,\n",
    "        showlegend = False,\n",
    "        height = 1000,\n",
    "        geo = go.layout.Geo(\n",
    "            showland = True,\n",
    "            showlakes = True,\n",
    "            showcountries = False,\n",
    "            showocean = True,\n",
    "            countrywidth = 0.0,\n",
    "            landcolor = 'rgb(100, 100, 100)',\n",
    "            lakecolor = 'rgb(240, 240, 240)',\n",
    "            oceancolor = 'rgb(240, 240, 240)',\n",
    "            projection = dict( \n",
    "                type = 'orthographic',\n",
    "                rotation = dict(\n",
    "                    lon = 0,\n",
    "                    lat = 0,\n",
    "                    roll = 0\n",
    "                )            \n",
    "            ),\n",
    "            lonaxis = dict( \n",
    "                showgrid = True,\n",
    "                gridcolor = 'rgb(102, 102, 102)',\n",
    "                gridwidth = 0.5\n",
    "            ),\n",
    "            lataxis = dict( \n",
    "                showgrid = True,\n",
    "                gridcolor = 'rgb(102, 102, 102)',\n",
    "                gridwidth = 0.5\n",
    "            )\n",
    "        )\n",
    "    )\n",
    ")\n",
    "\n",
    "figure.show()"
   ]
  },
  {
   "cell_type": "markdown",
   "metadata": {},
   "source": [
    "Satellite body frame orientation plot:"
   ]
  },
  {
   "cell_type": "code",
   "execution_count": null,
   "metadata": {},
   "outputs": [],
   "source": [
    "def earth_data ():\n",
    "    \n",
    "    theta = np.linspace(0, 2 * np.pi, 30)\n",
    "    phi = np.linspace(0, np.pi, 30)\n",
    "\n",
    "    theta_grid, phi_grid = np.meshgrid(theta, phi)\n",
    "\n",
    "    r = float(earth.get_equatorial_radius().in_meters())\n",
    "\n",
    "    x = r * np.cos(theta_grid) * np.sin(phi_grid)\n",
    "    y = r * np.sin(theta_grid) * np.sin(phi_grid)\n",
    "    z = r * np.cos(phi_grid)\n",
    "\n",
    "    earth = go.Surface(\n",
    "        x=x,\n",
    "        y=y,\n",
    "        z=z,\n",
    "        colorscale='Viridis',\n",
    "        showscale=False\n",
    "    )\n",
    "    \n",
    "    return earth"
   ]
  },
  {
   "cell_type": "code",
   "execution_count": null,
   "metadata": {},
   "outputs": [],
   "source": [
    "def orbit_data (states):\n",
    "    \n",
    "    states_GCRF = [state.in_frame(Frame.GCRF()).get_position().get_coordinates() for state in states]\n",
    "\n",
    "    trace = go.Scatter3d(\n",
    "        x = [state_GCRF[0][0] for state_GCRF in states_GCRF],\n",
    "        y = [state_GCRF[1][0] for state_GCRF in states_GCRF],\n",
    "        z = [state_GCRF[2][0] for state_GCRF in states_GCRF],\n",
    "        mode = 'lines',\n",
    "        marker = dict(\n",
    "            size = 0,\n",
    "            showscale = False\n",
    "        ),\n",
    "        line = dict(\n",
    "            width = 1\n",
    "        )\n",
    "    )\n",
    "    \n",
    "    return trace"
   ]
  },
  {
   "cell_type": "code",
   "execution_count": null,
   "metadata": {},
   "outputs": [],
   "source": [
    "def frame_data (frame, instants, scale):\n",
    "    \n",
    "    frame_origins_GCRF = [np.transpose(frame.get_origin_in(Frame.GCRF(), instant).get_coordinates())[0] for instant in instants]\n",
    "    frame_axess_GCRF = [frame.get_axes_in(Frame.GCRF(), instant) for instant in instants]\n",
    "    \n",
    "    def axis_data (origin, axis, color):\n",
    "    \n",
    "        data = go.Scatter3d(\n",
    "            x = [origin[0], origin[0] + scale * axis[0]],\n",
    "            y = [origin[1], origin[1] + scale * axis[1]],\n",
    "            z = [origin[2], origin[2] + scale * axis[2]],\n",
    "            marker = dict(\n",
    "                size = 1\n",
    "            ),\n",
    "            line = dict(\n",
    "                color = color,\n",
    "                width = 6\n",
    "            )\n",
    "        )\n",
    "        \n",
    "        return data\n",
    "    \n",
    "    data = []\n",
    "    \n",
    "    for [frame_origin_GCRF, frame_axes_GCRF] in zip(frame_origins_GCRF, frame_axess_GCRF):\n",
    "        \n",
    "        data.append(axis_data(frame_origin_GCRF, np.transpose(frame_axes_GCRF.x())[0], \"red\"))\n",
    "        data.append(axis_data(frame_origin_GCRF, np.transpose(frame_axes_GCRF.y())[0], \"blue\"))\n",
    "        data.append(axis_data(frame_origin_GCRF, np.transpose(frame_axes_GCRF.z())[0], \"green\"))\n",
    "    \n",
    "    return data"
   ]
  },
  {
   "cell_type": "code",
   "execution_count": null,
   "metadata": {},
   "outputs": [],
   "source": [
    "figure = go.Figure(\n",
    "    data = [\n",
    "        earth_data(),\n",
    "        orbit_data(states),\n",
    "        *frame_data(body_frame, instants, scale = 500000)\n",
    "    ],\n",
    "    layout = go.Layout(\n",
    "        title = None,\n",
    "        showlegend = False,\n",
    "        scene = dict(\n",
    "            xaxis = dict(\n",
    "                gridcolor = 'rgb(255, 255, 255)',\n",
    "                zerolinecolor = 'rgb(255, 255, 255)',\n",
    "                showbackground = True,\n",
    "                backgroundcolor = 'rgb(230, 230,230)'\n",
    "            ),\n",
    "            yaxis = dict(\n",
    "                gridcolor = 'rgb(255, 255, 255)',\n",
    "                zerolinecolor = 'rgb(255, 255, 255)',\n",
    "                showbackground = True,\n",
    "                backgroundcolor = 'rgb(230, 230,230)'\n",
    "            ),\n",
    "            zaxis = dict(\n",
    "                gridcolor = 'rgb(255, 255, 255)',\n",
    "                zerolinecolor = 'rgb(255, 255, 255)',\n",
    "                showbackground = True,\n",
    "                backgroundcolor = 'rgb(230, 230,230)'\n",
    "            ),\n",
    "            camera = dict(\n",
    "                up = dict(\n",
    "                    x = 0,\n",
    "                    y = 0,\n",
    "                    z = 1\n",
    "                ),\n",
    "                eye = dict(\n",
    "                    x = -1.7428,\n",
    "                    y = 1.0707,\n",
    "                    z = 0.7100,\n",
    "                )\n",
    "            ),\n",
    "            aspectratio = dict(x = 1, y = 1, z = 1),\n",
    "            aspectmode = 'manual'\n",
    "        )\n",
    "    )\n",
    ")\n",
    "\n",
    "figure.show()"
   ]
  },
  {
   "cell_type": "markdown",
   "metadata": {},
   "source": [
    "---"
   ]
  }
 ],
 "metadata": {
  "kernelspec": {
   "display_name": "Python 3 (ipykernel)",
   "language": "python",
   "name": "python3"
  },
  "language_info": {
   "codemirror_mode": {
    "name": "ipython",
    "version": 3
   },
   "file_extension": ".py",
   "mimetype": "text/x-python",
   "name": "python",
   "nbconvert_exporter": "python",
   "pygments_lexer": "ipython3",
   "version": "3.11.3"
  }
 },
 "nbformat": 4,
 "nbformat_minor": 4
}
