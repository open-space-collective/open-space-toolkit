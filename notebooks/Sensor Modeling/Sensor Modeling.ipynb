{
 "cells": [
  {
   "cell_type": "markdown",
   "metadata": {},
   "source": [
    "# Sensor Modeling"
   ]
  },
  {
   "cell_type": "markdown",
   "metadata": {},
   "source": [
    "This tutorial demonstrates how to model sensor geometries."
   ]
  },
  {
   "cell_type": "markdown",
   "metadata": {},
   "source": [
    "# Setup"
   ]
  },
  {
   "cell_type": "code",
   "execution_count": 1,
   "metadata": {},
   "outputs": [],
   "source": [
    "import numpy as np\n",
    "import pandas as pd\n",
    "\n",
    "import plotly.graph_objs as go\n",
    "\n",
    "from ostk.mathematics.geometry.d2 import Object\n",
    "from ostk.mathematics.geometry.d2.objects import Point as Point2d\n",
    "from ostk.mathematics.geometry.d2.objects import LineString as LineString2d\n",
    "from ostk.mathematics.geometry.d2.objects import Polygon as Polygon2d\n",
    "from ostk.mathematics.geometry.d3.objects import Point as Point3d\n",
    "from ostk.mathematics.geometry.d3.objects import Polygon as Polygon3d\n",
    "from ostk.mathematics.geometry.d3.objects import Ellipsoid\n",
    "from ostk.mathematics.geometry.d3.objects import Pyramid\n",
    "from ostk.mathematics.geometry.d3.objects import Cone\n",
    "from ostk.mathematics.geometry.d3.transformations.rotations import Quaternion\n",
    "from ostk.mathematics.geometry.d3.transformations.rotations import RotationVector\n",
    "from ostk.mathematics.geometry.d3.transformations.rotations import RotationMatrix\n",
    "\n",
    "from ostk.physics.units import Length\n",
    "from ostk.physics.units import Angle\n",
    "from ostk.physics.time import Scale\n",
    "from ostk.physics.time import Instant\n",
    "from ostk.physics.time import Duration\n",
    "from ostk.physics.time import Interval\n",
    "from ostk.physics.time import DateTime\n",
    "from ostk.physics.coordinate.spherical import LLA\n",
    "from ostk.physics.coordinate.spherical import AER\n",
    "from ostk.physics.coordinate import Position\n",
    "from ostk.physics.coordinate import Velocity\n",
    "from ostk.physics.coordinate import Frame\n",
    "from ostk.physics.coordinate import Transform\n",
    "from ostk.physics.coordinate.frame.providers import Dynamic as DynamicFrameProvider\n",
    "from ostk.physics import Environment\n",
    "from ostk.physics.environment.object import Geometry\n",
    "from ostk.physics.environment.objects import Celestial\n",
    "from ostk.physics.environment.objects.celestial_bodies import Earth\n",
    "\n",
    "from ostk.astrodynamics import Trajectory\n",
    "from ostk.astrodynamics.trajectory import State\n",
    "from ostk.astrodynamics.trajectory import Orbit\n",
    "from ostk.astrodynamics.trajectory.orbit.models import Kepler\n",
    "from ostk.astrodynamics.trajectory.orbit.models.kepler import COE\n",
    "from ostk.astrodynamics.trajectory.orbit.models import SGP4\n",
    "from ostk.astrodynamics.trajectory.orbit.models.sgp4 import TLE\n",
    "from ostk.astrodynamics import Access"
   ]
  },
  {
   "cell_type": "markdown",
   "metadata": {},
   "source": [
    "---"
   ]
  },
  {
   "cell_type": "markdown",
   "metadata": {},
   "source": [
    "## Computation"
   ]
  },
  {
   "cell_type": "markdown",
   "metadata": {},
   "source": [
    "### Environment"
   ]
  },
  {
   "cell_type": "code",
   "execution_count": 2,
   "metadata": {},
   "outputs": [],
   "source": [
    "environment = Environment.default()"
   ]
  },
  {
   "cell_type": "code",
   "execution_count": 3,
   "metadata": {},
   "outputs": [],
   "source": [
    "earth = environment.access_celestial_object_with_name(\"Earth\")"
   ]
  },
  {
   "cell_type": "code",
   "execution_count": 4,
   "metadata": {},
   "outputs": [],
   "source": [
    "earth_geometry = earth.get_geometry_in(Frame.ITRF())"
   ]
  },
  {
   "cell_type": "markdown",
   "metadata": {},
   "source": [
    "### Satellite"
   ]
  },
  {
   "cell_type": "markdown",
   "metadata": {},
   "source": [
    "Let's define the orbit of a satellite in LEO. In this example, we're modeling the orbit using SGP4."
   ]
  },
  {
   "cell_type": "code",
   "execution_count": 5,
   "metadata": {},
   "outputs": [],
   "source": [
    "a = Length.kilometers(7000.0)\n",
    "e = 0.0\n",
    "i = Angle.degrees(45.0)\n",
    "raan = Angle.degrees(0.0)\n",
    "aop = Angle.degrees(0.0)\n",
    "nu = Angle.degrees(0.0)\n",
    "\n",
    "coe = COE(a, e, i, raan, aop, nu)"
   ]
  },
  {
   "cell_type": "code",
   "execution_count": 6,
   "metadata": {},
   "outputs": [],
   "source": [
    "epoch = Instant.date_time(DateTime(2018, 9, 5, 0, 0, 0), Scale.UTC)\n",
    "\n",
    "keplerian_model = Kepler(coe, epoch, earth, Kepler.PerturbationType.No, True) # True = COE expressed in ITRF frame"
   ]
  },
  {
   "cell_type": "code",
   "execution_count": 7,
   "metadata": {},
   "outputs": [
    {
     "data": {
      "text/plain": [
       "-- Classical Orbital Elements ----------------------------------------------------------------------\n",
       "    Semi-major axis:                         6999999.9999999972 [m]                   \n",
       "    Eccentricity:                            2.6250607414312717e-16                   \n",
       "    Inclination:                             44.972897836604517 [deg]                 \n",
       "    Right ascension of the ascending node:   343.91390293099067 [deg]                 \n",
       "    Argument of periapsis:                   0.0 [deg]                                \n",
       "    True anomaly:                            359.86030748978823 [deg]                 \n",
       "----------------------------------------------------------------------------------------------------"
      ]
     },
     "execution_count": 7,
     "metadata": {},
     "output_type": "execute_result"
    }
   ],
   "source": [
    "keplerian_model.get_classical_orbital_elements()"
   ]
  },
  {
   "cell_type": "markdown",
   "metadata": {},
   "source": [
    "We then obtain the satellite orbit (which is a trajectory):"
   ]
  },
  {
   "cell_type": "code",
   "execution_count": 8,
   "metadata": {},
   "outputs": [],
   "source": [
    "satellite_orbit = Orbit(keplerian_model, earth)"
   ]
  },
  {
   "cell_type": "code",
   "execution_count": 9,
   "metadata": {},
   "outputs": [],
   "source": [
    "start_instant = Instant.date_time(DateTime(2018, 9, 5, 0, 0, 0), Scale.UTC) ;\n",
    "end_instant = start_instant + coe.get_orbital_period(Earth.gravitational_parameter) ;\n",
    "\n",
    "interval = Interval.closed(start_instant, end_instant) ;"
   ]
  },
  {
   "cell_type": "code",
   "execution_count": 10,
   "metadata": {},
   "outputs": [],
   "source": [
    "step = Duration.seconds(300.0)"
   ]
  },
  {
   "cell_type": "code",
   "execution_count": 11,
   "metadata": {},
   "outputs": [],
   "source": [
    "instants = interval.generate_grid(step)"
   ]
  },
  {
   "cell_type": "code",
   "execution_count": 12,
   "metadata": {},
   "outputs": [],
   "source": [
    "states = [satellite_orbit.get_state_at(instant) for instant in instants]"
   ]
  },
  {
   "cell_type": "code",
   "execution_count": 13,
   "metadata": {},
   "outputs": [],
   "source": [
    "states_lla = [LLA.cartesian(state.in_frame(Frame.ITRF()).get_position().get_coordinates(), Earth.equatorial_radius, Earth.flattening) for state in states]"
   ]
  },
  {
   "cell_type": "code",
   "execution_count": 14,
   "metadata": {},
   "outputs": [],
   "source": [
    "states_line_string = LineString2d([Point2d(state_lla.get_longitude().in_degrees(), state_lla.get_latitude().in_degrees()) for state_lla in states_lla])"
   ]
  },
  {
   "cell_type": "code",
   "execution_count": 15,
   "metadata": {},
   "outputs": [],
   "source": [
    "ground_track_df = pd.DataFrame([[float(state_lla.get_longitude().in_degrees()), float(state_lla.get_latitude().in_degrees())] for state_lla in states_lla], columns=['Longitude', 'Latitude']) ;"
   ]
  },
  {
   "cell_type": "code",
   "execution_count": 16,
   "metadata": {},
   "outputs": [
    {
     "data": {
      "text/html": [
       "<div>\n",
       "<style scoped>\n",
       "    .dataframe tbody tr th:only-of-type {\n",
       "        vertical-align: middle;\n",
       "    }\n",
       "\n",
       "    .dataframe tbody tr th {\n",
       "        vertical-align: top;\n",
       "    }\n",
       "\n",
       "    .dataframe thead th {\n",
       "        text-align: right;\n",
       "    }\n",
       "</style>\n",
       "<table border=\"1\" class=\"dataframe\">\n",
       "  <thead>\n",
       "    <tr style=\"text-align: right;\">\n",
       "      <th></th>\n",
       "      <th>Longitude</th>\n",
       "      <th>Latitude</th>\n",
       "    </tr>\n",
       "  </thead>\n",
       "  <tbody>\n",
       "    <tr>\n",
       "      <th>0</th>\n",
       "      <td>3.356969e-12</td>\n",
       "      <td>3.376763e-12</td>\n",
       "    </tr>\n",
       "    <tr>\n",
       "      <th>1</th>\n",
       "      <td>1.207971e+01</td>\n",
       "      <td>1.306305e+01</td>\n",
       "    </tr>\n",
       "    <tr>\n",
       "      <th>2</th>\n",
       "      <td>2.559488e+01</td>\n",
       "      <td>2.535757e+01</td>\n",
       "    </tr>\n",
       "    <tr>\n",
       "      <th>3</th>\n",
       "      <td>4.214941e+01</td>\n",
       "      <td>3.585366e+01</td>\n",
       "    </tr>\n",
       "    <tr>\n",
       "      <th>4</th>\n",
       "      <td>6.306843e+01</td>\n",
       "      <td>4.302728e+01</td>\n",
       "    </tr>\n",
       "  </tbody>\n",
       "</table>\n",
       "</div>"
      ],
      "text/plain": [
       "      Longitude      Latitude\n",
       "0  3.356969e-12  3.376763e-12\n",
       "1  1.207971e+01  1.306305e+01\n",
       "2  2.559488e+01  2.535757e+01\n",
       "3  4.214941e+01  3.585366e+01\n",
       "4  6.306843e+01  4.302728e+01"
      ]
     },
     "execution_count": 16,
     "metadata": {},
     "output_type": "execute_result"
    }
   ],
   "source": [
    "ground_track_df.head()"
   ]
  },
  {
   "cell_type": "markdown",
   "metadata": {},
   "source": [
    "## Target"
   ]
  },
  {
   "cell_type": "code",
   "execution_count": 17,
   "metadata": {},
   "outputs": [],
   "source": [
    "latitude = Angle.degrees(0.0)\n",
    "longitude = Angle.degrees(0.0)\n",
    "altitude = Length.meters(10.0)"
   ]
  },
  {
   "cell_type": "code",
   "execution_count": 18,
   "metadata": {},
   "outputs": [],
   "source": [
    "target_lla = LLA(latitude, longitude, altitude)"
   ]
  },
  {
   "cell_type": "code",
   "execution_count": 19,
   "metadata": {},
   "outputs": [],
   "source": [
    "target_position = Position.meters(target_lla.to_cartesian(Earth.equatorial_radius, Earth.flattening), Frame.ITRF())"
   ]
  },
  {
   "cell_type": "markdown",
   "metadata": {},
   "source": [
    "### Sensor"
   ]
  },
  {
   "cell_type": "code",
   "execution_count": 20,
   "metadata": {},
   "outputs": [],
   "source": [
    "orbital_frame = satellite_orbit.get_orbital_frame(Orbit.FrameType.NED)\n",
    "orbital_frame = satellite_orbit.get_orbital_frame(Orbit.FrameType.VVLH)"
   ]
  },
  {
   "cell_type": "code",
   "execution_count": 21,
   "metadata": {},
   "outputs": [],
   "source": [
    "alt_states = [orbital_frame.get_origin_in(Frame.GCRF(), instant) for instant in instants]"
   ]
  },
  {
   "cell_type": "code",
   "execution_count": 22,
   "metadata": {},
   "outputs": [],
   "source": [
    "alt_states_lla = [\n",
    "    LLA.cartesian(\n",
    "        orbital_frame.get_origin_in(Frame.ITRF(), instant).get_coordinates(),\n",
    "        Earth.equatorial_radius,\n",
    "        Earth.flattening\n",
    "    )\n",
    "    for instant in instants\n",
    "]"
   ]
  },
  {
   "cell_type": "code",
   "execution_count": 23,
   "metadata": {},
   "outputs": [],
   "source": [
    "alt_ground_track_df = pd.DataFrame([[float(state_lla.get_longitude().in_degrees()), float(state_lla.get_latitude().in_degrees())] for state_lla in alt_states_lla], columns=['Longitude', 'Latitude']) ;"
   ]
  },
  {
   "cell_type": "code",
   "execution_count": 24,
   "metadata": {},
   "outputs": [],
   "source": [
    "ground_track_df = alt_ground_track_df"
   ]
  },
  {
   "cell_type": "code",
   "execution_count": 25,
   "metadata": {},
   "outputs": [],
   "source": [
    "axes = [np.transpose(orbital_frame.get_axes_in(Frame.GCRF(), instant).x()) for instant in instants]"
   ]
  },
  {
   "cell_type": "code",
   "execution_count": 104,
   "metadata": {},
   "outputs": [],
   "source": [
    "def calculate_attitude (state, target):\n",
    "\n",
    "    q_ORB_GCRF = Frame.GCRF().get_transform_to(orbital_frame, state.get_instant()).get_orientation()\n",
    "    \n",
    "    q_B_ORB = Quaternion.unit()\n",
    "    q_B_ORB = Quaternion.rotation_vector(RotationVector.x(Angle.degrees(0.0)))\n",
    "    \n",
    "    q_B_GCRF = (q_B_ORB * q_ORB_GCRF).to_normalized()\n",
    "    \n",
    "    return q_B_GCRF"
   ]
  },
  {
   "cell_type": "code",
   "execution_count": 105,
   "metadata": {},
   "outputs": [],
   "source": [
    "def body_frame_transform_generator (instant):\n",
    "    \n",
    "    state = satellite_orbit.get_state_at(instant)\n",
    "    \n",
    "    q_B_GCRF = calculate_attitude(state, target_position)\n",
    "    \n",
    "    return Transform.passive(instant, -state.get_position().get_coordinates(), np.array((0.0, 0.0, 0.0)), q_B_GCRF, np.array((0.0, 0.0, 0.0)))\n",
    "\n",
    "body_frame_provider = DynamicFrameProvider(body_frame_transform_generator)\n",
    "\n",
    "if Frame.exists(\"Body\"):\n",
    "    Frame.destruct(\"Body\")\n",
    "\n",
    "body_frame = Frame.construct(\"Body\", False, Frame.GCRF(), body_frame_provider)"
   ]
  },
  {
   "cell_type": "code",
   "execution_count": 106,
   "metadata": {},
   "outputs": [],
   "source": [
    "def calculate_intersection (target, state, sensor_geometry):\n",
    "\n",
    "    target_lla = LLA.cartesian(target.get_coordinates(), Earth.equatorial_radius, Earth.flattening)\n",
    "\n",
    "    ned_frame = earth.get_frame_at(target_lla, Celestial.FrameType.NED)\n",
    "    \n",
    "    target_position_NED = target.in_frame(ned_frame, state.get_instant())\n",
    "    satellite_position_NED = state.get_position().in_frame(ned_frame, state.get_instant())\n",
    "\n",
    "    aer = AER.from_position_to_position(target_position_NED, satellite_position_NED)\n",
    "    \n",
    "    observer_geometry_ITRF = sensor_geometry.in_frame(Frame.ITRF(), state.get_instant())\n",
    "    \n",
    "    intersection_ITRF = observer_geometry_ITRF.intersection_with(earth_geometry)\n",
    "    \n",
    "    if not intersection_ITRF.is_defined():\n",
    "    \n",
    "        return None\n",
    "    \n",
    "    intersection_points = [Point2d(lla.get_longitude().in_degrees(), lla.get_latitude().in_degrees()) for lla in [LLA.cartesian(point_ITRF.as_vector(), Earth.equatorial_radius, Earth.flattening) for point_ITRF in intersection_ITRF.access_composite().access_object_at(0).as_line_string()]]\n",
    "    \n",
    "    if len(intersection_points) < 3:\n",
    "        \n",
    "        return None\n",
    "\n",
    "    intersection_polygon = Polygon2d(intersection_points)\n",
    "    \n",
    "    return intersection_ITRF"
   ]
  },
  {
   "cell_type": "code",
   "execution_count": 107,
   "metadata": {},
   "outputs": [],
   "source": [
    "apex_B = Point3d(0.0, 0.0, 0.0)\n",
    "base_B = Polygon3d(Polygon2d([Point2d(-1.0, -1.0), Point2d(+1.0, -1.0), Point2d(+1.0, +1.0), Point2d(-1.0, +1.0)]), apex_B + np.array((0.0, 0.0, 1.0)), np.array((1.0, 0.0, 0.0)), np.array((0.0, 1.0, 0.0)))\n",
    "\n",
    "pyramid_B = Pyramid(base_B, apex_B)"
   ]
  },
  {
   "cell_type": "code",
   "execution_count": 108,
   "metadata": {},
   "outputs": [],
   "source": [
    "from ostk.mathematics.geometry import Angle\n",
    "\n",
    "cone_B = Cone(apex_B, np.array((0.0, 0.0, 1.0)), Angle.degrees(40.0))"
   ]
  },
  {
   "cell_type": "code",
   "execution_count": 109,
   "metadata": {},
   "outputs": [],
   "source": [
    "sensor_geometry = Geometry(pyramid_B, body_frame)"
   ]
  },
  {
   "cell_type": "code",
   "execution_count": 110,
   "metadata": {},
   "outputs": [],
   "source": [
    "intersections_ITRF = [calculate_intersection(target_position, state, sensor_geometry) for state in states]"
   ]
  },
  {
   "cell_type": "code",
   "execution_count": 111,
   "metadata": {},
   "outputs": [],
   "source": [
    "intersections_ITRF = [intersection_ITRF for intersection_ITRF in intersections_ITRF if intersection_ITRF is not None]"
   ]
  },
  {
   "cell_type": "code",
   "execution_count": 112,
   "metadata": {},
   "outputs": [],
   "source": [
    "intersections_LLs = [[Point2d(lla.get_longitude().in_degrees(), lla.get_latitude().in_degrees()) for lla in [LLA.cartesian(point_ITRF.as_vector(), Earth.equatorial_radius, Earth.flattening) for point_ITRF in intersection_ITRF.access_composite().access_object_at(0).as_line_string()]] for intersection_ITRF in intersections_ITRF]"
   ]
  },
  {
   "cell_type": "code",
   "execution_count": 113,
   "metadata": {},
   "outputs": [],
   "source": [
    "intersection_dfs = [pd.DataFrame([[float(intersection_point.x()), float(intersection_point.y())] for intersection_point in intersection_LLs], columns=['Longitude', 'Latitude']) for intersection_LLs in intersections_LLs] ;"
   ]
  },
  {
   "cell_type": "code",
   "execution_count": 114,
   "metadata": {},
   "outputs": [
    {
     "data": {
      "text/html": [
       "<div>\n",
       "<style scoped>\n",
       "    .dataframe tbody tr th:only-of-type {\n",
       "        vertical-align: middle;\n",
       "    }\n",
       "\n",
       "    .dataframe tbody tr th {\n",
       "        vertical-align: top;\n",
       "    }\n",
       "\n",
       "    .dataframe thead th {\n",
       "        text-align: right;\n",
       "    }\n",
       "</style>\n",
       "<table border=\"1\" class=\"dataframe\">\n",
       "  <thead>\n",
       "    <tr style=\"text-align: right;\">\n",
       "      <th></th>\n",
       "      <th>Longitude</th>\n",
       "      <th>Latitude</th>\n",
       "    </tr>\n",
       "  </thead>\n",
       "  <tbody>\n",
       "    <tr>\n",
       "      <th>0</th>\n",
       "      <td>-8.915019</td>\n",
       "      <td>3.339982e-12</td>\n",
       "    </tr>\n",
       "    <tr>\n",
       "      <th>1</th>\n",
       "      <td>-7.484489</td>\n",
       "      <td>-1.152781e+00</td>\n",
       "    </tr>\n",
       "    <tr>\n",
       "      <th>2</th>\n",
       "      <td>-6.373103</td>\n",
       "      <td>-2.114364e+00</td>\n",
       "    </tr>\n",
       "    <tr>\n",
       "      <th>3</th>\n",
       "      <td>-5.433459</td>\n",
       "      <td>-2.975470e+00</td>\n",
       "    </tr>\n",
       "    <tr>\n",
       "      <th>4</th>\n",
       "      <td>-4.586204</td>\n",
       "      <td>-3.792032e+00</td>\n",
       "    </tr>\n",
       "  </tbody>\n",
       "</table>\n",
       "</div>"
      ],
      "text/plain": [
       "   Longitude      Latitude\n",
       "0  -8.915019  3.339982e-12\n",
       "1  -7.484489 -1.152781e+00\n",
       "2  -6.373103 -2.114364e+00\n",
       "3  -5.433459 -2.975470e+00\n",
       "4  -4.586204 -3.792032e+00"
      ]
     },
     "execution_count": 114,
     "metadata": {},
     "output_type": "execute_result"
    }
   ],
   "source": [
    "intersection_dfs[0].head()"
   ]
  },
  {
   "cell_type": "markdown",
   "metadata": {},
   "source": [
    "---"
   ]
  },
  {
   "cell_type": "markdown",
   "metadata": {},
   "source": [
    "## Visualization"
   ]
  },
  {
   "cell_type": "markdown",
   "metadata": {},
   "source": [
    "2D plot:"
   ]
  },
  {
   "cell_type": "code",
   "execution_count": 115,
   "metadata": {},
   "outputs": [
    {
     "data": {
      "application/vnd.plotly.v1+json": {
       "config": {
        "plotlyServerURL": "https://plot.ly"
       },
       "data": [
        {
         "lat": [
          3.378530153297292e-12,
          13.063049082778237,
          25.357569811305186,
          35.85366122820404,
          43.02728475987889,
          45.113886063084536,
          41.42416715502627,
          33.115869826486936,
          21.9745009535127,
          9.371837931937193,
          -3.764946681503675,
          -16.69308208121771,
          -28.59709717264689,
          -38.32279566105951,
          -44.20792586986194,
          -44.627801475051534,
          -39.440588267026094,
          -30.150216149229223,
          -18.474965222987954,
          -5.63811270775548,
          -3.5005965313365356e-05
         ],
         "line": {
          "color": "rgba(255, 0, 0, 0.5)",
          "width": 1
         },
         "lon": [
          3.3502992636390697e-12,
          12.079712975000684,
          25.594882415461683,
          42.1494118030668,
          63.06843064926549,
          87.47495468195314,
          111.19774062121603,
          130.81165667567012,
          146.3288984879253,
          159.27789725111796,
          171.21585308162403,
          -176.44685378837815,
          -162.23279926925565,
          -144.5198268419493,
          -122.35267842664325,
          -97.63804670826539,
          -74.89849734929298,
          -56.56979998122842,
          -41.95618285435475,
          -29.44593592221731,
          -24.351975081443143
         ],
         "mode": "lines",
         "type": "scattergeo"
        },
        {
         "lat": [
          3.3399822780640096e-12,
          -1.1527807746192535,
          -2.114363751936764,
          -2.97546983056464,
          -3.792031533580913,
          -4.60736550372482,
          -5.463949266886437,
          -6.414254015475965,
          -7.5380773731668915,
          -8.98356938790235,
          -8.98356938790235,
          -7.538077373167014,
          -6.41425401547616,
          -5.4639492668866785,
          -4.607365503725081,
          -3.7920315335811865,
          -2.975469830564906,
          -2.1143637519369936,
          -1.1527807746194074,
          3.3436921929733316e-12,
          3.3427892675879045e-12,
          1.1527807746262158,
          2.11436375194392,
          2.9754698305719547,
          3.7920315335883714,
          4.607365503732419,
          5.463949266894204,
          6.414254015483927,
          7.5380773731751445,
          8.98356938791106,
          8.98356938791106,
          7.538077373175019,
          6.414254015483737,
          5.4639492668939615,
          4.607365503732151,
          3.7920315335880947,
          2.975469830571684,
          2.114363751943683,
          1.1527807746260548,
          3.338830344501555e-12
         ],
         "line": {
          "color": "rgba(0, 0, 255, 0.5)",
          "width": 1
         },
         "lon": [
          -8.915019016543553,
          -7.484488546931468,
          -6.373103482459848,
          -5.433459057986876,
          -4.586204208211732,
          -3.7790973074206238,
          -2.9696631521223784,
          -2.114228820468095,
          -1.1557151051241767,
          3.352234161882466e-12,
          3.3514892465374036e-12,
          1.1557151051309797,
          2.1142288204750015,
          2.9696631521293937,
          3.7790973074277585,
          4.586204208219013,
          5.433459057994338,
          6.373103482467544,
          7.484488546939514,
          8.915019016552165,
          8.91501901655217,
          7.484488546939653,
          6.373103482467766,
          5.433459057994609,
          4.5862042082193195,
          3.779097307428074,
          2.969663152129699,
          2.114228820475265,
          1.155715105131158,
          3.347340577001021e-12,
          3.348663933988787e-12,
          -1.1557151051243628,
          -2.1142288204683672,
          -2.969663152122689,
          -3.7790973074209417,
          -4.5862042082120436,
          -5.4334590579871485,
          -6.3731034824600705,
          -7.484488546931609,
          -8.915019016543553
         ],
         "mode": "lines",
         "type": "scattergeo"
        },
        {
         "lat": [
          13.147461242820702,
          12.002972988412113,
          11.04254572227003,
          10.178892311105987,
          9.357340770922873,
          8.534956653778941,
          7.669145172715334,
          6.706871756771643,
          5.567157074286083,
          4.099524623796668,
          4.099524623796668,
          5.507172147699533,
          6.596634755406911,
          7.513717869472251,
          8.336502263579309,
          9.115751066708588,
          9.891799459967201,
          10.704754237500408,
          11.604946422124298,
          12.671555602071942,
          12.671555602071942,
          13.90964965085555,
          14.932901267793712,
          15.843062398999109,
          16.701495819474303,
          17.554706823511648,
          18.447398638478752,
          19.433959462255746,
          20.596343821467475,
          22.086063929739662,
          22.086063929739662,
          20.660591250586286,
          19.550795328942144,
          18.610690801448943,
          17.761575510476387,
          16.951469564805684,
          16.137933658896557,
          15.277165319712052,
          14.311815586014779,
          13.147461242820702
         ],
         "line": {
          "color": "rgba(0, 0, 255, 0.5)",
          "width": 1
         },
         "lon": [
          2.9086888662986796,
          4.38839113343999,
          5.527538909001749,
          6.483000178247357,
          7.33810389475861,
          8.146680660860058,
          8.951339539552082,
          9.794483952108866,
          10.729737778683235,
          11.842874579060647,
          11.842874579060647,
          13.030528395939724,
          14.023647444285357,
          14.915607802745804,
          15.76411931563358,
          16.614246354474332,
          17.510707257907313,
          18.509409977667975,
          19.696238676591822,
          21.23193805376861,
          21.23193805376861,
          19.83441964525565,
          18.74248578109391,
          17.81452856562043,
          16.973683687537363,
          16.168698194505367,
          15.357128151507583,
          14.494353353782646,
          13.520746048289821,
          12.335909887278453,
          12.335909887278453,
          11.064205707599415,
          10.023647718879198,
          9.104578942975694,
          8.242466029504865,
          7.389506394504015,
          6.500708286446492,
          5.522239241890411,
          4.373909131023257,
          2.908688866298682
         ],
         "mode": "lines",
         "type": "scattergeo"
        },
        {
         "lat": [
          26.04353356995534,
          24.824004464055516,
          23.80055992759443,
          22.880625427618654,
          22.006130734188236,
          21.131518240273433,
          20.211716483528402,
          19.190808434265932,
          17.983728868234127,
          16.43301398779631,
          16.43301398779631,
          17.739399278246907,
          18.73963506153259,
          19.57302366136767,
          20.313067206451883,
          21.006374292191097,
          21.688516685560888,
          22.39292325983792,
          23.15879281728805,
          24.043148101606445,
          24.043148101606445,
          25.439484357277994,
          26.582372549409534,
          27.591552229463986,
          28.537695327869194,
          29.473175209586756,
          30.447239554122646,
          31.518747153093727,
          32.775365131967014,
          34.37817122356209,
          34.3781712235621,
          33.055829345580314,
          32.0258145740227,
          31.152498135573452,
          30.362787561544554,
          29.60829984685929,
          28.84933180449845,
          28.04459622109254,
          27.139557014086478,
          26.043533569955336
         ],
         "line": {
          "color": "rgba(0, 0, 255, 0.5)",
          "width": 1
         },
         "lon": [
          15.655776938404001,
          17.20366432779222,
          18.37774371431092,
          19.350046400834135,
          20.2100654778652,
          21.01399907454461,
          21.80458503242348,
          22.622270258379377,
          23.51558098732011,
          24.558390291642947,
          24.558390291642947,
          25.915952470271165,
          27.05419618270968,
          28.078509459394176,
          29.05441854970796,
          30.033394253735565,
          31.066770701645588,
          32.218936504581315,
          33.58892829702402,
          35.36203395123178,
          35.36203395123178,
          34.03121408090875,
          32.98900979848311,
          32.10135848194988,
          31.29527246764287,
          30.521816240118383,
          29.74012648051002,
          28.906805517577375,
          27.963262361351045,
          26.809873842347475,
          26.80987384234748,
          25.227445494464682,
          23.95505786929432,
          22.846179122283978,
          21.81762023580967,
          20.810142181884075,
          19.77025446460137,
          18.636239128597836,
          17.31854080836904,
          15.655776938403994
         ],
         "mode": "lines",
         "type": "scattergeo"
        },
        {
         "lat": [
          37.799383119432754,
          36.41111353690869,
          35.255706385632486,
          34.22404393111181,
          33.2489814714677,
          32.27896363737292,
          31.26410186217808,
          30.143664389403938,
          28.826539665075167,
          27.145757318076512,
          27.145757318076512,
          28.255716380901944,
          29.085115712339817,
          29.760246708194238,
          30.345704232574143,
          30.88035390602722,
          31.39127383293224,
          31.900414256561163,
          32.42837752240417,
          32.996076057916184,
          32.996076057916184,
          34.60245265210677,
          35.906596418578175,
          37.050968732003405,
          38.118236376850646,
          39.16853212552072,
          40.25731653217232,
          41.449781301275586,
          42.84190494293818,
          44.608801919414006,
          44.60880191941402,
          43.53987618072676,
          42.704869393369435,
          41.99506913687978,
          41.35164716524424,
          40.735410249899296,
          40.11389622157486,
          39.45296780369115,
          38.70702012846365,
          37.799383119432754
         ],
         "line": {
          "color": "rgba(0, 0, 255, 0.5)",
          "width": 1
         },
         "lon": [
          31.106658296523936,
          32.67875154457207,
          33.841273785825216,
          34.78342443708462,
          35.60040585266311,
          36.349452020058735,
          37.07143274377529,
          37.80187205836442,
          38.57938646206335,
          39.45703301876232,
          39.45703301876232,
          41.12615639137343,
          42.520370905736726,
          43.77067237391075,
          44.95778961219214,
          46.144352223911284,
          47.39189316403738,
          48.776446323950864,
          50.413387765867554,
          52.51577568079413,
          52.51577568079413,
          51.397696216198774,
          50.528867692910026,
          49.794079747669436,
          49.13138866756261,
          48.50004981514248,
          47.86698846094236,
          47.19831044493563,
          46.44998403350042,
          45.55014025811724,
          45.55014025811724,
          43.40356132553951,
          41.70495214010169,
          40.24297048385759,
          38.90114819469478,
          37.59932792849014,
          36.2678315267118,
          34.8290581385483,
          33.17336895184293,
          31.106658296523936
         ],
         "mode": "lines",
         "type": "scattergeo"
        },
        {
         "lat": [
          47.002529477284654,
          45.36471016429707,
          44.02485845346738,
          42.844051567721166,
          41.740099778784916,
          40.65243440775719,
          39.52481123895999,
          38.29110797919529,
          36.8545617498698,
          35.04077203461158,
          35.04077203461158,
          35.812419605696306,
          36.35364775329198,
          36.76656738169772,
          37.10010817445525,
          37.380377328812614,
          37.62135552336764,
          37.8282702078203,
          37.99583285085187,
          38.09664175081436,
          38.09664175081436,
          39.89339445076173,
          41.341759884767924,
          42.60534419672582,
          43.77776932114924,
          44.92598356571665,
          46.11052637046463,
          47.40121855711386,
          48.899266346049686,
          50.78702074169349,
          50.7870207416935,
          50.21156492565026,
          49.75722529920173,
          49.36771851451632,
          49.01202719420707,
          48.66903123266956,
          48.32076902928136,
          47.947820299612715,
          47.523602519389314,
          47.002529477284654
         ],
         "line": {
          "color": "rgba(0, 0, 255, 0.5)",
          "width": 1
         },
         "lon": [
          51.45918795215341,
          52.80494332900302,
          53.7542639378462,
          54.492721895518855,
          55.108774986181686,
          55.65197028259865,
          56.15397483107959,
          56.63777342587902,
          57.122207001281815,
          57.623582096309356,
          57.623582096309356,
          59.69530408865277,
          61.40414043928086,
          62.91964921125531,
          64.34356646258323,
          65.75202875839126,
          67.21672971789519,
          68.82268495743797,
          70.6944647362055,
          73.055204589627,
          73.055204589627,
          72.42813154953502,
          71.9715085315256,
          71.60978249592829,
          71.30566730528226,
          71.03828143740778,
          70.79529483873979,
          70.57035386918876,
          70.36448729585085,
          70.19644135691159,
          70.1964413569116,
          67.38083289633236,
          65.15946705875898,
          63.2527705011429,
          61.507313127529926,
          59.81820992407117,
          58.09511836896626,
          56.23839437380013,
          54.10838015331598,
          51.45918795215341
         ],
         "mode": "lines",
         "type": "scattergeo"
        },
        {
         "lat": [
          51.50041682381502,
          49.645181896625985,
          48.157945768494145,
          46.86681998012038,
          45.674453452401536,
          44.51223768729487,
          43.3193053421442,
          42.02689814801512,
          40.537272416174055,
          38.67762338343306,
          38.67762338343305,
          38.96146491956724,
          39.10041761188549,
          39.157214527735604,
          39.15708619355597,
          39.10850377863749,
          39.00905847432421,
          38.84488466940835,
          38.583255841976055,
          38.14865234840656,
          38.14865234840656,
          40.00992175256943,
          41.496341685707975,
          42.78247024200826,
          43.9665173730073,
          45.11702390320992,
          46.29401780168203,
          47.56435284800863,
          49.02179626909196,
          50.83004278369742,
          50.83004278369742,
          50.92614264182376,
          51.00345891049325,
          51.07076264696666,
          51.133053634298335,
          51.19388028860156,
          51.25641333751871,
          51.32425624429079,
          51.40255216044242,
          51.50041682381502
         ],
         "line": {
          "color": "rgba(0, 0, 255, 0.5)",
          "width": 1
         },
         "lon": [
          77.60235323316589,
          78.18138808645702,
          78.53017722711392,
          78.75879784802818,
          78.9140051584109,
          79.01742704334931,
          79.07772596876033,
          79.09394720828132,
          79.05327228321677,
          78.9190936055726,
          78.91909360557258,
          81.28013594892565,
          83.18514063147408,
          84.84315529133286,
          86.37448750307608,
          87.86438720719654,
          89.38805476386548,
          91.0290848758521,
          92.90353748660905,
          95.21053304917966,
          95.21053304917966,
          95.27671962473238,
          95.40376230485722,
          95.57116978266508,
          95.77604850793267,
          96.02528251927629,
          96.33548711293251,
          96.73849461237643,
          97.297132554905,
          98.15228198056836,
          98.15228198056836,
          95.17955814408323,
          92.80451928098329,
          90.74542091883545,
          88.84409527427418,
          86.9894547255932,
          85.08275028583724,
          83.01165082176327,
          80.61473370245317,
          77.60235323316586
         ],
         "mode": "lines",
         "type": "scattergeo"
        },
        {
         "lat": [
          49.575026878457244,
          47.70739074522362,
          46.22923037323234,
          44.9582959481544,
          43.79393487007947,
          42.66709683975213,
          41.51829585305667,
          40.28216700089381,
          38.86778153603963,
          37.11687980816564,
          37.11687980816564,
          36.86965325200561,
          36.58775744363486,
          36.2840859442236,
          35.95600831696964,
          35.59307355859708,
          35.17710355956083,
          34.67778460504149,
          34.04088439770134,
          33.155928424210806,
          33.155928424210806,
          34.93597572795433,
          36.34114050131546,
          37.544301695695694,
          38.640869778279956,
          39.695521422914766,
          40.76265520752619,
          41.90008281132573,
          43.18522843277042,
          44.74730537075932,
          44.74730537075932,
          45.40397115217085,
          45.94044452851504,
          46.41345863768319,
          46.85633088335014,
          47.293620362833835,
          47.74828024249223,
          48.24757536340531,
          48.83188894353149,
          49.575026878457244
         ],
         "line": {
          "color": "rgba(0, 0, 255, 0.5)",
          "width": 1
         },
         "lon": [
          105.2478561912169,
          104.81539640057142,
          104.41459216006558,
          104.03092147534497,
          103.64897678406274,
          103.2524466600245,
          102.82159271347436,
          102.32854733606216,
          101.72748005873306,
          100.92925455186109,
          100.92925455186109,
          103.238914279472,
          105.05884538789049,
          106.61258541147859,
          108.02362544822002,
          109.37520606663709,
          110.736497581453,
          112.17985256251833,
          113.80072192250456,
          115.75667878579405,
          115.75667878579405,
          116.39378572440535,
          116.98648938181273,
          117.56350743078299,
          118.15061861512905,
          118.77550287277658,
          119.47367202007625,
          120.29850010751278,
          121.34297563024892,
          122.79861969129219,
          122.79861969129219,
          120.32134632336889,
          118.32896398720946,
          116.59170334247297,
          114.97896120359717,
          113.3974480850722,
          111.76244352624732,
          109.97539354914626,
          107.89182305932442,
          105.2478561912169
         ],
         "mode": "lines",
         "type": "scattergeo"
        },
        {
         "lat": [
          41.99658065806349,
          40.27846624434996,
          38.92672369634791,
          37.77033867943715,
          36.71578161521435,
          35.69973496332662,
          34.66857917113766,
          33.56447897241442,
          32.30831280368936,
          30.76431977377028,
          30.76431977377028,
          30.09031000614488,
          29.48191167967164,
          28.906386385453757,
          28.33698026257094,
          27.74790338813624,
          27.109196577983617,
          26.37932414326265,
          25.490569051945325,
          24.312017714739785,
          24.312017714739785,
          25.952533392621856,
          27.23505157464407,
          28.32377775433785,
          29.307994911066157,
          30.246910517122114,
          31.188814820778138,
          32.183190761869696,
          33.29394531674522,
          34.62412972065491,
          34.62412972065491,
          35.60188790352563,
          36.406765441318356,
          37.120806823470375,
          37.792992987773715,
          38.46013635237843,
          39.157391301228024,
          39.92736024600211,
          40.83417036650231,
          41.996580658063486
         ],
         "line": {
          "color": "rgba(0, 0, 255, 0.5)",
          "width": 1
         },
         "lon": [
          128.19791818757577,
          127.18725143647163,
          126.35495907472624,
          125.61637522563682,
          124.9209121354594,
          124.23051917425977,
          123.50883793590492,
          122.71180392467798,
          121.77314438082973,
          120.5704305017642,
          120.5704305017642,
          122.57568675494807,
          124.13199896067715,
          125.44514823247361,
          126.62597307619417,
          127.74709529814352,
          128.8668989450662,
          130.04440625925494,
          131.35525927910987,
          132.92168046364222,
          132.92168046364222,
          133.8624706261666,
          134.68599104728844,
          135.45258673611022,
          136.20447658497,
          136.97912211499423,
          137.8183624254646,
          138.7795593466336,
          139.9567548292389,
          141.53476627035138,
          141.53476627035138,
          139.6065450292215,
          138.06608374756104,
          136.73073702965362,
          135.49781139012586,
          134.29511697430155,
          133.05840634602396,
          131.71445042336538,
          130.15769945527467,
          128.19791818757577
         ],
         "mode": "lines",
         "type": "scattergeo"
        },
        {
         "lat": [
          31.008771237410077,
          29.445064877490555,
          28.22082750854397,
          27.17833619744509,
          26.231909716767326,
          25.32421705982395,
          24.407532176842558,
          23.431411380654506,
          22.328203330076413,
          20.983947957753738,
          20.983947957753738,
          20.03557480621462,
          19.222243943402518,
          18.479295480798257,
          17.763666468744354,
          17.039590524895385,
          16.269810181828905,
          15.406227189923928,
          14.373678043958284,
          13.030489650655985,
          13.030489650655987,
          14.551733316897511,
          15.734580618836569,
          16.7341137268679,
          17.63397177274889,
          18.489024693592896,
          19.34339206775937,
          20.24155376443205,
          21.240081793583837,
          22.429028969182554,
          22.429028969182554,
          23.554311339930845,
          24.4845289682081,
          25.312286200605865,
          26.093424521134118,
          26.87032199382479,
          27.683816580717266,
          28.58374736387131,
          29.645460558703988,
          31.008771237410077
         ],
         "line": {
          "color": "rgba(0, 0, 255, 0.5)",
          "width": 1
         },
         "lon": [
          145.484983258973,
          144.30991958882024,
          143.34822917914764,
          142.49860150373945,
          141.70139881479594,
          140.91240618564635,
          140.08995197847727,
          139.18409647974516,
          138.1203243479896,
          136.7617571923497,
          136.7617571923497,
          138.4544203155262,
          139.76148498346126,
          140.8603340877941,
          141.84566983259455,
          142.77900908430004,
          143.7093660606512,
          144.6858705025309,
          145.77107081852975,
          147.0655973395803,
          147.0655973395803,
          148.13415677972287,
          149.04360448541192,
          149.87182735924674,
          150.6691154195345,
          151.47663617479452,
          152.33716053710066,
          153.30619054614857,
          154.47128938101895,
          155.99960782773636,
          155.99960782773636,
          154.4123455490112,
          153.1586473066378,
          152.0829189704982,
          151.09927045805904,
          150.14898123438093,
          149.18171259184652,
          148.14239570012148,
          146.95457890280963,
          145.484983258973
         ],
         "mode": "lines",
         "type": "scattergeo"
        },
        {
         "lat": [
          18.3830503362783,
          16.912996088529074,
          15.76734151817016,
          14.796158338685494,
          13.918468193831101,
          13.080692171401253,
          12.239003987092996,
          11.348091835401432,
          10.348557685973175,
          9.142547590257449,
          9.142547590257445,
          8.042889099314568,
          7.1187450068702,
          6.286710488237712,
          5.4943697391875155,
          4.700393627098039,
          3.8636020335104964,
          2.932523473101924,
          1.8283246019358839,
          0.404142522227763,
          0.4041425222277672,
          1.858941433451344,
          2.9887094835480132,
          3.9427265128268907,
          4.801314526775597,
          5.617102446242883,
          6.432413019156473,
          7.289996469191455,
          8.244440996467288,
          9.383197244687409,
          9.383197244687409,
          10.551602488701946,
          11.52167714057627,
          12.38751069816787,
          13.20644692740665,
          14.022421628364135,
          14.878116960771939,
          15.825905146889344,
          16.945148508511807,
          18.383050336278295
         ],
         "line": {
          "color": "rgba(0, 0, 255, 0.5)",
          "width": 1
         },
         "lon": [
          159.15154636845955,
          157.9724219524313,
          157.00127215686163,
          156.13916811460172,
          155.3270511133681,
          154.520486388833,
          153.6769769193262,
          152.7449752837854,
          151.64693782272028,
          150.23973041932413,
          150.23973041932413,
          151.73153478054869,
          152.88568549718437,
          153.85785120807694,
          154.7313275159798,
          155.56046345008627,
          156.38888104535584,
          157.26073071624242,
          158.23280410793933,
          159.39737379401907,
          159.39737379401907,
          160.52396331753337,
          161.46656684731158,
          162.31356001034277,
          163.11964314847484,
          163.92760413726876,
          164.77998152840576,
          165.73005006605254,
          166.85976963753956,
          168.32274884498494,
          168.32274884498494,
          166.88255197867448,
          165.75698338156639,
          164.80029928549175,
          163.93334613291634,
          163.1033236444332,
          162.26649550156395,
          161.37687929970647,
          160.37303423094025,
          159.15154636845955
         ],
         "mode": "lines",
         "type": "scattergeo"
        },
        {
         "lat": [
          5.210817097363808,
          3.7655725718051953,
          2.642649112773586,
          1.693777317083097,
          0.8391471966993631,
          0.026373286030122352,
          -0.7868172000692765,
          -1.6433409095271303,
          -2.5983325575028333,
          -3.7407285235356724,
          -3.7407285235356724,
          -4.904110439821324,
          -5.872487560876128,
          -6.738370153662658,
          -7.558495185171123,
          -8.376586819667473,
          -9.235336636694672,
          -10.187314945148849,
          -11.31232995731607,
          -12.758461527574077,
          -12.75846152757407,
          -11.307296961988808,
          -10.178126300308268,
          -9.22245235767076,
          -8.360216566320622,
          -7.538659354575663,
          -6.714907431776238,
          -5.845015769654177,
          -4.871915168337047,
          -3.702483380543893,
          -3.702483380543893,
          -2.5662321008310665,
          -1.6160173104303388,
          -0.7635325066635311,
          0.046017282271090906,
          0.8553249733759468,
          1.7064817322221328,
          2.651686883830089,
          3.770508137349775,
          5.210817097363813
         ],
         "line": {
          "color": "rgba(0, 0, 255, 0.5)",
          "width": 1
         },
         "lon": [
          171.19677523315306,
          170.05215941873902,
          169.0997444675819,
          168.24760263344567,
          167.4395650549855,
          166.6323055916978,
          165.7833444318791,
          164.84008436374728,
          163.7222583478054,
          162.28028008254546,
          162.28028008254546,
          163.7059352568746,
          164.8159593814159,
          165.75627984294968,
          166.60570628885716,
          167.41637205699047,
          168.2309530544744,
          169.09368878381966,
          170.06287288308158,
          171.23536157736038,
          171.23536157736038,
          172.40141589071524,
          173.36562475518923,
          174.22416993829336,
          175.03498556576787,
          175.8420771726772,
          176.6879334347705,
          177.62449909265158,
          178.73034310197923,
          -179.8489931902613,
          -179.8489931902613,
          178.70429838568802,
          177.58248673647395,
          176.63563401524695,
          175.78324969642216,
          174.9725591716622,
          174.16090516358994,
          173.30473915668972,
          172.3475509796364,
          171.19677523315306
         ],
         "mode": "lines",
         "type": "scattergeo"
        },
        {
         "lat": [
          -7.734565982820863,
          -9.22005039818473,
          -10.373941145623688,
          -11.348298413910856,
          -12.22499878061375,
          -13.057672872652148,
          -13.889380002549744,
          -14.763482692704802,
          -15.735113137451254,
          -16.89209721683323,
          -16.892097216833225,
          -18.0460864903986,
          -19.001650198037034,
          -19.852956733794567,
          -20.65702606970692,
          -21.457290594776477,
          -22.295734479903718,
          -23.223701699905497,
          -24.31888131516327,
          -25.725402448194913,
          -25.725402448194917,
          -24.21030331803449,
          -23.026571751284827,
          -22.020595932937802,
          -21.109149842668412,
          -20.236824051337248,
          -19.357846034196108,
          -18.424294792758104,
          -17.372521100705992,
          -16.09629784851669,
          -16.096297848516688,
          -15.07046004213185,
          -14.200067476289874,
          -13.411026011071597,
          -12.655535946069485,
          -11.89499163696399,
          -11.090112345278058,
          -10.191037371563818,
          -9.120663480047943,
          -7.734565982820863
         ],
         "line": {
          "color": "rgba(0, 0, 255, 0.5)",
          "width": 1
         },
         "lon": [
          -176.8455278366025,
          -177.94325964412388,
          -178.86990082618303,
          -179.70835642371634,
          179.48894574669464,
          178.68003178130843,
          177.8222121242839,
          176.86102469250235,
          175.7115761764586,
          174.2132463923882,
          174.2132463923882,
          175.71661096231782,
          176.89837031524493,
          177.90802682399115,
          178.8274945707204,
          179.71214560890343,
          -179.39129060365588,
          -178.4326020821947,
          -177.34325933177226,
          -176.00564026268341,
          -176.00564026268341,
          -174.81934274459257,
          -173.84645387110143,
          -172.9855982491837,
          -172.17682884184424,
          -171.37549139491907,
          -170.53930288070754,
          -169.61739646148303,
          -168.53368123280515,
          -167.14818935406944,
          -167.14818935406944,
          -168.73873578172993,
          -169.96711888584653,
          -171.00010899993475,
          -171.92673361390897,
          -172.8048586163163,
          -173.6806570113295,
          -174.60051410892663,
          -175.62363690264047,
          -176.8455278366025
         ],
         "mode": "lines",
         "type": "scattergeo"
        },
        {
         "lat": [
          -19.705333965961174,
          -21.289538233491953,
          -22.524478890167206,
          -23.570223130850888,
          -24.513431136735857,
          -25.41123033266971,
          -26.309838972722066,
          -27.256170528535765,
          -28.310257753583087,
          -29.568111595988718,
          -29.568111595988718,
          -30.62535441751738,
          -31.497374579081303,
          -32.272117049639135,
          -33.002327751195345,
          -33.7278350016321,
          -34.48684856456577,
          -35.32584901983135,
          -36.31498293149484,
          -37.58436565148748,
          -37.58436565148748,
          -35.93782189081915,
          -34.645098160565055,
          -33.54134061711191,
          -32.5366555922993,
          -31.5704867045664,
          -30.591914702666124,
          -29.54646858216597,
          -28.36021921730601,
          -26.90723232755919,
          -26.907232327559186,
          -26.09795904944264,
          -25.38804056005507,
          -24.729259158877227,
          -24.08690057815264,
          -23.430269411817857,
          -22.725784407680056,
          -21.928616741900303,
          -20.967271940064226,
          -19.705333965961174
         ],
         "line": {
          "color": "rgba(0, 0, 255, 0.5)",
          "width": 1
         },
         "lon": [
          -163.6386377373198,
          -164.6483409585616,
          -165.51985119204699,
          -166.32231546373797,
          -167.10211807777054,
          -167.89875954839593,
          -168.75480292661783,
          -169.72706541083994,
          -170.9069863270436,
          -172.47174467757193,
          -172.4717446775719,
          -170.71641195990682,
          -169.3207185582743,
          -168.11599073094632,
          -167.00812456211796,
          -165.93173850197803,
          -164.82954132902913,
          -163.63731324733155,
          -162.26386400611804,
          -160.5469703331316,
          -160.5469703331316,
          -159.4323083328873,
          -158.51966732643626,
          -157.71314183746605,
          -156.95621401339744,
          -156.2069380140441,
          -155.42574027508294,
          -154.56515131307796,
          -153.55428217180972,
          -152.26279630656816,
          -152.26279630656816,
          -154.1246700098987,
          -155.565024181712,
          -156.77741607788593,
          -157.8655278916136,
          -158.89690757214854,
          -159.92552018745326,
          -161.0055782020205,
          -162.2061974269998,
          -163.63863773731984
         ],
         "mode": "lines",
         "type": "scattergeo"
        },
        {
         "lat": [
          -29.751499257481306,
          -31.473152875257124,
          -32.82597860600388,
          -33.97956206123557,
          -35.02682612926334,
          -36.03008809865517,
          -37.0409770069174,
          -38.11338963233328,
          -39.31823203509783,
          -40.77183691390081,
          -40.77183691390081,
          -41.59310862871217,
          -42.26673203410855,
          -42.86262398273306,
          -43.42219040741092,
          -43.97626803273818,
          -44.554017115703,
          -45.19046401856474,
          -45.93796749557335,
          -46.89296342417423,
          -46.892963424174226,
          -45.080032325193194,
          -43.64939114893891,
          -42.42226957499808,
          -41.300439723379654,
          -40.21694519619311,
          -39.11455700716937,
          -37.930905427152155,
          -36.57984599397876,
          -34.912321685346654,
          -34.91232168534666,
          -34.46389367733319,
          -34.0268633700062,
          -33.59322623532451,
          -33.149169997298415,
          -32.67703658205218,
          -32.15301968664729,
          -31.541342464695425,
          -30.781088672782086,
          -29.751499257481306
         ],
         "line": {
          "color": "rgba(0, 0, 255, 0.5)",
          "width": 1
         },
         "lon": [
          -147.89028765422714,
          -148.68733583775062,
          -149.40427657926804,
          -150.08554190641132,
          -150.765329870281,
          -151.4766114808681,
          -152.25871303419976,
          -153.16808292147397,
          -154.30018424830422,
          -155.8471812646508,
          -155.8471812646508,
          -153.62498091763408,
          -151.840784458853,
          -150.2873204421772,
          -148.84708585108126,
          -147.43646664052508,
          -145.97987362247844,
          -144.38974861030115,
          -142.53813494070693,
          -140.1917691564904,
          -140.1917691564904,
          -139.4442998286362,
          -138.81007150416343,
          -138.2354986112881,
          -137.68576204422968,
          -137.1326924931709,
          -136.54762372183222,
          -135.8941428261953,
          -135.11581400721496,
          -134.10644598921553,
          -134.10644598921553,
          -136.30111460144462,
          -138.01694278170604,
          -139.47282744456012,
          -140.78812166580212,
          -142.0420796745844,
          -143.2994081289538,
          -144.62656892254546,
          -146.10989647532588,
          -147.89028765422717
         ],
         "mode": "lines",
         "type": "scattergeo"
        },
        {
         "lat": [
          -36.575017052985785,
          -38.41538518486343,
          -39.8779079408548,
          -41.13775469550128,
          -42.29265681789855,
          -43.4099638732119,
          -44.547641576161254,
          -45.76897190476602,
          -47.1609954706961,
          -48.87278568375598,
          -48.87278568375598,
          -49.23736866137929,
          -49.53293113100499,
          -49.79185360269103,
          -50.03286166995022,
          -50.26949107537775,
          -50.51410439257722,
          -50.78105967868837,
          -51.091226032553955,
          -51.48214550327144,
          -51.48214550327144,
          -49.59223354778541,
          -48.0873423968438,
          -46.78739643318862,
          -45.59178655069528,
          -44.430604662795886,
          -43.242755101702706,
          -41.96016502892847,
          -40.48707261914738,
          -38.6554042550285,
          -38.6554042550285,
          -38.70726466606748,
          -38.66026883392503,
          -38.5563189878584,
          -38.40876550847027,
          -38.21781654944554,
          -37.97397848804269,
          -37.65577474780016,
          -37.22027044345997,
          -36.575017052985785
         ],
         "line": {
          "color": "rgba(0, 0, 255, 0.5)",
          "width": 1
         },
         "lon": [
          -128.72340259341888,
          -129.06562932326437,
          -129.42082967776267,
          -129.79144735198048,
          -130.18831825633703,
          -130.62871002756535,
          -131.13921182463702,
          -131.7637449800099,
          -132.58315008916162,
          -133.77077297972627,
          -133.77077297972627,
          -130.96469808432283,
          -128.71220744603104,
          -126.75152445164973,
          -124.93442664167416,
          -123.15561557652555,
          -121.32015298064478,
          -119.3184682374622,
          -116.99113633941674,
          -114.04909238419084,
          -114.04909238419084,
          -114.1754822062344,
          -114.18692203937765,
          -114.13897721120144,
          -114.05092387276525,
          -113.92747736990991,
          -113.76453994745279,
          -113.54897908536871,
          -113.25296024302928,
          -112.81591327441356,
          -112.81591327441356,
          -115.20021188110424,
          -117.10356098715233,
          -118.7456148212966,
          -120.25043592471461,
          -121.70389648851918,
          -123.17964360328513,
          -124.75724746149842,
          -126.54458272748305,
          -128.72340259341888
         ],
         "mode": "lines",
         "type": "scattergeo"
        },
        {
         "lat": [
          -38.77208952070991,
          -40.6164572865695,
          -42.09789938179791,
          -43.38633873666372,
          -44.578366951208075,
          -45.74242236264683,
          -46.93966862822642,
          -48.23977272818201,
          -49.74257181017298,
          -51.626039592545624,
          -51.626039592545624,
          -51.331495644187925,
          -51.097168240139034,
          -50.89504999049085,
          -50.709497638773016,
          -50.52968621980366,
          -50.34623084770004,
          -50.14878422612142,
          -49.92294776032696,
          -49.64370908766032,
          -49.64370908766032,
          -47.89721350225713,
          -46.481234526024295,
          -45.24165770751389,
          -44.08908545967956,
          -42.95895521085679,
          -41.79252875992307,
          -40.521960150106224,
          -39.04921562678924,
          -37.1990766618681,
          -37.19907666186808,
          -37.77676871594014,
          -38.156190621696666,
          -38.4244764229618,
          -38.621318223021106,
          -38.7657392075389,
          -38.86491075627721,
          -38.91587293724255,
          -38.901267266135285,
          -38.77208952070991
         ],
         "line": {
          "color": "rgba(0, 0, 255, 0.5)",
          "width": 1
         },
         "lon": [
          -106.88705310298764,
          -106.54954983458896,
          -106.33760461562733,
          -106.19849520443194,
          -106.10932734593555,
          -106.0610032394817,
          -106.0536890750512,
          -106.09780027850617,
          -106.2219514194656,
          -106.50040656228438,
          -106.50040656228438,
          -103.517749285507,
          -101.15408822418223,
          -99.1183359330291,
          -97.24943634639729,
          -95.43628774979118,
          -93.5822174190339,
          -91.57956371730016,
          -89.27628381522818,
          -86.40321147292866,
          -86.40321147292866,
          -87.49264072778445,
          -88.23371832098404,
          -88.79093361613434,
          -89.24002173232252,
          -89.62136356032657,
          -89.95853293001525,
          -90.2655669716421,
          -90.5489372297871,
          -90.80369654613355,
          -90.80369654613354,
          -93.03040579670082,
          -94.85150528184485,
          -96.45473535308552,
          -97.95087599547158,
          -99.42101244500701,
          -100.93950585474624,
          -102.59227847067437,
          -104.5025295327489,
          -106.88705310298764
         ],
         "mode": "lines",
         "type": "scattergeo"
        },
        {
         "lat": [
          -35.73921957068668,
          -37.435960619248256,
          -38.80933582806742,
          -40.01158535329083,
          -41.13052137510061,
          -42.22957320558966,
          -43.366789572790196,
          -44.609919081894,
          -46.05815926003534,
          -47.89177977793932,
          -47.89177977793932,
          -47.00178056150475,
          -46.304253248999146,
          -45.70974601597238,
          -45.16958587535775,
          -44.65112670703288,
          -44.127102540924845,
          -43.56858125456162,
          -42.93659623081753,
          -42.16518316446577,
          -42.16518316446577,
          -40.67663471206642,
          -39.44568161304231,
          -38.35196627295034,
          -37.32252043358139,
          -36.302190138560015,
          -35.23843821005056,
          -34.068150889635845,
          -32.69753460584461,
          -30.95580284635976,
          -30.95580284635976,
          -31.940564703683044,
          -32.66243822997396,
          -33.23904068672248,
          -33.729225974506136,
          -34.1670652847771,
          -34.57458606227707,
          -34.967143982243094,
          -35.354948319687914,
          -35.73921957068668
         ],
         "line": {
          "color": "rgba(0, 0, 255, 0.5)",
          "width": 1
         },
         "lon": [
          -85.29623190326794,
          -84.35070919748553,
          -83.62581759499012,
          -83.02057349955963,
          -82.48175806315606,
          -81.97552787763483,
          -81.47587636818513,
          -80.9581391264575,
          -80.39320109327849,
          -79.73890206116647,
          -79.73890206116647,
          -77.29131730947407,
          -75.36148308614341,
          -73.70538789223936,
          -72.1893587195586,
          -70.72209340586092,
          -69.22495242175202,
          -67.61115253251931,
          -65.75896989022094,
          -63.45397070482066,
          -63.45397070482067,
          -64.9788275480801,
          -66.08811834927903,
          -66.97463579916686,
          -67.73347855749094,
          -68.42036664618237,
          -69.07358250671501,
          -69.72454871036611,
          -70.40491370359153,
          -71.1542616714844,
          -71.1542616714844,
          -72.99244323685424,
          -74.52150117732208,
          -75.88766183510062,
          -77.1802180742926,
          -78.46759160074242,
          -79.81603524568703,
          -81.30627061204657,
          -83.05931455477136,
          -85.29623190326797
         ],
         "mode": "lines",
         "type": "scattergeo"
        },
        {
         "lat": [
          -28.253309409720938,
          -29.735950067259697,
          -30.944955955640456,
          -32.00947618772241,
          -33.00513611054604,
          -33.98750393723362,
          -35.00837809043365,
          -36.12921281376934,
          -37.44108398708608,
          -39.110851971084266,
          -39.11085197108425,
          -37.87308623248186,
          -36.90831318035566,
          -36.089749580081836,
          -35.34902033877137,
          -34.64078736199685,
          -33.927740051863836,
          -33.17093462813987,
          -32.3187230291964,
          -31.28486615442233,
          -31.28486615442233,
          -30.004929489435312,
          -28.933399601039735,
          -27.972183965743096,
          -27.060087836133096,
          -26.1494146084092,
          -25.193302274818933,
          -24.133963611143447,
          -22.883890696761274,
          -21.28165861175455,
          -21.281658611754544,
          -22.51822331061557,
          -23.45742939381012,
          -24.23403142335362,
          -24.918376253434836,
          -25.554284736907004,
          -26.174221264279534,
          -26.807359348157494,
          -27.485931618376977,
          -28.253309409720938
         ],
         "line": {
          "color": "rgba(0, 0, 255, 0.5)",
          "width": 1
         },
         "lon": [
          -66.63702130392313,
          -65.3706308957015,
          -64.38001848758543,
          -63.53713489146012,
          -62.77240824040536,
          -62.03932082993542,
          -61.29917486599595,
          -60.51105838140823,
          -59.61999339973227,
          -58.532939187467484,
          -58.53293918746749,
          -56.740631182757554,
          -55.31038020722186,
          -54.07121340112692,
          -52.927467225816606,
          -51.81212549771112,
          -50.66574904139233,
          -49.420867647300796,
          -47.980759680912264,
          -46.17251825617803,
          -46.17251825617803,
          -47.74377912277313,
          -48.92470644817138,
          -49.895076147533075,
          -50.74726105493618,
          -51.53832758146732,
          -52.31067264078559,
          -53.10321347652861,
          -53.961090386141635,
          -54.95077244639267,
          -54.95077244639267,
          -56.42497031183989,
          -57.66012640584846,
          -58.77085829690194,
          -59.828302561670995,
          -60.88818358753944,
          -62.005881998026815,
          -63.25060384049335,
          -64.72841468005993,
          -66.63702130392313
         ],
         "mode": "lines",
         "type": "scattergeo"
        },
        {
         "lat": [
          -17.75890195298766,
          -19.056356030647724,
          -20.12411938452215,
          -21.070860701675265,
          -21.961486866471983,
          -22.844706460255548,
          -23.766896410720392,
          -24.784054432814393,
          -25.980151388622158,
          -27.510040252227107,
          -27.510040252227107,
          -26.115757605362244,
          -25.030052063768586,
          -24.11000437328497,
          -23.27858471363526,
          -22.48487014815593,
          -21.687191687960944,
          -20.842397366936044,
          -19.893763781629733,
          -18.74747938669694,
          -18.74747938669694,
          -17.58165445050262,
          -16.6024370848456,
          -15.721456094736652,
          -14.883202866603751,
          -14.044007543697193,
          -13.160506581742192,
          -12.178702187099038,
          -11.016184649868082,
          -9.519969225532337,
          -9.51996922553233,
          -10.893280532006937,
          -11.952362974429288,
          -12.840821955145717,
          -13.635182037938582,
          -14.384774989606866,
          -15.128270314704938,
          -15.903411237992861,
          -16.75655277437726,
          -17.75890195298766
         ],
         "line": {
          "color": "rgba(0, 0, 255, 0.5)",
          "width": 1
         },
         "lon": [
          -51.338514220796974,
          -49.960502794472006,
          -48.882167679300636,
          -47.96445883139832,
          -47.131738828032546,
          -46.333391341403804,
          -45.5272761171125,
          -44.668805458041206,
          -43.69800773944106,
          -42.513280941461986,
          -42.513280941461986,
          -41.13638122469775,
          -40.01780545743338,
          -39.03524453774654,
          -38.117803793138485,
          -37.21382909573484,
          -36.275529694136594,
          -35.246563316158515,
          -34.0438846100723,
          -32.51629164542759,
          -32.51629164542759,
          -34.02444732711347,
          -35.1791857628519,
          -36.143183805911775,
          -37.00218411204555,
          -37.81098637909584,
          -38.6123167517037,
          -39.447907828519,
          -40.369529963063776,
          -41.45852808004378,
          -41.45852808004378,
          -42.70172546332352,
          -43.74321098964658,
          -44.67993262626659,
          -45.57206214445874,
          -46.46679631831683,
          -47.411166714767056,
          -48.4641615934006,
          -49.71657498025084,
          -51.338514220796995
         ],
         "mode": "lines",
         "type": "scattergeo"
        },
        {
         "lat": [
          -5.530010505258679,
          -6.7100751494583575,
          -7.69075530374229,
          -8.566598488723436,
          -9.395366272533275,
          -10.221402150427283,
          -11.087848570775941,
          -12.047685847039755,
          -13.181207374780282,
          -14.63726338554458,
          -14.637263385544578,
          -13.192592498389947,
          -12.068455541008165,
          -11.116953163561883,
          -10.258360232290604,
          -9.440124274682667,
          -8.619511921788034,
          -7.752675179816232,
          -6.7825959975686345,
          -5.616094114173285,
          -5.6160941141732845,
          -4.476512013401314,
          -3.5229536173903226,
          -2.6671378381764574,
          -1.8541994004380065,
          -1.0413351533107746,
          -0.18630320828359234,
          0.763313820494932,
          1.8874317164872,
          3.3345480256304176,
          3.3345480256304176,
          1.8984879455458985,
          0.7835742236791092,
          -0.15780574879921389,
          -1.0050267616876611,
          -1.8100889018661117,
          -2.6148252901002356,
          -3.461533902963291,
          -4.40431115792046,
          -5.530010505258679
         ],
         "line": {
          "color": "rgba(0, 0, 255, 0.5)",
          "width": 1
         },
         "lon": [
          -38.40590774564614,
          -36.98978473879713,
          -35.88651852784122,
          -34.951406754880544,
          -34.10623432456315,
          -33.29919067857281,
          -32.48777929825322,
          -31.62783898528734,
          -30.66103563213204,
          -29.490219411183997,
          -29.490219411183993,
          -28.304718126778827,
          -27.326566671531854,
          -26.45707088603313,
          -25.637074424924496,
          -24.821881243316454,
          -23.968566665760555,
          -23.024888251580812,
          -21.91207833364178,
          -20.484544863574918,
          -20.484544863574907,
          -21.932971461460802,
          -23.054443465863457,
          -23.999778238302177,
          -24.849760638033167,
          -25.65719289483735,
          -26.464567164405757,
          -27.315033314034846,
          -28.264286606695833,
          -29.40311060510601,
          -29.40311060510601,
          -30.55569026873144,
          -31.51560762390754,
          -32.37506591430338,
          -33.19052099600068,
          -34.00561832830116,
          -34.8632451609434,
          -35.81659769194483,
          -36.94695511816081,
          -38.40590774564614
         ],
         "mode": "lines",
         "type": "scattergeo"
        },
        {
         "lat": [
          -2.955360014872126e-05,
          -1.1528112585266992,
          -2.114394946902867,
          -2.9755016187029537,
          -3.7920638503154755,
          -4.607398318573975,
          -5.463982576099329,
          -6.414287841746595,
          -7.538111772712614,
          -8.983604471434974,
          -8.983604471434973,
          -7.53811308861628,
          -6.4142902479322474,
          -5.463985954428716,
          -4.607402615902131,
          -3.792069063043045,
          -2.97550779119526,
          -2.1144021822265224,
          -1.1528197484765028,
          -3.965394694796684e-05,
          -3.965394695054509e-05,
          1.152741799635406,
          2.1143253197447716,
          2.9754318674142044,
          3.7919940010438924,
          4.60732838791642,
          5.463912575094267,
          6.414217778003125,
          7.538041651629239,
          8.983534296531374,
          8.983534296531374,
          7.538042967728162,
          6.414220184477246,
          5.463915953755413,
          4.607332685589544,
          3.7919992141073737,
          2.975438040212653,
          2.1143325553201735,
          1.15275028974577,
          -2.9553600148486408e-05
         ],
         "line": {
          "color": "rgba(0, 0, 255, 0.5)",
          "width": 1
         },
         "lon": [
          -33.26699409456126,
          -31.836464364643252,
          -30.72507989379789,
          -29.785435984403616,
          -28.938181609677226,
          -28.131075171070766,
          -27.321641489094393,
          -26.46620766882662,
          -25.507694540939756,
          -24.35198016610761,
          -24.351980166107612,
          -23.196264132087183,
          -22.2377497199169,
          -21.382314817411864,
          -20.572880162911037,
          -19.765772801363404,
          -18.918517505216,
          -17.978872627672054,
          -16.86748708073018,
          -15.436956069436569,
          -15.436956069436569,
          -16.867485995235675,
          -17.9788705759508,
          -18.918514546453217,
          -19.765768949152363,
          -20.572875388579142,
          -21.382309044095855,
          -22.237742804286597,
          -23.196255822070526,
          -24.351969997274246,
          -24.35196999727425,
          -25.507685831596117,
          -26.46620013366237,
          -27.321634976128976,
          -28.131069604239197,
          -28.93817696670658,
          -29.785432290963907,
          -30.72507722980857,
          -31.836462886907352,
          -33.26699409456126
         ],
         "mode": "lines",
         "type": "scattergeo"
        }
       ],
       "layout": {
        "autosize": true,
        "geo": {
         "countrycolor": "rgb(204, 204, 204)",
         "landcolor": "rgb(243, 243, 243)",
         "lataxis": {
          "gridcolor": "rgb(102, 102, 102)",
          "gridwidth": 0.1,
          "showgrid": true
         },
         "lonaxis": {
          "gridcolor": "rgb(102, 102, 102)",
          "gridwidth": 0.1,
          "showgrid": true
         },
         "showland": true
        },
        "showlegend": false,
        "template": {
         "data": {
          "bar": [
           {
            "error_x": {
             "color": "#2a3f5f"
            },
            "error_y": {
             "color": "#2a3f5f"
            },
            "marker": {
             "line": {
              "color": "#E5ECF6",
              "width": 0.5
             },
             "pattern": {
              "fillmode": "overlay",
              "size": 10,
              "solidity": 0.2
             }
            },
            "type": "bar"
           }
          ],
          "barpolar": [
           {
            "marker": {
             "line": {
              "color": "#E5ECF6",
              "width": 0.5
             },
             "pattern": {
              "fillmode": "overlay",
              "size": 10,
              "solidity": 0.2
             }
            },
            "type": "barpolar"
           }
          ],
          "carpet": [
           {
            "aaxis": {
             "endlinecolor": "#2a3f5f",
             "gridcolor": "white",
             "linecolor": "white",
             "minorgridcolor": "white",
             "startlinecolor": "#2a3f5f"
            },
            "baxis": {
             "endlinecolor": "#2a3f5f",
             "gridcolor": "white",
             "linecolor": "white",
             "minorgridcolor": "white",
             "startlinecolor": "#2a3f5f"
            },
            "type": "carpet"
           }
          ],
          "choropleth": [
           {
            "colorbar": {
             "outlinewidth": 0,
             "ticks": ""
            },
            "type": "choropleth"
           }
          ],
          "contour": [
           {
            "colorbar": {
             "outlinewidth": 0,
             "ticks": ""
            },
            "colorscale": [
             [
              0,
              "#0d0887"
             ],
             [
              0.1111111111111111,
              "#46039f"
             ],
             [
              0.2222222222222222,
              "#7201a8"
             ],
             [
              0.3333333333333333,
              "#9c179e"
             ],
             [
              0.4444444444444444,
              "#bd3786"
             ],
             [
              0.5555555555555556,
              "#d8576b"
             ],
             [
              0.6666666666666666,
              "#ed7953"
             ],
             [
              0.7777777777777778,
              "#fb9f3a"
             ],
             [
              0.8888888888888888,
              "#fdca26"
             ],
             [
              1,
              "#f0f921"
             ]
            ],
            "type": "contour"
           }
          ],
          "contourcarpet": [
           {
            "colorbar": {
             "outlinewidth": 0,
             "ticks": ""
            },
            "type": "contourcarpet"
           }
          ],
          "heatmap": [
           {
            "colorbar": {
             "outlinewidth": 0,
             "ticks": ""
            },
            "colorscale": [
             [
              0,
              "#0d0887"
             ],
             [
              0.1111111111111111,
              "#46039f"
             ],
             [
              0.2222222222222222,
              "#7201a8"
             ],
             [
              0.3333333333333333,
              "#9c179e"
             ],
             [
              0.4444444444444444,
              "#bd3786"
             ],
             [
              0.5555555555555556,
              "#d8576b"
             ],
             [
              0.6666666666666666,
              "#ed7953"
             ],
             [
              0.7777777777777778,
              "#fb9f3a"
             ],
             [
              0.8888888888888888,
              "#fdca26"
             ],
             [
              1,
              "#f0f921"
             ]
            ],
            "type": "heatmap"
           }
          ],
          "heatmapgl": [
           {
            "colorbar": {
             "outlinewidth": 0,
             "ticks": ""
            },
            "colorscale": [
             [
              0,
              "#0d0887"
             ],
             [
              0.1111111111111111,
              "#46039f"
             ],
             [
              0.2222222222222222,
              "#7201a8"
             ],
             [
              0.3333333333333333,
              "#9c179e"
             ],
             [
              0.4444444444444444,
              "#bd3786"
             ],
             [
              0.5555555555555556,
              "#d8576b"
             ],
             [
              0.6666666666666666,
              "#ed7953"
             ],
             [
              0.7777777777777778,
              "#fb9f3a"
             ],
             [
              0.8888888888888888,
              "#fdca26"
             ],
             [
              1,
              "#f0f921"
             ]
            ],
            "type": "heatmapgl"
           }
          ],
          "histogram": [
           {
            "marker": {
             "pattern": {
              "fillmode": "overlay",
              "size": 10,
              "solidity": 0.2
             }
            },
            "type": "histogram"
           }
          ],
          "histogram2d": [
           {
            "colorbar": {
             "outlinewidth": 0,
             "ticks": ""
            },
            "colorscale": [
             [
              0,
              "#0d0887"
             ],
             [
              0.1111111111111111,
              "#46039f"
             ],
             [
              0.2222222222222222,
              "#7201a8"
             ],
             [
              0.3333333333333333,
              "#9c179e"
             ],
             [
              0.4444444444444444,
              "#bd3786"
             ],
             [
              0.5555555555555556,
              "#d8576b"
             ],
             [
              0.6666666666666666,
              "#ed7953"
             ],
             [
              0.7777777777777778,
              "#fb9f3a"
             ],
             [
              0.8888888888888888,
              "#fdca26"
             ],
             [
              1,
              "#f0f921"
             ]
            ],
            "type": "histogram2d"
           }
          ],
          "histogram2dcontour": [
           {
            "colorbar": {
             "outlinewidth": 0,
             "ticks": ""
            },
            "colorscale": [
             [
              0,
              "#0d0887"
             ],
             [
              0.1111111111111111,
              "#46039f"
             ],
             [
              0.2222222222222222,
              "#7201a8"
             ],
             [
              0.3333333333333333,
              "#9c179e"
             ],
             [
              0.4444444444444444,
              "#bd3786"
             ],
             [
              0.5555555555555556,
              "#d8576b"
             ],
             [
              0.6666666666666666,
              "#ed7953"
             ],
             [
              0.7777777777777778,
              "#fb9f3a"
             ],
             [
              0.8888888888888888,
              "#fdca26"
             ],
             [
              1,
              "#f0f921"
             ]
            ],
            "type": "histogram2dcontour"
           }
          ],
          "mesh3d": [
           {
            "colorbar": {
             "outlinewidth": 0,
             "ticks": ""
            },
            "type": "mesh3d"
           }
          ],
          "parcoords": [
           {
            "line": {
             "colorbar": {
              "outlinewidth": 0,
              "ticks": ""
             }
            },
            "type": "parcoords"
           }
          ],
          "pie": [
           {
            "automargin": true,
            "type": "pie"
           }
          ],
          "scatter": [
           {
            "marker": {
             "colorbar": {
              "outlinewidth": 0,
              "ticks": ""
             }
            },
            "type": "scatter"
           }
          ],
          "scatter3d": [
           {
            "line": {
             "colorbar": {
              "outlinewidth": 0,
              "ticks": ""
             }
            },
            "marker": {
             "colorbar": {
              "outlinewidth": 0,
              "ticks": ""
             }
            },
            "type": "scatter3d"
           }
          ],
          "scattercarpet": [
           {
            "marker": {
             "colorbar": {
              "outlinewidth": 0,
              "ticks": ""
             }
            },
            "type": "scattercarpet"
           }
          ],
          "scattergeo": [
           {
            "marker": {
             "colorbar": {
              "outlinewidth": 0,
              "ticks": ""
             }
            },
            "type": "scattergeo"
           }
          ],
          "scattergl": [
           {
            "marker": {
             "colorbar": {
              "outlinewidth": 0,
              "ticks": ""
             }
            },
            "type": "scattergl"
           }
          ],
          "scattermapbox": [
           {
            "marker": {
             "colorbar": {
              "outlinewidth": 0,
              "ticks": ""
             }
            },
            "type": "scattermapbox"
           }
          ],
          "scatterpolar": [
           {
            "marker": {
             "colorbar": {
              "outlinewidth": 0,
              "ticks": ""
             }
            },
            "type": "scatterpolar"
           }
          ],
          "scatterpolargl": [
           {
            "marker": {
             "colorbar": {
              "outlinewidth": 0,
              "ticks": ""
             }
            },
            "type": "scatterpolargl"
           }
          ],
          "scatterternary": [
           {
            "marker": {
             "colorbar": {
              "outlinewidth": 0,
              "ticks": ""
             }
            },
            "type": "scatterternary"
           }
          ],
          "surface": [
           {
            "colorbar": {
             "outlinewidth": 0,
             "ticks": ""
            },
            "colorscale": [
             [
              0,
              "#0d0887"
             ],
             [
              0.1111111111111111,
              "#46039f"
             ],
             [
              0.2222222222222222,
              "#7201a8"
             ],
             [
              0.3333333333333333,
              "#9c179e"
             ],
             [
              0.4444444444444444,
              "#bd3786"
             ],
             [
              0.5555555555555556,
              "#d8576b"
             ],
             [
              0.6666666666666666,
              "#ed7953"
             ],
             [
              0.7777777777777778,
              "#fb9f3a"
             ],
             [
              0.8888888888888888,
              "#fdca26"
             ],
             [
              1,
              "#f0f921"
             ]
            ],
            "type": "surface"
           }
          ],
          "table": [
           {
            "cells": {
             "fill": {
              "color": "#EBF0F8"
             },
             "line": {
              "color": "white"
             }
            },
            "header": {
             "fill": {
              "color": "#C8D4E3"
             },
             "line": {
              "color": "white"
             }
            },
            "type": "table"
           }
          ]
         },
         "layout": {
          "annotationdefaults": {
           "arrowcolor": "#2a3f5f",
           "arrowhead": 0,
           "arrowwidth": 1
          },
          "autotypenumbers": "strict",
          "coloraxis": {
           "colorbar": {
            "outlinewidth": 0,
            "ticks": ""
           }
          },
          "colorscale": {
           "diverging": [
            [
             0,
             "#8e0152"
            ],
            [
             0.1,
             "#c51b7d"
            ],
            [
             0.2,
             "#de77ae"
            ],
            [
             0.3,
             "#f1b6da"
            ],
            [
             0.4,
             "#fde0ef"
            ],
            [
             0.5,
             "#f7f7f7"
            ],
            [
             0.6,
             "#e6f5d0"
            ],
            [
             0.7,
             "#b8e186"
            ],
            [
             0.8,
             "#7fbc41"
            ],
            [
             0.9,
             "#4d9221"
            ],
            [
             1,
             "#276419"
            ]
           ],
           "sequential": [
            [
             0,
             "#0d0887"
            ],
            [
             0.1111111111111111,
             "#46039f"
            ],
            [
             0.2222222222222222,
             "#7201a8"
            ],
            [
             0.3333333333333333,
             "#9c179e"
            ],
            [
             0.4444444444444444,
             "#bd3786"
            ],
            [
             0.5555555555555556,
             "#d8576b"
            ],
            [
             0.6666666666666666,
             "#ed7953"
            ],
            [
             0.7777777777777778,
             "#fb9f3a"
            ],
            [
             0.8888888888888888,
             "#fdca26"
            ],
            [
             1,
             "#f0f921"
            ]
           ],
           "sequentialminus": [
            [
             0,
             "#0d0887"
            ],
            [
             0.1111111111111111,
             "#46039f"
            ],
            [
             0.2222222222222222,
             "#7201a8"
            ],
            [
             0.3333333333333333,
             "#9c179e"
            ],
            [
             0.4444444444444444,
             "#bd3786"
            ],
            [
             0.5555555555555556,
             "#d8576b"
            ],
            [
             0.6666666666666666,
             "#ed7953"
            ],
            [
             0.7777777777777778,
             "#fb9f3a"
            ],
            [
             0.8888888888888888,
             "#fdca26"
            ],
            [
             1,
             "#f0f921"
            ]
           ]
          },
          "colorway": [
           "#636efa",
           "#EF553B",
           "#00cc96",
           "#ab63fa",
           "#FFA15A",
           "#19d3f3",
           "#FF6692",
           "#B6E880",
           "#FF97FF",
           "#FECB52"
          ],
          "font": {
           "color": "#2a3f5f"
          },
          "geo": {
           "bgcolor": "white",
           "lakecolor": "white",
           "landcolor": "#E5ECF6",
           "showlakes": true,
           "showland": true,
           "subunitcolor": "white"
          },
          "hoverlabel": {
           "align": "left"
          },
          "hovermode": "closest",
          "mapbox": {
           "style": "light"
          },
          "paper_bgcolor": "white",
          "plot_bgcolor": "#E5ECF6",
          "polar": {
           "angularaxis": {
            "gridcolor": "white",
            "linecolor": "white",
            "ticks": ""
           },
           "bgcolor": "#E5ECF6",
           "radialaxis": {
            "gridcolor": "white",
            "linecolor": "white",
            "ticks": ""
           }
          },
          "scene": {
           "xaxis": {
            "backgroundcolor": "#E5ECF6",
            "gridcolor": "white",
            "gridwidth": 2,
            "linecolor": "white",
            "showbackground": true,
            "ticks": "",
            "zerolinecolor": "white"
           },
           "yaxis": {
            "backgroundcolor": "#E5ECF6",
            "gridcolor": "white",
            "gridwidth": 2,
            "linecolor": "white",
            "showbackground": true,
            "ticks": "",
            "zerolinecolor": "white"
           },
           "zaxis": {
            "backgroundcolor": "#E5ECF6",
            "gridcolor": "white",
            "gridwidth": 2,
            "linecolor": "white",
            "showbackground": true,
            "ticks": "",
            "zerolinecolor": "white"
           }
          },
          "shapedefaults": {
           "line": {
            "color": "#2a3f5f"
           }
          },
          "ternary": {
           "aaxis": {
            "gridcolor": "white",
            "linecolor": "white",
            "ticks": ""
           },
           "baxis": {
            "gridcolor": "white",
            "linecolor": "white",
            "ticks": ""
           },
           "bgcolor": "#E5ECF6",
           "caxis": {
            "gridcolor": "white",
            "linecolor": "white",
            "ticks": ""
           }
          },
          "title": {
           "x": 0.05
          },
          "xaxis": {
           "automargin": true,
           "gridcolor": "white",
           "linecolor": "white",
           "ticks": "",
           "title": {
            "standoff": 15
           },
           "zerolinecolor": "white",
           "zerolinewidth": 2
          },
          "yaxis": {
           "automargin": true,
           "gridcolor": "white",
           "linecolor": "white",
           "ticks": "",
           "title": {
            "standoff": 15
           },
           "zerolinecolor": "white",
           "zerolinewidth": 2
          }
         }
        }
       }
      },
      "image/png": "[encoded data removed]",
      "text/html": [
       "<div>                            <div id=\"f4fdbdae-7a4e-4e34-85ed-e62a1816d4e1\" class=\"plotly-graph-div\" style=\"height:1000px; width:100%;\"></div>            <script type=\"text/javascript\">                require([\"plotly\"], function(Plotly) {                    window.PLOTLYENV=window.PLOTLYENV || {};                                    if (document.getElementById(\"f4fdbdae-7a4e-4e34-85ed-e62a1816d4e1\")) {                    Plotly.newPlot(                        \"f4fdbdae-7a4e-4e34-85ed-e62a1816d4e1\",                        [{\"lat\":[3.378530153297292e-12,13.063049082778237,25.357569811305186,35.85366122820404,43.02728475987889,45.113886063084536,41.42416715502627,33.115869826486936,21.9745009535127,9.371837931937193,-3.764946681503675,-16.69308208121771,-28.59709717264689,-38.32279566105951,-44.20792586986194,-44.627801475051534,-39.440588267026094,-30.150216149229223,-18.474965222987954,-5.63811270775548,-3.5005965313365356e-05],\"line\":{\"color\":\"rgba(255, 0, 0, 0.5)\",\"width\":1},\"lon\":[3.3502992636390697e-12,12.079712975000684,25.594882415461683,42.1494118030668,63.06843064926549,87.47495468195314,111.19774062121603,130.81165667567012,146.3288984879253,159.27789725111796,171.21585308162403,-176.44685378837815,-162.23279926925565,-144.5198268419493,-122.35267842664325,-97.63804670826539,-74.89849734929298,-56.56979998122842,-41.95618285435475,-29.44593592221731,-24.351975081443143],\"mode\":\"lines\",\"type\":\"scattergeo\"},{\"lat\":[3.3399822780640096e-12,-1.1527807746192535,-2.114363751936764,-2.97546983056464,-3.792031533580913,-4.60736550372482,-5.463949266886437,-6.414254015475965,-7.5380773731668915,-8.98356938790235,-8.98356938790235,-7.538077373167014,-6.41425401547616,-5.4639492668866785,-4.607365503725081,-3.7920315335811865,-2.975469830564906,-2.1143637519369936,-1.1527807746194074,3.3436921929733316e-12,3.3427892675879045e-12,1.1527807746262158,2.11436375194392,2.9754698305719547,3.7920315335883714,4.607365503732419,5.463949266894204,6.414254015483927,7.5380773731751445,8.98356938791106,8.98356938791106,7.538077373175019,6.414254015483737,5.4639492668939615,4.607365503732151,3.7920315335880947,2.975469830571684,2.114363751943683,1.1527807746260548,3.338830344501555e-12],\"line\":{\"color\":\"rgba(0, 0, 255, 0.5)\",\"width\":1},\"lon\":[-8.915019016543553,-7.484488546931468,-6.373103482459848,-5.433459057986876,-4.586204208211732,-3.7790973074206238,-2.9696631521223784,-2.114228820468095,-1.1557151051241767,3.352234161882466e-12,3.3514892465374036e-12,1.1557151051309797,2.1142288204750015,2.9696631521293937,3.7790973074277585,4.586204208219013,5.433459057994338,6.373103482467544,7.484488546939514,8.915019016552165,8.91501901655217,7.484488546939653,6.373103482467766,5.433459057994609,4.5862042082193195,3.779097307428074,2.969663152129699,2.114228820475265,1.155715105131158,3.347340577001021e-12,3.348663933988787e-12,-1.1557151051243628,-2.1142288204683672,-2.969663152122689,-3.7790973074209417,-4.5862042082120436,-5.4334590579871485,-6.3731034824600705,-7.484488546931609,-8.915019016543553],\"mode\":\"lines\",\"type\":\"scattergeo\"},{\"lat\":[13.147461242820702,12.002972988412113,11.04254572227003,10.178892311105987,9.357340770922873,8.534956653778941,7.669145172715334,6.706871756771643,5.567157074286083,4.099524623796668,4.099524623796668,5.507172147699533,6.596634755406911,7.513717869472251,8.336502263579309,9.115751066708588,9.891799459967201,10.704754237500408,11.604946422124298,12.671555602071942,12.671555602071942,13.90964965085555,14.932901267793712,15.843062398999109,16.701495819474303,17.554706823511648,18.447398638478752,19.433959462255746,20.596343821467475,22.086063929739662,22.086063929739662,20.660591250586286,19.550795328942144,18.610690801448943,17.761575510476387,16.951469564805684,16.137933658896557,15.277165319712052,14.311815586014779,13.147461242820702],\"line\":{\"color\":\"rgba(0, 0, 255, 0.5)\",\"width\":1},\"lon\":[2.9086888662986796,4.38839113343999,5.527538909001749,6.483000178247357,7.33810389475861,8.146680660860058,8.951339539552082,9.794483952108866,10.729737778683235,11.842874579060647,11.842874579060647,13.030528395939724,14.023647444285357,14.915607802745804,15.76411931563358,16.614246354474332,17.510707257907313,18.509409977667975,19.696238676591822,21.23193805376861,21.23193805376861,19.83441964525565,18.74248578109391,17.81452856562043,16.973683687537363,16.168698194505367,15.357128151507583,14.494353353782646,13.520746048289821,12.335909887278453,12.335909887278453,11.064205707599415,10.023647718879198,9.104578942975694,8.242466029504865,7.389506394504015,6.500708286446492,5.522239241890411,4.373909131023257,2.908688866298682],\"mode\":\"lines\",\"type\":\"scattergeo\"},{\"lat\":[26.04353356995534,24.824004464055516,23.80055992759443,22.880625427618654,22.006130734188236,21.131518240273433,20.211716483528402,19.190808434265932,17.983728868234127,16.43301398779631,16.43301398779631,17.739399278246907,18.73963506153259,19.57302366136767,20.313067206451883,21.006374292191097,21.688516685560888,22.39292325983792,23.15879281728805,24.043148101606445,24.043148101606445,25.439484357277994,26.582372549409534,27.591552229463986,28.537695327869194,29.473175209586756,30.447239554122646,31.518747153093727,32.775365131967014,34.37817122356209,34.3781712235621,33.055829345580314,32.0258145740227,31.152498135573452,30.362787561544554,29.60829984685929,28.84933180449845,28.04459622109254,27.139557014086478,26.043533569955336],\"line\":{\"color\":\"rgba(0, 0, 255, 0.5)\",\"width\":1},\"lon\":[15.655776938404001,17.20366432779222,18.37774371431092,19.350046400834135,20.2100654778652,21.01399907454461,21.80458503242348,22.622270258379377,23.51558098732011,24.558390291642947,24.558390291642947,25.915952470271165,27.05419618270968,28.078509459394176,29.05441854970796,30.033394253735565,31.066770701645588,32.218936504581315,33.58892829702402,35.36203395123178,35.36203395123178,34.03121408090875,32.98900979848311,32.10135848194988,31.29527246764287,30.521816240118383,29.74012648051002,28.906805517577375,27.963262361351045,26.809873842347475,26.80987384234748,25.227445494464682,23.95505786929432,22.846179122283978,21.81762023580967,20.810142181884075,19.77025446460137,18.636239128597836,17.31854080836904,15.655776938403994],\"mode\":\"lines\",\"type\":\"scattergeo\"},{\"lat\":[37.799383119432754,36.41111353690869,35.255706385632486,34.22404393111181,33.2489814714677,32.27896363737292,31.26410186217808,30.143664389403938,28.826539665075167,27.145757318076512,27.145757318076512,28.255716380901944,29.085115712339817,29.760246708194238,30.345704232574143,30.88035390602722,31.39127383293224,31.900414256561163,32.42837752240417,32.996076057916184,32.996076057916184,34.60245265210677,35.906596418578175,37.050968732003405,38.118236376850646,39.16853212552072,40.25731653217232,41.449781301275586,42.84190494293818,44.608801919414006,44.60880191941402,43.53987618072676,42.704869393369435,41.99506913687978,41.35164716524424,40.735410249899296,40.11389622157486,39.45296780369115,38.70702012846365,37.799383119432754],\"line\":{\"color\":\"rgba(0, 0, 255, 0.5)\",\"width\":1},\"lon\":[31.106658296523936,32.67875154457207,33.841273785825216,34.78342443708462,35.60040585266311,36.349452020058735,37.07143274377529,37.80187205836442,38.57938646206335,39.45703301876232,39.45703301876232,41.12615639137343,42.520370905736726,43.77067237391075,44.95778961219214,46.144352223911284,47.39189316403738,48.776446323950864,50.413387765867554,52.51577568079413,52.51577568079413,51.397696216198774,50.528867692910026,49.794079747669436,49.13138866756261,48.50004981514248,47.86698846094236,47.19831044493563,46.44998403350042,45.55014025811724,45.55014025811724,43.40356132553951,41.70495214010169,40.24297048385759,38.90114819469478,37.59932792849014,36.2678315267118,34.8290581385483,33.17336895184293,31.106658296523936],\"mode\":\"lines\",\"type\":\"scattergeo\"},{\"lat\":[47.002529477284654,45.36471016429707,44.02485845346738,42.844051567721166,41.740099778784916,40.65243440775719,39.52481123895999,38.29110797919529,36.8545617498698,35.04077203461158,35.04077203461158,35.812419605696306,36.35364775329198,36.76656738169772,37.10010817445525,37.380377328812614,37.62135552336764,37.8282702078203,37.99583285085187,38.09664175081436,38.09664175081436,39.89339445076173,41.341759884767924,42.60534419672582,43.77776932114924,44.92598356571665,46.11052637046463,47.40121855711386,48.899266346049686,50.78702074169349,50.7870207416935,50.21156492565026,49.75722529920173,49.36771851451632,49.01202719420707,48.66903123266956,48.32076902928136,47.947820299612715,47.523602519389314,47.002529477284654],\"line\":{\"color\":\"rgba(0, 0, 255, 0.5)\",\"width\":1},\"lon\":[51.45918795215341,52.80494332900302,53.7542639378462,54.492721895518855,55.108774986181686,55.65197028259865,56.15397483107959,56.63777342587902,57.122207001281815,57.623582096309356,57.623582096309356,59.69530408865277,61.40414043928086,62.91964921125531,64.34356646258323,65.75202875839126,67.21672971789519,68.82268495743797,70.6944647362055,73.055204589627,73.055204589627,72.42813154953502,71.9715085315256,71.60978249592829,71.30566730528226,71.03828143740778,70.79529483873979,70.57035386918876,70.36448729585085,70.19644135691159,70.1964413569116,67.38083289633236,65.15946705875898,63.2527705011429,61.507313127529926,59.81820992407117,58.09511836896626,56.23839437380013,54.10838015331598,51.45918795215341],\"mode\":\"lines\",\"type\":\"scattergeo\"},{\"lat\":[51.50041682381502,49.645181896625985,48.157945768494145,46.86681998012038,45.674453452401536,44.51223768729487,43.3193053421442,42.02689814801512,40.537272416174055,38.67762338343306,38.67762338343305,38.96146491956724,39.10041761188549,39.157214527735604,39.15708619355597,39.10850377863749,39.00905847432421,38.84488466940835,38.583255841976055,38.14865234840656,38.14865234840656,40.00992175256943,41.496341685707975,42.78247024200826,43.9665173730073,45.11702390320992,46.29401780168203,47.56435284800863,49.02179626909196,50.83004278369742,50.83004278369742,50.92614264182376,51.00345891049325,51.07076264696666,51.133053634298335,51.19388028860156,51.25641333751871,51.32425624429079,51.40255216044242,51.50041682381502],\"line\":{\"color\":\"rgba(0, 0, 255, 0.5)\",\"width\":1},\"lon\":[77.60235323316589,78.18138808645702,78.53017722711392,78.75879784802818,78.9140051584109,79.01742704334931,79.07772596876033,79.09394720828132,79.05327228321677,78.9190936055726,78.91909360557258,81.28013594892565,83.18514063147408,84.84315529133286,86.37448750307608,87.86438720719654,89.38805476386548,91.0290848758521,92.90353748660905,95.21053304917966,95.21053304917966,95.27671962473238,95.40376230485722,95.57116978266508,95.77604850793267,96.02528251927629,96.33548711293251,96.73849461237643,97.297132554905,98.15228198056836,98.15228198056836,95.17955814408323,92.80451928098329,90.74542091883545,88.84409527427418,86.9894547255932,85.08275028583724,83.01165082176327,80.61473370245317,77.60235323316586],\"mode\":\"lines\",\"type\":\"scattergeo\"},{\"lat\":[49.575026878457244,47.70739074522362,46.22923037323234,44.9582959481544,43.79393487007947,42.66709683975213,41.51829585305667,40.28216700089381,38.86778153603963,37.11687980816564,37.11687980816564,36.86965325200561,36.58775744363486,36.2840859442236,35.95600831696964,35.59307355859708,35.17710355956083,34.67778460504149,34.04088439770134,33.155928424210806,33.155928424210806,34.93597572795433,36.34114050131546,37.544301695695694,38.640869778279956,39.695521422914766,40.76265520752619,41.90008281132573,43.18522843277042,44.74730537075932,44.74730537075932,45.40397115217085,45.94044452851504,46.41345863768319,46.85633088335014,47.293620362833835,47.74828024249223,48.24757536340531,48.83188894353149,49.575026878457244],\"line\":{\"color\":\"rgba(0, 0, 255, 0.5)\",\"width\":1},\"lon\":[105.2478561912169,104.81539640057142,104.41459216006558,104.03092147534497,103.64897678406274,103.2524466600245,102.82159271347436,102.32854733606216,101.72748005873306,100.92925455186109,100.92925455186109,103.238914279472,105.05884538789049,106.61258541147859,108.02362544822002,109.37520606663709,110.736497581453,112.17985256251833,113.80072192250456,115.75667878579405,115.75667878579405,116.39378572440535,116.98648938181273,117.56350743078299,118.15061861512905,118.77550287277658,119.47367202007625,120.29850010751278,121.34297563024892,122.79861969129219,122.79861969129219,120.32134632336889,118.32896398720946,116.59170334247297,114.97896120359717,113.3974480850722,111.76244352624732,109.97539354914626,107.89182305932442,105.2478561912169],\"mode\":\"lines\",\"type\":\"scattergeo\"},{\"lat\":[41.99658065806349,40.27846624434996,38.92672369634791,37.77033867943715,36.71578161521435,35.69973496332662,34.66857917113766,33.56447897241442,32.30831280368936,30.76431977377028,30.76431977377028,30.09031000614488,29.48191167967164,28.906386385453757,28.33698026257094,27.74790338813624,27.109196577983617,26.37932414326265,25.490569051945325,24.312017714739785,24.312017714739785,25.952533392621856,27.23505157464407,28.32377775433785,29.307994911066157,30.246910517122114,31.188814820778138,32.183190761869696,33.29394531674522,34.62412972065491,34.62412972065491,35.60188790352563,36.406765441318356,37.120806823470375,37.792992987773715,38.46013635237843,39.157391301228024,39.92736024600211,40.83417036650231,41.996580658063486],\"line\":{\"color\":\"rgba(0, 0, 255, 0.5)\",\"width\":1},\"lon\":[128.19791818757577,127.18725143647163,126.35495907472624,125.61637522563682,124.9209121354594,124.23051917425977,123.50883793590492,122.71180392467798,121.77314438082973,120.5704305017642,120.5704305017642,122.57568675494807,124.13199896067715,125.44514823247361,126.62597307619417,127.74709529814352,128.8668989450662,130.04440625925494,131.35525927910987,132.92168046364222,132.92168046364222,133.8624706261666,134.68599104728844,135.45258673611022,136.20447658497,136.97912211499423,137.8183624254646,138.7795593466336,139.9567548292389,141.53476627035138,141.53476627035138,139.6065450292215,138.06608374756104,136.73073702965362,135.49781139012586,134.29511697430155,133.05840634602396,131.71445042336538,130.15769945527467,128.19791818757577],\"mode\":\"lines\",\"type\":\"scattergeo\"},{\"lat\":[31.008771237410077,29.445064877490555,28.22082750854397,27.17833619744509,26.231909716767326,25.32421705982395,24.407532176842558,23.431411380654506,22.328203330076413,20.983947957753738,20.983947957753738,20.03557480621462,19.222243943402518,18.479295480798257,17.763666468744354,17.039590524895385,16.269810181828905,15.406227189923928,14.373678043958284,13.030489650655985,13.030489650655987,14.551733316897511,15.734580618836569,16.7341137268679,17.63397177274889,18.489024693592896,19.34339206775937,20.24155376443205,21.240081793583837,22.429028969182554,22.429028969182554,23.554311339930845,24.4845289682081,25.312286200605865,26.093424521134118,26.87032199382479,27.683816580717266,28.58374736387131,29.645460558703988,31.008771237410077],\"line\":{\"color\":\"rgba(0, 0, 255, 0.5)\",\"width\":1},\"lon\":[145.484983258973,144.30991958882024,143.34822917914764,142.49860150373945,141.70139881479594,140.91240618564635,140.08995197847727,139.18409647974516,138.1203243479896,136.7617571923497,136.7617571923497,138.4544203155262,139.76148498346126,140.8603340877941,141.84566983259455,142.77900908430004,143.7093660606512,144.6858705025309,145.77107081852975,147.0655973395803,147.0655973395803,148.13415677972287,149.04360448541192,149.87182735924674,150.6691154195345,151.47663617479452,152.33716053710066,153.30619054614857,154.47128938101895,155.99960782773636,155.99960782773636,154.4123455490112,153.1586473066378,152.0829189704982,151.09927045805904,150.14898123438093,149.18171259184652,148.14239570012148,146.95457890280963,145.484983258973],\"mode\":\"lines\",\"type\":\"scattergeo\"},{\"lat\":[18.3830503362783,16.912996088529074,15.76734151817016,14.796158338685494,13.918468193831101,13.080692171401253,12.239003987092996,11.348091835401432,10.348557685973175,9.142547590257449,9.142547590257445,8.042889099314568,7.1187450068702,6.286710488237712,5.4943697391875155,4.700393627098039,3.8636020335104964,2.932523473101924,1.8283246019358839,0.404142522227763,0.4041425222277672,1.858941433451344,2.9887094835480132,3.9427265128268907,4.801314526775597,5.617102446242883,6.432413019156473,7.289996469191455,8.244440996467288,9.383197244687409,9.383197244687409,10.551602488701946,11.52167714057627,12.38751069816787,13.20644692740665,14.022421628364135,14.878116960771939,15.825905146889344,16.945148508511807,18.383050336278295],\"line\":{\"color\":\"rgba(0, 0, 255, 0.5)\",\"width\":1},\"lon\":[159.15154636845955,157.9724219524313,157.00127215686163,156.13916811460172,155.3270511133681,154.520486388833,153.6769769193262,152.7449752837854,151.64693782272028,150.23973041932413,150.23973041932413,151.73153478054869,152.88568549718437,153.85785120807694,154.7313275159798,155.56046345008627,156.38888104535584,157.26073071624242,158.23280410793933,159.39737379401907,159.39737379401907,160.52396331753337,161.46656684731158,162.31356001034277,163.11964314847484,163.92760413726876,164.77998152840576,165.73005006605254,166.85976963753956,168.32274884498494,168.32274884498494,166.88255197867448,165.75698338156639,164.80029928549175,163.93334613291634,163.1033236444332,162.26649550156395,161.37687929970647,160.37303423094025,159.15154636845955],\"mode\":\"lines\",\"type\":\"scattergeo\"},{\"lat\":[5.210817097363808,3.7655725718051953,2.642649112773586,1.693777317083097,0.8391471966993631,0.026373286030122352,-0.7868172000692765,-1.6433409095271303,-2.5983325575028333,-3.7407285235356724,-3.7407285235356724,-4.904110439821324,-5.872487560876128,-6.738370153662658,-7.558495185171123,-8.376586819667473,-9.235336636694672,-10.187314945148849,-11.31232995731607,-12.758461527574077,-12.75846152757407,-11.307296961988808,-10.178126300308268,-9.22245235767076,-8.360216566320622,-7.538659354575663,-6.714907431776238,-5.845015769654177,-4.871915168337047,-3.702483380543893,-3.702483380543893,-2.5662321008310665,-1.6160173104303388,-0.7635325066635311,0.046017282271090906,0.8553249733759468,1.7064817322221328,2.651686883830089,3.770508137349775,5.210817097363813],\"line\":{\"color\":\"rgba(0, 0, 255, 0.5)\",\"width\":1},\"lon\":[171.19677523315306,170.05215941873902,169.0997444675819,168.24760263344567,167.4395650549855,166.6323055916978,165.7833444318791,164.84008436374728,163.7222583478054,162.28028008254546,162.28028008254546,163.7059352568746,164.8159593814159,165.75627984294968,166.60570628885716,167.41637205699047,168.2309530544744,169.09368878381966,170.06287288308158,171.23536157736038,171.23536157736038,172.40141589071524,173.36562475518923,174.22416993829336,175.03498556576787,175.8420771726772,176.6879334347705,177.62449909265158,178.73034310197923,-179.8489931902613,-179.8489931902613,178.70429838568802,177.58248673647395,176.63563401524695,175.78324969642216,174.9725591716622,174.16090516358994,173.30473915668972,172.3475509796364,171.19677523315306],\"mode\":\"lines\",\"type\":\"scattergeo\"},{\"lat\":[-7.734565982820863,-9.22005039818473,-10.373941145623688,-11.348298413910856,-12.22499878061375,-13.057672872652148,-13.889380002549744,-14.763482692704802,-15.735113137451254,-16.89209721683323,-16.892097216833225,-18.0460864903986,-19.001650198037034,-19.852956733794567,-20.65702606970692,-21.457290594776477,-22.295734479903718,-23.223701699905497,-24.31888131516327,-25.725402448194913,-25.725402448194917,-24.21030331803449,-23.026571751284827,-22.020595932937802,-21.109149842668412,-20.236824051337248,-19.357846034196108,-18.424294792758104,-17.372521100705992,-16.09629784851669,-16.096297848516688,-15.07046004213185,-14.200067476289874,-13.411026011071597,-12.655535946069485,-11.89499163696399,-11.090112345278058,-10.191037371563818,-9.120663480047943,-7.734565982820863],\"line\":{\"color\":\"rgba(0, 0, 255, 0.5)\",\"width\":1},\"lon\":[-176.8455278366025,-177.94325964412388,-178.86990082618303,-179.70835642371634,179.48894574669464,178.68003178130843,177.8222121242839,176.86102469250235,175.7115761764586,174.2132463923882,174.2132463923882,175.71661096231782,176.89837031524493,177.90802682399115,178.8274945707204,179.71214560890343,-179.39129060365588,-178.4326020821947,-177.34325933177226,-176.00564026268341,-176.00564026268341,-174.81934274459257,-173.84645387110143,-172.9855982491837,-172.17682884184424,-171.37549139491907,-170.53930288070754,-169.61739646148303,-168.53368123280515,-167.14818935406944,-167.14818935406944,-168.73873578172993,-169.96711888584653,-171.00010899993475,-171.92673361390897,-172.8048586163163,-173.6806570113295,-174.60051410892663,-175.62363690264047,-176.8455278366025],\"mode\":\"lines\",\"type\":\"scattergeo\"},{\"lat\":[-19.705333965961174,-21.289538233491953,-22.524478890167206,-23.570223130850888,-24.513431136735857,-25.41123033266971,-26.309838972722066,-27.256170528535765,-28.310257753583087,-29.568111595988718,-29.568111595988718,-30.62535441751738,-31.497374579081303,-32.272117049639135,-33.002327751195345,-33.7278350016321,-34.48684856456577,-35.32584901983135,-36.31498293149484,-37.58436565148748,-37.58436565148748,-35.93782189081915,-34.645098160565055,-33.54134061711191,-32.5366555922993,-31.5704867045664,-30.591914702666124,-29.54646858216597,-28.36021921730601,-26.90723232755919,-26.907232327559186,-26.09795904944264,-25.38804056005507,-24.729259158877227,-24.08690057815264,-23.430269411817857,-22.725784407680056,-21.928616741900303,-20.967271940064226,-19.705333965961174],\"line\":{\"color\":\"rgba(0, 0, 255, 0.5)\",\"width\":1},\"lon\":[-163.6386377373198,-164.6483409585616,-165.51985119204699,-166.32231546373797,-167.10211807777054,-167.89875954839593,-168.75480292661783,-169.72706541083994,-170.9069863270436,-172.47174467757193,-172.4717446775719,-170.71641195990682,-169.3207185582743,-168.11599073094632,-167.00812456211796,-165.93173850197803,-164.82954132902913,-163.63731324733155,-162.26386400611804,-160.5469703331316,-160.5469703331316,-159.4323083328873,-158.51966732643626,-157.71314183746605,-156.95621401339744,-156.2069380140441,-155.42574027508294,-154.56515131307796,-153.55428217180972,-152.26279630656816,-152.26279630656816,-154.1246700098987,-155.565024181712,-156.77741607788593,-157.8655278916136,-158.89690757214854,-159.92552018745326,-161.0055782020205,-162.2061974269998,-163.63863773731984],\"mode\":\"lines\",\"type\":\"scattergeo\"},{\"lat\":[-29.751499257481306,-31.473152875257124,-32.82597860600388,-33.97956206123557,-35.02682612926334,-36.03008809865517,-37.0409770069174,-38.11338963233328,-39.31823203509783,-40.77183691390081,-40.77183691390081,-41.59310862871217,-42.26673203410855,-42.86262398273306,-43.42219040741092,-43.97626803273818,-44.554017115703,-45.19046401856474,-45.93796749557335,-46.89296342417423,-46.892963424174226,-45.080032325193194,-43.64939114893891,-42.42226957499808,-41.300439723379654,-40.21694519619311,-39.11455700716937,-37.930905427152155,-36.57984599397876,-34.912321685346654,-34.91232168534666,-34.46389367733319,-34.0268633700062,-33.59322623532451,-33.149169997298415,-32.67703658205218,-32.15301968664729,-31.541342464695425,-30.781088672782086,-29.751499257481306],\"line\":{\"color\":\"rgba(0, 0, 255, 0.5)\",\"width\":1},\"lon\":[-147.89028765422714,-148.68733583775062,-149.40427657926804,-150.08554190641132,-150.765329870281,-151.4766114808681,-152.25871303419976,-153.16808292147397,-154.30018424830422,-155.8471812646508,-155.8471812646508,-153.62498091763408,-151.840784458853,-150.2873204421772,-148.84708585108126,-147.43646664052508,-145.97987362247844,-144.38974861030115,-142.53813494070693,-140.1917691564904,-140.1917691564904,-139.4442998286362,-138.81007150416343,-138.2354986112881,-137.68576204422968,-137.1326924931709,-136.54762372183222,-135.8941428261953,-135.11581400721496,-134.10644598921553,-134.10644598921553,-136.30111460144462,-138.01694278170604,-139.47282744456012,-140.78812166580212,-142.0420796745844,-143.2994081289538,-144.62656892254546,-146.10989647532588,-147.89028765422717],\"mode\":\"lines\",\"type\":\"scattergeo\"},{\"lat\":[-36.575017052985785,-38.41538518486343,-39.8779079408548,-41.13775469550128,-42.29265681789855,-43.4099638732119,-44.547641576161254,-45.76897190476602,-47.1609954706961,-48.87278568375598,-48.87278568375598,-49.23736866137929,-49.53293113100499,-49.79185360269103,-50.03286166995022,-50.26949107537775,-50.51410439257722,-50.78105967868837,-51.091226032553955,-51.48214550327144,-51.48214550327144,-49.59223354778541,-48.0873423968438,-46.78739643318862,-45.59178655069528,-44.430604662795886,-43.242755101702706,-41.96016502892847,-40.48707261914738,-38.6554042550285,-38.6554042550285,-38.70726466606748,-38.66026883392503,-38.5563189878584,-38.40876550847027,-38.21781654944554,-37.97397848804269,-37.65577474780016,-37.22027044345997,-36.575017052985785],\"line\":{\"color\":\"rgba(0, 0, 255, 0.5)\",\"width\":1},\"lon\":[-128.72340259341888,-129.06562932326437,-129.42082967776267,-129.79144735198048,-130.18831825633703,-130.62871002756535,-131.13921182463702,-131.7637449800099,-132.58315008916162,-133.77077297972627,-133.77077297972627,-130.96469808432283,-128.71220744603104,-126.75152445164973,-124.93442664167416,-123.15561557652555,-121.32015298064478,-119.3184682374622,-116.99113633941674,-114.04909238419084,-114.04909238419084,-114.1754822062344,-114.18692203937765,-114.13897721120144,-114.05092387276525,-113.92747736990991,-113.76453994745279,-113.54897908536871,-113.25296024302928,-112.81591327441356,-112.81591327441356,-115.20021188110424,-117.10356098715233,-118.7456148212966,-120.25043592471461,-121.70389648851918,-123.17964360328513,-124.75724746149842,-126.54458272748305,-128.72340259341888],\"mode\":\"lines\",\"type\":\"scattergeo\"},{\"lat\":[-38.77208952070991,-40.6164572865695,-42.09789938179791,-43.38633873666372,-44.578366951208075,-45.74242236264683,-46.93966862822642,-48.23977272818201,-49.74257181017298,-51.626039592545624,-51.626039592545624,-51.331495644187925,-51.097168240139034,-50.89504999049085,-50.709497638773016,-50.52968621980366,-50.34623084770004,-50.14878422612142,-49.92294776032696,-49.64370908766032,-49.64370908766032,-47.89721350225713,-46.481234526024295,-45.24165770751389,-44.08908545967956,-42.95895521085679,-41.79252875992307,-40.521960150106224,-39.04921562678924,-37.1990766618681,-37.19907666186808,-37.77676871594014,-38.156190621696666,-38.4244764229618,-38.621318223021106,-38.7657392075389,-38.86491075627721,-38.91587293724255,-38.901267266135285,-38.77208952070991],\"line\":{\"color\":\"rgba(0, 0, 255, 0.5)\",\"width\":1},\"lon\":[-106.88705310298764,-106.54954983458896,-106.33760461562733,-106.19849520443194,-106.10932734593555,-106.0610032394817,-106.0536890750512,-106.09780027850617,-106.2219514194656,-106.50040656228438,-106.50040656228438,-103.517749285507,-101.15408822418223,-99.1183359330291,-97.24943634639729,-95.43628774979118,-93.5822174190339,-91.57956371730016,-89.27628381522818,-86.40321147292866,-86.40321147292866,-87.49264072778445,-88.23371832098404,-88.79093361613434,-89.24002173232252,-89.62136356032657,-89.95853293001525,-90.2655669716421,-90.5489372297871,-90.80369654613355,-90.80369654613354,-93.03040579670082,-94.85150528184485,-96.45473535308552,-97.95087599547158,-99.42101244500701,-100.93950585474624,-102.59227847067437,-104.5025295327489,-106.88705310298764],\"mode\":\"lines\",\"type\":\"scattergeo\"},{\"lat\":[-35.73921957068668,-37.435960619248256,-38.80933582806742,-40.01158535329083,-41.13052137510061,-42.22957320558966,-43.366789572790196,-44.609919081894,-46.05815926003534,-47.89177977793932,-47.89177977793932,-47.00178056150475,-46.304253248999146,-45.70974601597238,-45.16958587535775,-44.65112670703288,-44.127102540924845,-43.56858125456162,-42.93659623081753,-42.16518316446577,-42.16518316446577,-40.67663471206642,-39.44568161304231,-38.35196627295034,-37.32252043358139,-36.302190138560015,-35.23843821005056,-34.068150889635845,-32.69753460584461,-30.95580284635976,-30.95580284635976,-31.940564703683044,-32.66243822997396,-33.23904068672248,-33.729225974506136,-34.1670652847771,-34.57458606227707,-34.967143982243094,-35.354948319687914,-35.73921957068668],\"line\":{\"color\":\"rgba(0, 0, 255, 0.5)\",\"width\":1},\"lon\":[-85.29623190326794,-84.35070919748553,-83.62581759499012,-83.02057349955963,-82.48175806315606,-81.97552787763483,-81.47587636818513,-80.9581391264575,-80.39320109327849,-79.73890206116647,-79.73890206116647,-77.29131730947407,-75.36148308614341,-73.70538789223936,-72.1893587195586,-70.72209340586092,-69.22495242175202,-67.61115253251931,-65.75896989022094,-63.45397070482066,-63.45397070482067,-64.9788275480801,-66.08811834927903,-66.97463579916686,-67.73347855749094,-68.42036664618237,-69.07358250671501,-69.72454871036611,-70.40491370359153,-71.1542616714844,-71.1542616714844,-72.99244323685424,-74.52150117732208,-75.88766183510062,-77.1802180742926,-78.46759160074242,-79.81603524568703,-81.30627061204657,-83.05931455477136,-85.29623190326797],\"mode\":\"lines\",\"type\":\"scattergeo\"},{\"lat\":[-28.253309409720938,-29.735950067259697,-30.944955955640456,-32.00947618772241,-33.00513611054604,-33.98750393723362,-35.00837809043365,-36.12921281376934,-37.44108398708608,-39.110851971084266,-39.11085197108425,-37.87308623248186,-36.90831318035566,-36.089749580081836,-35.34902033877137,-34.64078736199685,-33.927740051863836,-33.17093462813987,-32.3187230291964,-31.28486615442233,-31.28486615442233,-30.004929489435312,-28.933399601039735,-27.972183965743096,-27.060087836133096,-26.1494146084092,-25.193302274818933,-24.133963611143447,-22.883890696761274,-21.28165861175455,-21.281658611754544,-22.51822331061557,-23.45742939381012,-24.23403142335362,-24.918376253434836,-25.554284736907004,-26.174221264279534,-26.807359348157494,-27.485931618376977,-28.253309409720938],\"line\":{\"color\":\"rgba(0, 0, 255, 0.5)\",\"width\":1},\"lon\":[-66.63702130392313,-65.3706308957015,-64.38001848758543,-63.53713489146012,-62.77240824040536,-62.03932082993542,-61.29917486599595,-60.51105838140823,-59.61999339973227,-58.532939187467484,-58.53293918746749,-56.740631182757554,-55.31038020722186,-54.07121340112692,-52.927467225816606,-51.81212549771112,-50.66574904139233,-49.420867647300796,-47.980759680912264,-46.17251825617803,-46.17251825617803,-47.74377912277313,-48.92470644817138,-49.895076147533075,-50.74726105493618,-51.53832758146732,-52.31067264078559,-53.10321347652861,-53.961090386141635,-54.95077244639267,-54.95077244639267,-56.42497031183989,-57.66012640584846,-58.77085829690194,-59.828302561670995,-60.88818358753944,-62.005881998026815,-63.25060384049335,-64.72841468005993,-66.63702130392313],\"mode\":\"lines\",\"type\":\"scattergeo\"},{\"lat\":[-17.75890195298766,-19.056356030647724,-20.12411938452215,-21.070860701675265,-21.961486866471983,-22.844706460255548,-23.766896410720392,-24.784054432814393,-25.980151388622158,-27.510040252227107,-27.510040252227107,-26.115757605362244,-25.030052063768586,-24.11000437328497,-23.27858471363526,-22.48487014815593,-21.687191687960944,-20.842397366936044,-19.893763781629733,-18.74747938669694,-18.74747938669694,-17.58165445050262,-16.6024370848456,-15.721456094736652,-14.883202866603751,-14.044007543697193,-13.160506581742192,-12.178702187099038,-11.016184649868082,-9.519969225532337,-9.51996922553233,-10.893280532006937,-11.952362974429288,-12.840821955145717,-13.635182037938582,-14.384774989606866,-15.128270314704938,-15.903411237992861,-16.75655277437726,-17.75890195298766],\"line\":{\"color\":\"rgba(0, 0, 255, 0.5)\",\"width\":1},\"lon\":[-51.338514220796974,-49.960502794472006,-48.882167679300636,-47.96445883139832,-47.131738828032546,-46.333391341403804,-45.5272761171125,-44.668805458041206,-43.69800773944106,-42.513280941461986,-42.513280941461986,-41.13638122469775,-40.01780545743338,-39.03524453774654,-38.117803793138485,-37.21382909573484,-36.275529694136594,-35.246563316158515,-34.0438846100723,-32.51629164542759,-32.51629164542759,-34.02444732711347,-35.1791857628519,-36.143183805911775,-37.00218411204555,-37.81098637909584,-38.6123167517037,-39.447907828519,-40.369529963063776,-41.45852808004378,-41.45852808004378,-42.70172546332352,-43.74321098964658,-44.67993262626659,-45.57206214445874,-46.46679631831683,-47.411166714767056,-48.4641615934006,-49.71657498025084,-51.338514220796995],\"mode\":\"lines\",\"type\":\"scattergeo\"},{\"lat\":[-5.530010505258679,-6.7100751494583575,-7.69075530374229,-8.566598488723436,-9.395366272533275,-10.221402150427283,-11.087848570775941,-12.047685847039755,-13.181207374780282,-14.63726338554458,-14.637263385544578,-13.192592498389947,-12.068455541008165,-11.116953163561883,-10.258360232290604,-9.440124274682667,-8.619511921788034,-7.752675179816232,-6.7825959975686345,-5.616094114173285,-5.6160941141732845,-4.476512013401314,-3.5229536173903226,-2.6671378381764574,-1.8541994004380065,-1.0413351533107746,-0.18630320828359234,0.763313820494932,1.8874317164872,3.3345480256304176,3.3345480256304176,1.8984879455458985,0.7835742236791092,-0.15780574879921389,-1.0050267616876611,-1.8100889018661117,-2.6148252901002356,-3.461533902963291,-4.40431115792046,-5.530010505258679],\"line\":{\"color\":\"rgba(0, 0, 255, 0.5)\",\"width\":1},\"lon\":[-38.40590774564614,-36.98978473879713,-35.88651852784122,-34.951406754880544,-34.10623432456315,-33.29919067857281,-32.48777929825322,-31.62783898528734,-30.66103563213204,-29.490219411183997,-29.490219411183993,-28.304718126778827,-27.326566671531854,-26.45707088603313,-25.637074424924496,-24.821881243316454,-23.968566665760555,-23.024888251580812,-21.91207833364178,-20.484544863574918,-20.484544863574907,-21.932971461460802,-23.054443465863457,-23.999778238302177,-24.849760638033167,-25.65719289483735,-26.464567164405757,-27.315033314034846,-28.264286606695833,-29.40311060510601,-29.40311060510601,-30.55569026873144,-31.51560762390754,-32.37506591430338,-33.19052099600068,-34.00561832830116,-34.8632451609434,-35.81659769194483,-36.94695511816081,-38.40590774564614],\"mode\":\"lines\",\"type\":\"scattergeo\"},{\"lat\":[-2.955360014872126e-05,-1.1528112585266992,-2.114394946902867,-2.9755016187029537,-3.7920638503154755,-4.607398318573975,-5.463982576099329,-6.414287841746595,-7.538111772712614,-8.983604471434974,-8.983604471434973,-7.53811308861628,-6.4142902479322474,-5.463985954428716,-4.607402615902131,-3.792069063043045,-2.97550779119526,-2.1144021822265224,-1.1528197484765028,-3.965394694796684e-05,-3.965394695054509e-05,1.152741799635406,2.1143253197447716,2.9754318674142044,3.7919940010438924,4.60732838791642,5.463912575094267,6.414217778003125,7.538041651629239,8.983534296531374,8.983534296531374,7.538042967728162,6.414220184477246,5.463915953755413,4.607332685589544,3.7919992141073737,2.975438040212653,2.1143325553201735,1.15275028974577,-2.9553600148486408e-05],\"line\":{\"color\":\"rgba(0, 0, 255, 0.5)\",\"width\":1},\"lon\":[-33.26699409456126,-31.836464364643252,-30.72507989379789,-29.785435984403616,-28.938181609677226,-28.131075171070766,-27.321641489094393,-26.46620766882662,-25.507694540939756,-24.35198016610761,-24.351980166107612,-23.196264132087183,-22.2377497199169,-21.382314817411864,-20.572880162911037,-19.765772801363404,-18.918517505216,-17.978872627672054,-16.86748708073018,-15.436956069436569,-15.436956069436569,-16.867485995235675,-17.9788705759508,-18.918514546453217,-19.765768949152363,-20.572875388579142,-21.382309044095855,-22.237742804286597,-23.196255822070526,-24.351969997274246,-24.35196999727425,-25.507685831596117,-26.46620013366237,-27.321634976128976,-28.131069604239197,-28.93817696670658,-29.785432290963907,-30.72507722980857,-31.836462886907352,-33.26699409456126],\"mode\":\"lines\",\"type\":\"scattergeo\"}],                        {\"geo\":{\"countrycolor\":\"rgb(204, 204, 204)\",\"landcolor\":\"rgb(243, 243, 243)\",\"lataxis\":{\"gridcolor\":\"rgb(102, 102, 102)\",\"gridwidth\":0.1,\"showgrid\":true},\"lonaxis\":{\"gridcolor\":\"rgb(102, 102, 102)\",\"gridwidth\":0.1,\"showgrid\":true},\"showland\":true},\"height\":1000,\"showlegend\":false,\"template\":{\"data\":{\"bar\":[{\"error_x\":{\"color\":\"#2a3f5f\"},\"error_y\":{\"color\":\"#2a3f5f\"},\"marker\":{\"line\":{\"color\":\"#E5ECF6\",\"width\":0.5},\"pattern\":{\"fillmode\":\"overlay\",\"size\":10,\"solidity\":0.2}},\"type\":\"bar\"}],\"barpolar\":[{\"marker\":{\"line\":{\"color\":\"#E5ECF6\",\"width\":0.5},\"pattern\":{\"fillmode\":\"overlay\",\"size\":10,\"solidity\":0.2}},\"type\":\"barpolar\"}],\"carpet\":[{\"aaxis\":{\"endlinecolor\":\"#2a3f5f\",\"gridcolor\":\"white\",\"linecolor\":\"white\",\"minorgridcolor\":\"white\",\"startlinecolor\":\"#2a3f5f\"},\"baxis\":{\"endlinecolor\":\"#2a3f5f\",\"gridcolor\":\"white\",\"linecolor\":\"white\",\"minorgridcolor\":\"white\",\"startlinecolor\":\"#2a3f5f\"},\"type\":\"carpet\"}],\"choropleth\":[{\"colorbar\":{\"outlinewidth\":0,\"ticks\":\"\"},\"type\":\"choropleth\"}],\"contour\":[{\"colorbar\":{\"outlinewidth\":0,\"ticks\":\"\"},\"colorscale\":[[0.0,\"#0d0887\"],[0.1111111111111111,\"#46039f\"],[0.2222222222222222,\"#7201a8\"],[0.3333333333333333,\"#9c179e\"],[0.4444444444444444,\"#bd3786\"],[0.5555555555555556,\"#d8576b\"],[0.6666666666666666,\"#ed7953\"],[0.7777777777777778,\"#fb9f3a\"],[0.8888888888888888,\"#fdca26\"],[1.0,\"#f0f921\"]],\"type\":\"contour\"}],\"contourcarpet\":[{\"colorbar\":{\"outlinewidth\":0,\"ticks\":\"\"},\"type\":\"contourcarpet\"}],\"heatmap\":[{\"colorbar\":{\"outlinewidth\":0,\"ticks\":\"\"},\"colorscale\":[[0.0,\"#0d0887\"],[0.1111111111111111,\"#46039f\"],[0.2222222222222222,\"#7201a8\"],[0.3333333333333333,\"#9c179e\"],[0.4444444444444444,\"#bd3786\"],[0.5555555555555556,\"#d8576b\"],[0.6666666666666666,\"#ed7953\"],[0.7777777777777778,\"#fb9f3a\"],[0.8888888888888888,\"#fdca26\"],[1.0,\"#f0f921\"]],\"type\":\"heatmap\"}],\"heatmapgl\":[{\"colorbar\":{\"outlinewidth\":0,\"ticks\":\"\"},\"colorscale\":[[0.0,\"#0d0887\"],[0.1111111111111111,\"#46039f\"],[0.2222222222222222,\"#7201a8\"],[0.3333333333333333,\"#9c179e\"],[0.4444444444444444,\"#bd3786\"],[0.5555555555555556,\"#d8576b\"],[0.6666666666666666,\"#ed7953\"],[0.7777777777777778,\"#fb9f3a\"],[0.8888888888888888,\"#fdca26\"],[1.0,\"#f0f921\"]],\"type\":\"heatmapgl\"}],\"histogram\":[{\"marker\":{\"pattern\":{\"fillmode\":\"overlay\",\"size\":10,\"solidity\":0.2}},\"type\":\"histogram\"}],\"histogram2d\":[{\"colorbar\":{\"outlinewidth\":0,\"ticks\":\"\"},\"colorscale\":[[0.0,\"#0d0887\"],[0.1111111111111111,\"#46039f\"],[0.2222222222222222,\"#7201a8\"],[0.3333333333333333,\"#9c179e\"],[0.4444444444444444,\"#bd3786\"],[0.5555555555555556,\"#d8576b\"],[0.6666666666666666,\"#ed7953\"],[0.7777777777777778,\"#fb9f3a\"],[0.8888888888888888,\"#fdca26\"],[1.0,\"#f0f921\"]],\"type\":\"histogram2d\"}],\"histogram2dcontour\":[{\"colorbar\":{\"outlinewidth\":0,\"ticks\":\"\"},\"colorscale\":[[0.0,\"#0d0887\"],[0.1111111111111111,\"#46039f\"],[0.2222222222222222,\"#7201a8\"],[0.3333333333333333,\"#9c179e\"],[0.4444444444444444,\"#bd3786\"],[0.5555555555555556,\"#d8576b\"],[0.6666666666666666,\"#ed7953\"],[0.7777777777777778,\"#fb9f3a\"],[0.8888888888888888,\"#fdca26\"],[1.0,\"#f0f921\"]],\"type\":\"histogram2dcontour\"}],\"mesh3d\":[{\"colorbar\":{\"outlinewidth\":0,\"ticks\":\"\"},\"type\":\"mesh3d\"}],\"parcoords\":[{\"line\":{\"colorbar\":{\"outlinewidth\":0,\"ticks\":\"\"}},\"type\":\"parcoords\"}],\"pie\":[{\"automargin\":true,\"type\":\"pie\"}],\"scatter\":[{\"marker\":{\"colorbar\":{\"outlinewidth\":0,\"ticks\":\"\"}},\"type\":\"scatter\"}],\"scatter3d\":[{\"line\":{\"colorbar\":{\"outlinewidth\":0,\"ticks\":\"\"}},\"marker\":{\"colorbar\":{\"outlinewidth\":0,\"ticks\":\"\"}},\"type\":\"scatter3d\"}],\"scattercarpet\":[{\"marker\":{\"colorbar\":{\"outlinewidth\":0,\"ticks\":\"\"}},\"type\":\"scattercarpet\"}],\"scattergeo\":[{\"marker\":{\"colorbar\":{\"outlinewidth\":0,\"ticks\":\"\"}},\"type\":\"scattergeo\"}],\"scattergl\":[{\"marker\":{\"colorbar\":{\"outlinewidth\":0,\"ticks\":\"\"}},\"type\":\"scattergl\"}],\"scattermapbox\":[{\"marker\":{\"colorbar\":{\"outlinewidth\":0,\"ticks\":\"\"}},\"type\":\"scattermapbox\"}],\"scatterpolar\":[{\"marker\":{\"colorbar\":{\"outlinewidth\":0,\"ticks\":\"\"}},\"type\":\"scatterpolar\"}],\"scatterpolargl\":[{\"marker\":{\"colorbar\":{\"outlinewidth\":0,\"ticks\":\"\"}},\"type\":\"scatterpolargl\"}],\"scatterternary\":[{\"marker\":{\"colorbar\":{\"outlinewidth\":0,\"ticks\":\"\"}},\"type\":\"scatterternary\"}],\"surface\":[{\"colorbar\":{\"outlinewidth\":0,\"ticks\":\"\"},\"colorscale\":[[0.0,\"#0d0887\"],[0.1111111111111111,\"#46039f\"],[0.2222222222222222,\"#7201a8\"],[0.3333333333333333,\"#9c179e\"],[0.4444444444444444,\"#bd3786\"],[0.5555555555555556,\"#d8576b\"],[0.6666666666666666,\"#ed7953\"],[0.7777777777777778,\"#fb9f3a\"],[0.8888888888888888,\"#fdca26\"],[1.0,\"#f0f921\"]],\"type\":\"surface\"}],\"table\":[{\"cells\":{\"fill\":{\"color\":\"#EBF0F8\"},\"line\":{\"color\":\"white\"}},\"header\":{\"fill\":{\"color\":\"#C8D4E3\"},\"line\":{\"color\":\"white\"}},\"type\":\"table\"}]},\"layout\":{\"annotationdefaults\":{\"arrowcolor\":\"#2a3f5f\",\"arrowhead\":0,\"arrowwidth\":1},\"autotypenumbers\":\"strict\",\"coloraxis\":{\"colorbar\":{\"outlinewidth\":0,\"ticks\":\"\"}},\"colorscale\":{\"diverging\":[[0,\"#8e0152\"],[0.1,\"#c51b7d\"],[0.2,\"#de77ae\"],[0.3,\"#f1b6da\"],[0.4,\"#fde0ef\"],[0.5,\"#f7f7f7\"],[0.6,\"#e6f5d0\"],[0.7,\"#b8e186\"],[0.8,\"#7fbc41\"],[0.9,\"#4d9221\"],[1,\"#276419\"]],\"sequential\":[[0.0,\"#0d0887\"],[0.1111111111111111,\"#46039f\"],[0.2222222222222222,\"#7201a8\"],[0.3333333333333333,\"#9c179e\"],[0.4444444444444444,\"#bd3786\"],[0.5555555555555556,\"#d8576b\"],[0.6666666666666666,\"#ed7953\"],[0.7777777777777778,\"#fb9f3a\"],[0.8888888888888888,\"#fdca26\"],[1.0,\"#f0f921\"]],\"sequentialminus\":[[0.0,\"#0d0887\"],[0.1111111111111111,\"#46039f\"],[0.2222222222222222,\"#7201a8\"],[0.3333333333333333,\"#9c179e\"],[0.4444444444444444,\"#bd3786\"],[0.5555555555555556,\"#d8576b\"],[0.6666666666666666,\"#ed7953\"],[0.7777777777777778,\"#fb9f3a\"],[0.8888888888888888,\"#fdca26\"],[1.0,\"#f0f921\"]]},\"colorway\":[\"#636efa\",\"#EF553B\",\"#00cc96\",\"#ab63fa\",\"#FFA15A\",\"#19d3f3\",\"#FF6692\",\"#B6E880\",\"#FF97FF\",\"#FECB52\"],\"font\":{\"color\":\"#2a3f5f\"},\"geo\":{\"bgcolor\":\"white\",\"lakecolor\":\"white\",\"landcolor\":\"#E5ECF6\",\"showlakes\":true,\"showland\":true,\"subunitcolor\":\"white\"},\"hoverlabel\":{\"align\":\"left\"},\"hovermode\":\"closest\",\"mapbox\":{\"style\":\"light\"},\"paper_bgcolor\":\"white\",\"plot_bgcolor\":\"#E5ECF6\",\"polar\":{\"angularaxis\":{\"gridcolor\":\"white\",\"linecolor\":\"white\",\"ticks\":\"\"},\"bgcolor\":\"#E5ECF6\",\"radialaxis\":{\"gridcolor\":\"white\",\"linecolor\":\"white\",\"ticks\":\"\"}},\"scene\":{\"xaxis\":{\"backgroundcolor\":\"#E5ECF6\",\"gridcolor\":\"white\",\"gridwidth\":2,\"linecolor\":\"white\",\"showbackground\":true,\"ticks\":\"\",\"zerolinecolor\":\"white\"},\"yaxis\":{\"backgroundcolor\":\"#E5ECF6\",\"gridcolor\":\"white\",\"gridwidth\":2,\"linecolor\":\"white\",\"showbackground\":true,\"ticks\":\"\",\"zerolinecolor\":\"white\"},\"zaxis\":{\"backgroundcolor\":\"#E5ECF6\",\"gridcolor\":\"white\",\"gridwidth\":2,\"linecolor\":\"white\",\"showbackground\":true,\"ticks\":\"\",\"zerolinecolor\":\"white\"}},\"shapedefaults\":{\"line\":{\"color\":\"#2a3f5f\"}},\"ternary\":{\"aaxis\":{\"gridcolor\":\"white\",\"linecolor\":\"white\",\"ticks\":\"\"},\"baxis\":{\"gridcolor\":\"white\",\"linecolor\":\"white\",\"ticks\":\"\"},\"bgcolor\":\"#E5ECF6\",\"caxis\":{\"gridcolor\":\"white\",\"linecolor\":\"white\",\"ticks\":\"\"}},\"title\":{\"x\":0.05},\"xaxis\":{\"automargin\":true,\"gridcolor\":\"white\",\"linecolor\":\"white\",\"ticks\":\"\",\"title\":{\"standoff\":15},\"zerolinecolor\":\"white\",\"zerolinewidth\":2},\"yaxis\":{\"automargin\":true,\"gridcolor\":\"white\",\"linecolor\":\"white\",\"ticks\":\"\",\"title\":{\"standoff\":15},\"zerolinecolor\":\"white\",\"zerolinewidth\":2}}}},                        {\"responsive\": true}                    ).then(function(){\n",
       "                            \n",
       "var gd = document.getElementById('f4fdbdae-7a4e-4e34-85ed-e62a1816d4e1');\n",
       "var x = new MutationObserver(function (mutations, observer) {{\n",
       "        var display = window.getComputedStyle(gd).display;\n",
       "        if (!display || display === 'none') {{\n",
       "            console.log([gd, 'removed!']);\n",
       "            Plotly.purge(gd);\n",
       "            observer.disconnect();\n",
       "        }}\n",
       "}});\n",
       "\n",
       "// Listen for the removal of the full notebook cells\n",
       "var notebookContainer = gd.closest('#notebook-container');\n",
       "if (notebookContainer) {{\n",
       "    x.observe(notebookContainer, {childList: true});\n",
       "}}\n",
       "\n",
       "// Listen for the clearing of the current output cell\n",
       "var outputEl = gd.closest('.output');\n",
       "if (outputEl) {{\n",
       "    x.observe(outputEl, {childList: true});\n",
       "}}\n",
       "\n",
       "                        })                };                });            </script>        </div>"
      ]
     },
     "metadata": {},
     "output_type": "display_data"
    }
   ],
   "source": [
    "data = []\n",
    "\n",
    "data.append(\n",
    "    go.Scattergeo(\n",
    "        lon = ground_track_df['Longitude'],\n",
    "        lat = ground_track_df['Latitude'],\n",
    "        mode = 'lines',\n",
    "        line = dict(\n",
    "            width = 1,\n",
    "            color = 'rgba(255, 0, 0, 0.5)',\n",
    "        )\n",
    "    )\n",
    ")\n",
    "\n",
    "for intersection_df in intersection_dfs:\n",
    "\n",
    "    data.append(\n",
    "        go.Scattergeo(\n",
    "            lon = intersection_df['Longitude'],\n",
    "            lat = intersection_df['Latitude'],\n",
    "            mode = 'lines',\n",
    "            line = dict(\n",
    "                width = 1,\n",
    "                color = 'rgba(0, 0, 255, 0.5)',\n",
    "            )\n",
    "        )\n",
    "    )\n",
    "    \n",
    "figure = go.Figure(\n",
    "    data = data,\n",
    "    layout = go.Layout(\n",
    "        title = None,\n",
    "        showlegend = False,\n",
    "        height=1000,\n",
    "        geo = go.layout.Geo(\n",
    "            showland = True,\n",
    "            landcolor = 'rgb(243, 243, 243)',\n",
    "            countrycolor = 'rgb(204, 204, 204)',\n",
    "            lonaxis = dict( \n",
    "                showgrid = True,\n",
    "                gridcolor = 'rgb(102, 102, 102)',\n",
    "                gridwidth = 0.1\n",
    "            ),\n",
    "            lataxis = dict( \n",
    "                showgrid = True,\n",
    "                gridcolor = 'rgb(102, 102, 102)',\n",
    "                gridwidth = 0.1\n",
    "            )\n",
    "        )\n",
    "    )\n",
    ")\n",
    "\n",
    "figure.show()"
   ]
  },
  {
   "cell_type": "markdown",
   "metadata": {},
   "source": [
    "3D plot:"
   ]
  },
  {
   "cell_type": "code",
   "execution_count": 116,
   "metadata": {
    "tags": []
   },
   "outputs": [
    {
     "data": {
      "application/vnd.plotly.v1+json": {
       "config": {
        "plotlyServerURL": "https://plot.ly"
       },
       "data": [
        {
         "lat": [
          3.378530153297292e-12,
          13.063049082778237,
          25.357569811305186,
          35.85366122820404,
          43.02728475987889,
          45.113886063084536,
          41.42416715502627,
          33.115869826486936,
          21.9745009535127,
          9.371837931937193,
          -3.764946681503675,
          -16.69308208121771,
          -28.59709717264689,
          -38.32279566105951,
          -44.20792586986194,
          -44.627801475051534,
          -39.440588267026094,
          -30.150216149229223,
          -18.474965222987954,
          -5.63811270775548,
          -3.5005965313365356e-05
         ],
         "line": {
          "color": "rgba(255, 0, 0, 0.5)",
          "width": 1
         },
         "lon": [
          3.3502992636390697e-12,
          12.079712975000684,
          25.594882415461683,
          42.1494118030668,
          63.06843064926549,
          87.47495468195314,
          111.19774062121603,
          130.81165667567012,
          146.3288984879253,
          159.27789725111796,
          171.21585308162403,
          -176.44685378837815,
          -162.23279926925565,
          -144.5198268419493,
          -122.35267842664325,
          -97.63804670826539,
          -74.89849734929298,
          -56.56979998122842,
          -41.95618285435475,
          -29.44593592221731,
          -24.351975081443143
         ],
         "mode": "lines",
         "type": "scattergeo"
        },
        {
         "lat": [
          3.3399822780640096e-12,
          -1.1527807746192535,
          -2.114363751936764,
          -2.97546983056464,
          -3.792031533580913,
          -4.60736550372482,
          -5.463949266886437,
          -6.414254015475965,
          -7.5380773731668915,
          -8.98356938790235,
          -8.98356938790235,
          -7.538077373167014,
          -6.41425401547616,
          -5.4639492668866785,
          -4.607365503725081,
          -3.7920315335811865,
          -2.975469830564906,
          -2.1143637519369936,
          -1.1527807746194074,
          3.3436921929733316e-12,
          3.3427892675879045e-12,
          1.1527807746262158,
          2.11436375194392,
          2.9754698305719547,
          3.7920315335883714,
          4.607365503732419,
          5.463949266894204,
          6.414254015483927,
          7.5380773731751445,
          8.98356938791106,
          8.98356938791106,
          7.538077373175019,
          6.414254015483737,
          5.4639492668939615,
          4.607365503732151,
          3.7920315335880947,
          2.975469830571684,
          2.114363751943683,
          1.1527807746260548,
          3.338830344501555e-12
         ],
         "line": {
          "color": "rgba(0, 0, 255, 0.5)",
          "width": 2
         },
         "lon": [
          -8.915019016543553,
          -7.484488546931468,
          -6.373103482459848,
          -5.433459057986876,
          -4.586204208211732,
          -3.7790973074206238,
          -2.9696631521223784,
          -2.114228820468095,
          -1.1557151051241767,
          3.352234161882466e-12,
          3.3514892465374036e-12,
          1.1557151051309797,
          2.1142288204750015,
          2.9696631521293937,
          3.7790973074277585,
          4.586204208219013,
          5.433459057994338,
          6.373103482467544,
          7.484488546939514,
          8.915019016552165,
          8.91501901655217,
          7.484488546939653,
          6.373103482467766,
          5.433459057994609,
          4.5862042082193195,
          3.779097307428074,
          2.969663152129699,
          2.114228820475265,
          1.155715105131158,
          3.347340577001021e-12,
          3.348663933988787e-12,
          -1.1557151051243628,
          -2.1142288204683672,
          -2.969663152122689,
          -3.7790973074209417,
          -4.5862042082120436,
          -5.4334590579871485,
          -6.3731034824600705,
          -7.484488546931609,
          -8.915019016543553
         ],
         "mode": "lines",
         "type": "scattergeo"
        },
        {
         "lat": [
          13.147461242820702,
          12.002972988412113,
          11.04254572227003,
          10.178892311105987,
          9.357340770922873,
          8.534956653778941,
          7.669145172715334,
          6.706871756771643,
          5.567157074286083,
          4.099524623796668,
          4.099524623796668,
          5.507172147699533,
          6.596634755406911,
          7.513717869472251,
          8.336502263579309,
          9.115751066708588,
          9.891799459967201,
          10.704754237500408,
          11.604946422124298,
          12.671555602071942,
          12.671555602071942,
          13.90964965085555,
          14.932901267793712,
          15.843062398999109,
          16.701495819474303,
          17.554706823511648,
          18.447398638478752,
          19.433959462255746,
          20.596343821467475,
          22.086063929739662,
          22.086063929739662,
          20.660591250586286,
          19.550795328942144,
          18.610690801448943,
          17.761575510476387,
          16.951469564805684,
          16.137933658896557,
          15.277165319712052,
          14.311815586014779,
          13.147461242820702
         ],
         "line": {
          "color": "rgba(0, 0, 255, 0.5)",
          "width": 2
         },
         "lon": [
          2.9086888662986796,
          4.38839113343999,
          5.527538909001749,
          6.483000178247357,
          7.33810389475861,
          8.146680660860058,
          8.951339539552082,
          9.794483952108866,
          10.729737778683235,
          11.842874579060647,
          11.842874579060647,
          13.030528395939724,
          14.023647444285357,
          14.915607802745804,
          15.76411931563358,
          16.614246354474332,
          17.510707257907313,
          18.509409977667975,
          19.696238676591822,
          21.23193805376861,
          21.23193805376861,
          19.83441964525565,
          18.74248578109391,
          17.81452856562043,
          16.973683687537363,
          16.168698194505367,
          15.357128151507583,
          14.494353353782646,
          13.520746048289821,
          12.335909887278453,
          12.335909887278453,
          11.064205707599415,
          10.023647718879198,
          9.104578942975694,
          8.242466029504865,
          7.389506394504015,
          6.500708286446492,
          5.522239241890411,
          4.373909131023257,
          2.908688866298682
         ],
         "mode": "lines",
         "type": "scattergeo"
        },
        {
         "lat": [
          26.04353356995534,
          24.824004464055516,
          23.80055992759443,
          22.880625427618654,
          22.006130734188236,
          21.131518240273433,
          20.211716483528402,
          19.190808434265932,
          17.983728868234127,
          16.43301398779631,
          16.43301398779631,
          17.739399278246907,
          18.73963506153259,
          19.57302366136767,
          20.313067206451883,
          21.006374292191097,
          21.688516685560888,
          22.39292325983792,
          23.15879281728805,
          24.043148101606445,
          24.043148101606445,
          25.439484357277994,
          26.582372549409534,
          27.591552229463986,
          28.537695327869194,
          29.473175209586756,
          30.447239554122646,
          31.518747153093727,
          32.775365131967014,
          34.37817122356209,
          34.3781712235621,
          33.055829345580314,
          32.0258145740227,
          31.152498135573452,
          30.362787561544554,
          29.60829984685929,
          28.84933180449845,
          28.04459622109254,
          27.139557014086478,
          26.043533569955336
         ],
         "line": {
          "color": "rgba(0, 0, 255, 0.5)",
          "width": 2
         },
         "lon": [
          15.655776938404001,
          17.20366432779222,
          18.37774371431092,
          19.350046400834135,
          20.2100654778652,
          21.01399907454461,
          21.80458503242348,
          22.622270258379377,
          23.51558098732011,
          24.558390291642947,
          24.558390291642947,
          25.915952470271165,
          27.05419618270968,
          28.078509459394176,
          29.05441854970796,
          30.033394253735565,
          31.066770701645588,
          32.218936504581315,
          33.58892829702402,
          35.36203395123178,
          35.36203395123178,
          34.03121408090875,
          32.98900979848311,
          32.10135848194988,
          31.29527246764287,
          30.521816240118383,
          29.74012648051002,
          28.906805517577375,
          27.963262361351045,
          26.809873842347475,
          26.80987384234748,
          25.227445494464682,
          23.95505786929432,
          22.846179122283978,
          21.81762023580967,
          20.810142181884075,
          19.77025446460137,
          18.636239128597836,
          17.31854080836904,
          15.655776938403994
         ],
         "mode": "lines",
         "type": "scattergeo"
        },
        {
         "lat": [
          37.799383119432754,
          36.41111353690869,
          35.255706385632486,
          34.22404393111181,
          33.2489814714677,
          32.27896363737292,
          31.26410186217808,
          30.143664389403938,
          28.826539665075167,
          27.145757318076512,
          27.145757318076512,
          28.255716380901944,
          29.085115712339817,
          29.760246708194238,
          30.345704232574143,
          30.88035390602722,
          31.39127383293224,
          31.900414256561163,
          32.42837752240417,
          32.996076057916184,
          32.996076057916184,
          34.60245265210677,
          35.906596418578175,
          37.050968732003405,
          38.118236376850646,
          39.16853212552072,
          40.25731653217232,
          41.449781301275586,
          42.84190494293818,
          44.608801919414006,
          44.60880191941402,
          43.53987618072676,
          42.704869393369435,
          41.99506913687978,
          41.35164716524424,
          40.735410249899296,
          40.11389622157486,
          39.45296780369115,
          38.70702012846365,
          37.799383119432754
         ],
         "line": {
          "color": "rgba(0, 0, 255, 0.5)",
          "width": 2
         },
         "lon": [
          31.106658296523936,
          32.67875154457207,
          33.841273785825216,
          34.78342443708462,
          35.60040585266311,
          36.349452020058735,
          37.07143274377529,
          37.80187205836442,
          38.57938646206335,
          39.45703301876232,
          39.45703301876232,
          41.12615639137343,
          42.520370905736726,
          43.77067237391075,
          44.95778961219214,
          46.144352223911284,
          47.39189316403738,
          48.776446323950864,
          50.413387765867554,
          52.51577568079413,
          52.51577568079413,
          51.397696216198774,
          50.528867692910026,
          49.794079747669436,
          49.13138866756261,
          48.50004981514248,
          47.86698846094236,
          47.19831044493563,
          46.44998403350042,
          45.55014025811724,
          45.55014025811724,
          43.40356132553951,
          41.70495214010169,
          40.24297048385759,
          38.90114819469478,
          37.59932792849014,
          36.2678315267118,
          34.8290581385483,
          33.17336895184293,
          31.106658296523936
         ],
         "mode": "lines",
         "type": "scattergeo"
        },
        {
         "lat": [
          47.002529477284654,
          45.36471016429707,
          44.02485845346738,
          42.844051567721166,
          41.740099778784916,
          40.65243440775719,
          39.52481123895999,
          38.29110797919529,
          36.8545617498698,
          35.04077203461158,
          35.04077203461158,
          35.812419605696306,
          36.35364775329198,
          36.76656738169772,
          37.10010817445525,
          37.380377328812614,
          37.62135552336764,
          37.8282702078203,
          37.99583285085187,
          38.09664175081436,
          38.09664175081436,
          39.89339445076173,
          41.341759884767924,
          42.60534419672582,
          43.77776932114924,
          44.92598356571665,
          46.11052637046463,
          47.40121855711386,
          48.899266346049686,
          50.78702074169349,
          50.7870207416935,
          50.21156492565026,
          49.75722529920173,
          49.36771851451632,
          49.01202719420707,
          48.66903123266956,
          48.32076902928136,
          47.947820299612715,
          47.523602519389314,
          47.002529477284654
         ],
         "line": {
          "color": "rgba(0, 0, 255, 0.5)",
          "width": 2
         },
         "lon": [
          51.45918795215341,
          52.80494332900302,
          53.7542639378462,
          54.492721895518855,
          55.108774986181686,
          55.65197028259865,
          56.15397483107959,
          56.63777342587902,
          57.122207001281815,
          57.623582096309356,
          57.623582096309356,
          59.69530408865277,
          61.40414043928086,
          62.91964921125531,
          64.34356646258323,
          65.75202875839126,
          67.21672971789519,
          68.82268495743797,
          70.6944647362055,
          73.055204589627,
          73.055204589627,
          72.42813154953502,
          71.9715085315256,
          71.60978249592829,
          71.30566730528226,
          71.03828143740778,
          70.79529483873979,
          70.57035386918876,
          70.36448729585085,
          70.19644135691159,
          70.1964413569116,
          67.38083289633236,
          65.15946705875898,
          63.2527705011429,
          61.507313127529926,
          59.81820992407117,
          58.09511836896626,
          56.23839437380013,
          54.10838015331598,
          51.45918795215341
         ],
         "mode": "lines",
         "type": "scattergeo"
        },
        {
         "lat": [
          51.50041682381502,
          49.645181896625985,
          48.157945768494145,
          46.86681998012038,
          45.674453452401536,
          44.51223768729487,
          43.3193053421442,
          42.02689814801512,
          40.537272416174055,
          38.67762338343306,
          38.67762338343305,
          38.96146491956724,
          39.10041761188549,
          39.157214527735604,
          39.15708619355597,
          39.10850377863749,
          39.00905847432421,
          38.84488466940835,
          38.583255841976055,
          38.14865234840656,
          38.14865234840656,
          40.00992175256943,
          41.496341685707975,
          42.78247024200826,
          43.9665173730073,
          45.11702390320992,
          46.29401780168203,
          47.56435284800863,
          49.02179626909196,
          50.83004278369742,
          50.83004278369742,
          50.92614264182376,
          51.00345891049325,
          51.07076264696666,
          51.133053634298335,
          51.19388028860156,
          51.25641333751871,
          51.32425624429079,
          51.40255216044242,
          51.50041682381502
         ],
         "line": {
          "color": "rgba(0, 0, 255, 0.5)",
          "width": 2
         },
         "lon": [
          77.60235323316589,
          78.18138808645702,
          78.53017722711392,
          78.75879784802818,
          78.9140051584109,
          79.01742704334931,
          79.07772596876033,
          79.09394720828132,
          79.05327228321677,
          78.9190936055726,
          78.91909360557258,
          81.28013594892565,
          83.18514063147408,
          84.84315529133286,
          86.37448750307608,
          87.86438720719654,
          89.38805476386548,
          91.0290848758521,
          92.90353748660905,
          95.21053304917966,
          95.21053304917966,
          95.27671962473238,
          95.40376230485722,
          95.57116978266508,
          95.77604850793267,
          96.02528251927629,
          96.33548711293251,
          96.73849461237643,
          97.297132554905,
          98.15228198056836,
          98.15228198056836,
          95.17955814408323,
          92.80451928098329,
          90.74542091883545,
          88.84409527427418,
          86.9894547255932,
          85.08275028583724,
          83.01165082176327,
          80.61473370245317,
          77.60235323316586
         ],
         "mode": "lines",
         "type": "scattergeo"
        },
        {
         "lat": [
          49.575026878457244,
          47.70739074522362,
          46.22923037323234,
          44.9582959481544,
          43.79393487007947,
          42.66709683975213,
          41.51829585305667,
          40.28216700089381,
          38.86778153603963,
          37.11687980816564,
          37.11687980816564,
          36.86965325200561,
          36.58775744363486,
          36.2840859442236,
          35.95600831696964,
          35.59307355859708,
          35.17710355956083,
          34.67778460504149,
          34.04088439770134,
          33.155928424210806,
          33.155928424210806,
          34.93597572795433,
          36.34114050131546,
          37.544301695695694,
          38.640869778279956,
          39.695521422914766,
          40.76265520752619,
          41.90008281132573,
          43.18522843277042,
          44.74730537075932,
          44.74730537075932,
          45.40397115217085,
          45.94044452851504,
          46.41345863768319,
          46.85633088335014,
          47.293620362833835,
          47.74828024249223,
          48.24757536340531,
          48.83188894353149,
          49.575026878457244
         ],
         "line": {
          "color": "rgba(0, 0, 255, 0.5)",
          "width": 2
         },
         "lon": [
          105.2478561912169,
          104.81539640057142,
          104.41459216006558,
          104.03092147534497,
          103.64897678406274,
          103.2524466600245,
          102.82159271347436,
          102.32854733606216,
          101.72748005873306,
          100.92925455186109,
          100.92925455186109,
          103.238914279472,
          105.05884538789049,
          106.61258541147859,
          108.02362544822002,
          109.37520606663709,
          110.736497581453,
          112.17985256251833,
          113.80072192250456,
          115.75667878579405,
          115.75667878579405,
          116.39378572440535,
          116.98648938181273,
          117.56350743078299,
          118.15061861512905,
          118.77550287277658,
          119.47367202007625,
          120.29850010751278,
          121.34297563024892,
          122.79861969129219,
          122.79861969129219,
          120.32134632336889,
          118.32896398720946,
          116.59170334247297,
          114.97896120359717,
          113.3974480850722,
          111.76244352624732,
          109.97539354914626,
          107.89182305932442,
          105.2478561912169
         ],
         "mode": "lines",
         "type": "scattergeo"
        },
        {
         "lat": [
          41.99658065806349,
          40.27846624434996,
          38.92672369634791,
          37.77033867943715,
          36.71578161521435,
          35.69973496332662,
          34.66857917113766,
          33.56447897241442,
          32.30831280368936,
          30.76431977377028,
          30.76431977377028,
          30.09031000614488,
          29.48191167967164,
          28.906386385453757,
          28.33698026257094,
          27.74790338813624,
          27.109196577983617,
          26.37932414326265,
          25.490569051945325,
          24.312017714739785,
          24.312017714739785,
          25.952533392621856,
          27.23505157464407,
          28.32377775433785,
          29.307994911066157,
          30.246910517122114,
          31.188814820778138,
          32.183190761869696,
          33.29394531674522,
          34.62412972065491,
          34.62412972065491,
          35.60188790352563,
          36.406765441318356,
          37.120806823470375,
          37.792992987773715,
          38.46013635237843,
          39.157391301228024,
          39.92736024600211,
          40.83417036650231,
          41.996580658063486
         ],
         "line": {
          "color": "rgba(0, 0, 255, 0.5)",
          "width": 2
         },
         "lon": [
          128.19791818757577,
          127.18725143647163,
          126.35495907472624,
          125.61637522563682,
          124.9209121354594,
          124.23051917425977,
          123.50883793590492,
          122.71180392467798,
          121.77314438082973,
          120.5704305017642,
          120.5704305017642,
          122.57568675494807,
          124.13199896067715,
          125.44514823247361,
          126.62597307619417,
          127.74709529814352,
          128.8668989450662,
          130.04440625925494,
          131.35525927910987,
          132.92168046364222,
          132.92168046364222,
          133.8624706261666,
          134.68599104728844,
          135.45258673611022,
          136.20447658497,
          136.97912211499423,
          137.8183624254646,
          138.7795593466336,
          139.9567548292389,
          141.53476627035138,
          141.53476627035138,
          139.6065450292215,
          138.06608374756104,
          136.73073702965362,
          135.49781139012586,
          134.29511697430155,
          133.05840634602396,
          131.71445042336538,
          130.15769945527467,
          128.19791818757577
         ],
         "mode": "lines",
         "type": "scattergeo"
        },
        {
         "lat": [
          31.008771237410077,
          29.445064877490555,
          28.22082750854397,
          27.17833619744509,
          26.231909716767326,
          25.32421705982395,
          24.407532176842558,
          23.431411380654506,
          22.328203330076413,
          20.983947957753738,
          20.983947957753738,
          20.03557480621462,
          19.222243943402518,
          18.479295480798257,
          17.763666468744354,
          17.039590524895385,
          16.269810181828905,
          15.406227189923928,
          14.373678043958284,
          13.030489650655985,
          13.030489650655987,
          14.551733316897511,
          15.734580618836569,
          16.7341137268679,
          17.63397177274889,
          18.489024693592896,
          19.34339206775937,
          20.24155376443205,
          21.240081793583837,
          22.429028969182554,
          22.429028969182554,
          23.554311339930845,
          24.4845289682081,
          25.312286200605865,
          26.093424521134118,
          26.87032199382479,
          27.683816580717266,
          28.58374736387131,
          29.645460558703988,
          31.008771237410077
         ],
         "line": {
          "color": "rgba(0, 0, 255, 0.5)",
          "width": 2
         },
         "lon": [
          145.484983258973,
          144.30991958882024,
          143.34822917914764,
          142.49860150373945,
          141.70139881479594,
          140.91240618564635,
          140.08995197847727,
          139.18409647974516,
          138.1203243479896,
          136.7617571923497,
          136.7617571923497,
          138.4544203155262,
          139.76148498346126,
          140.8603340877941,
          141.84566983259455,
          142.77900908430004,
          143.7093660606512,
          144.6858705025309,
          145.77107081852975,
          147.0655973395803,
          147.0655973395803,
          148.13415677972287,
          149.04360448541192,
          149.87182735924674,
          150.6691154195345,
          151.47663617479452,
          152.33716053710066,
          153.30619054614857,
          154.47128938101895,
          155.99960782773636,
          155.99960782773636,
          154.4123455490112,
          153.1586473066378,
          152.0829189704982,
          151.09927045805904,
          150.14898123438093,
          149.18171259184652,
          148.14239570012148,
          146.95457890280963,
          145.484983258973
         ],
         "mode": "lines",
         "type": "scattergeo"
        },
        {
         "lat": [
          18.3830503362783,
          16.912996088529074,
          15.76734151817016,
          14.796158338685494,
          13.918468193831101,
          13.080692171401253,
          12.239003987092996,
          11.348091835401432,
          10.348557685973175,
          9.142547590257449,
          9.142547590257445,
          8.042889099314568,
          7.1187450068702,
          6.286710488237712,
          5.4943697391875155,
          4.700393627098039,
          3.8636020335104964,
          2.932523473101924,
          1.8283246019358839,
          0.404142522227763,
          0.4041425222277672,
          1.858941433451344,
          2.9887094835480132,
          3.9427265128268907,
          4.801314526775597,
          5.617102446242883,
          6.432413019156473,
          7.289996469191455,
          8.244440996467288,
          9.383197244687409,
          9.383197244687409,
          10.551602488701946,
          11.52167714057627,
          12.38751069816787,
          13.20644692740665,
          14.022421628364135,
          14.878116960771939,
          15.825905146889344,
          16.945148508511807,
          18.383050336278295
         ],
         "line": {
          "color": "rgba(0, 0, 255, 0.5)",
          "width": 2
         },
         "lon": [
          159.15154636845955,
          157.9724219524313,
          157.00127215686163,
          156.13916811460172,
          155.3270511133681,
          154.520486388833,
          153.6769769193262,
          152.7449752837854,
          151.64693782272028,
          150.23973041932413,
          150.23973041932413,
          151.73153478054869,
          152.88568549718437,
          153.85785120807694,
          154.7313275159798,
          155.56046345008627,
          156.38888104535584,
          157.26073071624242,
          158.23280410793933,
          159.39737379401907,
          159.39737379401907,
          160.52396331753337,
          161.46656684731158,
          162.31356001034277,
          163.11964314847484,
          163.92760413726876,
          164.77998152840576,
          165.73005006605254,
          166.85976963753956,
          168.32274884498494,
          168.32274884498494,
          166.88255197867448,
          165.75698338156639,
          164.80029928549175,
          163.93334613291634,
          163.1033236444332,
          162.26649550156395,
          161.37687929970647,
          160.37303423094025,
          159.15154636845955
         ],
         "mode": "lines",
         "type": "scattergeo"
        },
        {
         "lat": [
          5.210817097363808,
          3.7655725718051953,
          2.642649112773586,
          1.693777317083097,
          0.8391471966993631,
          0.026373286030122352,
          -0.7868172000692765,
          -1.6433409095271303,
          -2.5983325575028333,
          -3.7407285235356724,
          -3.7407285235356724,
          -4.904110439821324,
          -5.872487560876128,
          -6.738370153662658,
          -7.558495185171123,
          -8.376586819667473,
          -9.235336636694672,
          -10.187314945148849,
          -11.31232995731607,
          -12.758461527574077,
          -12.75846152757407,
          -11.307296961988808,
          -10.178126300308268,
          -9.22245235767076,
          -8.360216566320622,
          -7.538659354575663,
          -6.714907431776238,
          -5.845015769654177,
          -4.871915168337047,
          -3.702483380543893,
          -3.702483380543893,
          -2.5662321008310665,
          -1.6160173104303388,
          -0.7635325066635311,
          0.046017282271090906,
          0.8553249733759468,
          1.7064817322221328,
          2.651686883830089,
          3.770508137349775,
          5.210817097363813
         ],
         "line": {
          "color": "rgba(0, 0, 255, 0.5)",
          "width": 2
         },
         "lon": [
          171.19677523315306,
          170.05215941873902,
          169.0997444675819,
          168.24760263344567,
          167.4395650549855,
          166.6323055916978,
          165.7833444318791,
          164.84008436374728,
          163.7222583478054,
          162.28028008254546,
          162.28028008254546,
          163.7059352568746,
          164.8159593814159,
          165.75627984294968,
          166.60570628885716,
          167.41637205699047,
          168.2309530544744,
          169.09368878381966,
          170.06287288308158,
          171.23536157736038,
          171.23536157736038,
          172.40141589071524,
          173.36562475518923,
          174.22416993829336,
          175.03498556576787,
          175.8420771726772,
          176.6879334347705,
          177.62449909265158,
          178.73034310197923,
          -179.8489931902613,
          -179.8489931902613,
          178.70429838568802,
          177.58248673647395,
          176.63563401524695,
          175.78324969642216,
          174.9725591716622,
          174.16090516358994,
          173.30473915668972,
          172.3475509796364,
          171.19677523315306
         ],
         "mode": "lines",
         "type": "scattergeo"
        },
        {
         "lat": [
          -7.734565982820863,
          -9.22005039818473,
          -10.373941145623688,
          -11.348298413910856,
          -12.22499878061375,
          -13.057672872652148,
          -13.889380002549744,
          -14.763482692704802,
          -15.735113137451254,
          -16.89209721683323,
          -16.892097216833225,
          -18.0460864903986,
          -19.001650198037034,
          -19.852956733794567,
          -20.65702606970692,
          -21.457290594776477,
          -22.295734479903718,
          -23.223701699905497,
          -24.31888131516327,
          -25.725402448194913,
          -25.725402448194917,
          -24.21030331803449,
          -23.026571751284827,
          -22.020595932937802,
          -21.109149842668412,
          -20.236824051337248,
          -19.357846034196108,
          -18.424294792758104,
          -17.372521100705992,
          -16.09629784851669,
          -16.096297848516688,
          -15.07046004213185,
          -14.200067476289874,
          -13.411026011071597,
          -12.655535946069485,
          -11.89499163696399,
          -11.090112345278058,
          -10.191037371563818,
          -9.120663480047943,
          -7.734565982820863
         ],
         "line": {
          "color": "rgba(0, 0, 255, 0.5)",
          "width": 2
         },
         "lon": [
          -176.8455278366025,
          -177.94325964412388,
          -178.86990082618303,
          -179.70835642371634,
          179.48894574669464,
          178.68003178130843,
          177.8222121242839,
          176.86102469250235,
          175.7115761764586,
          174.2132463923882,
          174.2132463923882,
          175.71661096231782,
          176.89837031524493,
          177.90802682399115,
          178.8274945707204,
          179.71214560890343,
          -179.39129060365588,
          -178.4326020821947,
          -177.34325933177226,
          -176.00564026268341,
          -176.00564026268341,
          -174.81934274459257,
          -173.84645387110143,
          -172.9855982491837,
          -172.17682884184424,
          -171.37549139491907,
          -170.53930288070754,
          -169.61739646148303,
          -168.53368123280515,
          -167.14818935406944,
          -167.14818935406944,
          -168.73873578172993,
          -169.96711888584653,
          -171.00010899993475,
          -171.92673361390897,
          -172.8048586163163,
          -173.6806570113295,
          -174.60051410892663,
          -175.62363690264047,
          -176.8455278366025
         ],
         "mode": "lines",
         "type": "scattergeo"
        },
        {
         "lat": [
          -19.705333965961174,
          -21.289538233491953,
          -22.524478890167206,
          -23.570223130850888,
          -24.513431136735857,
          -25.41123033266971,
          -26.309838972722066,
          -27.256170528535765,
          -28.310257753583087,
          -29.568111595988718,
          -29.568111595988718,
          -30.62535441751738,
          -31.497374579081303,
          -32.272117049639135,
          -33.002327751195345,
          -33.7278350016321,
          -34.48684856456577,
          -35.32584901983135,
          -36.31498293149484,
          -37.58436565148748,
          -37.58436565148748,
          -35.93782189081915,
          -34.645098160565055,
          -33.54134061711191,
          -32.5366555922993,
          -31.5704867045664,
          -30.591914702666124,
          -29.54646858216597,
          -28.36021921730601,
          -26.90723232755919,
          -26.907232327559186,
          -26.09795904944264,
          -25.38804056005507,
          -24.729259158877227,
          -24.08690057815264,
          -23.430269411817857,
          -22.725784407680056,
          -21.928616741900303,
          -20.967271940064226,
          -19.705333965961174
         ],
         "line": {
          "color": "rgba(0, 0, 255, 0.5)",
          "width": 2
         },
         "lon": [
          -163.6386377373198,
          -164.6483409585616,
          -165.51985119204699,
          -166.32231546373797,
          -167.10211807777054,
          -167.89875954839593,
          -168.75480292661783,
          -169.72706541083994,
          -170.9069863270436,
          -172.47174467757193,
          -172.4717446775719,
          -170.71641195990682,
          -169.3207185582743,
          -168.11599073094632,
          -167.00812456211796,
          -165.93173850197803,
          -164.82954132902913,
          -163.63731324733155,
          -162.26386400611804,
          -160.5469703331316,
          -160.5469703331316,
          -159.4323083328873,
          -158.51966732643626,
          -157.71314183746605,
          -156.95621401339744,
          -156.2069380140441,
          -155.42574027508294,
          -154.56515131307796,
          -153.55428217180972,
          -152.26279630656816,
          -152.26279630656816,
          -154.1246700098987,
          -155.565024181712,
          -156.77741607788593,
          -157.8655278916136,
          -158.89690757214854,
          -159.92552018745326,
          -161.0055782020205,
          -162.2061974269998,
          -163.63863773731984
         ],
         "mode": "lines",
         "type": "scattergeo"
        },
        {
         "lat": [
          -29.751499257481306,
          -31.473152875257124,
          -32.82597860600388,
          -33.97956206123557,
          -35.02682612926334,
          -36.03008809865517,
          -37.0409770069174,
          -38.11338963233328,
          -39.31823203509783,
          -40.77183691390081,
          -40.77183691390081,
          -41.59310862871217,
          -42.26673203410855,
          -42.86262398273306,
          -43.42219040741092,
          -43.97626803273818,
          -44.554017115703,
          -45.19046401856474,
          -45.93796749557335,
          -46.89296342417423,
          -46.892963424174226,
          -45.080032325193194,
          -43.64939114893891,
          -42.42226957499808,
          -41.300439723379654,
          -40.21694519619311,
          -39.11455700716937,
          -37.930905427152155,
          -36.57984599397876,
          -34.912321685346654,
          -34.91232168534666,
          -34.46389367733319,
          -34.0268633700062,
          -33.59322623532451,
          -33.149169997298415,
          -32.67703658205218,
          -32.15301968664729,
          -31.541342464695425,
          -30.781088672782086,
          -29.751499257481306
         ],
         "line": {
          "color": "rgba(0, 0, 255, 0.5)",
          "width": 2
         },
         "lon": [
          -147.89028765422714,
          -148.68733583775062,
          -149.40427657926804,
          -150.08554190641132,
          -150.765329870281,
          -151.4766114808681,
          -152.25871303419976,
          -153.16808292147397,
          -154.30018424830422,
          -155.8471812646508,
          -155.8471812646508,
          -153.62498091763408,
          -151.840784458853,
          -150.2873204421772,
          -148.84708585108126,
          -147.43646664052508,
          -145.97987362247844,
          -144.38974861030115,
          -142.53813494070693,
          -140.1917691564904,
          -140.1917691564904,
          -139.4442998286362,
          -138.81007150416343,
          -138.2354986112881,
          -137.68576204422968,
          -137.1326924931709,
          -136.54762372183222,
          -135.8941428261953,
          -135.11581400721496,
          -134.10644598921553,
          -134.10644598921553,
          -136.30111460144462,
          -138.01694278170604,
          -139.47282744456012,
          -140.78812166580212,
          -142.0420796745844,
          -143.2994081289538,
          -144.62656892254546,
          -146.10989647532588,
          -147.89028765422717
         ],
         "mode": "lines",
         "type": "scattergeo"
        },
        {
         "lat": [
          -36.575017052985785,
          -38.41538518486343,
          -39.8779079408548,
          -41.13775469550128,
          -42.29265681789855,
          -43.4099638732119,
          -44.547641576161254,
          -45.76897190476602,
          -47.1609954706961,
          -48.87278568375598,
          -48.87278568375598,
          -49.23736866137929,
          -49.53293113100499,
          -49.79185360269103,
          -50.03286166995022,
          -50.26949107537775,
          -50.51410439257722,
          -50.78105967868837,
          -51.091226032553955,
          -51.48214550327144,
          -51.48214550327144,
          -49.59223354778541,
          -48.0873423968438,
          -46.78739643318862,
          -45.59178655069528,
          -44.430604662795886,
          -43.242755101702706,
          -41.96016502892847,
          -40.48707261914738,
          -38.6554042550285,
          -38.6554042550285,
          -38.70726466606748,
          -38.66026883392503,
          -38.5563189878584,
          -38.40876550847027,
          -38.21781654944554,
          -37.97397848804269,
          -37.65577474780016,
          -37.22027044345997,
          -36.575017052985785
         ],
         "line": {
          "color": "rgba(0, 0, 255, 0.5)",
          "width": 2
         },
         "lon": [
          -128.72340259341888,
          -129.06562932326437,
          -129.42082967776267,
          -129.79144735198048,
          -130.18831825633703,
          -130.62871002756535,
          -131.13921182463702,
          -131.7637449800099,
          -132.58315008916162,
          -133.77077297972627,
          -133.77077297972627,
          -130.96469808432283,
          -128.71220744603104,
          -126.75152445164973,
          -124.93442664167416,
          -123.15561557652555,
          -121.32015298064478,
          -119.3184682374622,
          -116.99113633941674,
          -114.04909238419084,
          -114.04909238419084,
          -114.1754822062344,
          -114.18692203937765,
          -114.13897721120144,
          -114.05092387276525,
          -113.92747736990991,
          -113.76453994745279,
          -113.54897908536871,
          -113.25296024302928,
          -112.81591327441356,
          -112.81591327441356,
          -115.20021188110424,
          -117.10356098715233,
          -118.7456148212966,
          -120.25043592471461,
          -121.70389648851918,
          -123.17964360328513,
          -124.75724746149842,
          -126.54458272748305,
          -128.72340259341888
         ],
         "mode": "lines",
         "type": "scattergeo"
        },
        {
         "lat": [
          -38.77208952070991,
          -40.6164572865695,
          -42.09789938179791,
          -43.38633873666372,
          -44.578366951208075,
          -45.74242236264683,
          -46.93966862822642,
          -48.23977272818201,
          -49.74257181017298,
          -51.626039592545624,
          -51.626039592545624,
          -51.331495644187925,
          -51.097168240139034,
          -50.89504999049085,
          -50.709497638773016,
          -50.52968621980366,
          -50.34623084770004,
          -50.14878422612142,
          -49.92294776032696,
          -49.64370908766032,
          -49.64370908766032,
          -47.89721350225713,
          -46.481234526024295,
          -45.24165770751389,
          -44.08908545967956,
          -42.95895521085679,
          -41.79252875992307,
          -40.521960150106224,
          -39.04921562678924,
          -37.1990766618681,
          -37.19907666186808,
          -37.77676871594014,
          -38.156190621696666,
          -38.4244764229618,
          -38.621318223021106,
          -38.7657392075389,
          -38.86491075627721,
          -38.91587293724255,
          -38.901267266135285,
          -38.77208952070991
         ],
         "line": {
          "color": "rgba(0, 0, 255, 0.5)",
          "width": 2
         },
         "lon": [
          -106.88705310298764,
          -106.54954983458896,
          -106.33760461562733,
          -106.19849520443194,
          -106.10932734593555,
          -106.0610032394817,
          -106.0536890750512,
          -106.09780027850617,
          -106.2219514194656,
          -106.50040656228438,
          -106.50040656228438,
          -103.517749285507,
          -101.15408822418223,
          -99.1183359330291,
          -97.24943634639729,
          -95.43628774979118,
          -93.5822174190339,
          -91.57956371730016,
          -89.27628381522818,
          -86.40321147292866,
          -86.40321147292866,
          -87.49264072778445,
          -88.23371832098404,
          -88.79093361613434,
          -89.24002173232252,
          -89.62136356032657,
          -89.95853293001525,
          -90.2655669716421,
          -90.5489372297871,
          -90.80369654613355,
          -90.80369654613354,
          -93.03040579670082,
          -94.85150528184485,
          -96.45473535308552,
          -97.95087599547158,
          -99.42101244500701,
          -100.93950585474624,
          -102.59227847067437,
          -104.5025295327489,
          -106.88705310298764
         ],
         "mode": "lines",
         "type": "scattergeo"
        },
        {
         "lat": [
          -35.73921957068668,
          -37.435960619248256,
          -38.80933582806742,
          -40.01158535329083,
          -41.13052137510061,
          -42.22957320558966,
          -43.366789572790196,
          -44.609919081894,
          -46.05815926003534,
          -47.89177977793932,
          -47.89177977793932,
          -47.00178056150475,
          -46.304253248999146,
          -45.70974601597238,
          -45.16958587535775,
          -44.65112670703288,
          -44.127102540924845,
          -43.56858125456162,
          -42.93659623081753,
          -42.16518316446577,
          -42.16518316446577,
          -40.67663471206642,
          -39.44568161304231,
          -38.35196627295034,
          -37.32252043358139,
          -36.302190138560015,
          -35.23843821005056,
          -34.068150889635845,
          -32.69753460584461,
          -30.95580284635976,
          -30.95580284635976,
          -31.940564703683044,
          -32.66243822997396,
          -33.23904068672248,
          -33.729225974506136,
          -34.1670652847771,
          -34.57458606227707,
          -34.967143982243094,
          -35.354948319687914,
          -35.73921957068668
         ],
         "line": {
          "color": "rgba(0, 0, 255, 0.5)",
          "width": 2
         },
         "lon": [
          -85.29623190326794,
          -84.35070919748553,
          -83.62581759499012,
          -83.02057349955963,
          -82.48175806315606,
          -81.97552787763483,
          -81.47587636818513,
          -80.9581391264575,
          -80.39320109327849,
          -79.73890206116647,
          -79.73890206116647,
          -77.29131730947407,
          -75.36148308614341,
          -73.70538789223936,
          -72.1893587195586,
          -70.72209340586092,
          -69.22495242175202,
          -67.61115253251931,
          -65.75896989022094,
          -63.45397070482066,
          -63.45397070482067,
          -64.9788275480801,
          -66.08811834927903,
          -66.97463579916686,
          -67.73347855749094,
          -68.42036664618237,
          -69.07358250671501,
          -69.72454871036611,
          -70.40491370359153,
          -71.1542616714844,
          -71.1542616714844,
          -72.99244323685424,
          -74.52150117732208,
          -75.88766183510062,
          -77.1802180742926,
          -78.46759160074242,
          -79.81603524568703,
          -81.30627061204657,
          -83.05931455477136,
          -85.29623190326797
         ],
         "mode": "lines",
         "type": "scattergeo"
        },
        {
         "lat": [
          -28.253309409720938,
          -29.735950067259697,
          -30.944955955640456,
          -32.00947618772241,
          -33.00513611054604,
          -33.98750393723362,
          -35.00837809043365,
          -36.12921281376934,
          -37.44108398708608,
          -39.110851971084266,
          -39.11085197108425,
          -37.87308623248186,
          -36.90831318035566,
          -36.089749580081836,
          -35.34902033877137,
          -34.64078736199685,
          -33.927740051863836,
          -33.17093462813987,
          -32.3187230291964,
          -31.28486615442233,
          -31.28486615442233,
          -30.004929489435312,
          -28.933399601039735,
          -27.972183965743096,
          -27.060087836133096,
          -26.1494146084092,
          -25.193302274818933,
          -24.133963611143447,
          -22.883890696761274,
          -21.28165861175455,
          -21.281658611754544,
          -22.51822331061557,
          -23.45742939381012,
          -24.23403142335362,
          -24.918376253434836,
          -25.554284736907004,
          -26.174221264279534,
          -26.807359348157494,
          -27.485931618376977,
          -28.253309409720938
         ],
         "line": {
          "color": "rgba(0, 0, 255, 0.5)",
          "width": 2
         },
         "lon": [
          -66.63702130392313,
          -65.3706308957015,
          -64.38001848758543,
          -63.53713489146012,
          -62.77240824040536,
          -62.03932082993542,
          -61.29917486599595,
          -60.51105838140823,
          -59.61999339973227,
          -58.532939187467484,
          -58.53293918746749,
          -56.740631182757554,
          -55.31038020722186,
          -54.07121340112692,
          -52.927467225816606,
          -51.81212549771112,
          -50.66574904139233,
          -49.420867647300796,
          -47.980759680912264,
          -46.17251825617803,
          -46.17251825617803,
          -47.74377912277313,
          -48.92470644817138,
          -49.895076147533075,
          -50.74726105493618,
          -51.53832758146732,
          -52.31067264078559,
          -53.10321347652861,
          -53.961090386141635,
          -54.95077244639267,
          -54.95077244639267,
          -56.42497031183989,
          -57.66012640584846,
          -58.77085829690194,
          -59.828302561670995,
          -60.88818358753944,
          -62.005881998026815,
          -63.25060384049335,
          -64.72841468005993,
          -66.63702130392313
         ],
         "mode": "lines",
         "type": "scattergeo"
        },
        {
         "lat": [
          -17.75890195298766,
          -19.056356030647724,
          -20.12411938452215,
          -21.070860701675265,
          -21.961486866471983,
          -22.844706460255548,
          -23.766896410720392,
          -24.784054432814393,
          -25.980151388622158,
          -27.510040252227107,
          -27.510040252227107,
          -26.115757605362244,
          -25.030052063768586,
          -24.11000437328497,
          -23.27858471363526,
          -22.48487014815593,
          -21.687191687960944,
          -20.842397366936044,
          -19.893763781629733,
          -18.74747938669694,
          -18.74747938669694,
          -17.58165445050262,
          -16.6024370848456,
          -15.721456094736652,
          -14.883202866603751,
          -14.044007543697193,
          -13.160506581742192,
          -12.178702187099038,
          -11.016184649868082,
          -9.519969225532337,
          -9.51996922553233,
          -10.893280532006937,
          -11.952362974429288,
          -12.840821955145717,
          -13.635182037938582,
          -14.384774989606866,
          -15.128270314704938,
          -15.903411237992861,
          -16.75655277437726,
          -17.75890195298766
         ],
         "line": {
          "color": "rgba(0, 0, 255, 0.5)",
          "width": 2
         },
         "lon": [
          -51.338514220796974,
          -49.960502794472006,
          -48.882167679300636,
          -47.96445883139832,
          -47.131738828032546,
          -46.333391341403804,
          -45.5272761171125,
          -44.668805458041206,
          -43.69800773944106,
          -42.513280941461986,
          -42.513280941461986,
          -41.13638122469775,
          -40.01780545743338,
          -39.03524453774654,
          -38.117803793138485,
          -37.21382909573484,
          -36.275529694136594,
          -35.246563316158515,
          -34.0438846100723,
          -32.51629164542759,
          -32.51629164542759,
          -34.02444732711347,
          -35.1791857628519,
          -36.143183805911775,
          -37.00218411204555,
          -37.81098637909584,
          -38.6123167517037,
          -39.447907828519,
          -40.369529963063776,
          -41.45852808004378,
          -41.45852808004378,
          -42.70172546332352,
          -43.74321098964658,
          -44.67993262626659,
          -45.57206214445874,
          -46.46679631831683,
          -47.411166714767056,
          -48.4641615934006,
          -49.71657498025084,
          -51.338514220796995
         ],
         "mode": "lines",
         "type": "scattergeo"
        },
        {
         "lat": [
          -5.530010505258679,
          -6.7100751494583575,
          -7.69075530374229,
          -8.566598488723436,
          -9.395366272533275,
          -10.221402150427283,
          -11.087848570775941,
          -12.047685847039755,
          -13.181207374780282,
          -14.63726338554458,
          -14.637263385544578,
          -13.192592498389947,
          -12.068455541008165,
          -11.116953163561883,
          -10.258360232290604,
          -9.440124274682667,
          -8.619511921788034,
          -7.752675179816232,
          -6.7825959975686345,
          -5.616094114173285,
          -5.6160941141732845,
          -4.476512013401314,
          -3.5229536173903226,
          -2.6671378381764574,
          -1.8541994004380065,
          -1.0413351533107746,
          -0.18630320828359234,
          0.763313820494932,
          1.8874317164872,
          3.3345480256304176,
          3.3345480256304176,
          1.8984879455458985,
          0.7835742236791092,
          -0.15780574879921389,
          -1.0050267616876611,
          -1.8100889018661117,
          -2.6148252901002356,
          -3.461533902963291,
          -4.40431115792046,
          -5.530010505258679
         ],
         "line": {
          "color": "rgba(0, 0, 255, 0.5)",
          "width": 2
         },
         "lon": [
          -38.40590774564614,
          -36.98978473879713,
          -35.88651852784122,
          -34.951406754880544,
          -34.10623432456315,
          -33.29919067857281,
          -32.48777929825322,
          -31.62783898528734,
          -30.66103563213204,
          -29.490219411183997,
          -29.490219411183993,
          -28.304718126778827,
          -27.326566671531854,
          -26.45707088603313,
          -25.637074424924496,
          -24.821881243316454,
          -23.968566665760555,
          -23.024888251580812,
          -21.91207833364178,
          -20.484544863574918,
          -20.484544863574907,
          -21.932971461460802,
          -23.054443465863457,
          -23.999778238302177,
          -24.849760638033167,
          -25.65719289483735,
          -26.464567164405757,
          -27.315033314034846,
          -28.264286606695833,
          -29.40311060510601,
          -29.40311060510601,
          -30.55569026873144,
          -31.51560762390754,
          -32.37506591430338,
          -33.19052099600068,
          -34.00561832830116,
          -34.8632451609434,
          -35.81659769194483,
          -36.94695511816081,
          -38.40590774564614
         ],
         "mode": "lines",
         "type": "scattergeo"
        },
        {
         "lat": [
          -2.955360014872126e-05,
          -1.1528112585266992,
          -2.114394946902867,
          -2.9755016187029537,
          -3.7920638503154755,
          -4.607398318573975,
          -5.463982576099329,
          -6.414287841746595,
          -7.538111772712614,
          -8.983604471434974,
          -8.983604471434973,
          -7.53811308861628,
          -6.4142902479322474,
          -5.463985954428716,
          -4.607402615902131,
          -3.792069063043045,
          -2.97550779119526,
          -2.1144021822265224,
          -1.1528197484765028,
          -3.965394694796684e-05,
          -3.965394695054509e-05,
          1.152741799635406,
          2.1143253197447716,
          2.9754318674142044,
          3.7919940010438924,
          4.60732838791642,
          5.463912575094267,
          6.414217778003125,
          7.538041651629239,
          8.983534296531374,
          8.983534296531374,
          7.538042967728162,
          6.414220184477246,
          5.463915953755413,
          4.607332685589544,
          3.7919992141073737,
          2.975438040212653,
          2.1143325553201735,
          1.15275028974577,
          -2.9553600148486408e-05
         ],
         "line": {
          "color": "rgba(0, 0, 255, 0.5)",
          "width": 2
         },
         "lon": [
          -33.26699409456126,
          -31.836464364643252,
          -30.72507989379789,
          -29.785435984403616,
          -28.938181609677226,
          -28.131075171070766,
          -27.321641489094393,
          -26.46620766882662,
          -25.507694540939756,
          -24.35198016610761,
          -24.351980166107612,
          -23.196264132087183,
          -22.2377497199169,
          -21.382314817411864,
          -20.572880162911037,
          -19.765772801363404,
          -18.918517505216,
          -17.978872627672054,
          -16.86748708073018,
          -15.436956069436569,
          -15.436956069436569,
          -16.867485995235675,
          -17.9788705759508,
          -18.918514546453217,
          -19.765768949152363,
          -20.572875388579142,
          -21.382309044095855,
          -22.237742804286597,
          -23.196255822070526,
          -24.351969997274246,
          -24.35196999727425,
          -25.507685831596117,
          -26.46620013366237,
          -27.321634976128976,
          -28.131069604239197,
          -28.93817696670658,
          -29.785432290963907,
          -30.72507722980857,
          -31.836462886907352,
          -33.26699409456126
         ],
         "mode": "lines",
         "type": "scattergeo"
        }
       ],
       "layout": {
        "autosize": true,
        "geo": {
         "countrywidth": 0,
         "lakecolor": "rgb(240, 240, 240)",
         "landcolor": "rgb(100, 100, 100)",
         "lataxis": {
          "gridcolor": "rgb(102, 102, 102)",
          "gridwidth": 0.5,
          "showgrid": true
         },
         "lonaxis": {
          "gridcolor": "rgb(102, 102, 102)",
          "gridwidth": 0.5,
          "showgrid": true
         },
         "oceancolor": "rgb(240, 240, 240)",
         "projection": {
          "rotation": {
           "lat": -23.29734537559062,
           "lon": -49.81008839284809,
           "roll": 0
          },
          "scale": 0.4112250343562322,
          "type": "orthographic"
         },
         "showcountries": false,
         "showlakes": true,
         "showland": true,
         "showocean": true
        },
        "showlegend": false,
        "template": {
         "data": {
          "bar": [
           {
            "error_x": {
             "color": "#2a3f5f"
            },
            "error_y": {
             "color": "#2a3f5f"
            },
            "marker": {
             "line": {
              "color": "#E5ECF6",
              "width": 0.5
             },
             "pattern": {
              "fillmode": "overlay",
              "size": 10,
              "solidity": 0.2
             }
            },
            "type": "bar"
           }
          ],
          "barpolar": [
           {
            "marker": {
             "line": {
              "color": "#E5ECF6",
              "width": 0.5
             },
             "pattern": {
              "fillmode": "overlay",
              "size": 10,
              "solidity": 0.2
             }
            },
            "type": "barpolar"
           }
          ],
          "carpet": [
           {
            "aaxis": {
             "endlinecolor": "#2a3f5f",
             "gridcolor": "white",
             "linecolor": "white",
             "minorgridcolor": "white",
             "startlinecolor": "#2a3f5f"
            },
            "baxis": {
             "endlinecolor": "#2a3f5f",
             "gridcolor": "white",
             "linecolor": "white",
             "minorgridcolor": "white",
             "startlinecolor": "#2a3f5f"
            },
            "type": "carpet"
           }
          ],
          "choropleth": [
           {
            "colorbar": {
             "outlinewidth": 0,
             "ticks": ""
            },
            "type": "choropleth"
           }
          ],
          "contour": [
           {
            "colorbar": {
             "outlinewidth": 0,
             "ticks": ""
            },
            "colorscale": [
             [
              0,
              "#0d0887"
             ],
             [
              0.1111111111111111,
              "#46039f"
             ],
             [
              0.2222222222222222,
              "#7201a8"
             ],
             [
              0.3333333333333333,
              "#9c179e"
             ],
             [
              0.4444444444444444,
              "#bd3786"
             ],
             [
              0.5555555555555556,
              "#d8576b"
             ],
             [
              0.6666666666666666,
              "#ed7953"
             ],
             [
              0.7777777777777778,
              "#fb9f3a"
             ],
             [
              0.8888888888888888,
              "#fdca26"
             ],
             [
              1,
              "#f0f921"
             ]
            ],
            "type": "contour"
           }
          ],
          "contourcarpet": [
           {
            "colorbar": {
             "outlinewidth": 0,
             "ticks": ""
            },
            "type": "contourcarpet"
           }
          ],
          "heatmap": [
           {
            "colorbar": {
             "outlinewidth": 0,
             "ticks": ""
            },
            "colorscale": [
             [
              0,
              "#0d0887"
             ],
             [
              0.1111111111111111,
              "#46039f"
             ],
             [
              0.2222222222222222,
              "#7201a8"
             ],
             [
              0.3333333333333333,
              "#9c179e"
             ],
             [
              0.4444444444444444,
              "#bd3786"
             ],
             [
              0.5555555555555556,
              "#d8576b"
             ],
             [
              0.6666666666666666,
              "#ed7953"
             ],
             [
              0.7777777777777778,
              "#fb9f3a"
             ],
             [
              0.8888888888888888,
              "#fdca26"
             ],
             [
              1,
              "#f0f921"
             ]
            ],
            "type": "heatmap"
           }
          ],
          "heatmapgl": [
           {
            "colorbar": {
             "outlinewidth": 0,
             "ticks": ""
            },
            "colorscale": [
             [
              0,
              "#0d0887"
             ],
             [
              0.1111111111111111,
              "#46039f"
             ],
             [
              0.2222222222222222,
              "#7201a8"
             ],
             [
              0.3333333333333333,
              "#9c179e"
             ],
             [
              0.4444444444444444,
              "#bd3786"
             ],
             [
              0.5555555555555556,
              "#d8576b"
             ],
             [
              0.6666666666666666,
              "#ed7953"
             ],
             [
              0.7777777777777778,
              "#fb9f3a"
             ],
             [
              0.8888888888888888,
              "#fdca26"
             ],
             [
              1,
              "#f0f921"
             ]
            ],
            "type": "heatmapgl"
           }
          ],
          "histogram": [
           {
            "marker": {
             "pattern": {
              "fillmode": "overlay",
              "size": 10,
              "solidity": 0.2
             }
            },
            "type": "histogram"
           }
          ],
          "histogram2d": [
           {
            "colorbar": {
             "outlinewidth": 0,
             "ticks": ""
            },
            "colorscale": [
             [
              0,
              "#0d0887"
             ],
             [
              0.1111111111111111,
              "#46039f"
             ],
             [
              0.2222222222222222,
              "#7201a8"
             ],
             [
              0.3333333333333333,
              "#9c179e"
             ],
             [
              0.4444444444444444,
              "#bd3786"
             ],
             [
              0.5555555555555556,
              "#d8576b"
             ],
             [
              0.6666666666666666,
              "#ed7953"
             ],
             [
              0.7777777777777778,
              "#fb9f3a"
             ],
             [
              0.8888888888888888,
              "#fdca26"
             ],
             [
              1,
              "#f0f921"
             ]
            ],
            "type": "histogram2d"
           }
          ],
          "histogram2dcontour": [
           {
            "colorbar": {
             "outlinewidth": 0,
             "ticks": ""
            },
            "colorscale": [
             [
              0,
              "#0d0887"
             ],
             [
              0.1111111111111111,
              "#46039f"
             ],
             [
              0.2222222222222222,
              "#7201a8"
             ],
             [
              0.3333333333333333,
              "#9c179e"
             ],
             [
              0.4444444444444444,
              "#bd3786"
             ],
             [
              0.5555555555555556,
              "#d8576b"
             ],
             [
              0.6666666666666666,
              "#ed7953"
             ],
             [
              0.7777777777777778,
              "#fb9f3a"
             ],
             [
              0.8888888888888888,
              "#fdca26"
             ],
             [
              1,
              "#f0f921"
             ]
            ],
            "type": "histogram2dcontour"
           }
          ],
          "mesh3d": [
           {
            "colorbar": {
             "outlinewidth": 0,
             "ticks": ""
            },
            "type": "mesh3d"
           }
          ],
          "parcoords": [
           {
            "line": {
             "colorbar": {
              "outlinewidth": 0,
              "ticks": ""
             }
            },
            "type": "parcoords"
           }
          ],
          "pie": [
           {
            "automargin": true,
            "type": "pie"
           }
          ],
          "scatter": [
           {
            "marker": {
             "colorbar": {
              "outlinewidth": 0,
              "ticks": ""
             }
            },
            "type": "scatter"
           }
          ],
          "scatter3d": [
           {
            "line": {
             "colorbar": {
              "outlinewidth": 0,
              "ticks": ""
             }
            },
            "marker": {
             "colorbar": {
              "outlinewidth": 0,
              "ticks": ""
             }
            },
            "type": "scatter3d"
           }
          ],
          "scattercarpet": [
           {
            "marker": {
             "colorbar": {
              "outlinewidth": 0,
              "ticks": ""
             }
            },
            "type": "scattercarpet"
           }
          ],
          "scattergeo": [
           {
            "marker": {
             "colorbar": {
              "outlinewidth": 0,
              "ticks": ""
             }
            },
            "type": "scattergeo"
           }
          ],
          "scattergl": [
           {
            "marker": {
             "colorbar": {
              "outlinewidth": 0,
              "ticks": ""
             }
            },
            "type": "scattergl"
           }
          ],
          "scattermapbox": [
           {
            "marker": {
             "colorbar": {
              "outlinewidth": 0,
              "ticks": ""
             }
            },
            "type": "scattermapbox"
           }
          ],
          "scatterpolar": [
           {
            "marker": {
             "colorbar": {
              "outlinewidth": 0,
              "ticks": ""
             }
            },
            "type": "scatterpolar"
           }
          ],
          "scatterpolargl": [
           {
            "marker": {
             "colorbar": {
              "outlinewidth": 0,
              "ticks": ""
             }
            },
            "type": "scatterpolargl"
           }
          ],
          "scatterternary": [
           {
            "marker": {
             "colorbar": {
              "outlinewidth": 0,
              "ticks": ""
             }
            },
            "type": "scatterternary"
           }
          ],
          "surface": [
           {
            "colorbar": {
             "outlinewidth": 0,
             "ticks": ""
            },
            "colorscale": [
             [
              0,
              "#0d0887"
             ],
             [
              0.1111111111111111,
              "#46039f"
             ],
             [
              0.2222222222222222,
              "#7201a8"
             ],
             [
              0.3333333333333333,
              "#9c179e"
             ],
             [
              0.4444444444444444,
              "#bd3786"
             ],
             [
              0.5555555555555556,
              "#d8576b"
             ],
             [
              0.6666666666666666,
              "#ed7953"
             ],
             [
              0.7777777777777778,
              "#fb9f3a"
             ],
             [
              0.8888888888888888,
              "#fdca26"
             ],
             [
              1,
              "#f0f921"
             ]
            ],
            "type": "surface"
           }
          ],
          "table": [
           {
            "cells": {
             "fill": {
              "color": "#EBF0F8"
             },
             "line": {
              "color": "white"
             }
            },
            "header": {
             "fill": {
              "color": "#C8D4E3"
             },
             "line": {
              "color": "white"
             }
            },
            "type": "table"
           }
          ]
         },
         "layout": {
          "annotationdefaults": {
           "arrowcolor": "#2a3f5f",
           "arrowhead": 0,
           "arrowwidth": 1
          },
          "autotypenumbers": "strict",
          "coloraxis": {
           "colorbar": {
            "outlinewidth": 0,
            "ticks": ""
           }
          },
          "colorscale": {
           "diverging": [
            [
             0,
             "#8e0152"
            ],
            [
             0.1,
             "#c51b7d"
            ],
            [
             0.2,
             "#de77ae"
            ],
            [
             0.3,
             "#f1b6da"
            ],
            [
             0.4,
             "#fde0ef"
            ],
            [
             0.5,
             "#f7f7f7"
            ],
            [
             0.6,
             "#e6f5d0"
            ],
            [
             0.7,
             "#b8e186"
            ],
            [
             0.8,
             "#7fbc41"
            ],
            [
             0.9,
             "#4d9221"
            ],
            [
             1,
             "#276419"
            ]
           ],
           "sequential": [
            [
             0,
             "#0d0887"
            ],
            [
             0.1111111111111111,
             "#46039f"
            ],
            [
             0.2222222222222222,
             "#7201a8"
            ],
            [
             0.3333333333333333,
             "#9c179e"
            ],
            [
             0.4444444444444444,
             "#bd3786"
            ],
            [
             0.5555555555555556,
             "#d8576b"
            ],
            [
             0.6666666666666666,
             "#ed7953"
            ],
            [
             0.7777777777777778,
             "#fb9f3a"
            ],
            [
             0.8888888888888888,
             "#fdca26"
            ],
            [
             1,
             "#f0f921"
            ]
           ],
           "sequentialminus": [
            [
             0,
             "#0d0887"
            ],
            [
             0.1111111111111111,
             "#46039f"
            ],
            [
             0.2222222222222222,
             "#7201a8"
            ],
            [
             0.3333333333333333,
             "#9c179e"
            ],
            [
             0.4444444444444444,
             "#bd3786"
            ],
            [
             0.5555555555555556,
             "#d8576b"
            ],
            [
             0.6666666666666666,
             "#ed7953"
            ],
            [
             0.7777777777777778,
             "#fb9f3a"
            ],
            [
             0.8888888888888888,
             "#fdca26"
            ],
            [
             1,
             "#f0f921"
            ]
           ]
          },
          "colorway": [
           "#636efa",
           "#EF553B",
           "#00cc96",
           "#ab63fa",
           "#FFA15A",
           "#19d3f3",
           "#FF6692",
           "#B6E880",
           "#FF97FF",
           "#FECB52"
          ],
          "font": {
           "color": "#2a3f5f"
          },
          "geo": {
           "bgcolor": "white",
           "lakecolor": "white",
           "landcolor": "#E5ECF6",
           "showlakes": true,
           "showland": true,
           "subunitcolor": "white"
          },
          "hoverlabel": {
           "align": "left"
          },
          "hovermode": "closest",
          "mapbox": {
           "style": "light"
          },
          "paper_bgcolor": "white",
          "plot_bgcolor": "#E5ECF6",
          "polar": {
           "angularaxis": {
            "gridcolor": "white",
            "linecolor": "white",
            "ticks": ""
           },
           "bgcolor": "#E5ECF6",
           "radialaxis": {
            "gridcolor": "white",
            "linecolor": "white",
            "ticks": ""
           }
          },
          "scene": {
           "xaxis": {
            "backgroundcolor": "#E5ECF6",
            "gridcolor": "white",
            "gridwidth": 2,
            "linecolor": "white",
            "showbackground": true,
            "ticks": "",
            "zerolinecolor": "white"
           },
           "yaxis": {
            "backgroundcolor": "#E5ECF6",
            "gridcolor": "white",
            "gridwidth": 2,
            "linecolor": "white",
            "showbackground": true,
            "ticks": "",
            "zerolinecolor": "white"
           },
           "zaxis": {
            "backgroundcolor": "#E5ECF6",
            "gridcolor": "white",
            "gridwidth": 2,
            "linecolor": "white",
            "showbackground": true,
            "ticks": "",
            "zerolinecolor": "white"
           }
          },
          "shapedefaults": {
           "line": {
            "color": "#2a3f5f"
           }
          },
          "ternary": {
           "aaxis": {
            "gridcolor": "white",
            "linecolor": "white",
            "ticks": ""
           },
           "baxis": {
            "gridcolor": "white",
            "linecolor": "white",
            "ticks": ""
           },
           "bgcolor": "#E5ECF6",
           "caxis": {
            "gridcolor": "white",
            "linecolor": "white",
            "ticks": ""
           }
          },
          "title": {
           "x": 0.05
          },
          "xaxis": {
           "automargin": true,
           "gridcolor": "white",
           "linecolor": "white",
           "ticks": "",
           "title": {
            "standoff": 15
           },
           "zerolinecolor": "white",
           "zerolinewidth": 2
          },
          "yaxis": {
           "automargin": true,
           "gridcolor": "white",
           "linecolor": "white",
           "ticks": "",
           "title": {
            "standoff": 15
           },
           "zerolinecolor": "white",
           "zerolinewidth": 2
          }
         }
        }
       }
      },
      "image/png": "[encoded data removed]",
      "text/html": [
       "<div>                            <div id=\"8537dff2-a615-49ec-88ec-d2e6c4547b49\" class=\"plotly-graph-div\" style=\"height:1000px; width:100%;\"></div>            <script type=\"text/javascript\">                require([\"plotly\"], function(Plotly) {                    window.PLOTLYENV=window.PLOTLYENV || {};                                    if (document.getElementById(\"8537dff2-a615-49ec-88ec-d2e6c4547b49\")) {                    Plotly.newPlot(                        \"8537dff2-a615-49ec-88ec-d2e6c4547b49\",                        [{\"lat\":[3.378530153297292e-12,13.063049082778237,25.357569811305186,35.85366122820404,43.02728475987889,45.113886063084536,41.42416715502627,33.115869826486936,21.9745009535127,9.371837931937193,-3.764946681503675,-16.69308208121771,-28.59709717264689,-38.32279566105951,-44.20792586986194,-44.627801475051534,-39.440588267026094,-30.150216149229223,-18.474965222987954,-5.63811270775548,-3.5005965313365356e-05],\"line\":{\"color\":\"rgba(255, 0, 0, 0.5)\",\"width\":1},\"lon\":[3.3502992636390697e-12,12.079712975000684,25.594882415461683,42.1494118030668,63.06843064926549,87.47495468195314,111.19774062121603,130.81165667567012,146.3288984879253,159.27789725111796,171.21585308162403,-176.44685378837815,-162.23279926925565,-144.5198268419493,-122.35267842664325,-97.63804670826539,-74.89849734929298,-56.56979998122842,-41.95618285435475,-29.44593592221731,-24.351975081443143],\"mode\":\"lines\",\"type\":\"scattergeo\"},{\"lat\":[3.3399822780640096e-12,-1.1527807746192535,-2.114363751936764,-2.97546983056464,-3.792031533580913,-4.60736550372482,-5.463949266886437,-6.414254015475965,-7.5380773731668915,-8.98356938790235,-8.98356938790235,-7.538077373167014,-6.41425401547616,-5.4639492668866785,-4.607365503725081,-3.7920315335811865,-2.975469830564906,-2.1143637519369936,-1.1527807746194074,3.3436921929733316e-12,3.3427892675879045e-12,1.1527807746262158,2.11436375194392,2.9754698305719547,3.7920315335883714,4.607365503732419,5.463949266894204,6.414254015483927,7.5380773731751445,8.98356938791106,8.98356938791106,7.538077373175019,6.414254015483737,5.4639492668939615,4.607365503732151,3.7920315335880947,2.975469830571684,2.114363751943683,1.1527807746260548,3.338830344501555e-12],\"line\":{\"color\":\"rgba(0, 0, 255, 0.5)\",\"width\":2},\"lon\":[-8.915019016543553,-7.484488546931468,-6.373103482459848,-5.433459057986876,-4.586204208211732,-3.7790973074206238,-2.9696631521223784,-2.114228820468095,-1.1557151051241767,3.352234161882466e-12,3.3514892465374036e-12,1.1557151051309797,2.1142288204750015,2.9696631521293937,3.7790973074277585,4.586204208219013,5.433459057994338,6.373103482467544,7.484488546939514,8.915019016552165,8.91501901655217,7.484488546939653,6.373103482467766,5.433459057994609,4.5862042082193195,3.779097307428074,2.969663152129699,2.114228820475265,1.155715105131158,3.347340577001021e-12,3.348663933988787e-12,-1.1557151051243628,-2.1142288204683672,-2.969663152122689,-3.7790973074209417,-4.5862042082120436,-5.4334590579871485,-6.3731034824600705,-7.484488546931609,-8.915019016543553],\"mode\":\"lines\",\"type\":\"scattergeo\"},{\"lat\":[13.147461242820702,12.002972988412113,11.04254572227003,10.178892311105987,9.357340770922873,8.534956653778941,7.669145172715334,6.706871756771643,5.567157074286083,4.099524623796668,4.099524623796668,5.507172147699533,6.596634755406911,7.513717869472251,8.336502263579309,9.115751066708588,9.891799459967201,10.704754237500408,11.604946422124298,12.671555602071942,12.671555602071942,13.90964965085555,14.932901267793712,15.843062398999109,16.701495819474303,17.554706823511648,18.447398638478752,19.433959462255746,20.596343821467475,22.086063929739662,22.086063929739662,20.660591250586286,19.550795328942144,18.610690801448943,17.761575510476387,16.951469564805684,16.137933658896557,15.277165319712052,14.311815586014779,13.147461242820702],\"line\":{\"color\":\"rgba(0, 0, 255, 0.5)\",\"width\":2},\"lon\":[2.9086888662986796,4.38839113343999,5.527538909001749,6.483000178247357,7.33810389475861,8.146680660860058,8.951339539552082,9.794483952108866,10.729737778683235,11.842874579060647,11.842874579060647,13.030528395939724,14.023647444285357,14.915607802745804,15.76411931563358,16.614246354474332,17.510707257907313,18.509409977667975,19.696238676591822,21.23193805376861,21.23193805376861,19.83441964525565,18.74248578109391,17.81452856562043,16.973683687537363,16.168698194505367,15.357128151507583,14.494353353782646,13.520746048289821,12.335909887278453,12.335909887278453,11.064205707599415,10.023647718879198,9.104578942975694,8.242466029504865,7.389506394504015,6.500708286446492,5.522239241890411,4.373909131023257,2.908688866298682],\"mode\":\"lines\",\"type\":\"scattergeo\"},{\"lat\":[26.04353356995534,24.824004464055516,23.80055992759443,22.880625427618654,22.006130734188236,21.131518240273433,20.211716483528402,19.190808434265932,17.983728868234127,16.43301398779631,16.43301398779631,17.739399278246907,18.73963506153259,19.57302366136767,20.313067206451883,21.006374292191097,21.688516685560888,22.39292325983792,23.15879281728805,24.043148101606445,24.043148101606445,25.439484357277994,26.582372549409534,27.591552229463986,28.537695327869194,29.473175209586756,30.447239554122646,31.518747153093727,32.775365131967014,34.37817122356209,34.3781712235621,33.055829345580314,32.0258145740227,31.152498135573452,30.362787561544554,29.60829984685929,28.84933180449845,28.04459622109254,27.139557014086478,26.043533569955336],\"line\":{\"color\":\"rgba(0, 0, 255, 0.5)\",\"width\":2},\"lon\":[15.655776938404001,17.20366432779222,18.37774371431092,19.350046400834135,20.2100654778652,21.01399907454461,21.80458503242348,22.622270258379377,23.51558098732011,24.558390291642947,24.558390291642947,25.915952470271165,27.05419618270968,28.078509459394176,29.05441854970796,30.033394253735565,31.066770701645588,32.218936504581315,33.58892829702402,35.36203395123178,35.36203395123178,34.03121408090875,32.98900979848311,32.10135848194988,31.29527246764287,30.521816240118383,29.74012648051002,28.906805517577375,27.963262361351045,26.809873842347475,26.80987384234748,25.227445494464682,23.95505786929432,22.846179122283978,21.81762023580967,20.810142181884075,19.77025446460137,18.636239128597836,17.31854080836904,15.655776938403994],\"mode\":\"lines\",\"type\":\"scattergeo\"},{\"lat\":[37.799383119432754,36.41111353690869,35.255706385632486,34.22404393111181,33.2489814714677,32.27896363737292,31.26410186217808,30.143664389403938,28.826539665075167,27.145757318076512,27.145757318076512,28.255716380901944,29.085115712339817,29.760246708194238,30.345704232574143,30.88035390602722,31.39127383293224,31.900414256561163,32.42837752240417,32.996076057916184,32.996076057916184,34.60245265210677,35.906596418578175,37.050968732003405,38.118236376850646,39.16853212552072,40.25731653217232,41.449781301275586,42.84190494293818,44.608801919414006,44.60880191941402,43.53987618072676,42.704869393369435,41.99506913687978,41.35164716524424,40.735410249899296,40.11389622157486,39.45296780369115,38.70702012846365,37.799383119432754],\"line\":{\"color\":\"rgba(0, 0, 255, 0.5)\",\"width\":2},\"lon\":[31.106658296523936,32.67875154457207,33.841273785825216,34.78342443708462,35.60040585266311,36.349452020058735,37.07143274377529,37.80187205836442,38.57938646206335,39.45703301876232,39.45703301876232,41.12615639137343,42.520370905736726,43.77067237391075,44.95778961219214,46.144352223911284,47.39189316403738,48.776446323950864,50.413387765867554,52.51577568079413,52.51577568079413,51.397696216198774,50.528867692910026,49.794079747669436,49.13138866756261,48.50004981514248,47.86698846094236,47.19831044493563,46.44998403350042,45.55014025811724,45.55014025811724,43.40356132553951,41.70495214010169,40.24297048385759,38.90114819469478,37.59932792849014,36.2678315267118,34.8290581385483,33.17336895184293,31.106658296523936],\"mode\":\"lines\",\"type\":\"scattergeo\"},{\"lat\":[47.002529477284654,45.36471016429707,44.02485845346738,42.844051567721166,41.740099778784916,40.65243440775719,39.52481123895999,38.29110797919529,36.8545617498698,35.04077203461158,35.04077203461158,35.812419605696306,36.35364775329198,36.76656738169772,37.10010817445525,37.380377328812614,37.62135552336764,37.8282702078203,37.99583285085187,38.09664175081436,38.09664175081436,39.89339445076173,41.341759884767924,42.60534419672582,43.77776932114924,44.92598356571665,46.11052637046463,47.40121855711386,48.899266346049686,50.78702074169349,50.7870207416935,50.21156492565026,49.75722529920173,49.36771851451632,49.01202719420707,48.66903123266956,48.32076902928136,47.947820299612715,47.523602519389314,47.002529477284654],\"line\":{\"color\":\"rgba(0, 0, 255, 0.5)\",\"width\":2},\"lon\":[51.45918795215341,52.80494332900302,53.7542639378462,54.492721895518855,55.108774986181686,55.65197028259865,56.15397483107959,56.63777342587902,57.122207001281815,57.623582096309356,57.623582096309356,59.69530408865277,61.40414043928086,62.91964921125531,64.34356646258323,65.75202875839126,67.21672971789519,68.82268495743797,70.6944647362055,73.055204589627,73.055204589627,72.42813154953502,71.9715085315256,71.60978249592829,71.30566730528226,71.03828143740778,70.79529483873979,70.57035386918876,70.36448729585085,70.19644135691159,70.1964413569116,67.38083289633236,65.15946705875898,63.2527705011429,61.507313127529926,59.81820992407117,58.09511836896626,56.23839437380013,54.10838015331598,51.45918795215341],\"mode\":\"lines\",\"type\":\"scattergeo\"},{\"lat\":[51.50041682381502,49.645181896625985,48.157945768494145,46.86681998012038,45.674453452401536,44.51223768729487,43.3193053421442,42.02689814801512,40.537272416174055,38.67762338343306,38.67762338343305,38.96146491956724,39.10041761188549,39.157214527735604,39.15708619355597,39.10850377863749,39.00905847432421,38.84488466940835,38.583255841976055,38.14865234840656,38.14865234840656,40.00992175256943,41.496341685707975,42.78247024200826,43.9665173730073,45.11702390320992,46.29401780168203,47.56435284800863,49.02179626909196,50.83004278369742,50.83004278369742,50.92614264182376,51.00345891049325,51.07076264696666,51.133053634298335,51.19388028860156,51.25641333751871,51.32425624429079,51.40255216044242,51.50041682381502],\"line\":{\"color\":\"rgba(0, 0, 255, 0.5)\",\"width\":2},\"lon\":[77.60235323316589,78.18138808645702,78.53017722711392,78.75879784802818,78.9140051584109,79.01742704334931,79.07772596876033,79.09394720828132,79.05327228321677,78.9190936055726,78.91909360557258,81.28013594892565,83.18514063147408,84.84315529133286,86.37448750307608,87.86438720719654,89.38805476386548,91.0290848758521,92.90353748660905,95.21053304917966,95.21053304917966,95.27671962473238,95.40376230485722,95.57116978266508,95.77604850793267,96.02528251927629,96.33548711293251,96.73849461237643,97.297132554905,98.15228198056836,98.15228198056836,95.17955814408323,92.80451928098329,90.74542091883545,88.84409527427418,86.9894547255932,85.08275028583724,83.01165082176327,80.61473370245317,77.60235323316586],\"mode\":\"lines\",\"type\":\"scattergeo\"},{\"lat\":[49.575026878457244,47.70739074522362,46.22923037323234,44.9582959481544,43.79393487007947,42.66709683975213,41.51829585305667,40.28216700089381,38.86778153603963,37.11687980816564,37.11687980816564,36.86965325200561,36.58775744363486,36.2840859442236,35.95600831696964,35.59307355859708,35.17710355956083,34.67778460504149,34.04088439770134,33.155928424210806,33.155928424210806,34.93597572795433,36.34114050131546,37.544301695695694,38.640869778279956,39.695521422914766,40.76265520752619,41.90008281132573,43.18522843277042,44.74730537075932,44.74730537075932,45.40397115217085,45.94044452851504,46.41345863768319,46.85633088335014,47.293620362833835,47.74828024249223,48.24757536340531,48.83188894353149,49.575026878457244],\"line\":{\"color\":\"rgba(0, 0, 255, 0.5)\",\"width\":2},\"lon\":[105.2478561912169,104.81539640057142,104.41459216006558,104.03092147534497,103.64897678406274,103.2524466600245,102.82159271347436,102.32854733606216,101.72748005873306,100.92925455186109,100.92925455186109,103.238914279472,105.05884538789049,106.61258541147859,108.02362544822002,109.37520606663709,110.736497581453,112.17985256251833,113.80072192250456,115.75667878579405,115.75667878579405,116.39378572440535,116.98648938181273,117.56350743078299,118.15061861512905,118.77550287277658,119.47367202007625,120.29850010751278,121.34297563024892,122.79861969129219,122.79861969129219,120.32134632336889,118.32896398720946,116.59170334247297,114.97896120359717,113.3974480850722,111.76244352624732,109.97539354914626,107.89182305932442,105.2478561912169],\"mode\":\"lines\",\"type\":\"scattergeo\"},{\"lat\":[41.99658065806349,40.27846624434996,38.92672369634791,37.77033867943715,36.71578161521435,35.69973496332662,34.66857917113766,33.56447897241442,32.30831280368936,30.76431977377028,30.76431977377028,30.09031000614488,29.48191167967164,28.906386385453757,28.33698026257094,27.74790338813624,27.109196577983617,26.37932414326265,25.490569051945325,24.312017714739785,24.312017714739785,25.952533392621856,27.23505157464407,28.32377775433785,29.307994911066157,30.246910517122114,31.188814820778138,32.183190761869696,33.29394531674522,34.62412972065491,34.62412972065491,35.60188790352563,36.406765441318356,37.120806823470375,37.792992987773715,38.46013635237843,39.157391301228024,39.92736024600211,40.83417036650231,41.996580658063486],\"line\":{\"color\":\"rgba(0, 0, 255, 0.5)\",\"width\":2},\"lon\":[128.19791818757577,127.18725143647163,126.35495907472624,125.61637522563682,124.9209121354594,124.23051917425977,123.50883793590492,122.71180392467798,121.77314438082973,120.5704305017642,120.5704305017642,122.57568675494807,124.13199896067715,125.44514823247361,126.62597307619417,127.74709529814352,128.8668989450662,130.04440625925494,131.35525927910987,132.92168046364222,132.92168046364222,133.8624706261666,134.68599104728844,135.45258673611022,136.20447658497,136.97912211499423,137.8183624254646,138.7795593466336,139.9567548292389,141.53476627035138,141.53476627035138,139.6065450292215,138.06608374756104,136.73073702965362,135.49781139012586,134.29511697430155,133.05840634602396,131.71445042336538,130.15769945527467,128.19791818757577],\"mode\":\"lines\",\"type\":\"scattergeo\"},{\"lat\":[31.008771237410077,29.445064877490555,28.22082750854397,27.17833619744509,26.231909716767326,25.32421705982395,24.407532176842558,23.431411380654506,22.328203330076413,20.983947957753738,20.983947957753738,20.03557480621462,19.222243943402518,18.479295480798257,17.763666468744354,17.039590524895385,16.269810181828905,15.406227189923928,14.373678043958284,13.030489650655985,13.030489650655987,14.551733316897511,15.734580618836569,16.7341137268679,17.63397177274889,18.489024693592896,19.34339206775937,20.24155376443205,21.240081793583837,22.429028969182554,22.429028969182554,23.554311339930845,24.4845289682081,25.312286200605865,26.093424521134118,26.87032199382479,27.683816580717266,28.58374736387131,29.645460558703988,31.008771237410077],\"line\":{\"color\":\"rgba(0, 0, 255, 0.5)\",\"width\":2},\"lon\":[145.484983258973,144.30991958882024,143.34822917914764,142.49860150373945,141.70139881479594,140.91240618564635,140.08995197847727,139.18409647974516,138.1203243479896,136.7617571923497,136.7617571923497,138.4544203155262,139.76148498346126,140.8603340877941,141.84566983259455,142.77900908430004,143.7093660606512,144.6858705025309,145.77107081852975,147.0655973395803,147.0655973395803,148.13415677972287,149.04360448541192,149.87182735924674,150.6691154195345,151.47663617479452,152.33716053710066,153.30619054614857,154.47128938101895,155.99960782773636,155.99960782773636,154.4123455490112,153.1586473066378,152.0829189704982,151.09927045805904,150.14898123438093,149.18171259184652,148.14239570012148,146.95457890280963,145.484983258973],\"mode\":\"lines\",\"type\":\"scattergeo\"},{\"lat\":[18.3830503362783,16.912996088529074,15.76734151817016,14.796158338685494,13.918468193831101,13.080692171401253,12.239003987092996,11.348091835401432,10.348557685973175,9.142547590257449,9.142547590257445,8.042889099314568,7.1187450068702,6.286710488237712,5.4943697391875155,4.700393627098039,3.8636020335104964,2.932523473101924,1.8283246019358839,0.404142522227763,0.4041425222277672,1.858941433451344,2.9887094835480132,3.9427265128268907,4.801314526775597,5.617102446242883,6.432413019156473,7.289996469191455,8.244440996467288,9.383197244687409,9.383197244687409,10.551602488701946,11.52167714057627,12.38751069816787,13.20644692740665,14.022421628364135,14.878116960771939,15.825905146889344,16.945148508511807,18.383050336278295],\"line\":{\"color\":\"rgba(0, 0, 255, 0.5)\",\"width\":2},\"lon\":[159.15154636845955,157.9724219524313,157.00127215686163,156.13916811460172,155.3270511133681,154.520486388833,153.6769769193262,152.7449752837854,151.64693782272028,150.23973041932413,150.23973041932413,151.73153478054869,152.88568549718437,153.85785120807694,154.7313275159798,155.56046345008627,156.38888104535584,157.26073071624242,158.23280410793933,159.39737379401907,159.39737379401907,160.52396331753337,161.46656684731158,162.31356001034277,163.11964314847484,163.92760413726876,164.77998152840576,165.73005006605254,166.85976963753956,168.32274884498494,168.32274884498494,166.88255197867448,165.75698338156639,164.80029928549175,163.93334613291634,163.1033236444332,162.26649550156395,161.37687929970647,160.37303423094025,159.15154636845955],\"mode\":\"lines\",\"type\":\"scattergeo\"},{\"lat\":[5.210817097363808,3.7655725718051953,2.642649112773586,1.693777317083097,0.8391471966993631,0.026373286030122352,-0.7868172000692765,-1.6433409095271303,-2.5983325575028333,-3.7407285235356724,-3.7407285235356724,-4.904110439821324,-5.872487560876128,-6.738370153662658,-7.558495185171123,-8.376586819667473,-9.235336636694672,-10.187314945148849,-11.31232995731607,-12.758461527574077,-12.75846152757407,-11.307296961988808,-10.178126300308268,-9.22245235767076,-8.360216566320622,-7.538659354575663,-6.714907431776238,-5.845015769654177,-4.871915168337047,-3.702483380543893,-3.702483380543893,-2.5662321008310665,-1.6160173104303388,-0.7635325066635311,0.046017282271090906,0.8553249733759468,1.7064817322221328,2.651686883830089,3.770508137349775,5.210817097363813],\"line\":{\"color\":\"rgba(0, 0, 255, 0.5)\",\"width\":2},\"lon\":[171.19677523315306,170.05215941873902,169.0997444675819,168.24760263344567,167.4395650549855,166.6323055916978,165.7833444318791,164.84008436374728,163.7222583478054,162.28028008254546,162.28028008254546,163.7059352568746,164.8159593814159,165.75627984294968,166.60570628885716,167.41637205699047,168.2309530544744,169.09368878381966,170.06287288308158,171.23536157736038,171.23536157736038,172.40141589071524,173.36562475518923,174.22416993829336,175.03498556576787,175.8420771726772,176.6879334347705,177.62449909265158,178.73034310197923,-179.8489931902613,-179.8489931902613,178.70429838568802,177.58248673647395,176.63563401524695,175.78324969642216,174.9725591716622,174.16090516358994,173.30473915668972,172.3475509796364,171.19677523315306],\"mode\":\"lines\",\"type\":\"scattergeo\"},{\"lat\":[-7.734565982820863,-9.22005039818473,-10.373941145623688,-11.348298413910856,-12.22499878061375,-13.057672872652148,-13.889380002549744,-14.763482692704802,-15.735113137451254,-16.89209721683323,-16.892097216833225,-18.0460864903986,-19.001650198037034,-19.852956733794567,-20.65702606970692,-21.457290594776477,-22.295734479903718,-23.223701699905497,-24.31888131516327,-25.725402448194913,-25.725402448194917,-24.21030331803449,-23.026571751284827,-22.020595932937802,-21.109149842668412,-20.236824051337248,-19.357846034196108,-18.424294792758104,-17.372521100705992,-16.09629784851669,-16.096297848516688,-15.07046004213185,-14.200067476289874,-13.411026011071597,-12.655535946069485,-11.89499163696399,-11.090112345278058,-10.191037371563818,-9.120663480047943,-7.734565982820863],\"line\":{\"color\":\"rgba(0, 0, 255, 0.5)\",\"width\":2},\"lon\":[-176.8455278366025,-177.94325964412388,-178.86990082618303,-179.70835642371634,179.48894574669464,178.68003178130843,177.8222121242839,176.86102469250235,175.7115761764586,174.2132463923882,174.2132463923882,175.71661096231782,176.89837031524493,177.90802682399115,178.8274945707204,179.71214560890343,-179.39129060365588,-178.4326020821947,-177.34325933177226,-176.00564026268341,-176.00564026268341,-174.81934274459257,-173.84645387110143,-172.9855982491837,-172.17682884184424,-171.37549139491907,-170.53930288070754,-169.61739646148303,-168.53368123280515,-167.14818935406944,-167.14818935406944,-168.73873578172993,-169.96711888584653,-171.00010899993475,-171.92673361390897,-172.8048586163163,-173.6806570113295,-174.60051410892663,-175.62363690264047,-176.8455278366025],\"mode\":\"lines\",\"type\":\"scattergeo\"},{\"lat\":[-19.705333965961174,-21.289538233491953,-22.524478890167206,-23.570223130850888,-24.513431136735857,-25.41123033266971,-26.309838972722066,-27.256170528535765,-28.310257753583087,-29.568111595988718,-29.568111595988718,-30.62535441751738,-31.497374579081303,-32.272117049639135,-33.002327751195345,-33.7278350016321,-34.48684856456577,-35.32584901983135,-36.31498293149484,-37.58436565148748,-37.58436565148748,-35.93782189081915,-34.645098160565055,-33.54134061711191,-32.5366555922993,-31.5704867045664,-30.591914702666124,-29.54646858216597,-28.36021921730601,-26.90723232755919,-26.907232327559186,-26.09795904944264,-25.38804056005507,-24.729259158877227,-24.08690057815264,-23.430269411817857,-22.725784407680056,-21.928616741900303,-20.967271940064226,-19.705333965961174],\"line\":{\"color\":\"rgba(0, 0, 255, 0.5)\",\"width\":2},\"lon\":[-163.6386377373198,-164.6483409585616,-165.51985119204699,-166.32231546373797,-167.10211807777054,-167.89875954839593,-168.75480292661783,-169.72706541083994,-170.9069863270436,-172.47174467757193,-172.4717446775719,-170.71641195990682,-169.3207185582743,-168.11599073094632,-167.00812456211796,-165.93173850197803,-164.82954132902913,-163.63731324733155,-162.26386400611804,-160.5469703331316,-160.5469703331316,-159.4323083328873,-158.51966732643626,-157.71314183746605,-156.95621401339744,-156.2069380140441,-155.42574027508294,-154.56515131307796,-153.55428217180972,-152.26279630656816,-152.26279630656816,-154.1246700098987,-155.565024181712,-156.77741607788593,-157.8655278916136,-158.89690757214854,-159.92552018745326,-161.0055782020205,-162.2061974269998,-163.63863773731984],\"mode\":\"lines\",\"type\":\"scattergeo\"},{\"lat\":[-29.751499257481306,-31.473152875257124,-32.82597860600388,-33.97956206123557,-35.02682612926334,-36.03008809865517,-37.0409770069174,-38.11338963233328,-39.31823203509783,-40.77183691390081,-40.77183691390081,-41.59310862871217,-42.26673203410855,-42.86262398273306,-43.42219040741092,-43.97626803273818,-44.554017115703,-45.19046401856474,-45.93796749557335,-46.89296342417423,-46.892963424174226,-45.080032325193194,-43.64939114893891,-42.42226957499808,-41.300439723379654,-40.21694519619311,-39.11455700716937,-37.930905427152155,-36.57984599397876,-34.912321685346654,-34.91232168534666,-34.46389367733319,-34.0268633700062,-33.59322623532451,-33.149169997298415,-32.67703658205218,-32.15301968664729,-31.541342464695425,-30.781088672782086,-29.751499257481306],\"line\":{\"color\":\"rgba(0, 0, 255, 0.5)\",\"width\":2},\"lon\":[-147.89028765422714,-148.68733583775062,-149.40427657926804,-150.08554190641132,-150.765329870281,-151.4766114808681,-152.25871303419976,-153.16808292147397,-154.30018424830422,-155.8471812646508,-155.8471812646508,-153.62498091763408,-151.840784458853,-150.2873204421772,-148.84708585108126,-147.43646664052508,-145.97987362247844,-144.38974861030115,-142.53813494070693,-140.1917691564904,-140.1917691564904,-139.4442998286362,-138.81007150416343,-138.2354986112881,-137.68576204422968,-137.1326924931709,-136.54762372183222,-135.8941428261953,-135.11581400721496,-134.10644598921553,-134.10644598921553,-136.30111460144462,-138.01694278170604,-139.47282744456012,-140.78812166580212,-142.0420796745844,-143.2994081289538,-144.62656892254546,-146.10989647532588,-147.89028765422717],\"mode\":\"lines\",\"type\":\"scattergeo\"},{\"lat\":[-36.575017052985785,-38.41538518486343,-39.8779079408548,-41.13775469550128,-42.29265681789855,-43.4099638732119,-44.547641576161254,-45.76897190476602,-47.1609954706961,-48.87278568375598,-48.87278568375598,-49.23736866137929,-49.53293113100499,-49.79185360269103,-50.03286166995022,-50.26949107537775,-50.51410439257722,-50.78105967868837,-51.091226032553955,-51.48214550327144,-51.48214550327144,-49.59223354778541,-48.0873423968438,-46.78739643318862,-45.59178655069528,-44.430604662795886,-43.242755101702706,-41.96016502892847,-40.48707261914738,-38.6554042550285,-38.6554042550285,-38.70726466606748,-38.66026883392503,-38.5563189878584,-38.40876550847027,-38.21781654944554,-37.97397848804269,-37.65577474780016,-37.22027044345997,-36.575017052985785],\"line\":{\"color\":\"rgba(0, 0, 255, 0.5)\",\"width\":2},\"lon\":[-128.72340259341888,-129.06562932326437,-129.42082967776267,-129.79144735198048,-130.18831825633703,-130.62871002756535,-131.13921182463702,-131.7637449800099,-132.58315008916162,-133.77077297972627,-133.77077297972627,-130.96469808432283,-128.71220744603104,-126.75152445164973,-124.93442664167416,-123.15561557652555,-121.32015298064478,-119.3184682374622,-116.99113633941674,-114.04909238419084,-114.04909238419084,-114.1754822062344,-114.18692203937765,-114.13897721120144,-114.05092387276525,-113.92747736990991,-113.76453994745279,-113.54897908536871,-113.25296024302928,-112.81591327441356,-112.81591327441356,-115.20021188110424,-117.10356098715233,-118.7456148212966,-120.25043592471461,-121.70389648851918,-123.17964360328513,-124.75724746149842,-126.54458272748305,-128.72340259341888],\"mode\":\"lines\",\"type\":\"scattergeo\"},{\"lat\":[-38.77208952070991,-40.6164572865695,-42.09789938179791,-43.38633873666372,-44.578366951208075,-45.74242236264683,-46.93966862822642,-48.23977272818201,-49.74257181017298,-51.626039592545624,-51.626039592545624,-51.331495644187925,-51.097168240139034,-50.89504999049085,-50.709497638773016,-50.52968621980366,-50.34623084770004,-50.14878422612142,-49.92294776032696,-49.64370908766032,-49.64370908766032,-47.89721350225713,-46.481234526024295,-45.24165770751389,-44.08908545967956,-42.95895521085679,-41.79252875992307,-40.521960150106224,-39.04921562678924,-37.1990766618681,-37.19907666186808,-37.77676871594014,-38.156190621696666,-38.4244764229618,-38.621318223021106,-38.7657392075389,-38.86491075627721,-38.91587293724255,-38.901267266135285,-38.77208952070991],\"line\":{\"color\":\"rgba(0, 0, 255, 0.5)\",\"width\":2},\"lon\":[-106.88705310298764,-106.54954983458896,-106.33760461562733,-106.19849520443194,-106.10932734593555,-106.0610032394817,-106.0536890750512,-106.09780027850617,-106.2219514194656,-106.50040656228438,-106.50040656228438,-103.517749285507,-101.15408822418223,-99.1183359330291,-97.24943634639729,-95.43628774979118,-93.5822174190339,-91.57956371730016,-89.27628381522818,-86.40321147292866,-86.40321147292866,-87.49264072778445,-88.23371832098404,-88.79093361613434,-89.24002173232252,-89.62136356032657,-89.95853293001525,-90.2655669716421,-90.5489372297871,-90.80369654613355,-90.80369654613354,-93.03040579670082,-94.85150528184485,-96.45473535308552,-97.95087599547158,-99.42101244500701,-100.93950585474624,-102.59227847067437,-104.5025295327489,-106.88705310298764],\"mode\":\"lines\",\"type\":\"scattergeo\"},{\"lat\":[-35.73921957068668,-37.435960619248256,-38.80933582806742,-40.01158535329083,-41.13052137510061,-42.22957320558966,-43.366789572790196,-44.609919081894,-46.05815926003534,-47.89177977793932,-47.89177977793932,-47.00178056150475,-46.304253248999146,-45.70974601597238,-45.16958587535775,-44.65112670703288,-44.127102540924845,-43.56858125456162,-42.93659623081753,-42.16518316446577,-42.16518316446577,-40.67663471206642,-39.44568161304231,-38.35196627295034,-37.32252043358139,-36.302190138560015,-35.23843821005056,-34.068150889635845,-32.69753460584461,-30.95580284635976,-30.95580284635976,-31.940564703683044,-32.66243822997396,-33.23904068672248,-33.729225974506136,-34.1670652847771,-34.57458606227707,-34.967143982243094,-35.354948319687914,-35.73921957068668],\"line\":{\"color\":\"rgba(0, 0, 255, 0.5)\",\"width\":2},\"lon\":[-85.29623190326794,-84.35070919748553,-83.62581759499012,-83.02057349955963,-82.48175806315606,-81.97552787763483,-81.47587636818513,-80.9581391264575,-80.39320109327849,-79.73890206116647,-79.73890206116647,-77.29131730947407,-75.36148308614341,-73.70538789223936,-72.1893587195586,-70.72209340586092,-69.22495242175202,-67.61115253251931,-65.75896989022094,-63.45397070482066,-63.45397070482067,-64.9788275480801,-66.08811834927903,-66.97463579916686,-67.73347855749094,-68.42036664618237,-69.07358250671501,-69.72454871036611,-70.40491370359153,-71.1542616714844,-71.1542616714844,-72.99244323685424,-74.52150117732208,-75.88766183510062,-77.1802180742926,-78.46759160074242,-79.81603524568703,-81.30627061204657,-83.05931455477136,-85.29623190326797],\"mode\":\"lines\",\"type\":\"scattergeo\"},{\"lat\":[-28.253309409720938,-29.735950067259697,-30.944955955640456,-32.00947618772241,-33.00513611054604,-33.98750393723362,-35.00837809043365,-36.12921281376934,-37.44108398708608,-39.110851971084266,-39.11085197108425,-37.87308623248186,-36.90831318035566,-36.089749580081836,-35.34902033877137,-34.64078736199685,-33.927740051863836,-33.17093462813987,-32.3187230291964,-31.28486615442233,-31.28486615442233,-30.004929489435312,-28.933399601039735,-27.972183965743096,-27.060087836133096,-26.1494146084092,-25.193302274818933,-24.133963611143447,-22.883890696761274,-21.28165861175455,-21.281658611754544,-22.51822331061557,-23.45742939381012,-24.23403142335362,-24.918376253434836,-25.554284736907004,-26.174221264279534,-26.807359348157494,-27.485931618376977,-28.253309409720938],\"line\":{\"color\":\"rgba(0, 0, 255, 0.5)\",\"width\":2},\"lon\":[-66.63702130392313,-65.3706308957015,-64.38001848758543,-63.53713489146012,-62.77240824040536,-62.03932082993542,-61.29917486599595,-60.51105838140823,-59.61999339973227,-58.532939187467484,-58.53293918746749,-56.740631182757554,-55.31038020722186,-54.07121340112692,-52.927467225816606,-51.81212549771112,-50.66574904139233,-49.420867647300796,-47.980759680912264,-46.17251825617803,-46.17251825617803,-47.74377912277313,-48.92470644817138,-49.895076147533075,-50.74726105493618,-51.53832758146732,-52.31067264078559,-53.10321347652861,-53.961090386141635,-54.95077244639267,-54.95077244639267,-56.42497031183989,-57.66012640584846,-58.77085829690194,-59.828302561670995,-60.88818358753944,-62.005881998026815,-63.25060384049335,-64.72841468005993,-66.63702130392313],\"mode\":\"lines\",\"type\":\"scattergeo\"},{\"lat\":[-17.75890195298766,-19.056356030647724,-20.12411938452215,-21.070860701675265,-21.961486866471983,-22.844706460255548,-23.766896410720392,-24.784054432814393,-25.980151388622158,-27.510040252227107,-27.510040252227107,-26.115757605362244,-25.030052063768586,-24.11000437328497,-23.27858471363526,-22.48487014815593,-21.687191687960944,-20.842397366936044,-19.893763781629733,-18.74747938669694,-18.74747938669694,-17.58165445050262,-16.6024370848456,-15.721456094736652,-14.883202866603751,-14.044007543697193,-13.160506581742192,-12.178702187099038,-11.016184649868082,-9.519969225532337,-9.51996922553233,-10.893280532006937,-11.952362974429288,-12.840821955145717,-13.635182037938582,-14.384774989606866,-15.128270314704938,-15.903411237992861,-16.75655277437726,-17.75890195298766],\"line\":{\"color\":\"rgba(0, 0, 255, 0.5)\",\"width\":2},\"lon\":[-51.338514220796974,-49.960502794472006,-48.882167679300636,-47.96445883139832,-47.131738828032546,-46.333391341403804,-45.5272761171125,-44.668805458041206,-43.69800773944106,-42.513280941461986,-42.513280941461986,-41.13638122469775,-40.01780545743338,-39.03524453774654,-38.117803793138485,-37.21382909573484,-36.275529694136594,-35.246563316158515,-34.0438846100723,-32.51629164542759,-32.51629164542759,-34.02444732711347,-35.1791857628519,-36.143183805911775,-37.00218411204555,-37.81098637909584,-38.6123167517037,-39.447907828519,-40.369529963063776,-41.45852808004378,-41.45852808004378,-42.70172546332352,-43.74321098964658,-44.67993262626659,-45.57206214445874,-46.46679631831683,-47.411166714767056,-48.4641615934006,-49.71657498025084,-51.338514220796995],\"mode\":\"lines\",\"type\":\"scattergeo\"},{\"lat\":[-5.530010505258679,-6.7100751494583575,-7.69075530374229,-8.566598488723436,-9.395366272533275,-10.221402150427283,-11.087848570775941,-12.047685847039755,-13.181207374780282,-14.63726338554458,-14.637263385544578,-13.192592498389947,-12.068455541008165,-11.116953163561883,-10.258360232290604,-9.440124274682667,-8.619511921788034,-7.752675179816232,-6.7825959975686345,-5.616094114173285,-5.6160941141732845,-4.476512013401314,-3.5229536173903226,-2.6671378381764574,-1.8541994004380065,-1.0413351533107746,-0.18630320828359234,0.763313820494932,1.8874317164872,3.3345480256304176,3.3345480256304176,1.8984879455458985,0.7835742236791092,-0.15780574879921389,-1.0050267616876611,-1.8100889018661117,-2.6148252901002356,-3.461533902963291,-4.40431115792046,-5.530010505258679],\"line\":{\"color\":\"rgba(0, 0, 255, 0.5)\",\"width\":2},\"lon\":[-38.40590774564614,-36.98978473879713,-35.88651852784122,-34.951406754880544,-34.10623432456315,-33.29919067857281,-32.48777929825322,-31.62783898528734,-30.66103563213204,-29.490219411183997,-29.490219411183993,-28.304718126778827,-27.326566671531854,-26.45707088603313,-25.637074424924496,-24.821881243316454,-23.968566665760555,-23.024888251580812,-21.91207833364178,-20.484544863574918,-20.484544863574907,-21.932971461460802,-23.054443465863457,-23.999778238302177,-24.849760638033167,-25.65719289483735,-26.464567164405757,-27.315033314034846,-28.264286606695833,-29.40311060510601,-29.40311060510601,-30.55569026873144,-31.51560762390754,-32.37506591430338,-33.19052099600068,-34.00561832830116,-34.8632451609434,-35.81659769194483,-36.94695511816081,-38.40590774564614],\"mode\":\"lines\",\"type\":\"scattergeo\"},{\"lat\":[-2.955360014872126e-05,-1.1528112585266992,-2.114394946902867,-2.9755016187029537,-3.7920638503154755,-4.607398318573975,-5.463982576099329,-6.414287841746595,-7.538111772712614,-8.983604471434974,-8.983604471434973,-7.53811308861628,-6.4142902479322474,-5.463985954428716,-4.607402615902131,-3.792069063043045,-2.97550779119526,-2.1144021822265224,-1.1528197484765028,-3.965394694796684e-05,-3.965394695054509e-05,1.152741799635406,2.1143253197447716,2.9754318674142044,3.7919940010438924,4.60732838791642,5.463912575094267,6.414217778003125,7.538041651629239,8.983534296531374,8.983534296531374,7.538042967728162,6.414220184477246,5.463915953755413,4.607332685589544,3.7919992141073737,2.975438040212653,2.1143325553201735,1.15275028974577,-2.9553600148486408e-05],\"line\":{\"color\":\"rgba(0, 0, 255, 0.5)\",\"width\":2},\"lon\":[-33.26699409456126,-31.836464364643252,-30.72507989379789,-29.785435984403616,-28.938181609677226,-28.131075171070766,-27.321641489094393,-26.46620766882662,-25.507694540939756,-24.35198016610761,-24.351980166107612,-23.196264132087183,-22.2377497199169,-21.382314817411864,-20.572880162911037,-19.765772801363404,-18.918517505216,-17.978872627672054,-16.86748708073018,-15.436956069436569,-15.436956069436569,-16.867485995235675,-17.9788705759508,-18.918514546453217,-19.765768949152363,-20.572875388579142,-21.382309044095855,-22.237742804286597,-23.196255822070526,-24.351969997274246,-24.35196999727425,-25.507685831596117,-26.46620013366237,-27.321634976128976,-28.131069604239197,-28.93817696670658,-29.785432290963907,-30.72507722980857,-31.836462886907352,-33.26699409456126],\"mode\":\"lines\",\"type\":\"scattergeo\"}],                        {\"geo\":{\"countrywidth\":0.0,\"lakecolor\":\"rgb(240, 240, 240)\",\"landcolor\":\"rgb(100, 100, 100)\",\"lataxis\":{\"gridcolor\":\"rgb(102, 102, 102)\",\"gridwidth\":0.5,\"showgrid\":true},\"lonaxis\":{\"gridcolor\":\"rgb(102, 102, 102)\",\"gridwidth\":0.5,\"showgrid\":true},\"oceancolor\":\"rgb(240, 240, 240)\",\"projection\":{\"rotation\":{\"lat\":0,\"lon\":0,\"roll\":0},\"type\":\"orthographic\"},\"showcountries\":false,\"showlakes\":true,\"showland\":true,\"showocean\":true},\"height\":1000,\"showlegend\":false,\"template\":{\"data\":{\"bar\":[{\"error_x\":{\"color\":\"#2a3f5f\"},\"error_y\":{\"color\":\"#2a3f5f\"},\"marker\":{\"line\":{\"color\":\"#E5ECF6\",\"width\":0.5},\"pattern\":{\"fillmode\":\"overlay\",\"size\":10,\"solidity\":0.2}},\"type\":\"bar\"}],\"barpolar\":[{\"marker\":{\"line\":{\"color\":\"#E5ECF6\",\"width\":0.5},\"pattern\":{\"fillmode\":\"overlay\",\"size\":10,\"solidity\":0.2}},\"type\":\"barpolar\"}],\"carpet\":[{\"aaxis\":{\"endlinecolor\":\"#2a3f5f\",\"gridcolor\":\"white\",\"linecolor\":\"white\",\"minorgridcolor\":\"white\",\"startlinecolor\":\"#2a3f5f\"},\"baxis\":{\"endlinecolor\":\"#2a3f5f\",\"gridcolor\":\"white\",\"linecolor\":\"white\",\"minorgridcolor\":\"white\",\"startlinecolor\":\"#2a3f5f\"},\"type\":\"carpet\"}],\"choropleth\":[{\"colorbar\":{\"outlinewidth\":0,\"ticks\":\"\"},\"type\":\"choropleth\"}],\"contour\":[{\"colorbar\":{\"outlinewidth\":0,\"ticks\":\"\"},\"colorscale\":[[0.0,\"#0d0887\"],[0.1111111111111111,\"#46039f\"],[0.2222222222222222,\"#7201a8\"],[0.3333333333333333,\"#9c179e\"],[0.4444444444444444,\"#bd3786\"],[0.5555555555555556,\"#d8576b\"],[0.6666666666666666,\"#ed7953\"],[0.7777777777777778,\"#fb9f3a\"],[0.8888888888888888,\"#fdca26\"],[1.0,\"#f0f921\"]],\"type\":\"contour\"}],\"contourcarpet\":[{\"colorbar\":{\"outlinewidth\":0,\"ticks\":\"\"},\"type\":\"contourcarpet\"}],\"heatmap\":[{\"colorbar\":{\"outlinewidth\":0,\"ticks\":\"\"},\"colorscale\":[[0.0,\"#0d0887\"],[0.1111111111111111,\"#46039f\"],[0.2222222222222222,\"#7201a8\"],[0.3333333333333333,\"#9c179e\"],[0.4444444444444444,\"#bd3786\"],[0.5555555555555556,\"#d8576b\"],[0.6666666666666666,\"#ed7953\"],[0.7777777777777778,\"#fb9f3a\"],[0.8888888888888888,\"#fdca26\"],[1.0,\"#f0f921\"]],\"type\":\"heatmap\"}],\"heatmapgl\":[{\"colorbar\":{\"outlinewidth\":0,\"ticks\":\"\"},\"colorscale\":[[0.0,\"#0d0887\"],[0.1111111111111111,\"#46039f\"],[0.2222222222222222,\"#7201a8\"],[0.3333333333333333,\"#9c179e\"],[0.4444444444444444,\"#bd3786\"],[0.5555555555555556,\"#d8576b\"],[0.6666666666666666,\"#ed7953\"],[0.7777777777777778,\"#fb9f3a\"],[0.8888888888888888,\"#fdca26\"],[1.0,\"#f0f921\"]],\"type\":\"heatmapgl\"}],\"histogram\":[{\"marker\":{\"pattern\":{\"fillmode\":\"overlay\",\"size\":10,\"solidity\":0.2}},\"type\":\"histogram\"}],\"histogram2d\":[{\"colorbar\":{\"outlinewidth\":0,\"ticks\":\"\"},\"colorscale\":[[0.0,\"#0d0887\"],[0.1111111111111111,\"#46039f\"],[0.2222222222222222,\"#7201a8\"],[0.3333333333333333,\"#9c179e\"],[0.4444444444444444,\"#bd3786\"],[0.5555555555555556,\"#d8576b\"],[0.6666666666666666,\"#ed7953\"],[0.7777777777777778,\"#fb9f3a\"],[0.8888888888888888,\"#fdca26\"],[1.0,\"#f0f921\"]],\"type\":\"histogram2d\"}],\"histogram2dcontour\":[{\"colorbar\":{\"outlinewidth\":0,\"ticks\":\"\"},\"colorscale\":[[0.0,\"#0d0887\"],[0.1111111111111111,\"#46039f\"],[0.2222222222222222,\"#7201a8\"],[0.3333333333333333,\"#9c179e\"],[0.4444444444444444,\"#bd3786\"],[0.5555555555555556,\"#d8576b\"],[0.6666666666666666,\"#ed7953\"],[0.7777777777777778,\"#fb9f3a\"],[0.8888888888888888,\"#fdca26\"],[1.0,\"#f0f921\"]],\"type\":\"histogram2dcontour\"}],\"mesh3d\":[{\"colorbar\":{\"outlinewidth\":0,\"ticks\":\"\"},\"type\":\"mesh3d\"}],\"parcoords\":[{\"line\":{\"colorbar\":{\"outlinewidth\":0,\"ticks\":\"\"}},\"type\":\"parcoords\"}],\"pie\":[{\"automargin\":true,\"type\":\"pie\"}],\"scatter\":[{\"marker\":{\"colorbar\":{\"outlinewidth\":0,\"ticks\":\"\"}},\"type\":\"scatter\"}],\"scatter3d\":[{\"line\":{\"colorbar\":{\"outlinewidth\":0,\"ticks\":\"\"}},\"marker\":{\"colorbar\":{\"outlinewidth\":0,\"ticks\":\"\"}},\"type\":\"scatter3d\"}],\"scattercarpet\":[{\"marker\":{\"colorbar\":{\"outlinewidth\":0,\"ticks\":\"\"}},\"type\":\"scattercarpet\"}],\"scattergeo\":[{\"marker\":{\"colorbar\":{\"outlinewidth\":0,\"ticks\":\"\"}},\"type\":\"scattergeo\"}],\"scattergl\":[{\"marker\":{\"colorbar\":{\"outlinewidth\":0,\"ticks\":\"\"}},\"type\":\"scattergl\"}],\"scattermapbox\":[{\"marker\":{\"colorbar\":{\"outlinewidth\":0,\"ticks\":\"\"}},\"type\":\"scattermapbox\"}],\"scatterpolar\":[{\"marker\":{\"colorbar\":{\"outlinewidth\":0,\"ticks\":\"\"}},\"type\":\"scatterpolar\"}],\"scatterpolargl\":[{\"marker\":{\"colorbar\":{\"outlinewidth\":0,\"ticks\":\"\"}},\"type\":\"scatterpolargl\"}],\"scatterternary\":[{\"marker\":{\"colorbar\":{\"outlinewidth\":0,\"ticks\":\"\"}},\"type\":\"scatterternary\"}],\"surface\":[{\"colorbar\":{\"outlinewidth\":0,\"ticks\":\"\"},\"colorscale\":[[0.0,\"#0d0887\"],[0.1111111111111111,\"#46039f\"],[0.2222222222222222,\"#7201a8\"],[0.3333333333333333,\"#9c179e\"],[0.4444444444444444,\"#bd3786\"],[0.5555555555555556,\"#d8576b\"],[0.6666666666666666,\"#ed7953\"],[0.7777777777777778,\"#fb9f3a\"],[0.8888888888888888,\"#fdca26\"],[1.0,\"#f0f921\"]],\"type\":\"surface\"}],\"table\":[{\"cells\":{\"fill\":{\"color\":\"#EBF0F8\"},\"line\":{\"color\":\"white\"}},\"header\":{\"fill\":{\"color\":\"#C8D4E3\"},\"line\":{\"color\":\"white\"}},\"type\":\"table\"}]},\"layout\":{\"annotationdefaults\":{\"arrowcolor\":\"#2a3f5f\",\"arrowhead\":0,\"arrowwidth\":1},\"autotypenumbers\":\"strict\",\"coloraxis\":{\"colorbar\":{\"outlinewidth\":0,\"ticks\":\"\"}},\"colorscale\":{\"diverging\":[[0,\"#8e0152\"],[0.1,\"#c51b7d\"],[0.2,\"#de77ae\"],[0.3,\"#f1b6da\"],[0.4,\"#fde0ef\"],[0.5,\"#f7f7f7\"],[0.6,\"#e6f5d0\"],[0.7,\"#b8e186\"],[0.8,\"#7fbc41\"],[0.9,\"#4d9221\"],[1,\"#276419\"]],\"sequential\":[[0.0,\"#0d0887\"],[0.1111111111111111,\"#46039f\"],[0.2222222222222222,\"#7201a8\"],[0.3333333333333333,\"#9c179e\"],[0.4444444444444444,\"#bd3786\"],[0.5555555555555556,\"#d8576b\"],[0.6666666666666666,\"#ed7953\"],[0.7777777777777778,\"#fb9f3a\"],[0.8888888888888888,\"#fdca26\"],[1.0,\"#f0f921\"]],\"sequentialminus\":[[0.0,\"#0d0887\"],[0.1111111111111111,\"#46039f\"],[0.2222222222222222,\"#7201a8\"],[0.3333333333333333,\"#9c179e\"],[0.4444444444444444,\"#bd3786\"],[0.5555555555555556,\"#d8576b\"],[0.6666666666666666,\"#ed7953\"],[0.7777777777777778,\"#fb9f3a\"],[0.8888888888888888,\"#fdca26\"],[1.0,\"#f0f921\"]]},\"colorway\":[\"#636efa\",\"#EF553B\",\"#00cc96\",\"#ab63fa\",\"#FFA15A\",\"#19d3f3\",\"#FF6692\",\"#B6E880\",\"#FF97FF\",\"#FECB52\"],\"font\":{\"color\":\"#2a3f5f\"},\"geo\":{\"bgcolor\":\"white\",\"lakecolor\":\"white\",\"landcolor\":\"#E5ECF6\",\"showlakes\":true,\"showland\":true,\"subunitcolor\":\"white\"},\"hoverlabel\":{\"align\":\"left\"},\"hovermode\":\"closest\",\"mapbox\":{\"style\":\"light\"},\"paper_bgcolor\":\"white\",\"plot_bgcolor\":\"#E5ECF6\",\"polar\":{\"angularaxis\":{\"gridcolor\":\"white\",\"linecolor\":\"white\",\"ticks\":\"\"},\"bgcolor\":\"#E5ECF6\",\"radialaxis\":{\"gridcolor\":\"white\",\"linecolor\":\"white\",\"ticks\":\"\"}},\"scene\":{\"xaxis\":{\"backgroundcolor\":\"#E5ECF6\",\"gridcolor\":\"white\",\"gridwidth\":2,\"linecolor\":\"white\",\"showbackground\":true,\"ticks\":\"\",\"zerolinecolor\":\"white\"},\"yaxis\":{\"backgroundcolor\":\"#E5ECF6\",\"gridcolor\":\"white\",\"gridwidth\":2,\"linecolor\":\"white\",\"showbackground\":true,\"ticks\":\"\",\"zerolinecolor\":\"white\"},\"zaxis\":{\"backgroundcolor\":\"#E5ECF6\",\"gridcolor\":\"white\",\"gridwidth\":2,\"linecolor\":\"white\",\"showbackground\":true,\"ticks\":\"\",\"zerolinecolor\":\"white\"}},\"shapedefaults\":{\"line\":{\"color\":\"#2a3f5f\"}},\"ternary\":{\"aaxis\":{\"gridcolor\":\"white\",\"linecolor\":\"white\",\"ticks\":\"\"},\"baxis\":{\"gridcolor\":\"white\",\"linecolor\":\"white\",\"ticks\":\"\"},\"bgcolor\":\"#E5ECF6\",\"caxis\":{\"gridcolor\":\"white\",\"linecolor\":\"white\",\"ticks\":\"\"}},\"title\":{\"x\":0.05},\"xaxis\":{\"automargin\":true,\"gridcolor\":\"white\",\"linecolor\":\"white\",\"ticks\":\"\",\"title\":{\"standoff\":15},\"zerolinecolor\":\"white\",\"zerolinewidth\":2},\"yaxis\":{\"automargin\":true,\"gridcolor\":\"white\",\"linecolor\":\"white\",\"ticks\":\"\",\"title\":{\"standoff\":15},\"zerolinecolor\":\"white\",\"zerolinewidth\":2}}}},                        {\"responsive\": true}                    ).then(function(){\n",
       "                            \n",
       "var gd = document.getElementById('8537dff2-a615-49ec-88ec-d2e6c4547b49');\n",
       "var x = new MutationObserver(function (mutations, observer) {{\n",
       "        var display = window.getComputedStyle(gd).display;\n",
       "        if (!display || display === 'none') {{\n",
       "            console.log([gd, 'removed!']);\n",
       "            Plotly.purge(gd);\n",
       "            observer.disconnect();\n",
       "        }}\n",
       "}});\n",
       "\n",
       "// Listen for the removal of the full notebook cells\n",
       "var notebookContainer = gd.closest('#notebook-container');\n",
       "if (notebookContainer) {{\n",
       "    x.observe(notebookContainer, {childList: true});\n",
       "}}\n",
       "\n",
       "// Listen for the clearing of the current output cell\n",
       "var outputEl = gd.closest('.output');\n",
       "if (outputEl) {{\n",
       "    x.observe(outputEl, {childList: true});\n",
       "}}\n",
       "\n",
       "                        })                };                });            </script>        </div>"
      ]
     },
     "metadata": {},
     "output_type": "display_data"
    }
   ],
   "source": [
    "data = []\n",
    "\n",
    "data.append(\n",
    "    go.Scattergeo(\n",
    "        lon = ground_track_df['Longitude'],\n",
    "        lat = ground_track_df['Latitude'],\n",
    "        mode = 'lines',\n",
    "        line = dict(\n",
    "            width = 1,\n",
    "            color = 'rgba(255, 0, 0, 0.5)'\n",
    "        )\n",
    "    )\n",
    ")\n",
    "\n",
    "for intersection_df in intersection_dfs:\n",
    "    \n",
    "    data.append(\n",
    "        go.Scattergeo(\n",
    "            lon = intersection_df['Longitude'],\n",
    "            lat = intersection_df['Latitude'],\n",
    "            mode = 'lines',\n",
    "            line = dict(\n",
    "                width = 2,\n",
    "                color = 'rgba(0, 0, 255, 0.5)',\n",
    "            )\n",
    "        )\n",
    "    )\n",
    "    \n",
    "figure = go.Figure(\n",
    "    data = data,\n",
    "    layout = go.Layout(\n",
    "        title = None,\n",
    "        showlegend = False,\n",
    "        height = 1000,\n",
    "        geo = go.layout.Geo(\n",
    "            showland = True,\n",
    "            showlakes = True,\n",
    "            showcountries = False,\n",
    "            showocean = True,\n",
    "            countrywidth = 0.0,\n",
    "            landcolor = 'rgb(100, 100, 100)',\n",
    "            lakecolor = 'rgb(240, 240, 240)',\n",
    "            oceancolor = 'rgb(240, 240, 240)',\n",
    "            projection = dict( \n",
    "                type = 'orthographic',\n",
    "                rotation = dict(\n",
    "                    lon = 0,\n",
    "                    lat = 0,\n",
    "                    roll = 0\n",
    "                )            \n",
    "            ),\n",
    "            lonaxis = dict( \n",
    "                showgrid = True,\n",
    "                gridcolor = 'rgb(102, 102, 102)',\n",
    "                gridwidth = 0.5\n",
    "            ),\n",
    "            lataxis = dict( \n",
    "                showgrid = True,\n",
    "                gridcolor = 'rgb(102, 102, 102)',\n",
    "                gridwidth = 0.5\n",
    "            )\n",
    "        )\n",
    "    )\n",
    ")\n",
    "\n",
    "figure.show()"
   ]
  },
  {
   "cell_type": "markdown",
   "metadata": {},
   "source": [
    "Satellite body frame orientation plot:"
   ]
  },
  {
   "cell_type": "code",
   "execution_count": 117,
   "metadata": {},
   "outputs": [],
   "source": [
    "def earth_data ():\n",
    "    \n",
    "    theta = np.linspace(0, 2 * np.pi, 30)\n",
    "    phi = np.linspace(0, np.pi, 30)\n",
    "\n",
    "    theta_grid, phi_grid = np.meshgrid(theta, phi)\n",
    "\n",
    "    r = float(Earth.equatorial_radius.in_meters())\n",
    "\n",
    "    x = r * np.cos(theta_grid) * np.sin(phi_grid)\n",
    "    y = r * np.sin(theta_grid) * np.sin(phi_grid)\n",
    "    z = r * np.cos(phi_grid)\n",
    "\n",
    "    earth = go.Surface(\n",
    "        x=x,\n",
    "        y=y,\n",
    "        z=z,\n",
    "        colorscale='Viridis',\n",
    "        showscale=False\n",
    "    )\n",
    "    \n",
    "    return earth"
   ]
  },
  {
   "cell_type": "code",
   "execution_count": 118,
   "metadata": {},
   "outputs": [],
   "source": [
    "def orbit_data (states):\n",
    "    \n",
    "    states_GCRF = [state.in_frame(Frame.GCRF()).get_position().get_coordinates() for state in states]\n",
    "\n",
    "    trace = go.Scatter3d(\n",
    "        x = [state_GCRF[0] for state_GCRF in states_GCRF],\n",
    "        y = [state_GCRF[1] for state_GCRF in states_GCRF],\n",
    "        z = [state_GCRF[2] for state_GCRF in states_GCRF],\n",
    "        mode = 'lines',\n",
    "        marker = dict(\n",
    "            size = 0,\n",
    "            showscale = False\n",
    "        ),\n",
    "        line = dict(\n",
    "            width = 1\n",
    "        )\n",
    "    )\n",
    "    \n",
    "    return trace"
   ]
  },
  {
   "cell_type": "code",
   "execution_count": 119,
   "metadata": {},
   "outputs": [],
   "source": [
    "def frame_data (frame, instants, scale):\n",
    "    \n",
    "    frame_origins_GCRF = [frame.get_origin_in(Frame.GCRF(), instant).get_coordinates() for instant in instants]\n",
    "    frame_axess_GCRF = [frame.get_axes_in(Frame.GCRF(), instant) for instant in instants]\n",
    "    \n",
    "    def axis_data (origin, axis, color):\n",
    "    \n",
    "        data = go.Scatter3d(\n",
    "            x = [origin[0], origin[0] + scale * axis[0]],\n",
    "            y = [origin[1], origin[1] + scale * axis[1]],\n",
    "            z = [origin[2], origin[2] + scale * axis[2]],\n",
    "            marker = dict(\n",
    "                size = 1\n",
    "            ),\n",
    "            line = dict(\n",
    "                color = color,\n",
    "                width = 6\n",
    "            )\n",
    "        )\n",
    "        \n",
    "        return data\n",
    "    \n",
    "    data = []\n",
    "    \n",
    "    for [frame_origin_GCRF, frame_axes_GCRF] in zip(frame_origins_GCRF, frame_axess_GCRF):\n",
    "        \n",
    "        data.append(axis_data(frame_origin_GCRF, frame_axes_GCRF.x(), \"red\"))\n",
    "        data.append(axis_data(frame_origin_GCRF, frame_axes_GCRF.y(), \"blue\"))\n",
    "        data.append(axis_data(frame_origin_GCRF, frame_axes_GCRF.z(), \"green\"))\n",
    "    \n",
    "    return data"
   ]
  },
  {
   "cell_type": "code",
   "execution_count": 120,
   "metadata": {},
   "outputs": [
    {
     "data": {
      "application/vnd.plotly.v1+json": {
       "config": {
        "plotlyServerURL": "https://plot.ly"
       },
       "data": [
        {
         "colorscale": [
          [
           0,
           "#440154"
          ],
          [
           0.1111111111111111,
           "#482878"
          ],
          [
           0.2222222222222222,
           "#3e4989"
          ],
          [
           0.3333333333333333,
           "#31688e"
          ],
          [
           0.4444444444444444,
           "#26828e"
          ],
          [
           0.5555555555555556,
           "#1f9e89"
          ],
          [
           0.6666666666666666,
           "#35b779"
          ],
          [
           0.7777777777777778,
           "#6ece58"
          ],
          [
           0.8888888888888888,
           "#b5de2b"
          ],
          [
           1,
           "#fde725"
          ]
         ],
         "showscale": false,
         "type": "surface",
         "x": [
          [
           0,
           0,
           0,
           0,
           0,
           0,
           0,
           0,
           0,
           0,
           0,
           0,
           0,
           0,
           0,
           0,
           0,
           0,
           0,
           0,
           0,
           0,
           0,
           0,
           0,
           0,
           0,
           0,
           0,
           0
          ],
          [
           689597.9118134247,
           673475.4958517421,
           625862.1142182845,
           548984.1157197595,
           446436.23012219946,
           323013.48258235765,
           184486.98360066558,
           37334.07830836187,
           -111564.52699179323,
           -255246.49900487802,
           -386993.4284106027,
           -500644.97521615104,
           -590886.9194075173,
           -653499.6479710304,
           -685555.4593081103,
           -685555.4593081103,
           -653499.6479710304,
           -590886.9194075172,
           -500644.97521615104,
           -386993.42841060285,
           -255246.49900487802,
           -111564.52699179326,
           37334.07830836185,
           184486.98360066573,
           323013.48258235777,
           446436.23012219963,
           548984.1157197595,
           625862.1142182844,
           673475.4958517421,
           689597.9118134247
          ],
          [
           1371110.9186162204,
           1339055.1072791407,
           1244386.5673785477,
           1091531.8946236684,
           887638.403626754,
           642239.9274154807,
           366811.02599667106,
           74230.44868343152,
           -221821.06190902746,
           -507500.4661830234,
           -769449.7127045569,
           -995420.3458419588,
           -1174846.229938044,
           -1299337.6100700267,
           -1363073.4076651668,
           -1363073.4076651668,
           -1299337.6100700267,
           -1174846.2299380437,
           -995420.3458419588,
           -769449.7127045572,
           -507500.4661830234,
           -221821.0619090275,
           74230.44868343147,
           366811.02599667135,
           642239.927415481,
           887638.4036267542,
           1091531.8946236686,
           1244386.5673785475,
           1339055.1072791407,
           1371110.9186162204
          ],
          [
           2036548.903516909,
           1988935.5218834514,
           1848321.7257897863,
           1621282.4600602435,
           1318433.8284243166,
           953936.6963052228,
           544834.544491385,
           110256.5349172344,
           -329476.94768830936,
           -753804.4544072741,
           -1142884.9026316316,
           -1478525.3230342711,
           -1745031.542594699,
           -1929942.0266866582,
           -2024610.5665872511,
           -2024610.5665872511,
           -1929942.0266866582,
           -1745031.5425946985,
           -1478525.3230342711,
           -1142884.902631632,
           -753804.4544072741,
           -329476.9476883095,
           110256.53491723434,
           544834.5444913855,
           953936.696305223,
           1318433.828424317,
           1621282.4600602437,
           1848321.7257897859,
           1988935.5218834514,
           2036548.903516909
          ],
          [
           2678110.2145582815,
           2615497.4859947683,
           2430587.001902809,
           2132024.9710053015,
           1733771.8220391492,
           1254449.429623425,
           716470.3760989119,
           144989.96408764392,
           -433270.0174995919,
           -991270.7746135847,
           -1502920.812024982,
           -1944295.942642601,
           -2294757.9559119856,
           -2537919.6376032108,
           -2662411.0177351935,
           -2662411.0177351935,
           -2537919.6376032108,
           -2294757.955911985,
           -1944295.942642601,
           -1502920.8120249824,
           -991270.7746135847,
           -433270.017499592,
           144989.96408764386,
           716470.3760989124,
           1254449.4296234255,
           1733771.82203915,
           2132024.971005302,
           2430587.0019028084,
           2615497.4859947683,
           2678110.2145582815
          ],
          [
           3288273.131953478,
           3211395.133454953,
           2984355.86772541,
           2617771.4384943433,
           2128782.9262432666,
           1540254.890333344,
           879706.247621791,
           178023.51849471417,
           -531983.3924982465,
           -1217115.3513150634,
           -1845336.349030942,
           -2387271.470010179,
           -2817580.4303134116,
           -3116142.461210919,
           -3268997.1339657987,
           -3268997.1339657987,
           -3116142.461210919,
           -2817580.430313411,
           -2387271.470010179,
           -1845336.3490309427,
           -1217115.3513150634,
           -531983.3924982466,
           178023.51849471408,
           879706.2476217917,
           1540254.8903333445,
           2128782.9262432675,
           2617771.438494344,
           2984355.8677254096,
           3211395.133454953,
           3288273.131953478
          ],
          [
           3859884.0533733163,
           3769642.10918195,
           3503135.8896215223,
           3072826.92931829,
           2498835.9970019734,
           1808002.2707225806,
           1032628.3677143973,
           208969.90991588915,
           -624459.7486169134,
           -1428690.363341551,
           -2166117.004551628,
           -2802258.4220950087,
           -3307369.350307768,
           -3657831.3635771526,
           -3837257.247673238,
           -3837257.247673238,
           -3657831.3635771526,
           -3307369.3503077673,
           -2802258.4220950087,
           -2166117.004551629,
           -1428690.363341551,
           -624459.7486169136,
           208969.90991588903,
           1032628.3677143982,
           1808002.2707225813,
           2498835.997001974,
           3072826.9293182907,
           3503135.889621522,
           3769642.10918195,
           3859884.0533733163
          ],
          [
           4386241.363392997,
           4283693.477795437,
           3980844.84615951,
           3491856.3339084336,
           2839592.5004033707,
           2054552.4775598354,
           1173443.8643366725,
           237466.32020631095,
           -709614.8851320399,
           -1623515.2871219153,
           -2461501.9186936105,
           -3184391.4563100827,
           -3758382.3886264,
           -4156635.5375925526,
           -4360529.0285894675,
           -4360529.0285894675,
           -4156635.5375925526,
           -3758382.3886263995,
           -3184391.4563100827,
           -2461501.9186936114,
           -1623515.2871219153,
           -709614.88513204,
           237466.32020631083,
           1173443.8643366734,
           2054552.4775598359,
           2839592.500403372,
           3491856.333908434,
           3980844.8461595094,
           4283693.477795437,
           4386241.363392997
          ],
          [
           4861174.003805618,
           4747522.457000069,
           4411882.03659743,
           3869946.9156181933,
           3147057.3780017216,
           2277014.935092945,
           1300501.8045395568,
           263178.65500984085,
           -786450.43592607,
           -1799305.9785549575,
           -2728027.973411577,
           -3529190.4122167947,
           -4165331.829760175,
           -4606706.960377795,
           -4832677.593515196,
           -4832677.593515196,
           -4606706.960377795,
           -4165331.8297601747,
           -3529190.4122167947,
           -2728027.9734115778,
           -1799305.9785549575,
           -786450.4359260702,
           263178.65500984073,
           1300501.8045395578,
           2277014.935092946,
           3147057.3780017225,
           3869946.915618194,
           4411882.03659743,
           4747522.457000069,
           4861174.003805618
          ],
          [
           5279113.823637395,
           5155691.076097554,
           4791193.94397846,
           4202665.908068538,
           3417625.885225002,
           2472781.4744066996,
           1412312.550144354,
           285805.46070991934,
           -854065.5744173578,
           -1954001.452510588,
           -2962570.394401055,
           -3832612.837309831,
           -4523446.563589224,
           -5002768.956004947,
           -5248167.432216221,
           -5248167.432216221,
           -5002768.956004947,
           -4523446.563589223,
           -3832612.837309831,
           -2962570.394401056,
           -1954001.452510588,
           -854065.5744173579,
           285805.4607099192,
           1412312.5501443553,
           2472781.4744067,
           3417625.8852250036,
           4202665.908068539,
           4791193.94397846,
           5155691.076097554,
           5279113.823637395
          ],
          [
           5635160.860626823,
           5503413.931221099,
           5114333.48299674,
           4486112.485280862,
           3648125.853709166,
           2639556.911818698,
           1507565.2223883877,
           305081.4586975988,
           -911667.5749282035,
           -2085788.0459960971,
           -3162379.3862201236,
           -4091101.381076744,
           -4828528.022286822,
           -5340178.059698219,
           -5602127.306219754,
           -5602127.306219754,
           -5340178.059698219,
           -4828528.022286821,
           -4091101.381076744,
           -3162379.386220125,
           -2085788.0459960971,
           -911667.5749282037,
           305081.45869759866,
           1507565.222388389,
           2639556.9118186985,
           3648125.8537091673,
           4486112.485280863,
           5114333.48299674,
           5503413.931221099,
           5635160.860626823
          ],
          [
           5925140.788802111,
           5786614.289820419,
           5377512.138006581,
           4716963.495295028,
           3835854.8820718667,
           2775385.9578095214,
           1585143.070779945,
           320780.65552068665,
           -958581.1066686288,
           -2193120.6816964988,
           -3325112.3711268073,
           -4301625.501680195,
           -5076999.404688379,
           -5614978.458212892,
           -5890407.359631701,
           -5890407.359631701,
           -5614978.458212892,
           -5076999.404688378,
           -4301625.501680195,
           -3325112.3711268087,
           -2193120.6816964988,
           -958581.106668629,
           320780.6555206865,
           1585143.0707799464,
           2775385.9578095223,
           3835854.8820718676,
           4716963.495295029,
           5377512.13800658,
           5786614.289820419,
           5925140.788802111
          ],
          [
           6145653.8586365795,
           6001971.886623494,
           5577644.37990453,
           4892512.421087714,
           3978612.019097839,
           2878676.141004609,
           1644136.5659767387,
           332718.9924503447,
           -994256.1513724284,
           -2274740.982593371,
           -3448861.453661263,
           -4461716.99629015,
           -5265947.611014788,
           -5823948.368128781,
           -6109627.772402777,
           -6109627.772402777,
           -5823948.368128781,
           -5265947.611014787,
           -4461716.99629015,
           -3448861.4536612644,
           -2274740.982593371,
           -994256.1513724286,
           332718.9924503446,
           1644136.5659767399,
           2878676.14100461,
           3978612.0190978404,
           4892512.421087715,
           5577644.379904529,
           6001971.886623494,
           6145653.8586365795
          ],
          [
           6294114.756003442,
           6146961.850711138,
           5712383.841136987,
           5010701.11200991,
           4074723.5678795483,
           2948216.4784451122,
           1683854.0631858525,
           340756.50340139837,
           -1018274.4517584544,
           -2329692.0252848496,
           -3532175.7889756383,
           -4569498.938505355,
           -5393157.396303864,
           -5964637.808315133,
           -6257218.385628372,
           -6257218.385628372,
           -5964637.808315133,
           -5393157.396303863,
           -4569498.938505355,
           -3532175.7889756397,
           -2329692.0252848496,
           -1018274.4517584547,
           340756.5034013982,
           1683854.063185854,
           2948216.478445113,
           4074723.5678795497,
           5010701.112009911,
           5712383.841136986,
           6146961.850711138,
           6294114.756003442
          ],
          [
           6368782.912620165,
           6219884.30732001,
           5780150.824714467,
           5070143.9137215065,
           4123062.7083831565,
           2983191.6732558794,
           1703829.911066564,
           344798.9559067128,
           -1030354.4152148225,
           -2357329.5590375955,
           -3574078.592663396,
           -4623707.683599306,
           -5457137.342132109,
           -6035397.323719345,
           -6331448.834311804,
           -6331448.834311804,
           -6035397.323719345,
           -5457137.342132108,
           -4623707.683599306,
           -3574078.5926633975,
           -2357329.5590375955,
           -1030354.4152148227,
           344798.9559067126,
           1703829.9110665654,
           2983191.6732558804,
           4123062.708383158,
           5070143.913721507,
           5780150.824714466,
           6219884.30732001,
           6368782.912620165
          ],
          [
           6368782.912620165,
           6219884.30732001,
           5780150.824714467,
           5070143.9137215065,
           4123062.7083831565,
           2983191.6732558794,
           1703829.911066564,
           344798.9559067128,
           -1030354.4152148225,
           -2357329.5590375955,
           -3574078.592663396,
           -4623707.683599306,
           -5457137.342132109,
           -6035397.323719345,
           -6331448.834311804,
           -6331448.834311804,
           -6035397.323719345,
           -5457137.342132108,
           -4623707.683599306,
           -3574078.5926633975,
           -2357329.5590375955,
           -1030354.4152148227,
           344798.9559067126,
           1703829.9110665654,
           2983191.6732558804,
           4123062.708383158,
           5070143.913721507,
           5780150.824714466,
           6219884.30732001,
           6368782.912620165
          ],
          [
           6294114.756003442,
           6146961.850711138,
           5712383.841136987,
           5010701.11200991,
           4074723.5678795483,
           2948216.4784451122,
           1683854.0631858525,
           340756.50340139837,
           -1018274.4517584544,
           -2329692.0252848496,
           -3532175.7889756383,
           -4569498.938505355,
           -5393157.396303864,
           -5964637.808315133,
           -6257218.385628372,
           -6257218.385628372,
           -5964637.808315133,
           -5393157.396303863,
           -4569498.938505355,
           -3532175.7889756397,
           -2329692.0252848496,
           -1018274.4517584547,
           340756.5034013982,
           1683854.063185854,
           2948216.478445113,
           4074723.5678795497,
           5010701.112009911,
           5712383.841136986,
           6146961.850711138,
           6294114.756003442
          ],
          [
           6145653.858636579,
           6001971.886623494,
           5577644.37990453,
           4892512.421087713,
           3978612.0190978386,
           2878676.1410046085,
           1644136.5659767385,
           332718.9924503447,
           -994256.1513724283,
           -2274740.9825933706,
           -3448861.4536612625,
           -4461716.99629015,
           -5265947.611014788,
           -5823948.36812878,
           -6109627.772402776,
           -6109627.772402776,
           -5823948.36812878,
           -5265947.611014787,
           -4461716.99629015,
           -3448861.453661264,
           -2274740.9825933706,
           -994256.1513724285,
           332718.99245034455,
           1644136.5659767396,
           2878676.1410046094,
           3978612.01909784,
           4892512.421087714,
           5577644.379904529,
           6001971.886623494,
           6145653.858636579
          ],
          [
           5925140.788802111,
           5786614.289820419,
           5377512.138006581,
           4716963.495295028,
           3835854.8820718667,
           2775385.9578095214,
           1585143.070779945,
           320780.65552068665,
           -958581.1066686288,
           -2193120.6816964988,
           -3325112.3711268073,
           -4301625.501680195,
           -5076999.404688379,
           -5614978.458212892,
           -5890407.359631701,
           -5890407.359631701,
           -5614978.458212892,
           -5076999.404688378,
           -4301625.501680195,
           -3325112.3711268087,
           -2193120.6816964988,
           -958581.106668629,
           320780.6555206865,
           1585143.0707799464,
           2775385.9578095223,
           3835854.8820718676,
           4716963.495295029,
           5377512.13800658,
           5786614.289820419,
           5925140.788802111
          ],
          [
           5635160.860626823,
           5503413.931221099,
           5114333.48299674,
           4486112.485280862,
           3648125.853709166,
           2639556.911818698,
           1507565.2223883877,
           305081.4586975988,
           -911667.5749282035,
           -2085788.0459960971,
           -3162379.3862201236,
           -4091101.381076744,
           -4828528.022286822,
           -5340178.059698219,
           -5602127.306219754,
           -5602127.306219754,
           -5340178.059698219,
           -4828528.022286821,
           -4091101.381076744,
           -3162379.386220125,
           -2085788.0459960971,
           -911667.5749282037,
           305081.45869759866,
           1507565.222388389,
           2639556.9118186985,
           3648125.8537091673,
           4486112.485280863,
           5114333.48299674,
           5503413.931221099,
           5635160.860626823
          ],
          [
           5279113.823637395,
           5155691.076097554,
           4791193.94397846,
           4202665.908068538,
           3417625.885225002,
           2472781.4744066996,
           1412312.550144354,
           285805.46070991934,
           -854065.5744173578,
           -1954001.452510588,
           -2962570.394401055,
           -3832612.837309831,
           -4523446.563589224,
           -5002768.956004947,
           -5248167.432216221,
           -5248167.432216221,
           -5002768.956004947,
           -4523446.563589223,
           -3832612.837309831,
           -2962570.394401056,
           -1954001.452510588,
           -854065.5744173579,
           285805.4607099192,
           1412312.5501443553,
           2472781.4744067,
           3417625.8852250036,
           4202665.908068539,
           4791193.94397846,
           5155691.076097554,
           5279113.823637395
          ],
          [
           4861174.003805618,
           4747522.457000069,
           4411882.03659743,
           3869946.9156181933,
           3147057.3780017216,
           2277014.935092945,
           1300501.8045395568,
           263178.65500984085,
           -786450.43592607,
           -1799305.9785549575,
           -2728027.973411577,
           -3529190.4122167947,
           -4165331.829760175,
           -4606706.960377795,
           -4832677.593515196,
           -4832677.593515196,
           -4606706.960377795,
           -4165331.8297601747,
           -3529190.4122167947,
           -2728027.9734115778,
           -1799305.9785549575,
           -786450.4359260702,
           263178.65500984073,
           1300501.8045395578,
           2277014.935092946,
           3147057.3780017225,
           3869946.915618194,
           4411882.03659743,
           4747522.457000069,
           4861174.003805618
          ],
          [
           4386241.363392997,
           4283693.477795437,
           3980844.84615951,
           3491856.3339084336,
           2839592.5004033707,
           2054552.4775598354,
           1173443.8643366725,
           237466.32020631095,
           -709614.8851320399,
           -1623515.2871219153,
           -2461501.9186936105,
           -3184391.4563100827,
           -3758382.3886264,
           -4156635.5375925526,
           -4360529.0285894675,
           -4360529.0285894675,
           -4156635.5375925526,
           -3758382.3886263995,
           -3184391.4563100827,
           -2461501.9186936114,
           -1623515.2871219153,
           -709614.88513204,
           237466.32020631083,
           1173443.8643366734,
           2054552.4775598359,
           2839592.500403372,
           3491856.333908434,
           3980844.8461595094,
           4283693.477795437,
           4386241.363392997
          ],
          [
           3859884.0533733154,
           3769642.1091819494,
           3503135.889621522,
           3072826.9293182897,
           2498835.997001973,
           1808002.2707225804,
           1032628.3677143971,
           208969.9099158891,
           -624459.7486169133,
           -1428690.3633415508,
           -2166117.004551628,
           -2802258.422095008,
           -3307369.3503077673,
           -3657831.363577152,
           -3837257.247673237,
           -3837257.247673237,
           -3657831.363577152,
           -3307369.350307767,
           -2802258.422095008,
           -2166117.0045516286,
           -1428690.3633415508,
           -624459.7486169134,
           208969.909915889,
           1032628.367714398,
           1808002.2707225808,
           2498835.9970019734,
           3072826.92931829,
           3503135.889621521,
           3769642.1091819494,
           3859884.0533733154
          ],
          [
           3288273.1319534774,
           3211395.133454952,
           2984355.8677254096,
           2617771.4384943424,
           2128782.9262432666,
           1540254.8903333435,
           879706.2476217907,
           178023.51849471414,
           -531983.3924982464,
           -1217115.3513150632,
           -1845336.3490309415,
           -2387271.4700101786,
           -2817580.430313411,
           -3116142.4612109186,
           -3268997.1339657977,
           -3268997.1339657977,
           -3116142.4612109186,
           -2817580.4303134107,
           -2387271.4700101786,
           -1845336.3490309422,
           -1217115.3513150632,
           -531983.3924982465,
           178023.51849471405,
           879706.2476217916,
           1540254.890333344,
           2128782.926243267,
           2617771.438494343,
           2984355.867725409,
           3211395.133454952,
           3288273.1319534774
          ],
          [
           2678110.2145582805,
           2615497.485994767,
           2430587.001902808,
           2132024.971005301,
           1733771.8220391485,
           1254449.4296234245,
           716470.3760989116,
           144989.96408764386,
           -433270.01749959175,
           -991270.7746135844,
           -1502920.8120249812,
           -1944295.9426426,
           -2294757.9559119847,
           -2537919.63760321,
           -2662411.0177351926,
           -2662411.0177351926,
           -2537919.63760321,
           -2294757.955911984,
           -1944295.9426426,
           -1502920.812024982,
           -991270.7746135844,
           -433270.0174995918,
           144989.9640876438,
           716470.3760989122,
           1254449.429623425,
           1733771.8220391492,
           2132024.971005301,
           2430587.0019028075,
           2615497.485994767,
           2678110.2145582805
          ],
          [
           2036548.9035169077,
           1988935.52188345,
           1848321.725789785,
           1621282.4600602423,
           1318433.8284243157,
           953936.6963052221,
           544834.5444913846,
           110256.53491723433,
           -329476.9476883092,
           -753804.4544072736,
           -1142884.902631631,
           -1478525.32303427,
           -1745031.5425946976,
           -1929942.0266866568,
           -2024610.5665872497,
           -2024610.5665872497,
           -1929942.0266866568,
           -1745031.5425946973,
           -1478525.32303427,
           -1142884.9026316314,
           -753804.4544072736,
           -329476.94768830924,
           110256.53491723427,
           544834.544491385,
           953936.6963052225,
           1318433.8284243161,
           1621282.4600602428,
           1848321.7257897847,
           1988935.52188345,
           2036548.9035169077
          ],
          [
           1371110.9186162218,
           1339055.107279142,
           1244386.567378549,
           1091531.8946236693,
           887638.4036267546,
           642239.9274154813,
           366811.0259966714,
           74230.44868343159,
           -221821.06190902766,
           -507500.4661830238,
           -769449.7127045576,
           -995420.3458419596,
           -1174846.229938045,
           -1299337.6100700279,
           -1363073.4076651682,
           -1363073.4076651682,
           -1299337.6100700279,
           -1174846.2299380447,
           -995420.3458419596,
           -769449.7127045579,
           -507500.4661830238,
           -221821.06190902772,
           74230.44868343155,
           366811.0259966717,
           642239.9274154815,
           887638.403626755,
           1091531.8946236696,
           1244386.5673785487,
           1339055.107279142,
           1371110.9186162218
          ],
          [
           689597.9118134256,
           673475.4958517432,
           625862.1142182854,
           548984.1157197602,
           446436.2301222001,
           323013.4825823581,
           184486.98360066584,
           37334.078308361924,
           -111564.52699179339,
           -255246.49900487837,
           -386993.42841060326,
           -500644.97521615174,
           -590886.9194075181,
           -653499.6479710314,
           -685555.4593081112,
           -685555.4593081112,
           -653499.6479710314,
           -590886.919407518,
           -500644.97521615174,
           -386993.4284106034,
           -255246.49900487837,
           -111564.5269917934,
           37334.0783083619,
           184486.983600666,
           323013.48258235824,
           446436.2301222003,
           548984.1157197603,
           625862.1142182853,
           673475.4958517432,
           689597.9118134256
          ],
          [
           7.810965061573302e-10,
           7.62834903906579e-10,
           7.089039893792572e-10,
           6.218255121987563e-10,
           5.0567116517726e-10,
           3.658721964852091e-10,
           2.089654505232498e-10,
           4.228771234324078e-11,
           -1.2636735226652178e-10,
           -2.8911361993152634e-10,
           -4.383412560552421e-10,
           -5.670725422271298e-10,
           -6.692881465803399e-10,
           -7.402085810598013e-10,
           -7.76517684971656e-10,
           -7.76517684971656e-10,
           -7.402085810598013e-10,
           -6.692881465803398e-10,
           -5.670725422271298e-10,
           -4.383412560552423e-10,
           -2.8911361993152634e-10,
           -1.263673522665218e-10,
           4.228771234324076e-11,
           2.0896545052324995e-10,
           3.658721964852092e-10,
           5.056711651772601e-10,
           6.218255121987564e-10,
           7.089039893792571e-10,
           7.62834903906579e-10,
           7.810965061573302e-10
          ]
         ],
         "y": [
          [
           0,
           0,
           0,
           0,
           0,
           0,
           0,
           0,
           0,
           0,
           0,
           0,
           0,
           0,
           0,
           0,
           0,
           0,
           0,
           0,
           0,
           0,
           0,
           0,
           0,
           0,
           0,
           0,
           0,
           0
          ],
          [
           0,
           148243.16667113485,
           289554.6476291735,
           417326.87508094864,
           525585.3616794464,
           609268.0609119871,
           664462.0627690972,
           688586.5570676652,
           680513.50926674,
           640620.4061089442,
           570772.6047599372,
           474236.11078054283,
           355524.86333663075,
           220189.66842060295,
           74558.64933246754,
           -74558.64933246738,
           -220189.66842060306,
           -355524.86333663086,
           -474236.11078054295,
           -570772.6047599372,
           -640620.4061089442,
           -680513.50926674,
           -688586.5570676652,
           -664462.062769097,
           -609268.060911987,
           -525585.3616794463,
           -417326.87508094835,
           -289554.6476291737,
           -148243.16667113508,
           -1.6890277508020184e-10
          ],
          [
           0,
           294748.3177530705,
           575714.5317572339,
           829760.9741171737,
           1045008.7155404801,
           1211393.0108688814,
           1321133.9153756842,
           1369100.066334405,
           1353048.6198367623,
           1273730.123681084,
           1134853.4225914334,
           942912.2367603949,
           706881.5227101219,
           437797.81430030806,
           148243.16667113506,
           -148243.16667113476,
           -437797.81430030824,
           -706881.5227101222,
           -942912.2367603951,
           -1134853.4225914334,
           -1273730.123681084,
           -1353048.6198367623,
           -1369100.066334405,
           -1321133.915375684,
           -1211393.0108688814,
           -1045008.7155404799,
           -829760.9741171732,
           -575714.5317572342,
           -294748.31775307097,
           -3.358253195518683e-10
          ],
          [
           0,
           437797.8143003083,
           855124.6893812569,
           1232466.8843895686,
           1552180.297672382,
           1799315.4853605307,
           1962316.6807487495,
           2033562.1291035023,
           2009720.4724433494,
           1891906.5201356215,
           1685629.1216494243,
           1400533.578877111,
           1049950.6425377766,
           650273.1810897009,
           220189.66842060338,
           -220189.66842060295,
           -650273.1810897012,
           -1049950.642537777,
           -1400533.5788771112,
           -1685629.1216494243,
           -1891906.5201356215,
           -2009720.4724433494,
           -2033562.1291035023,
           -1962316.6807487493,
           -1799315.4853605304,
           -1552180.2976723819,
           -1232466.884389568,
           -855124.6893812576,
           -437797.814300309,
           -4.988106191998069e-10
          ],
          [
           0,
           575714.5317572338,
           1124509.2918702443,
           1620723.2472977142,
           2041153.9849860552,
           2366142.6309161643,
           2580493.077203287,
           2674182.5352124465,
           2642830.1900154892,
           2487902.042428196,
           2216642.360441479,
           1841734.9453015553,
           1380710.0510607031,
           855124.6893812564,
           289554.6476291739,
           -289554.64762917324,
           -855124.6893812568,
           -1380710.0510607036,
           -1841734.9453015558,
           -2216642.360441479,
           -2487902.042428196,
           -2642830.1900154892,
           -2674182.5352124465,
           -2580493.0772032863,
           -2366142.630916164,
           -2041153.9849860547,
           -1620723.2472977133,
           -1124509.291870245,
           -575714.5317572347,
           -6.559478204045261e-10
          ],
          [
           0,
           706881.5227101219,
           1380710.0510607034,
           1989978.1119726906,
           2506197.0080706524,
           2905228.917509144,
           3168415.5516949357,
           3283450.5961244334,
           3244955.1399723836,
           3054729.187983829,
           2721667.494252795,
           2261343.653406658,
           1695281.896630181,
           1049950.6425377761,
           355524.8633366313,
           -355524.8633366305,
           -1049950.6425377766,
           -1695281.8966301817,
           -2261343.6534066587,
           -2721667.494252795,
           -3054729.187983829,
           -3244955.1399723836,
           -3283450.5961244334,
           -3168415.551694935,
           -2905228.9175091437,
           -2506197.008070652,
           -1989978.1119726892,
           -1380710.0510607043,
           -706881.522710123,
           -8.053946331538137e-10
          ],
          [
           0,
           829760.9741171737,
           1620723.2472977142,
           2335902.302739126,
           2941857.1626733984,
           3410254.0513204606,
           3719191.2507529273,
           3854223.200884371,
           3809035.9578038803,
           3585742.4267758843,
           3194783.5651383176,
           2654440.1747417874,
           1989978.11197269,
           1232466.8843895677,
           417326.87508094916,
           -417326.87508094835,
           -1232466.8843895684,
           -1989978.111972691,
           -2654440.1747417883,
           -3194783.5651383176,
           -3585742.4267758843,
           -3809035.9578038803,
           -3854223.200884371,
           -3719191.2507529263,
           -3410254.0513204597,
           -2941857.162673398,
           -2335902.3027391247,
           -1620723.2472977154,
           -829760.974117175,
           -9.453989302087087e-10
          ],
          [
           0,
           942912.2367603949,
           1841734.9453015556,
           2654440.174741788,
           3343026.7318094526,
           3875297.0744050574,
           4226362.832884829,
           4379808.562563817,
           4328459.311664914,
           4074716.1140895574,
           3630443.719741063,
           3016415.8120058654,
           2261343.6534066577,
           1400533.57887711,
           474236.11078054353,
           -474236.11078054254,
           -1400533.5788771107,
           -2261343.6534066587,
           -3016415.8120058663,
           -3630443.719741063,
           -4074716.1140895574,
           -4328459.311664914,
           -4379808.562563817,
           -4226362.832884828,
           -3875297.074405057,
           -3343026.7318094517,
           -2654440.174741786,
           -1841734.945301557,
           -942912.2367603963,
           -1.0743192891933912e-09
          ],
          [
           0,
           1045008.71554048,
           2041153.9849860552,
           2941857.1626733984,
           3705002.3690735307,
           4294905.7825101605,
           4683984.175001545,
           4854044.67334436,
           4797135.437644766,
           4515917.480514002,
           4023540.241076192,
           3343026.731809452,
           2506197.008070652,
           1552180.297672381,
           525585.3616794471,
           -525585.361679446,
           -1552180.2976723816,
           -2506197.0080706533,
           -3343026.731809453,
           -4023540.241076192,
           -4515917.480514002,
           -4797135.437644766,
           -4854044.67334436,
           -4683984.175001544,
           -4294905.78251016,
           -3705002.3690735297,
           -2941857.1626733965,
           -2041153.9849860566,
           -1045008.7155404816,
           -1.1906442367717746e-09
          ],
          [
           0,
           1134853.4225914334,
           2216642.3604414794,
           3194783.565138318,
           4023540.2410761924,
           4664160.647185137,
           5086690.085273939,
           5271371.548425308,
           5209569.536680991,
           4904173.843422147,
           4369464.431842628,
           3630443.719741063,
           2721667.4942527944,
           1685629.1216494234,
           570772.604759938,
           -570772.6047599368,
           -1685629.121649424,
           -2721667.494252796,
           -3630443.719741064,
           -4369464.431842628,
           -4904173.843422147,
           -5209569.536680991,
           -5271371.548425308,
           -5086690.085273938,
           -4664160.647185136,
           -4023540.2410761914,
           -3194783.5651383162,
           -2216642.3604414808,
           -1134853.422591435,
           -1.2930099692904163e-09
          ],
          [
           0,
           1211393.0108688814,
           2366142.6309161643,
           3410254.0513204606,
           4294905.7825101605,
           4978732.492754615,
           5429759.205101594,
           5626896.411761939,
           5560926.196054482,
           5234933.251945074,
           4664160.647185137,
           3875297.0744050574,
           2905228.9175091437,
           1799315.4853605295,
           609268.0609119879,
           -609268.0609119866,
           -1799315.4853605302,
           -2905228.917509145,
           -3875297.0744050583,
           -4664160.647185137,
           -5234933.251945074,
           -5560926.196054482,
           -5626896.411761939,
           -5429759.205101593,
           -4978732.492754614,
           -4294905.78251016,
           -3410254.0513204588,
           -2366142.630916166,
           -1211393.0108688832,
           -1.3802163421294167e-09
          ],
          [
           0,
           1273730.123681084,
           2487902.042428196,
           3585742.4267758843,
           4515917.480514001,
           5234933.251945074,
           5709169.362725616,
           5916451.059391112,
           5847086.080182542,
           5504317.854434061,
           4904173.8434221465,
           4074716.114089557,
           3054729.1879838286,
           1891906.5201356201,
           640620.4061089451,
           -640620.4061089439,
           -1891906.520135621,
           -3054729.18798383,
           -4074716.114089558,
           -4904173.8434221465,
           -5504317.854434061,
           -5847086.080182542,
           -5916451.059391112,
           -5709169.3627256155,
           -5234933.251945073,
           -4515917.480514001,
           -3585742.4267758825,
           -2487902.0424281973,
           -1273730.1236810859,
           -1.4512409403007857e-09
          ],
          [
           0,
           1321133.9153756842,
           2580493.077203287,
           3719191.2507529273,
           4683984.175001545,
           5429759.205101594,
           5921644.7295150105,
           6136640.727811716,
           6064694.2260622475,
           5709169.362725616,
           5086690.085273939,
           4226362.832884829,
           3168415.551694935,
           1962316.6807487484,
           664462.0627690981,
           -664462.0627690967,
           -1962316.680748749,
           -3168415.5516949366,
           -4226362.8328848295,
           -5086690.085273939,
           -5709169.362725616,
           -6064694.2260622475,
           -6136640.727811716,
           -5921644.72951501,
           -5429759.205101593,
           -4683984.175001544,
           -3719191.250752925,
           -2580493.0772032887,
           -1321133.9153756863,
           -1.5052510653293734e-09
          ],
          [
           0,
           1353048.619836762,
           2642830.1900154892,
           3809035.9578038803,
           4797135.437644766,
           5560926.196054482,
           6064694.2260622475,
           6284883.89448285,
           6211199.377144183,
           5847086.080182542,
           5209569.53668099,
           4328459.311664913,
           3244955.139972383,
           2009720.472443348,
           680513.5092667408,
           -680513.5092667394,
           -2009720.472443349,
           -3244955.1399723846,
           -4328459.311664914,
           -5209569.53668099,
           -5847086.080182542,
           -6211199.377144183,
           -6284883.89448285,
           -6064694.226062247,
           -5560926.196054481,
           -4797135.437644765,
           -3809035.957803878,
           -2642830.190015491,
           -1353048.6198367642,
           -1.5416134978811478e-09
          ],
          [
           0,
           1369100.066334405,
           2674182.5352124465,
           3854223.200884371,
           4854044.67334436,
           5626896.411761939,
           6136640.727811716,
           6359442.543815318,
           6284883.89448285,
           5916451.059391112,
           5271371.5484253075,
           4379808.562563817,
           3283450.5961244325,
           2033562.1291035009,
           688586.5570676661,
           -688586.5570676647,
           -2033562.1291035018,
           -3283450.596124434,
           -4379808.562563818,
           -5271371.5484253075,
           -5916451.059391112,
           -6284883.89448285,
           -6359442.543815318,
           -6136640.727811715,
           -5626896.411761938,
           -4854044.673344359,
           -3854223.2008843687,
           -2674182.5352124483,
           -1369100.066334407,
           -1.5599019216809284e-09
          ],
          [
           0,
           1369100.066334405,
           2674182.5352124465,
           3854223.200884371,
           4854044.67334436,
           5626896.411761939,
           6136640.727811716,
           6359442.543815318,
           6284883.89448285,
           5916451.059391112,
           5271371.5484253075,
           4379808.562563817,
           3283450.5961244325,
           2033562.1291035009,
           688586.5570676661,
           -688586.5570676647,
           -2033562.1291035018,
           -3283450.596124434,
           -4379808.562563818,
           -5271371.5484253075,
           -5916451.059391112,
           -6284883.89448285,
           -6359442.543815318,
           -6136640.727811715,
           -5626896.411761938,
           -4854044.673344359,
           -3854223.2008843687,
           -2674182.5352124483,
           -1369100.066334407,
           -1.5599019216809284e-09
          ],
          [
           0,
           1353048.619836762,
           2642830.1900154892,
           3809035.9578038803,
           4797135.437644766,
           5560926.196054482,
           6064694.2260622475,
           6284883.89448285,
           6211199.377144183,
           5847086.080182542,
           5209569.53668099,
           4328459.311664913,
           3244955.139972383,
           2009720.472443348,
           680513.5092667408,
           -680513.5092667394,
           -2009720.472443349,
           -3244955.1399723846,
           -4328459.311664914,
           -5209569.53668099,
           -5847086.080182542,
           -6211199.377144183,
           -6284883.89448285,
           -6064694.226062247,
           -5560926.196054481,
           -4797135.437644765,
           -3809035.957803878,
           -2642830.190015491,
           -1353048.6198367642,
           -1.5416134978811478e-09
          ],
          [
           0,
           1321133.915375684,
           2580493.0772032863,
           3719191.250752927,
           4683984.175001544,
           5429759.205101593,
           5921644.72951501,
           6136640.727811715,
           6064694.2260622475,
           5709169.362725616,
           5086690.085273938,
           4226362.832884828,
           3168415.5516949347,
           1962316.6807487481,
           664462.062769098,
           -664462.0627690966,
           -1962316.6807487488,
           -3168415.551694936,
           -4226362.832884829,
           -5086690.085273938,
           -5709169.362725616,
           -6064694.2260622475,
           -6136640.727811715,
           -5921644.729515009,
           -5429759.2051015925,
           -4683984.175001543,
           -3719191.2507529245,
           -2580493.077203288,
           -1321133.915375686,
           -1.5052510653293732e-09
          ],
          [
           0,
           1273730.123681084,
           2487902.042428196,
           3585742.4267758843,
           4515917.480514001,
           5234933.251945074,
           5709169.362725616,
           5916451.059391112,
           5847086.080182542,
           5504317.854434061,
           4904173.8434221465,
           4074716.114089557,
           3054729.1879838286,
           1891906.5201356201,
           640620.4061089451,
           -640620.4061089439,
           -1891906.520135621,
           -3054729.18798383,
           -4074716.114089558,
           -4904173.8434221465,
           -5504317.854434061,
           -5847086.080182542,
           -5916451.059391112,
           -5709169.3627256155,
           -5234933.251945073,
           -4515917.480514001,
           -3585742.4267758825,
           -2487902.0424281973,
           -1273730.1236810859,
           -1.4512409403007857e-09
          ],
          [
           0,
           1211393.0108688814,
           2366142.6309161643,
           3410254.0513204606,
           4294905.7825101605,
           4978732.492754615,
           5429759.205101594,
           5626896.411761939,
           5560926.196054482,
           5234933.251945074,
           4664160.647185137,
           3875297.0744050574,
           2905228.9175091437,
           1799315.4853605295,
           609268.0609119879,
           -609268.0609119866,
           -1799315.4853605302,
           -2905228.917509145,
           -3875297.0744050583,
           -4664160.647185137,
           -5234933.251945074,
           -5560926.196054482,
           -5626896.411761939,
           -5429759.205101593,
           -4978732.492754614,
           -4294905.78251016,
           -3410254.0513204588,
           -2366142.630916166,
           -1211393.0108688832,
           -1.3802163421294167e-09
          ],
          [
           0,
           1134853.4225914334,
           2216642.3604414794,
           3194783.565138318,
           4023540.2410761924,
           4664160.647185137,
           5086690.085273939,
           5271371.548425308,
           5209569.536680991,
           4904173.843422147,
           4369464.431842628,
           3630443.719741063,
           2721667.4942527944,
           1685629.1216494234,
           570772.604759938,
           -570772.6047599368,
           -1685629.121649424,
           -2721667.494252796,
           -3630443.719741064,
           -4369464.431842628,
           -4904173.843422147,
           -5209569.536680991,
           -5271371.548425308,
           -5086690.085273938,
           -4664160.647185136,
           -4023540.2410761914,
           -3194783.5651383162,
           -2216642.3604414808,
           -1134853.422591435,
           -1.2930099692904163e-09
          ],
          [
           0,
           1045008.71554048,
           2041153.9849860552,
           2941857.1626733984,
           3705002.3690735307,
           4294905.7825101605,
           4683984.175001545,
           4854044.67334436,
           4797135.437644766,
           4515917.480514002,
           4023540.241076192,
           3343026.731809452,
           2506197.008070652,
           1552180.297672381,
           525585.3616794471,
           -525585.361679446,
           -1552180.2976723816,
           -2506197.0080706533,
           -3343026.731809453,
           -4023540.241076192,
           -4515917.480514002,
           -4797135.437644766,
           -4854044.67334436,
           -4683984.175001544,
           -4294905.78251016,
           -3705002.3690735297,
           -2941857.1626733965,
           -2041153.9849860566,
           -1045008.7155404816,
           -1.1906442367717746e-09
          ],
          [
           0,
           942912.2367603949,
           1841734.9453015556,
           2654440.174741788,
           3343026.7318094526,
           3875297.0744050574,
           4226362.832884829,
           4379808.562563817,
           4328459.311664914,
           4074716.1140895574,
           3630443.719741063,
           3016415.8120058654,
           2261343.6534066577,
           1400533.57887711,
           474236.11078054353,
           -474236.11078054254,
           -1400533.5788771107,
           -2261343.6534066587,
           -3016415.8120058663,
           -3630443.719741063,
           -4074716.1140895574,
           -4328459.311664914,
           -4379808.562563817,
           -4226362.832884828,
           -3875297.074405057,
           -3343026.7318094517,
           -2654440.174741786,
           -1841734.945301557,
           -942912.2367603963,
           -1.0743192891933912e-09
          ],
          [
           0,
           829760.9741171736,
           1620723.247297714,
           2335902.3027391257,
           2941857.162673398,
           3410254.0513204597,
           3719191.2507529263,
           3854223.20088437,
           3809035.95780388,
           3585742.426775884,
           3194783.565138317,
           2654440.174741787,
           1989978.1119726899,
           1232466.8843895674,
           417326.8750809491,
           -417326.87508094823,
           -1232466.8843895681,
           -1989978.1119726906,
           -2654440.174741788,
           -3194783.565138317,
           -3585742.426775884,
           -3809035.95780388,
           -3854223.20088437,
           -3719191.250752926,
           -3410254.051320459,
           -2941857.162673397,
           -2335902.3027391243,
           -1620723.2472977152,
           -829760.9741171747,
           -9.453989302087085e-10
          ],
          [
           0,
           706881.5227101218,
           1380710.051060703,
           1989978.11197269,
           2506197.008070652,
           2905228.9175091437,
           3168415.5516949347,
           3283450.5961244325,
           3244955.139972383,
           3054729.1879838286,
           2721667.494252794,
           2261343.6534066577,
           1695281.8966301808,
           1049950.642537776,
           355524.86333663116,
           -355524.86333663046,
           -1049950.6425377764,
           -1695281.8966301815,
           -2261343.653406658,
           -2721667.494252794,
           -3054729.1879838286,
           -3244955.139972383,
           -3283450.5961244325,
           -3168415.5516949343,
           -2905228.9175091432,
           -2506197.0080706514,
           -1989978.111972689,
           -1380710.051060704,
           -706881.5227101229,
           -8.053946331538135e-10
          ],
          [
           0,
           575714.5317572337,
           1124509.2918702438,
           1620723.2472977135,
           2041153.9849860542,
           2366142.6309161633,
           2580493.077203286,
           2674182.5352124455,
           2642830.1900154883,
           2487902.0424281945,
           2216642.360441478,
           1841734.9453015546,
           1380710.0510607024,
           855124.689381256,
           289554.64762917376,
           -289554.6476291731,
           -855124.6893812565,
           -1380710.0510607031,
           -1841734.945301555,
           -2216642.360441478,
           -2487902.0424281945,
           -2642830.1900154883,
           -2674182.5352124455,
           -2580493.0772032854,
           -2366142.630916163,
           -2041153.984986054,
           -1620723.2472977126,
           -1124509.2918702445,
           -575714.5317572345,
           -6.559478204045259e-10
          ],
          [
           0,
           437797.814300308,
           855124.6893812564,
           1232466.8843895677,
           1552180.297672381,
           1799315.4853605293,
           1962316.6807487481,
           2033562.1291035009,
           2009720.472443348,
           1891906.5201356201,
           1685629.1216494231,
           1400533.57887711,
           1049950.642537776,
           650273.1810897005,
           220189.66842060324,
           -220189.6684206028,
           -650273.1810897008,
           -1049950.6425377764,
           -1400533.5788771103,
           -1685629.1216494231,
           -1891906.5201356201,
           -2009720.472443348,
           -2033562.1291035009,
           -1962316.680748748,
           -1799315.485360529,
           -1552180.2976723807,
           -1232466.884389567,
           -855124.6893812569,
           -437797.8143003087,
           -4.988106191998066e-10
          ],
          [
           0,
           294748.31775307073,
           575714.5317572344,
           829760.9741171745,
           1045008.715540481,
           1211393.0108688825,
           1321133.9153756853,
           1369100.0663344061,
           1353048.6198367635,
           1273730.1236810852,
           1134853.4225914343,
           942912.2367603957,
           706881.5227101225,
           437797.8143003084,
           148243.1666711352,
           -148243.16667113488,
           -437797.81430030864,
           -706881.5227101229,
           -942912.2367603959,
           -1134853.4225914343,
           -1273730.1236810852,
           -1353048.6198367635,
           -1369100.0663344061,
           -1321133.915375685,
           -1211393.0108688823,
           -1045008.7155404808,
           -829760.974117174,
           -575714.5317572348,
           -294748.3177530712,
           -3.358253195518686e-10
          ],
          [
           0,
           148243.16667113506,
           289554.6476291739,
           417326.8750809492,
           525585.3616794471,
           609268.0609119879,
           664462.0627690981,
           688586.5570676662,
           680513.5092667409,
           640620.4061089451,
           570772.604759938,
           474236.11078054353,
           355524.8633366312,
           220189.66842060327,
           74558.64933246764,
           -74558.64933246748,
           -220189.66842060335,
           -355524.8633366314,
           -474236.11078054365,
           -570772.604759938,
           -640620.4061089451,
           -680513.5092667409,
           -688586.5570676662,
           -664462.062769098,
           -609268.0609119878,
           -525585.361679447,
           -417326.8750809489,
           -289554.6476291741,
           -148243.1666711353,
           -1.689027750802021e-10
          ],
          [
           0,
           1.6791265977593415e-10,
           3.279739102022631e-10,
           4.726994651043543e-10,
           5.953221183858873e-10,
           6.901081710647083e-10,
           7.526255326646867e-10,
           7.799509608404643e-10,
           7.70806748940574e-10,
           7.256204701503929e-10,
           6.46504984645208e-10,
           5.371596445966956e-10,
           4.026973165769068e-10,
           2.494053095999033e-10,
           8.445138754010104e-11,
           -8.445138754010087e-11,
           -2.494053095999034e-10,
           -4.02697316576907e-10,
           -5.371596445966957e-10,
           -6.46504984645208e-10,
           -7.256204701503929e-10,
           -7.70806748940574e-10,
           -7.799509608404643e-10,
           -7.526255326646866e-10,
           -6.901081710647082e-10,
           -5.953221183858872e-10,
           -4.72699465104354e-10,
           -3.279739102022633e-10,
           -1.679126597759344e-10,
           -1.9131346721815106e-25
          ]
         ],
         "z": [
          [
           6378137,
           6378137,
           6378137,
           6378137,
           6378137,
           6378137,
           6378137,
           6378137,
           6378137,
           6378137,
           6378137,
           6378137,
           6378137,
           6378137,
           6378137,
           6378137,
           6378137,
           6378137,
           6378137,
           6378137,
           6378137,
           6378137,
           6378137,
           6378137,
           6378137,
           6378137,
           6378137,
           6378137,
           6378137,
           6378137
          ],
          [
           6340748.087630636,
           6340748.087630636,
           6340748.087630636,
           6340748.087630636,
           6340748.087630636,
           6340748.087630636,
           6340748.087630636,
           6340748.087630636,
           6340748.087630636,
           6340748.087630636,
           6340748.087630636,
           6340748.087630636,
           6340748.087630636,
           6340748.087630636,
           6340748.087630636,
           6340748.087630636,
           6340748.087630636,
           6340748.087630636,
           6340748.087630636,
           6340748.087630636,
           6340748.087630636,
           6340748.087630636,
           6340748.087630636,
           6340748.087630636,
           6340748.087630636,
           6340748.087630636,
           6340748.087630636,
           6340748.087630636,
           6340748.087630636,
           6340748.087630636
          ],
          [
           6229019.701335065,
           6229019.701335065,
           6229019.701335065,
           6229019.701335065,
           6229019.701335065,
           6229019.701335065,
           6229019.701335065,
           6229019.701335065,
           6229019.701335065,
           6229019.701335065,
           6229019.701335065,
           6229019.701335065,
           6229019.701335065,
           6229019.701335065,
           6229019.701335065,
           6229019.701335065,
           6229019.701335065,
           6229019.701335065,
           6229019.701335065,
           6229019.701335065,
           6229019.701335065,
           6229019.701335065,
           6229019.701335065,
           6229019.701335065,
           6229019.701335065,
           6229019.701335065,
           6229019.701335065,
           6229019.701335065,
           6229019.701335065,
           6229019.701335065
          ],
          [
           6044261.754288366,
           6044261.754288366,
           6044261.754288366,
           6044261.754288366,
           6044261.754288366,
           6044261.754288366,
           6044261.754288366,
           6044261.754288366,
           6044261.754288366,
           6044261.754288366,
           6044261.754288366,
           6044261.754288366,
           6044261.754288366,
           6044261.754288366,
           6044261.754288366,
           6044261.754288366,
           6044261.754288366,
           6044261.754288366,
           6044261.754288366,
           6044261.754288366,
           6044261.754288366,
           6044261.754288366,
           6044261.754288366,
           6044261.754288366,
           6044261.754288366,
           6044261.754288366,
           6044261.754288366,
           6044261.754288366,
           6044261.754288366,
           6044261.754288366
          ],
          [
           5788640.364493859,
           5788640.364493859,
           5788640.364493859,
           5788640.364493859,
           5788640.364493859,
           5788640.364493859,
           5788640.364493859,
           5788640.364493859,
           5788640.364493859,
           5788640.364493859,
           5788640.364493859,
           5788640.364493859,
           5788640.364493859,
           5788640.364493859,
           5788640.364493859,
           5788640.364493859,
           5788640.364493859,
           5788640.364493859,
           5788640.364493859,
           5788640.364493859,
           5788640.364493859,
           5788640.364493859,
           5788640.364493859,
           5788640.364493859,
           5788640.364493859,
           5788640.364493859,
           5788640.364493859,
           5788640.364493859,
           5788640.364493859,
           5788640.364493859
          ],
          [
           5465152.459030019,
           5465152.459030019,
           5465152.459030019,
           5465152.459030019,
           5465152.459030019,
           5465152.459030019,
           5465152.459030019,
           5465152.459030019,
           5465152.459030019,
           5465152.459030019,
           5465152.459030019,
           5465152.459030019,
           5465152.459030019,
           5465152.459030019,
           5465152.459030019,
           5465152.459030019,
           5465152.459030019,
           5465152.459030019,
           5465152.459030019,
           5465152.459030019,
           5465152.459030019,
           5465152.459030019,
           5465152.459030019,
           5465152.459030019,
           5465152.459030019,
           5465152.459030019,
           5465152.459030019,
           5465152.459030019,
           5465152.459030019,
           5465152.459030019
          ],
          [
           5077590.637820598,
           5077590.637820598,
           5077590.637820598,
           5077590.637820598,
           5077590.637820598,
           5077590.637820598,
           5077590.637820598,
           5077590.637820598,
           5077590.637820598,
           5077590.637820598,
           5077590.637820598,
           5077590.637820598,
           5077590.637820598,
           5077590.637820598,
           5077590.637820598,
           5077590.637820598,
           5077590.637820598,
           5077590.637820598,
           5077590.637820598,
           5077590.637820598,
           5077590.637820598,
           5077590.637820598,
           5077590.637820598,
           5077590.637820598,
           5077590.637820598,
           5077590.637820598,
           5077590.637820598,
           5077590.637820598,
           5077590.637820598,
           5077590.637820598
          ],
          [
           4630498.708868122,
           4630498.708868122,
           4630498.708868122,
           4630498.708868122,
           4630498.708868122,
           4630498.708868122,
           4630498.708868122,
           4630498.708868122,
           4630498.708868122,
           4630498.708868122,
           4630498.708868122,
           4630498.708868122,
           4630498.708868122,
           4630498.708868122,
           4630498.708868122,
           4630498.708868122,
           4630498.708868122,
           4630498.708868122,
           4630498.708868122,
           4630498.708868122,
           4630498.708868122,
           4630498.708868122,
           4630498.708868122,
           4630498.708868122,
           4630498.708868122,
           4630498.708868122,
           4630498.708868122,
           4630498.708868122,
           4630498.708868122,
           4630498.708868122
          ],
          [
           4129118.4162595123,
           4129118.4162595123,
           4129118.4162595123,
           4129118.4162595123,
           4129118.4162595123,
           4129118.4162595123,
           4129118.4162595123,
           4129118.4162595123,
           4129118.4162595123,
           4129118.4162595123,
           4129118.4162595123,
           4129118.4162595123,
           4129118.4162595123,
           4129118.4162595123,
           4129118.4162595123,
           4129118.4162595123,
           4129118.4162595123,
           4129118.4162595123,
           4129118.4162595123,
           4129118.4162595123,
           4129118.4162595123,
           4129118.4162595123,
           4129118.4162595123,
           4129118.4162595123,
           4129118.4162595123,
           4129118.4162595123,
           4129118.4162595123,
           4129118.4162595123,
           4129118.4162595123,
           4129118.4162595123
          ],
          [
           3579327.9855092294,
           3579327.9855092294,
           3579327.9855092294,
           3579327.9855092294,
           3579327.9855092294,
           3579327.9855092294,
           3579327.9855092294,
           3579327.9855092294,
           3579327.9855092294,
           3579327.9855092294,
           3579327.9855092294,
           3579327.9855092294,
           3579327.9855092294,
           3579327.9855092294,
           3579327.9855092294,
           3579327.9855092294,
           3579327.9855092294,
           3579327.9855092294,
           3579327.9855092294,
           3579327.9855092294,
           3579327.9855092294,
           3579327.9855092294,
           3579327.9855092294,
           3579327.9855092294,
           3579327.9855092294,
           3579327.9855092294,
           3579327.9855092294,
           3579327.9855092294,
           3579327.9855092294,
           3579327.9855092294
          ],
          [
           2987573.2067396375,
           2987573.2067396375,
           2987573.2067396375,
           2987573.2067396375,
           2987573.2067396375,
           2987573.2067396375,
           2987573.2067396375,
           2987573.2067396375,
           2987573.2067396375,
           2987573.2067396375,
           2987573.2067396375,
           2987573.2067396375,
           2987573.2067396375,
           2987573.2067396375,
           2987573.2067396375,
           2987573.2067396375,
           2987573.2067396375,
           2987573.2067396375,
           2987573.2067396375,
           2987573.2067396375,
           2987573.2067396375,
           2987573.2067396375,
           2987573.2067396375,
           2987573.2067396375,
           2987573.2067396375,
           2987573.2067396375,
           2987573.2067396375,
           2987573.2067396375,
           2987573.2067396375,
           2987573.2067396375
          ],
          [
           2360791.8636852554,
           2360791.8636852554,
           2360791.8636852554,
           2360791.8636852554,
           2360791.8636852554,
           2360791.8636852554,
           2360791.8636852554,
           2360791.8636852554,
           2360791.8636852554,
           2360791.8636852554,
           2360791.8636852554,
           2360791.8636852554,
           2360791.8636852554,
           2360791.8636852554,
           2360791.8636852554,
           2360791.8636852554,
           2360791.8636852554,
           2360791.8636852554,
           2360791.8636852554,
           2360791.8636852554,
           2360791.8636852554,
           2360791.8636852554,
           2360791.8636852554,
           2360791.8636852554,
           2360791.8636852554,
           2360791.8636852554,
           2360791.8636852554,
           2360791.8636852554,
           2360791.8636852554,
           2360791.8636852554
          ],
          [
           1706332.3945217484,
           1706332.3945217484,
           1706332.3945217484,
           1706332.3945217484,
           1706332.3945217484,
           1706332.3945217484,
           1706332.3945217484,
           1706332.3945217484,
           1706332.3945217484,
           1706332.3945217484,
           1706332.3945217484,
           1706332.3945217484,
           1706332.3945217484,
           1706332.3945217484,
           1706332.3945217484,
           1706332.3945217484,
           1706332.3945217484,
           1706332.3945217484,
           1706332.3945217484,
           1706332.3945217484,
           1706332.3945217484,
           1706332.3945217484,
           1706332.3945217484,
           1706332.3945217484,
           1706332.3945217484,
           1706332.3945217484,
           1706332.3945217484,
           1706332.3945217484,
           1706332.3945217484,
           1706332.3945217484
          ],
          [
           1031867.7381470605,
           1031867.7381470605,
           1031867.7381470605,
           1031867.7381470605,
           1031867.7381470605,
           1031867.7381470605,
           1031867.7381470605,
           1031867.7381470605,
           1031867.7381470605,
           1031867.7381470605,
           1031867.7381470605,
           1031867.7381470605,
           1031867.7381470605,
           1031867.7381470605,
           1031867.7381470605,
           1031867.7381470605,
           1031867.7381470605,
           1031867.7381470605,
           1031867.7381470605,
           1031867.7381470605,
           1031867.7381470605,
           1031867.7381470605,
           1031867.7381470605,
           1031867.7381470605,
           1031867.7381470605,
           1031867.7381470605,
           1031867.7381470605,
           1031867.7381470605,
           1031867.7381470605,
           1031867.7381470605
          ],
          [
           345305.3759882697,
           345305.3759882697,
           345305.3759882697,
           345305.3759882697,
           345305.3759882697,
           345305.3759882697,
           345305.3759882697,
           345305.3759882697,
           345305.3759882697,
           345305.3759882697,
           345305.3759882697,
           345305.3759882697,
           345305.3759882697,
           345305.3759882697,
           345305.3759882697,
           345305.3759882697,
           345305.3759882697,
           345305.3759882697,
           345305.3759882697,
           345305.3759882697,
           345305.3759882697,
           345305.3759882697,
           345305.3759882697,
           345305.3759882697,
           345305.3759882697,
           345305.3759882697,
           345305.3759882697,
           345305.3759882697,
           345305.3759882697,
           345305.3759882697
          ],
          [
           -345305.37598826893,
           -345305.37598826893,
           -345305.37598826893,
           -345305.37598826893,
           -345305.37598826893,
           -345305.37598826893,
           -345305.37598826893,
           -345305.37598826893,
           -345305.37598826893,
           -345305.37598826893,
           -345305.37598826893,
           -345305.37598826893,
           -345305.37598826893,
           -345305.37598826893,
           -345305.37598826893,
           -345305.37598826893,
           -345305.37598826893,
           -345305.37598826893,
           -345305.37598826893,
           -345305.37598826893,
           -345305.37598826893,
           -345305.37598826893,
           -345305.37598826893,
           -345305.37598826893,
           -345305.37598826893,
           -345305.37598826893,
           -345305.37598826893,
           -345305.37598826893,
           -345305.37598826893,
           -345305.37598826893
          ],
          [
           -1031867.7381470612,
           -1031867.7381470612,
           -1031867.7381470612,
           -1031867.7381470612,
           -1031867.7381470612,
           -1031867.7381470612,
           -1031867.7381470612,
           -1031867.7381470612,
           -1031867.7381470612,
           -1031867.7381470612,
           -1031867.7381470612,
           -1031867.7381470612,
           -1031867.7381470612,
           -1031867.7381470612,
           -1031867.7381470612,
           -1031867.7381470612,
           -1031867.7381470612,
           -1031867.7381470612,
           -1031867.7381470612,
           -1031867.7381470612,
           -1031867.7381470612,
           -1031867.7381470612,
           -1031867.7381470612,
           -1031867.7381470612,
           -1031867.7381470612,
           -1031867.7381470612,
           -1031867.7381470612,
           -1031867.7381470612,
           -1031867.7381470612,
           -1031867.7381470612
          ],
          [
           -1706332.394521749,
           -1706332.394521749,
           -1706332.394521749,
           -1706332.394521749,
           -1706332.394521749,
           -1706332.394521749,
           -1706332.394521749,
           -1706332.394521749,
           -1706332.394521749,
           -1706332.394521749,
           -1706332.394521749,
           -1706332.394521749,
           -1706332.394521749,
           -1706332.394521749,
           -1706332.394521749,
           -1706332.394521749,
           -1706332.394521749,
           -1706332.394521749,
           -1706332.394521749,
           -1706332.394521749,
           -1706332.394521749,
           -1706332.394521749,
           -1706332.394521749,
           -1706332.394521749,
           -1706332.394521749,
           -1706332.394521749,
           -1706332.394521749,
           -1706332.394521749,
           -1706332.394521749,
           -1706332.394521749
          ],
          [
           -2360791.863685256,
           -2360791.863685256,
           -2360791.863685256,
           -2360791.863685256,
           -2360791.863685256,
           -2360791.863685256,
           -2360791.863685256,
           -2360791.863685256,
           -2360791.863685256,
           -2360791.863685256,
           -2360791.863685256,
           -2360791.863685256,
           -2360791.863685256,
           -2360791.863685256,
           -2360791.863685256,
           -2360791.863685256,
           -2360791.863685256,
           -2360791.863685256,
           -2360791.863685256,
           -2360791.863685256,
           -2360791.863685256,
           -2360791.863685256,
           -2360791.863685256,
           -2360791.863685256,
           -2360791.863685256,
           -2360791.863685256,
           -2360791.863685256,
           -2360791.863685256,
           -2360791.863685256,
           -2360791.863685256
          ],
          [
           -2987573.2067396366,
           -2987573.2067396366,
           -2987573.2067396366,
           -2987573.2067396366,
           -2987573.2067396366,
           -2987573.2067396366,
           -2987573.2067396366,
           -2987573.2067396366,
           -2987573.2067396366,
           -2987573.2067396366,
           -2987573.2067396366,
           -2987573.2067396366,
           -2987573.2067396366,
           -2987573.2067396366,
           -2987573.2067396366,
           -2987573.2067396366,
           -2987573.2067396366,
           -2987573.2067396366,
           -2987573.2067396366,
           -2987573.2067396366,
           -2987573.2067396366,
           -2987573.2067396366,
           -2987573.2067396366,
           -2987573.2067396366,
           -2987573.2067396366,
           -2987573.2067396366,
           -2987573.2067396366,
           -2987573.2067396366,
           -2987573.2067396366,
           -2987573.2067396366
          ],
          [
           -3579327.985509229,
           -3579327.985509229,
           -3579327.985509229,
           -3579327.985509229,
           -3579327.985509229,
           -3579327.985509229,
           -3579327.985509229,
           -3579327.985509229,
           -3579327.985509229,
           -3579327.985509229,
           -3579327.985509229,
           -3579327.985509229,
           -3579327.985509229,
           -3579327.985509229,
           -3579327.985509229,
           -3579327.985509229,
           -3579327.985509229,
           -3579327.985509229,
           -3579327.985509229,
           -3579327.985509229,
           -3579327.985509229,
           -3579327.985509229,
           -3579327.985509229,
           -3579327.985509229,
           -3579327.985509229,
           -3579327.985509229,
           -3579327.985509229,
           -3579327.985509229,
           -3579327.985509229,
           -3579327.985509229
          ],
          [
           -4129118.4162595114,
           -4129118.4162595114,
           -4129118.4162595114,
           -4129118.4162595114,
           -4129118.4162595114,
           -4129118.4162595114,
           -4129118.4162595114,
           -4129118.4162595114,
           -4129118.4162595114,
           -4129118.4162595114,
           -4129118.4162595114,
           -4129118.4162595114,
           -4129118.4162595114,
           -4129118.4162595114,
           -4129118.4162595114,
           -4129118.4162595114,
           -4129118.4162595114,
           -4129118.4162595114,
           -4129118.4162595114,
           -4129118.4162595114,
           -4129118.4162595114,
           -4129118.4162595114,
           -4129118.4162595114,
           -4129118.4162595114,
           -4129118.4162595114,
           -4129118.4162595114,
           -4129118.4162595114,
           -4129118.4162595114,
           -4129118.4162595114,
           -4129118.4162595114
          ],
          [
           -4630498.708868122,
           -4630498.708868122,
           -4630498.708868122,
           -4630498.708868122,
           -4630498.708868122,
           -4630498.708868122,
           -4630498.708868122,
           -4630498.708868122,
           -4630498.708868122,
           -4630498.708868122,
           -4630498.708868122,
           -4630498.708868122,
           -4630498.708868122,
           -4630498.708868122,
           -4630498.708868122,
           -4630498.708868122,
           -4630498.708868122,
           -4630498.708868122,
           -4630498.708868122,
           -4630498.708868122,
           -4630498.708868122,
           -4630498.708868122,
           -4630498.708868122,
           -4630498.708868122,
           -4630498.708868122,
           -4630498.708868122,
           -4630498.708868122,
           -4630498.708868122,
           -4630498.708868122,
           -4630498.708868122
          ],
          [
           -5077590.637820598,
           -5077590.637820598,
           -5077590.637820598,
           -5077590.637820598,
           -5077590.637820598,
           -5077590.637820598,
           -5077590.637820598,
           -5077590.637820598,
           -5077590.637820598,
           -5077590.637820598,
           -5077590.637820598,
           -5077590.637820598,
           -5077590.637820598,
           -5077590.637820598,
           -5077590.637820598,
           -5077590.637820598,
           -5077590.637820598,
           -5077590.637820598,
           -5077590.637820598,
           -5077590.637820598,
           -5077590.637820598,
           -5077590.637820598,
           -5077590.637820598,
           -5077590.637820598,
           -5077590.637820598,
           -5077590.637820598,
           -5077590.637820598,
           -5077590.637820598,
           -5077590.637820598,
           -5077590.637820598
          ],
          [
           -5465152.459030019,
           -5465152.459030019,
           -5465152.459030019,
           -5465152.459030019,
           -5465152.459030019,
           -5465152.459030019,
           -5465152.459030019,
           -5465152.459030019,
           -5465152.459030019,
           -5465152.459030019,
           -5465152.459030019,
           -5465152.459030019,
           -5465152.459030019,
           -5465152.459030019,
           -5465152.459030019,
           -5465152.459030019,
           -5465152.459030019,
           -5465152.459030019,
           -5465152.459030019,
           -5465152.459030019,
           -5465152.459030019,
           -5465152.459030019,
           -5465152.459030019,
           -5465152.459030019,
           -5465152.459030019,
           -5465152.459030019,
           -5465152.459030019,
           -5465152.459030019,
           -5465152.459030019,
           -5465152.459030019
          ],
          [
           -5788640.364493859,
           -5788640.364493859,
           -5788640.364493859,
           -5788640.364493859,
           -5788640.364493859,
           -5788640.364493859,
           -5788640.364493859,
           -5788640.364493859,
           -5788640.364493859,
           -5788640.364493859,
           -5788640.364493859,
           -5788640.364493859,
           -5788640.364493859,
           -5788640.364493859,
           -5788640.364493859,
           -5788640.364493859,
           -5788640.364493859,
           -5788640.364493859,
           -5788640.364493859,
           -5788640.364493859,
           -5788640.364493859,
           -5788640.364493859,
           -5788640.364493859,
           -5788640.364493859,
           -5788640.364493859,
           -5788640.364493859,
           -5788640.364493859,
           -5788640.364493859,
           -5788640.364493859,
           -5788640.364493859
          ],
          [
           -6044261.754288366,
           -6044261.754288366,
           -6044261.754288366,
           -6044261.754288366,
           -6044261.754288366,
           -6044261.754288366,
           -6044261.754288366,
           -6044261.754288366,
           -6044261.754288366,
           -6044261.754288366,
           -6044261.754288366,
           -6044261.754288366,
           -6044261.754288366,
           -6044261.754288366,
           -6044261.754288366,
           -6044261.754288366,
           -6044261.754288366,
           -6044261.754288366,
           -6044261.754288366,
           -6044261.754288366,
           -6044261.754288366,
           -6044261.754288366,
           -6044261.754288366,
           -6044261.754288366,
           -6044261.754288366,
           -6044261.754288366,
           -6044261.754288366,
           -6044261.754288366,
           -6044261.754288366,
           -6044261.754288366
          ],
          [
           -6229019.701335065,
           -6229019.701335065,
           -6229019.701335065,
           -6229019.701335065,
           -6229019.701335065,
           -6229019.701335065,
           -6229019.701335065,
           -6229019.701335065,
           -6229019.701335065,
           -6229019.701335065,
           -6229019.701335065,
           -6229019.701335065,
           -6229019.701335065,
           -6229019.701335065,
           -6229019.701335065,
           -6229019.701335065,
           -6229019.701335065,
           -6229019.701335065,
           -6229019.701335065,
           -6229019.701335065,
           -6229019.701335065,
           -6229019.701335065,
           -6229019.701335065,
           -6229019.701335065,
           -6229019.701335065,
           -6229019.701335065,
           -6229019.701335065,
           -6229019.701335065,
           -6229019.701335065,
           -6229019.701335065
          ],
          [
           -6340748.087630636,
           -6340748.087630636,
           -6340748.087630636,
           -6340748.087630636,
           -6340748.087630636,
           -6340748.087630636,
           -6340748.087630636,
           -6340748.087630636,
           -6340748.087630636,
           -6340748.087630636,
           -6340748.087630636,
           -6340748.087630636,
           -6340748.087630636,
           -6340748.087630636,
           -6340748.087630636,
           -6340748.087630636,
           -6340748.087630636,
           -6340748.087630636,
           -6340748.087630636,
           -6340748.087630636,
           -6340748.087630636,
           -6340748.087630636,
           -6340748.087630636,
           -6340748.087630636,
           -6340748.087630636,
           -6340748.087630636,
           -6340748.087630636,
           -6340748.087630636,
           -6340748.087630636,
           -6340748.087630636
          ],
          [
           -6378137,
           -6378137,
           -6378137,
           -6378137,
           -6378137,
           -6378137,
           -6378137,
           -6378137,
           -6378137,
           -6378137,
           -6378137,
           -6378137,
           -6378137,
           -6378137,
           -6378137,
           -6378137,
           -6378137,
           -6378137,
           -6378137,
           -6378137,
           -6378137,
           -6378137,
           -6378137,
           -6378137,
           -6378137,
           -6378137,
           -6378137,
           -6378137,
           -6378137,
           -6378137
          ]
         ]
        },
        {
         "line": {
          "width": 1
         },
         "marker": {
          "showscale": false,
          "size": 0
         },
         "mode": "lines",
         "type": "scatter3d",
         "x": [
          6722559.543134856,
          6815325.705002203,
          6201474.5564728575,
          4944650.575644077,
          3175162.0734339347,
          1076470.7449000645,
          -1133829.756167367,
          -3226574.065875872,
          -4984785.121135276,
          -6226170.479771436,
          -6822022.517049488,
          -6710562.91419197,
          -5903347.873821934,
          -4484069.965513761,
          -2599880.826868318,
          -446134.38799210463,
          1753867.5484147687,
          3772027.3802039167,
          5399101.010465523,
          6466392.408782568,
          6722559.543134286
         ],
         "y": [
          -1951165.7263378396,
          -339396.3125298105,
          1307561.9271537561,
          2818951.313324664,
          4038070.031683066,
          4838519.076941751,
          5137307.382209352,
          4903456.385670219,
          4161211.907606542,
          2987530.328307119,
          1504099.701538467,
          -135276.9403838634,
          -1760627.9829569836,
          -3203435.9947527107,
          -4314109.722052129,
          -4977493.805319539,
          -5124808.1602319805,
          -4740779.140634199,
          -3865223.119901166,
          -2588918.303983917,
          -1951165.7263397912
         ],
         "z": [
          -12062.229103397669,
          1560815.7091012765,
          2971867.280360562,
          4074793.7589389477,
          4755243.0249830345,
          4942665.665149223,
          4617629.580718523,
          3813834.719969808,
          2614619.0460757148,
          1144318.003995335,
          -444626.65765971545,
          -1987472.144225358,
          -3324255.252875577,
          -4316377.459386529,
          -4860974.901414095,
          -4901583.369265128,
          -4433992.55112559,
          -3506682.5608713995,
          -2215797.4889803454,
          -695177.1219884559,
          -12062.229105428985
         ]
        },
        {
         "line": {
          "color": "red",
          "width": 6
         },
         "marker": {
          "size": 1
         },
         "type": "scatter3d",
         "x": [
          6722559.543134855,
          6821740.002890239
         ],
         "y": [
          -1951165.7263378398,
          -1611633.3505398722
         ],
         "z": [
          -12062.229103397578,
          341322.8330988669
         ]
        },
        {
         "line": {
          "color": "blue",
          "width": 6
         },
         "marker": {
          "size": 1
         },
         "type": "scatter3d",
         "x": [
          6722559.543134855,
          6820476.300886845
         ],
         "y": [
          -1951165.7263378398,
          -1611615.9463753698
         ],
         "z": [
          -12062.229103397578,
          -365782.8186635424
         ]
        },
        {
         "line": {
          "color": "green",
          "width": 6
         },
         "marker": {
          "size": 1
         },
         "type": "scatter3d",
         "x": [
          6722559.543134855,
          6242376.718625222
         ],
         "y": [
          -1951165.7263378398,
          -1811796.745885137
         ],
         "z": [
          -12062.229103397578,
          -11200.641310297635
         ]
        },
        {
         "line": {
          "color": "red",
          "width": 6
         },
         "marker": {
          "size": 1
         },
         "type": "scatter3d",
         "x": [
          6815325.705002205,
          6756765.252598674
         ],
         "y": [
          -339396.3125298105,
          26825.264627526747
         ],
         "z": [
          1560815.7091012774,
          1896154.984818701
         ]
        },
        {
         "line": {
          "color": "blue",
          "width": 6
         },
         "marker": {
          "size": 1
         },
         "type": "scatter3d",
         "x": [
          6815325.705002205,
          6913242.462754196
         ],
         "y": [
          -339396.3125298105,
          153.4674326594104
         ],
         "z": [
          1560815.7091012774,
          1207095.1195411326
         ]
        },
        {
         "line": {
          "color": "green",
          "width": 6
         },
         "marker": {
          "size": 1
         },
         "type": "scatter3d",
         "x": [
          6815325.705002205,
          6328516.7260734765
         ],
         "y": [
          -339396.3125298105,
          -315153.7187776811
         ],
         "z": [
          1560815.7091012774,
          1449328.8727369006
         ]
        },
        {
         "line": {
          "color": "red",
          "width": 6
         },
         "marker": {
          "size": 1
         },
         "type": "scatter3d",
         "x": [
          6201474.5564728575,
          5991244.776918097
         ],
         "y": [
          1307561.927153756,
          1662502.6192708914
         ],
         "z": [
          2971867.280360561,
          3254392.5798786147
         ]
        },
        {
         "line": {
          "color": "blue",
          "width": 6
         },
         "marker": {
          "size": 1
         },
         "type": "scatter3d",
         "x": [
          6201474.5564728575,
          6299391.314224848
         ],
         "y": [
          1307561.927153756,
          1647111.707116226
         ],
         "z": [
          2971867.280360561,
          2618146.6908004163
         ]
        },
        {
         "line": {
          "color": "green",
          "width": 6
         },
         "marker": {
          "size": 1
         },
         "type": "scatter3d",
         "x": [
          6201474.5564728575,
          5758512.088153368
         ],
         "y": [
          1307561.927153756,
          1214164.6466427734
         ],
         "z": [
          2971867.280360561,
          2759591.046049092
         ]
        },
        {
         "line": {
          "color": "red",
          "width": 6
         },
         "marker": {
          "size": 1
         },
         "type": "scatter3d",
         "x": [
          4944650.57564408,
          4604548.226396835
         ],
         "y": [
          2818951.3133246647,
          3125810.6433488186
         ],
         "z": [
          4074793.75893895,
          4275212.6792374905
         ]
        },
        {
         "line": {
          "color": "blue",
          "width": 6
         },
         "marker": {
          "size": 1
         },
         "type": "scatter3d",
         "x": [
          4944650.57564408,
          5042567.33339607
         ],
         "y": [
          2818951.3133246647,
          3158501.0932871345
         ],
         "z": [
          4074793.75893895,
          3721073.169378805
         ]
        },
        {
         "line": {
          "color": "green",
          "width": 6
         },
         "marker": {
          "size": 1
         },
         "type": "scatter3d",
         "x": [
          4944650.57564408,
          4591461.24881236
         ],
         "y": [
          2818951.3133246647,
          2617597.6480871886
         ],
         "z": [
          4074793.75893895,
          3783737.061871882
         ]
        },
        {
         "line": {
          "color": "red",
          "width": 6
         },
         "marker": {
          "size": 1
         },
         "type": "scatter3d",
         "x": [
          3175162.0734339356,
          2740449.182706343
         ],
         "y": [
          4038070.031683067,
          4265032.628810662
         ],
         "z": [
          4755243.024983037,
          4852776.004740437
         ]
        },
        {
         "line": {
          "color": "blue",
          "width": 6
         },
         "marker": {
          "size": 1
         },
         "type": "scatter3d",
         "x": [
          3175162.0734339356,
          3273078.8311859253
         ],
         "y": [
          4038070.031683067,
          4377619.811645537
         ],
         "z": [
          4755243.024983037,
          4401522.435422893
         ]
        },
        {
         "line": {
          "color": "green",
          "width": 6
         },
         "marker": {
          "size": 1
         },
         "type": "scatter3d",
         "x": [
          3175162.0734339356,
          2948364.782474369
         ],
         "y": [
          4038070.031683067,
          3749636.4579914194
         ],
         "z": [
          4755243.024983037,
          4415582.80891282
         ]
        },
        {
         "line": {
          "color": "red",
          "width": 6
         },
         "marker": {
          "size": 1
         },
         "type": "scatter3d",
         "x": [
          1076470.744900065,
          592218.6221110194
         ],
         "y": [
          4838519.076941753,
          4962053.314529438
         ],
         "z": [
          4942665.665149226,
          4927200.422896593
         ]
        },
        {
         "line": {
          "color": "blue",
          "width": 6
         },
         "marker": {
          "size": 1
         },
         "type": "scatter3d",
         "x": [
          1076470.744900065,
          1174387.502652055
         ],
         "y": [
          4838519.076941753,
          5178068.856904223
         ],
         "z": [
          4942665.665149226,
          4588945.075589081
         ]
        },
        {
         "line": {
          "color": "green",
          "width": 6
         },
         "marker": {
          "size": 1
         },
         "type": "scatter3d",
         "x": [
          1076470.744900065,
          999579.9774072032
         ],
         "y": [
          4838519.076941753,
          4492910.571445913
         ],
         "z": [
          4942665.665149226,
          4589618.1176385665
         ]
        },
        {
         "line": {
          "color": "red",
          "width": 6
         },
         "marker": {
          "size": 1
         },
         "type": "scatter3d",
         "x": [
          -1133829.7561673669,
          -1617413.5424627874
         ],
         "y": [
          5137307.382209351,
          5144605.15181382
         ],
         "z": [
          4617629.580718522,
          4490769.562623831
         ]
        },
        {
         "line": {
          "color": "blue",
          "width": 6
         },
         "marker": {
          "size": 1
         },
         "type": "scatter3d",
         "x": [
          -1133829.7561673669,
          -1035912.9984153771
         ],
         "y": [
          5137307.382209351,
          5476857.162171821
         ],
         "z": [
          4617629.580718522,
          4263908.991158377
         ]
        },
        {
         "line": {
          "color": "green",
          "width": 6
         },
         "marker": {
          "size": 1
         },
         "type": "scatter3d",
         "x": [
          -1133829.7561673669,
          -1052841.9164411263
         ],
         "y": [
          5137307.382209351,
          4770356.854908683
         ],
         "z": [
          4617629.580718522,
          4287798.896381484
         ]
        },
        {
         "line": {
          "color": "red",
          "width": 6
         },
         "marker": {
          "size": 1
         },
         "type": "scatter3d",
         "x": [
          -3226574.0658758725,
          -3659351.240675973
         ],
         "y": [
          4903456.3856702205,
          4793761.049890267
         ],
         "z": [
          3813834.7199698086,
          3588732.8535178252
         ]
        },
        {
         "line": {
          "color": "blue",
          "width": 6
         },
         "marker": {
          "size": 1
         },
         "type": "scatter3d",
         "x": [
          -3226574.0658758725,
          -3128657.308123883
         ],
         "y": [
          4903456.3856702205,
          5243006.16563269
         ],
         "z": [
          3813834.7199698086,
          3460114.1304096635
         ]
        },
        {
         "line": {
          "color": "green",
          "width": 6
         },
         "marker": {
          "size": 1
         },
         "type": "scatter3d",
         "x": [
          -3226574.0658758725,
          -2996104.4897418814
         ],
         "y": [
          4903456.3856702205,
          4553209.500979491
         ],
         "z": [
          3813834.7199698086,
          3541417.954257679
         ]
        },
        {
         "line": {
          "color": "red",
          "width": 6
         },
         "marker": {
          "size": 1
         },
         "type": "scatter3d",
         "x": [
          -4984785.121135279,
          -5321885.071281561
         ],
         "y": [
          4161211.907606544,
          3945896.748730791
         ],
         "z": [
          2614619.046075716,
          2314614.0361680756
         ]
        },
        {
         "line": {
          "color": "blue",
          "width": 6
         },
         "marker": {
          "size": 1
         },
         "type": "scatter3d",
         "x": [
          -4984785.121135279,
          -4886868.3633832885
         ],
         "y": [
          4161211.907606544,
          4500761.687569014
         ],
         "z": [
          2614619.046075716,
          2260898.456515571
         ]
        },
        {
         "line": {
          "color": "green",
          "width": 6
         },
         "marker": {
          "size": 1
         },
         "type": "scatter3d",
         "x": [
          -4984785.121135279,
          -4628729.041054187
         ],
         "y": [
          4161211.907606544,
          3863982.4856346482
         ],
         "z": [
          2614619.046075716,
          2427860.5427845935
         ]
        },
        {
         "line": {
          "color": "red",
          "width": 6
         },
         "marker": {
          "size": 1
         },
         "type": "scatter3d",
         "x": [
          -6226170.479771435,
          -6432642.467703052
         ],
         "y": [
          2987530.328307119,
          2688919.3591616517
         ],
         "z": [
          1144318.0039953343,
          800514.561159793
         ]
        },
        {
         "line": {
          "color": "blue",
          "width": 6
         },
         "marker": {
          "size": 1
         },
         "type": "scatter3d",
         "x": [
          -6226170.479771435,
          -6128253.722019445
         ],
         "y": [
          2987530.328307119,
          3327080.108269589
         ],
         "z": [
          1144318.0039953343,
          790597.4144351895
         ]
        },
        {
         "line": {
          "color": "green",
          "width": 6
         },
         "marker": {
          "size": 1
         },
         "type": "scatter3d",
         "x": [
          -6226170.479771435,
          -5781444.016930618
         ],
         "y": [
          2987530.328307119,
          2774135.3048566105
         ],
         "z": [
          1144318.0039953343,
          1062581.0037099533
         ]
        },
        {
         "line": {
          "color": "red",
          "width": 6
         },
         "marker": {
          "size": 1
         },
         "type": "scatter3d",
         "x": [
          -6822022.51704949,
          -6876459.395536864
         ],
         "y": [
          1504099.7015384673,
          1153153.0976168285
         ],
         "z": [
          -444626.65765971644,
          -796582.7734702236
         ]
        },
        {
         "line": {
          "color": "blue",
          "width": 6
         },
         "marker": {
          "size": 1
         },
         "type": "scatter3d",
         "x": [
          -6822022.51704949,
          -6724105.759297499
         ],
         "y": [
          1504099.7015384673,
          1843649.4815009371
         ],
         "z": [
          -444626.65765971644,
          -798347.2472198613
         ]
        },
        {
         "line": {
          "color": "green",
          "width": 6
         },
         "marker": {
          "size": 1
         },
         "type": "scatter3d",
         "x": [
          -6822022.51704949,
          -6334735.194403097
         ],
         "y": [
          1504099.7015384673,
          1396664.0085714338
         ],
         "z": [
          -444626.65765971644,
          -412867.61068402254
         ]
        },
        {
         "line": {
          "color": "red",
          "width": 6
         },
         "marker": {
          "size": 1
         },
         "type": "scatter3d",
         "x": [
          -6710562.91419197,
          -6607320.632997722
         ],
         "y": [
          -135276.9403838627,
          -502172.8116372012
         ],
         "z": [
          -1987472.144225357,
          -2311089.898730671
         ]
        },
        {
         "line": {
          "color": "blue",
          "width": 6
         },
         "marker": {
          "size": 1
         },
         "type": "scatter3d",
         "x": [
          -6710562.91419197,
          -6612646.15643998
         ],
         "y": [
          -135276.9403838627,
          204272.8395786073
         ],
         "z": [
          -1987472.144225357,
          -2341192.7337855017
         ]
        },
        {
         "line": {
          "color": "green",
          "width": 6
         },
         "marker": {
          "size": 1
         },
         "type": "scatter3d",
         "x": [
          -6710562.91419197,
          -6231236.991749686
         ],
         "y": [
          -135276.9403838627,
          -125614.30178501536
         ],
         "z": [
          -1987472.144225357,
          -1845509.84820926
         ]
        },
        {
         "line": {
          "color": "red",
          "width": 6
         },
         "marker": {
          "size": 1
         },
         "type": "scatter3d",
         "x": [
          -5903347.873821935,
          -5653130.658424703
         ],
         "y": [
          -1760627.9829569836,
          -2105433.123901058
         ],
         "z": [
          -3324255.2528755777,
          -3585981.751146946
         ]
        },
        {
         "line": {
          "color": "blue",
          "width": 6
         },
         "marker": {
          "size": 1
         },
         "type": "scatter3d",
         "x": [
          -5903347.873821935,
          -5805431.116069945
         ],
         "y": [
          -1760627.9829569836,
          -1421078.2029945136
         ],
         "z": [
          -3324255.2528755777,
          -3677975.8424357222
         ]
        },
        {
         "line": {
          "color": "green",
          "width": 6
         },
         "marker": {
          "size": 1
         },
         "type": "scatter3d",
         "x": [
          -5903347.873821935,
          -5481680.16854894
         ],
         "y": [
          -1760627.9829569836,
          -1634868.8413171992
         ],
         "z": [
          -3324255.2528755777,
          -3086808.4490987505
         ]
        },
        {
         "line": {
          "color": "red",
          "width": 6
         },
         "marker": {
          "size": 1
         },
         "type": "scatter3d",
         "x": [
          -4484069.965513761,
          -4112820.496192078
         ],
         "y": [
          -3203435.9947527107,
          -3490400.78873662
         ],
         "z": [
          -4316377.459386529,
          -4489076.731365717
         ]
        },
        {
         "line": {
          "color": "blue",
          "width": 6
         },
         "marker": {
          "size": 1
         },
         "type": "scatter3d",
         "x": [
          -4484069.965513761,
          -4386153.207761771
         ],
         "y": [
          -3203435.9947527107,
          -2863886.214790241
         ],
         "z": [
          -4316377.459386529,
          -4670098.048946674
         ]
        },
        {
         "line": {
          "color": "green",
          "width": 6
         },
         "marker": {
          "size": 1
         },
         "type": "scatter3d",
         "x": [
          -4484069.965513761,
          -4163779.2536913496
         ],
         "y": [
          -3203435.9947527107,
          -2974619.13798466
         ],
         "z": [
          -4316377.459386529,
          -4008064.783716063
         ]
        },
        {
         "line": {
          "color": "red",
          "width": 6
         },
         "marker": {
          "size": 1
         },
         "type": "scatter3d",
         "x": [
          -2599880.8268683176,
          -2146090.485084078
         ],
         "y": [
          -4314109.722052129,
          -4513481.476441593
         ],
         "z": [
          -4860974.901414095,
          -4926741.376574395
         ]
        },
        {
         "line": {
          "color": "blue",
          "width": 6
         },
         "marker": {
          "size": 1
         },
         "type": "scatter3d",
         "x": [
          -2599880.8268683176,
          -2501964.069116328
         ],
         "y": [
          -4314109.722052129,
          -3974559.942089659
         ],
         "z": [
          -4860974.901414095,
          -5214695.49097424
         ]
        },
        {
         "line": {
          "color": "green",
          "width": 6
         },
         "marker": {
          "size": 1
         },
         "type": "scatter3d",
         "x": [
          -2599880.8268683176,
          -2414175.0535205803
         ],
         "y": [
          -4314109.722052129,
          -4005959.027619834
         ],
         "z": [
          -4860974.901414095,
          -4513762.408455946
         ]
        },
        {
         "line": {
          "color": "red",
          "width": 6
         },
         "marker": {
          "size": 1
         },
         "type": "scatter3d",
         "x": [
          -446134.3879921045,
          43147.55455807742
         ],
         "y": [
          -4977493.805319538,
          -5068601.529621415
         ],
         "z": [
          -4901583.369265126,
          -4853598.337569255
         ]
        },
        {
         "line": {
          "color": "blue",
          "width": 6
         },
         "marker": {
          "size": 1
         },
         "type": "scatter3d",
         "x": [
          -446134.3879921045,
          -348217.6302401147
         ],
         "y": [
          -4977493.805319538,
          -4637944.0253570685
         ],
         "z": [
          -4901583.369265126,
          -5255303.958825271
         ]
        },
        {
         "line": {
          "color": "green",
          "width": 6
         },
         "marker": {
          "size": 1
         },
         "type": "scatter3d",
         "x": [
          -446134.3879921045,
          -414267.64599266846
         ],
         "y": [
          -4977493.805319538,
          -4621958.533511
         ],
         "z": [
          -4901583.369265126,
          -4551470.271460474
         ]
        },
        {
         "line": {
          "color": "red",
          "width": 6
         },
         "marker": {
          "size": 1
         },
         "type": "scatter3d",
         "x": [
          1753867.5484147687,
          2227912.028259029
         ],
         "y": [
          -5124808.1602319805,
          -5098205.74755584
         ],
         "z": [
          -4433992.55112559,
          -4277231.131225817
         ]
        },
        {
         "line": {
          "color": "blue",
          "width": 6
         },
         "marker": {
          "size": 1
         },
         "type": "scatter3d",
         "x": [
          1753867.5484147687,
          1851784.3061667585
         ],
         "y": [
          -5124808.1602319805,
          -4785258.380269511
         ],
         "z": [
          -4433992.55112559,
          -4787713.140685734
         ]
        },
        {
         "line": {
          "color": "green",
          "width": 6
         },
         "marker": {
          "size": 1
         },
         "type": "scatter3d",
         "x": [
          1753867.5484147687,
          1628591.2949565707
         ],
         "y": [
          -5124808.1602319805,
          -4758750.434501125
         ],
         "z": [
          -4433992.55112559,
          -4117278.7974737617
         ]
        },
        {
         "line": {
          "color": "red",
          "width": 6
         },
         "marker": {
          "size": 1
         },
         "type": "scatter3d",
         "x": [
          3772027.380203917,
          4181685.1637098715
         ],
         "y": [
          -4740779.140634199,
          -4599224.746071803
         ],
         "z": [
          -3506682.5608713995,
          -3257397.8766385685
         ]
        },
        {
         "line": {
          "color": "blue",
          "width": 6
         },
         "marker": {
          "size": 1
         },
         "type": "scatter3d",
         "x": [
          3772027.380203917,
          3869944.137955907
         ],
         "y": [
          -4740779.140634199,
          -4401229.360671729
         ],
         "z": [
          -3506682.5608713995,
          -3860403.1504315445
         ]
        },
        {
         "line": {
          "color": "green",
          "width": 6
         },
         "marker": {
          "size": 1
         },
         "type": "scatter3d",
         "x": [
          3772027.380203917,
          3502596.8530464945
         ],
         "y": [
          -4740779.140634199,
          -4402152.059160328
         ],
         "z": [
          -3506682.5608713995,
          -3256205.235094871
         ]
        },
        {
         "line": {
          "color": "red",
          "width": 6
         },
         "marker": {
          "size": 1
         },
         "type": "scatter3d",
         "x": [
          5399101.010465525,
          5701898.517690899
         ],
         "y": [
          -3865223.1199011668,
          -3623393.1932496405
         ],
         "z": [
          -2215797.488980346,
          -1899835.53526785
         ]
        },
        {
         "line": {
          "color": "blue",
          "width": 6
         },
         "marker": {
          "size": 1
         },
         "type": "scatter3d",
         "x": [
          5399101.010465525,
          5497017.768217515
         ],
         "y": [
          -3865223.1199011668,
          -3525673.339938697
         ],
         "z": [
          -2215797.488980346,
          -2569518.078540491
         ]
        },
        {
         "line": {
          "color": "green",
          "width": 6
         },
         "marker": {
          "size": 1
         },
         "type": "scatter3d",
         "x": [
          5399101.010465525,
          5013450.938289416
         ],
         "y": [
          -3865223.1199011668,
          -3589135.75419394
         ],
         "z": [
          -2215797.488980346,
          -2057526.2397674639
         ]
        },
        {
         "line": {
          "color": "red",
          "width": 6
         },
         "marker": {
          "size": 1
         },
         "type": "scatter3d",
         "x": [
          6466392.408782569,
          6630935.401298907
         ],
         "y": [
          -2588918.3039839175,
          -2271885.926082011
         ],
         "z": [
          -695177.1219884553,
          -345297.0354221705
         ]
        },
        {
         "line": {
          "color": "blue",
          "width": 6
         },
         "marker": {
          "size": 1
         },
         "type": "scatter3d",
         "x": [
          6466392.408782569,
          6564309.166534559
         ],
         "y": [
          -2588918.3039839175,
          -2249368.5240214476
         ],
         "z": [
          -695177.1219884553,
          -1048897.7115486003
         ]
        },
        {
         "line": {
          "color": "green",
          "width": 6
         },
         "marker": {
          "size": 1
         },
         "type": "scatter3d",
         "x": [
          6466392.408782569,
          6004507.2367266705
         ],
         "y": [
          -2588918.3039839175,
          -2403995.567985066
         ],
         "z": [
          -695177.1219884553,
          -645521.6132749942
         ]
        },
        {
         "line": {
          "color": "red",
          "width": 6
         },
         "marker": {
          "size": 1
         },
         "type": "scatter3d",
         "x": [
          6722559.543134285,
          6821740.002889866
         ],
         "y": [
          -1951165.726339791,
          -1611633.3505418804
         ],
         "z": [
          -12062.229105428793,
          341322.8330968354
         ]
        },
        {
         "line": {
          "color": "blue",
          "width": 6
         },
         "marker": {
          "size": 1
         },
         "type": "scatter3d",
         "x": [
          6722559.543134285,
          6820476.300886275
         ],
         "y": [
          -1951165.726339791,
          -1611615.9463773211
         ],
         "z": [
          -12062.229105428793,
          -365782.8186655736
         ]
        },
        {
         "line": {
          "color": "green",
          "width": 6
         },
         "marker": {
          "size": 1
         },
         "type": "scatter3d",
         "x": [
          6722559.543134285,
          6242376.718624693
         ],
         "y": [
          -1951165.726339791,
          -1811796.7458869487
         ],
         "z": [
          -12062.229105428793,
          -11200.641312183825
         ]
        }
       ],
       "layout": {
        "autosize": true,
        "scene": {
         "aspectmode": "manual",
         "aspectratio": {
          "x": 1,
          "y": 1,
          "z": 1
         },
         "camera": {
          "center": {
           "x": 0,
           "y": 0,
           "z": 0
          },
          "eye": {
           "x": 0.41138958994795427,
           "y": 0.32744492154108,
           "z": 0.3479689610708627
          },
          "projection": {
           "type": "perspective"
          },
          "up": {
           "x": 0,
           "y": 0,
           "z": 1
          }
         },
         "xaxis": {
          "backgroundcolor": "rgb(230, 230,230)",
          "gridcolor": "rgb(255, 255, 255)",
          "showbackground": true,
          "type": "linear",
          "zerolinecolor": "rgb(255, 255, 255)"
         },
         "yaxis": {
          "backgroundcolor": "rgb(230, 230,230)",
          "gridcolor": "rgb(255, 255, 255)",
          "showbackground": true,
          "type": "linear",
          "zerolinecolor": "rgb(255, 255, 255)"
         },
         "zaxis": {
          "backgroundcolor": "rgb(230, 230,230)",
          "gridcolor": "rgb(255, 255, 255)",
          "showbackground": true,
          "type": "linear",
          "zerolinecolor": "rgb(255, 255, 255)"
         }
        },
        "showlegend": false,
        "template": {
         "data": {
          "bar": [
           {
            "error_x": {
             "color": "#2a3f5f"
            },
            "error_y": {
             "color": "#2a3f5f"
            },
            "marker": {
             "line": {
              "color": "#E5ECF6",
              "width": 0.5
             },
             "pattern": {
              "fillmode": "overlay",
              "size": 10,
              "solidity": 0.2
             }
            },
            "type": "bar"
           }
          ],
          "barpolar": [
           {
            "marker": {
             "line": {
              "color": "#E5ECF6",
              "width": 0.5
             },
             "pattern": {
              "fillmode": "overlay",
              "size": 10,
              "solidity": 0.2
             }
            },
            "type": "barpolar"
           }
          ],
          "carpet": [
           {
            "aaxis": {
             "endlinecolor": "#2a3f5f",
             "gridcolor": "white",
             "linecolor": "white",
             "minorgridcolor": "white",
             "startlinecolor": "#2a3f5f"
            },
            "baxis": {
             "endlinecolor": "#2a3f5f",
             "gridcolor": "white",
             "linecolor": "white",
             "minorgridcolor": "white",
             "startlinecolor": "#2a3f5f"
            },
            "type": "carpet"
           }
          ],
          "choropleth": [
           {
            "colorbar": {
             "outlinewidth": 0,
             "ticks": ""
            },
            "type": "choropleth"
           }
          ],
          "contour": [
           {
            "colorbar": {
             "outlinewidth": 0,
             "ticks": ""
            },
            "colorscale": [
             [
              0,
              "#0d0887"
             ],
             [
              0.1111111111111111,
              "#46039f"
             ],
             [
              0.2222222222222222,
              "#7201a8"
             ],
             [
              0.3333333333333333,
              "#9c179e"
             ],
             [
              0.4444444444444444,
              "#bd3786"
             ],
             [
              0.5555555555555556,
              "#d8576b"
             ],
             [
              0.6666666666666666,
              "#ed7953"
             ],
             [
              0.7777777777777778,
              "#fb9f3a"
             ],
             [
              0.8888888888888888,
              "#fdca26"
             ],
             [
              1,
              "#f0f921"
             ]
            ],
            "type": "contour"
           }
          ],
          "contourcarpet": [
           {
            "colorbar": {
             "outlinewidth": 0,
             "ticks": ""
            },
            "type": "contourcarpet"
           }
          ],
          "heatmap": [
           {
            "colorbar": {
             "outlinewidth": 0,
             "ticks": ""
            },
            "colorscale": [
             [
              0,
              "#0d0887"
             ],
             [
              0.1111111111111111,
              "#46039f"
             ],
             [
              0.2222222222222222,
              "#7201a8"
             ],
             [
              0.3333333333333333,
              "#9c179e"
             ],
             [
              0.4444444444444444,
              "#bd3786"
             ],
             [
              0.5555555555555556,
              "#d8576b"
             ],
             [
              0.6666666666666666,
              "#ed7953"
             ],
             [
              0.7777777777777778,
              "#fb9f3a"
             ],
             [
              0.8888888888888888,
              "#fdca26"
             ],
             [
              1,
              "#f0f921"
             ]
            ],
            "type": "heatmap"
           }
          ],
          "heatmapgl": [
           {
            "colorbar": {
             "outlinewidth": 0,
             "ticks": ""
            },
            "colorscale": [
             [
              0,
              "#0d0887"
             ],
             [
              0.1111111111111111,
              "#46039f"
             ],
             [
              0.2222222222222222,
              "#7201a8"
             ],
             [
              0.3333333333333333,
              "#9c179e"
             ],
             [
              0.4444444444444444,
              "#bd3786"
             ],
             [
              0.5555555555555556,
              "#d8576b"
             ],
             [
              0.6666666666666666,
              "#ed7953"
             ],
             [
              0.7777777777777778,
              "#fb9f3a"
             ],
             [
              0.8888888888888888,
              "#fdca26"
             ],
             [
              1,
              "#f0f921"
             ]
            ],
            "type": "heatmapgl"
           }
          ],
          "histogram": [
           {
            "marker": {
             "pattern": {
              "fillmode": "overlay",
              "size": 10,
              "solidity": 0.2
             }
            },
            "type": "histogram"
           }
          ],
          "histogram2d": [
           {
            "colorbar": {
             "outlinewidth": 0,
             "ticks": ""
            },
            "colorscale": [
             [
              0,
              "#0d0887"
             ],
             [
              0.1111111111111111,
              "#46039f"
             ],
             [
              0.2222222222222222,
              "#7201a8"
             ],
             [
              0.3333333333333333,
              "#9c179e"
             ],
             [
              0.4444444444444444,
              "#bd3786"
             ],
             [
              0.5555555555555556,
              "#d8576b"
             ],
             [
              0.6666666666666666,
              "#ed7953"
             ],
             [
              0.7777777777777778,
              "#fb9f3a"
             ],
             [
              0.8888888888888888,
              "#fdca26"
             ],
             [
              1,
              "#f0f921"
             ]
            ],
            "type": "histogram2d"
           }
          ],
          "histogram2dcontour": [
           {
            "colorbar": {
             "outlinewidth": 0,
             "ticks": ""
            },
            "colorscale": [
             [
              0,
              "#0d0887"
             ],
             [
              0.1111111111111111,
              "#46039f"
             ],
             [
              0.2222222222222222,
              "#7201a8"
             ],
             [
              0.3333333333333333,
              "#9c179e"
             ],
             [
              0.4444444444444444,
              "#bd3786"
             ],
             [
              0.5555555555555556,
              "#d8576b"
             ],
             [
              0.6666666666666666,
              "#ed7953"
             ],
             [
              0.7777777777777778,
              "#fb9f3a"
             ],
             [
              0.8888888888888888,
              "#fdca26"
             ],
             [
              1,
              "#f0f921"
             ]
            ],
            "type": "histogram2dcontour"
           }
          ],
          "mesh3d": [
           {
            "colorbar": {
             "outlinewidth": 0,
             "ticks": ""
            },
            "type": "mesh3d"
           }
          ],
          "parcoords": [
           {
            "line": {
             "colorbar": {
              "outlinewidth": 0,
              "ticks": ""
             }
            },
            "type": "parcoords"
           }
          ],
          "pie": [
           {
            "automargin": true,
            "type": "pie"
           }
          ],
          "scatter": [
           {
            "marker": {
             "colorbar": {
              "outlinewidth": 0,
              "ticks": ""
             }
            },
            "type": "scatter"
           }
          ],
          "scatter3d": [
           {
            "line": {
             "colorbar": {
              "outlinewidth": 0,
              "ticks": ""
             }
            },
            "marker": {
             "colorbar": {
              "outlinewidth": 0,
              "ticks": ""
             }
            },
            "type": "scatter3d"
           }
          ],
          "scattercarpet": [
           {
            "marker": {
             "colorbar": {
              "outlinewidth": 0,
              "ticks": ""
             }
            },
            "type": "scattercarpet"
           }
          ],
          "scattergeo": [
           {
            "marker": {
             "colorbar": {
              "outlinewidth": 0,
              "ticks": ""
             }
            },
            "type": "scattergeo"
           }
          ],
          "scattergl": [
           {
            "marker": {
             "colorbar": {
              "outlinewidth": 0,
              "ticks": ""
             }
            },
            "type": "scattergl"
           }
          ],
          "scattermapbox": [
           {
            "marker": {
             "colorbar": {
              "outlinewidth": 0,
              "ticks": ""
             }
            },
            "type": "scattermapbox"
           }
          ],
          "scatterpolar": [
           {
            "marker": {
             "colorbar": {
              "outlinewidth": 0,
              "ticks": ""
             }
            },
            "type": "scatterpolar"
           }
          ],
          "scatterpolargl": [
           {
            "marker": {
             "colorbar": {
              "outlinewidth": 0,
              "ticks": ""
             }
            },
            "type": "scatterpolargl"
           }
          ],
          "scatterternary": [
           {
            "marker": {
             "colorbar": {
              "outlinewidth": 0,
              "ticks": ""
             }
            },
            "type": "scatterternary"
           }
          ],
          "surface": [
           {
            "colorbar": {
             "outlinewidth": 0,
             "ticks": ""
            },
            "colorscale": [
             [
              0,
              "#0d0887"
             ],
             [
              0.1111111111111111,
              "#46039f"
             ],
             [
              0.2222222222222222,
              "#7201a8"
             ],
             [
              0.3333333333333333,
              "#9c179e"
             ],
             [
              0.4444444444444444,
              "#bd3786"
             ],
             [
              0.5555555555555556,
              "#d8576b"
             ],
             [
              0.6666666666666666,
              "#ed7953"
             ],
             [
              0.7777777777777778,
              "#fb9f3a"
             ],
             [
              0.8888888888888888,
              "#fdca26"
             ],
             [
              1,
              "#f0f921"
             ]
            ],
            "type": "surface"
           }
          ],
          "table": [
           {
            "cells": {
             "fill": {
              "color": "#EBF0F8"
             },
             "line": {
              "color": "white"
             }
            },
            "header": {
             "fill": {
              "color": "#C8D4E3"
             },
             "line": {
              "color": "white"
             }
            },
            "type": "table"
           }
          ]
         },
         "layout": {
          "annotationdefaults": {
           "arrowcolor": "#2a3f5f",
           "arrowhead": 0,
           "arrowwidth": 1
          },
          "autotypenumbers": "strict",
          "coloraxis": {
           "colorbar": {
            "outlinewidth": 0,
            "ticks": ""
           }
          },
          "colorscale": {
           "diverging": [
            [
             0,
             "#8e0152"
            ],
            [
             0.1,
             "#c51b7d"
            ],
            [
             0.2,
             "#de77ae"
            ],
            [
             0.3,
             "#f1b6da"
            ],
            [
             0.4,
             "#fde0ef"
            ],
            [
             0.5,
             "#f7f7f7"
            ],
            [
             0.6,
             "#e6f5d0"
            ],
            [
             0.7,
             "#b8e186"
            ],
            [
             0.8,
             "#7fbc41"
            ],
            [
             0.9,
             "#4d9221"
            ],
            [
             1,
             "#276419"
            ]
           ],
           "sequential": [
            [
             0,
             "#0d0887"
            ],
            [
             0.1111111111111111,
             "#46039f"
            ],
            [
             0.2222222222222222,
             "#7201a8"
            ],
            [
             0.3333333333333333,
             "#9c179e"
            ],
            [
             0.4444444444444444,
             "#bd3786"
            ],
            [
             0.5555555555555556,
             "#d8576b"
            ],
            [
             0.6666666666666666,
             "#ed7953"
            ],
            [
             0.7777777777777778,
             "#fb9f3a"
            ],
            [
             0.8888888888888888,
             "#fdca26"
            ],
            [
             1,
             "#f0f921"
            ]
           ],
           "sequentialminus": [
            [
             0,
             "#0d0887"
            ],
            [
             0.1111111111111111,
             "#46039f"
            ],
            [
             0.2222222222222222,
             "#7201a8"
            ],
            [
             0.3333333333333333,
             "#9c179e"
            ],
            [
             0.4444444444444444,
             "#bd3786"
            ],
            [
             0.5555555555555556,
             "#d8576b"
            ],
            [
             0.6666666666666666,
             "#ed7953"
            ],
            [
             0.7777777777777778,
             "#fb9f3a"
            ],
            [
             0.8888888888888888,
             "#fdca26"
            ],
            [
             1,
             "#f0f921"
            ]
           ]
          },
          "colorway": [
           "#636efa",
           "#EF553B",
           "#00cc96",
           "#ab63fa",
           "#FFA15A",
           "#19d3f3",
           "#FF6692",
           "#B6E880",
           "#FF97FF",
           "#FECB52"
          ],
          "font": {
           "color": "#2a3f5f"
          },
          "geo": {
           "bgcolor": "white",
           "lakecolor": "white",
           "landcolor": "#E5ECF6",
           "showlakes": true,
           "showland": true,
           "subunitcolor": "white"
          },
          "hoverlabel": {
           "align": "left"
          },
          "hovermode": "closest",
          "mapbox": {
           "style": "light"
          },
          "paper_bgcolor": "white",
          "plot_bgcolor": "#E5ECF6",
          "polar": {
           "angularaxis": {
            "gridcolor": "white",
            "linecolor": "white",
            "ticks": ""
           },
           "bgcolor": "#E5ECF6",
           "radialaxis": {
            "gridcolor": "white",
            "linecolor": "white",
            "ticks": ""
           }
          },
          "scene": {
           "xaxis": {
            "backgroundcolor": "#E5ECF6",
            "gridcolor": "white",
            "gridwidth": 2,
            "linecolor": "white",
            "showbackground": true,
            "ticks": "",
            "zerolinecolor": "white"
           },
           "yaxis": {
            "backgroundcolor": "#E5ECF6",
            "gridcolor": "white",
            "gridwidth": 2,
            "linecolor": "white",
            "showbackground": true,
            "ticks": "",
            "zerolinecolor": "white"
           },
           "zaxis": {
            "backgroundcolor": "#E5ECF6",
            "gridcolor": "white",
            "gridwidth": 2,
            "linecolor": "white",
            "showbackground": true,
            "ticks": "",
            "zerolinecolor": "white"
           }
          },
          "shapedefaults": {
           "line": {
            "color": "#2a3f5f"
           }
          },
          "ternary": {
           "aaxis": {
            "gridcolor": "white",
            "linecolor": "white",
            "ticks": ""
           },
           "baxis": {
            "gridcolor": "white",
            "linecolor": "white",
            "ticks": ""
           },
           "bgcolor": "#E5ECF6",
           "caxis": {
            "gridcolor": "white",
            "linecolor": "white",
            "ticks": ""
           }
          },
          "title": {
           "x": 0.05
          },
          "xaxis": {
           "automargin": true,
           "gridcolor": "white",
           "linecolor": "white",
           "ticks": "",
           "title": {
            "standoff": 15
           },
           "zerolinecolor": "white",
           "zerolinewidth": 2
          },
          "yaxis": {
           "automargin": true,
           "gridcolor": "white",
           "linecolor": "white",
           "ticks": "",
           "title": {
            "standoff": 15
           },
           "zerolinecolor": "white",
           "zerolinewidth": 2
          }
         }
        }
       }
      },
      "image/png": "[encoded data removed]",
      "text/html": [
       "<div>                            <div id=\"5f175691-205b-4bb7-9dbd-6dfcdec8323c\" class=\"plotly-graph-div\" style=\"height:525px; width:100%;\"></div>            <script type=\"text/javascript\">                require([\"plotly\"], function(Plotly) {                    window.PLOTLYENV=window.PLOTLYENV || {};                                    if (document.getElementById(\"5f175691-205b-4bb7-9dbd-6dfcdec8323c\")) {                    Plotly.newPlot(                        \"5f175691-205b-4bb7-9dbd-6dfcdec8323c\",                        [{\"colorscale\":[[0.0,\"#440154\"],[0.1111111111111111,\"#482878\"],[0.2222222222222222,\"#3e4989\"],[0.3333333333333333,\"#31688e\"],[0.4444444444444444,\"#26828e\"],[0.5555555555555556,\"#1f9e89\"],[0.6666666666666666,\"#35b779\"],[0.7777777777777778,\"#6ece58\"],[0.8888888888888888,\"#b5de2b\"],[1.0,\"#fde725\"]],\"showscale\":false,\"x\":[[0.0,0.0,0.0,0.0,0.0,0.0,0.0,0.0,-0.0,-0.0,-0.0,-0.0,-0.0,-0.0,-0.0,-0.0,-0.0,-0.0,-0.0,-0.0,-0.0,-0.0,0.0,0.0,0.0,0.0,0.0,0.0,0.0,0.0],[689597.9118134247,673475.4958517421,625862.1142182845,548984.1157197595,446436.23012219946,323013.48258235765,184486.98360066558,37334.07830836187,-111564.52699179323,-255246.49900487802,-386993.4284106027,-500644.97521615104,-590886.9194075173,-653499.6479710304,-685555.4593081103,-685555.4593081103,-653499.6479710304,-590886.9194075172,-500644.97521615104,-386993.42841060285,-255246.49900487802,-111564.52699179326,37334.07830836185,184486.98360066573,323013.48258235777,446436.23012219963,548984.1157197595,625862.1142182844,673475.4958517421,689597.9118134247],[1371110.9186162204,1339055.1072791407,1244386.5673785477,1091531.8946236684,887638.403626754,642239.9274154807,366811.02599667106,74230.44868343152,-221821.06190902746,-507500.4661830234,-769449.7127045569,-995420.3458419588,-1174846.229938044,-1299337.6100700267,-1363073.4076651668,-1363073.4076651668,-1299337.6100700267,-1174846.2299380437,-995420.3458419588,-769449.7127045572,-507500.4661830234,-221821.0619090275,74230.44868343147,366811.02599667135,642239.927415481,887638.4036267542,1091531.8946236686,1244386.5673785475,1339055.1072791407,1371110.9186162204],[2036548.903516909,1988935.5218834514,1848321.7257897863,1621282.4600602435,1318433.8284243166,953936.6963052228,544834.544491385,110256.5349172344,-329476.94768830936,-753804.4544072741,-1142884.9026316316,-1478525.3230342711,-1745031.542594699,-1929942.0266866582,-2024610.5665872511,-2024610.5665872511,-1929942.0266866582,-1745031.5425946985,-1478525.3230342711,-1142884.902631632,-753804.4544072741,-329476.9476883095,110256.53491723434,544834.5444913855,953936.696305223,1318433.828424317,1621282.4600602437,1848321.7257897859,1988935.5218834514,2036548.903516909],[2678110.2145582815,2615497.4859947683,2430587.001902809,2132024.9710053015,1733771.8220391492,1254449.429623425,716470.3760989119,144989.96408764392,-433270.0174995919,-991270.7746135847,-1502920.812024982,-1944295.942642601,-2294757.9559119856,-2537919.6376032108,-2662411.0177351935,-2662411.0177351935,-2537919.6376032108,-2294757.955911985,-1944295.942642601,-1502920.8120249824,-991270.7746135847,-433270.017499592,144989.96408764386,716470.3760989124,1254449.4296234255,1733771.82203915,2132024.971005302,2430587.0019028084,2615497.4859947683,2678110.2145582815],[3288273.131953478,3211395.133454953,2984355.86772541,2617771.4384943433,2128782.9262432666,1540254.890333344,879706.247621791,178023.51849471417,-531983.3924982465,-1217115.3513150634,-1845336.349030942,-2387271.470010179,-2817580.4303134116,-3116142.461210919,-3268997.1339657987,-3268997.1339657987,-3116142.461210919,-2817580.430313411,-2387271.470010179,-1845336.3490309427,-1217115.3513150634,-531983.3924982466,178023.51849471408,879706.2476217917,1540254.8903333445,2128782.9262432675,2617771.438494344,2984355.8677254096,3211395.133454953,3288273.131953478],[3859884.0533733163,3769642.10918195,3503135.8896215223,3072826.92931829,2498835.9970019734,1808002.2707225806,1032628.3677143973,208969.90991588915,-624459.7486169134,-1428690.363341551,-2166117.004551628,-2802258.4220950087,-3307369.350307768,-3657831.3635771526,-3837257.247673238,-3837257.247673238,-3657831.3635771526,-3307369.3503077673,-2802258.4220950087,-2166117.004551629,-1428690.363341551,-624459.7486169136,208969.90991588903,1032628.3677143982,1808002.2707225813,2498835.997001974,3072826.9293182907,3503135.889621522,3769642.10918195,3859884.0533733163],[4386241.363392997,4283693.477795437,3980844.84615951,3491856.3339084336,2839592.5004033707,2054552.4775598354,1173443.8643366725,237466.32020631095,-709614.8851320399,-1623515.2871219153,-2461501.9186936105,-3184391.4563100827,-3758382.3886264,-4156635.5375925526,-4360529.0285894675,-4360529.0285894675,-4156635.5375925526,-3758382.3886263995,-3184391.4563100827,-2461501.9186936114,-1623515.2871219153,-709614.88513204,237466.32020631083,1173443.8643366734,2054552.4775598359,2839592.500403372,3491856.333908434,3980844.8461595094,4283693.477795437,4386241.363392997],[4861174.003805618,4747522.457000069,4411882.03659743,3869946.9156181933,3147057.3780017216,2277014.935092945,1300501.8045395568,263178.65500984085,-786450.43592607,-1799305.9785549575,-2728027.973411577,-3529190.4122167947,-4165331.829760175,-4606706.960377795,-4832677.593515196,-4832677.593515196,-4606706.960377795,-4165331.8297601747,-3529190.4122167947,-2728027.9734115778,-1799305.9785549575,-786450.4359260702,263178.65500984073,1300501.8045395578,2277014.935092946,3147057.3780017225,3869946.915618194,4411882.03659743,4747522.457000069,4861174.003805618],[5279113.823637395,5155691.076097554,4791193.94397846,4202665.908068538,3417625.885225002,2472781.4744066996,1412312.550144354,285805.46070991934,-854065.5744173578,-1954001.452510588,-2962570.394401055,-3832612.837309831,-4523446.563589224,-5002768.956004947,-5248167.432216221,-5248167.432216221,-5002768.956004947,-4523446.563589223,-3832612.837309831,-2962570.394401056,-1954001.452510588,-854065.5744173579,285805.4607099192,1412312.5501443553,2472781.4744067,3417625.8852250036,4202665.908068539,4791193.94397846,5155691.076097554,5279113.823637395],[5635160.860626823,5503413.931221099,5114333.48299674,4486112.485280862,3648125.853709166,2639556.911818698,1507565.2223883877,305081.4586975988,-911667.5749282035,-2085788.0459960971,-3162379.3862201236,-4091101.381076744,-4828528.022286822,-5340178.059698219,-5602127.306219754,-5602127.306219754,-5340178.059698219,-4828528.022286821,-4091101.381076744,-3162379.386220125,-2085788.0459960971,-911667.5749282037,305081.45869759866,1507565.222388389,2639556.9118186985,3648125.8537091673,4486112.485280863,5114333.48299674,5503413.931221099,5635160.860626823],[5925140.788802111,5786614.289820419,5377512.138006581,4716963.495295028,3835854.8820718667,2775385.9578095214,1585143.070779945,320780.65552068665,-958581.1066686288,-2193120.6816964988,-3325112.3711268073,-4301625.501680195,-5076999.404688379,-5614978.458212892,-5890407.359631701,-5890407.359631701,-5614978.458212892,-5076999.404688378,-4301625.501680195,-3325112.3711268087,-2193120.6816964988,-958581.106668629,320780.6555206865,1585143.0707799464,2775385.9578095223,3835854.8820718676,4716963.495295029,5377512.13800658,5786614.289820419,5925140.788802111],[6145653.8586365795,6001971.886623494,5577644.37990453,4892512.421087714,3978612.019097839,2878676.141004609,1644136.5659767387,332718.9924503447,-994256.1513724284,-2274740.982593371,-3448861.453661263,-4461716.99629015,-5265947.611014788,-5823948.368128781,-6109627.772402777,-6109627.772402777,-5823948.368128781,-5265947.611014787,-4461716.99629015,-3448861.4536612644,-2274740.982593371,-994256.1513724286,332718.9924503446,1644136.5659767399,2878676.14100461,3978612.0190978404,4892512.421087715,5577644.379904529,6001971.886623494,6145653.8586365795],[6294114.756003442,6146961.850711138,5712383.841136987,5010701.11200991,4074723.5678795483,2948216.4784451122,1683854.0631858525,340756.50340139837,-1018274.4517584544,-2329692.0252848496,-3532175.7889756383,-4569498.938505355,-5393157.396303864,-5964637.808315133,-6257218.385628372,-6257218.385628372,-5964637.808315133,-5393157.396303863,-4569498.938505355,-3532175.7889756397,-2329692.0252848496,-1018274.4517584547,340756.5034013982,1683854.063185854,2948216.478445113,4074723.5678795497,5010701.112009911,5712383.841136986,6146961.850711138,6294114.756003442],[6368782.912620165,6219884.30732001,5780150.824714467,5070143.9137215065,4123062.7083831565,2983191.6732558794,1703829.911066564,344798.9559067128,-1030354.4152148225,-2357329.5590375955,-3574078.592663396,-4623707.683599306,-5457137.342132109,-6035397.323719345,-6331448.834311804,-6331448.834311804,-6035397.323719345,-5457137.342132108,-4623707.683599306,-3574078.5926633975,-2357329.5590375955,-1030354.4152148227,344798.9559067126,1703829.9110665654,2983191.6732558804,4123062.708383158,5070143.913721507,5780150.824714466,6219884.30732001,6368782.912620165],[6368782.912620165,6219884.30732001,5780150.824714467,5070143.9137215065,4123062.7083831565,2983191.6732558794,1703829.911066564,344798.9559067128,-1030354.4152148225,-2357329.5590375955,-3574078.592663396,-4623707.683599306,-5457137.342132109,-6035397.323719345,-6331448.834311804,-6331448.834311804,-6035397.323719345,-5457137.342132108,-4623707.683599306,-3574078.5926633975,-2357329.5590375955,-1030354.4152148227,344798.9559067126,1703829.9110665654,2983191.6732558804,4123062.708383158,5070143.913721507,5780150.824714466,6219884.30732001,6368782.912620165],[6294114.756003442,6146961.850711138,5712383.841136987,5010701.11200991,4074723.5678795483,2948216.4784451122,1683854.0631858525,340756.50340139837,-1018274.4517584544,-2329692.0252848496,-3532175.7889756383,-4569498.938505355,-5393157.396303864,-5964637.808315133,-6257218.385628372,-6257218.385628372,-5964637.808315133,-5393157.396303863,-4569498.938505355,-3532175.7889756397,-2329692.0252848496,-1018274.4517584547,340756.5034013982,1683854.063185854,2948216.478445113,4074723.5678795497,5010701.112009911,5712383.841136986,6146961.850711138,6294114.756003442],[6145653.858636579,6001971.886623494,5577644.37990453,4892512.421087713,3978612.0190978386,2878676.1410046085,1644136.5659767385,332718.9924503447,-994256.1513724283,-2274740.9825933706,-3448861.4536612625,-4461716.99629015,-5265947.611014788,-5823948.36812878,-6109627.772402776,-6109627.772402776,-5823948.36812878,-5265947.611014787,-4461716.99629015,-3448861.453661264,-2274740.9825933706,-994256.1513724285,332718.99245034455,1644136.5659767396,2878676.1410046094,3978612.01909784,4892512.421087714,5577644.379904529,6001971.886623494,6145653.858636579],[5925140.788802111,5786614.289820419,5377512.138006581,4716963.495295028,3835854.8820718667,2775385.9578095214,1585143.070779945,320780.65552068665,-958581.1066686288,-2193120.6816964988,-3325112.3711268073,-4301625.501680195,-5076999.404688379,-5614978.458212892,-5890407.359631701,-5890407.359631701,-5614978.458212892,-5076999.404688378,-4301625.501680195,-3325112.3711268087,-2193120.6816964988,-958581.106668629,320780.6555206865,1585143.0707799464,2775385.9578095223,3835854.8820718676,4716963.495295029,5377512.13800658,5786614.289820419,5925140.788802111],[5635160.860626823,5503413.931221099,5114333.48299674,4486112.485280862,3648125.853709166,2639556.911818698,1507565.2223883877,305081.4586975988,-911667.5749282035,-2085788.0459960971,-3162379.3862201236,-4091101.381076744,-4828528.022286822,-5340178.059698219,-5602127.306219754,-5602127.306219754,-5340178.059698219,-4828528.022286821,-4091101.381076744,-3162379.386220125,-2085788.0459960971,-911667.5749282037,305081.45869759866,1507565.222388389,2639556.9118186985,3648125.8537091673,4486112.485280863,5114333.48299674,5503413.931221099,5635160.860626823],[5279113.823637395,5155691.076097554,4791193.94397846,4202665.908068538,3417625.885225002,2472781.4744066996,1412312.550144354,285805.46070991934,-854065.5744173578,-1954001.452510588,-2962570.394401055,-3832612.837309831,-4523446.563589224,-5002768.956004947,-5248167.432216221,-5248167.432216221,-5002768.956004947,-4523446.563589223,-3832612.837309831,-2962570.394401056,-1954001.452510588,-854065.5744173579,285805.4607099192,1412312.5501443553,2472781.4744067,3417625.8852250036,4202665.908068539,4791193.94397846,5155691.076097554,5279113.823637395],[4861174.003805618,4747522.457000069,4411882.03659743,3869946.9156181933,3147057.3780017216,2277014.935092945,1300501.8045395568,263178.65500984085,-786450.43592607,-1799305.9785549575,-2728027.973411577,-3529190.4122167947,-4165331.829760175,-4606706.960377795,-4832677.593515196,-4832677.593515196,-4606706.960377795,-4165331.8297601747,-3529190.4122167947,-2728027.9734115778,-1799305.9785549575,-786450.4359260702,263178.65500984073,1300501.8045395578,2277014.935092946,3147057.3780017225,3869946.915618194,4411882.03659743,4747522.457000069,4861174.003805618],[4386241.363392997,4283693.477795437,3980844.84615951,3491856.3339084336,2839592.5004033707,2054552.4775598354,1173443.8643366725,237466.32020631095,-709614.8851320399,-1623515.2871219153,-2461501.9186936105,-3184391.4563100827,-3758382.3886264,-4156635.5375925526,-4360529.0285894675,-4360529.0285894675,-4156635.5375925526,-3758382.3886263995,-3184391.4563100827,-2461501.9186936114,-1623515.2871219153,-709614.88513204,237466.32020631083,1173443.8643366734,2054552.4775598359,2839592.500403372,3491856.333908434,3980844.8461595094,4283693.477795437,4386241.363392997],[3859884.0533733154,3769642.1091819494,3503135.889621522,3072826.9293182897,2498835.997001973,1808002.2707225804,1032628.3677143971,208969.9099158891,-624459.7486169133,-1428690.3633415508,-2166117.004551628,-2802258.422095008,-3307369.3503077673,-3657831.363577152,-3837257.247673237,-3837257.247673237,-3657831.363577152,-3307369.350307767,-2802258.422095008,-2166117.0045516286,-1428690.3633415508,-624459.7486169134,208969.909915889,1032628.367714398,1808002.2707225808,2498835.9970019734,3072826.92931829,3503135.889621521,3769642.1091819494,3859884.0533733154],[3288273.1319534774,3211395.133454952,2984355.8677254096,2617771.4384943424,2128782.9262432666,1540254.8903333435,879706.2476217907,178023.51849471414,-531983.3924982464,-1217115.3513150632,-1845336.3490309415,-2387271.4700101786,-2817580.430313411,-3116142.4612109186,-3268997.1339657977,-3268997.1339657977,-3116142.4612109186,-2817580.4303134107,-2387271.4700101786,-1845336.3490309422,-1217115.3513150632,-531983.3924982465,178023.51849471405,879706.2476217916,1540254.890333344,2128782.926243267,2617771.438494343,2984355.867725409,3211395.133454952,3288273.1319534774],[2678110.2145582805,2615497.485994767,2430587.001902808,2132024.971005301,1733771.8220391485,1254449.4296234245,716470.3760989116,144989.96408764386,-433270.01749959175,-991270.7746135844,-1502920.8120249812,-1944295.9426426,-2294757.9559119847,-2537919.63760321,-2662411.0177351926,-2662411.0177351926,-2537919.63760321,-2294757.955911984,-1944295.9426426,-1502920.812024982,-991270.7746135844,-433270.0174995918,144989.9640876438,716470.3760989122,1254449.429623425,1733771.8220391492,2132024.971005301,2430587.0019028075,2615497.485994767,2678110.2145582805],[2036548.9035169077,1988935.52188345,1848321.725789785,1621282.4600602423,1318433.8284243157,953936.6963052221,544834.5444913846,110256.53491723433,-329476.9476883092,-753804.4544072736,-1142884.902631631,-1478525.32303427,-1745031.5425946976,-1929942.0266866568,-2024610.5665872497,-2024610.5665872497,-1929942.0266866568,-1745031.5425946973,-1478525.32303427,-1142884.9026316314,-753804.4544072736,-329476.94768830924,110256.53491723427,544834.544491385,953936.6963052225,1318433.8284243161,1621282.4600602428,1848321.7257897847,1988935.52188345,2036548.9035169077],[1371110.9186162218,1339055.107279142,1244386.567378549,1091531.8946236693,887638.4036267546,642239.9274154813,366811.0259966714,74230.44868343159,-221821.06190902766,-507500.4661830238,-769449.7127045576,-995420.3458419596,-1174846.229938045,-1299337.6100700279,-1363073.4076651682,-1363073.4076651682,-1299337.6100700279,-1174846.2299380447,-995420.3458419596,-769449.7127045579,-507500.4661830238,-221821.06190902772,74230.44868343155,366811.0259966717,642239.9274154815,887638.403626755,1091531.8946236696,1244386.5673785487,1339055.107279142,1371110.9186162218],[689597.9118134256,673475.4958517432,625862.1142182854,548984.1157197602,446436.2301222001,323013.4825823581,184486.98360066584,37334.078308361924,-111564.52699179339,-255246.49900487837,-386993.42841060326,-500644.97521615174,-590886.9194075181,-653499.6479710314,-685555.4593081112,-685555.4593081112,-653499.6479710314,-590886.919407518,-500644.97521615174,-386993.4284106034,-255246.49900487837,-111564.5269917934,37334.0783083619,184486.983600666,323013.48258235824,446436.2301222003,548984.1157197603,625862.1142182853,673475.4958517432,689597.9118134256],[7.810965061573302e-10,7.62834903906579e-10,7.089039893792572e-10,6.218255121987563e-10,5.0567116517726e-10,3.658721964852091e-10,2.089654505232498e-10,4.228771234324078e-11,-1.2636735226652178e-10,-2.8911361993152634e-10,-4.383412560552421e-10,-5.670725422271298e-10,-6.692881465803399e-10,-7.402085810598013e-10,-7.76517684971656e-10,-7.76517684971656e-10,-7.402085810598013e-10,-6.692881465803398e-10,-5.670725422271298e-10,-4.383412560552423e-10,-2.8911361993152634e-10,-1.263673522665218e-10,4.228771234324076e-11,2.0896545052324995e-10,3.658721964852092e-10,5.056711651772601e-10,6.218255121987564e-10,7.089039893792571e-10,7.62834903906579e-10,7.810965061573302e-10]],\"y\":[[0.0,0.0,0.0,0.0,0.0,0.0,0.0,0.0,0.0,0.0,0.0,0.0,0.0,0.0,0.0,-0.0,-0.0,-0.0,-0.0,-0.0,-0.0,-0.0,-0.0,-0.0,-0.0,-0.0,-0.0,-0.0,-0.0,-0.0],[0.0,148243.16667113485,289554.6476291735,417326.87508094864,525585.3616794464,609268.0609119871,664462.0627690972,688586.5570676652,680513.50926674,640620.4061089442,570772.6047599372,474236.11078054283,355524.86333663075,220189.66842060295,74558.64933246754,-74558.64933246738,-220189.66842060306,-355524.86333663086,-474236.11078054295,-570772.6047599372,-640620.4061089442,-680513.50926674,-688586.5570676652,-664462.062769097,-609268.060911987,-525585.3616794463,-417326.87508094835,-289554.6476291737,-148243.16667113508,-1.6890277508020184e-10],[0.0,294748.3177530705,575714.5317572339,829760.9741171737,1045008.7155404801,1211393.0108688814,1321133.9153756842,1369100.066334405,1353048.6198367623,1273730.123681084,1134853.4225914334,942912.2367603949,706881.5227101219,437797.81430030806,148243.16667113506,-148243.16667113476,-437797.81430030824,-706881.5227101222,-942912.2367603951,-1134853.4225914334,-1273730.123681084,-1353048.6198367623,-1369100.066334405,-1321133.915375684,-1211393.0108688814,-1045008.7155404799,-829760.9741171732,-575714.5317572342,-294748.31775307097,-3.358253195518683e-10],[0.0,437797.8143003083,855124.6893812569,1232466.8843895686,1552180.297672382,1799315.4853605307,1962316.6807487495,2033562.1291035023,2009720.4724433494,1891906.5201356215,1685629.1216494243,1400533.578877111,1049950.6425377766,650273.1810897009,220189.66842060338,-220189.66842060295,-650273.1810897012,-1049950.642537777,-1400533.5788771112,-1685629.1216494243,-1891906.5201356215,-2009720.4724433494,-2033562.1291035023,-1962316.6807487493,-1799315.4853605304,-1552180.2976723819,-1232466.884389568,-855124.6893812576,-437797.814300309,-4.988106191998069e-10],[0.0,575714.5317572338,1124509.2918702443,1620723.2472977142,2041153.9849860552,2366142.6309161643,2580493.077203287,2674182.5352124465,2642830.1900154892,2487902.042428196,2216642.360441479,1841734.9453015553,1380710.0510607031,855124.6893812564,289554.6476291739,-289554.64762917324,-855124.6893812568,-1380710.0510607036,-1841734.9453015558,-2216642.360441479,-2487902.042428196,-2642830.1900154892,-2674182.5352124465,-2580493.0772032863,-2366142.630916164,-2041153.9849860547,-1620723.2472977133,-1124509.291870245,-575714.5317572347,-6.559478204045261e-10],[0.0,706881.5227101219,1380710.0510607034,1989978.1119726906,2506197.0080706524,2905228.917509144,3168415.5516949357,3283450.5961244334,3244955.1399723836,3054729.187983829,2721667.494252795,2261343.653406658,1695281.896630181,1049950.6425377761,355524.8633366313,-355524.8633366305,-1049950.6425377766,-1695281.8966301817,-2261343.6534066587,-2721667.494252795,-3054729.187983829,-3244955.1399723836,-3283450.5961244334,-3168415.551694935,-2905228.9175091437,-2506197.008070652,-1989978.1119726892,-1380710.0510607043,-706881.522710123,-8.053946331538137e-10],[0.0,829760.9741171737,1620723.2472977142,2335902.302739126,2941857.1626733984,3410254.0513204606,3719191.2507529273,3854223.200884371,3809035.9578038803,3585742.4267758843,3194783.5651383176,2654440.1747417874,1989978.11197269,1232466.8843895677,417326.87508094916,-417326.87508094835,-1232466.8843895684,-1989978.111972691,-2654440.1747417883,-3194783.5651383176,-3585742.4267758843,-3809035.9578038803,-3854223.200884371,-3719191.2507529263,-3410254.0513204597,-2941857.162673398,-2335902.3027391247,-1620723.2472977154,-829760.974117175,-9.453989302087087e-10],[0.0,942912.2367603949,1841734.9453015556,2654440.174741788,3343026.7318094526,3875297.0744050574,4226362.832884829,4379808.562563817,4328459.311664914,4074716.1140895574,3630443.719741063,3016415.8120058654,2261343.6534066577,1400533.57887711,474236.11078054353,-474236.11078054254,-1400533.5788771107,-2261343.6534066587,-3016415.8120058663,-3630443.719741063,-4074716.1140895574,-4328459.311664914,-4379808.562563817,-4226362.832884828,-3875297.074405057,-3343026.7318094517,-2654440.174741786,-1841734.945301557,-942912.2367603963,-1.0743192891933912e-09],[0.0,1045008.71554048,2041153.9849860552,2941857.1626733984,3705002.3690735307,4294905.7825101605,4683984.175001545,4854044.67334436,4797135.437644766,4515917.480514002,4023540.241076192,3343026.731809452,2506197.008070652,1552180.297672381,525585.3616794471,-525585.361679446,-1552180.2976723816,-2506197.0080706533,-3343026.731809453,-4023540.241076192,-4515917.480514002,-4797135.437644766,-4854044.67334436,-4683984.175001544,-4294905.78251016,-3705002.3690735297,-2941857.1626733965,-2041153.9849860566,-1045008.7155404816,-1.1906442367717746e-09],[0.0,1134853.4225914334,2216642.3604414794,3194783.565138318,4023540.2410761924,4664160.647185137,5086690.085273939,5271371.548425308,5209569.536680991,4904173.843422147,4369464.431842628,3630443.719741063,2721667.4942527944,1685629.1216494234,570772.604759938,-570772.6047599368,-1685629.121649424,-2721667.494252796,-3630443.719741064,-4369464.431842628,-4904173.843422147,-5209569.536680991,-5271371.548425308,-5086690.085273938,-4664160.647185136,-4023540.2410761914,-3194783.5651383162,-2216642.3604414808,-1134853.422591435,-1.2930099692904163e-09],[0.0,1211393.0108688814,2366142.6309161643,3410254.0513204606,4294905.7825101605,4978732.492754615,5429759.205101594,5626896.411761939,5560926.196054482,5234933.251945074,4664160.647185137,3875297.0744050574,2905228.9175091437,1799315.4853605295,609268.0609119879,-609268.0609119866,-1799315.4853605302,-2905228.917509145,-3875297.0744050583,-4664160.647185137,-5234933.251945074,-5560926.196054482,-5626896.411761939,-5429759.205101593,-4978732.492754614,-4294905.78251016,-3410254.0513204588,-2366142.630916166,-1211393.0108688832,-1.3802163421294167e-09],[0.0,1273730.123681084,2487902.042428196,3585742.4267758843,4515917.480514001,5234933.251945074,5709169.362725616,5916451.059391112,5847086.080182542,5504317.854434061,4904173.8434221465,4074716.114089557,3054729.1879838286,1891906.5201356201,640620.4061089451,-640620.4061089439,-1891906.520135621,-3054729.18798383,-4074716.114089558,-4904173.8434221465,-5504317.854434061,-5847086.080182542,-5916451.059391112,-5709169.3627256155,-5234933.251945073,-4515917.480514001,-3585742.4267758825,-2487902.0424281973,-1273730.1236810859,-1.4512409403007857e-09],[0.0,1321133.9153756842,2580493.077203287,3719191.2507529273,4683984.175001545,5429759.205101594,5921644.7295150105,6136640.727811716,6064694.2260622475,5709169.362725616,5086690.085273939,4226362.832884829,3168415.551694935,1962316.6807487484,664462.0627690981,-664462.0627690967,-1962316.680748749,-3168415.5516949366,-4226362.8328848295,-5086690.085273939,-5709169.362725616,-6064694.2260622475,-6136640.727811716,-5921644.72951501,-5429759.205101593,-4683984.175001544,-3719191.250752925,-2580493.0772032887,-1321133.9153756863,-1.5052510653293734e-09],[0.0,1353048.619836762,2642830.1900154892,3809035.9578038803,4797135.437644766,5560926.196054482,6064694.2260622475,6284883.89448285,6211199.377144183,5847086.080182542,5209569.53668099,4328459.311664913,3244955.139972383,2009720.472443348,680513.5092667408,-680513.5092667394,-2009720.472443349,-3244955.1399723846,-4328459.311664914,-5209569.53668099,-5847086.080182542,-6211199.377144183,-6284883.89448285,-6064694.226062247,-5560926.196054481,-4797135.437644765,-3809035.957803878,-2642830.190015491,-1353048.6198367642,-1.5416134978811478e-09],[0.0,1369100.066334405,2674182.5352124465,3854223.200884371,4854044.67334436,5626896.411761939,6136640.727811716,6359442.543815318,6284883.89448285,5916451.059391112,5271371.5484253075,4379808.562563817,3283450.5961244325,2033562.1291035009,688586.5570676661,-688586.5570676647,-2033562.1291035018,-3283450.596124434,-4379808.562563818,-5271371.5484253075,-5916451.059391112,-6284883.89448285,-6359442.543815318,-6136640.727811715,-5626896.411761938,-4854044.673344359,-3854223.2008843687,-2674182.5352124483,-1369100.066334407,-1.5599019216809284e-09],[0.0,1369100.066334405,2674182.5352124465,3854223.200884371,4854044.67334436,5626896.411761939,6136640.727811716,6359442.543815318,6284883.89448285,5916451.059391112,5271371.5484253075,4379808.562563817,3283450.5961244325,2033562.1291035009,688586.5570676661,-688586.5570676647,-2033562.1291035018,-3283450.596124434,-4379808.562563818,-5271371.5484253075,-5916451.059391112,-6284883.89448285,-6359442.543815318,-6136640.727811715,-5626896.411761938,-4854044.673344359,-3854223.2008843687,-2674182.5352124483,-1369100.066334407,-1.5599019216809284e-09],[0.0,1353048.619836762,2642830.1900154892,3809035.9578038803,4797135.437644766,5560926.196054482,6064694.2260622475,6284883.89448285,6211199.377144183,5847086.080182542,5209569.53668099,4328459.311664913,3244955.139972383,2009720.472443348,680513.5092667408,-680513.5092667394,-2009720.472443349,-3244955.1399723846,-4328459.311664914,-5209569.53668099,-5847086.080182542,-6211199.377144183,-6284883.89448285,-6064694.226062247,-5560926.196054481,-4797135.437644765,-3809035.957803878,-2642830.190015491,-1353048.6198367642,-1.5416134978811478e-09],[0.0,1321133.915375684,2580493.0772032863,3719191.250752927,4683984.175001544,5429759.205101593,5921644.72951501,6136640.727811715,6064694.2260622475,5709169.362725616,5086690.085273938,4226362.832884828,3168415.5516949347,1962316.6807487481,664462.062769098,-664462.0627690966,-1962316.6807487488,-3168415.551694936,-4226362.832884829,-5086690.085273938,-5709169.362725616,-6064694.2260622475,-6136640.727811715,-5921644.729515009,-5429759.2051015925,-4683984.175001543,-3719191.2507529245,-2580493.077203288,-1321133.915375686,-1.5052510653293732e-09],[0.0,1273730.123681084,2487902.042428196,3585742.4267758843,4515917.480514001,5234933.251945074,5709169.362725616,5916451.059391112,5847086.080182542,5504317.854434061,4904173.8434221465,4074716.114089557,3054729.1879838286,1891906.5201356201,640620.4061089451,-640620.4061089439,-1891906.520135621,-3054729.18798383,-4074716.114089558,-4904173.8434221465,-5504317.854434061,-5847086.080182542,-5916451.059391112,-5709169.3627256155,-5234933.251945073,-4515917.480514001,-3585742.4267758825,-2487902.0424281973,-1273730.1236810859,-1.4512409403007857e-09],[0.0,1211393.0108688814,2366142.6309161643,3410254.0513204606,4294905.7825101605,4978732.492754615,5429759.205101594,5626896.411761939,5560926.196054482,5234933.251945074,4664160.647185137,3875297.0744050574,2905228.9175091437,1799315.4853605295,609268.0609119879,-609268.0609119866,-1799315.4853605302,-2905228.917509145,-3875297.0744050583,-4664160.647185137,-5234933.251945074,-5560926.196054482,-5626896.411761939,-5429759.205101593,-4978732.492754614,-4294905.78251016,-3410254.0513204588,-2366142.630916166,-1211393.0108688832,-1.3802163421294167e-09],[0.0,1134853.4225914334,2216642.3604414794,3194783.565138318,4023540.2410761924,4664160.647185137,5086690.085273939,5271371.548425308,5209569.536680991,4904173.843422147,4369464.431842628,3630443.719741063,2721667.4942527944,1685629.1216494234,570772.604759938,-570772.6047599368,-1685629.121649424,-2721667.494252796,-3630443.719741064,-4369464.431842628,-4904173.843422147,-5209569.536680991,-5271371.548425308,-5086690.085273938,-4664160.647185136,-4023540.2410761914,-3194783.5651383162,-2216642.3604414808,-1134853.422591435,-1.2930099692904163e-09],[0.0,1045008.71554048,2041153.9849860552,2941857.1626733984,3705002.3690735307,4294905.7825101605,4683984.175001545,4854044.67334436,4797135.437644766,4515917.480514002,4023540.241076192,3343026.731809452,2506197.008070652,1552180.297672381,525585.3616794471,-525585.361679446,-1552180.2976723816,-2506197.0080706533,-3343026.731809453,-4023540.241076192,-4515917.480514002,-4797135.437644766,-4854044.67334436,-4683984.175001544,-4294905.78251016,-3705002.3690735297,-2941857.1626733965,-2041153.9849860566,-1045008.7155404816,-1.1906442367717746e-09],[0.0,942912.2367603949,1841734.9453015556,2654440.174741788,3343026.7318094526,3875297.0744050574,4226362.832884829,4379808.562563817,4328459.311664914,4074716.1140895574,3630443.719741063,3016415.8120058654,2261343.6534066577,1400533.57887711,474236.11078054353,-474236.11078054254,-1400533.5788771107,-2261343.6534066587,-3016415.8120058663,-3630443.719741063,-4074716.1140895574,-4328459.311664914,-4379808.562563817,-4226362.832884828,-3875297.074405057,-3343026.7318094517,-2654440.174741786,-1841734.945301557,-942912.2367603963,-1.0743192891933912e-09],[0.0,829760.9741171736,1620723.247297714,2335902.3027391257,2941857.162673398,3410254.0513204597,3719191.2507529263,3854223.20088437,3809035.95780388,3585742.426775884,3194783.565138317,2654440.174741787,1989978.1119726899,1232466.8843895674,417326.8750809491,-417326.87508094823,-1232466.8843895681,-1989978.1119726906,-2654440.174741788,-3194783.565138317,-3585742.426775884,-3809035.95780388,-3854223.20088437,-3719191.250752926,-3410254.051320459,-2941857.162673397,-2335902.3027391243,-1620723.2472977152,-829760.9741171747,-9.453989302087085e-10],[0.0,706881.5227101218,1380710.051060703,1989978.11197269,2506197.008070652,2905228.9175091437,3168415.5516949347,3283450.5961244325,3244955.139972383,3054729.1879838286,2721667.494252794,2261343.6534066577,1695281.8966301808,1049950.642537776,355524.86333663116,-355524.86333663046,-1049950.6425377764,-1695281.8966301815,-2261343.653406658,-2721667.494252794,-3054729.1879838286,-3244955.139972383,-3283450.5961244325,-3168415.5516949343,-2905228.9175091432,-2506197.0080706514,-1989978.111972689,-1380710.051060704,-706881.5227101229,-8.053946331538135e-10],[0.0,575714.5317572337,1124509.2918702438,1620723.2472977135,2041153.9849860542,2366142.6309161633,2580493.077203286,2674182.5352124455,2642830.1900154883,2487902.0424281945,2216642.360441478,1841734.9453015546,1380710.0510607024,855124.689381256,289554.64762917376,-289554.6476291731,-855124.6893812565,-1380710.0510607031,-1841734.945301555,-2216642.360441478,-2487902.0424281945,-2642830.1900154883,-2674182.5352124455,-2580493.0772032854,-2366142.630916163,-2041153.984986054,-1620723.2472977126,-1124509.2918702445,-575714.5317572345,-6.559478204045259e-10],[0.0,437797.814300308,855124.6893812564,1232466.8843895677,1552180.297672381,1799315.4853605293,1962316.6807487481,2033562.1291035009,2009720.472443348,1891906.5201356201,1685629.1216494231,1400533.57887711,1049950.642537776,650273.1810897005,220189.66842060324,-220189.6684206028,-650273.1810897008,-1049950.6425377764,-1400533.5788771103,-1685629.1216494231,-1891906.5201356201,-2009720.472443348,-2033562.1291035009,-1962316.680748748,-1799315.485360529,-1552180.2976723807,-1232466.884389567,-855124.6893812569,-437797.8143003087,-4.988106191998066e-10],[0.0,294748.31775307073,575714.5317572344,829760.9741171745,1045008.715540481,1211393.0108688825,1321133.9153756853,1369100.0663344061,1353048.6198367635,1273730.1236810852,1134853.4225914343,942912.2367603957,706881.5227101225,437797.8143003084,148243.1666711352,-148243.16667113488,-437797.81430030864,-706881.5227101229,-942912.2367603959,-1134853.4225914343,-1273730.1236810852,-1353048.6198367635,-1369100.0663344061,-1321133.915375685,-1211393.0108688823,-1045008.7155404808,-829760.974117174,-575714.5317572348,-294748.3177530712,-3.358253195518686e-10],[0.0,148243.16667113506,289554.6476291739,417326.8750809492,525585.3616794471,609268.0609119879,664462.0627690981,688586.5570676662,680513.5092667409,640620.4061089451,570772.604759938,474236.11078054353,355524.8633366312,220189.66842060327,74558.64933246764,-74558.64933246748,-220189.66842060335,-355524.8633366314,-474236.11078054365,-570772.604759938,-640620.4061089451,-680513.5092667409,-688586.5570676662,-664462.062769098,-609268.0609119878,-525585.361679447,-417326.8750809489,-289554.6476291741,-148243.1666711353,-1.689027750802021e-10],[0.0,1.6791265977593415e-10,3.279739102022631e-10,4.726994651043543e-10,5.953221183858873e-10,6.901081710647083e-10,7.526255326646867e-10,7.799509608404643e-10,7.70806748940574e-10,7.256204701503929e-10,6.46504984645208e-10,5.371596445966956e-10,4.026973165769068e-10,2.494053095999033e-10,8.445138754010104e-11,-8.445138754010087e-11,-2.494053095999034e-10,-4.02697316576907e-10,-5.371596445966957e-10,-6.46504984645208e-10,-7.256204701503929e-10,-7.70806748940574e-10,-7.799509608404643e-10,-7.526255326646866e-10,-6.901081710647082e-10,-5.953221183858872e-10,-4.72699465104354e-10,-3.279739102022633e-10,-1.679126597759344e-10,-1.9131346721815106e-25]],\"z\":[[6378137.0,6378137.0,6378137.0,6378137.0,6378137.0,6378137.0,6378137.0,6378137.0,6378137.0,6378137.0,6378137.0,6378137.0,6378137.0,6378137.0,6378137.0,6378137.0,6378137.0,6378137.0,6378137.0,6378137.0,6378137.0,6378137.0,6378137.0,6378137.0,6378137.0,6378137.0,6378137.0,6378137.0,6378137.0,6378137.0],[6340748.087630636,6340748.087630636,6340748.087630636,6340748.087630636,6340748.087630636,6340748.087630636,6340748.087630636,6340748.087630636,6340748.087630636,6340748.087630636,6340748.087630636,6340748.087630636,6340748.087630636,6340748.087630636,6340748.087630636,6340748.087630636,6340748.087630636,6340748.087630636,6340748.087630636,6340748.087630636,6340748.087630636,6340748.087630636,6340748.087630636,6340748.087630636,6340748.087630636,6340748.087630636,6340748.087630636,6340748.087630636,6340748.087630636,6340748.087630636],[6229019.701335065,6229019.701335065,6229019.701335065,6229019.701335065,6229019.701335065,6229019.701335065,6229019.701335065,6229019.701335065,6229019.701335065,6229019.701335065,6229019.701335065,6229019.701335065,6229019.701335065,6229019.701335065,6229019.701335065,6229019.701335065,6229019.701335065,6229019.701335065,6229019.701335065,6229019.701335065,6229019.701335065,6229019.701335065,6229019.701335065,6229019.701335065,6229019.701335065,6229019.701335065,6229019.701335065,6229019.701335065,6229019.701335065,6229019.701335065],[6044261.754288366,6044261.754288366,6044261.754288366,6044261.754288366,6044261.754288366,6044261.754288366,6044261.754288366,6044261.754288366,6044261.754288366,6044261.754288366,6044261.754288366,6044261.754288366,6044261.754288366,6044261.754288366,6044261.754288366,6044261.754288366,6044261.754288366,6044261.754288366,6044261.754288366,6044261.754288366,6044261.754288366,6044261.754288366,6044261.754288366,6044261.754288366,6044261.754288366,6044261.754288366,6044261.754288366,6044261.754288366,6044261.754288366,6044261.754288366],[5788640.364493859,5788640.364493859,5788640.364493859,5788640.364493859,5788640.364493859,5788640.364493859,5788640.364493859,5788640.364493859,5788640.364493859,5788640.364493859,5788640.364493859,5788640.364493859,5788640.364493859,5788640.364493859,5788640.364493859,5788640.364493859,5788640.364493859,5788640.364493859,5788640.364493859,5788640.364493859,5788640.364493859,5788640.364493859,5788640.364493859,5788640.364493859,5788640.364493859,5788640.364493859,5788640.364493859,5788640.364493859,5788640.364493859,5788640.364493859],[5465152.459030019,5465152.459030019,5465152.459030019,5465152.459030019,5465152.459030019,5465152.459030019,5465152.459030019,5465152.459030019,5465152.459030019,5465152.459030019,5465152.459030019,5465152.459030019,5465152.459030019,5465152.459030019,5465152.459030019,5465152.459030019,5465152.459030019,5465152.459030019,5465152.459030019,5465152.459030019,5465152.459030019,5465152.459030019,5465152.459030019,5465152.459030019,5465152.459030019,5465152.459030019,5465152.459030019,5465152.459030019,5465152.459030019,5465152.459030019],[5077590.637820598,5077590.637820598,5077590.637820598,5077590.637820598,5077590.637820598,5077590.637820598,5077590.637820598,5077590.637820598,5077590.637820598,5077590.637820598,5077590.637820598,5077590.637820598,5077590.637820598,5077590.637820598,5077590.637820598,5077590.637820598,5077590.637820598,5077590.637820598,5077590.637820598,5077590.637820598,5077590.637820598,5077590.637820598,5077590.637820598,5077590.637820598,5077590.637820598,5077590.637820598,5077590.637820598,5077590.637820598,5077590.637820598,5077590.637820598],[4630498.708868122,4630498.708868122,4630498.708868122,4630498.708868122,4630498.708868122,4630498.708868122,4630498.708868122,4630498.708868122,4630498.708868122,4630498.708868122,4630498.708868122,4630498.708868122,4630498.708868122,4630498.708868122,4630498.708868122,4630498.708868122,4630498.708868122,4630498.708868122,4630498.708868122,4630498.708868122,4630498.708868122,4630498.708868122,4630498.708868122,4630498.708868122,4630498.708868122,4630498.708868122,4630498.708868122,4630498.708868122,4630498.708868122,4630498.708868122],[4129118.4162595123,4129118.4162595123,4129118.4162595123,4129118.4162595123,4129118.4162595123,4129118.4162595123,4129118.4162595123,4129118.4162595123,4129118.4162595123,4129118.4162595123,4129118.4162595123,4129118.4162595123,4129118.4162595123,4129118.4162595123,4129118.4162595123,4129118.4162595123,4129118.4162595123,4129118.4162595123,4129118.4162595123,4129118.4162595123,4129118.4162595123,4129118.4162595123,4129118.4162595123,4129118.4162595123,4129118.4162595123,4129118.4162595123,4129118.4162595123,4129118.4162595123,4129118.4162595123,4129118.4162595123],[3579327.9855092294,3579327.9855092294,3579327.9855092294,3579327.9855092294,3579327.9855092294,3579327.9855092294,3579327.9855092294,3579327.9855092294,3579327.9855092294,3579327.9855092294,3579327.9855092294,3579327.9855092294,3579327.9855092294,3579327.9855092294,3579327.9855092294,3579327.9855092294,3579327.9855092294,3579327.9855092294,3579327.9855092294,3579327.9855092294,3579327.9855092294,3579327.9855092294,3579327.9855092294,3579327.9855092294,3579327.9855092294,3579327.9855092294,3579327.9855092294,3579327.9855092294,3579327.9855092294,3579327.9855092294],[2987573.2067396375,2987573.2067396375,2987573.2067396375,2987573.2067396375,2987573.2067396375,2987573.2067396375,2987573.2067396375,2987573.2067396375,2987573.2067396375,2987573.2067396375,2987573.2067396375,2987573.2067396375,2987573.2067396375,2987573.2067396375,2987573.2067396375,2987573.2067396375,2987573.2067396375,2987573.2067396375,2987573.2067396375,2987573.2067396375,2987573.2067396375,2987573.2067396375,2987573.2067396375,2987573.2067396375,2987573.2067396375,2987573.2067396375,2987573.2067396375,2987573.2067396375,2987573.2067396375,2987573.2067396375],[2360791.8636852554,2360791.8636852554,2360791.8636852554,2360791.8636852554,2360791.8636852554,2360791.8636852554,2360791.8636852554,2360791.8636852554,2360791.8636852554,2360791.8636852554,2360791.8636852554,2360791.8636852554,2360791.8636852554,2360791.8636852554,2360791.8636852554,2360791.8636852554,2360791.8636852554,2360791.8636852554,2360791.8636852554,2360791.8636852554,2360791.8636852554,2360791.8636852554,2360791.8636852554,2360791.8636852554,2360791.8636852554,2360791.8636852554,2360791.8636852554,2360791.8636852554,2360791.8636852554,2360791.8636852554],[1706332.3945217484,1706332.3945217484,1706332.3945217484,1706332.3945217484,1706332.3945217484,1706332.3945217484,1706332.3945217484,1706332.3945217484,1706332.3945217484,1706332.3945217484,1706332.3945217484,1706332.3945217484,1706332.3945217484,1706332.3945217484,1706332.3945217484,1706332.3945217484,1706332.3945217484,1706332.3945217484,1706332.3945217484,1706332.3945217484,1706332.3945217484,1706332.3945217484,1706332.3945217484,1706332.3945217484,1706332.3945217484,1706332.3945217484,1706332.3945217484,1706332.3945217484,1706332.3945217484,1706332.3945217484],[1031867.7381470605,1031867.7381470605,1031867.7381470605,1031867.7381470605,1031867.7381470605,1031867.7381470605,1031867.7381470605,1031867.7381470605,1031867.7381470605,1031867.7381470605,1031867.7381470605,1031867.7381470605,1031867.7381470605,1031867.7381470605,1031867.7381470605,1031867.7381470605,1031867.7381470605,1031867.7381470605,1031867.7381470605,1031867.7381470605,1031867.7381470605,1031867.7381470605,1031867.7381470605,1031867.7381470605,1031867.7381470605,1031867.7381470605,1031867.7381470605,1031867.7381470605,1031867.7381470605,1031867.7381470605],[345305.3759882697,345305.3759882697,345305.3759882697,345305.3759882697,345305.3759882697,345305.3759882697,345305.3759882697,345305.3759882697,345305.3759882697,345305.3759882697,345305.3759882697,345305.3759882697,345305.3759882697,345305.3759882697,345305.3759882697,345305.3759882697,345305.3759882697,345305.3759882697,345305.3759882697,345305.3759882697,345305.3759882697,345305.3759882697,345305.3759882697,345305.3759882697,345305.3759882697,345305.3759882697,345305.3759882697,345305.3759882697,345305.3759882697,345305.3759882697],[-345305.37598826893,-345305.37598826893,-345305.37598826893,-345305.37598826893,-345305.37598826893,-345305.37598826893,-345305.37598826893,-345305.37598826893,-345305.37598826893,-345305.37598826893,-345305.37598826893,-345305.37598826893,-345305.37598826893,-345305.37598826893,-345305.37598826893,-345305.37598826893,-345305.37598826893,-345305.37598826893,-345305.37598826893,-345305.37598826893,-345305.37598826893,-345305.37598826893,-345305.37598826893,-345305.37598826893,-345305.37598826893,-345305.37598826893,-345305.37598826893,-345305.37598826893,-345305.37598826893,-345305.37598826893],[-1031867.7381470612,-1031867.7381470612,-1031867.7381470612,-1031867.7381470612,-1031867.7381470612,-1031867.7381470612,-1031867.7381470612,-1031867.7381470612,-1031867.7381470612,-1031867.7381470612,-1031867.7381470612,-1031867.7381470612,-1031867.7381470612,-1031867.7381470612,-1031867.7381470612,-1031867.7381470612,-1031867.7381470612,-1031867.7381470612,-1031867.7381470612,-1031867.7381470612,-1031867.7381470612,-1031867.7381470612,-1031867.7381470612,-1031867.7381470612,-1031867.7381470612,-1031867.7381470612,-1031867.7381470612,-1031867.7381470612,-1031867.7381470612,-1031867.7381470612],[-1706332.394521749,-1706332.394521749,-1706332.394521749,-1706332.394521749,-1706332.394521749,-1706332.394521749,-1706332.394521749,-1706332.394521749,-1706332.394521749,-1706332.394521749,-1706332.394521749,-1706332.394521749,-1706332.394521749,-1706332.394521749,-1706332.394521749,-1706332.394521749,-1706332.394521749,-1706332.394521749,-1706332.394521749,-1706332.394521749,-1706332.394521749,-1706332.394521749,-1706332.394521749,-1706332.394521749,-1706332.394521749,-1706332.394521749,-1706332.394521749,-1706332.394521749,-1706332.394521749,-1706332.394521749],[-2360791.863685256,-2360791.863685256,-2360791.863685256,-2360791.863685256,-2360791.863685256,-2360791.863685256,-2360791.863685256,-2360791.863685256,-2360791.863685256,-2360791.863685256,-2360791.863685256,-2360791.863685256,-2360791.863685256,-2360791.863685256,-2360791.863685256,-2360791.863685256,-2360791.863685256,-2360791.863685256,-2360791.863685256,-2360791.863685256,-2360791.863685256,-2360791.863685256,-2360791.863685256,-2360791.863685256,-2360791.863685256,-2360791.863685256,-2360791.863685256,-2360791.863685256,-2360791.863685256,-2360791.863685256],[-2987573.2067396366,-2987573.2067396366,-2987573.2067396366,-2987573.2067396366,-2987573.2067396366,-2987573.2067396366,-2987573.2067396366,-2987573.2067396366,-2987573.2067396366,-2987573.2067396366,-2987573.2067396366,-2987573.2067396366,-2987573.2067396366,-2987573.2067396366,-2987573.2067396366,-2987573.2067396366,-2987573.2067396366,-2987573.2067396366,-2987573.2067396366,-2987573.2067396366,-2987573.2067396366,-2987573.2067396366,-2987573.2067396366,-2987573.2067396366,-2987573.2067396366,-2987573.2067396366,-2987573.2067396366,-2987573.2067396366,-2987573.2067396366,-2987573.2067396366],[-3579327.985509229,-3579327.985509229,-3579327.985509229,-3579327.985509229,-3579327.985509229,-3579327.985509229,-3579327.985509229,-3579327.985509229,-3579327.985509229,-3579327.985509229,-3579327.985509229,-3579327.985509229,-3579327.985509229,-3579327.985509229,-3579327.985509229,-3579327.985509229,-3579327.985509229,-3579327.985509229,-3579327.985509229,-3579327.985509229,-3579327.985509229,-3579327.985509229,-3579327.985509229,-3579327.985509229,-3579327.985509229,-3579327.985509229,-3579327.985509229,-3579327.985509229,-3579327.985509229,-3579327.985509229],[-4129118.4162595114,-4129118.4162595114,-4129118.4162595114,-4129118.4162595114,-4129118.4162595114,-4129118.4162595114,-4129118.4162595114,-4129118.4162595114,-4129118.4162595114,-4129118.4162595114,-4129118.4162595114,-4129118.4162595114,-4129118.4162595114,-4129118.4162595114,-4129118.4162595114,-4129118.4162595114,-4129118.4162595114,-4129118.4162595114,-4129118.4162595114,-4129118.4162595114,-4129118.4162595114,-4129118.4162595114,-4129118.4162595114,-4129118.4162595114,-4129118.4162595114,-4129118.4162595114,-4129118.4162595114,-4129118.4162595114,-4129118.4162595114,-4129118.4162595114],[-4630498.708868122,-4630498.708868122,-4630498.708868122,-4630498.708868122,-4630498.708868122,-4630498.708868122,-4630498.708868122,-4630498.708868122,-4630498.708868122,-4630498.708868122,-4630498.708868122,-4630498.708868122,-4630498.708868122,-4630498.708868122,-4630498.708868122,-4630498.708868122,-4630498.708868122,-4630498.708868122,-4630498.708868122,-4630498.708868122,-4630498.708868122,-4630498.708868122,-4630498.708868122,-4630498.708868122,-4630498.708868122,-4630498.708868122,-4630498.708868122,-4630498.708868122,-4630498.708868122,-4630498.708868122],[-5077590.637820598,-5077590.637820598,-5077590.637820598,-5077590.637820598,-5077590.637820598,-5077590.637820598,-5077590.637820598,-5077590.637820598,-5077590.637820598,-5077590.637820598,-5077590.637820598,-5077590.637820598,-5077590.637820598,-5077590.637820598,-5077590.637820598,-5077590.637820598,-5077590.637820598,-5077590.637820598,-5077590.637820598,-5077590.637820598,-5077590.637820598,-5077590.637820598,-5077590.637820598,-5077590.637820598,-5077590.637820598,-5077590.637820598,-5077590.637820598,-5077590.637820598,-5077590.637820598,-5077590.637820598],[-5465152.459030019,-5465152.459030019,-5465152.459030019,-5465152.459030019,-5465152.459030019,-5465152.459030019,-5465152.459030019,-5465152.459030019,-5465152.459030019,-5465152.459030019,-5465152.459030019,-5465152.459030019,-5465152.459030019,-5465152.459030019,-5465152.459030019,-5465152.459030019,-5465152.459030019,-5465152.459030019,-5465152.459030019,-5465152.459030019,-5465152.459030019,-5465152.459030019,-5465152.459030019,-5465152.459030019,-5465152.459030019,-5465152.459030019,-5465152.459030019,-5465152.459030019,-5465152.459030019,-5465152.459030019],[-5788640.364493859,-5788640.364493859,-5788640.364493859,-5788640.364493859,-5788640.364493859,-5788640.364493859,-5788640.364493859,-5788640.364493859,-5788640.364493859,-5788640.364493859,-5788640.364493859,-5788640.364493859,-5788640.364493859,-5788640.364493859,-5788640.364493859,-5788640.364493859,-5788640.364493859,-5788640.364493859,-5788640.364493859,-5788640.364493859,-5788640.364493859,-5788640.364493859,-5788640.364493859,-5788640.364493859,-5788640.364493859,-5788640.364493859,-5788640.364493859,-5788640.364493859,-5788640.364493859,-5788640.364493859],[-6044261.754288366,-6044261.754288366,-6044261.754288366,-6044261.754288366,-6044261.754288366,-6044261.754288366,-6044261.754288366,-6044261.754288366,-6044261.754288366,-6044261.754288366,-6044261.754288366,-6044261.754288366,-6044261.754288366,-6044261.754288366,-6044261.754288366,-6044261.754288366,-6044261.754288366,-6044261.754288366,-6044261.754288366,-6044261.754288366,-6044261.754288366,-6044261.754288366,-6044261.754288366,-6044261.754288366,-6044261.754288366,-6044261.754288366,-6044261.754288366,-6044261.754288366,-6044261.754288366,-6044261.754288366],[-6229019.701335065,-6229019.701335065,-6229019.701335065,-6229019.701335065,-6229019.701335065,-6229019.701335065,-6229019.701335065,-6229019.701335065,-6229019.701335065,-6229019.701335065,-6229019.701335065,-6229019.701335065,-6229019.701335065,-6229019.701335065,-6229019.701335065,-6229019.701335065,-6229019.701335065,-6229019.701335065,-6229019.701335065,-6229019.701335065,-6229019.701335065,-6229019.701335065,-6229019.701335065,-6229019.701335065,-6229019.701335065,-6229019.701335065,-6229019.701335065,-6229019.701335065,-6229019.701335065,-6229019.701335065],[-6340748.087630636,-6340748.087630636,-6340748.087630636,-6340748.087630636,-6340748.087630636,-6340748.087630636,-6340748.087630636,-6340748.087630636,-6340748.087630636,-6340748.087630636,-6340748.087630636,-6340748.087630636,-6340748.087630636,-6340748.087630636,-6340748.087630636,-6340748.087630636,-6340748.087630636,-6340748.087630636,-6340748.087630636,-6340748.087630636,-6340748.087630636,-6340748.087630636,-6340748.087630636,-6340748.087630636,-6340748.087630636,-6340748.087630636,-6340748.087630636,-6340748.087630636,-6340748.087630636,-6340748.087630636],[-6378137.0,-6378137.0,-6378137.0,-6378137.0,-6378137.0,-6378137.0,-6378137.0,-6378137.0,-6378137.0,-6378137.0,-6378137.0,-6378137.0,-6378137.0,-6378137.0,-6378137.0,-6378137.0,-6378137.0,-6378137.0,-6378137.0,-6378137.0,-6378137.0,-6378137.0,-6378137.0,-6378137.0,-6378137.0,-6378137.0,-6378137.0,-6378137.0,-6378137.0,-6378137.0]],\"type\":\"surface\"},{\"line\":{\"width\":1},\"marker\":{\"showscale\":false,\"size\":0},\"mode\":\"lines\",\"x\":[6722559.543134856,6815325.705002203,6201474.5564728575,4944650.575644077,3175162.0734339347,1076470.7449000645,-1133829.756167367,-3226574.065875872,-4984785.121135276,-6226170.479771436,-6822022.517049488,-6710562.91419197,-5903347.873821934,-4484069.965513761,-2599880.826868318,-446134.38799210463,1753867.5484147687,3772027.3802039167,5399101.010465523,6466392.408782568,6722559.543134286],\"y\":[-1951165.7263378396,-339396.3125298105,1307561.9271537561,2818951.313324664,4038070.031683066,4838519.076941751,5137307.382209352,4903456.385670219,4161211.907606542,2987530.328307119,1504099.701538467,-135276.9403838634,-1760627.9829569836,-3203435.9947527107,-4314109.722052129,-4977493.805319539,-5124808.1602319805,-4740779.140634199,-3865223.119901166,-2588918.303983917,-1951165.7263397912],\"z\":[-12062.229103397669,1560815.7091012765,2971867.280360562,4074793.7589389477,4755243.0249830345,4942665.665149223,4617629.580718523,3813834.719969808,2614619.0460757148,1144318.003995335,-444626.65765971545,-1987472.144225358,-3324255.252875577,-4316377.459386529,-4860974.901414095,-4901583.369265128,-4433992.55112559,-3506682.5608713995,-2215797.4889803454,-695177.1219884559,-12062.229105428985],\"type\":\"scatter3d\"},{\"line\":{\"color\":\"red\",\"width\":6},\"marker\":{\"size\":1},\"x\":[6722559.543134855,6821740.002890239],\"y\":[-1951165.7263378398,-1611633.3505398722],\"z\":[-12062.229103397578,341322.8330988669],\"type\":\"scatter3d\"},{\"line\":{\"color\":\"blue\",\"width\":6},\"marker\":{\"size\":1},\"x\":[6722559.543134855,6820476.300886845],\"y\":[-1951165.7263378398,-1611615.9463753698],\"z\":[-12062.229103397578,-365782.8186635424],\"type\":\"scatter3d\"},{\"line\":{\"color\":\"green\",\"width\":6},\"marker\":{\"size\":1},\"x\":[6722559.543134855,6242376.718625222],\"y\":[-1951165.7263378398,-1811796.745885137],\"z\":[-12062.229103397578,-11200.641310297635],\"type\":\"scatter3d\"},{\"line\":{\"color\":\"red\",\"width\":6},\"marker\":{\"size\":1},\"x\":[6815325.705002205,6756765.252598674],\"y\":[-339396.3125298105,26825.264627526747],\"z\":[1560815.7091012774,1896154.984818701],\"type\":\"scatter3d\"},{\"line\":{\"color\":\"blue\",\"width\":6},\"marker\":{\"size\":1},\"x\":[6815325.705002205,6913242.462754196],\"y\":[-339396.3125298105,153.4674326594104],\"z\":[1560815.7091012774,1207095.1195411326],\"type\":\"scatter3d\"},{\"line\":{\"color\":\"green\",\"width\":6},\"marker\":{\"size\":1},\"x\":[6815325.705002205,6328516.7260734765],\"y\":[-339396.3125298105,-315153.7187776811],\"z\":[1560815.7091012774,1449328.8727369006],\"type\":\"scatter3d\"},{\"line\":{\"color\":\"red\",\"width\":6},\"marker\":{\"size\":1},\"x\":[6201474.5564728575,5991244.776918097],\"y\":[1307561.927153756,1662502.6192708914],\"z\":[2971867.280360561,3254392.5798786147],\"type\":\"scatter3d\"},{\"line\":{\"color\":\"blue\",\"width\":6},\"marker\":{\"size\":1},\"x\":[6201474.5564728575,6299391.314224848],\"y\":[1307561.927153756,1647111.707116226],\"z\":[2971867.280360561,2618146.6908004163],\"type\":\"scatter3d\"},{\"line\":{\"color\":\"green\",\"width\":6},\"marker\":{\"size\":1},\"x\":[6201474.5564728575,5758512.088153368],\"y\":[1307561.927153756,1214164.6466427734],\"z\":[2971867.280360561,2759591.046049092],\"type\":\"scatter3d\"},{\"line\":{\"color\":\"red\",\"width\":6},\"marker\":{\"size\":1},\"x\":[4944650.57564408,4604548.226396835],\"y\":[2818951.3133246647,3125810.6433488186],\"z\":[4074793.75893895,4275212.6792374905],\"type\":\"scatter3d\"},{\"line\":{\"color\":\"blue\",\"width\":6},\"marker\":{\"size\":1},\"x\":[4944650.57564408,5042567.33339607],\"y\":[2818951.3133246647,3158501.0932871345],\"z\":[4074793.75893895,3721073.169378805],\"type\":\"scatter3d\"},{\"line\":{\"color\":\"green\",\"width\":6},\"marker\":{\"size\":1},\"x\":[4944650.57564408,4591461.24881236],\"y\":[2818951.3133246647,2617597.6480871886],\"z\":[4074793.75893895,3783737.061871882],\"type\":\"scatter3d\"},{\"line\":{\"color\":\"red\",\"width\":6},\"marker\":{\"size\":1},\"x\":[3175162.0734339356,2740449.182706343],\"y\":[4038070.031683067,4265032.628810662],\"z\":[4755243.024983037,4852776.004740437],\"type\":\"scatter3d\"},{\"line\":{\"color\":\"blue\",\"width\":6},\"marker\":{\"size\":1},\"x\":[3175162.0734339356,3273078.8311859253],\"y\":[4038070.031683067,4377619.811645537],\"z\":[4755243.024983037,4401522.435422893],\"type\":\"scatter3d\"},{\"line\":{\"color\":\"green\",\"width\":6},\"marker\":{\"size\":1},\"x\":[3175162.0734339356,2948364.782474369],\"y\":[4038070.031683067,3749636.4579914194],\"z\":[4755243.024983037,4415582.80891282],\"type\":\"scatter3d\"},{\"line\":{\"color\":\"red\",\"width\":6},\"marker\":{\"size\":1},\"x\":[1076470.744900065,592218.6221110194],\"y\":[4838519.076941753,4962053.314529438],\"z\":[4942665.665149226,4927200.422896593],\"type\":\"scatter3d\"},{\"line\":{\"color\":\"blue\",\"width\":6},\"marker\":{\"size\":1},\"x\":[1076470.744900065,1174387.502652055],\"y\":[4838519.076941753,5178068.856904223],\"z\":[4942665.665149226,4588945.075589081],\"type\":\"scatter3d\"},{\"line\":{\"color\":\"green\",\"width\":6},\"marker\":{\"size\":1},\"x\":[1076470.744900065,999579.9774072032],\"y\":[4838519.076941753,4492910.571445913],\"z\":[4942665.665149226,4589618.1176385665],\"type\":\"scatter3d\"},{\"line\":{\"color\":\"red\",\"width\":6},\"marker\":{\"size\":1},\"x\":[-1133829.7561673669,-1617413.5424627874],\"y\":[5137307.382209351,5144605.15181382],\"z\":[4617629.580718522,4490769.562623831],\"type\":\"scatter3d\"},{\"line\":{\"color\":\"blue\",\"width\":6},\"marker\":{\"size\":1},\"x\":[-1133829.7561673669,-1035912.9984153771],\"y\":[5137307.382209351,5476857.162171821],\"z\":[4617629.580718522,4263908.991158377],\"type\":\"scatter3d\"},{\"line\":{\"color\":\"green\",\"width\":6},\"marker\":{\"size\":1},\"x\":[-1133829.7561673669,-1052841.9164411263],\"y\":[5137307.382209351,4770356.854908683],\"z\":[4617629.580718522,4287798.896381484],\"type\":\"scatter3d\"},{\"line\":{\"color\":\"red\",\"width\":6},\"marker\":{\"size\":1},\"x\":[-3226574.0658758725,-3659351.240675973],\"y\":[4903456.3856702205,4793761.049890267],\"z\":[3813834.7199698086,3588732.8535178252],\"type\":\"scatter3d\"},{\"line\":{\"color\":\"blue\",\"width\":6},\"marker\":{\"size\":1},\"x\":[-3226574.0658758725,-3128657.308123883],\"y\":[4903456.3856702205,5243006.16563269],\"z\":[3813834.7199698086,3460114.1304096635],\"type\":\"scatter3d\"},{\"line\":{\"color\":\"green\",\"width\":6},\"marker\":{\"size\":1},\"x\":[-3226574.0658758725,-2996104.4897418814],\"y\":[4903456.3856702205,4553209.500979491],\"z\":[3813834.7199698086,3541417.954257679],\"type\":\"scatter3d\"},{\"line\":{\"color\":\"red\",\"width\":6},\"marker\":{\"size\":1},\"x\":[-4984785.121135279,-5321885.071281561],\"y\":[4161211.907606544,3945896.748730791],\"z\":[2614619.046075716,2314614.0361680756],\"type\":\"scatter3d\"},{\"line\":{\"color\":\"blue\",\"width\":6},\"marker\":{\"size\":1},\"x\":[-4984785.121135279,-4886868.3633832885],\"y\":[4161211.907606544,4500761.687569014],\"z\":[2614619.046075716,2260898.456515571],\"type\":\"scatter3d\"},{\"line\":{\"color\":\"green\",\"width\":6},\"marker\":{\"size\":1},\"x\":[-4984785.121135279,-4628729.041054187],\"y\":[4161211.907606544,3863982.4856346482],\"z\":[2614619.046075716,2427860.5427845935],\"type\":\"scatter3d\"},{\"line\":{\"color\":\"red\",\"width\":6},\"marker\":{\"size\":1},\"x\":[-6226170.479771435,-6432642.467703052],\"y\":[2987530.328307119,2688919.3591616517],\"z\":[1144318.0039953343,800514.561159793],\"type\":\"scatter3d\"},{\"line\":{\"color\":\"blue\",\"width\":6},\"marker\":{\"size\":1},\"x\":[-6226170.479771435,-6128253.722019445],\"y\":[2987530.328307119,3327080.108269589],\"z\":[1144318.0039953343,790597.4144351895],\"type\":\"scatter3d\"},{\"line\":{\"color\":\"green\",\"width\":6},\"marker\":{\"size\":1},\"x\":[-6226170.479771435,-5781444.016930618],\"y\":[2987530.328307119,2774135.3048566105],\"z\":[1144318.0039953343,1062581.0037099533],\"type\":\"scatter3d\"},{\"line\":{\"color\":\"red\",\"width\":6},\"marker\":{\"size\":1},\"x\":[-6822022.51704949,-6876459.395536864],\"y\":[1504099.7015384673,1153153.0976168285],\"z\":[-444626.65765971644,-796582.7734702236],\"type\":\"scatter3d\"},{\"line\":{\"color\":\"blue\",\"width\":6},\"marker\":{\"size\":1},\"x\":[-6822022.51704949,-6724105.759297499],\"y\":[1504099.7015384673,1843649.4815009371],\"z\":[-444626.65765971644,-798347.2472198613],\"type\":\"scatter3d\"},{\"line\":{\"color\":\"green\",\"width\":6},\"marker\":{\"size\":1},\"x\":[-6822022.51704949,-6334735.194403097],\"y\":[1504099.7015384673,1396664.0085714338],\"z\":[-444626.65765971644,-412867.61068402254],\"type\":\"scatter3d\"},{\"line\":{\"color\":\"red\",\"width\":6},\"marker\":{\"size\":1},\"x\":[-6710562.91419197,-6607320.632997722],\"y\":[-135276.9403838627,-502172.8116372012],\"z\":[-1987472.144225357,-2311089.898730671],\"type\":\"scatter3d\"},{\"line\":{\"color\":\"blue\",\"width\":6},\"marker\":{\"size\":1},\"x\":[-6710562.91419197,-6612646.15643998],\"y\":[-135276.9403838627,204272.8395786073],\"z\":[-1987472.144225357,-2341192.7337855017],\"type\":\"scatter3d\"},{\"line\":{\"color\":\"green\",\"width\":6},\"marker\":{\"size\":1},\"x\":[-6710562.91419197,-6231236.991749686],\"y\":[-135276.9403838627,-125614.30178501536],\"z\":[-1987472.144225357,-1845509.84820926],\"type\":\"scatter3d\"},{\"line\":{\"color\":\"red\",\"width\":6},\"marker\":{\"size\":1},\"x\":[-5903347.873821935,-5653130.658424703],\"y\":[-1760627.9829569836,-2105433.123901058],\"z\":[-3324255.2528755777,-3585981.751146946],\"type\":\"scatter3d\"},{\"line\":{\"color\":\"blue\",\"width\":6},\"marker\":{\"size\":1},\"x\":[-5903347.873821935,-5805431.116069945],\"y\":[-1760627.9829569836,-1421078.2029945136],\"z\":[-3324255.2528755777,-3677975.8424357222],\"type\":\"scatter3d\"},{\"line\":{\"color\":\"green\",\"width\":6},\"marker\":{\"size\":1},\"x\":[-5903347.873821935,-5481680.16854894],\"y\":[-1760627.9829569836,-1634868.8413171992],\"z\":[-3324255.2528755777,-3086808.4490987505],\"type\":\"scatter3d\"},{\"line\":{\"color\":\"red\",\"width\":6},\"marker\":{\"size\":1},\"x\":[-4484069.965513761,-4112820.496192078],\"y\":[-3203435.9947527107,-3490400.78873662],\"z\":[-4316377.459386529,-4489076.731365717],\"type\":\"scatter3d\"},{\"line\":{\"color\":\"blue\",\"width\":6},\"marker\":{\"size\":1},\"x\":[-4484069.965513761,-4386153.207761771],\"y\":[-3203435.9947527107,-2863886.214790241],\"z\":[-4316377.459386529,-4670098.048946674],\"type\":\"scatter3d\"},{\"line\":{\"color\":\"green\",\"width\":6},\"marker\":{\"size\":1},\"x\":[-4484069.965513761,-4163779.2536913496],\"y\":[-3203435.9947527107,-2974619.13798466],\"z\":[-4316377.459386529,-4008064.783716063],\"type\":\"scatter3d\"},{\"line\":{\"color\":\"red\",\"width\":6},\"marker\":{\"size\":1},\"x\":[-2599880.8268683176,-2146090.485084078],\"y\":[-4314109.722052129,-4513481.476441593],\"z\":[-4860974.901414095,-4926741.376574395],\"type\":\"scatter3d\"},{\"line\":{\"color\":\"blue\",\"width\":6},\"marker\":{\"size\":1},\"x\":[-2599880.8268683176,-2501964.069116328],\"y\":[-4314109.722052129,-3974559.942089659],\"z\":[-4860974.901414095,-5214695.49097424],\"type\":\"scatter3d\"},{\"line\":{\"color\":\"green\",\"width\":6},\"marker\":{\"size\":1},\"x\":[-2599880.8268683176,-2414175.0535205803],\"y\":[-4314109.722052129,-4005959.027619834],\"z\":[-4860974.901414095,-4513762.408455946],\"type\":\"scatter3d\"},{\"line\":{\"color\":\"red\",\"width\":6},\"marker\":{\"size\":1},\"x\":[-446134.3879921045,43147.55455807742],\"y\":[-4977493.805319538,-5068601.529621415],\"z\":[-4901583.369265126,-4853598.337569255],\"type\":\"scatter3d\"},{\"line\":{\"color\":\"blue\",\"width\":6},\"marker\":{\"size\":1},\"x\":[-446134.3879921045,-348217.6302401147],\"y\":[-4977493.805319538,-4637944.0253570685],\"z\":[-4901583.369265126,-5255303.958825271],\"type\":\"scatter3d\"},{\"line\":{\"color\":\"green\",\"width\":6},\"marker\":{\"size\":1},\"x\":[-446134.3879921045,-414267.64599266846],\"y\":[-4977493.805319538,-4621958.533511],\"z\":[-4901583.369265126,-4551470.271460474],\"type\":\"scatter3d\"},{\"line\":{\"color\":\"red\",\"width\":6},\"marker\":{\"size\":1},\"x\":[1753867.5484147687,2227912.028259029],\"y\":[-5124808.1602319805,-5098205.74755584],\"z\":[-4433992.55112559,-4277231.131225817],\"type\":\"scatter3d\"},{\"line\":{\"color\":\"blue\",\"width\":6},\"marker\":{\"size\":1},\"x\":[1753867.5484147687,1851784.3061667585],\"y\":[-5124808.1602319805,-4785258.380269511],\"z\":[-4433992.55112559,-4787713.140685734],\"type\":\"scatter3d\"},{\"line\":{\"color\":\"green\",\"width\":6},\"marker\":{\"size\":1},\"x\":[1753867.5484147687,1628591.2949565707],\"y\":[-5124808.1602319805,-4758750.434501125],\"z\":[-4433992.55112559,-4117278.7974737617],\"type\":\"scatter3d\"},{\"line\":{\"color\":\"red\",\"width\":6},\"marker\":{\"size\":1},\"x\":[3772027.380203917,4181685.1637098715],\"y\":[-4740779.140634199,-4599224.746071803],\"z\":[-3506682.5608713995,-3257397.8766385685],\"type\":\"scatter3d\"},{\"line\":{\"color\":\"blue\",\"width\":6},\"marker\":{\"size\":1},\"x\":[3772027.380203917,3869944.137955907],\"y\":[-4740779.140634199,-4401229.360671729],\"z\":[-3506682.5608713995,-3860403.1504315445],\"type\":\"scatter3d\"},{\"line\":{\"color\":\"green\",\"width\":6},\"marker\":{\"size\":1},\"x\":[3772027.380203917,3502596.8530464945],\"y\":[-4740779.140634199,-4402152.059160328],\"z\":[-3506682.5608713995,-3256205.235094871],\"type\":\"scatter3d\"},{\"line\":{\"color\":\"red\",\"width\":6},\"marker\":{\"size\":1},\"x\":[5399101.010465525,5701898.517690899],\"y\":[-3865223.1199011668,-3623393.1932496405],\"z\":[-2215797.488980346,-1899835.53526785],\"type\":\"scatter3d\"},{\"line\":{\"color\":\"blue\",\"width\":6},\"marker\":{\"size\":1},\"x\":[5399101.010465525,5497017.768217515],\"y\":[-3865223.1199011668,-3525673.339938697],\"z\":[-2215797.488980346,-2569518.078540491],\"type\":\"scatter3d\"},{\"line\":{\"color\":\"green\",\"width\":6},\"marker\":{\"size\":1},\"x\":[5399101.010465525,5013450.938289416],\"y\":[-3865223.1199011668,-3589135.75419394],\"z\":[-2215797.488980346,-2057526.2397674639],\"type\":\"scatter3d\"},{\"line\":{\"color\":\"red\",\"width\":6},\"marker\":{\"size\":1},\"x\":[6466392.408782569,6630935.401298907],\"y\":[-2588918.3039839175,-2271885.926082011],\"z\":[-695177.1219884553,-345297.0354221705],\"type\":\"scatter3d\"},{\"line\":{\"color\":\"blue\",\"width\":6},\"marker\":{\"size\":1},\"x\":[6466392.408782569,6564309.166534559],\"y\":[-2588918.3039839175,-2249368.5240214476],\"z\":[-695177.1219884553,-1048897.7115486003],\"type\":\"scatter3d\"},{\"line\":{\"color\":\"green\",\"width\":6},\"marker\":{\"size\":1},\"x\":[6466392.408782569,6004507.2367266705],\"y\":[-2588918.3039839175,-2403995.567985066],\"z\":[-695177.1219884553,-645521.6132749942],\"type\":\"scatter3d\"},{\"line\":{\"color\":\"red\",\"width\":6},\"marker\":{\"size\":1},\"x\":[6722559.543134285,6821740.002889866],\"y\":[-1951165.726339791,-1611633.3505418804],\"z\":[-12062.229105428793,341322.8330968354],\"type\":\"scatter3d\"},{\"line\":{\"color\":\"blue\",\"width\":6},\"marker\":{\"size\":1},\"x\":[6722559.543134285,6820476.300886275],\"y\":[-1951165.726339791,-1611615.9463773211],\"z\":[-12062.229105428793,-365782.8186655736],\"type\":\"scatter3d\"},{\"line\":{\"color\":\"green\",\"width\":6},\"marker\":{\"size\":1},\"x\":[6722559.543134285,6242376.718624693],\"y\":[-1951165.726339791,-1811796.7458869487],\"z\":[-12062.229105428793,-11200.641312183825],\"type\":\"scatter3d\"}],                        {\"scene\":{\"aspectmode\":\"manual\",\"aspectratio\":{\"x\":1,\"y\":1,\"z\":1},\"camera\":{\"eye\":{\"x\":-1.7428,\"y\":1.0707,\"z\":0.71},\"up\":{\"x\":0,\"y\":0,\"z\":1}},\"xaxis\":{\"backgroundcolor\":\"rgb(230, 230,230)\",\"gridcolor\":\"rgb(255, 255, 255)\",\"showbackground\":true,\"zerolinecolor\":\"rgb(255, 255, 255)\"},\"yaxis\":{\"backgroundcolor\":\"rgb(230, 230,230)\",\"gridcolor\":\"rgb(255, 255, 255)\",\"showbackground\":true,\"zerolinecolor\":\"rgb(255, 255, 255)\"},\"zaxis\":{\"backgroundcolor\":\"rgb(230, 230,230)\",\"gridcolor\":\"rgb(255, 255, 255)\",\"showbackground\":true,\"zerolinecolor\":\"rgb(255, 255, 255)\"}},\"showlegend\":false,\"template\":{\"data\":{\"bar\":[{\"error_x\":{\"color\":\"#2a3f5f\"},\"error_y\":{\"color\":\"#2a3f5f\"},\"marker\":{\"line\":{\"color\":\"#E5ECF6\",\"width\":0.5},\"pattern\":{\"fillmode\":\"overlay\",\"size\":10,\"solidity\":0.2}},\"type\":\"bar\"}],\"barpolar\":[{\"marker\":{\"line\":{\"color\":\"#E5ECF6\",\"width\":0.5},\"pattern\":{\"fillmode\":\"overlay\",\"size\":10,\"solidity\":0.2}},\"type\":\"barpolar\"}],\"carpet\":[{\"aaxis\":{\"endlinecolor\":\"#2a3f5f\",\"gridcolor\":\"white\",\"linecolor\":\"white\",\"minorgridcolor\":\"white\",\"startlinecolor\":\"#2a3f5f\"},\"baxis\":{\"endlinecolor\":\"#2a3f5f\",\"gridcolor\":\"white\",\"linecolor\":\"white\",\"minorgridcolor\":\"white\",\"startlinecolor\":\"#2a3f5f\"},\"type\":\"carpet\"}],\"choropleth\":[{\"colorbar\":{\"outlinewidth\":0,\"ticks\":\"\"},\"type\":\"choropleth\"}],\"contour\":[{\"colorbar\":{\"outlinewidth\":0,\"ticks\":\"\"},\"colorscale\":[[0.0,\"#0d0887\"],[0.1111111111111111,\"#46039f\"],[0.2222222222222222,\"#7201a8\"],[0.3333333333333333,\"#9c179e\"],[0.4444444444444444,\"#bd3786\"],[0.5555555555555556,\"#d8576b\"],[0.6666666666666666,\"#ed7953\"],[0.7777777777777778,\"#fb9f3a\"],[0.8888888888888888,\"#fdca26\"],[1.0,\"#f0f921\"]],\"type\":\"contour\"}],\"contourcarpet\":[{\"colorbar\":{\"outlinewidth\":0,\"ticks\":\"\"},\"type\":\"contourcarpet\"}],\"heatmap\":[{\"colorbar\":{\"outlinewidth\":0,\"ticks\":\"\"},\"colorscale\":[[0.0,\"#0d0887\"],[0.1111111111111111,\"#46039f\"],[0.2222222222222222,\"#7201a8\"],[0.3333333333333333,\"#9c179e\"],[0.4444444444444444,\"#bd3786\"],[0.5555555555555556,\"#d8576b\"],[0.6666666666666666,\"#ed7953\"],[0.7777777777777778,\"#fb9f3a\"],[0.8888888888888888,\"#fdca26\"],[1.0,\"#f0f921\"]],\"type\":\"heatmap\"}],\"heatmapgl\":[{\"colorbar\":{\"outlinewidth\":0,\"ticks\":\"\"},\"colorscale\":[[0.0,\"#0d0887\"],[0.1111111111111111,\"#46039f\"],[0.2222222222222222,\"#7201a8\"],[0.3333333333333333,\"#9c179e\"],[0.4444444444444444,\"#bd3786\"],[0.5555555555555556,\"#d8576b\"],[0.6666666666666666,\"#ed7953\"],[0.7777777777777778,\"#fb9f3a\"],[0.8888888888888888,\"#fdca26\"],[1.0,\"#f0f921\"]],\"type\":\"heatmapgl\"}],\"histogram\":[{\"marker\":{\"pattern\":{\"fillmode\":\"overlay\",\"size\":10,\"solidity\":0.2}},\"type\":\"histogram\"}],\"histogram2d\":[{\"colorbar\":{\"outlinewidth\":0,\"ticks\":\"\"},\"colorscale\":[[0.0,\"#0d0887\"],[0.1111111111111111,\"#46039f\"],[0.2222222222222222,\"#7201a8\"],[0.3333333333333333,\"#9c179e\"],[0.4444444444444444,\"#bd3786\"],[0.5555555555555556,\"#d8576b\"],[0.6666666666666666,\"#ed7953\"],[0.7777777777777778,\"#fb9f3a\"],[0.8888888888888888,\"#fdca26\"],[1.0,\"#f0f921\"]],\"type\":\"histogram2d\"}],\"histogram2dcontour\":[{\"colorbar\":{\"outlinewidth\":0,\"ticks\":\"\"},\"colorscale\":[[0.0,\"#0d0887\"],[0.1111111111111111,\"#46039f\"],[0.2222222222222222,\"#7201a8\"],[0.3333333333333333,\"#9c179e\"],[0.4444444444444444,\"#bd3786\"],[0.5555555555555556,\"#d8576b\"],[0.6666666666666666,\"#ed7953\"],[0.7777777777777778,\"#fb9f3a\"],[0.8888888888888888,\"#fdca26\"],[1.0,\"#f0f921\"]],\"type\":\"histogram2dcontour\"}],\"mesh3d\":[{\"colorbar\":{\"outlinewidth\":0,\"ticks\":\"\"},\"type\":\"mesh3d\"}],\"parcoords\":[{\"line\":{\"colorbar\":{\"outlinewidth\":0,\"ticks\":\"\"}},\"type\":\"parcoords\"}],\"pie\":[{\"automargin\":true,\"type\":\"pie\"}],\"scatter\":[{\"marker\":{\"colorbar\":{\"outlinewidth\":0,\"ticks\":\"\"}},\"type\":\"scatter\"}],\"scatter3d\":[{\"line\":{\"colorbar\":{\"outlinewidth\":0,\"ticks\":\"\"}},\"marker\":{\"colorbar\":{\"outlinewidth\":0,\"ticks\":\"\"}},\"type\":\"scatter3d\"}],\"scattercarpet\":[{\"marker\":{\"colorbar\":{\"outlinewidth\":0,\"ticks\":\"\"}},\"type\":\"scattercarpet\"}],\"scattergeo\":[{\"marker\":{\"colorbar\":{\"outlinewidth\":0,\"ticks\":\"\"}},\"type\":\"scattergeo\"}],\"scattergl\":[{\"marker\":{\"colorbar\":{\"outlinewidth\":0,\"ticks\":\"\"}},\"type\":\"scattergl\"}],\"scattermapbox\":[{\"marker\":{\"colorbar\":{\"outlinewidth\":0,\"ticks\":\"\"}},\"type\":\"scattermapbox\"}],\"scatterpolar\":[{\"marker\":{\"colorbar\":{\"outlinewidth\":0,\"ticks\":\"\"}},\"type\":\"scatterpolar\"}],\"scatterpolargl\":[{\"marker\":{\"colorbar\":{\"outlinewidth\":0,\"ticks\":\"\"}},\"type\":\"scatterpolargl\"}],\"scatterternary\":[{\"marker\":{\"colorbar\":{\"outlinewidth\":0,\"ticks\":\"\"}},\"type\":\"scatterternary\"}],\"surface\":[{\"colorbar\":{\"outlinewidth\":0,\"ticks\":\"\"},\"colorscale\":[[0.0,\"#0d0887\"],[0.1111111111111111,\"#46039f\"],[0.2222222222222222,\"#7201a8\"],[0.3333333333333333,\"#9c179e\"],[0.4444444444444444,\"#bd3786\"],[0.5555555555555556,\"#d8576b\"],[0.6666666666666666,\"#ed7953\"],[0.7777777777777778,\"#fb9f3a\"],[0.8888888888888888,\"#fdca26\"],[1.0,\"#f0f921\"]],\"type\":\"surface\"}],\"table\":[{\"cells\":{\"fill\":{\"color\":\"#EBF0F8\"},\"line\":{\"color\":\"white\"}},\"header\":{\"fill\":{\"color\":\"#C8D4E3\"},\"line\":{\"color\":\"white\"}},\"type\":\"table\"}]},\"layout\":{\"annotationdefaults\":{\"arrowcolor\":\"#2a3f5f\",\"arrowhead\":0,\"arrowwidth\":1},\"autotypenumbers\":\"strict\",\"coloraxis\":{\"colorbar\":{\"outlinewidth\":0,\"ticks\":\"\"}},\"colorscale\":{\"diverging\":[[0,\"#8e0152\"],[0.1,\"#c51b7d\"],[0.2,\"#de77ae\"],[0.3,\"#f1b6da\"],[0.4,\"#fde0ef\"],[0.5,\"#f7f7f7\"],[0.6,\"#e6f5d0\"],[0.7,\"#b8e186\"],[0.8,\"#7fbc41\"],[0.9,\"#4d9221\"],[1,\"#276419\"]],\"sequential\":[[0.0,\"#0d0887\"],[0.1111111111111111,\"#46039f\"],[0.2222222222222222,\"#7201a8\"],[0.3333333333333333,\"#9c179e\"],[0.4444444444444444,\"#bd3786\"],[0.5555555555555556,\"#d8576b\"],[0.6666666666666666,\"#ed7953\"],[0.7777777777777778,\"#fb9f3a\"],[0.8888888888888888,\"#fdca26\"],[1.0,\"#f0f921\"]],\"sequentialminus\":[[0.0,\"#0d0887\"],[0.1111111111111111,\"#46039f\"],[0.2222222222222222,\"#7201a8\"],[0.3333333333333333,\"#9c179e\"],[0.4444444444444444,\"#bd3786\"],[0.5555555555555556,\"#d8576b\"],[0.6666666666666666,\"#ed7953\"],[0.7777777777777778,\"#fb9f3a\"],[0.8888888888888888,\"#fdca26\"],[1.0,\"#f0f921\"]]},\"colorway\":[\"#636efa\",\"#EF553B\",\"#00cc96\",\"#ab63fa\",\"#FFA15A\",\"#19d3f3\",\"#FF6692\",\"#B6E880\",\"#FF97FF\",\"#FECB52\"],\"font\":{\"color\":\"#2a3f5f\"},\"geo\":{\"bgcolor\":\"white\",\"lakecolor\":\"white\",\"landcolor\":\"#E5ECF6\",\"showlakes\":true,\"showland\":true,\"subunitcolor\":\"white\"},\"hoverlabel\":{\"align\":\"left\"},\"hovermode\":\"closest\",\"mapbox\":{\"style\":\"light\"},\"paper_bgcolor\":\"white\",\"plot_bgcolor\":\"#E5ECF6\",\"polar\":{\"angularaxis\":{\"gridcolor\":\"white\",\"linecolor\":\"white\",\"ticks\":\"\"},\"bgcolor\":\"#E5ECF6\",\"radialaxis\":{\"gridcolor\":\"white\",\"linecolor\":\"white\",\"ticks\":\"\"}},\"scene\":{\"xaxis\":{\"backgroundcolor\":\"#E5ECF6\",\"gridcolor\":\"white\",\"gridwidth\":2,\"linecolor\":\"white\",\"showbackground\":true,\"ticks\":\"\",\"zerolinecolor\":\"white\"},\"yaxis\":{\"backgroundcolor\":\"#E5ECF6\",\"gridcolor\":\"white\",\"gridwidth\":2,\"linecolor\":\"white\",\"showbackground\":true,\"ticks\":\"\",\"zerolinecolor\":\"white\"},\"zaxis\":{\"backgroundcolor\":\"#E5ECF6\",\"gridcolor\":\"white\",\"gridwidth\":2,\"linecolor\":\"white\",\"showbackground\":true,\"ticks\":\"\",\"zerolinecolor\":\"white\"}},\"shapedefaults\":{\"line\":{\"color\":\"#2a3f5f\"}},\"ternary\":{\"aaxis\":{\"gridcolor\":\"white\",\"linecolor\":\"white\",\"ticks\":\"\"},\"baxis\":{\"gridcolor\":\"white\",\"linecolor\":\"white\",\"ticks\":\"\"},\"bgcolor\":\"#E5ECF6\",\"caxis\":{\"gridcolor\":\"white\",\"linecolor\":\"white\",\"ticks\":\"\"}},\"title\":{\"x\":0.05},\"xaxis\":{\"automargin\":true,\"gridcolor\":\"white\",\"linecolor\":\"white\",\"ticks\":\"\",\"title\":{\"standoff\":15},\"zerolinecolor\":\"white\",\"zerolinewidth\":2},\"yaxis\":{\"automargin\":true,\"gridcolor\":\"white\",\"linecolor\":\"white\",\"ticks\":\"\",\"title\":{\"standoff\":15},\"zerolinecolor\":\"white\",\"zerolinewidth\":2}}}},                        {\"responsive\": true}                    ).then(function(){\n",
       "                            \n",
       "var gd = document.getElementById('5f175691-205b-4bb7-9dbd-6dfcdec8323c');\n",
       "var x = new MutationObserver(function (mutations, observer) {{\n",
       "        var display = window.getComputedStyle(gd).display;\n",
       "        if (!display || display === 'none') {{\n",
       "            console.log([gd, 'removed!']);\n",
       "            Plotly.purge(gd);\n",
       "            observer.disconnect();\n",
       "        }}\n",
       "}});\n",
       "\n",
       "// Listen for the removal of the full notebook cells\n",
       "var notebookContainer = gd.closest('#notebook-container');\n",
       "if (notebookContainer) {{\n",
       "    x.observe(notebookContainer, {childList: true});\n",
       "}}\n",
       "\n",
       "// Listen for the clearing of the current output cell\n",
       "var outputEl = gd.closest('.output');\n",
       "if (outputEl) {{\n",
       "    x.observe(outputEl, {childList: true});\n",
       "}}\n",
       "\n",
       "                        })                };                });            </script>        </div>"
      ]
     },
     "metadata": {},
     "output_type": "display_data"
    }
   ],
   "source": [
    "figure = go.Figure(\n",
    "    data = [\n",
    "        earth_data(),\n",
    "        orbit_data(states),\n",
    "        *frame_data(body_frame, instants, scale = 500000)\n",
    "    ],\n",
    "    layout = go.Layout(\n",
    "        title = None,\n",
    "        showlegend = False,\n",
    "        scene = dict(\n",
    "            xaxis = dict(\n",
    "                gridcolor = 'rgb(255, 255, 255)',\n",
    "                zerolinecolor = 'rgb(255, 255, 255)',\n",
    "                showbackground = True,\n",
    "                backgroundcolor = 'rgb(230, 230,230)'\n",
    "            ),\n",
    "            yaxis = dict(\n",
    "                gridcolor = 'rgb(255, 255, 255)',\n",
    "                zerolinecolor = 'rgb(255, 255, 255)',\n",
    "                showbackground = True,\n",
    "                backgroundcolor = 'rgb(230, 230,230)'\n",
    "            ),\n",
    "            zaxis = dict(\n",
    "                gridcolor = 'rgb(255, 255, 255)',\n",
    "                zerolinecolor = 'rgb(255, 255, 255)',\n",
    "                showbackground = True,\n",
    "                backgroundcolor = 'rgb(230, 230,230)'\n",
    "            ),\n",
    "            camera = dict(\n",
    "                up = dict(\n",
    "                    x = 0,\n",
    "                    y = 0,\n",
    "                    z = 1\n",
    "                ),\n",
    "                eye = dict(\n",
    "                    x = -1.7428,\n",
    "                    y = 1.0707,\n",
    "                    z = 0.7100,\n",
    "                )\n",
    "            ),\n",
    "            aspectratio = dict(x = 1, y = 1, z = 1),\n",
    "            aspectmode = 'manual'\n",
    "        )\n",
    "    )\n",
    ")\n",
    "\n",
    "figure.show()"
   ]
  },
  {
   "cell_type": "markdown",
   "metadata": {},
   "source": [
    "---"
   ]
  }
 ],
 "metadata": {
  "kernelspec": {
   "display_name": "Python 3 (ipykernel)",
   "language": "python",
   "name": "python3"
  },
  "language_info": {
   "codemirror_mode": {
    "name": "ipython",
    "version": 3
   },
   "file_extension": ".py",
   "mimetype": "text/x-python",
   "name": "python",
   "nbconvert_exporter": "python",
   "pygments_lexer": "ipython3",
   "version": "3.9.10"
  }
 },
 "nbformat": 4,
 "nbformat_minor": 4
}
