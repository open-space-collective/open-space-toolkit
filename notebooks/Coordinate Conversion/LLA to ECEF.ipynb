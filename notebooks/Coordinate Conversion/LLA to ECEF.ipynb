{
 "cells": [
  {
   "cell_type": "markdown",
   "id": "1df2d753-3542-4a06-b700-632d59a4541a",
   "metadata": {},
   "source": [
    "# LLA to ECEF Converter"
   ]
  },
  {
   "cell_type": "markdown",
   "id": "80200afc-988a-4396-8ac2-9019f8df4991",
   "metadata": {},
   "source": [
    "Convert **Latitude, Longitude and Altitude (LLA)** coordinates to **Earth-Centered, Earth-Fixed (ECEF)** coordinates.\n",
    "\n",
    "*Note: Geodetic latitude (WGS84) is used here.*"
   ]
  },
  {
   "cell_type": "code",
   "execution_count": 1,
   "id": "4d7d9823-9667-4807-8a9c-852eafcd7312",
   "metadata": {},
   "outputs": [],
   "source": [
    "from ostk.physics.units import Length\n",
    "from ostk.physics.units import Angle\n",
    "from ostk.physics.coordinate.spherical import LLA\n",
    "from ostk.physics import Environment"
   ]
  },
  {
   "cell_type": "markdown",
   "id": "40e49199-ee09-4eeb-bb8a-4e5a028b669d",
   "metadata": {},
   "source": [
    "---"
   ]
  },
  {
   "cell_type": "code",
   "execution_count": 2,
   "id": "30fa82fa-5366-4988-a9c8-e39b34a6d7e2",
   "metadata": {},
   "outputs": [],
   "source": [
    "environment = Environment.default()\n",
    "earth = environment.access_celestial_object_with_name(\"Earth\")"
   ]
  },
  {
   "cell_type": "code",
   "execution_count": 3,
   "id": "54ab52ef-2713-4e89-8830-e108723d1258",
   "metadata": {},
   "outputs": [],
   "source": [
    "lla = LLA(Angle.degrees(65.0), Angle.degrees(-30.0), Length.meters(30.0))"
   ]
  },
  {
   "cell_type": "code",
   "execution_count": 4,
   "id": "b76d0811-f5be-4b3d-becb-1162f35d005c",
   "metadata": {},
   "outputs": [],
   "source": [
    "x_ECEF = lla.to_cartesian(earth.get_equatorial_radius(), earth.get_flattening())"
   ]
  },
  {
   "cell_type": "code",
   "execution_count": 5,
   "id": "290445ed-346a-47ca-8df1-311ffacc6783",
   "metadata": {},
   "outputs": [
    {
     "name": "stdout",
     "output_type": "stream",
     "text": [
      "[ 2340841.98864643 -1351485.7522754   5757737.03072958]\n"
     ]
    }
   ],
   "source": [
    "print(x_ECEF)"
   ]
  },
  {
   "cell_type": "markdown",
   "id": "7ce5c980-97d3-44d2-805a-f0765ab264a9",
   "metadata": {},
   "source": [
    "---"
   ]
  }
 ],
 "metadata": {
  "kernelspec": {
   "display_name": "Python 3 (ipykernel)",
   "language": "python",
   "name": "python3"
  },
  "language_info": {
   "codemirror_mode": {
    "name": "ipython",
    "version": 3
   },
   "file_extension": ".py",
   "mimetype": "text/x-python",
   "name": "python",
   "nbconvert_exporter": "python",
   "pygments_lexer": "ipython3",
   "version": "3.11.6"
  }
 },
 "nbformat": 4,
 "nbformat_minor": 5
}
