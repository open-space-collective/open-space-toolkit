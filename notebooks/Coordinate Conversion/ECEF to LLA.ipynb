{
 "cells": [
  {
   "cell_type": "markdown",
   "id": "1df2d753-3542-4a06-b700-632d59a4541a",
   "metadata": {},
   "source": [
    "# ECEF to LLA Converter"
   ]
  },
  {
   "cell_type": "markdown",
   "id": "fd4e313a-958e-44da-bec6-c9fa131646f2",
   "metadata": {},
   "source": [
    "Convert **Earth-Centered, Earth-Fixed (ECEF)** coordinates to **Latitude, Longitude and Altitude (LLA)** coordinates.\n",
    "\n",
    "*Note: Geodetic latitude (WGS84) is used here.*"
   ]
  },
  {
   "cell_type": "code",
   "execution_count": 1,
   "id": "c956dfdc-4353-4397-9599-13c19bf3851c",
   "metadata": {},
   "outputs": [],
   "source": [
    "import ostk.physics"
   ]
  },
  {
   "cell_type": "code",
   "execution_count": 2,
   "id": "4d7d9823-9667-4807-8a9c-852eafcd7312",
   "metadata": {},
   "outputs": [],
   "source": [
    "LLA = ostk.physics.coordinate.spherical.LLA\n",
    "Earth = ostk.physics.environment.objects.celestial_bodies.Earth"
   ]
  },
  {
   "cell_type": "markdown",
   "id": "40e49199-ee09-4eeb-bb8a-4e5a028b669d",
   "metadata": {},
   "source": [
    "---"
   ]
  },
  {
   "cell_type": "code",
   "execution_count": 3,
   "id": "9ac7e14f-27ad-4d22-83c0-49853679e703",
   "metadata": {},
   "outputs": [],
   "source": [
    "x_ECEF = (2340841.98864643, -1351485.7522754, 5757737.03072958)"
   ]
  },
  {
   "cell_type": "code",
   "execution_count": 4,
   "id": "3af1bb65-1836-4c95-b8ce-979cef1b7bf2",
   "metadata": {},
   "outputs": [],
   "source": [
    "lla = LLA.cartesian(x_ECEF, Earth.equatorial_radius, Earth.flattening)"
   ]
  },
  {
   "cell_type": "code",
   "execution_count": null,
   "id": "2adae585-5552-4acf-94bf-e093239c0d17",
   "metadata": {},
   "outputs": [],
   "source": [
    "print(lla)"
   ]
  },
  {
   "cell_type": "markdown",
   "id": "7ce5c980-97d3-44d2-805a-f0765ab264a9",
   "metadata": {},
   "source": [
    "---"
   ]
  }
 ],
 "metadata": {
  "kernelspec": {
   "display_name": "Python 3 (ipykernel)",
   "language": "python",
   "name": "python3"
  },
  "language_info": {
   "codemirror_mode": {
    "name": "ipython",
    "version": 3
   },
   "file_extension": ".py",
   "mimetype": "text/x-python",
   "name": "python",
   "nbconvert_exporter": "python",
   "pygments_lexer": "ipython3",
   "version": "3.9.10"
  }
 },
 "nbformat": 4,
 "nbformat_minor": 5
}
