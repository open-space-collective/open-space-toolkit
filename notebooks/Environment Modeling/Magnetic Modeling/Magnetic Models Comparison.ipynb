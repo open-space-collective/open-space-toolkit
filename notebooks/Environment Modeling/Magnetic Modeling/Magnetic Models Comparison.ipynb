{
 "cells": [
  {
   "cell_type": "markdown",
   "metadata": {},
   "source": [
    "# Magnetic Models Comparison"
   ]
  },
  {
   "cell_type": "markdown",
   "metadata": {},
   "source": [
    "In this tutorial, we'll compare various **Magnetic Models**."
   ]
  },
  {
   "cell_type": "markdown",
   "metadata": {},
   "source": [
    "## Setup"
   ]
  },
  {
   "cell_type": "markdown",
   "metadata": {},
   "source": [
    "Let's import the necessary libraries:"
   ]
  },
  {
   "cell_type": "code",
   "execution_count": 1,
   "metadata": {},
   "outputs": [],
   "source": [
    "import math\n",
    "import numpy as np\n",
    "import pandas as pd\n",
    "\n",
    "%matplotlib widget\n",
    "import matplotlib.pyplot as plt\n",
    "from matplotlib.patches import Circle\n",
    "from mpl_toolkits.mplot3d import Axes3D\n",
    "\n",
    "from ostk.physics.time import Scale\n",
    "from ostk.physics.time import Instant\n",
    "from ostk.physics.time import DateTime\n",
    "from ostk.physics.environment.objects.celestial_bodies import Earth\n",
    "from ostk.physics.environment.magnetic import Dipole as DipoleModel\n",
    "from ostk.physics.environment.magnetic import Earth as EarthMagneticModel"
   ]
  },
  {
   "cell_type": "markdown",
   "metadata": {},
   "source": [
    "## Comparison"
   ]
  },
  {
   "cell_type": "markdown",
   "metadata": {},
   "source": [
    "Let's set up some magnetic models:"
   ]
  },
  {
   "cell_type": "code",
   "execution_count": 4,
   "metadata": {},
   "outputs": [
    {
     "name": "stdout",
     "output_type": "stream",
     "text": [
      "<class 'ostk.physics.environment.magnetic.Earth'>\n"
     ]
    }
   ],
   "source": [
    "print(EarthMagneticModel)\n",
    "type(DipoleModel)\n",
    "magnetic_models = {\n",
    "    EarthMagneticModel.EarthMagneticType.Dipole: None,                 # Change \"EarthMagneticType\" to \"Type\" in python bindings \n",
    "    EarthMagneticModel.EarthMagneticType.EMM2010: None,\n",
    "    EarthMagneticModel.EarthMagneticType.EMM2015: None,\n",
    "    EarthMagneticModel.EarthMagneticType.EMM2017: None,\n",
    "    EarthMagneticModel.EarthMagneticType.IGRF11: None,\n",
    "    EarthMagneticModel.EarthMagneticType.IGRF12: None,\n",
    "    EarthMagneticModel.EarthMagneticType.WMM2010: None,\n",
    "    EarthMagneticModel.EarthMagneticType.WMM2015: None\n",
    "}"
   ]
  },
  {
   "cell_type": "code",
   "execution_count": 3,
   "metadata": {},
   "outputs": [
    {
     "name": "stdout",
     "output_type": "stream",
     "text": [
      "Fetching magnetic data file from [https://storage.googleapis.com/open-space-collective/library/physics/environment/magnetic/earth/emm2010.zip]...\n"
     ]
    },
    {
     "name": "stderr",
     "output_type": "stream",
     "text": [
      "/open-space-toolkit/physics/environment/gravitational/earth/emm2010.zip: Permission denied\n"
     ]
    },
    {
     "ename": "RuntimeError",
     "evalue": "File [/open-space-toolkit/physics/environment/gravitational/earth/.lock] does not exist.",
     "output_type": "error",
     "traceback": [
      "\u001b[0;31m---------------------------------------------------------------------------\u001b[0m",
      "\u001b[0;31mRuntimeError\u001b[0m                              Traceback (most recent call last)",
      "Input \u001b[0;32mIn [3]\u001b[0m, in \u001b[0;36m<cell line: 6>\u001b[0;34m()\u001b[0m\n\u001b[1;32m      3\u001b[0m         \u001b[38;5;28;01mif\u001b[39;00m magnetic_models[key] \u001b[38;5;129;01mis\u001b[39;00m \u001b[38;5;28;01mNone\u001b[39;00m:\n\u001b[1;32m      4\u001b[0m             magnetic_models[key] \u001b[38;5;241m=\u001b[39m EarthMagneticModel(key)\n\u001b[0;32m----> 6\u001b[0m \u001b[43minit_magnetic_models\u001b[49m\u001b[43m(\u001b[49m\u001b[43mmagnetic_models\u001b[49m\u001b[43m)\u001b[49m\n",
      "Input \u001b[0;32mIn [3]\u001b[0m, in \u001b[0;36minit_magnetic_models\u001b[0;34m(magnetic_models)\u001b[0m\n\u001b[1;32m      2\u001b[0m \u001b[38;5;28;01mfor\u001b[39;00m key \u001b[38;5;129;01min\u001b[39;00m magnetic_models:        \n\u001b[1;32m      3\u001b[0m     \u001b[38;5;28;01mif\u001b[39;00m magnetic_models[key] \u001b[38;5;129;01mis\u001b[39;00m \u001b[38;5;28;01mNone\u001b[39;00m:\n\u001b[0;32m----> 4\u001b[0m         magnetic_models[key] \u001b[38;5;241m=\u001b[39m \u001b[43mEarthMagneticModel\u001b[49m\u001b[43m(\u001b[49m\u001b[43mkey\u001b[49m\u001b[43m)\u001b[49m\n",
      "\u001b[0;31mRuntimeError\u001b[0m: File [/open-space-toolkit/physics/environment/gravitational/earth/.lock] does not exist."
     ]
    }
   ],
   "source": [
    "def init_magnetic_models (magnetic_models):\n",
    "    for key in magnetic_models:        \n",
    "        if magnetic_models[key] is None:\n",
    "            magnetic_models[key] = EarthMagneticModel(key)\n",
    "\n",
    "init_magnetic_models(magnetic_models)"
   ]
  },
  {
   "cell_type": "code",
   "execution_count": null,
   "metadata": {},
   "outputs": [],
   "source": [
    "instant = Instant.date_time(DateTime(2015, 1, 1, 0, 0, 0), Scale.UTC)"
   ]
  },
  {
   "cell_type": "code",
   "execution_count": 7,
   "metadata": {},
   "outputs": [],
   "source": [
    "def calc_B_2d (magnetic_model, X, Z):\n",
    "    \n",
    "    size_x = len(X)\n",
    "    size_z = len(X[0])\n",
    "    \n",
    "    size = size_x * size_z\n",
    "    \n",
    "    Bx = np.zeros(size)\n",
    "    Bz = np.zeros(size)\n",
    "    \n",
    "    earth_radius_m = Earth.equatorial_radius.in_meters()\n",
    "    \n",
    "    i = 0\n",
    "    \n",
    "    for x, z in np.vstack([X.ravel(), Z.ravel()]).T:\n",
    "        \n",
    "        if math.sqrt(pow(abs(x), 2) + pow(abs(z), 2)) < earth_radius_m:\n",
    "            \n",
    "            Bx[i] = 0.0\n",
    "            Bz[i] = 0.0\n",
    "            \n",
    "        else:\n",
    "\n",
    "            try:\n",
    "\n",
    "                b = magnetic_model.get_field_value_at(np.array((x, 0.0, z)), instant).T[0]\n",
    "\n",
    "                bx = b[0]\n",
    "                bz = b[2]\n",
    "            \n",
    "                Bx[i] = bx\n",
    "                Bz[i] = bz\n",
    "\n",
    "            except Exception as e:\n",
    "\n",
    "                print(e)\n",
    "\n",
    "                print('x = {}'.format(x))\n",
    "                print('z = {}'.format(z))\n",
    "                \n",
    "                raise e\n",
    "            \n",
    "        i += 1\n",
    "        \n",
    "    return Bx.reshape(size_x, size_z), \\\n",
    "           Bz.reshape(size_x, size_z)"
   ]
  },
  {
   "cell_type": "code",
   "execution_count": null,
   "metadata": {},
   "outputs": [],
   "source": [
    "def calc_B_3d (magnetic_model, X, Y, Z):\n",
    "    \n",
    "    size_x = len(X)\n",
    "    size_y = len(X[0])\n",
    "    size_z = len(X[0][0])\n",
    "    \n",
    "    size = size_x * size_y * size_z\n",
    "    \n",
    "    Bx = np.zeros(size)\n",
    "    By = np.zeros(size)\n",
    "    Bz = np.zeros(size)\n",
    "    \n",
    "    earth_radius_m = Earth.equatorial_radius.in_meters()\n",
    "    \n",
    "    i = 0\n",
    "    \n",
    "    for x, y, z in np.vstack([X.ravel(), Y.ravel(), Z.ravel()]).T:\n",
    "        \n",
    "        if math.sqrt(pow(abs(x), 2) + pow(abs(y), 2) + pow(abs(z), 2)) < earth_radius_m:\n",
    "            \n",
    "            Bx[i] = 0.0\n",
    "            By[i] = 0.0\n",
    "            Bz[i] = 0.0\n",
    "            \n",
    "        else:\n",
    "\n",
    "            try:\n",
    "\n",
    "                b = magnetic_model.get_field_value_at(np.array((x, y, z)), instant).T[0]\n",
    "\n",
    "                bx = b[0]\n",
    "                by = b[1]\n",
    "                bz = b[2]\n",
    "\n",
    "                Bx[i] = bx\n",
    "                By[i] = by\n",
    "                Bz[i] = bz\n",
    "\n",
    "            except Exception as e:\n",
    "\n",
    "                print(e)\n",
    "\n",
    "                print('x = {}'.format(x))\n",
    "                print('y = {}'.format(y))\n",
    "                print('z = {}'.format(z))\n",
    "                \n",
    "                raise e\n",
    "            \n",
    "        i += 1\n",
    "        \n",
    "    return Bx.reshape(size_x, size_y, size_z), \\\n",
    "           By.reshape(size_x, size_y, size_z), \\\n",
    "           Bz.reshape(size_x, size_y, size_z)"
   ]
  },
  {
   "cell_type": "markdown",
   "metadata": {},
   "source": [
    "## Display"
   ]
  },
  {
   "cell_type": "markdown",
   "metadata": {},
   "source": [
    "2D plot:"
   ]
  },
  {
   "cell_type": "code",
   "execution_count": null,
   "metadata": {},
   "outputs": [],
   "source": [
    "lim = 100000e3\n",
    "\n",
    "xlim = (-lim, +lim)\n",
    "zlim = (-lim, +lim)\n",
    "\n",
    "(nx, nz) = 64, 64\n",
    "\n",
    "x = np.linspace(xlim[0], xlim[1], nx)\n",
    "z = np.linspace(zlim[0], zlim[1], nz)\n",
    "\n",
    "(X, Z) = np.meshgrid(x, z)\n",
    "\n",
    "(Bx, Bz) = calc_B_2d(magnetic_models[EarthMagneticModel.Type.EMM2015], X, Z)"
   ]
  },
  {
   "cell_type": "code",
   "execution_count": null,
   "metadata": {},
   "outputs": [],
   "source": [
    "fig = plt.figure()\n",
    "\n",
    "ax = fig.add_subplot(111)\n",
    "\n",
    "# Plot Earth circle\n",
    "\n",
    "ax.add_artist(Circle((0.0, 0.0), Earth.equatorial_radius.in_meters(), color = 'b'))\n",
    "\n",
    "# Plot B field\n",
    "\n",
    "color = 2 * np.log(np.hypot(Bx, Bz))\n",
    "\n",
    "ax.streamplot(x, z, Bx, Bz, color=color, linewidth=1, cmap=plt.cm.inferno,\n",
    "              density=2, arrowstyle='->', arrowsize=1.5)\n",
    "\n",
    "ax.set_xlabel('$x_{ITRF}\\ [m]$')\n",
    "ax.set_ylabel('$z_{ITRF}\\ [m]$')\n",
    "ax.set_xlim(xlim[0], xlim[1])\n",
    "ax.set_ylim(zlim[0], zlim[1])\n",
    "ax.set_aspect('equal')\n",
    "\n",
    "plt.show()"
   ]
  },
  {
   "cell_type": "markdown",
   "metadata": {},
   "source": [
    "3D plot:"
   ]
  },
  {
   "cell_type": "code",
   "execution_count": null,
   "metadata": {},
   "outputs": [],
   "source": [
    "lim = 10000e3\n",
    "\n",
    "xlim = (-lim, +lim)\n",
    "ylim = (-lim, +lim)\n",
    "zlim = (-lim, +lim)\n",
    "\n",
    "(nx, ny, nz) = (9, 9, 9)\n",
    "\n",
    "x = np.linspace(xlim[0], xlim[1], nx)\n",
    "y = np.linspace(ylim[0], ylim[1], ny)\n",
    "z = np.linspace(zlim[0], zlim[1], nz)\n",
    "\n",
    "(X, Y, Z) = np.meshgrid(x, y, z)\n",
    "\n",
    "(Bx, By, Bz) = calc_B_3d(magnetic_models[EarthMagneticModel.Type.EMM2010], X, Y, Z)"
   ]
  },
  {
   "cell_type": "code",
   "execution_count": null,
   "metadata": {},
   "outputs": [],
   "source": [
    "fig = plt.figure()\n",
    "\n",
    "ax = fig.gca(projection = '3d')\n",
    "\n",
    "# Plot Earth sphere\n",
    "\n",
    "u = np.linspace(0.0, 2.0 * np.pi, 100)\n",
    "v = np.linspace(0.0, np.pi, 100)\n",
    "\n",
    "earth_radius_m = float(Earth.equatorial_radius.in_meters())\n",
    "\n",
    "x = earth_radius_m * np.outer(np.cos(u), np.sin(v))\n",
    "y = earth_radius_m * np.outer(np.sin(u), np.sin(v))\n",
    "z = earth_radius_m * np.outer(np.ones(np.size(u)), np.cos(v))\n",
    "\n",
    "ax.plot_surface(x, y, z,  rstride = 4, cstride = 4, color = 'b', linewidth = 0, alpha = 1)\n",
    "\n",
    "# Plot B field\n",
    "\n",
    "ax.quiver(X, Y, Z, Bx, By, Bz, length = 1e11, color = 'g')\n",
    "\n",
    "ax.set_xlabel('$x_{ITRF}\\ [m]$')\n",
    "ax.set_ylabel('$y_{ITRF}\\ [m]$')\n",
    "ax.set_zlabel('$z_{ITRF}\\ [m]$')\n",
    "ax.set_xlim(xlim[0], xlim[1])\n",
    "ax.set_ylim(ylim[0], ylim[1])\n",
    "ax.set_zlim(zlim[0], zlim[1])\n",
    "\n",
    "plt.show()"
   ]
  },
  {
   "cell_type": "markdown",
   "metadata": {},
   "source": [
    "---"
   ]
  }
 ],
 "metadata": {
  "kernelspec": {
   "display_name": "Python 3 (ipykernel)",
   "language": "python",
   "name": "python3"
  },
  "language_info": {
   "codemirror_mode": {
    "name": "ipython",
    "version": 3
   },
   "file_extension": ".py",
   "mimetype": "text/x-python",
   "name": "python",
   "nbconvert_exporter": "python",
   "pygments_lexer": "ipython3",
   "version": "3.9.12"
  }
 },
 "nbformat": 4,
 "nbformat_minor": 4
}
