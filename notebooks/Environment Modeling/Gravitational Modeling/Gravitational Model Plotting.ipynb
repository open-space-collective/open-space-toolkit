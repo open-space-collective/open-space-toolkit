{
 "cells": [
  {
   "cell_type": "markdown",
   "metadata": {},
   "source": [
    "# Gravitational Model Plotting"
   ]
  },
  {
   "cell_type": "markdown",
   "metadata": {},
   "source": [
    "In this tutorial, we'll overlay the amplitude of a gravitational field over the globe."
   ]
  },
  {
   "cell_type": "markdown",
   "metadata": {},
   "source": [
    "## Setup"
   ]
  },
  {
   "cell_type": "markdown",
   "metadata": {},
   "source": [
    "Let's import the necessary libraries:"
   ]
  },
  {
   "cell_type": "code",
   "execution_count": null,
   "metadata": {},
   "outputs": [],
   "source": [
    "import math\n",
    "import numpy as np\n",
    "\n",
    "import plotly.graph_objs as go\n",
    "\n",
    "from ostk.physics.units import Length\n",
    "from ostk.physics.units import Angle\n",
    "from ostk.physics.time import Scale\n",
    "from ostk.physics.time import Instant\n",
    "from ostk.physics.time import DateTime\n",
    "from ostk.physics.coordinate.spherical import LLA\n",
    "from ostk.physics import Environment\n",
    "from ostk.physics.environment.objects.celestial_bodies import Earth\n",
    "from ostk.physics.environment.gravitational import Spherical as SphericalGravitationalModel\n",
    "from ostk.physics.environment.gravitational import Earth as EarthGravitationalModel"
   ]
  },
  {
   "cell_type": "markdown",
   "metadata": {},
   "source": [
    "## Computation"
   ]
  },
  {
   "cell_type": "code",
   "execution_count": null,
   "metadata": {},
   "outputs": [],
   "source": [
    "environment = Environment.default()\n",
    "earth = environment.access_celestial_object_with_name(\"Earth\")"
   ]
  },
  {
   "cell_type": "markdown",
   "metadata": {},
   "source": [
    "The considered gravitational model:"
   ]
  },
  {
   "cell_type": "code",
   "execution_count": null,
   "metadata": {},
   "outputs": [],
   "source": [
    "gravitational_model = EarthGravitationalModel(EarthGravitationalModel.Type.EGM96)"
   ]
  },
  {
   "cell_type": "markdown",
   "metadata": {},
   "source": [
    "The reference gravitational model:"
   ]
  },
  {
   "cell_type": "code",
   "execution_count": null,
   "metadata": {},
   "outputs": [],
   "source": [
    "gravitational_model_ref = EarthGravitationalModel(EarthGravitationalModel.Type.WGS84)"
   ]
  },
  {
   "cell_type": "markdown",
   "metadata": {},
   "source": [
    "Generate a latitude-longitude grid:"
   ]
  },
  {
   "cell_type": "code",
   "execution_count": null,
   "metadata": {},
   "outputs": [],
   "source": [
    "density = 1.0\n",
    "\n",
    "longitudes = np.linspace(-180.0, +180.0, int(360 * density + 1))\n",
    "latitudes = np.linspace(-90.0, +90.0, int(180 * density + 1))"
   ]
  },
  {
   "cell_type": "markdown",
   "metadata": {},
   "source": [
    "Compute gravitational anomaly (the absolute difference between the two models):"
   ]
  },
  {
   "cell_type": "code",
   "execution_count": null,
   "metadata": {},
   "outputs": [],
   "source": [
    "instant = Instant.date_time(DateTime(2015, 1, 1, 0, 0, 0), Scale.UTC)"
   ]
  },
  {
   "cell_type": "code",
   "execution_count": null,
   "metadata": {},
   "outputs": [],
   "source": [
    "def ecef_ll (latitude_deg, longitude_deg):\n",
    "    \n",
    "    return LLA(Angle.degrees(latitude_deg), Angle.degrees(longitude_deg), Length.meters(0.0)).to_cartesian(earth.get_equatorial_radius(), earth.get_flattening())"
   ]
  },
  {
   "cell_type": "code",
   "execution_count": null,
   "metadata": {},
   "outputs": [],
   "source": [
    "gravitational_field_magnitudes = []\n",
    "\n",
    "for latitude in latitudes:\n",
    "    \n",
    "    tmp_gravitational_field_magnitudes = []\n",
    "    \n",
    "    for longitude in longitudes:\n",
    "        \n",
    "        gravitational_field = gravitational_model.get_field_value_at(ecef_ll(latitude, longitude), instant).T[0]\n",
    "        gravitational_field_ref = gravitational_model_ref.get_field_value_at(ecef_ll(latitude, longitude), instant).T[0]\n",
    "\n",
    "        gravitational_field_norm = np.linalg.norm(gravitational_field - gravitational_field_ref)\n",
    "\n",
    "        tmp_gravitational_field_magnitudes.append(gravitational_field_norm)\n",
    "        \n",
    "    gravitational_field_magnitudes.append(tmp_gravitational_field_magnitudes)"
   ]
  },
  {
   "cell_type": "markdown",
   "metadata": {},
   "source": [
    "## Display"
   ]
  },
  {
   "cell_type": "markdown",
   "metadata": {},
   "source": [
    "Plot onto a sphere:"
   ]
  },
  {
   "cell_type": "code",
   "execution_count": null,
   "metadata": {},
   "outputs": [],
   "source": [
    "def map_to_sphere(lon, lat, radius = 1):\n",
    "    \n",
    "    '''\n",
    "    Maps points of coords (lon, lat) to points onto a sphere\n",
    "    '''\n",
    "    \n",
    "    deg2rad = lambda deg: deg * np.pi / 180.0\n",
    "    \n",
    "    lon = np.array(lon, dtype = np.float64)\n",
    "    lat = np.array(lat, dtype = np.float64)\n",
    "    \n",
    "    lon = deg2rad(lon)\n",
    "    lat = deg2rad(lat)\n",
    "    \n",
    "    xs = radius * np.cos(lon) * np.cos(lat)\n",
    "    ys = radius * np.sin(lon) * np.cos(lat)\n",
    "    zs = radius * np.sin(lat)\n",
    "\n",
    "    return (xs, ys, zs)"
   ]
  },
  {
   "cell_type": "code",
   "execution_count": null,
   "metadata": {},
   "outputs": [],
   "source": [
    "(XS, YS, ZS) = map_to_sphere(*np.meshgrid(longitudes, latitudes))"
   ]
  },
  {
   "cell_type": "code",
   "execution_count": null,
   "metadata": {},
   "outputs": [],
   "source": [
    "colorscale = [\n",
    "    [0.0, '#313695'],\n",
    "    [0.07692307692307693, '#3a67af'],\n",
    "    [0.15384615384615385, '#5994c5'],\n",
    "    [0.23076923076923078, '#84bbd8'],\n",
    "    [0.3076923076923077, '#afdbea'],\n",
    "    [0.38461538461538464, '#d8eff5'],\n",
    "    [0.46153846153846156, '#d6ffe1'],\n",
    "    [0.5384615384615384, '#fef4ac'],\n",
    "    [0.6153846153846154, '#fed987'],\n",
    "    [0.6923076923076923, '#fdb264'],\n",
    "    [0.7692307692307693, '#f78249'],\n",
    "    [0.8461538461538461, '#e75435'],\n",
    "    [0.9230769230769231, '#cc2727'],\n",
    "    [1.0, '#a50026']\n",
    "]\n",
    "\n",
    "noaxis = dict(\n",
    "    showbackground = False,\n",
    "    showgrid = False,\n",
    "    showline = False,\n",
    "    showticklabels = False,\n",
    "    ticks = '',\n",
    "    title = '',\n",
    "    zeroline = False\n",
    ")"
   ]
  },
  {
   "cell_type": "code",
   "execution_count": null,
   "metadata": {},
   "outputs": [],
   "source": [
    "figure = go.Figure(\n",
    "    data = [\n",
    "        go.Surface(\n",
    "            x = XS, \n",
    "            y = YS, \n",
    "            z = ZS,\n",
    "            surfacecolor = gravitational_field_magnitudes,\n",
    "            colorscale = colorscale,\n",
    "            cmin = np.min(gravitational_field_magnitudes), \n",
    "            cmax = np.max(gravitational_field_magnitudes),\n",
    "            colorbar = go.surface.ColorBar(\n",
    "                title = 'm/s²',\n",
    "                thickness = 20,\n",
    "                len = 0.75,\n",
    "                ticklen = 4\n",
    "            )\n",
    "        )\n",
    "    ],\n",
    "    layout = go.Layout(\n",
    "        title = 'Gravitational field anomaly (altitude: 0, reference: WGS84)',\n",
    "        width = 800, \n",
    "        height = 800,\n",
    "        scene = go.layout.Scene(\n",
    "            xaxis = noaxis, \n",
    "            yaxis = noaxis, \n",
    "            zaxis = noaxis,\n",
    "            aspectratio = go.layout.scene.Aspectratio(\n",
    "                x = 1,\n",
    "                y = 1,\n",
    "                z = 1\n",
    "            ),\n",
    "            camera = dict(\n",
    "                eye = dict(\n",
    "                    x = 1.15, \n",
    "                    y = 1.15, \n",
    "                    z = 1.15\n",
    "                )\n",
    "            )\n",
    "        )\n",
    "    )\n",
    ")\n",
    "\n",
    "figure.show()"
   ]
  },
  {
   "cell_type": "markdown",
   "metadata": {},
   "source": [
    "## References"
   ]
  },
  {
   "cell_type": "markdown",
   "metadata": {},
   "source": [
    "- https://plot.ly/~empet/14813/heatmap-plot-on-a-spherical-map/#/\n",
    "- https://cddis.nasa.gov/926/egm96/egm96.html\n",
    "- https://people.sc.fsu.edu/~lb13f/projects/space_environment/egm96.php\n",
    "- https://plotlyblog.tumblr.com/post/171585173862/how-to-create-2d-and-3d-interactive-weather-maps"
   ]
  },
  {
   "cell_type": "markdown",
   "metadata": {},
   "source": [
    "---"
   ]
  }
 ],
 "metadata": {
  "kernelspec": {
   "display_name": "Python 3 (ipykernel)",
   "language": "python",
   "name": "python3"
  },
  "language_info": {
   "codemirror_mode": {
    "name": "ipython",
    "version": 3
   },
   "file_extension": ".py",
   "mimetype": "text/x-python",
   "name": "python",
   "nbconvert_exporter": "python",
   "pygments_lexer": "ipython3",
   "version": "3.11.3"
  }
 },
 "nbformat": 4,
 "nbformat_minor": 4
}
