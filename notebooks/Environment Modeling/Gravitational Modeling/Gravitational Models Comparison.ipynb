{
 "cells": [
  {
   "cell_type": "markdown",
   "metadata": {},
   "source": [
    "# Gravitational Models Comparison"
   ]
  },
  {
   "cell_type": "markdown",
   "metadata": {},
   "source": [
    "In this tutorial, we'll compare various **Gravitational Models**."
   ]
  },
  {
   "cell_type": "markdown",
   "metadata": {},
   "source": [
    "## Setup"
   ]
  },
  {
   "cell_type": "markdown",
   "metadata": {},
   "source": [
    "Let's import the necessary libraries:"
   ]
  },
  {
   "cell_type": "code",
   "execution_count": 1,
   "metadata": {
    "tags": []
   },
   "outputs": [
    {
     "ename": "ModuleNotFoundError",
     "evalue": "No module named 'ostk.physics.environment.objects.celestial_bodies.earth.models'",
     "output_type": "error",
     "traceback": [
      "\u001b[0;31m---------------------------------------------------------------------------\u001b[0m",
      "\u001b[0;31mModuleNotFoundError\u001b[0m                       Traceback (most recent call last)",
      "Input \u001b[0;32mIn [1]\u001b[0m, in \u001b[0;36m<cell line: 10>\u001b[0;34m()\u001b[0m\n\u001b[1;32m      8\u001b[0m \u001b[38;5;28;01mfrom\u001b[39;00m \u001b[38;5;21;01mostk\u001b[39;00m\u001b[38;5;21;01m.\u001b[39;00m\u001b[38;5;21;01mphysics\u001b[39;00m\u001b[38;5;21;01m.\u001b[39;00m\u001b[38;5;21;01menvironment\u001b[39;00m\u001b[38;5;21;01m.\u001b[39;00m\u001b[38;5;21;01mgravitational\u001b[39;00m \u001b[38;5;28;01mimport\u001b[39;00m Earth \u001b[38;5;28;01mas\u001b[39;00m EarthGravitationalModel\n\u001b[1;32m      9\u001b[0m \u001b[38;5;28;01mfrom\u001b[39;00m \u001b[38;5;21;01mostk\u001b[39;00m\u001b[38;5;21;01m.\u001b[39;00m\u001b[38;5;21;01mphysics\u001b[39;00m\u001b[38;5;21;01m.\u001b[39;00m\u001b[38;5;21;01menvironment\u001b[39;00m\u001b[38;5;21;01m.\u001b[39;00m\u001b[38;5;21;01mgravitational\u001b[39;00m \u001b[38;5;28;01mimport\u001b[39;00m Spherical \u001b[38;5;28;01mas\u001b[39;00m SphericalGravitationalModel\n\u001b[0;32m---> 10\u001b[0m \u001b[38;5;28;01mfrom\u001b[39;00m \u001b[38;5;21;01mostk\u001b[39;00m\u001b[38;5;21;01m.\u001b[39;00m\u001b[38;5;21;01mphysics\u001b[39;00m\u001b[38;5;21;01m.\u001b[39;00m\u001b[38;5;21;01menvironment\u001b[39;00m\u001b[38;5;21;01m.\u001b[39;00m\u001b[38;5;21;01mobjects\u001b[39;00m\u001b[38;5;21;01m.\u001b[39;00m\u001b[38;5;21;01mcelestial_bodies\u001b[39;00m\u001b[38;5;21;01m.\u001b[39;00m\u001b[38;5;21;01mearth\u001b[39;00m\u001b[38;5;21;01m.\u001b[39;00m\u001b[38;5;21;01mmodels\u001b[39;00m \u001b[38;5;28;01mimport\u001b[39;00m WGS84\n",
      "\u001b[0;31mModuleNotFoundError\u001b[0m: No module named 'ostk.physics.environment.objects.celestial_bodies.earth.models'"
     ]
    }
   ],
   "source": [
    "import numpy as np\n",
    "import pandas as pd\n",
    "\n",
    "import plotly.graph_objs as go\n",
    "\n",
    "from ostk.physics.time import Instant\n",
    "from ostk.physics.environment.objects.celestial_bodies import Earth\n",
    "from ostk.physics.environment.gravitational import Earth as EarthGravitationalModel\n",
    "from ostk.physics.environment.gravitational import Spherical as SphericalGravitationalModel\n",
    "from ostk.physics.environment.objects.celestial_bodies.earth.models import WGS84"
   ]
  },
  {
   "cell_type": "markdown",
   "metadata": {},
   "source": [
    "## Computation"
   ]
  },
  {
   "cell_type": "markdown",
   "metadata": {},
   "source": [
    "Let's set up some gravitational models:"
   ]
  },
  {
   "cell_type": "code",
   "execution_count": 5,
   "metadata": {},
   "outputs": [
    {
     "ename": "NameError",
     "evalue": "name 'WGS84' is not defined",
     "output_type": "error",
     "traceback": [
      "\u001b[0;31m---------------------------------------------------------------------------\u001b[0m",
      "\u001b[0;31mNameError\u001b[0m                                 Traceback (most recent call last)",
      "Input \u001b[0;32mIn [5]\u001b[0m, in \u001b[0;36m<cell line: 2>\u001b[0;34m()\u001b[0m\n\u001b[1;32m      1\u001b[0m gravitational_models \u001b[38;5;241m=\u001b[39m [\n\u001b[0;32m----> 2\u001b[0m     SphericalGravitationalModel(\u001b[43mWGS84\u001b[49m\u001b[38;5;241m.\u001b[39mgravitational_parameter),\n\u001b[1;32m      3\u001b[0m     EarthGravitationalModel(EarthGravitationalModel\u001b[38;5;241m.\u001b[39mType\u001b[38;5;241m.\u001b[39mWGS84),\n\u001b[1;32m      4\u001b[0m     EarthGravitationalModel(EarthGravitationalModel\u001b[38;5;241m.\u001b[39mType\u001b[38;5;241m.\u001b[39mEGM84),\n\u001b[1;32m      5\u001b[0m     EarthGravitationalModel(EarthGravitationalModel\u001b[38;5;241m.\u001b[39mType\u001b[38;5;241m.\u001b[39mEGM96)\n\u001b[1;32m      6\u001b[0m ]\n",
      "\u001b[0;31mNameError\u001b[0m: name 'WGS84' is not defined"
     ]
    }
   ],
   "source": [
    "gravitational_models = [\n",
    "    SphericalGravitationalModel(WGS84.gravitational_parameter),\n",
    "    EarthGravitationalModel(EarthGravitationalModel.Type.WGS84),\n",
    "    EarthGravitationalModel(EarthGravitationalModel.Type.EGM84),\n",
    "    EarthGravitationalModel(EarthGravitationalModel.Type.EGM96)\n",
    "]"
   ]
  },
  {
   "cell_type": "markdown",
   "metadata": {},
   "source": [
    "And evaluate them at various altitudes:"
   ]
  },
  {
   "cell_type": "code",
   "execution_count": 2,
   "metadata": {},
   "outputs": [],
   "source": [
    "altitudes = list(range(0, 1000000, 100000))"
   ]
  },
  {
   "cell_type": "code",
   "execution_count": 3,
   "metadata": {},
   "outputs": [],
   "source": [
    "instant = Instant.J2000()"
   ]
  },
  {
   "cell_type": "code",
   "execution_count": 4,
   "metadata": {},
   "outputs": [
    {
     "ename": "NameError",
     "evalue": "name 'WGS84' is not defined",
     "output_type": "error",
     "traceback": [
      "\u001b[0;31m---------------------------------------------------------------------------\u001b[0m",
      "\u001b[0;31mNameError\u001b[0m                                 Traceback (most recent call last)",
      "Input \u001b[0;32mIn [4]\u001b[0m, in \u001b[0;36m<cell line: 1>\u001b[0;34m()\u001b[0m\n\u001b[0;32m----> 1\u001b[0m positions \u001b[38;5;241m=\u001b[39m [np\u001b[38;5;241m.\u001b[39marray([\u001b[38;5;28mfloat\u001b[39m(WGS84\u001b[38;5;241m.\u001b[39mequatorial_radius\u001b[38;5;241m.\u001b[39min_meters() \u001b[38;5;241m+\u001b[39m altitude), \u001b[38;5;241m0.0\u001b[39m, \u001b[38;5;241m0.0\u001b[39m]) \u001b[38;5;28;01mfor\u001b[39;00m altitude \u001b[38;5;129;01min\u001b[39;00m altitudes]\n",
      "Input \u001b[0;32mIn [4]\u001b[0m, in \u001b[0;36m<listcomp>\u001b[0;34m(.0)\u001b[0m\n\u001b[0;32m----> 1\u001b[0m positions \u001b[38;5;241m=\u001b[39m [np\u001b[38;5;241m.\u001b[39marray([\u001b[38;5;28mfloat\u001b[39m(\u001b[43mWGS84\u001b[49m\u001b[38;5;241m.\u001b[39mequatorial_radius\u001b[38;5;241m.\u001b[39min_meters() \u001b[38;5;241m+\u001b[39m altitude), \u001b[38;5;241m0.0\u001b[39m, \u001b[38;5;241m0.0\u001b[39m]) \u001b[38;5;28;01mfor\u001b[39;00m altitude \u001b[38;5;129;01min\u001b[39;00m altitudes]\n",
      "\u001b[0;31mNameError\u001b[0m: name 'WGS84' is not defined"
     ]
    }
   ],
   "source": [
    "positions = [np.array([float(WGS84.equatorial_radius.in_meters() + altitude), 0.0, 0.0]) for altitude in altitudes]"
   ]
  },
  {
   "cell_type": "code",
   "execution_count": null,
   "metadata": {},
   "outputs": [],
   "source": [
    "def evaluate_field_values (gravitational_model, positions):\n",
    "    \n",
    "    field_values = [np.transpose(gravitational_model.get_field_value_at(position, instant))[0] for position in positions]\n",
    "    \n",
    "    return field_values"
   ]
  },
  {
   "cell_type": "code",
   "execution_count": null,
   "metadata": {},
   "outputs": [],
   "source": [
    "field_valuess = [evaluate_field_values(gravitational_model, positions) for gravitational_model in gravitational_models]"
   ]
  },
  {
   "cell_type": "code",
   "execution_count": null,
   "metadata": {},
   "outputs": [],
   "source": [
    "field_dfs = [pd.DataFrame([[altitude, *field.tolist()] for [altitude, field] in zip(altitudes, field_values)], columns=['$altitude [m]$', '$g_x$', '$g_y$', '$g_z$']) for field_values in field_valuess]"
   ]
  },
  {
   "cell_type": "markdown",
   "metadata": {},
   "source": [
    "## Display"
   ]
  },
  {
   "cell_type": "markdown",
   "metadata": {},
   "source": [
    "Table:"
   ]
  },
  {
   "cell_type": "code",
   "execution_count": null,
   "metadata": {},
   "outputs": [],
   "source": [
    "field_dfs[0]"
   ]
  },
  {
   "cell_type": "markdown",
   "metadata": {},
   "source": [
    "Scatter plot:"
   ]
  },
  {
   "cell_type": "code",
   "execution_count": null,
   "metadata": {},
   "outputs": [],
   "source": [
    "figure = go.Figure(\n",
    "    data = [\n",
    "        go.Scatter(\n",
    "            x = field_df['$altitude [m]$'],\n",
    "            y = field_df['$g_x$']\n",
    "        )\n",
    "        for field_df in field_dfs\n",
    "    ]\n",
    ")\n",
    "\n",
    "figure.show()"
   ]
  },
  {
   "cell_type": "markdown",
   "metadata": {},
   "source": [
    "---"
   ]
  }
 ],
 "metadata": {
  "kernelspec": {
   "display_name": "Python 3 (ipykernel)",
   "language": "python",
   "name": "python3"
  },
  "language_info": {
   "codemirror_mode": {
    "name": "ipython",
    "version": 3
   },
   "file_extension": ".py",
   "mimetype": "text/x-python",
   "name": "python",
   "nbconvert_exporter": "python",
   "pygments_lexer": "ipython3",
   "version": "3.9.10"
  }
 },
 "nbformat": 4,
 "nbformat_minor": 4
}
