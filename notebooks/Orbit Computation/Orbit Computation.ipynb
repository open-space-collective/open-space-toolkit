{
 "cells": [
  {
   "cell_type": "markdown",
   "metadata": {},
   "source": [
    "# Orbit Computation"
   ]
  },
  {
   "cell_type": "markdown",
   "metadata": {},
   "source": [
    "This tutorial demonstrates how to generate satellite orbits using various models."
   ]
  },
  {
   "cell_type": "markdown",
   "metadata": {},
   "source": [
    "## Setup"
   ]
  },
  {
   "cell_type": "code",
   "execution_count": null,
   "metadata": {},
   "outputs": [],
   "source": [
    "import numpy as np\n",
    "import pandas as pd\n",
    "\n",
    "import plotly.graph_objs as go\n",
    "\n",
    "from ostk.physics.units import Length\n",
    "from ostk.physics.units import Angle\n",
    "from ostk.physics.time import Scale\n",
    "from ostk.physics.time import Instant\n",
    "from ostk.physics.time import Duration\n",
    "from ostk.physics.time import Interval\n",
    "from ostk.physics.time import DateTime\n",
    "from ostk.physics.coordinate.spherical import LLA\n",
    "from ostk.physics.coordinate import Frame\n",
    "from ostk.physics import Environment\n",
    "from ostk.physics.environment.objects.celestial_bodies import Earth\n",
    "\n",
    "from ostk.astrodynamics import Trajectory\n",
    "from ostk.astrodynamics.trajectory import Orbit\n",
    "from ostk.astrodynamics.trajectory.orbit.models import Kepler\n",
    "from ostk.astrodynamics.trajectory.orbit.models.kepler import COE\n",
    "from ostk.astrodynamics.trajectory.orbit.models import SGP4\n",
    "from ostk.astrodynamics.trajectory.orbit.models.sgp4 import TLE"
   ]
  },
  {
   "cell_type": "markdown",
   "metadata": {},
   "source": [
    "---"
   ]
  },
  {
   "cell_type": "markdown",
   "metadata": {},
   "source": [
    "## SGP4"
   ]
  },
  {
   "cell_type": "markdown",
   "metadata": {},
   "source": [
    "### Computation"
   ]
  },
  {
   "cell_type": "code",
   "execution_count": null,
   "metadata": {},
   "outputs": [],
   "source": [
    "environment = Environment.default()"
   ]
  },
  {
   "cell_type": "markdown",
   "metadata": {},
   "source": [
    "Create a Classical Orbital Element (COE) set:"
   ]
  },
  {
   "cell_type": "code",
   "execution_count": null,
   "metadata": {},
   "outputs": [],
   "source": [
    "a = Length.kilometers(7000.0)\n",
    "e = 0.0001\n",
    "i = Angle.degrees(35.0)\n",
    "raan = Angle.degrees(40.0)\n",
    "aop = Angle.degrees(45.0)\n",
    "nu = Angle.degrees(50.0)\n",
    "\n",
    "coe = COE(a, e, i, raan, aop, nu)"
   ]
  },
  {
   "cell_type": "markdown",
   "metadata": {},
   "source": [
    "Setup a Keplerian orbital model:"
   ]
  },
  {
   "cell_type": "code",
   "execution_count": null,
   "metadata": {},
   "outputs": [],
   "source": [
    "epoch = Instant.date_time(DateTime(2018, 1, 1, 0, 0, 0), Scale.UTC)\n",
    "earth = environment.access_celestial_object_with_name(\"Earth\")\n",
    "\n",
    "keplerian_model = Kepler(coe, epoch, earth, Kepler.PerturbationType.No)"
   ]
  },
  {
   "cell_type": "markdown",
   "metadata": {},
   "source": [
    "Create a Two-Line Element (TLE) set:"
   ]
  },
  {
   "cell_type": "code",
   "execution_count": null,
   "metadata": {},
   "outputs": [],
   "source": [
    "tle = TLE(\n",
    "    \"1 39419U 13066D   18260.77424112  .00000022  00000-0  72885-5 0  9996\",\n",
    "    \"2 39419  97.6300 326.6556 0013847 175.2842 184.8495 14.93888428262811\"\n",
    ")"
   ]
  },
  {
   "cell_type": "markdown",
   "metadata": {},
   "source": [
    "Setup a SGP4 orbital model:"
   ]
  },
  {
   "cell_type": "code",
   "execution_count": null,
   "metadata": {},
   "outputs": [],
   "source": [
    "sgp4_model = SGP4(tle)"
   ]
  },
  {
   "cell_type": "markdown",
   "metadata": {},
   "source": [
    "Setup the orbit:"
   ]
  },
  {
   "cell_type": "code",
   "execution_count": null,
   "metadata": {},
   "outputs": [],
   "source": [
    "# orbit = Orbit(keplerian_model, environment.access_celestial_object_with_name(\"Earth\"))\n",
    "orbit = Orbit(sgp4_model, environment.access_celestial_object_with_name(\"Earth\"))"
   ]
  },
  {
   "cell_type": "markdown",
   "metadata": {},
   "source": [
    "Now that the orbit is set, we can compute the satellite position:"
   ]
  },
  {
   "cell_type": "code",
   "execution_count": null,
   "metadata": {},
   "outputs": [],
   "source": [
    "start_instant = Instant.date_time(DateTime(2018, 9, 5, 0, 0, 0), Scale.UTC)\n",
    "end_instant = Instant.date_time(DateTime(2018, 9, 6, 0, 0, 0), Scale.UTC)"
   ]
  },
  {
   "cell_type": "code",
   "execution_count": null,
   "metadata": {},
   "outputs": [],
   "source": [
    "interval = Interval.closed(start_instant, end_instant)"
   ]
  },
  {
   "cell_type": "code",
   "execution_count": null,
   "metadata": {},
   "outputs": [],
   "source": [
    "step = Duration.minutes(1.0)"
   ]
  },
  {
   "cell_type": "markdown",
   "metadata": {},
   "source": [
    "Generate a time grid:"
   ]
  },
  {
   "cell_type": "code",
   "execution_count": null,
   "metadata": {},
   "outputs": [],
   "source": [
    "instants = interval.generate_grid(step)"
   ]
  },
  {
   "cell_type": "code",
   "execution_count": null,
   "metadata": {},
   "outputs": [],
   "source": [
    "states = [[instant, orbit.get_state_at(instant)] for instant in instants]"
   ]
  },
  {
   "cell_type": "code",
   "execution_count": null,
   "metadata": {},
   "outputs": [],
   "source": [
    "def convert_state (instant, state):\n",
    "    \n",
    "    lla = LLA.cartesian(state.get_position().in_frame(Frame.ITRF(), state.get_instant()).get_coordinates(), Earth.equatorial_radius, Earth.flattening)\n",
    "    \n",
    "    return [\n",
    "                repr(instant),\n",
    "                float(instant.get_modified_julian_date(Scale.UTC)),\n",
    "                *state.get_position().get_coordinates(),\n",
    "                *state.get_velocity().get_coordinates(),\n",
    "                float(lla.get_latitude().in_degrees()),\n",
    "                float(lla.get_longitude().in_degrees()),\n",
    "                float(lla.get_altitude().in_meters())\n",
    "            ]"
   ]
  },
  {
   "cell_type": "code",
   "execution_count": null,
   "metadata": {},
   "outputs": [],
   "source": [
    "orbit_data = [convert_state(instant, state) for [instant, state] in states]"
   ]
  },
  {
   "cell_type": "code",
   "execution_count": null,
   "metadata": {},
   "outputs": [],
   "source": [
    "orbit_df = pd.DataFrame(orbit_data, columns=['$Time^{UTC}$', '$MJD^{UTC}$', '$x_{x}^{ECI}$', '$x_{y}^{ECI}$', '$x_{z}^{ECI}$', '$v_{x}^{ECI}$', '$v_{y}^{ECI}$', '$v_{z}^{ECI}$', '$Latitude$', '$Longitude$', '$Altitude$'])"
   ]
  },
  {
   "cell_type": "markdown",
   "metadata": {},
   "source": [
    "### Output"
   ]
  },
  {
   "cell_type": "markdown",
   "metadata": {},
   "source": [
    "Table:"
   ]
  },
  {
   "cell_type": "code",
   "execution_count": null,
   "metadata": {},
   "outputs": [],
   "source": [
    "orbit_df.head()"
   ]
  },
  {
   "cell_type": "markdown",
   "metadata": {},
   "source": [
    "2D plot, over **World Map**:"
   ]
  },
  {
   "cell_type": "code",
   "execution_count": null,
   "metadata": {
    "jupyter": {
     "source_hidden": true
    },
    "tags": []
   },
   "outputs": [],
   "source": [
    "figure = go.Figure(\n",
    "    data = go.Scattergeo(\n",
    "        lon = orbit_df['$Longitude$'],\n",
    "        lat = orbit_df['$Latitude$'],\n",
    "        mode = 'lines',\n",
    "        line = go.scattergeo.Line(\n",
    "            width = 1,\n",
    "            color = 'red'\n",
    "        )\n",
    "    ),\n",
    "    layout = go.Layout(\n",
    "        title = None,\n",
    "        showlegend = False,\n",
    "        height=1000,\n",
    "        geo = go.layout.Geo(\n",
    "            showland = True,\n",
    "            landcolor = 'rgb(243, 243, 243)',\n",
    "            countrycolor = 'rgb(204, 204, 204)'\n",
    "        )\n",
    "    )\n",
    ")\n",
    "\n",
    "figure.show()"
   ]
  },
  {
   "cell_type": "markdown",
   "metadata": {},
   "source": [
    "3D plot, in **Earth Fixed** frame:"
   ]
  },
  {
   "cell_type": "code",
   "execution_count": null,
   "metadata": {
    "jupyter": {
     "source_hidden": true
    }
   },
   "outputs": [],
   "source": [
    "figure = go.Figure(\n",
    "    data = [\n",
    "        go.Scattergeo(\n",
    "            lon = orbit_df['$Longitude$'],\n",
    "            lat = orbit_df['$Latitude$'],\n",
    "            mode = 'lines',\n",
    "            line = go.scattergeo.Line(\n",
    "                width = 2,\n",
    "                color = 'rgb(255, 62, 79)'\n",
    "            )\n",
    "        )\n",
    "    ],\n",
    "    layout = go.Layout(\n",
    "        title = None,\n",
    "        showlegend = False,\n",
    "        width = 800,\n",
    "        height = 800,\n",
    "        geo = go.layout.Geo(\n",
    "            showland = True,\n",
    "            showlakes = True,\n",
    "            showcountries = False,\n",
    "            showocean = True,\n",
    "            countrywidth = 0.0,\n",
    "            landcolor = 'rgb(100, 100, 100)',\n",
    "            lakecolor = 'rgb(240, 240, 240)',\n",
    "            oceancolor = 'rgb(240, 240, 240)',\n",
    "            projection = dict( \n",
    "                type = 'orthographic',\n",
    "                rotation = dict(\n",
    "                    lon = -100,\n",
    "                    lat = 40,\n",
    "                    roll = 0\n",
    "                )            \n",
    "            ),\n",
    "            lonaxis = dict( \n",
    "                showgrid = True,\n",
    "                gridcolor = 'rgb(102, 102, 102)',\n",
    "                gridwidth = 0.5\n",
    "            ),\n",
    "            lataxis = dict( \n",
    "                showgrid = True,\n",
    "                gridcolor = 'rgb(102, 102, 102)',\n",
    "                gridwidth = 0.5\n",
    "            )\n",
    "        )\n",
    "    )\n",
    ")\n",
    "\n",
    "figure.show()"
   ]
  },
  {
   "cell_type": "markdown",
   "metadata": {},
   "source": [
    "3D plot, in **Earth Inertial** frame:"
   ]
  },
  {
   "cell_type": "code",
   "execution_count": null,
   "metadata": {
    "jupyter": {
     "source_hidden": true
    }
   },
   "outputs": [],
   "source": [
    "theta = np.linspace(0, 2 * np.pi, 30)\n",
    "phi = np.linspace(0, np.pi, 30)\n",
    "\n",
    "theta_grid, phi_grid = np.meshgrid(theta, phi)\n",
    "\n",
    "r = float(Earth.equatorial_radius.in_meters())\n",
    "\n",
    "x = r * np.cos(theta_grid) * np.sin(phi_grid)\n",
    "y = r * np.sin(theta_grid) * np.sin(phi_grid)\n",
    "z = r * np.cos(phi_grid)\n",
    "\n",
    "earth = go.Surface(\n",
    "    x=x,\n",
    "    y=y,\n",
    "    z=z,\n",
    "    colorscale='Viridis',\n",
    "    showscale=False\n",
    ")\n",
    "\n",
    "trace = go.Scatter3d(\n",
    "    x=orbit_df['$x_{x}^{ECI}$'],\n",
    "    y=orbit_df['$x_{y}^{ECI}$'],\n",
    "    z=orbit_df['$x_{z}^{ECI}$'],\n",
    "    mode='lines',\n",
    "    marker=dict(\n",
    "        size=0,\n",
    "        color=orbit_df['$x_{z}^{ECI}$'],\n",
    "        colorscale='Viridis',\n",
    "        showscale=False\n",
    "    ),\n",
    "    line=dict(\n",
    "        color=orbit_df['$x_{z}^{ECI}$'],\n",
    "        width=1\n",
    "    )\n",
    ")\n",
    "\n",
    "figure = go.Figure(\n",
    "    data = [earth, trace],\n",
    "    layout = go.Layout(\n",
    "        title = None,\n",
    "        width = 800,\n",
    "        height = 1000,\n",
    "        showlegend = False,\n",
    "        scene = go.layout.Scene(\n",
    "            xaxis = dict(\n",
    "                gridcolor = 'rgb(255, 255, 255)',\n",
    "                zerolinecolor = 'rgb(255, 255, 255)',\n",
    "                showbackground = True,\n",
    "                backgroundcolor = 'rgb(230, 230,230)'\n",
    "            ),\n",
    "            yaxis = dict(\n",
    "                gridcolor = 'rgb(255, 255, 255)',\n",
    "                zerolinecolor = 'rgb(255, 255, 255)',\n",
    "                showbackground = True,\n",
    "                backgroundcolor = 'rgb(230, 230,230)'\n",
    "            ),\n",
    "            zaxis = dict(\n",
    "                gridcolor = 'rgb(255, 255, 255)',\n",
    "                zerolinecolor = 'rgb(255, 255, 255)',\n",
    "                showbackground = True,\n",
    "                backgroundcolor = 'rgb(230, 230,230)'\n",
    "            ),\n",
    "            camera = dict(\n",
    "                up = dict(\n",
    "                    x = 0,\n",
    "                    y = 0,\n",
    "                    z = 1\n",
    "                ),\n",
    "                eye = dict(\n",
    "                    x = -1.7428,\n",
    "                    y = 1.0707,\n",
    "                    z = 0.7100,\n",
    "                )\n",
    "            ),\n",
    "            aspectratio = dict(x = 1, y = 1, z = 1),\n",
    "            aspectmode = 'manual'\n",
    "        )\n",
    "    )\n",
    ")\n",
    "\n",
    "figure.show()"
   ]
  },
  {
   "cell_type": "markdown",
   "metadata": {},
   "source": [
    "---"
   ]
  },
  {
   "cell_type": "code",
   "execution_count": null,
   "metadata": {},
   "outputs": [],
   "source": []
  }
 ],
 "metadata": {
  "kernelspec": {
   "display_name": "Python 3 (ipykernel)",
   "language": "python",
   "name": "python3"
  },
  "language_info": {
   "codemirror_mode": {
    "name": "ipython",
    "version": 3
   },
   "file_extension": ".py",
   "mimetype": "text/x-python",
   "name": "python",
   "nbconvert_exporter": "python",
   "pygments_lexer": "ipython3",
   "version": "3.9.12"
  }
 },
 "nbformat": 4,
 "nbformat_minor": 4
}
