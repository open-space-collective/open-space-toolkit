{
 "cells": [
  {
   "cell_type": "markdown",
   "id": "d58ec7d4-9f6a-4681-9db2-efa80ad7931a",
   "metadata": {},
   "source": [
    "# Constant Thrust Dynamics"
   ]
  },
  {
   "cell_type": "markdown",
   "id": "a937df35-5b6c-4b85-a297-a53a8830e1cd",
   "metadata": {},
   "source": [
    "In this notebook, we will:\n",
    "\n",
    "1. **Create a new Coordinate Subset** so that we can make Mass a part of the State.\n",
    "2. **Create a custom dynamics class** that will be used in the propagator along with two-body dynamics."
   ]
  },
  {
   "cell_type": "code",
   "execution_count": null,
   "id": "84763b24-1afd-4072-86f1-cee12089f50a",
   "metadata": {},
   "outputs": [],
   "source": [
    "import numpy as np\n",
    "import pandas as pd\n",
    "import plotly.express as px\n",
    "\n",
    "from ostk.physics.environment.objects.celestial_bodies import Earth\n",
    "from ostk.physics.environment.gravitational import Earth as EarthGravitationalModel\n",
    "from ostk.physics.environment.atmospheric import Earth as EarthAtmosphericModel\n",
    "from ostk.physics.environment.magnetic import Earth as EarthMagneticModel\n",
    "from ostk.physics.time import Instant, Duration, Interval, Scale\n",
    "from ostk.physics.coordinate import Frame\n",
    "\n",
    "from ostk.astrodynamics.trajectory.state import NumericalSolver\n",
    "from ostk.astrodynamics.trajectory import Propagator, State\n",
    "from ostk.astrodynamics.trajectory.state import CoordinatesSubset, CoordinatesBroker\n",
    "from ostk.astrodynamics.trajectory.state.coordinates_subset import CartesianPosition, CartesianVelocity\n",
    "from ostk.astrodynamics.trajectory.orbit.models.kepler import COE\n",
    "from ostk.astrodynamics import Dynamics\n",
    "from ostk.astrodynamics.dynamics import CentralBodyGravity, PositionDerivative\n",
    "from ostk.astrodynamics.trajectory import LocalOrbitalFrameDirection, LocalOrbitalFrameFactory"
   ]
  },
  {
   "cell_type": "markdown",
   "id": "1a607010-8478-4b76-aff9-c414025ae857",
   "metadata": {},
   "source": [
    "1. Let's start by first creating the coordinate subsets for Position, Velocity and Mass"
   ]
  },
  {
   "cell_type": "code",
   "execution_count": null,
   "id": "5d569954-db82-48d4-bbbe-562a7bdeb9b7",
   "metadata": {},
   "outputs": [],
   "source": [
    "cartesian_position = CartesianPosition.default()\n",
    "cartesian_velocity = CartesianVelocity.default()\n",
    "mass_subset = CoordinatesSubset.mass()"
   ]
  },
  {
   "cell_type": "markdown",
   "id": "55f68ab8-9023-4301-9c7b-668f7703665c",
   "metadata": {},
   "source": [
    "2. Now we can create a Thruster Dynamics class that does a constant burn in the velocity direction\n",
    "The dynamics child must have 4 methods defined:\n",
    "- `is_defined` &rarr; used to verify that the class has been instantiated correctly\n",
    "- `compute_contribution` &rarr; computes the contribution to the state derivative\n",
    "- `get_read_coordinates_subsets` &rarr; defines the order expected for the state variable `x`\n",
    "- `get_write_coordinates_subsets` &rarr; defines the order expected in the outputted contribution within `compute_contribution`"
   ]
  },
  {
   "cell_type": "code",
   "execution_count": null,
   "id": "c6a23c05-4b6b-40d5-b469-6164d5723d1b",
   "metadata": {},
   "outputs": [],
   "source": [
    "class ThrusterDynamics(Dynamics):\n",
    "    def __init__(self, isp, thrust):\n",
    "        self._isp = isp\n",
    "        self._thrust = thrust\n",
    "        super().__init__(\"thruster\")\n",
    "\n",
    "    @property\n",
    "    def mass_flow_rate(self):\n",
    "        return self._thrust/(self._isp * 9.805)\n",
    "\n",
    "    def is_defined(self):\n",
    "        return self._isp is not None and self._thrust is not None\n",
    "\n",
    "    def get_read_coordinates_subsets(self):\n",
    "        return [CartesianPosition.default(), CartesianVelocity.default(), CoordinatesSubset.mass()]\n",
    "\n",
    "    def get_write_coordinates_subsets(self):\n",
    "        return [CartesianVelocity.default(), CoordinatesSubset.mass()]\n",
    "\n",
    "    def compute_contribution(self, instant, x, frame):\n",
    "        mass = x[6]\n",
    "\n",
    "        # calculate acceleration in VNC\n",
    "        acceleration_vnc = np.array([1, 0, 0]) * self._thrust / mass\n",
    "\n",
    "        # convert to GCRF\n",
    "        local_orbital_frame = LocalOrbitalFrameFactory.VNC(Frame.GCRF()).generate_frame(instant, x[:3], x[3:6])\n",
    "        q_GCRF_to_VNC = local_orbital_frame.get_transform_to(Frame.GCRF(), instant).get_orientation()\n",
    "        q_GCRF_to_VNC.normalize()\n",
    "\n",
    "        acceleration_gcrf = q_GCRF_to_VNC.rotate_vector(acceleration_vnc)\n",
    "\n",
    "        # return acceleration + mass derivative in the order defined in get_write_coordinates_subsets\n",
    "        return np.array([acceleration_gcrf[0], acceleration_gcrf[1], acceleration_gcrf[2], -self.mass_flow_rate])"
   ]
  },
  {
   "cell_type": "markdown",
   "id": "396c37b2-7171-4949-9a37-bae4b5eac686",
   "metadata": {},
   "source": [
    "Setup dynamics:\n",
    "- Central body spherical gravity\n",
    "- Thruster"
   ]
  },
  {
   "cell_type": "code",
   "execution_count": null,
   "id": "d856203f-a96e-49d5-b90e-24f073b256f8",
   "metadata": {},
   "outputs": [],
   "source": [
    "earth = Earth.from_models(\n",
    "    EarthGravitationalModel(EarthGravitationalModel.Type.Spherical),\n",
    "    EarthMagneticModel(EarthMagneticModel.Type.Undefined),\n",
    "    EarthAtmosphericModel(EarthAtmosphericModel.Type.Undefined),\n",
    ")\n",
    "central_body_gravity = CentralBodyGravity(earth)"
   ]
  },
  {
   "cell_type": "code",
   "execution_count": null,
   "id": "fb05fc07-2a41-44e7-aa2c-96fdaae86fad",
   "metadata": {},
   "outputs": [],
   "source": [
    "thruster_dynamics = ThrusterDynamics(1800.0, 60e-3)"
   ]
  },
  {
   "cell_type": "code",
   "execution_count": null,
   "id": "04fb95e2-251f-4290-b49a-602cfc31bcf6",
   "metadata": {},
   "outputs": [],
   "source": [
    "propagator = Propagator(NumericalSolver.default(), [central_body_gravity, thruster_dynamics, PositionDerivative()])"
   ]
  },
  {
   "cell_type": "markdown",
   "id": "9a488287-a9c0-406c-84f4-f67f401ef4a6",
   "metadata": {},
   "source": [
    "Setup the initial state and propagation interval"
   ]
  },
  {
   "cell_type": "code",
   "execution_count": null,
   "id": "90831f33-feaf-4626-8890-c778c4ab7bd6",
   "metadata": {},
   "outputs": [],
   "source": [
    "state = State(\n",
    "    Instant.J2000(), \n",
    "    [7000000.0, 0.0, 0.0, 0.0, 5335.865450622126, 5335.865450622126, 100.0], \n",
    "    Frame.GCRF(), \n",
    "    [cartesian_position, cartesian_velocity, mass_subset]\n",
    ")"
   ]
  },
  {
   "cell_type": "code",
   "execution_count": null,
   "id": "e132a5eb-2ddb-4741-923b-6e7e5d9ddd0b",
   "metadata": {},
   "outputs": [],
   "source": [
    "instants = Interval.closed(state.get_instant(), state.get_instant() + Duration.minutes(15.0)).generate_grid(Duration.seconds(20.0))"
   ]
  },
  {
   "cell_type": "markdown",
   "id": "831f636e-ad4a-4ec8-9469-d64c4b45410a",
   "metadata": {},
   "source": [
    "Propagate and plot!"
   ]
  },
  {
   "cell_type": "code",
   "execution_count": null,
   "id": "c74eb33a-c3bd-440b-abdd-6c507174c354",
   "metadata": {},
   "outputs": [],
   "source": [
    "states = propagator.calculate_states_at(state, instants)"
   ]
  },
  {
   "cell_type": "code",
   "execution_count": null,
   "id": "bae93b94-c001-4abe-bf1c-5420a355594c",
   "metadata": {},
   "outputs": [],
   "source": [
    "data = []\n",
    "for state in states:\n",
    "    coe = COE.cartesian((state.get_position(), state.get_velocity()), earth.get_gravitational_parameter())\n",
    "    data.append(\n",
    "        {\n",
    "            \"time\": str(state.get_instant().get_date_time(Scale.UTC)),\n",
    "            \"altitude (km)\": float(coe.get_semi_major_axis().in_kilometers() - earth.get_equatorial_radius().in_kilometers()),\n",
    "            \"mass (kg)\": float(state.get_coordinates()[-1]),\n",
    "        }\n",
    "    )\n"
   ]
  },
  {
   "cell_type": "code",
   "execution_count": null,
   "id": "7b583fe4-e7f3-426b-b66d-74d11fd8ef26",
   "metadata": {},
   "outputs": [],
   "source": [
    "df = pd.DataFrame(data)\n",
    "px.scatter(data, x=\"time\", y=\"altitude (km)\", color=\"mass (kg)\", title=\"2 body + In-track constant thrust maneuver\")"
   ]
  },
  {
   "cell_type": "code",
   "execution_count": null,
   "id": "c8878d63-455c-40c8-b287-daf58375eab3",
   "metadata": {},
   "outputs": [],
   "source": []
  }
 ],
 "metadata": {
  "kernelspec": {
   "display_name": "Python 3 (ipykernel)",
   "language": "python",
   "name": "python3"
  },
  "language_info": {
   "codemirror_mode": {
    "name": "ipython",
    "version": 3
   },
   "file_extension": ".py",
   "mimetype": "text/x-python",
   "name": "python",
   "nbconvert_exporter": "python",
   "pygments_lexer": "ipython3",
   "version": "3.11.6"
  }
 },
 "nbformat": 4,
 "nbformat_minor": 5
}
