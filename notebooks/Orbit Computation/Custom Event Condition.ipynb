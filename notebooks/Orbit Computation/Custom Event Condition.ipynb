{
 "cells": [
  {
   "cell_type": "markdown",
   "id": "a937df35-5b6c-4b85-a297-a53a8830e1cd",
   "metadata": {},
   "source": [
    "In this notebook, we will:\n",
    "\n",
    "1. **Create two custom event conditions**\n",
    "    1. Beta angle condition (real value based condition)\n",
    "    2. Eclipse condition (boolean value based condition)"
   ]
  },
  {
   "cell_type": "code",
   "execution_count": 2,
   "id": "84763b24-1afd-4072-86f1-cee12089f50a",
   "metadata": {},
   "outputs": [],
   "source": [
    "import numpy as np\n",
    "\n",
    "from ostk.physics.environment.objects.celestial_bodies import Earth, Sun\n",
    "from ostk.physics.environment.gravitational import Earth as EarthGravitationalModel\n",
    "from ostk.physics.environment.atmospheric import Earth as EarthAtmosphericModel\n",
    "from ostk.physics.environment.magnetic import Earth as EarthMagneticModel\n",
    "from ostk.physics.time import Instant, Duration\n",
    "from ostk.physics.coordinate import Frame, Position, Velocity\n",
    "from ostk.physics import Environment\n",
    "\n",
    "from ostk.astrodynamics.trajectory.state import NumericalSolver\n",
    "from ostk.astrodynamics.event_condition import RealCondition, BooleanCondition\n",
    "from ostk.astrodynamics.trajectory import Propagator, State"
   ]
  },
  {
   "cell_type": "markdown",
   "id": "9a488287-a9c0-406c-84f4-f67f401ef4a6",
   "metadata": {},
   "source": [
    "Setup the initial state and propagation interval"
   ]
  },
  {
   "cell_type": "code",
   "execution_count": 3,
   "id": "98f082f3-42eb-4ceb-9b8d-0126deb8950b",
   "metadata": {},
   "outputs": [],
   "source": [
    "start_instant = Instant.J2000()\n",
    "initial_state = State(\n",
    "    instant=start_instant,\n",
    "    position=Position.meters([7000000.0, 0.0, 0.0], Frame.GCRF()),\n",
    "    velocity=Velocity.meters_per_second([0.0, 5335.865450622126, 5335.865450622126], Frame.GCRF())\n",
    ")"
   ]
  },
  {
   "cell_type": "code",
   "execution_count": 4,
   "id": "126936d2-1c52-42b3-9cf1-1c083fedb53c",
   "metadata": {},
   "outputs": [],
   "source": [
    "earth = Earth.from_models(\n",
    "    EarthGravitationalModel(EarthGravitationalModel.Type.Spherical),\n",
    "    EarthMagneticModel(EarthMagneticModel.Type.Undefined),\n",
    "    EarthAtmosphericModel(EarthAtmosphericModel.Type.Undefined),\n",
    ")\n",
    "environment = Environment(Instant.J2000(), [earth, Sun.default()])"
   ]
  },
  {
   "cell_type": "markdown",
   "id": "1a607010-8478-4b76-aff9-c414025ae857",
   "metadata": {},
   "source": [
    "### Eclipse condition\n",
    "A boolean condition is defined by:\n",
    "- A name\n",
    "- A criteria that defines what kind of root crossing is desired\n",
    "- The evaluation function which accepts 2 arguments\n",
    "    - a state_vector\n",
    "    - a time \n",
    "- If the condition is to be inverted"
   ]
  },
  {
   "cell_type": "code",
   "execution_count": 13,
   "id": "5d569954-db82-48d4-bbbe-562a7bdeb9b7",
   "metadata": {},
   "outputs": [],
   "source": [
    "def in_eclipse(state):\n",
    "    # global environment\n",
    "    environment.set_instant(state.get_instant())\n",
    "    return environment.is_position_in_eclipse(state.get_position())\n",
    "\n",
    "eclipse_condition = BooleanCondition(\"Eclipse Condition\", BooleanCondition.Criterion.AnyCrossing, in_eclipse, False)"
   ]
  },
  {
   "cell_type": "markdown",
   "id": "396c37b2-7171-4949-9a37-bae4b5eac686",
   "metadata": {},
   "source": [
    "### Beta angle condition\n",
    "A real condition is similarly defined by:\n",
    "- A name\n",
    "- A criteria that defines what kind of root crossing is desired\n",
    "- The evaluation function\n",
    "- The target value"
   ]
  },
  {
   "cell_type": "code",
   "execution_count": 14,
   "id": "517c4678-e539-490b-ac2f-46496805030e",
   "metadata": {},
   "outputs": [],
   "source": [
    "sun = Sun.default()\n",
    "def get_beta_angle(state):\n",
    "    instant = state.get_instant()\n",
    "    sun_vector = sun.get_position_in(Frame.GCRF(), instant).get_coordinates()\n",
    "    orbit_plane_normal = np.cross(\n",
    "        state.get_position().get_coordinates(), state.get_velocity().get_coordinates()\n",
    "    )\n",
    "    return 90 - np.rad2deg(\n",
    "        np.arccos(\n",
    "            np.clip(\n",
    "                np.dot(\n",
    "                    sun_vector / np.linalg.norm(sun_vector),\n",
    "                    orbit_plane_normal / np.linalg.norm(orbit_plane_normal),\n",
    "                ),\n",
    "                -1.0,\n",
    "                1.0,\n",
    "            )\n",
    "        )\n",
    "    )\n",
    "\n",
    "beta_angle_condition = RealCondition(\"Beta Angle Condition\", RealCondition.Criterion.AnyCrossing, get_beta_angle, 21.17)"
   ]
  },
  {
   "cell_type": "code",
   "execution_count": 15,
   "id": "04fb95e2-251f-4290-b49a-602cfc31bcf6",
   "metadata": {},
   "outputs": [],
   "source": [
    "propagator = Propagator.from_environment(NumericalSolver.default_conditional(), environment)"
   ]
  },
  {
   "cell_type": "markdown",
   "id": "831f636e-ad4a-4ec8-9469-d64c4b45410a",
   "metadata": {},
   "source": [
    "Let's find the first time the satellite is in eclipse"
   ]
  },
  {
   "cell_type": "code",
   "execution_count": 17,
   "id": "c74eb33a-c3bd-440b-abdd-6c507174c354",
   "metadata": {},
   "outputs": [
    {
     "name": "stdout",
     "output_type": "stream",
     "text": [
      "Satellite eclipse state [True] at 2000-01-01 12:09:00.876.134.713 [UTC]\n"
     ]
    }
   ],
   "source": [
    "state = propagator.calculate_state_at(initial_state, initial_state.get_instant() + Duration.hours(24.0), eclipse_condition)\n",
    "print(f\"Satellite eclipse state [{in_eclipse(state)}] at {state.get_instant().to_string()}\")"
   ]
  },
  {
   "cell_type": "markdown",
   "id": "b66558ec-5c9e-4d80-8abb-9580509b9cd6",
   "metadata": {},
   "source": [
    "Let's now find when the beta angle reaches a target value"
   ]
  },
  {
   "cell_type": "code",
   "execution_count": 19,
   "id": "fbffde27-2f3d-4403-9538-70451a61fdc2",
   "metadata": {},
   "outputs": [
    {
     "name": "stdout",
     "output_type": "stream",
     "text": [
      "Satellite beta angle [21.16999999999848] at 2000-01-01 18:52:09.813.823.449 [UTC]\n"
     ]
    }
   ],
   "source": [
    "state = propagator.calculate_state_at(initial_state, initial_state.get_instant() + Duration.hours(24.0), beta_angle_condition)\n",
    "print(f\"Satellite beta angle [{get_beta_angle(state)}] at {state.get_instant().to_string()}\")"
   ]
  }
 ],
 "metadata": {
  "kernelspec": {
   "display_name": "Python 3 (ipykernel)",
   "language": "python",
   "name": "python3"
  },
  "language_info": {
   "codemirror_mode": {
    "name": "ipython",
    "version": 3
   },
   "file_extension": ".py",
   "mimetype": "text/x-python",
   "name": "python",
   "nbconvert_exporter": "python",
   "pygments_lexer": "ipython3",
   "version": "3.11.5"
  }
 },
 "nbformat": 4,
 "nbformat_minor": 5
}
