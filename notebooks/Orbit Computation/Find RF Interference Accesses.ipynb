{
 "cells": [
  {
   "attachments": {},
   "cell_type": "markdown",
   "id": "96183acc-6d1a-4a80-9195-44d615970a27",
   "metadata": {
    "tags": []
   },
   "source": [
    "# Find RF Interference Accesses\n",
    "\n",
    "This notebook defines a scenario with 2 satellites & 1 ground station and computes accesses in which satellites RF beams might be interfering with each other due to their proximity during a pass. It can be scaled-up to consider multiple satellites as well as multiple ground stations."
   ]
  },
  {
   "attachments": {},
   "cell_type": "markdown",
   "id": "9e65f673-7cb8-4c0b-9ff2-6281b562020b",
   "metadata": {},
   "source": [
    "## Setup"
   ]
  },
  {
   "cell_type": "code",
   "execution_count": 1,
   "id": "fa42a5f8-f432-4731-b587-009c1d1ed54a",
   "metadata": {},
   "outputs": [],
   "source": [
    "import numpy as np\n",
    "import pandas as pd\n",
    "\n",
    "import plotly.graph_objs as go\n",
    "\n",
    "from tqdm.notebook import tqdm\n",
    "\n",
    "from ostk.mathematics.objects import RealInterval\n",
    "\n",
    "from ostk.physics import Environment\n",
    "from ostk.physics.coordinate import Position\n",
    "from ostk.physics.coordinate import Frame\n",
    "from ostk.physics.coordinate.spherical import AER\n",
    "from ostk.physics.coordinate.spherical import LLA\n",
    "from ostk.physics.environment.objects import Celestial\n",
    "from ostk.physics.time import DateTime\n",
    "from ostk.physics.time import Duration\n",
    "from ostk.physics.time import Instant\n",
    "from ostk.physics.time import Interval\n",
    "from ostk.physics.time import Scale\n",
    "from ostk.physics.units import Length\n",
    "from ostk.physics.units import Angle\n",
    "\n",
    "from ostk.astrodynamics import Access\n",
    "from ostk.astrodynamics import Trajectory\n",
    "from ostk.astrodynamics.access import Generator as AccessGenerator\n",
    "from ostk.astrodynamics.trajectory import Orbit\n",
    "from ostk.astrodynamics.trajectory import State\n",
    "from ostk.astrodynamics.trajectory.orbit.models import SGP4\n",
    "from ostk.astrodynamics.trajectory.orbit.models.sgp4 import TLE"
   ]
  },
  {
   "attachments": {},
   "cell_type": "markdown",
   "id": "444f6e6d-ff17-44ad-a48e-a9f0d358fd83",
   "metadata": {},
   "source": [
    "## Define Scenario\n",
    "\n",
    "- Start time of the analysis\n",
    "- Duration of the analysis\n",
    "- Step size at which states are computed\n",
    "- Tolerance to find the interferences\n",
    "- Ground station location\n",
    "    - Minimum elevation angle\n",
    "    - Interference angle"
   ]
  },
  {
   "cell_type": "code",
   "execution_count": 2,
   "id": "24021e05-3374-41c0-bebc-14814d7f088e",
   "metadata": {
    "tags": []
   },
   "outputs": [],
   "source": [
    "start_instant: Instant = Instant.date_time(\n",
    "    DateTime(2023, 1, 3, 0, 0, 0),\n",
    "    Scale.UTC,\n",
    ")\n",
    "duration: Duration = Duration.days(7.0)\n",
    "step: Duration = Duration.seconds(10.0)\n",
    "tolerance: Duration = Duration.seconds(1.0)\n",
    "min_elevation_angle: Angle = Angle.degrees(3.0)\n",
    "interference_angle: Angle = Angle.degrees(5.0)\n",
    "ground_station_lla: LLA = LLA(\n",
    "    Angle.degrees(70.0),  # Latitude\n",
    "    Angle.degrees(160.0),  # Longitude\n",
    "    Length.meters(0.0),  # Altitude\n",
    ")"
   ]
  },
  {
   "attachments": {},
   "cell_type": "markdown",
   "id": "153de54e-ff5b-40d3-bf15-a759cb057e56",
   "metadata": {},
   "source": [
    "## Define Satellites\n",
    "\n",
    "- TLE of 'satellite 1'\n",
    "- TLE of 'satellite 2'"
   ]
  },
  {
   "cell_type": "code",
   "execution_count": 3,
   "id": "6031c6c8-53f3-482c-8120-2426a51bf749",
   "metadata": {},
   "outputs": [],
   "source": [
    "tle_1 = TLE(\n",
    "    \"1 55076U 23001BV  23146.17959645  .00004328  00000-0  23719-3 0  9993\",\n",
    "    \"2 55076  97.4793 205.9529 0016244  89.9523 270.3571 15.14609100 21723\",\n",
    ")\n",
    "\n",
    "tle_2 = TLE(\n",
    "    \"1 48915U 21059AN  23146.32782040  .00004955  00000-0  24678-3 0  9999\",\n",
    "    \"2 48915  97.5954 279.7041 0010303 354.9434   5.1694 15.18004448105867\",\n",
    ")"
   ]
  },
  {
   "attachments": {},
   "cell_type": "markdown",
   "id": "2cd5390f-5703-4345-b3b2-5d1a75da315c",
   "metadata": {},
   "source": [
    "## Interference Filter\n",
    "\n",
    "Define a `StateFilter` that can be passed to the `AccesGenerator`. This filter detects when:\n",
    "- satellite 1 is above the ground station minimum elevation and\n",
    "- satellite 2 is above the ground station minimum elevation and\n",
    "- satellite 1 and satellite 2 angular separation (as seen from the ground station) is below the interference angle"
   ]
  },
  {
   "cell_type": "code",
   "execution_count": 4,
   "id": "b14d5853-523d-4f47-affb-c8384df1f5be",
   "metadata": {},
   "outputs": [],
   "source": [
    "class InterferenceFilter:\n",
    "    \"\"\"Interference filter. A state filter that computes when two satellites are\n",
    "    both within the ground station and inteference cones.\n",
    "    \"\"\"\n",
    "\n",
    "    def __init__(\n",
    "        self,\n",
    "        earth: Celestial,\n",
    "        ground_station_lla: LLA,\n",
    "        min_elevation_angle: Angle,\n",
    "        interference_angle: Angle,\n",
    "        start_instant: Instant = None,\n",
    "        stop_instant: Instant = None,\n",
    "    ):\n",
    "        self._ned_frame: Frame = earth.get_frame_at(\n",
    "            ground_station_lla, earth.FrameType.NED\n",
    "        )\n",
    "        self._ground_station_pos_ned: Position = Position(\n",
    "            [0.0, 0.0, 0.0],\n",
    "            Length.Unit.Meter,\n",
    "            self._ned_frame,\n",
    "        )\n",
    "        self._min_elevation_angle_in_radians: float = min_elevation_angle.in_radians()\n",
    "        self._interference_angle_in_radians: float = interference_angle.in_radians()\n",
    "        self._display_progress_bar = False\n",
    "\n",
    "        if start_instant is not None and stop_instant is not None:\n",
    "            self._total_span_in_seconds: float = Duration.between(\n",
    "                start_instant, stop_instant\n",
    "            ).in_seconds()\n",
    "            self._previous_instant = start_instant\n",
    "            self._progress_bar = tqdm(total=100.0)\n",
    "            self._display_progress_bar = True\n",
    "\n",
    "    def _update_progress_bar(self, current_instant: Instant) -> None:\n",
    "        delta_in_seconds: float = (\n",
    "            100.0\n",
    "            * Duration.between(self._previous_instant, current_instant).in_seconds()\n",
    "        )\n",
    "        delta_in_percentage = float(\n",
    "            np.clip(delta_in_seconds / self._total_span_in_seconds, 0.0, 100.0)\n",
    "        )\n",
    "        self._progress_bar.update(delta_in_percentage)\n",
    "        self._previous_instant = current_instant\n",
    "\n",
    "    def _is_in_ground_station_cone(\n",
    "        self,\n",
    "        satellite_pos_ned: Position,\n",
    "    ) -> bool:\n",
    "        \"\"\"Returns True if the satellite (as seen from the ground station) is above\n",
    "        the minimim elevation.\n",
    "        \"\"\"\n",
    "        aer: AER = AER.from_position_to_position(\n",
    "            self._ground_station_pos_ned, satellite_pos_ned, True\n",
    "        )\n",
    "        elevation_in_radians = aer.get_elevation().in_radians()\n",
    "        return elevation_in_radians >= self._min_elevation_angle_in_radians\n",
    "\n",
    "    def _is_interfering(\n",
    "        self,\n",
    "        satellite_1_pos_ned: Position,\n",
    "        satellite_2_pos_ned: Position,\n",
    "    ) -> bool:\n",
    "        \"\"\"Returns true if the satellites angular separation is within the (as seen\n",
    "        from the ground station) interference angle.\n",
    "        \"\"\"\n",
    "        satellite_1_coordinates = satellite_1_pos_ned.in_meters().get_coordinates()\n",
    "        satellite_2_coordinates = satellite_2_pos_ned.in_meters().get_coordinates()\n",
    "\n",
    "        satellite_1_unit = satellite_1_coordinates / np.linalg.norm(\n",
    "            satellite_1_coordinates\n",
    "        )\n",
    "        satellite_2_unit = satellite_2_coordinates / np.linalg.norm(\n",
    "            satellite_2_coordinates\n",
    "        )\n",
    "\n",
    "        angle_rad = np.arccos(\n",
    "            np.clip(np.dot(satellite_1_unit, satellite_2_unit), -1.0, 1.0)\n",
    "        )\n",
    "        return angle_rad <= self._interference_angle_in_radians\n",
    "\n",
    "    def filter_(\n",
    "        self,\n",
    "        satellite_1_state: State,\n",
    "        satellite_2_state: State,\n",
    "    ) -> bool:\n",
    "        \"\"\"Returns true if both satellites are both within the:\n",
    "        - ground station line-of-sight\n",
    "        - interference cone\n",
    "        \"\"\"\n",
    "        instant = satellite_1_state.get_instant()\n",
    "\n",
    "        satellite_1_pos_ned: Position = satellite_1_state.get_position().in_frame(\n",
    "            self._ned_frame, instant\n",
    "        )\n",
    "        satellite_2_pos_ned: Position = satellite_2_state.get_position().in_frame(\n",
    "            self._ned_frame, instant\n",
    "        )\n",
    "\n",
    "        if self._display_progress_bar:\n",
    "            self._update_progress_bar(instant)\n",
    "\n",
    "        return (\n",
    "            self._is_in_ground_station_cone(satellite_1_pos_ned)\n",
    "            and self._is_in_ground_station_cone(satellite_2_pos_ned)\n",
    "            and self._is_interfering(satellite_1_pos_ned, satellite_2_pos_ned)\n",
    "        )"
   ]
  },
  {
   "attachments": {},
   "cell_type": "markdown",
   "id": "68fa9b30-76b1-482c-b30f-3b2cf0091e32",
   "metadata": {},
   "source": [
    "## Run the analysis\n",
    "\n",
    "Build and define environment objects"
   ]
  },
  {
   "cell_type": "code",
   "execution_count": 5,
   "id": "ddcd746f-d33b-4581-9123-08372af7b7b8",
   "metadata": {
    "tags": []
   },
   "outputs": [],
   "source": [
    "environment: Environment = Environment.default()\n",
    "earth: Celestial = environment.access_celestial_object_with_name(\"Earth\")\n",
    "\n",
    "stop_instant: Instant = start_instant + duration\n",
    "search_interval: RealInterval = Interval.closed(start_instant, stop_instant)\n",
    "\n",
    "orbit_1: Orbit = Orbit(SGP4(tle_1), earth)\n",
    "orbit_2: Orbit = Orbit(SGP4(tle_2), earth)"
   ]
  },
  {
   "attachments": {},
   "cell_type": "markdown",
   "id": "012a3a5a-ae7d-40ef-a0d9-4eb694c0f3e9",
   "metadata": {},
   "source": [
    "Build and define interference filter and access generator to find the 'interference' accesses."
   ]
  },
  {
   "cell_type": "code",
   "execution_count": 6,
   "id": "7104809d-ef00-49da-8efb-ba18439b585a",
   "metadata": {},
   "outputs": [
    {
     "data": {
      "application/vnd.jupyter.widget-view+json": {
       "model_id": "932411f5ee414ed595adc9d715517a12",
       "version_major": 2,
       "version_minor": 0
      },
      "text/plain": [
       "  0%|          | 0/100.0 [00:00<?, ?it/s]"
      ]
     },
     "metadata": {},
     "output_type": "display_data"
    }
   ],
   "source": [
    "interference_filter: InterferenceFilter = InterferenceFilter(\n",
    "    earth=earth,\n",
    "    ground_station_lla=ground_station_lla,\n",
    "    min_elevation_angle=min_elevation_angle,\n",
    "    interference_angle=interference_angle,\n",
    "    start_instant=start_instant,\n",
    "    stop_instant=stop_instant,\n",
    ")\n",
    "\n",
    "access_generator: AccessGenerator = AccessGenerator(\n",
    "    environment=environment,\n",
    "    state_filter=interference_filter.filter_,\n",
    "    step=step,\n",
    "    tolerance=tolerance,\n",
    ")\n",
    "\n",
    "interfered_accesses = access_generator.compute_accesses(\n",
    "    search_interval, orbit_1, orbit_2\n",
    ")"
   ]
  },
  {
   "attachments": {},
   "cell_type": "markdown",
   "id": "c461e24e-dbfb-4355-b33e-cddc5c4cf885",
   "metadata": {},
   "source": [
    "Display the number of 'interfered' accesses:"
   ]
  },
  {
   "cell_type": "code",
   "execution_count": 7,
   "id": "faa87488-696a-4adc-826d-419c240301d6",
   "metadata": {},
   "outputs": [
    {
     "name": "stdout",
     "output_type": "stream",
     "text": [
      "Number of interfered accesses: 7\n"
     ]
    }
   ],
   "source": [
    "print(f\"Number of interfered accesses: {len(interfered_accesses)}\")"
   ]
  },
  {
   "attachments": {},
   "cell_type": "markdown",
   "id": "dd964e2a-4fa0-461b-bd18-2eecf2bd3041",
   "metadata": {},
   "source": [
    "Display the accesses themselves:"
   ]
  },
  {
   "cell_type": "code",
   "execution_count": 8,
   "id": "0127396c-f4c7-427d-9229-5f5383dac7ec",
   "metadata": {
    "tags": []
   },
   "outputs": [
    {
     "name": "stdout",
     "output_type": "stream",
     "text": [
      "[-- Access ------------------------------------------------------------------------------------------\n",
      "    Type:                                    Complete                                 \n",
      "    Acquisition Of Signal:                   2023-01-03 02:30:45.228.193.391 [UTC]    \n",
      "    Time of Closest Approach:                2023-01-03 02:30:45.228.193.391 [UTC]    \n",
      "    Loss Of Signal:                          2023-01-03 02:31:01.135.358.795 [UTC]    \n",
      "    Duration:                                15.907.165.404                           \n",
      "    Maximum Elevation:                       -0.13217129975777883 [rad]               \n",
      "----------------------------------------------------------------------------------------------------\n",
      ", -- Access ------------------------------------------------------------------------------------------\n",
      "    Type:                                    Complete                                 \n",
      "    Acquisition Of Signal:                   2023-01-03 04:05:25.780.017.886 [UTC]    \n",
      "    Time of Closest Approach:                2023-01-03 04:05:52.296.523.567 [UTC]    \n",
      "    Loss Of Signal:                          2023-01-03 04:06:01.135.358.795 [UTC]    \n",
      "    Duration:                                35.355.340.909                           \n",
      "    Maximum Elevation:                       -0.192810837553058 [rad]                 \n",
      "----------------------------------------------------------------------------------------------------\n",
      ", -- Access ------------------------------------------------------------------------------------------\n",
      "    Type:                                    Complete                                 \n",
      "    Acquisition Of Signal:                   2023-01-03 05:40:32.256.314.174 [UTC]    \n",
      "    Time of Closest Approach:                2023-01-03 05:41:01.838.983.113 [UTC]    \n",
      "    Loss Of Signal:                          2023-01-03 05:41:11.699.872.760 [UTC]    \n",
      "    Duration:                                39.443.558.586                           \n",
      "    Maximum Elevation:                       -0.30201138682032563 [rad]               \n",
      "----------------------------------------------------------------------------------------------------\n",
      ", -- Access ------------------------------------------------------------------------------------------\n",
      "    Type:                                    Complete                                 \n",
      "    Acquisition Of Signal:                   2023-01-03 07:15:39.612.133.012 [UTC]    \n",
      "    Time of Closest Approach:                2023-01-03 07:16:18.254.552.349 [UTC]    \n",
      "    Loss Of Signal:                          2023-01-03 07:16:31.135.358.795 [UTC]    \n",
      "    Duration:                                51.523.225.783                           \n",
      "    Maximum Elevation:                       -0.1695263133797123 [rad]                \n",
      "----------------------------------------------------------------------------------------------------\n",
      ", -- Access ------------------------------------------------------------------------------------------\n",
      "    Type:                                    Complete                                 \n",
      "    Acquisition Of Signal:                   2023-01-03 08:50:47.070.012.414 [UTC]    \n",
      "    Time of Closest Approach:                2023-01-03 08:51:17.070.012.414 [UTC]    \n",
      "    Loss Of Signal:                          2023-01-03 08:51:17.070.012.414 [UTC]    \n",
      "    Duration:                                30.000.000.000                           \n",
      "    Maximum Elevation:                       -0.19197693395507287 [rad]               \n",
      "----------------------------------------------------------------------------------------------------\n",
      ", -- Access ------------------------------------------------------------------------------------------\n",
      "    Type:                                    Complete                                 \n",
      "    Acquisition Of Signal:                   2023-01-03 10:25:56.425.770.132 [UTC]    \n",
      "    Time of Closest Approach:                2023-01-03 10:26:18.925.770.132 [UTC]    \n",
      "    Loss Of Signal:                          2023-01-03 10:26:26.425.770.132 [UTC]    \n",
      "    Duration:                                30.000.000.000                           \n",
      "    Maximum Elevation:                       -0.14450960696945572 [rad]               \n",
      "----------------------------------------------------------------------------------------------------\n",
      ", -- Access ------------------------------------------------------------------------------------------\n",
      "    Type:                                    Complete                                 \n",
      "    Acquisition Of Signal:                   2023-01-03 12:01:08.300.127.239 [UTC]    \n",
      "    Time of Closest Approach:                2023-01-03 12:01:10.387.866.987 [UTC]    \n",
      "    Loss Of Signal:                          2023-01-03 12:01:10.387.866.987 [UTC]    \n",
      "    Duration:                                02.087.739.748                           \n",
      "    Maximum Elevation:                       -0.10853009229704395 [rad]               \n",
      "----------------------------------------------------------------------------------------------------\n",
      "]\n"
     ]
    }
   ],
   "source": [
    "print(interfered_accesses)"
   ]
  },
  {
   "attachments": {},
   "cell_type": "markdown",
   "id": "634fe800-56e8-49e1-8d4b-a0d4bac2cce9",
   "metadata": {},
   "source": [
    "## Plots\n",
    "\n",
    "Define a class to help plotting the satellite trajectories, highlighting the interfered accesses over the ground station."
   ]
  },
  {
   "cell_type": "code",
   "execution_count": 9,
   "id": "7d2509ec-9a01-4a53-be44-1bc7baa389cf",
   "metadata": {
    "tags": []
   },
   "outputs": [],
   "source": [
    "class InterferencePlot:\n",
    "    \"\"\"Interference plot. It displays a 2D world map, with 1 ground station and\n",
    "    multiple satellites, highlighting the interference accesses.\n",
    "    \"\"\"\n",
    "\n",
    "    def __init__(\n",
    "        self,\n",
    "        interval: RealInterval,\n",
    "        trajectory_step: Duration,\n",
    "        interference_step: Duration,\n",
    "        ground_station_lla: LLA,\n",
    "        color: str,\n",
    "    ):\n",
    "        self._trajectory_grid: list[Instant] = interval.generate_grid(trajectory_step)\n",
    "        self._interference_step: Instant = interference_step\n",
    "        self._ned_frame: Frame = earth.get_frame_at(\n",
    "            ground_station_lla, earth.FrameType.NED\n",
    "        )\n",
    "        self._ground_station_position_ned: Position = Position(\n",
    "            [0.0, 0.0, 0.0],\n",
    "            Length.Unit.Meter,\n",
    "            self._ned_frame,\n",
    "        )\n",
    "        self._data = []\n",
    "        self._data.append(\n",
    "            dict(\n",
    "                type=\"scattergeo\",\n",
    "                lon=[float(ground_station_lla.get_longitude().in_degrees())],\n",
    "                lat=[float(ground_station_lla.get_latitude().in_degrees())],\n",
    "                mode=\"markers\",\n",
    "                marker=dict(\n",
    "                    size=10,\n",
    "                    color=color,\n",
    "                ),\n",
    "            )\n",
    "        )\n",
    "\n",
    "    def _generate_and_append_data(\n",
    "        self, data: list[list[float]], trajectory: Trajectory, grid: list[Instant]\n",
    "    ) -> None:\n",
    "        for state in trajectory.get_states_at(grid):\n",
    "            lla: LLA = LLA.cartesian(\n",
    "                state.get_position()\n",
    "                .in_frame(Frame.ITRF(), state.get_instant())\n",
    "                .get_coordinates(),\n",
    "                earth.get_equatorial_radius(),\n",
    "                earth.get_flattening(),\n",
    "            )\n",
    "            data.append(\n",
    "                [\n",
    "                    float(lla.get_longitude().in_degrees()),\n",
    "                    float(lla.get_latitude().in_degrees()),\n",
    "                ]\n",
    "            )\n",
    "\n",
    "    def _append_line(\n",
    "        self, df: pd.DataFrame, width: int, rgb: list[int], alpha: float\n",
    "    ) -> None:\n",
    "        self._data.append(\n",
    "            dict(\n",
    "                type=\"scattergeo\",\n",
    "                lon=df[\"Longitude\"],\n",
    "                lat=df[\"Latitude\"],\n",
    "                mode=\"lines\",\n",
    "                line=dict(\n",
    "                    width=width,\n",
    "                    color=f\"rgba({str(rgb[0])},{str(rgb[1])},{str(rgb[2])},{str(alpha)})\",\n",
    "                ),\n",
    "            )\n",
    "        )\n",
    "\n",
    "    def add_satellite(\n",
    "        self,\n",
    "        trajectory: Trajectory,\n",
    "        interference_accesses: list[Access],\n",
    "        rgb: list[int],\n",
    "    ) -> None:\n",
    "        \"\"\"Adds a satellite trajectory to the plot, including a highligh ot the interference\n",
    "        accesses.\n",
    "        \"\"\"\n",
    "\n",
    "        # Satellite trajectory\n",
    "        satellite_trajectory_data: list[list[float]] = []\n",
    "        self._generate_and_append_data(\n",
    "            satellite_trajectory_data, trajectory, self._trajectory_grid\n",
    "        )\n",
    "        satellite_trajectory_df: pd.Dataframe = pd.DataFrame(\n",
    "            satellite_trajectory_data, columns=[\"Longitude\", \"Latitude\"]\n",
    "        )\n",
    "        self._append_line(satellite_trajectory_df, 1, rgb, 0.1)\n",
    "\n",
    "        # Satellite interferences\n",
    "        for interference_access in interference_accesses:\n",
    "            satellite_interference_data: list[list[float]] = []\n",
    "            self._generate_and_append_data(\n",
    "                satellite_interference_data,\n",
    "                trajectory,\n",
    "                interference_access.get_interval().generate_grid(\n",
    "                    self._interference_step\n",
    "                ),\n",
    "            )\n",
    "            satellite_interference_df: pd.Dataframe = pd.DataFrame(\n",
    "                satellite_interference_data, columns=[\"Longitude\", \"Latitude\"]\n",
    "            )\n",
    "            self._append_line(satellite_interference_df, 2, rgb, 1.0)\n",
    "\n",
    "    def show(self):\n",
    "        \"\"\"Displays the figure.\"\"\"\n",
    "        layout = dict(\n",
    "            title=None,\n",
    "            showlegend=False,\n",
    "            height=1000,\n",
    "            geo=dict(\n",
    "                showland=True,\n",
    "                landcolor=\"rgba(243, 243, 243)\",\n",
    "                countrycolor=\"rgb(204, 204, 204)\",\n",
    "            ),\n",
    "        )\n",
    "\n",
    "        figure: go.Figure = go.Figure(data=self._data, layout=layout)\n",
    "        figure.show(\"svg\")"
   ]
  },
  {
   "attachments": {},
   "cell_type": "markdown",
   "id": "98079566-3b37-40dd-88ed-7608aaadc26e",
   "metadata": {},
   "source": [
    "Build the interference plot, with the ground station and time grid configuration."
   ]
  },
  {
   "cell_type": "code",
   "execution_count": 10,
   "id": "6af6f6d8-b783-492c-8477-7fbf3b947478",
   "metadata": {
    "tags": []
   },
   "outputs": [],
   "source": [
    "interference_plot = InterferencePlot(\n",
    "    interval=search_interval,\n",
    "    trajectory_step=Duration.minutes(5.0),\n",
    "    interference_step=Duration.seconds(10.0),\n",
    "    ground_station_lla=ground_station_lla,\n",
    "    color=\"green\",\n",
    ")"
   ]
  },
  {
   "attachments": {},
   "cell_type": "markdown",
   "id": "463a2195-c08f-4201-bf94-d8d2a14a4611",
   "metadata": {},
   "source": [
    "Add both satellite trajectories:"
   ]
  },
  {
   "cell_type": "code",
   "execution_count": 11,
   "id": "7251b4a7-adce-4405-8c94-639c6fbb587c",
   "metadata": {},
   "outputs": [],
   "source": [
    "interference_plot.add_satellite(\n",
    "    trajectory=orbit_1, interference_accesses=interfered_accesses, rgb=[180, 0, 0]\n",
    ")\n",
    "\n",
    "interference_plot.add_satellite(\n",
    "    trajectory=orbit_2, interference_accesses=interfered_accesses, rgb=[0, 0, 180]\n",
    ")"
   ]
  },
  {
   "attachments": {},
   "cell_type": "markdown",
   "id": "df191b47-a9c1-4292-8ea8-a08ed5a47724",
   "metadata": {},
   "source": [
    "Show the plot:"
   ]
  },
  {
   "cell_type": "code",
   "execution_count": 12,
   "id": "bf10b13b-7b6b-483e-96ff-6b84712e5114",
   "metadata": {
    "tags": []
   },
   "outputs": [
    {
     "ename": "TypeError",
     "evalue": "InterferencePlot.show() takes 1 positional argument but 2 were given",
     "output_type": "error",
     "traceback": [
      "\u001b[0;31m---------------------------------------------------------------------------\u001b[0m",
      "\u001b[0;31mTypeError\u001b[0m                                 Traceback (most recent call last)",
      "Cell \u001b[0;32mIn[12], line 1\u001b[0m\n\u001b[0;32m----> 1\u001b[0m \u001b[43minterference_plot\u001b[49m\u001b[38;5;241;43m.\u001b[39;49m\u001b[43mshow\u001b[49m\u001b[43m(\u001b[49m\u001b[38;5;124;43m\"\u001b[39;49m\u001b[38;5;124;43msvg\u001b[39;49m\u001b[38;5;124;43m\"\u001b[39;49m\u001b[43m)\u001b[49m\n",
      "\u001b[0;31mTypeError\u001b[0m: InterferencePlot.show() takes 1 positional argument but 2 were given"
     ]
    }
   ],
   "source": [
    "interference_plot.show(\"svg\")"
   ]
  }
 ],
 "metadata": {
  "kernelspec": {
   "display_name": "Python 3 (ipykernel)",
   "language": "python",
   "name": "python3"
  },
  "language_info": {
   "codemirror_mode": {
    "name": "ipython",
    "version": 3
   },
   "file_extension": ".py",
   "mimetype": "text/x-python",
   "name": "python",
   "nbconvert_exporter": "python",
   "pygments_lexer": "ipython3",
   "version": "3.11.6"
  }
 },
 "nbformat": 4,
 "nbformat_minor": 5
}
